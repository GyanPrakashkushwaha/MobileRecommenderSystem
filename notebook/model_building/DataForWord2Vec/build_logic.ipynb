{
 "cells": [
  {
   "cell_type": "code",
   "execution_count": 76,
   "metadata": {},
   "outputs": [],
   "source": [
    "import pandas as pd\n",
    "import numpy as np\n",
    "import os\n",
    "from typing import Callable # this is to define test_func functions dtype as function itself\n",
    "import re # for regural expression\n",
    "import warnings\n",
    "warnings.filterwarnings('ignore')"
   ]
  },
  {
   "cell_type": "code",
   "execution_count": 77,
   "metadata": {},
   "outputs": [
    {
     "name": "stdout",
     "output_type": "stream",
     "text": [
      "d:\\vscode_machineLearning\\BEST_PROJECTS\\mobileRecommenderSystem\n",
      "d:\\vscode_machineLearning\\BEST_PROJECTS\\mobileRecommenderSystem\n"
     ]
    }
   ],
   "source": [
    "print(os.getcwd())\n",
    "os.chdir(r'd:\\vscode_machineLearning\\BEST_PROJECTS\\mobileRecommenderSystem')\n",
    "print(os.getcwd())"
   ]
  },
  {
   "cell_type": "code",
   "execution_count": 78,
   "metadata": {},
   "outputs": [],
   "source": [
    "mi = pd.read_csv(filepath_or_buffer=r'data\\raw_data\\mi_mobile_new_data.csv',   index_col=False)\n",
    "samsung = pd.read_csv(filepath_or_buffer=r'data\\raw_data\\samsung_mobile_new_data.csv',   index_col=False)\n",
    "apple = pd.read_csv(filepath_or_buffer=r'data\\raw_data\\apple_mobile_new_data.csv',   index_col=False)\n",
    "onePlus = pd.read_csv(filepath_or_buffer=r'data\\raw_data\\one_plus_mobile_new_data.csv',   index_col=False)\n",
    "realme = pd.read_csv(filepath_or_buffer=r'data\\raw_data\\realme_mobile_data.csv',   index_col=False)\n",
    "vivo = pd.read_csv(filepath_or_buffer=r'data\\raw_data\\vivo_mobile_data.csv',   index_col=False)\n",
    "oppo = pd.read_csv(filepath_or_buffer=r'data\\raw_data\\oppo_mobile_data.csv',   index_col=False)\n",
    "motorola = pd.read_csv(filepath_or_buffer=r'data\\raw_data\\motorola_mobile_data.csv',   index_col=False)\n",
    "google = pd.read_csv(filepath_or_buffer=r'data\\raw_data\\google_mobile_data.csv',   index_col=False)\n",
    "techno = pd.read_csv(filepath_or_buffer=r'data\\raw_data\\techno_mobile_data.csv',   index_col=False)\n",
    "infinix = pd.read_csv(filepath_or_buffer=r'data\\raw_data\\infinix_mobile_data.csv',   index_col=False)"
   ]
  },
  {
   "cell_type": "code",
   "execution_count": 79,
   "metadata": {},
   "outputs": [],
   "source": [
    "infinix.rename({'camera':'os_processor','oS_Processor':'camera'},axis=1,inplace=True)\n",
    "# techno.rename({'camera':'os_processor','oS_Processor':'camera'},axis=1,inplace=True)\n",
    "google.rename({'camera':'os_processor','oS_Processor':'camera'},axis=1,inplace=True)\n",
    "motorola.rename({'camera':'os_processor','oS_Processor':'camera'},axis=1,inplace=True)\n",
    "vivo.rename({'camera':'os_processor','oS_Processor':'camera'},axis=1,inplace=True)\n",
    "realme.rename({'camera':'os_processor','oS_Processor':'camera'},axis=1,inplace=True)\n"
   ]
  },
  {
   "cell_type": "code",
   "execution_count": 80,
   "metadata": {},
   "outputs": [],
   "source": [
    "def random_values(col_name:str,df:pd.DataFrame,total=6):\n",
    "    for i in range(0,total):\n",
    "        index = np.random.randint(df.shape[0])\n",
    "        print(index,':',df[col_name].iloc[index])        "
   ]
  },
  {
   "cell_type": "code",
   "execution_count": 81,
   "metadata": {},
   "outputs": [],
   "source": [
    "def test_func(func:Callable ,df:pd.DataFrame,col_name,total_values=8,index=None):\n",
    "    if index != None:\n",
    "        data = df[col_name].iloc[index]\n",
    "        output_of_func = func(data)\n",
    "        print(data)\n",
    "        print('-',output_of_func)\n",
    "        print()\n",
    "        \n",
    "    else:\n",
    "        for i in range(0,total_values):\n",
    "            int_rand = np.random.randint(df.shape[0])\n",
    "            data = df[col_name].iloc[int_rand]\n",
    "            output_of_func = func(data)\n",
    "            print(data,f'::index-{int_rand}')\n",
    "            print('-',output_of_func)\n",
    "            print()"
   ]
  },
  {
   "cell_type": "code",
   "execution_count": 82,
   "metadata": {},
   "outputs": [],
   "source": [
    "dataframes_dict = {\n",
    "    'mi': mi,\n",
    "    'samsung': samsung,\n",
    "    'apple': apple,\n",
    "    'onePlus': onePlus,\n",
    "    'realme': realme,\n",
    "    'vivo': vivo,\n",
    "    'oppo': oppo,\n",
    "    'motorola': motorola,\n",
    "    'techno': techno,\n",
    "    'infinix': infinix\n",
    "}\n"
   ]
  },
  {
   "cell_type": "code",
   "execution_count": 83,
   "metadata": {},
   "outputs": [
    {
     "name": "stdout",
     "output_type": "stream",
     "text": [
      "dataframe is mi \n",
      " 28\n",
      "\n",
      "dataframe is samsung \n",
      " 81\n",
      "\n",
      "dataframe is apple \n",
      " 322\n",
      "\n",
      "dataframe is onePlus \n",
      " 0\n",
      "\n",
      "dataframe is realme \n",
      " 35\n",
      "\n",
      "dataframe is vivo \n",
      " 7\n",
      "\n",
      "dataframe is oppo \n",
      " 0\n",
      "\n",
      "dataframe is motorola \n",
      " 0\n",
      "\n",
      "dataframe is techno \n",
      " 0\n",
      "\n",
      "dataframe is infinix \n",
      " 2\n",
      "\n"
     ]
    }
   ],
   "source": [
    "for key,value in dataframes_dict.items():\n",
    "    print(f'dataframe is {key} \\n {sum(value.isnull().sum())}')\n",
    "    print()"
   ]
  },
  {
   "cell_type": "code",
   "execution_count": 84,
   "metadata": {},
   "outputs": [],
   "source": [
    "mi.dropna(inplace=True)\n",
    "realme.dropna(inplace=True)\n",
    "vivo.dropna(inplace=True)\n",
    "infinix.dropna(inplace=True)\n",
    "samsung.dropna(inplace=True)"
   ]
  },
  {
   "cell_type": "code",
   "execution_count": 85,
   "metadata": {},
   "outputs": [
    {
     "data": {
      "text/html": [
       "<div>\n",
       "<style scoped>\n",
       "    .dataframe tbody tr th:only-of-type {\n",
       "        vertical-align: middle;\n",
       "    }\n",
       "\n",
       "    .dataframe tbody tr th {\n",
       "        vertical-align: top;\n",
       "    }\n",
       "\n",
       "    .dataframe thead th {\n",
       "        text-align: right;\n",
       "    }\n",
       "</style>\n",
       "<table border=\"1\" class=\"dataframe\">\n",
       "  <thead>\n",
       "    <tr style=\"text-align: right;\">\n",
       "      <th></th>\n",
       "      <th>name</th>\n",
       "      <th>ratings</th>\n",
       "      <th>price</th>\n",
       "      <th>imgURL</th>\n",
       "      <th>storage_ram</th>\n",
       "      <th>os_processor</th>\n",
       "      <th>camera</th>\n",
       "      <th>display</th>\n",
       "      <th>network</th>\n",
       "      <th>battery</th>\n",
       "    </tr>\n",
       "  </thead>\n",
       "  <tbody>\n",
       "  </tbody>\n",
       "</table>\n",
       "</div>"
      ],
      "text/plain": [
       "Empty DataFrame\n",
       "Columns: [name, ratings, price, imgURL, storage_ram, os_processor, camera, display, network, battery]\n",
       "Index: []"
      ]
     },
     "execution_count": 85,
     "metadata": {},
     "output_type": "execute_result"
    }
   ],
   "source": [
    "oppo[oppo['ratings'].isnull() ==True]"
   ]
  },
  {
   "cell_type": "code",
   "execution_count": 86,
   "metadata": {},
   "outputs": [
    {
     "name": "stdout",
     "output_type": "stream",
     "text": [
      "dataframe is mi \n",
      " 0\n",
      "\n",
      "dataframe is samsung \n",
      " 0\n",
      "\n",
      "dataframe is apple \n",
      " 322\n",
      "\n",
      "dataframe is onePlus \n",
      " 0\n",
      "\n",
      "dataframe is realme \n",
      " 0\n",
      "\n",
      "dataframe is vivo \n",
      " 0\n",
      "\n",
      "dataframe is oppo \n",
      " 0\n",
      "\n",
      "dataframe is motorola \n",
      " 0\n",
      "\n",
      "dataframe is techno \n",
      " 0\n",
      "\n",
      "dataframe is infinix \n",
      " 0\n",
      "\n"
     ]
    }
   ],
   "source": [
    "for key,value in dataframes_dict.items():\n",
    "    print(f'dataframe is {key} \\n {sum(value.isnull().sum())}')\n",
    "    print()"
   ]
  },
  {
   "cell_type": "code",
   "execution_count": 87,
   "metadata": {},
   "outputs": [
    {
     "data": {
      "text/plain": [
       "name            0\n",
       "ratings         0\n",
       "price           0\n",
       "imgURL          0\n",
       "storage_ram     0\n",
       "os_processor    0\n",
       "camera          0\n",
       "display         0\n",
       "network         0\n",
       "battery         0\n",
       "dtype: int64"
      ]
     },
     "execution_count": 87,
     "metadata": {},
     "output_type": "execute_result"
    }
   ],
   "source": [
    "mi.isnull().sum()"
   ]
  },
  {
   "cell_type": "code",
   "execution_count": 88,
   "metadata": {},
   "outputs": [],
   "source": [
    "mi.dropna(inplace=True)"
   ]
  },
  {
   "cell_type": "code",
   "execution_count": 89,
   "metadata": {},
   "outputs": [
    {
     "data": {
      "text/plain": [
       "name            0\n",
       "ratings         0\n",
       "price           0\n",
       "imgURL          0\n",
       "storage_ram     0\n",
       "os_processor    0\n",
       "camera          0\n",
       "display         0\n",
       "network         0\n",
       "battery         0\n",
       "dtype: int64"
      ]
     },
     "execution_count": 89,
     "metadata": {},
     "output_type": "execute_result"
    }
   ],
   "source": [
    "mi.isnull().sum()"
   ]
  },
  {
   "cell_type": "code",
   "execution_count": 90,
   "metadata": {},
   "outputs": [
    {
     "name": "stdout",
     "output_type": "stream",
     "text": [
      "273 : ₹14,889\n",
      "97 : ₹22,490\n",
      "382 : ₹8,999\n",
      "308 : ₹10,999\n",
      "319 : ₹10,300\n",
      "474 : ₹14,999\n"
     ]
    }
   ],
   "source": [
    "random_values('price',mi)"
   ]
  },
  {
   "cell_type": "markdown",
   "metadata": {},
   "source": [
    "# Price"
   ]
  },
  {
   "cell_type": "code",
   "execution_count": 91,
   "metadata": {},
   "outputs": [],
   "source": [
    "def clean_price_col(dataframe:pd.DataFrame):\n",
    "    dataframe.reset_index(inplace=True)\n",
    "    for Index,i in enumerate(dataframe['price']):\n",
    "        i = str(i).replace('₹','')\n",
    "        i = str(i).replace(',','')\n",
    "        dataframe['price'][Index] = i\n",
    "\n",
    "    dataframe['price'] = dataframe['price'].astype('Int16')\n",
    "    dataframe['price'] = dataframe['price'].abs()  \n",
    "\n",
    "    show = f'datatype -{dataframe[\"price\"].dtype}'   \n",
    "    return show"
   ]
  },
  {
   "cell_type": "code",
   "execution_count": 92,
   "metadata": {},
   "outputs": [],
   "source": [
    "dataframes_list = [mi, samsung, apple, onePlus, realme, vivo, oppo, motorola, google, techno, infinix]\n"
   ]
  },
  {
   "cell_type": "code",
   "execution_count": 93,
   "metadata": {},
   "outputs": [],
   "source": [
    "def apply(func:Callable,col_name,df:pd.DataFrame):\n",
    "    df[col_name] = df[col_name].apply(func)"
   ]
  },
  {
   "cell_type": "markdown",
   "metadata": {},
   "source": [
    "### Storage_ram"
   ]
  },
  {
   "cell_type": "code",
   "execution_count": 94,
   "metadata": {},
   "outputs": [
    {
     "name": "stdout",
     "output_type": "stream",
     "text": [
      "42 : Internal Storage64 GBRAM4 GBMemory Card Slot TypeDedicated Slot\n",
      "498 : Internal Storage128 GBRAM6 GBExpandable Storage512 GBSupported Memory Card TypeMicroSDMemory Card Slot TypeDedicated Slot\n",
      "383 : Internal Storage64 GBRAM4 GBExpandable Storage512 GBSupported Memory Card TypemicroSDMemory Card Slot TypeDedicated Slot\n",
      "475 : Internal Storage64 GBRAM4 GBMemory Card Slot TypeDedicated Slot\n",
      "174 : Internal Storage128 GBRAM6 GBExpandable Storage512 GBMemory Card Slot TypeDedicated SlotCall Log MemoryYes\n",
      "180 : Internal Storage64 GBRAM6 GBExpandable Storage1 TBSupported Memory Card TypeMicroSDMemory Card Slot TypeDedicated SlotCall Log MemoryYes\n"
     ]
    }
   ],
   "source": [
    "random_values('storage_ram',mi)"
   ]
  },
  {
   "cell_type": "code",
   "execution_count": 95,
   "metadata": {},
   "outputs": [],
   "source": [
    "def remove_internal(txt):\n",
    "    return txt.replace('Internal','')"
   ]
  },
  {
   "cell_type": "code",
   "execution_count": 96,
   "metadata": {},
   "outputs": [
    {
     "data": {
      "text/plain": [
       "'Internal Storage128 GBRAM6 GBExpandable Storage1 TBSupported Memory Card TypemicroSDMemory Card Slot TypeHybrid SlotCall Log MemoryYes'"
      ]
     },
     "execution_count": 96,
     "metadata": {},
     "output_type": "execute_result"
    }
   ],
   "source": [
    "mi['storage_ram'][1]"
   ]
  },
  {
   "cell_type": "code",
   "execution_count": 97,
   "metadata": {},
   "outputs": [
    {
     "name": "stdout",
     "output_type": "stream",
     "text": [
      "Internal Storage128 GBRAM6 GBExpandable Storage1 TBSupported Memory Card TypemicroSDMemory Card Slot TypeHybrid SlotCall Log MemoryYes\n",
      "-  Storage128 GBRAM6 GBExpandable Storage1 TBSupported Memory Card TypemicroSDMemory Card Slot TypeHybrid SlotCall Log MemoryYes\n",
      "\n"
     ]
    }
   ],
   "source": [
    "test_func(func=remove_internal,df=mi,col_name='storage_ram',index=1)"
   ]
  },
  {
   "cell_type": "code",
   "execution_count": 98,
   "metadata": {},
   "outputs": [
    {
     "name": "stdout",
     "output_type": "stream",
     "text": [
      "Internal Storage128 GBRAM6 GBMemory Card Slot TypeHybrid Slot ::index-60\n",
      "-  Storage128 GBRAM6 GBMemory Card Slot TypeHybrid Slot\n",
      "\n",
      "Internal Storage16 GBRAM2 GBExpandable Storage128 GBSupported Memory Card TypeMicroSDMemory Card Slot TypeHybrid SlotCall Log MemoryYes ::index-432\n",
      "-  Storage16 GBRAM2 GBExpandable Storage128 GBSupported Memory Card TypeMicroSDMemory Card Slot TypeHybrid SlotCall Log MemoryYes\n",
      "\n",
      "Internal Storage64 GBRAM6 GBMemory Card Slot TypeHybrid Slot ::index-415\n",
      "-  Storage64 GBRAM6 GBMemory Card Slot TypeHybrid Slot\n",
      "\n",
      "Internal Storage32 GBRAM3 GBExpandable Storage128 GBSupported Memory Card TypemicroSDMemory Card Slot TypeHybrid Slot ::index-83\n",
      "-  Storage32 GBRAM3 GBExpandable Storage128 GBSupported Memory Card TypemicroSDMemory Card Slot TypeHybrid Slot\n",
      "\n",
      "Internal Storage128 GBRAM6 GBExpandable Storage512 GBSupported Memory Card TypemicroSDMemory Card Slot TypeDedicated SlotCall Log MemoryYes ::index-262\n",
      "-  Storage128 GBRAM6 GBExpandable Storage512 GBSupported Memory Card TypemicroSDMemory Card Slot TypeDedicated SlotCall Log MemoryYes\n",
      "\n",
      "Internal Storage16 GBRAM2 GBExpandable Storage256 GBSupported Memory Card TypemicroSDMemory Card Slot TypeDedicated Slot ::index-85\n",
      "-  Storage16 GBRAM2 GBExpandable Storage256 GBSupported Memory Card TypemicroSDMemory Card Slot TypeDedicated Slot\n",
      "\n",
      "Internal Storage64 GBRAM6 GBMemory Card Slot TypeHybrid Slot ::index-429\n",
      "-  Storage64 GBRAM6 GBMemory Card Slot TypeHybrid Slot\n",
      "\n",
      "Internal Storage64 GBRAM4 GBExpandable Storage256 GBSupported Memory Card TypemicroSDMemory Card Slot TypeDedicated Slot ::index-476\n",
      "-  Storage64 GBRAM4 GBExpandable Storage256 GBSupported Memory Card TypemicroSDMemory Card Slot TypeDedicated Slot\n",
      "\n"
     ]
    }
   ],
   "source": [
    "test_func(func=remove_internal,df=mi,col_name='storage_ram')"
   ]
  },
  {
   "cell_type": "markdown",
   "metadata": {},
   "source": [
    "### Removed Internernal word from storage_ram"
   ]
  },
  {
   "cell_type": "code",
   "execution_count": 99,
   "metadata": {},
   "outputs": [],
   "source": [
    "mi['storage_ram'] = mi['storage_ram'].apply(remove_internal)"
   ]
  },
  {
   "cell_type": "code",
   "execution_count": 100,
   "metadata": {},
   "outputs": [
    {
     "name": "stdout",
     "output_type": "stream",
     "text": [
      "458 :  Storage128 GBRAM8 GBMemory Card Slot TypeHybrid Slot\n",
      "451 :  Storage64 GBRAM4 GBExpandable Storage512 GBSupported Memory Card TypemicroSDMemory Card Slot TypeDedicated Slot\n",
      "319 :  Storage64 GBRAM4 GBExpandable Storage512 GBSupported Memory Card TypemicroSDMemory Card Slot TypeDedicated SlotCall Log MemoryYes\n",
      "348 :  Storage64 GBRAM4 GBExpandable Storage512 GBSupported Memory Card TypemicroSDMemory Card Slot TypeDedicated SlotCall Log MemoryYes\n",
      "90 :  Storage128 GBRAM6 GBMemory Card Slot TypeHybrid Slot\n",
      "368 :  Storage64 GBRAM4 GBExpandable Storage512 GBSupported Memory Card TypemicroSDMemory Card Slot TypeDedicated Slot\n"
     ]
    }
   ],
   "source": [
    "random_values('storage_ram',mi)"
   ]
  },
  {
   "cell_type": "code",
   "execution_count": 101,
   "metadata": {},
   "outputs": [
    {
     "data": {
      "text/plain": [
       "['Storage128',\n",
       " 'GBRAM6',\n",
       " 'GBExpandable',\n",
       " 'Storage1',\n",
       " 'TBSupported',\n",
       " 'Memory',\n",
       " 'Card',\n",
       " 'TypemicroSDMemory',\n",
       " 'Card',\n",
       " 'Slot',\n",
       " 'TypeHybrid',\n",
       " 'SlotCall',\n",
       " 'Log',\n",
       " 'MemoryYes']"
      ]
     },
     "execution_count": 101,
     "metadata": {},
     "output_type": "execute_result"
    }
   ],
   "source": [
    "lst = [i for i in mi['storage_ram'][3].split()]\n",
    "lst"
   ]
  },
  {
   "cell_type": "code",
   "execution_count": 102,
   "metadata": {},
   "outputs": [
    {
     "data": {
      "text/plain": [
       "['Storage128', 'GBRAM6', 'GBExpandable', 'Storage1', 'TBSupported']"
      ]
     },
     "execution_count": 102,
     "metadata": {},
     "output_type": "execute_result"
    }
   ],
   "source": [
    "lst[:5]\n"
   ]
  },
  {
   "cell_type": "code",
   "execution_count": 103,
   "metadata": {},
   "outputs": [
    {
     "data": {
      "text/plain": [
       "['Storage128', 'GBRAM6', 'GBExpandable']"
      ]
     },
     "execution_count": 103,
     "metadata": {},
     "output_type": "execute_result"
    }
   ],
   "source": [
    "lst[:3]\n"
   ]
  },
  {
   "cell_type": "code",
   "execution_count": 104,
   "metadata": {},
   "outputs": [
    {
     "name": "stdout",
     "output_type": "stream",
     "text": [
      "129 :  Storage128 GBRAM6 GB\n",
      "377 :  Storage64 GBRAM4 GBExpandable Storage512 GBSupported Memory Card TypemicroSDMemory Card Slot TypeDedicated Slot\n",
      "319 :  Storage64 GBRAM4 GBExpandable Storage512 GBSupported Memory Card TypemicroSDMemory Card Slot TypeDedicated SlotCall Log MemoryYes\n",
      "34 :  Storage128 GBRAM8 GB\n",
      "503 :  Storage16 GBRAM2 GBExpandable Storage32 GBSupported Memory Card TypeMicroSDPhone Book MemoryYesCall Log MemoryYesSMS MemoryYes\n",
      "438 :  Storage128 GBRAM8 GBTotal Memory128 GBExpandable Storage1 TBSupported Memory Card TypeMicroSDMemory Card Slot TypeHybrid SlotCall Log MemoryYes\n"
     ]
    }
   ],
   "source": [
    "random_values('storage_ram',mi)"
   ]
  },
  {
   "cell_type": "code",
   "execution_count": 105,
   "metadata": {},
   "outputs": [],
   "source": [
    "## Going to remove 'Storage32 GBRAM2 GBExpandable Storage128' words after this.....\n",
    "def cut_remove_words(txt):\n",
    "    split = txt.split()\n",
    "    if 'GBExpandable' in split:\n",
    "        string = split[:5]\n",
    "        extract_GB_TB = string[-1]\n",
    "        pattern = r'[TB]+|[GB]+'\n",
    "        found = re.findall(pattern,extract_GB_TB)\n",
    "\n",
    "        final_string = ' '.join(string[:4]) + found[0]\n",
    "\n",
    "        return final_string\n",
    "    else:\n",
    "        return ' '.join(split[:2])"
   ]
  },
  {
   "cell_type": "code",
   "execution_count": 106,
   "metadata": {},
   "outputs": [
    {
     "name": "stdout",
     "output_type": "stream",
     "text": [
      " Storage64 GBRAM6 GBMemory Card Slot TypeDedicated Slot ::index-268\n",
      "- Storage64 GBRAM6\n",
      "\n",
      " Storage64 GBRAM4 GBMemory Card Slot TypeDedicated Slot ::index-372\n",
      "- Storage64 GBRAM4\n",
      "\n",
      " Storage128 GBRAM8 GBMemory Card Slot TypeHybrid Slot ::index-87\n",
      "- Storage128 GBRAM8\n",
      "\n",
      " Storage128 GBRAM6 GBMemory Card Slot TypeHybrid Slot ::index-212\n",
      "- Storage128 GBRAM6\n",
      "\n",
      " Storage256 GBRAM8 GBMemory Card Slot TypeDedicated Slot ::index-465\n",
      "- Storage256 GBRAM8\n",
      "\n",
      " Storage32 GBRAM3 GBExpandable Storage256 GBSupported Memory Card TypemicroSDMemory Card Slot TypeDedicated Slot ::index-41\n",
      "- Storage32 GBRAM3 GBExpandable Storage256GB\n",
      "\n",
      " Storage64 GBRAM6 GBMemory Card Slot TypeHybrid Slot ::index-277\n",
      "- Storage64 GBRAM6\n",
      "\n",
      " Storage128 GBRAM8 GBTotal Memory128 GBExpandable Storage1 TBSupported Memory Card TypeMicroSDMemory Card Slot TypeHybrid SlotCall Log MemoryYes ::index-512\n",
      "- Storage128 GBRAM8 GBTotal Memory128GB\n",
      "\n"
     ]
    }
   ],
   "source": [
    "test_func(func=cut_remove_words,df=mi,col_name='storage_ram')"
   ]
  },
  {
   "cell_type": "code",
   "execution_count": 107,
   "metadata": {},
   "outputs": [],
   "source": [
    "mi['storage_ram'] = mi['storage_ram'].apply(func=cut_remove_words)"
   ]
  },
  {
   "cell_type": "code",
   "execution_count": 108,
   "metadata": {},
   "outputs": [
    {
     "name": "stdout",
     "output_type": "stream",
     "text": [
      "66 : Storage256 GBRAM12\n",
      "198 : Storage128 GBRAM6\n",
      "113 : Storage64 GBRAM4 GBExpandable Storage256GB\n",
      "271 : Storage64 GBRAM4\n",
      "110 : Storage64 GBRAM4 GBExpandable Storage256GB\n",
      "206 : Storage64 GBRAM4 GBExpandable Storage1TB\n"
     ]
    }
   ],
   "source": [
    "random_values('storage_ram',mi)"
   ]
  },
  {
   "cell_type": "code",
   "execution_count": 109,
   "metadata": {},
   "outputs": [
    {
     "name": "stdout",
     "output_type": "stream",
     "text": [
      "Storage256 GBRAM8 ::index-442\n",
      "- Storage256 GBRAM8\n",
      "\n",
      "Storage64 GBRAM4 GBExpandable Storage512GB ::index-191\n",
      "- Storage64 GBRAM4 GBExpandable Storage512GBGB\n",
      "\n",
      "Storage128 GBRAM6 GBExpandable Storage512GB ::index-404\n",
      "- Storage128 GBRAM6 GBExpandable Storage512GBGB\n",
      "\n",
      "Storage256 GBRAM8 ::index-213\n",
      "- Storage256 GBRAM8\n",
      "\n",
      "Storage16 GBRAM2 ::index-506\n",
      "- Storage16 GBRAM2\n",
      "\n",
      "Storage128 GBRAM6 GBExpandable Storage512GB ::index-303\n",
      "- Storage128 GBRAM6 GBExpandable Storage512GBGB\n",
      "\n",
      "Storage64 GBRAM4 GBExpandable Storage512GB ::index-154\n",
      "- Storage64 GBRAM4 GBExpandable Storage512GBGB\n",
      "\n",
      "Storage64 GBRAM4 GBExpandable Storage512GB ::index-67\n",
      "- Storage64 GBRAM4 GBExpandable Storage512GBGB\n",
      "\n"
     ]
    }
   ],
   "source": [
    "test_func(func=cut_remove_words,df=mi,col_name='storage_ram')"
   ]
  },
  {
   "cell_type": "code",
   "execution_count": 110,
   "metadata": {},
   "outputs": [
    {
     "name": "stdout",
     "output_type": "stream",
     "text": [
      "Index(['name', 'ratings', 'price', 'imgURL', 'storage_ram', 'os_processor',\n",
      "       'camera', 'display', 'network', 'battery'],\n",
      "      dtype='object')\n",
      "Index(['name', 'ratings', 'price', 'imgURL', 'storage_ram', 'os_processor',\n",
      "       'camera', 'display', 'network', 'battery'],\n",
      "      dtype='object')\n",
      "Index(['name', 'ratings', 'price', 'imgURL', 'storage_ram', 'os_processor',\n",
      "       'camera', 'display', 'network', 'battery'],\n",
      "      dtype='object')\n",
      "Index(['name', 'ratings', 'price', 'imgURL', 'storage_ram', 'os_processor',\n",
      "       'camera', 'display', 'network', 'battery'],\n",
      "      dtype='object')\n",
      "Index(['name', 'ratings', 'price', 'imgURL', 'storage_ram', 'os_processor',\n",
      "       'camera', 'display', 'network', 'battery'],\n",
      "      dtype='object')\n",
      "Index(['name', 'ratings', 'price', 'imgURL', 'storage_ram', 'os_processor',\n",
      "       'camera', 'display', 'network', 'battery'],\n",
      "      dtype='object')\n",
      "Index(['name', 'ratings', 'price', 'imgURL', 'storage_ram', 'os_processor',\n",
      "       'camera', 'display', 'network', 'battery'],\n",
      "      dtype='object')\n",
      "Index(['name', 'ratings', 'price', 'imgURL', 'storage_ram', 'os_processor',\n",
      "       'camera', 'display', 'network', 'battery'],\n",
      "      dtype='object')\n",
      "Index(['name', 'ratings', 'price', 'imgURL', 'storage_ram', 'os_processor',\n",
      "       'camera', 'display', 'network', 'battery'],\n",
      "      dtype='object')\n",
      "Index(['name', 'ratings', 'price', 'imgURL', 'storage_ram', 'os_processor',\n",
      "       'camera', 'display', 'network', 'battery'],\n",
      "      dtype='object')\n",
      "Index(['name', 'ratings', 'price', 'imgURL', 'storage_ram', 'os_processor',\n",
      "       'camera', 'display', 'network', 'battery'],\n",
      "      dtype='object')\n"
     ]
    }
   ],
   "source": [
    "for i in dataframes_list:\n",
    "    print(i.columns)"
   ]
  },
  {
   "cell_type": "code",
   "execution_count": 111,
   "metadata": {},
   "outputs": [
    {
     "name": "stdout",
     "output_type": "stream",
     "text": [
      "Storage32 GBRAM2 ::index-344\n",
      "- Storage32 GBRAM2\n",
      "\n",
      "Storage128 GBRAM6 ::index-122\n",
      "- Storage128 GBRAM6\n",
      "\n",
      "Storage128 GBRAM6 ::index-304\n",
      "- Storage128 GBRAM6\n",
      "\n",
      "Storage128 GBRAM8 ::index-9\n",
      "- Storage128 GBRAM8\n",
      "\n",
      "Storage128 GBRAM6 ::index-200\n",
      "- Storage128 GBRAM6\n",
      "\n",
      "Storage32 GBRAM2 ::index-474\n",
      "- Storage32 GBRAM2\n",
      "\n",
      "Storage64 GBRAM4 GBExpandable Storage1TB ::index-242\n",
      "- Storage64 GBRAM4 GBExpandable Storage1TBTB\n",
      "\n",
      "Storage32 GBRAM3 GBExpandable Storage256GB ::index-163\n",
      "- Storage32 GBRAM3 GBExpandable Storage256GBGB\n",
      "\n"
     ]
    }
   ],
   "source": [
    "test_func(func=cut_remove_words,df=mi,col_name='storage_ram')"
   ]
  },
  {
   "cell_type": "code",
   "execution_count": 112,
   "metadata": {},
   "outputs": [],
   "source": [
    "apply(func=remove_internal,col_name='storage_ram',df=realme)"
   ]
  },
  {
   "cell_type": "code",
   "execution_count": 113,
   "metadata": {},
   "outputs": [
    {
     "name": "stdout",
     "output_type": "stream",
     "text": [
      " Storage64 GBRAM4 GBExpandable Storage1 TBSupported Memory Card TypeMicroSDMemory Card Slot TypeDedicated Slot ::index-12\n",
      "- Storage64 GBRAM4 GBExpandable Storage1TB\n",
      "\n",
      " Storage32 GBRAM2 GBExpandable Storage256 GBMemory Card Slot TypeDedicated Slot ::index-228\n",
      "- Storage32 GBRAM2 GBExpandable Storage256GB\n",
      "\n",
      " Storage64 GBRAM3 GBExpandable Storage256 GBSupported Memory Card TypemicroSDMemory Card Slot TypeDedicated Slot ::index-200\n",
      "- Storage64 GBRAM3 GBExpandable Storage256GB\n",
      "\n",
      " Storage64 GBRAM4 GB ::index-62\n",
      "- Storage64 GBRAM4\n",
      "\n",
      " Storage64 GBRAM4 GBMemory Card Slot TypeDedicated SlotCall Log MemoryYes ::index-50\n",
      "- Storage64 GBRAM4\n",
      "\n",
      " Storage64 GBRAM6 GBExpandable Storage1 TBSupported Memory Card TypeMicroSDMemory Card Slot TypeDedicated Slot ::index-15\n",
      "- Storage64 GBRAM6 GBExpandable Storage1TB\n",
      "\n",
      " Storage64 GBRAM4 GBExpandable Storage1 TBSupported Memory Card TypeMicroSDMemory Card Slot TypeDedicated Slot ::index-208\n",
      "- Storage64 GBRAM4 GBExpandable Storage1TB\n",
      "\n",
      " Storage64 GBRAM4 GBExpandable Storage1 TBSupported Memory Card TypeMicroSDMemory Card Slot TypeDedicated Slot ::index-75\n",
      "- Storage64 GBRAM4 GBExpandable Storage1TB\n",
      "\n"
     ]
    }
   ],
   "source": [
    "test_func(func=cut_remove_words,df=realme,col_name='storage_ram')"
   ]
  },
  {
   "cell_type": "code",
   "execution_count": 114,
   "metadata": {},
   "outputs": [],
   "source": [
    "apply(func=remove_internal,col_name='storage_ram',df=apple)"
   ]
  },
  {
   "cell_type": "code",
   "execution_count": 115,
   "metadata": {},
   "outputs": [
    {
     "name": "stdout",
     "output_type": "stream",
     "text": [
      " Storage1 TB ::index-95\n",
      "- Storage1 TB\n",
      "\n",
      " Storage256 GB ::index-113\n",
      "- Storage256 GB\n",
      "\n",
      " Storage128 GB ::index-142\n",
      "- Storage128 GB\n",
      "\n",
      " Storage32 GBPhone Book MemoryYesCall Log MemoryYesSMS MemoryYes ::index-222\n",
      "- Storage32 GBPhone\n",
      "\n",
      " Storage64 GB ::index-246\n",
      "- Storage64 GB\n",
      "\n",
      " Storage256 GB ::index-118\n",
      "- Storage256 GB\n",
      "\n",
      " Storage256 GBRAM8 GBSupported Memory Card TypeMIcroSDMemory Card Slot TypeDedicated SlotCall Log MemoryYes ::index-378\n",
      "- Storage256 GBRAM8\n",
      "\n",
      " Storage128 GB ::index-46\n",
      "- Storage128 GB\n",
      "\n"
     ]
    }
   ],
   "source": [
    "test_func(func=cut_remove_words,df=apple,col_name='storage_ram')"
   ]
  },
  {
   "cell_type": "markdown",
   "metadata": {},
   "source": [
    "## changing oS_Processor to os_processor😎"
   ]
  },
  {
   "cell_type": "code",
   "execution_count": 116,
   "metadata": {},
   "outputs": [],
   "source": [
    "# dataframes_list"
   ]
  },
  {
   "cell_type": "code",
   "execution_count": 117,
   "metadata": {},
   "outputs": [],
   "source": [
    "for i in dataframes_list:\n",
    "    for j in i.columns:\n",
    "        if 'oS_Processor' == j:\n",
    "            i.rename(columns={'oS_Processor':'os_processor'},inplace=True)\n",
    "        # print(j)"
   ]
  },
  {
   "cell_type": "code",
   "execution_count": null,
   "metadata": {},
   "outputs": [],
   "source": []
  },
  {
   "cell_type": "code",
   "execution_count": 118,
   "metadata": {},
   "outputs": [],
   "source": [
    "def remove_operating(txt):\n",
    "    return txt.replace('Operating','')"
   ]
  },
  {
   "cell_type": "markdown",
   "metadata": {},
   "source": [
    "## os_processor"
   ]
  },
  {
   "cell_type": "code",
   "execution_count": 119,
   "metadata": {},
   "outputs": [
    {
     "name": "stdout",
     "output_type": "stream",
     "text": [
      "26 : Operating SystemAndroid 11Processor TypeQualcomm Snapdragon 778GProcessor CoreOcta CorePrimary Clock Speed2.4 GHzSecondary Clock Speed1.8 GHz\n",
      "236 : Operating SystemAndroid Q 11Processor CoreOcta CorePrimary Clock Speed90 MHz\n",
      "56 : Operating SystemAndroid Q 10Processor CoreOcta CorePrimary Clock Speed2 GHz\n",
      "190 : Operating SystemAndroid 12Processor TypeQualcomm Snapdragon 4 Gen 1Processor CoreOcta CorePrimary Clock Speed2 GHzSecondary Clock Speed1.8 GHzOperating Frequency2G GSM: B2/B3/B5/B8, 3G WCDMA: B1/B5/B8, 4G LTE TDD: B40/B41, 4G LTE FDD: B1/B3/B5/B8, 5G SA: n1/n3/n5/n8/n28/n40/n78, 5G NSA: n1/n3/n40/n78\n",
      "95 : Operating SystemAndroid Q 11Primary Clock Speed2.4 GHz\n",
      "435 : Operating SystemAndroid 11Processor CoreOcta CorePrimary Clock Speed2 GHz\n",
      "None\n",
      "456 : Operating SystemAndroid Pie 9.0Processor TypeExynos 9611Processor CoreOcta CorePrimary Clock Speed2.3 GHz\n",
      "422 : Operating SystemAndroid 11Processor TypeMediaTek Helio G80 (MT6769V)Processor CoreOcta CorePrimary Clock Speed2 GHzSecondary Clock Speed1.8 GHz\n",
      "418 : Operating SystemAndroid Android 11Processor TypeDimensity 720 5GProcessor CoreOcta CorePrimary Clock Speed2 GHzSecondary Clock Speed2 GHz\n",
      "274 : Operating SystemAndroid Android 13.0Processor CoreOcta CorePrimary Clock Speed2.4 GHz\n",
      "378 : Operating SystemAndroid Lollipop 5.1Processor TypeQualcomm Snapdragon 410 Quad Core 1.2GHzProcessor CoreQuad CorePrimary Clock Speed1.2 GHzOperating FrequencyGSM - 850, 900, 1800, 1900; WCDMA - 850, 900, 1900, 2100; 4G LTE - 800, 850, 900, 1800, 2100\n",
      "416 : Operating SystemAndroid 12Processor CoreOcta CorePrimary Clock Speed2.9 GHz\n",
      "None\n",
      "122 : Operating SystemiOS 12Processor TypeA12 Bionic Chip\n",
      "83 : Operating SystemiOS 16Processor TypeA15 Bionic Chip, 6 Core ProcessorProcessor CoreHexa CoreOperating Frequency5G NR (Bands n1, n2, n3, n5, n7, n8, n12, n20, n25, n26, n28, n30, n38, n40, n41, n48, n53, n66, n70, n77, n78, n79), 4G FDD-LTE (B1, B2, B3, B4, B5, B7, B8, B12, B13, B17, B18, B19, B20, B25, B26, B28, B30, B32, B66), 4G TD-LTE (B34, B38, B39, B40, B41, B42, B46, B48, B53), 3G UMTS/HSPA+/DC-HSDPA (850, 900, 1700/2100, 1900, 2100 MHz), 2G GSM/EDGE (850, 900, 1800, 1900 MHz)\n",
      "274 : Operating SystemiOS 9Processor TypeA9 Chip with 64-bit Architecture and M9 Motion Co-processorProcessor CoreDual CorePrimary Clock Speed1.84 GHzOperating FrequencyGSM - 850, 900, 1800, 1900; UMTS - 850, 900, 1700, 1900, 2100; 4G LTE (TD) - Band 38/39/40/41\n",
      "35 : Operating SystemiOS 15Processor TypeA15 Bionic ChipProcessor CoreHexa CoreOperating Frequency2G GSM/EDGE: 850, 900, 1800, 1900 MHz, 3G UMTS/HSPA+/DC-HSDPA: 850, 900, 1700/2100, 1900, 2100 MHz, 4G TD-LTE: Bands 34, 38, 39, 40, 41, 42, 46, 48, 4G FDD-LTE: Bands 1, 2, 3, 4, 5, 7, 8, 12, 13, 17, 18, 19, 20, 25, 26, 28, 30, 32, 66, 5G NR: Bands n1, n2, n3, n5, n7, n8, n12, n20, n25, n28, n30, n38, n40, n41, n48, n66, n77, n78, n79\n",
      "241 : Operating SystemiOS 13Processor TypeA13 Bionic Chip\n",
      "201 : Operating SystemiOS 13Processor TypeA13 Bionic Chip\n",
      "None\n",
      "72 : Operating SystemAndroid 10Processor TypeQualcomm Snapdragon 865Processor CoreOcta CorePrimary Clock Speed2.86 GHz\n",
      "94 : Operating SystemAndroid 13Processor CoreOcta CorePrimary Clock Speed2.4 GHz\n",
      "110 : Operating SystemAndroid Pie 10Processor TypeQualcomm Snapdragon 865Processor CoreOcta CorePrimary Clock Speed2.84 GHz\n",
      "73 : Operating SystemAndroid Oreo 10Processor TypeQualcomm Snapdragon 865Processor CoreOcta CorePrimary Clock Speed2.86 GHz\n",
      "58 : Operating SystemAndroid Pie 10Processor TypeQualcomm® Snapdragon™ 855 PlusProcessor CoreOcta CorePrimary Clock Speed2.9 GHzOperating Frequency855\n",
      "108 : Operating SystemAndroid Pie 10Processor TypeQualcomm Snapdragon 865Processor CoreOcta CorePrimary Clock Speed2.84 GHz\n",
      "None\n",
      "76 : Operating SystemAndroid 11Processor TypeUnisoc Tiger T616Processor CoreOcta CorePrimary Clock Speed2 GHzSecondary Clock Speed1.8 GHzOperating Frequency2G GSM: 850/900/1800/1900 MHz, 3G WCDMA: 850/900/2100 MHz, 4G FDD-LTE: B1/B3/B5/B8, 4G TD-LTE: B38/B40/B41 (2535 - 2655 MHz)\n",
      "68 : Operating SystemAndroid 11Processor TypeOcta-coreProcessor CoreOcta CorePrimary Clock Speed1.6 GHzSecondary Clock Speed1.2 GHzOperating Frequency2G GSM: 850/900/1800/1900 MHz, 3G WCDMA: 850/900/2100 MHz, 4G FDD-LTE: B1/B3/B5/B8, 4G TD-LTE: B38/B40/B41 (2535 - 2655 MHz)\n",
      "215 : Operating SystemAndroid 11Processor TypeUnisoc T610Processor CoreOcta CorePrimary Clock Speed1.8 GHzSecondary Clock Speed1.8 GHzOperating Frequency2G GSM: 850/900/1800/1900MHz, 3G WCDMA: B1/B5/B8, 4G FDD-LTE: B1/B3/B5/B8, 4G TD-LTE: B38/B40/B41\n",
      "76 : Operating SystemAndroid 11Processor TypeUnisoc Tiger T616Processor CoreOcta CorePrimary Clock Speed2 GHzSecondary Clock Speed1.8 GHzOperating Frequency2G GSM: 850/900/1800/1900 MHz, 3G WCDMA: 850/900/2100 MHz, 4G FDD-LTE: B1/B3/B5/B8, 4G TD-LTE: B38/B40/B41 (2535 - 2655 MHz)\n",
      "148 : Operating SystemAndroid 13Processor TypeDimensity 7050Processor CoreOcta CorePrimary Clock Speed2.6 GHzSecondary Clock Speed2 GHzOperating Frequency2G GSM: 850 MHz/900 MHz/1800 MHz, 3G WCDMA: B1/B5/B8, 4G LTE FDD: B1/B3/B5/B8/B28A, 4G LTE TDD: B40/B41, 5G NR: n1/n3/n5/n8/n28A/n40/n41/n77/n78\n",
      "104 : Operating SystemAndroid Pie 9.0Processor TypeQualcomm 712Processor CoreOcta CorePrimary Clock Speed2.3 GHzOperating FrequencyGSM : 850/900/1800/1900MHz,\n",
      "WCDMA : 850/900/2100MHz,\n",
      "FDD-LTE : Bands 1/3/5/7/8/20/28,\n",
      "TD-LTE : Bands 38/40/41(2535-2655MHz）\n",
      "None\n",
      "186 : Operating SystemAndroid Oreo 8.1Processor TypeQualcomm Snapdragon 439Processor CoreOcta CorePrimary Clock Speed2 GHzOperating Frequency2G GSM: B2/B3/B5/B8, 3G WCDMA: B1/B5/B8, 4G LTE-FDD: B1/B3/B5/B8, 4G TDD-LTE B38/B40/B41\n",
      "271 : Operating SystemAndroid Pie 9Processor TypeQualcomm Snapdragon 665Processor CoreOcta CorePrimary Clock Speed2 GHzOperating Frequency2G GSM (B2/B3/B5/B8), 3G WCDMA (B1/B5/B8), 4G TDD_LTE (B38/B40/B41), 4G FDD_LTE (B1/B3/B5/B8)\n",
      "175 : Operating SystemAndroid 13Processor TypeSnapdragon 680Processor CoreOcta CorePrimary Clock Speed2.4 GHzOperating Frequency2G GSM: 850 MHz/900 MHz/1800 MHz, 3G WCDMA: B1/B5/B8, 4G FDD LTE: B1/B3/B5/B8, 4G TDD LTE: B38/B40/B41 (120M)\n",
      "102 : Operating SystemAndroid 12Processor TypeMediatek Dimensity 1200Processor CoreOcta CorePrimary Clock Speed3 GHzOperating Frequency5G: N1/N3/N5/N8/N41/N77/N78, 4G TDD LTE: B38/B40/B41(160M), 4G FDD LTE: B1/B3/B5/B8, 3G WCDMA: B1/B5/B8\n",
      "129 : Operating SystemAndroid 13Processor TypeMediatek Dimensity 900Processor CoreOcta CorePrimary Clock Speed2.4 GHzOperating Frequency2G GSM: 850/900/1800/1900 MHz, 3G WCDMA: B1/B5/B8, 4G FDD-LTE: B1/B3/B5/B8, 4G TDD-LTE: B38/B40/B41 (120M), 5G NR NSA: n77/n78, 5G NR SA: n1/n3/n8/n28A/n77/n78\n",
      "190 : Operating SystemAndroid Pie 9Processor TypeQualcomm Snapdragon 712 AIE Octa Core 2.3GHzProcessor CoreOcta CorePrimary Clock Speed2.3 GHz\n",
      "None\n",
      "105 : Operating SystemAndroid Pie 9Processor TypeQualcomm Snapdragon 665Processor CoreOcta CorePrimary Clock Speed1.8 GHzSecondary Clock Speed2 GHz\n",
      "231 : Operating SystemAndroid Nougat 7.1Processor TypeMT6763TProcessor CoreOcta CorePrimary Clock Speed2.5 GHzOperating FrequencyGSM: 850/900/1800/1900, WCDMA: B1/5/8, 4G FDD: B1/3/5/8, TDD: B38/40/41 (2535 - 2655 MHz)\n",
      "40 : Operating SystemAndroid 12Processor TypeMediatek Dimensity 1300Processor CoreOcta CorePrimary Clock Speed3 GHzSecondary Clock Speed2.6 GHzTertiary Clock Speed2 GHzOperating FrequencySIM 1: 2G GSM: 850/900/1800/1900 MHz, 3G UMTS (WCDMA): B1/B2/B4/B5/B6/B8/B19, 4G TDD-LTE: B38/B39/B40/B41 (194 MHz), 4G FDD-LTE: B1/B2/B3/B4/B5/B7/B8/B12/B17/B18/B19/B20/B26/B28ab, 5G: n1/n3/n5/n7/n8/n20/n28/n38/n40/n41/n77/n78 | SIM 2: 2G GSM: 850/900/1800/1900 MHz, 3G UMTS (WCDMA): B1/B2/B4/B5/B6/B8/B19, 4G TDD-LTE: B38/B39/B40/B41 (194 MHz), 4G FDD-LTE: B1/B2/B3/B4/B5/B7/B8/B12/B17/B18/B19/B20/B26/B28ab, 5G: n1/n3/n5/n7/n8/n20/n28/n38/n40/n41/n77/n78\n",
      "123 : Operating SystemAndroid 11Processor TypeMediaTek Helio G35Processor CoreOcta CorePrimary Clock Speed2.3 GHzSecondary Clock Speed1.8 GHzOperating Frequency2G GSM: 850/900/1800/1900, 3G WCDMA: B1/B5/B8, 4G LTE FDD: B1/B3/B5/B8, 4G LTE TD: B38/B40/B41 (2535-2635 MHz)\n",
      "165 : Operating SystemAndroid Q 11Processor CoreOcta CorePrimary Clock Speed2 GHz\n",
      "168 : Operating SystemAndroid Pie 9.0Processor TypeMediaTek Helio P22Processor CoreOcta CorePrimary Clock Speed2 GHzSecondary Clock Speed1.5 GHzOperating FrequencyGSM: 850, 900, 1800, 1900 MHz, WCDMA: 850, 900, 2100 MHz 4G LTE-FDD: B1, B3, B5, B7, B8, 4G LTE-TD: B38, B40, B41 (2535 - 2655 MHz)\n",
      "None\n",
      "111 : Operating SystemAndroid 11Processor TypeQualcomm Snapdragon 778GProcessor CoreOcta CorePrimary Clock Speed2.4 GHzSecondary Clock Speed2.2 GHzTertiary Clock Speed1.9 GHzOperating Frequency2G GSM: Band 2/3/5/8, 3G: Band 1/2/4/5/8, 4G LTE: Band 1/2/3/4/5/7/8/12/18/19/20/26/28/38/39/40/41/42/43/66, 5G NR: 1/3/5/7/8/28/38/41/66/77/78\n",
      "13 : Operating SystemAndroid 12Processor TypeQualcomm Snapdragon 680Processor CoreOcta CorePrimary Clock Speed2.4 GHzSecondary Clock Speed1.9 GHzOperating Frequency4G LTE: B1/B3/B5/B7/B8/B20/B28/B38/B40/B41, 3G WCDMA: B1/B2/B5/B8, 2G GSM: B2/B3/B5/B8\n",
      "33 : Operating SystemAndroid 11Processor TypeUNISOC T700Processor CoreOcta CorePrimary Clock Speed1.8 GHzOperating Frequency2G GSM: B2/B3/B5/B8, 3G: B1/B2/B5/B8, 4G LTE: B1/B2/B3/B5/B7/B8/B18/B19/B20/B26/B28/B38/B40/B41\n",
      "54 : Operating SystemAndroid 11Processor TypeUNISOC T700Processor CoreOcta CorePrimary Clock Speed1.8 GHzOperating Frequency2G GSM: B2/B3/B5/B8, 3G: B1/B2/B5/B8, 4G LTE: B1/B2/B3/B5/B7/B8/B18/B19/B20/B26/B28/B38/B40/B41\n",
      "101 : Operating SystemAndroid 11Processor TypeQualcomm Snapdragon 732GProcessor CoreOcta CorePrimary Clock Speed2.3 GHzSecondary Clock Speed1.8 GHzOperating Frequency2G GSM: B2/B3/B5/B8, 3G WCDMA: B1/B2/B4/B5/B8/B19, 4G LTE: B1/B2/B3/B4/B5/B7/B8/B18/B19/B20/B26/B28/B38/B40/B41\n",
      "65 : Operating SystemAndroid Nougat 7Processor TypeMediatek MTK6737 Quad Core 1.3GhzProcessor CoreQuad CorePrimary Clock Speed1.3 GHzOperating FrequencyGSM - 850, 900, 1800, 1900 MHz; WCDMA - 850, 900, 1900, 2100 MHz; 4G LTE FDD - Band (01, 03, 05, 07, 08); LTE TDD - Band 40\n",
      "None\n",
      "7 : Operating SystemAndroid 13Processor TypeGoogle Tensor G2Operating Frequency2G GSM/EDGE: Quad Band (850/900/1800/1900 MHz), 3G UMTS/HSPA+/HSDPA: B1/B2/B4/B5/B6/B8/B19, 4G LTE: B1/B2/B3/B4/B5/B7/B8/B12/B13/B14/B17/B18/B19/B20/B25/B26/B28/B29/B30/B32/B38/B39/B40/B41/B42/B46/B48/B66/B71, 5G sub-62: n1/n2/n3/n5/n7/n8/n12/n14/n20/n25/n28/n30/n38/n40/n41/n48/n66/n71/n75/n76/n77/n78, eSIM\n",
      "5 : Operating SystemAndroid 13Processor TypeGoogle Tensor G2Operating Frequency2G GSM/EDGE: Quad Band (850/900/1800/1900 MHz), 3G UMTS/HSPA+/HSDPA: B1/B2/B4/B5/B6/B8/B19, 4G LTE: B1/B2/B3/B4/B5/B7/B8/B12/B13/B14/B17/B18/B19/B20/B25/B26/B28/B29/B30/B32/B38/B39/B40/B41/B42/B46/B48/B66/B71, 5G sub-62: n1/n2/n3/n5/n7/n8/n12/n14/n20/n25/n28/n30/n38/n40/n41/n48/n66/n71/n75/n76/n77/n78, eSIM\n",
      "18 : Operating SystemAndroid Pie 9Processor TypeQualcomm Snapdragon 845 64-bitProcessor CoreOcta CorePrimary Clock Speed2.5 GHzSecondary Clock Speed1.6 GHzOperating FrequencyGlobal RF, 5xCA, 4x4 MIMO, LAA (Band 46), 3.5 GHz (Band 42), 600 MHz (Band 71), CBRS (Proto w/Band 48)\n",
      "7 : Operating SystemAndroid 13Processor TypeGoogle Tensor G2Operating Frequency2G GSM/EDGE: Quad Band (850/900/1800/1900 MHz), 3G UMTS/HSPA+/HSDPA: B1/B2/B4/B5/B6/B8/B19, 4G LTE: B1/B2/B3/B4/B5/B7/B8/B12/B13/B14/B17/B18/B19/B20/B25/B26/B28/B29/B30/B32/B38/B39/B40/B41/B42/B46/B48/B66/B71, 5G sub-62: n1/n2/n3/n5/n7/n8/n12/n14/n20/n25/n28/n30/n38/n40/n41/n48/n66/n71/n75/n76/n77/n78, eSIM\n",
      "4 : Operating SystemAndroid 12Processor TypeGoogle TensorOperating Frequency2G GSM/EDGE: Quad Band (850/900/1800/1900 MHz), 3G UMTS/HSPA+/HSDPA: B1/B2/B4/B5/B6/B8/B19, 4G LTE: B1/B2/B3/B4/B5/B7/B8/B12/B13/B14/B17/B18/B19/B20/B25/B26/B28/B29/B30/B38/B39/B40/B41/B42/B48/B66/B71, 5G Sub-62: n1/n2/n3/n5/n7/n8/n12/n20/n25/n28/n30/n38/n40/n41/n48/n66/n71/n77/n78\n",
      "9 : Operating SystemAndroid 13Processor TypeGoogle Tensor G2Operating Frequency2G GSM/EDGE: Quad Band (850/900/1800/1900 MHz), 3G UMTS/HSPA+/HSDPA: B1/B2/B4/B5/B6/B8/B19, 4G LTE: B1/B2/B3/B4/B5/B7/B8/B12/B13/B14/B17/B18/B19/B20/B25/B26/B28/B29/B30/B32/B38/B39/B40/B41/B46/B48/B66/B71, 5G sub-62: n1/n2/n3/n5/n7/n8/n12/n14/n20/n25/n28/n30/n38/n40/n41/n48/n66/n71/n75/n76/n77/n78\n",
      "None\n",
      "82 : Operating SystemAndroid Android 12Processor CoreOcta CorePrimary Clock Speed2 GHz\n",
      "5 : Operating SystemAndroid 12Processor TypeMediaTek Helio G37Processor CoreOcta CorePrimary Clock Speed2.3 GHzSecondary Clock Speed1.8 GHz\n",
      "40 : Operating SystemAndroid 12Processor TypeMediaTek Helio A22Processor CoreQuad CorePrimary Clock Speed2 GHz\n",
      "80 : Operating SystemAndroid 12Primary Clock Speed2.1 GHz\n",
      "7 : Operating SystemAndroid Android 12.0Processor CoreOcta CorePrimary Clock Speed2 GHz\n",
      "107 : Operating SystemAndroid 12Processor CoreOcta CorePrimary Clock Speed2 GHz\n",
      "None\n",
      "99 : Operating SystemAndroid 12Processor TypeMediatek Helio G96Processor CoreOcta CorePrimary Clock Speed2 GHzOperating Frequency2G GSM: B2/B3/B5/B8, 3G WCDMA: B1/B5/B8, 4G LTE: B1/B3/B5/B8/B38/B40/B41\n",
      "152 : Operating SystemAndroid 11Processor TypeMediaTek Helio G85Processor CoreOcta CorePrimary Clock Speed2 GHzOperating Frequency2G GSM: B2/B3/B5/B8, 3G WCDMA: B1/B5/B8, 4G LTE: B1/B3/B5/B8/B38/B40/B41\n",
      "109 : Operating SystemAndroid Marshmallow 6Processor TypeMediatek MT6737 Quad Core 1.3GHzProcessor CoreQuad CorePrimary Clock Speed1.3 GHzOperating FrequencyGSM - 850 / 900 / 1800 / 1900 MHz; WCDMA - 850 / 1900 / 2100 / 1700 MHz; 4G LTE FDD - B3 / B5 / B8, LTE TDD - B40\n",
      "7 : Operating SystemAndroid 12Processor TypeG37Processor CoreOcta CorePrimary Clock Speed2.3 GHzOperating Frequency2G GSM: B2/B3/B5/B8, 3G WCDMA: B1/B5/B8, 4G LTE: B1/B3/B5/B8/B38/B40/B41\n",
      "67 : Operating SystemAndroid 12Processor TypeUnisoc T616Processor CoreOcta CorePrimary Clock Speed1.8 GHzOperating Frequency2G GSM: B2/B3/B5/B8, 3G WCDMA: B1/B5/B8, 4G LTE: B1/B3/B5/B8/B38/B40/B41\n",
      "103 : Operating SystemAndroid 11Processor TypeMediaTek Helio G85Processor CoreOcta CorePrimary Clock Speed2 GHzOperating Frequency2G GSM: B2/B3/B5/B8, 3G WCDMA: B1/B5/B8, 4G LTE: B1/B3/B5/B8/B38/B40/B41\n",
      "None\n"
     ]
    }
   ],
   "source": [
    "for i in dataframes_list:\n",
    "    remove_internal\n",
    "    print(random_values(col_name='os_processor',df=i))\n"
   ]
  },
  {
   "cell_type": "code",
   "execution_count": 120,
   "metadata": {},
   "outputs": [
    {
     "name": "stdout",
     "output_type": "stream",
     "text": [
      "Operating SystemAndroid Marshmallow 6.0.1Processor TypeQualcomm Snapdragon 650 64-bitProcessor CoreHexa CorePrimary Clock Speed1.8 GHzOperating FrequencyGSM - 850, 900, 1800, 1900; WCDMA - 850, 900, 1900, 2100; 4G LTE (TDD) - Band 38/39/40/41, LTE (FDD) - Band 1/3/5/7/8 ::index-440\n",
      "-  SystemAndroid Marshmallow 6.0.1Processor TypeQualcomm Snapdragon 650 64-bitProcessor CoreHexa CorePrimary Clock Speed1.8 GHz FrequencyGSM - 850, 900, 1800, 1900; WCDMA - 850, 900, 1900, 2100; 4G LTE (TDD) - Band 38/39/40/41, LTE (FDD) - Band 1/3/5/7/8\n",
      "\n",
      "Operating SystemAndroid Android 13Processor CoreOcta CorePrimary Clock Speed2.2 GHz ::index-356\n",
      "-  SystemAndroid Android 13Processor CoreOcta CorePrimary Clock Speed2.2 GHz\n",
      "\n",
      "Operating SystemAndroid Pie 9Processor TypeQualcomm Snapdragon 439Processor CoreOcta CorePrimary Clock Speed1.95 GHzSecondary Clock Speed1.45 GHzOperating FrequencyGSM: B2, B3, B5, B8, WCDMA: B1, B2, B5, B8, 4G LTE TDD: B40, B41, 4G LTE FDD: B1, B3, B5, B8 ::index-448\n",
      "-  SystemAndroid Pie 9Processor TypeQualcomm Snapdragon 439Processor CoreOcta CorePrimary Clock Speed1.95 GHzSecondary Clock Speed1.45 GHz FrequencyGSM: B2, B3, B5, B8, WCDMA: B1, B2, B5, B8, 4G LTE TDD: B40, B41, 4G LTE FDD: B1, B3, B5, B8\n",
      "\n",
      "Operating SystemAndroid KitKat 4.4.4Processor TypeQualcomm MSM8274AC Snapdragon 801 Krait 400Processor CoreQuad CorePrimary Clock Speed2.5 GHzOperating FrequencyGSM - 850, 900, 1800, 1900; WCDMA - 2100 ::index-128\n",
      "-  SystemAndroid KitKat 4.4.4Processor TypeQualcomm MSM8274AC Snapdragon 801 Krait 400Processor CoreQuad CorePrimary Clock Speed2.5 GHz FrequencyGSM - 850, 900, 1800, 1900; WCDMA - 2100\n",
      "\n",
      "Operating SystemAndroid 12Processor TypeDimensity 8100Processor CoreOcta CorePrimary Clock Speed2.85 GHzSecondary Clock Speed2 GHzOperating Frequency2G GSM: B2/B3/B5/B8, 3G WCDMA: B1/B2/B4/B5/B8, 4G LTE TDD: B38/B40/B41, 4G LTE FDD: B1/B2/B3/B4/B5/B7/B8/B20/B28A, 5G NSA+SA: N1/N3/N5/N7/N8/N20/N28A/N38/N40/N41/N77/N78 ::index-186\n",
      "-  SystemAndroid 12Processor TypeDimensity 8100Processor CoreOcta CorePrimary Clock Speed2.85 GHzSecondary Clock Speed2 GHz Frequency2G GSM: B2/B3/B5/B8, 3G WCDMA: B1/B2/B4/B5/B8, 4G LTE TDD: B38/B40/B41, 4G LTE FDD: B1/B2/B3/B4/B5/B7/B8/B20/B28A, 5G NSA+SA: N1/N3/N5/N7/N8/N20/N28A/N38/N40/N41/N77/N78\n",
      "\n",
      "Operating SystemAndroidProcessor CoreOcta CorePrimary Clock Speed2.4 GHz ::index-323\n",
      "-  SystemAndroidProcessor CoreOcta CorePrimary Clock Speed2.4 GHz\n",
      "\n",
      "Operating SystemAndroid Nougat 7.1.2Processor TypeQualcomm Snapdragon 636Processor CoreOcta CorePrimary Clock Speed1.8 GHzOperating FrequencyGSM - B2, B3, B5, B8, WCDMA - B1, B2, B5, B8, 4G LTE TDD - B40, B41 (2535 - 2655 MHz), LTE FDD - B1, B3, B5 ::index-169\n",
      "-  SystemAndroid Nougat 7.1.2Processor TypeQualcomm Snapdragon 636Processor CoreOcta CorePrimary Clock Speed1.8 GHz FrequencyGSM - B2, B3, B5, B8, WCDMA - B1, B2, B5, B8, 4G LTE TDD - B40, B41 (2535 - 2655 MHz), LTE FDD - B1, B3, B5\n",
      "\n",
      "Operating SystemAndroid 11Processor TypeMediatek Dimensity 920Processor CoreOcta CorePrimary Clock Speed2.5 GHzSecondary Clock Speed2 GHzOperating Frequency5G NR: N1, N3, N5, N8, N28, N40, N77, N78, 4G FDD: B1, B3, B5, B8, 4G TDD: B40, B41, 3G WCDMA: B1, B2, B5, B8, 2G GSM: B2, B3, B5, B8 ::index-422\n",
      "-  SystemAndroid 11Processor TypeMediatek Dimensity 920Processor CoreOcta CorePrimary Clock Speed2.5 GHzSecondary Clock Speed2 GHz Frequency5G NR: N1, N3, N5, N8, N28, N40, N77, N78, 4G FDD: B1, B3, B5, B8, 4G TDD: B40, B41, 3G WCDMA: B1, B2, B5, B8, 2G GSM: B2, B3, B5, B8\n",
      "\n",
      "None\n",
      "Operating SystemAndroid Q V10Processor CoreOcta CorePrimary Clock Speed2.3 GHz ::index-190\n",
      "-  SystemAndroid Q V10Processor CoreOcta CorePrimary Clock Speed2.3 GHz\n",
      "\n",
      "Operating SystemSeries 30 Propreitory vNA (Series 30)Primary Clock Speed208 MHzOperating FrequencyGSM - 900, 1800 ::index-199\n",
      "-  SystemSeries 30 Propreitory vNA (Series 30)Primary Clock Speed208 MHz FrequencyGSM - 900, 1800\n",
      "\n",
      "Operating SystemAndroid 10Processor TypeExynos 990Processor CoreOcta CorePrimary Clock Speed2.73 GHzSecondary Clock Speed2.5 GHzTertiary Clock Speed2 GHz ::index-519\n",
      "-  SystemAndroid 10Processor TypeExynos 990Processor CoreOcta CorePrimary Clock Speed2.73 GHzSecondary Clock Speed2.5 GHzTertiary Clock Speed2 GHz\n",
      "\n",
      "Operating SystemAndroid 13Processor TypeDimensity 7050Processor CoreOcta CorePrimary Clock Speed2.6 GHzSecondary Clock Speed2 GHzOperating Frequency2G GSM: 850 MHz/900 MHz/1800 MHz/1900 MHz, 3G WCDMA: B1/B2/B4/B5/B6/B8/B19, 4G LTE FDD: B1/B2/B3/B4/B5/B7/B8/B12/B13/B17/B18/B19/B20/B26/B28A/B28B/B66, 4G LTE TDD: B38/B39/B40/B41, 5G NR: n1/n3/n5/n7/n8/n20/n28A/n28B/n66/n38/n40/n41/n77/n78 ::index-474\n",
      "-  SystemAndroid 13Processor TypeDimensity 7050Processor CoreOcta CorePrimary Clock Speed2.6 GHzSecondary Clock Speed2 GHz Frequency2G GSM: 850 MHz/900 MHz/1800 MHz/1900 MHz, 3G WCDMA: B1/B2/B4/B5/B6/B8/B19, 4G LTE FDD: B1/B2/B3/B4/B5/B7/B8/B12/B13/B17/B18/B19/B20/B26/B28A/B28B/B66, 4G LTE TDD: B38/B39/B40/B41, 5G NR: n1/n3/n5/n7/n8/n20/n28A/n28B/n66/n38/n40/n41/n77/n78\n",
      "\n",
      "Operating SystemAndroid 11Processor TypeMediatek Helio P35 (MT6765)Processor CoreOcta CorePrimary Clock Speed2.3 GHzSecondary Clock Speed1.8 GHz ::index-471\n",
      "-  SystemAndroid 11Processor TypeMediatek Helio P35 (MT6765)Processor CoreOcta CorePrimary Clock Speed2.3 GHzSecondary Clock Speed1.8 GHz\n",
      "\n",
      "Operating SystemAndroid 13Processor TypeQualcomm Snapdragon 8 Gen 2Processor CoreOcta CorePrimary Clock Speed3.36 GHzSecondary Clock Speed3.36 GHzOperating Frequency2G GSM: 850/900/1800/1900 MHz ::index-503\n",
      "-  SystemAndroid 13Processor TypeQualcomm Snapdragon 8 Gen 2Processor CoreOcta CorePrimary Clock Speed3.36 GHzSecondary Clock Speed3.36 GHz Frequency2G GSM: 850/900/1800/1900 MHz\n",
      "\n",
      "Operating SystemAndroid 13Processor TypeSEC S5E8535 (Exynos 1330)Processor CoreOcta CorePrimary Clock Speed2 GHzOperating FrequencyGSM 850, GSM 900, DCS 1800, PCS 1900 ::index-69\n",
      "-  SystemAndroid 13Processor TypeSEC S5E8535 (Exynos 1330)Processor CoreOcta CorePrimary Clock Speed2 GHz FrequencyGSM 850, GSM 900, DCS 1800, PCS 1900\n",
      "\n",
      "Operating SystemAndroid 11Processor TypeExynos 9825Processor CoreOcta CorePrimary Clock Speed2.73 GHzSecondary Clock Speed1.95 GHz ::index-326\n",
      "-  SystemAndroid 11Processor TypeExynos 9825Processor CoreOcta CorePrimary Clock Speed2.73 GHzSecondary Clock Speed1.95 GHz\n",
      "\n",
      "None\n",
      "Operating SystemiOS 15Processor TypeA15 Bionic ChipProcessor CoreHexa CoreOperating Frequency2G GSM/EDGE: 850, 900, 1800, 1900 MHz, 3G UMTS/HSPA+/DC-HSDPA: 850, 900, 1700/2100, 1900, 2100 MHz, 4G TD-LTE: Bands 34, 38, 39, 40, 41, 42, 46, 48, 4G FDD-LTE: Bands 1, 2, 3, 4, 5, 7, 8, 12, 13, 17, 18, 19, 20, 25, 26, 28, 30, 32, 66, 5G NR: Bands n1, n2, n3, n5, n7, n8, n12, n20, n25, n28, n30, n38, n40, n41, n48, n66, n77, n78, n79 ::index-105\n",
      "-  SystemiOS 15Processor TypeA15 Bionic ChipProcessor CoreHexa Core Frequency2G GSM/EDGE: 850, 900, 1800, 1900 MHz, 3G UMTS/HSPA+/DC-HSDPA: 850, 900, 1700/2100, 1900, 2100 MHz, 4G TD-LTE: Bands 34, 38, 39, 40, 41, 42, 46, 48, 4G FDD-LTE: Bands 1, 2, 3, 4, 5, 7, 8, 12, 13, 17, 18, 19, 20, 25, 26, 28, 30, 32, 66, 5G NR: Bands n1, n2, n3, n5, n7, n8, n12, n20, n25, n28, n30, n38, n40, n41, n48, n66, n77, n78, n79\n",
      "\n",
      "Operating SystemiOS 8Processor TypeApple A8 64-bit processor and M8 Motion Co-processorProcessor CoreDual CorePrimary Clock Speed1.4 GHzOperating FrequencyGSM - 850, 900, 1800, 1900; UMTS - 1700, 2100; LTE - 700, 2300, 2500, 2600 ::index-103\n",
      "-  SystemiOS 8Processor TypeApple A8 64-bit processor and M8 Motion Co-processorProcessor CoreDual CorePrimary Clock Speed1.4 GHz FrequencyGSM - 850, 900, 1800, 1900; UMTS - 1700, 2100; LTE - 700, 2300, 2500, 2600\n",
      "\n",
      "Operating SystemiOS 12Processor TypeA11 Bionic Chip with 64-bit Architecture, Neural Engine, Embedded M11 Motion CoprocessorOperating FrequencyGSM/EDGE (850, 900, 1800, 1900 MHz), UMTS / HSPA+ / DC-HSDPA - (850, 900, 1700 / 2100, 1900, 2100 MHz), 4G TD-LTE (Bands 34, 38, 39, 40, 41) ::index-116\n",
      "-  SystemiOS 12Processor TypeA11 Bionic Chip with 64-bit Architecture, Neural Engine, Embedded M11 Motion Coprocessor FrequencyGSM/EDGE (850, 900, 1800, 1900 MHz), UMTS / HSPA+ / DC-HSDPA - (850, 900, 1700 / 2100, 1900, 2100 MHz), 4G TD-LTE (Bands 34, 38, 39, 40, 41)\n",
      "\n",
      "Operating SystemiOS 8Processor TypeA8 Chip with 64-bit Architecture and M8 Motion Co-processorOperating FrequencyGSM - 850, 900, 1800, 1900; UMTS - 1700, 2100; LTE - 700, 2300, 2500, 2600 ::index-294\n",
      "-  SystemiOS 8Processor TypeA8 Chip with 64-bit Architecture and M8 Motion Co-processor FrequencyGSM - 850, 900, 1800, 1900; UMTS - 1700, 2100; LTE - 700, 2300, 2500, 2600\n",
      "\n",
      "Operating SystemiOS 15Processor TypeA15 Bionic ChipProcessor CoreHexa CoreOperating Frequency2G GSM/EDGE: 850, 900, 1800, 1900 MHz, 3G UMTS/HSPA+/DC-HSDPA: 850, 900, 1700/2100, 1900, 2100 MHz, 4G TD-LTE: Bands 34, 38, 39, 40, 41, 42, 46, 48, 4G FDD-LTE: Bands 1, 2, 3, 4, 5, 7, 8, 12, 13, 17, 18, 19, 20, 25, 26, 28, 30, 32, 66, 5G NR: Bands n1, n2, n3, n5, n7, n8, n12, n20, n25, n28, n30, n38, n40, n41, n48, n66, n77, n78, n79 ::index-183\n",
      "-  SystemiOS 15Processor TypeA15 Bionic ChipProcessor CoreHexa Core Frequency2G GSM/EDGE: 850, 900, 1800, 1900 MHz, 3G UMTS/HSPA+/DC-HSDPA: 850, 900, 1700/2100, 1900, 2100 MHz, 4G TD-LTE: Bands 34, 38, 39, 40, 41, 42, 46, 48, 4G FDD-LTE: Bands 1, 2, 3, 4, 5, 7, 8, 12, 13, 17, 18, 19, 20, 25, 26, 28, 30, 32, 66, 5G NR: Bands n1, n2, n3, n5, n7, n8, n12, n20, n25, n28, n30, n38, n40, n41, n48, n66, n77, n78, n79\n",
      "\n",
      "Operating SystemiOS 8Processor TypeA8 Chip with 64-bit Architecture and M8 Motion Co-processorOperating FrequencyGSM - 850, 900, 1800, 1900; UMTS - 1700, 2100; LTE - 700, 2300, 2500, 2600 ::index-406\n",
      "-  SystemiOS 8Processor TypeA8 Chip with 64-bit Architecture and M8 Motion Co-processor FrequencyGSM - 850, 900, 1800, 1900; UMTS - 1700, 2100; LTE - 700, 2300, 2500, 2600\n",
      "\n",
      "Operating SystemiOS 14.2Processor TypeA12 Bionic Chip ::index-383\n",
      "-  SystemiOS 14.2Processor TypeA12 Bionic Chip\n",
      "\n",
      "Operating SystemiOS 13Processor TypeA13 Bionic Chip ::index-412\n",
      "-  SystemiOS 13Processor TypeA13 Bionic Chip\n",
      "\n",
      "None\n",
      "Operating SystemAndroid Oreo 8.1Processor CoreOcta CorePrimary Clock Speed2.7 GHz ::index-156\n",
      "-  SystemAndroid Oreo 8.1Processor CoreOcta CorePrimary Clock Speed2.7 GHz\n",
      "\n",
      "Operating SystemAndroid Q 11Processor CoreDual CorePrimary Clock Speed2.4 GHz ::index-74\n",
      "-  SystemAndroid Q 11Processor CoreDual CorePrimary Clock Speed2.4 GHz\n",
      "\n",
      "Operating SystemAndroid Q 11Processor CoreDual CorePrimary Clock Speed2.4 GHz ::index-79\n",
      "-  SystemAndroid Q 11Processor CoreDual CorePrimary Clock Speed2.4 GHz\n",
      "\n",
      "Operating SystemAndroid 11Processor CoreDual CorePrimary Clock Speed2.4 GHz ::index-175\n",
      "-  SystemAndroid 11Processor CoreDual CorePrimary Clock Speed2.4 GHz\n",
      "\n",
      "Operating SystemAndroid 12Processor CoreDual CorePrimary Clock Speed2.4 GHz ::index-63\n",
      "-  SystemAndroid 12Processor CoreDual CorePrimary Clock Speed2.4 GHz\n",
      "\n",
      "Operating SystemAndroid 13Processor CoreOcta CorePrimary Clock Speed2.4 GHz ::index-60\n",
      "-  SystemAndroid 13Processor CoreOcta CorePrimary Clock Speed2.4 GHz\n",
      "\n",
      "Operating SystemAndroid OxygenOS based on Android 13Processor CoreOcta CorePrimary Clock Speed3.2 GHz ::index-13\n",
      "-  SystemAndroid OxygenOS based on Android 13Processor CoreOcta CorePrimary Clock Speed3.2 GHz\n",
      "\n",
      "Operating SystemAndroid 13Processor CoreOcta CorePrimary Clock Speed2.2 GHz ::index-162\n",
      "-  SystemAndroid 13Processor CoreOcta CorePrimary Clock Speed2.2 GHz\n",
      "\n",
      "None\n",
      "Operating SystemAndroid 12Processor TypeMediatek Helio G99 Octa CoreProcessor CoreOcta CorePrimary Clock Speed2.2 GHzSecondary Clock Speed2 GHzOperating Frequency2G GSM: 850/900/1800/1900 MHz, 3G WCDMA: 850/900/2100 MHz, 4G FDD-LTE: B1/B3/B5/B8, 4G TD-LTE: B38/B40/B41 (2535 - 2655 MHz) ::index-23\n",
      "-  SystemAndroid 12Processor TypeMediatek Helio G99 Octa CoreProcessor CoreOcta CorePrimary Clock Speed2.2 GHzSecondary Clock Speed2 GHz Frequency2G GSM: 850/900/1800/1900 MHz, 3G WCDMA: 850/900/2100 MHz, 4G FDD-LTE: B1/B3/B5/B8, 4G TD-LTE: B38/B40/B41 (2535 - 2655 MHz)\n",
      "\n",
      "Operating SystemAndroid Oreo 8.1Processor TypeQualcomm Snapdragon 450 Octa Core 1.8 GHzProcessor CoreOcta CorePrimary Clock Speed1.8 GHz ::index-177\n",
      "-  SystemAndroid Oreo 8.1Processor TypeQualcomm Snapdragon 450 Octa Core 1.8 GHzProcessor CoreOcta CorePrimary Clock Speed1.8 GHz\n",
      "\n",
      "Operating SystemAndroid 11Processor TypeQualcomm Snapdragon 870Processor CoreOcta CorePrimary Clock Speed3.2 GHzSecondary Clock Speed2.4 GHzTertiary Clock Speed1.8 GHzOperating Frequency2G GSM: 850/900/1800/1900, 3G WCDMA: B1/B2/B4/B5/B6/B8/B19, 4G TD-LTE: B34/B38/B39/B40/B41(2515-2675MHz), 4G LTE FDD: B1/2/3/4/5/7/8/18/19/26/28A, 5G NR SA: n41 (2515-2675MHZ)/n78/n1/n3/n5/n8/n28A, 5G NR NSA: n41 (2515-2675MHZ)/n77/n78 ::index-71\n",
      "-  SystemAndroid 11Processor TypeQualcomm Snapdragon 870Processor CoreOcta CorePrimary Clock Speed3.2 GHzSecondary Clock Speed2.4 GHzTertiary Clock Speed1.8 GHz Frequency2G GSM: 850/900/1800/1900, 3G WCDMA: B1/B2/B4/B5/B6/B8/B19, 4G TD-LTE: B34/B38/B39/B40/B41(2515-2675MHz), 4G LTE FDD: B1/2/3/4/5/7/8/18/19/26/28A, 5G NR SA: n41 (2515-2675MHZ)/n78/n1/n3/n5/n8/n28A, 5G NR NSA: n41 (2515-2675MHZ)/n77/n78\n",
      "\n",
      "Operating SystemAndroid Pie 9.0Processor TypeMediaTek P22 Octa Core 2.0 GHzProcessor CoreOcta CorePrimary Clock Speed2 GHzOperating FrequencyGSM: 850/900/1800/1900 MHz, WCDMA: 850/900/2100 MHz, 4G LTE-FDD: B1/B3/B5/B8, 4G LTE-TD: B38/B40/B41 (2535 - 2655 MHz) ::index-164\n",
      "-  SystemAndroid Pie 9.0Processor TypeMediaTek P22 Octa Core 2.0 GHzProcessor CoreOcta CorePrimary Clock Speed2 GHz FrequencyGSM: 850/900/1800/1900 MHz, WCDMA: 850/900/2100 MHz, 4G LTE-FDD: B1/B3/B5/B8, 4G LTE-TD: B38/B40/B41 (2535 - 2655 MHz)\n",
      "\n",
      "Operating SystemAndroid Pie 9Processor TypeQualcomm Snapdragon 855 PlusProcessor CoreOcta CorePrimary Clock Speed2.96 GHzOperating Frequency2G GSM: 850/900/1800/1900, 3G WCDMA: B1/B2/B4/B5/B6/B8/B19, 4G LTE FDD: B1/B2/B3/B4/B5/B7/B8/B12/B17/B18/B19/B20/B26/B28, TD-LTE: B34/B38/B39/B40/B41 (2496-2690MHz) ::index-161\n",
      "-  SystemAndroid Pie 9Processor TypeQualcomm Snapdragon 855 PlusProcessor CoreOcta CorePrimary Clock Speed2.96 GHz Frequency2G GSM: 850/900/1800/1900, 3G WCDMA: B1/B2/B4/B5/B6/B8/B19, 4G LTE FDD: B1/B2/B3/B4/B5/B7/B8/B12/B17/B18/B19/B20/B26/B28, TD-LTE: B34/B38/B39/B40/B41 (2496-2690MHz)\n",
      "\n",
      "Operating SystemAndroid 12Processor TypeMediatek Helio G99 Octa CoreProcessor CoreOcta CorePrimary Clock Speed2.2 GHzSecondary Clock Speed2 GHzOperating Frequency2G GSM: 850/900/1800/1900 MHz, 3G WCDMA: 850/900/2100 MHz, 4G FDD-LTE: B1/B3/B5/B8, 4G TD-LTE: B38/B40/B41 (2535 - 2655 MHz) ::index-17\n",
      "-  SystemAndroid 12Processor TypeMediatek Helio G99 Octa CoreProcessor CoreOcta CorePrimary Clock Speed2.2 GHzSecondary Clock Speed2 GHz Frequency2G GSM: 850/900/1800/1900 MHz, 3G WCDMA: 850/900/2100 MHz, 4G FDD-LTE: B1/B3/B5/B8, 4G TD-LTE: B38/B40/B41 (2535 - 2655 MHz)\n",
      "\n",
      "Operating SystemAndroid Pie 9Processor TypeQualcomm Snapdragon 855 PlusProcessor CoreOcta CorePrimary Clock Speed2.96 GHzOperating Frequency2G GSM: 850/900/1800/1900, 3G WCDMA: B1/B2/B4/B5/B6/B8/B19, 4G LTE FDD: B1/B2/B3/B4/B5/B7/B8/B12/B17/B18/B19/B20/B26/B28, TD-LTE: B34/B38/B39/B40/B41 (2496-2690MHz) ::index-183\n",
      "-  SystemAndroid Pie 9Processor TypeQualcomm Snapdragon 855 PlusProcessor CoreOcta CorePrimary Clock Speed2.96 GHz Frequency2G GSM: 850/900/1800/1900, 3G WCDMA: B1/B2/B4/B5/B6/B8/B19, 4G LTE FDD: B1/B2/B3/B4/B5/B7/B8/B12/B17/B18/B19/B20/B26/B28, TD-LTE: B34/B38/B39/B40/B41 (2496-2690MHz)\n",
      "\n",
      "Operating SystemAndroid 10Processor TypeMediatek Helio G35Processor CoreOcta CorePrimary Clock Speed2.3 GHzSecondary Clock Speed1.8 GHzOperating FrequencyGSM: 850/900/1800/1900, WCDMA: B1/B5/B8, FDD LTE: B1/B3/B5/B8, TDD LTE: B38/B40/B41 (2535-2655 MHz) ::index-123\n",
      "-  SystemAndroid 10Processor TypeMediatek Helio G35Processor CoreOcta CorePrimary Clock Speed2.3 GHzSecondary Clock Speed1.8 GHz FrequencyGSM: 850/900/1800/1900, WCDMA: B1/B5/B8, FDD LTE: B1/B3/B5/B8, TDD LTE: B38/B40/B41 (2535-2655 MHz)\n",
      "\n",
      "None\n",
      "Operating SystemAndroid 12Processor TypeMediatek Dimensity 1300Processor CoreOcta CorePrimary Clock Speed3 GHzOperating Frequency3G WCDMA: B1/B2/B4/B5/B8, 4G FDD LTE: B1/B2/B3/B4/B5/B8/B18/B19/B26, 4G TDD LTE: B38/B39/B40/B41, 5G NSA: n1/n3/n5/n8/n40/n41/n77 (3300 - 3800 MHz)/n78, 5G SA: n1/n3/n5/n8/n40/n41/n77(3300 - 3800 MHz)/n78 ::index-61\n",
      "-  SystemAndroid 12Processor TypeMediatek Dimensity 1300Processor CoreOcta CorePrimary Clock Speed3 GHz Frequency3G WCDMA: B1/B2/B4/B5/B8, 4G FDD LTE: B1/B2/B3/B4/B5/B8/B18/B19/B26, 4G TDD LTE: B38/B39/B40/B41, 5G NSA: n1/n3/n5/n8/n40/n41/n77 (3300 - 3800 MHz)/n78, 5G SA: n1/n3/n5/n8/n40/n41/n77(3300 - 3800 MHz)/n78\n",
      "\n",
      "Operating SystemAndroid 12Processor TypeMediatek Helio P35Processor CoreOcta CorePrimary Clock Speed2.3 GHzSecondary Clock Speed1.8 GHzOperating Frequency2G GSM: B3/B5/B8, 3G WCDMA: B1/B5/B8, 4G FDD LTE: B1/B3/B5/B8, 4G TDD LTE: B38/B40/B41 (120M) ::index-35\n",
      "-  SystemAndroid 12Processor TypeMediatek Helio P35Processor CoreOcta CorePrimary Clock Speed2.3 GHzSecondary Clock Speed1.8 GHz Frequency2G GSM: B3/B5/B8, 3G WCDMA: B1/B5/B8, 4G FDD LTE: B1/B3/B5/B8, 4G TDD LTE: B38/B40/B41 (120M)\n",
      "\n",
      "Operating SystemAndroid 10Processor TypeQualcomm Snapdragon 460Processor CoreOcta CorePrimary Clock Speed1.8 GHz ::index-301\n",
      "-  SystemAndroid 10Processor TypeQualcomm Snapdragon 460Processor CoreOcta CorePrimary Clock Speed1.8 GHz\n",
      "\n",
      "Operating SystemAndroid 11Processor TypeQualcomm Snapdragon 439Processor CoreOcta CorePrimary Clock Speed2.3 GHzOperating Frequency2G GSM: B3/B5/B8, 3G WCDMA: B1/B5/B8, 4G LTE FDD: B1/B3/B5/B8, 4G LTE TDD: B38/B40/B41 ::index-66\n",
      "-  SystemAndroid 11Processor TypeQualcomm Snapdragon 439Processor CoreOcta CorePrimary Clock Speed2.3 GHz Frequency2G GSM: B3/B5/B8, 3G WCDMA: B1/B5/B8, 4G LTE FDD: B1/B3/B5/B8, 4G LTE TDD: B38/B40/B41\n",
      "\n",
      "Operating SystemAndroid 12Processor TypeMediatek Helio P35Processor CoreOcta CorePrimary Clock Speed2.3 GHzSecondary Clock Speed1.8 GHzOperating Frequency2G GSM: B3/B5/B8, 3G WCDMA: B1/B5/B8, 4G FDD LTE: B1/B3/B5/B8, 4G TDD LTE: B38/B40/B41 (120M) ::index-40\n",
      "-  SystemAndroid 12Processor TypeMediatek Helio P35Processor CoreOcta CorePrimary Clock Speed2.3 GHzSecondary Clock Speed1.8 GHz Frequency2G GSM: B3/B5/B8, 3G WCDMA: B1/B5/B8, 4G FDD LTE: B1/B3/B5/B8, 4G TDD LTE: B38/B40/B41 (120M)\n",
      "\n",
      "Operating SystemAndroid 12Processor TypeQualcomm Snapdragon 695Processor CoreOcta CorePrimary Clock Speed2.2 GHzOperating Frequency2G GSM: 850/900/1800, 3G WCDMA: B1/B5/B8, 4G FDD-LTE: B1/B3/B5/B8, 4G TDD- LTE: B38/B40/B41 (120 M), 5G NR_NSA: n77/n78 ::index-217\n",
      "-  SystemAndroid 12Processor TypeQualcomm Snapdragon 695Processor CoreOcta CorePrimary Clock Speed2.2 GHz Frequency2G GSM: 850/900/1800, 3G WCDMA: B1/B5/B8, 4G FDD-LTE: B1/B3/B5/B8, 4G TDD- LTE: B38/B40/B41 (120 M), 5G NR_NSA: n77/n78\n",
      "\n",
      "Operating SystemAndroid 11Processor TypeMediaTek Helio P35Processor CoreOcta CorePrimary Clock Speed2.3 GHzOperating Frequency2G GSM: B3/B5/B8, 3G WCDMA: B1/B5/B8, 4G LTE FDD: B1/B3/B5/B8, 4G LTE TDD: B38/B40/B41 ::index-241\n",
      "-  SystemAndroid 11Processor TypeMediaTek Helio P35Processor CoreOcta CorePrimary Clock Speed2.3 GHz Frequency2G GSM: B3/B5/B8, 3G WCDMA: B1/B5/B8, 4G LTE FDD: B1/B3/B5/B8, 4G LTE TDD: B38/B40/B41\n",
      "\n",
      "Operating SystemAndroid 13Processor TypeMediatek Dimensity 900Processor CoreOcta CorePrimary Clock Speed2.4 GHzOperating Frequency2G GSM: 850/900/1800/1900 MHz, 3G WCDMA: B1/B5/B8, 4G FDD-LTE: B1/B3/B5/B8, 4G TDD-LTE: B38/B40/B41 (120M), 5G NR NSA: n77/n78, 5G NR SA: n1/n3/n8/n28A/n77/n78 ::index-129\n",
      "-  SystemAndroid 13Processor TypeMediatek Dimensity 900Processor CoreOcta CorePrimary Clock Speed2.4 GHz Frequency2G GSM: 850/900/1800/1900 MHz, 3G WCDMA: B1/B5/B8, 4G FDD-LTE: B1/B3/B5/B8, 4G TDD-LTE: B38/B40/B41 (120M), 5G NR NSA: n77/n78, 5G NR SA: n1/n3/n8/n28A/n77/n78\n",
      "\n",
      "None\n",
      "Operating SystemAndroid Oreo 8.1Processor TypeMediaTek Helio P35Processor CoreOcta CorePrimary Clock Speed2.3 GHz ::index-104\n",
      "-  SystemAndroid Oreo 8.1Processor TypeMediaTek Helio P35Processor CoreOcta CorePrimary Clock Speed2.3 GHz\n",
      "\n",
      "Operating SystemAndroid 10Processor TypeMediaTek Helio P35Processor CoreOcta CorePrimary Clock Speed2.3 GHzSecondary Clock Speed1.8 GHzOperating Frequency2G GSM: 850/900/1800/1900 MHz, 3G WCDMA: B1/B5/B8, 4G LTE FDD: B1/B3/B5/B8, 4G TD-LTE: B38/B40/B41 (2535-2655 MHz) ::index-69\n",
      "-  SystemAndroid 10Processor TypeMediaTek Helio P35Processor CoreOcta CorePrimary Clock Speed2.3 GHzSecondary Clock Speed1.8 GHz Frequency2G GSM: 850/900/1800/1900 MHz, 3G WCDMA: B1/B5/B8, 4G LTE FDD: B1/B3/B5/B8, 4G TD-LTE: B38/B40/B41 (2535-2655 MHz)\n",
      "\n",
      "Operating SystemAndroid 10Processor TypeQualcomm Snapdragon 460Processor CoreOcta CorePrimary Clock Speed1.8 GHzSecondary Clock Speed1.6 GHzOperating FrequencyGSM: 850/900/1800/1900, WCDMA: B1/B5/B8, 4G FDD LTE: B1/B3/B5/B8, 4G TDD LTE: B38/B40/B41 (2535 - 2655 MHz) ::index-173\n",
      "-  SystemAndroid 10Processor TypeQualcomm Snapdragon 460Processor CoreOcta CorePrimary Clock Speed1.8 GHzSecondary Clock Speed1.6 GHz FrequencyGSM: 850/900/1800/1900, WCDMA: B1/B5/B8, 4G FDD LTE: B1/B3/B5/B8, 4G TDD LTE: B38/B40/B41 (2535 - 2655 MHz)\n",
      "\n",
      "Operating SystemAndroid Q 12Processor TypeMediatek Helio G35Processor CoreOcta CorePrimary Clock Speed2.3 GHzSecondary Clock Speed1.8 GHzTertiary Clock Speed1.8 GHzOperating Frequency2G GSM: 850/900/1800, 3G WCDMA: B1/B5/B8, 4G FDD-LTE: B1/B3/B5/B7/B8/B20/B28, 4G TD-LTE: B38/B40/B41 ::index-1\n",
      "-  SystemAndroid Q 12Processor TypeMediatek Helio G35Processor CoreOcta CorePrimary Clock Speed2.3 GHzSecondary Clock Speed1.8 GHzTertiary Clock Speed1.8 GHz Frequency2G GSM: 850/900/1800, 3G WCDMA: B1/B5/B8, 4G FDD-LTE: B1/B3/B5/B7/B8/B20/B28, 4G TD-LTE: B38/B40/B41\n",
      "\n",
      "Operating SystemAndroid Pie 9Processor TypeQualcomm Snapdragon 665Processor CoreOcta CorePrimary Clock Speed1.8 GHzSecondary Clock Speed2 GHz ::index-219\n",
      "-  SystemAndroid Pie 9Processor TypeQualcomm Snapdragon 665Processor CoreOcta CorePrimary Clock Speed1.8 GHzSecondary Clock Speed2 GHz\n",
      "\n",
      "Operating SystemAndroid 10Processor TypeMediaTek Helio P35 (MT6765)Processor CoreOcta CorePrimary Clock Speed2.3 GHzOperating Frequency2G GSM: 850/900/1800/1900 MHz, 3G WCDMA: B1/B5/B8, 4G LTE FDD: B1/B3/B5/B7/B8, 4G LTE TD: B38/B40/B41 (2535 - 2656 MHz) ::index-139\n",
      "-  SystemAndroid 10Processor TypeMediaTek Helio P35 (MT6765)Processor CoreOcta CorePrimary Clock Speed2.3 GHz Frequency2G GSM: 850/900/1800/1900 MHz, 3G WCDMA: B1/B5/B8, 4G LTE FDD: B1/B3/B5/B7/B8, 4G LTE TD: B38/B40/B41 (2535 - 2656 MHz)\n",
      "\n",
      "Operating SystemAndroid 11Processor TypeQualcomm Snapdragon 680Processor CoreOcta CorePrimary Clock Speed2.4 GHzSecondary Clock Speed1.9 GHzOperating Frequency2G GSM: 850/900/1800/1900, 3G WCDMA: B1/B5/B8, 4G LTE TDD: B38/B40/B41 (2496 - 2690 MHz), 4G LTE FDD: B1/B3/B5/B7/B8/B20/B28 ::index-31\n",
      "-  SystemAndroid 11Processor TypeQualcomm Snapdragon 680Processor CoreOcta CorePrimary Clock Speed2.4 GHzSecondary Clock Speed1.9 GHz Frequency2G GSM: 850/900/1800/1900, 3G WCDMA: B1/B5/B8, 4G LTE TDD: B38/B40/B41 (2496 - 2690 MHz), 4G LTE FDD: B1/B3/B5/B7/B8/B20/B28\n",
      "\n",
      "Operating SystemAndroid Oreo 8.1.0Processor TypeMTK P60 Octa Core 2.0 GHzProcessor CoreOcta CorePrimary Clock Speed2 GHzOperating FrequencyGSM: 850 / 900 / 1800 / 1900 MHz, WCDMA: 850 / 900 / 2100 MHz, 4G FDD-LTE: Bands 1 / 3 / 5 / 8, TD-LTE: Bands 38 / 40 / 41 (2535 - 2655 MHz) ::index-159\n",
      "-  SystemAndroid Oreo 8.1.0Processor TypeMTK P60 Octa Core 2.0 GHzProcessor CoreOcta CorePrimary Clock Speed2 GHz FrequencyGSM: 850 / 900 / 1800 / 1900 MHz, WCDMA: 850 / 900 / 2100 MHz, 4G FDD-LTE: Bands 1 / 3 / 5 / 8, TD-LTE: Bands 38 / 40 / 41 (2535 - 2655 MHz)\n",
      "\n",
      "None\n",
      "Operating SystemAndroid 11Processor TypeQualcomm Snapdragon 695Processor CoreOcta CorePrimary Clock Speed2.2 GHzOperating Frequency5G NR: n1/n3/n5/n7/n8/n20/n28/n38/n40/n41/n66/n77/n78, 4G LTE: B1/B2/B3/B4/B5/B7/B8/B12/B13/B17/B18/B19/B20/B26/B28/B32/B38/B40/B41/B42/B43/B66, 3G WCDMA: B1/B2/B5/B8, 2G GSM: B2/B3/B5/B8 ::index-84\n",
      "-  SystemAndroid 11Processor TypeQualcomm Snapdragon 695Processor CoreOcta CorePrimary Clock Speed2.2 GHz Frequency5G NR: n1/n3/n5/n7/n8/n20/n28/n38/n40/n41/n66/n77/n78, 4G LTE: B1/B2/B3/B4/B5/B7/B8/B12/B13/B17/B18/B19/B20/B26/B28/B32/B38/B40/B41/B42/B43/B66, 3G WCDMA: B1/B2/B5/B8, 2G GSM: B2/B3/B5/B8\n",
      "\n",
      "Operating SystemAndroid 12Processor TypeQualcomm Snapdragon 695 5GProcessor CoreOcta CorePrimary Clock Speed2.2 GHzSecondary Clock Speed1.7 GHzOperating Frequency5G NR: 1/3/5/7/8/28/38/41/66/77/78, 4G LTE: 1/2/3/4/5/7/8/12/18/19/20/26/28/38/39/40/41/42/43/66, 3G UMTS: 1/2/4/5/8, 2G GSM: 2/3/5/8 ::index-103\n",
      "-  SystemAndroid 12Processor TypeQualcomm Snapdragon 695 5GProcessor CoreOcta CorePrimary Clock Speed2.2 GHzSecondary Clock Speed1.7 GHz Frequency5G NR: 1/3/5/7/8/28/38/41/66/77/78, 4G LTE: 1/2/3/4/5/7/8/12/18/19/20/26/28/38/39/40/41/42/43/66, 3G UMTS: 1/2/4/5/8, 2G GSM: 2/3/5/8\n",
      "\n",
      "Operating SystemAndroid 11Processor TypeMediaTek Dimensity 800UProcessor CoreOcta CorePrimary Clock Speed2.4 GHzSecondary Clock Speed2 GHzOperating Frequency2G GSM: Band 2/3/5/8, 3G WCDMA: Band 1/2/5/8, 4G LTE: Band 1/2/3/4/5/7/8/12/13/17/18/19/20/26/28/32/34/38/39/40/41/42/43/66, 5G NR: 1/3/5/7/8/20/28/38/40/41/77/78/66 ::index-105\n",
      "-  SystemAndroid 11Processor TypeMediaTek Dimensity 800UProcessor CoreOcta CorePrimary Clock Speed2.4 GHzSecondary Clock Speed2 GHz Frequency2G GSM: Band 2/3/5/8, 3G WCDMA: Band 1/2/5/8, 4G LTE: Band 1/2/3/4/5/7/8/12/13/17/18/19/20/26/28/32/34/38/39/40/41/42/43/66, 5G NR: 1/3/5/7/8/20/28/38/40/41/77/78/66\n",
      "\n",
      "Operating SystemAndroid 12Processor TypeQualcomm Snapdragon 8 Gen 1Processor CoreOcta CorePrimary Clock Speed3 GHzSecondary Clock Speed2.5 GHzTertiary Clock Speed1.8 GHzOperating Frequency5G NR: n1/n3/n5/n7/n8/n20/n28/n38/n40/n41/n66/n77/n78, 4G LTE: B1/B2/B3/B4/B5/B7/B8/B12/B13/B17/B18/B19/B20/B25/B26/B28/B32/B38/B39/B40/B41/B42/B43/B48/B66, 3G UMTS: B1/B2/B4/B5/B8, 2G GSM: B2/B3/B5/B8 ::index-118\n",
      "-  SystemAndroid 12Processor TypeQualcomm Snapdragon 8 Gen 1Processor CoreOcta CorePrimary Clock Speed3 GHzSecondary Clock Speed2.5 GHzTertiary Clock Speed1.8 GHz Frequency5G NR: n1/n3/n5/n7/n8/n20/n28/n38/n40/n41/n66/n77/n78, 4G LTE: B1/B2/B3/B4/B5/B7/B8/B12/B13/B17/B18/B19/B20/B25/B26/B28/B32/B38/B39/B40/B41/B42/B43/B48/B66, 3G UMTS: B1/B2/B4/B5/B8, 2G GSM: B2/B3/B5/B8\n",
      "\n",
      "Operating SystemAndroid 13Processor TypeDimensity 8020Processor CoreOcta CorePrimary Clock Speed2.6 GHzOperating Frequency5G: n1/n2/n3/n5/n7/n8/n20/n28/n38/n40/n41/n66/n77/n78, 4G: B1/B2/B3/B4/B5/B7/B8/B12/B13/B17/B20/B26/B28/B32/B38/B39/B40/B41/B42/B43/B66, 3G: B1/B2/B4/B5/B8, 2G: B2/B3/B5/B8 ::index-24\n",
      "-  SystemAndroid 13Processor TypeDimensity 8020Processor CoreOcta CorePrimary Clock Speed2.6 GHz Frequency5G: n1/n2/n3/n5/n7/n8/n20/n28/n38/n40/n41/n66/n77/n78, 4G: B1/B2/B3/B4/B5/B7/B8/B12/B13/B17/B20/B26/B28/B32/B38/B39/B40/B41/B42/B43/B66, 3G: B1/B2/B4/B5/B8, 2G: B2/B3/B5/B8\n",
      "\n",
      "Operating SystemAndroid 13Processor TypeDimensity 8020Processor CoreOcta CorePrimary Clock Speed2.6 GHzOperating Frequency5G: n1/n2/n3/n5/n7/n8/n20/n28/n38/n40/n41/n66/n77/n78, 4G: B1/B2/B3/B4/B5/B7/B8/B12/B13/B17/B20/B26/B28/B32/B38/B39/B40/B41/B42/B43/B66, 3G: B1/B2/B4/B5/B8, 2G: B2/B3/B5/B8 ::index-75\n",
      "-  SystemAndroid 13Processor TypeDimensity 8020Processor CoreOcta CorePrimary Clock Speed2.6 GHz Frequency5G: n1/n2/n3/n5/n7/n8/n20/n28/n38/n40/n41/n66/n77/n78, 4G: B1/B2/B3/B4/B5/B7/B8/B12/B13/B17/B20/B26/B28/B32/B38/B39/B40/B41/B42/B43/B66, 3G: B1/B2/B4/B5/B8, 2G: B2/B3/B5/B8\n",
      "\n",
      "Primary Camera AvailableYesPrimary Camera 50MP + 50MP + 2MP ::index-119\n",
      "- Primary Camera AvailableYesPrimary Camera 50MP + 50MP + 2MP\n",
      "\n",
      "Operating SystemAndroid 12Processor TypeQualcomm Snapdragon 695 5GProcessor CoreOcta CorePrimary Clock Speed2.2 GHzSecondary Clock Speed1.7 GHzOperating Frequency5G NR: 1/3/5/7/8/28/38/41/66/77/78, 4G LTE: 1/2/3/4/5/7/8/12/18/19/20/26/28/38/39/40/41/42/43/66, 3G UMTS: 1/2/4/5/8, 2G GSM: 2/3/5/8 ::index-103\n",
      "-  SystemAndroid 12Processor TypeQualcomm Snapdragon 695 5GProcessor CoreOcta CorePrimary Clock Speed2.2 GHzSecondary Clock Speed1.7 GHz Frequency5G NR: 1/3/5/7/8/28/38/41/66/77/78, 4G LTE: 1/2/3/4/5/7/8/12/18/19/20/26/28/38/39/40/41/42/43/66, 3G UMTS: 1/2/4/5/8, 2G GSM: 2/3/5/8\n",
      "\n",
      "None\n",
      "Operating SystemAndroid 13Processor TypeGoogle Tensor G2Operating Frequency2G GSM/EDGE: Quad Band (850/900/1800/1900 MHz), 3G UMTS/HSPA+/HSDPA: B1/B2/B4/B5/B6/B8/B19, 4G LTE: B1/B2/B3/B4/B5/B7/B8/B12/B13/B14/B17/B18/B19/B20/B25/B26/B28/B29/B30/B32/B38/B39/B40/B41/B42/B46/B48/B66/B71, 5G sub-62: n1/n2/n3/n5/n7/n8/n12/n14/n20/n25/n28/n30/n38/n40/n41/n48/n66/n71/n75/n76/n77/n78, eSIM ::index-7\n",
      "-  SystemAndroid 13Processor TypeGoogle Tensor G2 Frequency2G GSM/EDGE: Quad Band (850/900/1800/1900 MHz), 3G UMTS/HSPA+/HSDPA: B1/B2/B4/B5/B6/B8/B19, 4G LTE: B1/B2/B3/B4/B5/B7/B8/B12/B13/B14/B17/B18/B19/B20/B25/B26/B28/B29/B30/B32/B38/B39/B40/B41/B42/B46/B48/B66/B71, 5G sub-62: n1/n2/n3/n5/n7/n8/n12/n14/n20/n25/n28/n30/n38/n40/n41/n48/n66/n71/n75/n76/n77/n78, eSIM\n",
      "\n",
      "Operating SystemAndroid Pie 9Processor TypeQualcomm SDM670 Snapdragon 670 (10 nm)Processor CoreQuad CorePrimary Clock Speed2 MHzSecondary Clock Speed1.7 GHzOperating FrequencyGSM / CDMA / HSPA / EVDO / LTE ::index-11\n",
      "-  SystemAndroid Pie 9Processor TypeQualcomm SDM670 Snapdragon 670 (10 nm)Processor CoreQuad CorePrimary Clock Speed2 MHzSecondary Clock Speed1.7 GHz FrequencyGSM / CDMA / HSPA / EVDO / LTE\n",
      "\n",
      "Operating SystemAndroid 13Processor TypeTensor G2Operating Frequency2G GSM: 850 MHz/900 MHz/1800 MHz/1900 MHz, 3G UMTS: B1/B2/B4/B5/B6/B8/B19, 4G LTE: B1/B2/B3/B4/B5/B7/B8/B12/B17/B18/B19/B20/B21/B25/B28/B32/B38/B39/B40/B41/B42/B66, 5G: n1/n2/n3/n5/n7/n8/n12/n20/n25/n28/n38/n40/n41/n66/n75/n76/n77/n78/n79, eSIM ::index-1\n",
      "-  SystemAndroid 13Processor TypeTensor G2 Frequency2G GSM: 850 MHz/900 MHz/1800 MHz/1900 MHz, 3G UMTS: B1/B2/B4/B5/B6/B8/B19, 4G LTE: B1/B2/B3/B4/B5/B7/B8/B12/B17/B18/B19/B20/B21/B25/B28/B32/B38/B39/B40/B41/B42/B66, 5G: n1/n2/n3/n5/n7/n8/n12/n20/n25/n28/n38/n40/n41/n66/n75/n76/n77/n78/n79, eSIM\n",
      "\n",
      "Operating SystemAndroid 13Processor TypeGoogle Tensor G2Operating Frequency2G GSM/EDGE: Quad Band (850/900/1800/1900 MHz), 3G UMTS/HSPA+/HSDPA: B1/B2/B4/B5/B6/B8/B19, 4G LTE: B1/B2/B3/B4/B5/B7/B8/B12/B13/B14/B17/B18/B19/B20/B25/B26/B28/B29/B30/B32/B38/B39/B40/B41/B46/B48/B66/B71, 5G sub-62: n1/n2/n3/n5/n7/n8/n12/n14/n20/n25/n28/n30/n38/n40/n41/n48/n66/n71/n75/n76/n77/n78 ::index-9\n",
      "-  SystemAndroid 13Processor TypeGoogle Tensor G2 Frequency2G GSM/EDGE: Quad Band (850/900/1800/1900 MHz), 3G UMTS/HSPA+/HSDPA: B1/B2/B4/B5/B6/B8/B19, 4G LTE: B1/B2/B3/B4/B5/B7/B8/B12/B13/B14/B17/B18/B19/B20/B25/B26/B28/B29/B30/B32/B38/B39/B40/B41/B46/B48/B66/B71, 5G sub-62: n1/n2/n3/n5/n7/n8/n12/n14/n20/n25/n28/n30/n38/n40/n41/n48/n66/n71/n75/n76/n77/n78\n",
      "\n",
      "Operating SystemAndroid Q 11Processor TypeMediatek P70 Helios Octa CoreProcessor CoreOcta CorePrimary Clock Speed2 GHzSecondary Clock Speed2 GHzTertiary Clock Speed2 GHzOperating Frequency2.0 ::index-12\n",
      "-  SystemAndroid Q 11Processor TypeMediatek P70 Helios Octa CoreProcessor CoreOcta CorePrimary Clock Speed2 GHzSecondary Clock Speed2 GHzTertiary Clock Speed2 GHz Frequency2.0\n",
      "\n",
      "Operating SystemAndroid 12Processor TypeGoogle TensorOperating Frequency2G GSM/EDGE: Quad Band (850/900/1800/1900 MHz), 3G UMTS/HSPA+/HSDPA: B1/B2/B4/B5/B6/B8/B19, 4G LTE: B1/B2/B3/B4/B5/B7/B8/B12/B13/B14/B17/B18/B19/B20/B25/B26/B28/B29/B30/B38/B39/B40/B41/B42/B48/B66/B71, 5G Sub-62: n1/n2/n3/n5/n7/n8/n12/n20/n25/n28/n30/n38/n40/n41/n48/n66/n71/n77/n78 ::index-4\n",
      "-  SystemAndroid 12Processor TypeGoogle Tensor Frequency2G GSM/EDGE: Quad Band (850/900/1800/1900 MHz), 3G UMTS/HSPA+/HSDPA: B1/B2/B4/B5/B6/B8/B19, 4G LTE: B1/B2/B3/B4/B5/B7/B8/B12/B13/B14/B17/B18/B19/B20/B25/B26/B28/B29/B30/B38/B39/B40/B41/B42/B48/B66/B71, 5G Sub-62: n1/n2/n3/n5/n7/n8/n12/n20/n25/n28/n30/n38/n40/n41/n48/n66/n71/n77/n78\n",
      "\n",
      "Operating SystemAndroid Q 11Processor TypeMediatek P70 Helios Octa CoreProcessor CoreOcta CorePrimary Clock Speed2 GHzSecondary Clock Speed2 GHzTertiary Clock Speed2 GHzOperating Frequency2.0 ::index-14\n",
      "-  SystemAndroid Q 11Processor TypeMediatek P70 Helios Octa CoreProcessor CoreOcta CorePrimary Clock Speed2 GHzSecondary Clock Speed2 GHzTertiary Clock Speed2 GHz Frequency2.0\n",
      "\n",
      "Operating SystemAndroid 13Processor TypeTensor G2Operating Frequency2G GSM: 850 MHz/900 MHz/1800 MHz/1900 MHz, 3G UMTS: B1/B2/B4/B5/B6/B8/B19, 4G LTE: B1/B2/B3/B4/B5/B7/B8/B12/B17/B18/B19/B20/B21/B25/B28/B32/B38/B39/B40/B41/B42/B66, 5G: n1/n2/n3/n5/n7/n8/n12/n20/n25/n28/n38/n40/n41/n66/n75/n76/n77/n78/n79, eSIM ::index-0\n",
      "-  SystemAndroid 13Processor TypeTensor G2 Frequency2G GSM: 850 MHz/900 MHz/1800 MHz/1900 MHz, 3G UMTS: B1/B2/B4/B5/B6/B8/B19, 4G LTE: B1/B2/B3/B4/B5/B7/B8/B12/B17/B18/B19/B20/B21/B25/B28/B32/B38/B39/B40/B41/B42/B66, 5G: n1/n2/n3/n5/n7/n8/n12/n20/n25/n28/n38/n40/n41/n66/n75/n76/n77/n78/n79, eSIM\n",
      "\n",
      "None\n",
      "Operating SystemAndroid 13Processor TypeMediatek MT6769H Helio G88Processor CoreOcta CorePrimary Clock Speed2 GHzSecondary Clock Speed1.8 GHz ::index-57\n",
      "-  SystemAndroid 13Processor TypeMediatek MT6769H Helio G88Processor CoreOcta CorePrimary Clock Speed2 GHzSecondary Clock Speed1.8 GHz\n",
      "\n",
      "Operating SystemAndroid 12.0Primary Clock Speed1.6 MHz ::index-75\n",
      "-  SystemAndroid 12.0Primary Clock Speed1.6 MHz\n",
      "\n",
      "Operating SystemAndroid 13Processor TypeMediatek MT6765 Helio G37Processor CoreOcta CorePrimary Clock Speed2.3 GHzSecondary Clock Speed1.7 GHz ::index-76\n",
      "-  SystemAndroid 13Processor TypeMediatek MT6765 Helio G37Processor CoreOcta CorePrimary Clock Speed2.3 GHzSecondary Clock Speed1.7 GHz\n",
      "\n",
      "Operating SystemAndroid HiOS 12.0 based on Android 13Processor CoreOcta CorePrimary Clock Speed3.05 GHz ::index-84\n",
      "-  SystemAndroid HiOS 12.0 based on Android 13Processor CoreOcta CorePrimary Clock Speed3.05 GHz\n",
      "\n",
      "Operating SystemAndroid Pie 9Processor TypeMediatek HelioProcessor CoreOcta CorePrimary Clock Speed2 GHzOperating FrequencyGSM: B2/B3/B5/B8 , WCDMA: B1/B5/B8, LTE : B1/B3/B5/B8/B38/B40/B41 ::index-88\n",
      "-  SystemAndroid Pie 9Processor TypeMediatek HelioProcessor CoreOcta CorePrimary Clock Speed2 GHz FrequencyGSM: B2/B3/B5/B8 , WCDMA: B1/B5/B8, LTE : B1/B3/B5/B8/B38/B40/B41\n",
      "\n",
      "Operating SystemAndroid 13Processor TypeMediatek MT6769Z Helio G85Processor CoreOcta CorePrimary Clock Speed2 GHzSecondary Clock Speed1.8 GHz ::index-62\n",
      "-  SystemAndroid 13Processor TypeMediatek MT6769Z Helio G85Processor CoreOcta CorePrimary Clock Speed2 GHzSecondary Clock Speed1.8 GHz\n",
      "\n",
      "Operating SystemAndroid HiOS 12.0 based on Android 13Processor CoreOcta CorePrimary Clock Speed3.05 GHz ::index-84\n",
      "-  SystemAndroid HiOS 12.0 based on Android 13Processor CoreOcta CorePrimary Clock Speed3.05 GHz\n",
      "\n",
      "Operating SystemAndroid 12Processor TypeMediaTek Helio G88Processor CoreOcta CorePrimary Clock Speed2 GHzSecondary Clock Speed1.8 GHz ::index-95\n",
      "-  SystemAndroid 12Processor TypeMediaTek Helio G88Processor CoreOcta CorePrimary Clock Speed2 GHzSecondary Clock Speed1.8 GHz\n",
      "\n",
      "None\n",
      "Operating SystemAndroid 11Processor TypeMediatek Helio G88Processor CoreOcta CorePrimary Clock Speed2 GHzOperating Frequency2G GSM: B2/B3/B5/B8, 3G WCDMA: B1/B5/B8, 4G LTE: B1/B3/B5/B8/B38/B40/B41 ::index-79\n",
      "-  SystemAndroid 11Processor TypeMediatek Helio G88Processor CoreOcta CorePrimary Clock Speed2 GHz Frequency2G GSM: B2/B3/B5/B8, 3G WCDMA: B1/B5/B8, 4G LTE: B1/B3/B5/B8/B38/B40/B41\n",
      "\n",
      "Operating SystemAndroid 12Processor TypeMediatek Dimensity 810 5GProcessor CoreOcta CorePrimary Clock Speed2.4 GHzOperating Frequency2G GSM: B2/B3/B5/B8, 3G WCDMA: B1/B5/B8, 4G LTE: B1/B3/B5/B7/B8/B20/B28/B38/B40/B41, 5G: n38/n40/n41/n77/n78/n1/n3/n5/n7/n8/n20/n28 ::index-51\n",
      "-  SystemAndroid 12Processor TypeMediatek Dimensity 810 5GProcessor CoreOcta CorePrimary Clock Speed2.4 GHz Frequency2G GSM: B2/B3/B5/B8, 3G WCDMA: B1/B5/B8, 4G LTE: B1/B3/B5/B7/B8/B20/B28/B38/B40/B41, 5G: n38/n40/n41/n77/n78/n1/n3/n5/n7/n8/n20/n28\n",
      "\n",
      "Operating SystemAndroid 11Processor TypeMediatek Helio G96Processor CoreOcta CorePrimary Clock Speed2.05 GHzOperating Frequency2G GSM: B2/B3/B5/B8, 3G WCDMA: B1/B5/B8, 4G LTE: B1/B3/B5/B8/B38/B40/B41 ::index-160\n",
      "-  SystemAndroid 11Processor TypeMediatek Helio G96Processor CoreOcta CorePrimary Clock Speed2.05 GHz Frequency2G GSM: B2/B3/B5/B8, 3G WCDMA: B1/B5/B8, 4G LTE: B1/B3/B5/B8/B38/B40/B41\n",
      "\n",
      "Operating SystemAndroid 11Processor TypeMediaTek Helio G85Processor CoreOcta CorePrimary Clock Speed2 GHzOperating Frequency2G GSM: B2/B3/B5/B8, 3G WCDMA: B1/B5/B8, 4G LTE: B1/B3/B5/B8/B38/B40/B41 ::index-105\n",
      "-  SystemAndroid 11Processor TypeMediaTek Helio G85Processor CoreOcta CorePrimary Clock Speed2 GHz Frequency2G GSM: B2/B3/B5/B8, 3G WCDMA: B1/B5/B8, 4G LTE: B1/B3/B5/B8/B38/B40/B41\n",
      "\n",
      "Operating SystemAndroid 12Processor TypeMediatek Dimensity 920Processor CoreOcta CorePrimary Clock Speed2.5 GHzOperating Frequency2G GSM: B2/B3/B5/B8, 3G WCDMA: B1/B5/B8, 4G LTE FDD: B1/B3/B5/B7/B8/B20/B28, 4G LTE TDD: B38/B40/B41, 5G: n38/n40/n41/n77/n78/n1/n3/n5/n7/n8/n20/n28 ::index-72\n",
      "-  SystemAndroid 12Processor TypeMediatek Dimensity 920Processor CoreOcta CorePrimary Clock Speed2.5 GHz Frequency2G GSM: B2/B3/B5/B8, 3G WCDMA: B1/B5/B8, 4G LTE FDD: B1/B3/B5/B7/B8/B20/B28, 4G LTE TDD: B38/B40/B41, 5G: n38/n40/n41/n77/n78/n1/n3/n5/n7/n8/n20/n28\n",
      "\n",
      "Operating SystemAndroid 12Processor TypeDimensity 810Processor CoreOcta CorePrimary Clock Speed2.4 GHzOperating Frequency2G GSM: B2/B3/B5/B8, 3G WCDMA: B1/B5/B8, 4G LTE: B1/B3/B5/B7/B8/B20/B28/B38/B40/B41, 5G: n1/n3/n5/n7/n8/n20/n28/38/n40/n41/n77/n78 ::index-38\n",
      "-  SystemAndroid 12Processor TypeDimensity 810Processor CoreOcta CorePrimary Clock Speed2.4 GHz Frequency2G GSM: B2/B3/B5/B8, 3G WCDMA: B1/B5/B8, 4G LTE: B1/B3/B5/B7/B8/B20/B28/B38/B40/B41, 5G: n1/n3/n5/n7/n8/n20/n28/38/n40/n41/n77/n78\n",
      "\n",
      "Operating SystemAndroid 12Processor TypeUnisoc T616Processor CoreOcta CorePrimary Clock Speed1.8 GHzOperating Frequency2G GSM: B2/B3/B5/B8, 3G WCDMA: B1/B5/B8, 4G LTE: B1/B3/B5/B8/B38/B40/B41 ::index-68\n",
      "-  SystemAndroid 12Processor TypeUnisoc T616Processor CoreOcta CorePrimary Clock Speed1.8 GHz Frequency2G GSM: B2/B3/B5/B8, 3G WCDMA: B1/B5/B8, 4G LTE: B1/B3/B5/B8/B38/B40/B41\n",
      "\n",
      "Operating SystemAndroid 11Processor TypeMediaTek Helio G88Processor CoreOcta CorePrimary Clock Speed2 GHzOperating Frequency2G GSM: B2/B3/B5/B8, 3G WCDMA: B1/B5/B8, 4G LTE: B1/B3/B5/B8/B38/B40/B41 ::index-40\n",
      "-  SystemAndroid 11Processor TypeMediaTek Helio G88Processor CoreOcta CorePrimary Clock Speed2 GHz Frequency2G GSM: B2/B3/B5/B8, 3G WCDMA: B1/B5/B8, 4G LTE: B1/B3/B5/B8/B38/B40/B41\n",
      "\n",
      "None\n"
     ]
    }
   ],
   "source": [
    "for i in dataframes_list:\n",
    "    print(test_func(func=remove_operating,col_name='os_processor',df=i))\n"
   ]
  },
  {
   "cell_type": "code",
   "execution_count": 121,
   "metadata": {},
   "outputs": [],
   "source": [
    "def extract_processor(text):\n",
    "    string = text.split()\n",
    "    find = re.findall(r'Speed\\d.*+',' '.join(string))\n",
    "    find = ' '.join(find).split()\n",
    "    pattern = r'.*Processor'\n",
    "    match = re.findall(pattern, text)\n",
    "    \n",
    "    if match:\n",
    "        return match[0]  + ' '+ ''.join(find[0])\n",
    "    else:\n",
    "        return text\n"
   ]
  },
  {
   "cell_type": "code",
   "execution_count": 122,
   "metadata": {},
   "outputs": [
    {
     "data": {
      "text/html": [
       "<div>\n",
       "<style scoped>\n",
       "    .dataframe tbody tr th:only-of-type {\n",
       "        vertical-align: middle;\n",
       "    }\n",
       "\n",
       "    .dataframe tbody tr th {\n",
       "        vertical-align: top;\n",
       "    }\n",
       "\n",
       "    .dataframe thead th {\n",
       "        text-align: right;\n",
       "    }\n",
       "</style>\n",
       "<table border=\"1\" class=\"dataframe\">\n",
       "  <thead>\n",
       "    <tr style=\"text-align: right;\">\n",
       "      <th></th>\n",
       "      <th>name</th>\n",
       "      <th>ratings</th>\n",
       "      <th>price</th>\n",
       "      <th>imgURL</th>\n",
       "      <th>storage_ram</th>\n",
       "      <th>os_processor</th>\n",
       "      <th>camera</th>\n",
       "      <th>display</th>\n",
       "      <th>network</th>\n",
       "      <th>battery</th>\n",
       "    </tr>\n",
       "  </thead>\n",
       "  <tbody>\n",
       "    <tr>\n",
       "      <th>0</th>\n",
       "      <td>SAMSUNG Galaxy F13 (Sunrise Copper, 64 GB)</td>\n",
       "      <td>4.3</td>\n",
       "      <td>₹9,499</td>\n",
       "      <td>https://rukminim2.flixcart.com/image/312/312/x...</td>\n",
       "      <td>Internal Storage64 GBRAM4 GBExpandable Storage...</td>\n",
       "      <td>Operating SystemAndroid 12Processor TypeExynos...</td>\n",
       "      <td>Primary Camera AvailableYesPrimary Camera50MP ...</td>\n",
       "      <td>Display Size16.76 cm (6.6 inch)Resolution2408 ...</td>\n",
       "      <td>Network Type4G, 3G, 2GSupported Networks4G LTE...</td>\n",
       "      <td>Battery Capacity6000 mAhDual BatteryNo</td>\n",
       "    </tr>\n",
       "    <tr>\n",
       "      <th>1</th>\n",
       "      <td>SAMSUNG Galaxy F13 (Waterfall Blue, 128 GB)</td>\n",
       "      <td>4.3</td>\n",
       "      <td>₹10,499</td>\n",
       "      <td>https://rukminim2.flixcart.com/image/312/312/x...</td>\n",
       "      <td>Internal Storage128 GBRAM4 GBExpandable Storag...</td>\n",
       "      <td>Operating SystemAndroid 12Processor TypeExynos...</td>\n",
       "      <td>Primary Camera AvailableYesPrimary Camera50MP ...</td>\n",
       "      <td>Display Size16.76 cm (6.6 inch)Resolution2408 ...</td>\n",
       "      <td>Network Type4G, 3G, 2GSupported Networks4G LTE...</td>\n",
       "      <td>Battery Capacity6000 mAhDual BatteryNo</td>\n",
       "    </tr>\n",
       "    <tr>\n",
       "      <th>2</th>\n",
       "      <td>SAMSUNG Galaxy F13 (Nightsky Green, 128 GB)</td>\n",
       "      <td>4.3</td>\n",
       "      <td>₹10,499</td>\n",
       "      <td>https://rukminim2.flixcart.com/image/312/312/x...</td>\n",
       "      <td>Internal Storage128 GBRAM4 GBExpandable Storag...</td>\n",
       "      <td>Operating SystemAndroid 12Processor TypeExynos...</td>\n",
       "      <td>Primary Camera AvailableYesPrimary Camera50MP ...</td>\n",
       "      <td>Display Size16.76 cm (6.6 inch)Resolution2408 ...</td>\n",
       "      <td>Network Type4G, 3G, 2GSupported Networks4G LTE...</td>\n",
       "      <td>Battery Capacity6000 mAhDual BatteryNo</td>\n",
       "    </tr>\n",
       "    <tr>\n",
       "      <th>3</th>\n",
       "      <td>SAMSUNG Galaxy F13 (Sunrise Copper, 128 GB)</td>\n",
       "      <td>4.3</td>\n",
       "      <td>₹10,499</td>\n",
       "      <td>https://rukminim2.flixcart.com/image/312/312/x...</td>\n",
       "      <td>Internal Storage128 GBRAM4 GBExpandable Storag...</td>\n",
       "      <td>Operating SystemAndroid 12Processor TypeExynos...</td>\n",
       "      <td>Primary Camera AvailableYesPrimary Camera50MP ...</td>\n",
       "      <td>Display Size16.76 cm (6.6 inch)Resolution2408 ...</td>\n",
       "      <td>Network Type4G, 3G, 2GSupported Networks4G LTE...</td>\n",
       "      <td>Battery Capacity6000 mAhDual BatteryNo</td>\n",
       "    </tr>\n",
       "    <tr>\n",
       "      <th>4</th>\n",
       "      <td>SAMSUNG Galaxy F23 5G (Aqua Blue, 128 GB)</td>\n",
       "      <td>4.3</td>\n",
       "      <td>₹15,499</td>\n",
       "      <td>https://rukminim2.flixcart.com/image/312/312/x...</td>\n",
       "      <td>Internal Storage128 GBRAM6 GBTotal Memory128 G...</td>\n",
       "      <td>Operating SystemAndroid 12Processor TypeQualco...</td>\n",
       "      <td>Primary Camera AvailableYesPrimary Camera50MP ...</td>\n",
       "      <td>Display Size16.76 cm (6.6 inch)Resolution2408 ...</td>\n",
       "      <td>Network Type5G, 4G, 3G, 2GSupported Networks5G...</td>\n",
       "      <td>Battery Capacity5000 mAh</td>\n",
       "    </tr>\n",
       "    <tr>\n",
       "      <th>...</th>\n",
       "      <td>...</td>\n",
       "      <td>...</td>\n",
       "      <td>...</td>\n",
       "      <td>...</td>\n",
       "      <td>...</td>\n",
       "      <td>...</td>\n",
       "      <td>...</td>\n",
       "      <td>...</td>\n",
       "      <td>...</td>\n",
       "      <td>...</td>\n",
       "    </tr>\n",
       "    <tr>\n",
       "      <th>569</th>\n",
       "      <td>SAMSUNG Galaxy M40 (Seawater Blue, 128 GB)</td>\n",
       "      <td>4.5</td>\n",
       "      <td>₹21,490</td>\n",
       "      <td>https://rukminim2.flixcart.com/image/312/312/k...</td>\n",
       "      <td>Internal Storage128 GBRAM6 GBMemory Card Slot ...</td>\n",
       "      <td>Operating SystemAndroid Pie 9.0Processor CoreO...</td>\n",
       "      <td>Primary Camera32MP Rear CameraDual Camera Lens...</td>\n",
       "      <td>Display Size16.0 cm (6.3 inch)Resolution2340 x...</td>\n",
       "      <td>Network Type4G, 3G, 2GSupported Networks4G LTE...</td>\n",
       "      <td>Battery Capacity3500 mAh</td>\n",
       "    </tr>\n",
       "    <tr>\n",
       "      <th>570</th>\n",
       "      <td>SAMSUNG Galaxy Note 20 Ultra 5G (Mystic Bronze...</td>\n",
       "      <td>4.3</td>\n",
       "      <td>₹1,04,999</td>\n",
       "      <td>https://rukminim2.flixcart.com/image/312/312/k...</td>\n",
       "      <td>Internal Storage256 GBRAM12 GBExpandable Stora...</td>\n",
       "      <td>Operating SystemAndroid 10Processor TypeExynos...</td>\n",
       "      <td>Primary Camera AvailableYesPrimary Camera108MP...</td>\n",
       "      <td>Display Size17.53 cm (6.9 inch)Resolution3088 ...</td>\n",
       "      <td>Network Type5G, 4G, 3G, 2GSupported Networks5G...</td>\n",
       "      <td>Battery Capacity4500 mAh</td>\n",
       "    </tr>\n",
       "    <tr>\n",
       "      <th>571</th>\n",
       "      <td>SAMSUNG Galaxy A30s (Prism Crush Violet, 64 GB)</td>\n",
       "      <td>4.3</td>\n",
       "      <td>₹16,199</td>\n",
       "      <td>https://rukminim2.flixcart.com/image/312/312/k...</td>\n",
       "      <td>Internal Storage64 GBRAM4 GBSupported Memory C...</td>\n",
       "      <td>Operating SystemAndroid Pie 9.0Processor TypeE...</td>\n",
       "      <td>Primary Camera AvailableYesPrimary Camera25MP ...</td>\n",
       "      <td>Display Size16.26 cm (6.4 inch)Resolution1920 ...</td>\n",
       "      <td>Network Type3G, 4G, 2GSupported NetworksGSM, W...</td>\n",
       "      <td>Battery Capacity4000 mAh</td>\n",
       "    </tr>\n",
       "    <tr>\n",
       "      <th>572</th>\n",
       "      <td>SAMSUNG Galaxy J4 Plus (Black, 32 GB)</td>\n",
       "      <td>4.4</td>\n",
       "      <td>₹9,000</td>\n",
       "      <td>https://rukminim2.flixcart.com/image/312/312/j...</td>\n",
       "      <td>Internal Storage32 GBRAM2 GBExpandable Storage...</td>\n",
       "      <td>Operating SystemAndroid Oreo 8.1Processor Type...</td>\n",
       "      <td>Primary Camera AvailableYesPrimary Camera13MP ...</td>\n",
       "      <td>Display Size15.24 cm (6 inch)Resolution720 x 1...</td>\n",
       "      <td>Network Type3G, 4G, 2GSupported NetworksGSM, W...</td>\n",
       "      <td>Battery Capacity3300 mAhDual BatteryNo</td>\n",
       "    </tr>\n",
       "    <tr>\n",
       "      <th>573</th>\n",
       "      <td>SAMSUNG Galaxy A71 (Prism Crush Black, 128 GB)</td>\n",
       "      <td>4.2</td>\n",
       "      <td>₹34,999</td>\n",
       "      <td>https://rukminim2.flixcart.com/image/312/312/k...</td>\n",
       "      <td>Internal Storage128 GBRAM8 GBExpandable Storag...</td>\n",
       "      <td>Operating SystemAndroid 10Processor TypeQualco...</td>\n",
       "      <td>Primary Camera AvailableYesPrimary Camera64MP ...</td>\n",
       "      <td>Display Size17.02 cm (6.7 inch)Resolution2340 ...</td>\n",
       "      <td>Network Type4G VOLTE, 4G, 3G, 2GSupported Netw...</td>\n",
       "      <td>Battery Capacity4500 mAh</td>\n",
       "    </tr>\n",
       "  </tbody>\n",
       "</table>\n",
       "<p>539 rows × 10 columns</p>\n",
       "</div>"
      ],
      "text/plain": [
       "                                                  name  ratings      price   \n",
       "0           SAMSUNG Galaxy F13 (Sunrise Copper, 64 GB)      4.3     ₹9,499  \\\n",
       "1          SAMSUNG Galaxy F13 (Waterfall Blue, 128 GB)      4.3    ₹10,499   \n",
       "2          SAMSUNG Galaxy F13 (Nightsky Green, 128 GB)      4.3    ₹10,499   \n",
       "3          SAMSUNG Galaxy F13 (Sunrise Copper, 128 GB)      4.3    ₹10,499   \n",
       "4            SAMSUNG Galaxy F23 5G (Aqua Blue, 128 GB)      4.3    ₹15,499   \n",
       "..                                                 ...      ...        ...   \n",
       "569         SAMSUNG Galaxy M40 (Seawater Blue, 128 GB)      4.5    ₹21,490   \n",
       "570  SAMSUNG Galaxy Note 20 Ultra 5G (Mystic Bronze...      4.3  ₹1,04,999   \n",
       "571    SAMSUNG Galaxy A30s (Prism Crush Violet, 64 GB)      4.3    ₹16,199   \n",
       "572              SAMSUNG Galaxy J4 Plus (Black, 32 GB)      4.4     ₹9,000   \n",
       "573     SAMSUNG Galaxy A71 (Prism Crush Black, 128 GB)      4.2    ₹34,999   \n",
       "\n",
       "                                                imgURL   \n",
       "0    https://rukminim2.flixcart.com/image/312/312/x...  \\\n",
       "1    https://rukminim2.flixcart.com/image/312/312/x...   \n",
       "2    https://rukminim2.flixcart.com/image/312/312/x...   \n",
       "3    https://rukminim2.flixcart.com/image/312/312/x...   \n",
       "4    https://rukminim2.flixcart.com/image/312/312/x...   \n",
       "..                                                 ...   \n",
       "569  https://rukminim2.flixcart.com/image/312/312/k...   \n",
       "570  https://rukminim2.flixcart.com/image/312/312/k...   \n",
       "571  https://rukminim2.flixcart.com/image/312/312/k...   \n",
       "572  https://rukminim2.flixcart.com/image/312/312/j...   \n",
       "573  https://rukminim2.flixcart.com/image/312/312/k...   \n",
       "\n",
       "                                           storage_ram   \n",
       "0    Internal Storage64 GBRAM4 GBExpandable Storage...  \\\n",
       "1    Internal Storage128 GBRAM4 GBExpandable Storag...   \n",
       "2    Internal Storage128 GBRAM4 GBExpandable Storag...   \n",
       "3    Internal Storage128 GBRAM4 GBExpandable Storag...   \n",
       "4    Internal Storage128 GBRAM6 GBTotal Memory128 G...   \n",
       "..                                                 ...   \n",
       "569  Internal Storage128 GBRAM6 GBMemory Card Slot ...   \n",
       "570  Internal Storage256 GBRAM12 GBExpandable Stora...   \n",
       "571  Internal Storage64 GBRAM4 GBSupported Memory C...   \n",
       "572  Internal Storage32 GBRAM2 GBExpandable Storage...   \n",
       "573  Internal Storage128 GBRAM8 GBExpandable Storag...   \n",
       "\n",
       "                                          os_processor   \n",
       "0    Operating SystemAndroid 12Processor TypeExynos...  \\\n",
       "1    Operating SystemAndroid 12Processor TypeExynos...   \n",
       "2    Operating SystemAndroid 12Processor TypeExynos...   \n",
       "3    Operating SystemAndroid 12Processor TypeExynos...   \n",
       "4    Operating SystemAndroid 12Processor TypeQualco...   \n",
       "..                                                 ...   \n",
       "569  Operating SystemAndroid Pie 9.0Processor CoreO...   \n",
       "570  Operating SystemAndroid 10Processor TypeExynos...   \n",
       "571  Operating SystemAndroid Pie 9.0Processor TypeE...   \n",
       "572  Operating SystemAndroid Oreo 8.1Processor Type...   \n",
       "573  Operating SystemAndroid 10Processor TypeQualco...   \n",
       "\n",
       "                                                camera   \n",
       "0    Primary Camera AvailableYesPrimary Camera50MP ...  \\\n",
       "1    Primary Camera AvailableYesPrimary Camera50MP ...   \n",
       "2    Primary Camera AvailableYesPrimary Camera50MP ...   \n",
       "3    Primary Camera AvailableYesPrimary Camera50MP ...   \n",
       "4    Primary Camera AvailableYesPrimary Camera50MP ...   \n",
       "..                                                 ...   \n",
       "569  Primary Camera32MP Rear CameraDual Camera Lens...   \n",
       "570  Primary Camera AvailableYesPrimary Camera108MP...   \n",
       "571  Primary Camera AvailableYesPrimary Camera25MP ...   \n",
       "572  Primary Camera AvailableYesPrimary Camera13MP ...   \n",
       "573  Primary Camera AvailableYesPrimary Camera64MP ...   \n",
       "\n",
       "                                               display   \n",
       "0    Display Size16.76 cm (6.6 inch)Resolution2408 ...  \\\n",
       "1    Display Size16.76 cm (6.6 inch)Resolution2408 ...   \n",
       "2    Display Size16.76 cm (6.6 inch)Resolution2408 ...   \n",
       "3    Display Size16.76 cm (6.6 inch)Resolution2408 ...   \n",
       "4    Display Size16.76 cm (6.6 inch)Resolution2408 ...   \n",
       "..                                                 ...   \n",
       "569  Display Size16.0 cm (6.3 inch)Resolution2340 x...   \n",
       "570  Display Size17.53 cm (6.9 inch)Resolution3088 ...   \n",
       "571  Display Size16.26 cm (6.4 inch)Resolution1920 ...   \n",
       "572  Display Size15.24 cm (6 inch)Resolution720 x 1...   \n",
       "573  Display Size17.02 cm (6.7 inch)Resolution2340 ...   \n",
       "\n",
       "                                               network   \n",
       "0    Network Type4G, 3G, 2GSupported Networks4G LTE...  \\\n",
       "1    Network Type4G, 3G, 2GSupported Networks4G LTE...   \n",
       "2    Network Type4G, 3G, 2GSupported Networks4G LTE...   \n",
       "3    Network Type4G, 3G, 2GSupported Networks4G LTE...   \n",
       "4    Network Type5G, 4G, 3G, 2GSupported Networks5G...   \n",
       "..                                                 ...   \n",
       "569  Network Type4G, 3G, 2GSupported Networks4G LTE...   \n",
       "570  Network Type5G, 4G, 3G, 2GSupported Networks5G...   \n",
       "571  Network Type3G, 4G, 2GSupported NetworksGSM, W...   \n",
       "572  Network Type3G, 4G, 2GSupported NetworksGSM, W...   \n",
       "573  Network Type4G VOLTE, 4G, 3G, 2GSupported Netw...   \n",
       "\n",
       "                                    battery  \n",
       "0    Battery Capacity6000 mAhDual BatteryNo  \n",
       "1    Battery Capacity6000 mAhDual BatteryNo  \n",
       "2    Battery Capacity6000 mAhDual BatteryNo  \n",
       "3    Battery Capacity6000 mAhDual BatteryNo  \n",
       "4                  Battery Capacity5000 mAh  \n",
       "..                                      ...  \n",
       "569                Battery Capacity3500 mAh  \n",
       "570                Battery Capacity4500 mAh  \n",
       "571                Battery Capacity4000 mAh  \n",
       "572  Battery Capacity3300 mAhDual BatteryNo  \n",
       "573                Battery Capacity4500 mAh  \n",
       "\n",
       "[539 rows x 10 columns]"
      ]
     },
     "execution_count": 122,
     "metadata": {},
     "output_type": "execute_result"
    }
   ],
   "source": [
    "samsung"
   ]
  },
  {
   "cell_type": "code",
   "execution_count": 123,
   "metadata": {},
   "outputs": [
    {
     "name": "stdout",
     "output_type": "stream",
     "text": [
      "Operating SystemAndroid 11Processor TypeMediaTek Helio A20Processor CoreQuad CorePrimary Clock Speed1.8 GHzOperating Frequency2G GSM: B2/B3/B5/B8, 3G WCDMA: B1/B5/B8; 4G LTE: B1/B3/B5/B8/B38/B40/B41 ::index-59\n",
      "- Operating SystemAndroid 11Processor TypeMediaTek Helio A20Processor Speed1.8\n",
      "\n",
      "Operating SystemAndroid 11Processor TypeMediaTek Helio G70Processor CoreOcta CorePrimary Clock Speed2 GHzOperating Frequency2G GSM: B2/3/5/8, 3G WCDMA: B1/5/8, 4G LTE: B1/3/5/8/B38/B40/B41 ::index-58\n",
      "- Operating SystemAndroid 11Processor TypeMediaTek Helio G70Processor Speed2\n",
      "\n",
      "Operating SystemAndroid Oreo 8.1Processor TypeMediatek Helio P23 Octa-coreProcessor CoreOcta CorePrimary Clock Speed2 GHzOperating FrequencyGSM: B2/3/5/8, WCDMA: B1/5/8, 4G LTE: B1/3/5/8/B38/B40/B41 ::index-188\n",
      "- Operating SystemAndroid Oreo 8.1Processor TypeMediatek Helio P23 Octa-coreProcessor Speed2\n",
      "\n",
      "Operating SystemAndroid 12Processor TypeUnisoc Spreadtrum SC9863A1Processor CoreOcta CorePrimary Clock Speed1.6 GHzOperating Frequency2G GSM: B2/B3/B5/B8, 3G WCDMA: B1/B5/B8, 4G LTE: B1/B3/B5/B8/B38/B40/B41 (120M) ::index-0\n",
      "- Operating SystemAndroid 12Processor TypeUnisoc Spreadtrum SC9863A1Processor Speed1.6\n",
      "\n",
      "Operating SystemAndroid 10Processor TypeMediaTek Helio G70Processor CoreOcta CorePrimary Clock Speed2 GHzOperating FrequencyGSM: B2/B3/B5/B8, WCDMA: B1/B5/B8, 4G LTE: B1/B3/B5/B8/B38/B40/B41 ::index-110\n",
      "- Operating SystemAndroid 10Processor TypeMediaTek Helio G70Processor Speed2\n",
      "\n",
      "Operating SystemAndroid 11Processor TypeMediatek Helio G88Processor CoreOcta CorePrimary Clock Speed2 GHzOperating Frequency2G GSM: B2/B3/B5/B8, 3G WCDMA: B1/B5/B8, 4G LTE: B1/B3/B5/B8/B38/B40/B41 ::index-85\n",
      "- Operating SystemAndroid 11Processor TypeMediatek Helio G88Processor Speed2\n",
      "\n",
      "Operating SystemAndroid 10Processor TypeMediaTek Helio G25Processor CoreOcta CorePrimary Clock Speed2 GHzOperating Frequency2G GSM: B2/B3/B5/B8, 3G WCDMA: B1/B5/B8, 4G LTE: B1/B3/B5/B8/B38/B40/B41 ::index-162\n",
      "- Operating SystemAndroid 10Processor TypeMediaTek Helio G25Processor Speed2\n",
      "\n",
      "Operating SystemAndroid 10Processor TypeMediaTek Helio A20Processor CoreQuad CorePrimary Clock Speed1.8 GHzOperating Frequency2G GSM: B2/B3/B5/B8, 3G WCDMA: B1/B5/B8, 4G LTE: B1/B3/B5/B8/B38/B40/B41 ::index-95\n",
      "- Operating SystemAndroid 10Processor TypeMediaTek Helio A20Processor Speed1.8\n",
      "\n"
     ]
    }
   ],
   "source": [
    "test_func(func=extract_processor,col_name='os_processor',df=infinix)"
   ]
  },
  {
   "cell_type": "code",
   "execution_count": 124,
   "metadata": {},
   "outputs": [
    {
     "name": "stdout",
     "output_type": "stream",
     "text": [
      "Operating SystemAndroid 10Processor TypeMediaTek Helio G90TProcessor CoreOcta CorePrimary Clock Speed2.05 GHzSecondary Clock Speed2 GHzOperating FrequencyGSM Bands: 850/900/1800/1900, WCDMA Bands: 1/5/8 , 4G LTE Bands: FDD LTE - 1/3/5/8, TDD LTE - 38/40/41 (2535-2655 MHz) ::index-180\n",
      "- Operating SystemAndroid 10Processor TypeMediaTek Helio G90TProcessor Speed2.05\n",
      "\n",
      "Operating SystemAndroid Oreo 8.1Processor TypeQualcomm Snapdragon 660 Octa Core 1.95GHz AIEProcessor CoreOcta CorePrimary Clock Speed1.95 GHzOperating FrequencyGSM: 850/900/1800/1900 MHz, WCDMA: 850/900/2100 MHz, FDD-LTE: Bands 1/3/5/8, TD-LTE: Bands 38/40/41 (2535-2655 MHz) ::index-165\n",
      "- Operating SystemAndroid Oreo 8.1Processor TypeQualcomm Snapdragon 660 Octa Core 1.95GHz AIEProcessor Speed1.95\n",
      "\n",
      "Operating SystemAndroid 13Processor TypeHelio G88Processor CoreOcta CorePrimary Clock Speed2 GHzSecondary Clock Speed1.8 GHzOperating Frequency2G GSM: 850/900/1800/1900 MHz, 3G WCDMA: B1/B5/B8, 4G FDD LTE: B1/B3/B5/B8, 4G TD LTE: B38/B40/B41 (2535 MHz - 2655 MHz) ::index-16\n",
      "- Operating SystemAndroid 13Processor TypeHelio G88Processor Speed2\n",
      "\n",
      "Operating SystemAndroid 11Processor TypeMediaTek Helio G85Processor CoreOcta CorePrimary Clock Speed2 GHzSecondary Clock Speed1.8 GHzOperating Frequency2G GSM: 850/900/1800/1900, 3G WCDMA: B1/B5/B8, 4G FDD-LTE: B1/B3/B5/B8, 4G TD-LTE: B38/B40/B41 (2535-2655MHz) ::index-46\n",
      "- Operating SystemAndroid 11Processor TypeMediaTek Helio G85Processor Speed2\n",
      "\n",
      "Operating SystemAndroid 11Processor TypeUnisoc T612Processor CoreOcta CorePrimary Clock Speed1.82 GHzSecondary Clock Speed1.82 GHzOperating Frequency2G GSM: 850/900/1800/1900, 3G WCDMA: B1/B5/B8, 4G FDD-LTE: B1/B3/B5/B8, 4G TD-LTE: B38/B40/B41 (2535 - 2655 MHz) ::index-8\n",
      "- Operating SystemAndroid 11Processor TypeUnisoc T612Processor Speed1.82\n",
      "\n",
      "Operating SystemAndroid 11Processor TypeQualcomm Snapdragon 778GProcessor CoreOcta CorePrimary Clock Speed2.4 GHzSecondary Clock Speed1.8 GHzOperating Frequency2G GSM: 850/900/1800/1900MHz, 3G WCDMA: Bands 1/2/4/5/6/8/19, 4G LTE FDD: Bands 1/2/3/4/5/7/8/18/19/26/28a, 4G LTE TDD: Bands 34/38/39/40/41, 5G NR: n1/n3/n5/n8/n28a/n77/n41/n78 ::index-130\n",
      "- Operating SystemAndroid 11Processor TypeQualcomm Snapdragon 778GProcessor Speed2.4\n",
      "\n",
      "Operating SystemAndroid Pie 9.0Processor TypeMediaTek P22 Octa Core 2.0 GHzProcessor CoreOcta CorePrimary Clock Speed2 GHzOperating FrequencyGSM: 850/900/1800/1900 MHz, WCDMA: 850/900/2100 MHz, 4G LTE-FDD: B1/B3/B5/B8, 4G LTE-TD: B38/B40/B41 (2535 - 2655 MHz) ::index-164\n",
      "- Operating SystemAndroid Pie 9.0Processor TypeMediaTek P22 Octa Core 2.0 GHzProcessor Speed2\n",
      "\n",
      "Operating SystemAndroid Oreo 8.1Processor TypeQualcomm Snapdragon 660 Octa Core 1.95GHz AIEProcessor CoreOcta CorePrimary Clock Speed1.95 GHzOperating FrequencyGSM: 850/900/1800/1900 MHz, WCDMA: 850/900/2100 MHz, FDD-LTE: Bands 1/3/5/8, TD-LTE: Bands 38/40/41 (2535-2655 MHz) ::index-158\n",
      "- Operating SystemAndroid Oreo 8.1Processor TypeQualcomm Snapdragon 660 Octa Core 1.95GHz AIEProcessor Speed1.95\n",
      "\n"
     ]
    }
   ],
   "source": [
    "test_func(func=extract_processor,col_name='os_processor',df=realme)"
   ]
  },
  {
   "cell_type": "code",
   "execution_count": null,
   "metadata": {},
   "outputs": [],
   "source": []
  },
  {
   "cell_type": "code",
   "execution_count": 125,
   "metadata": {},
   "outputs": [
    {
     "data": {
      "text/html": [
       "<div>\n",
       "<style scoped>\n",
       "    .dataframe tbody tr th:only-of-type {\n",
       "        vertical-align: middle;\n",
       "    }\n",
       "\n",
       "    .dataframe tbody tr th {\n",
       "        vertical-align: top;\n",
       "    }\n",
       "\n",
       "    .dataframe thead th {\n",
       "        text-align: right;\n",
       "    }\n",
       "</style>\n",
       "<table border=\"1\" class=\"dataframe\">\n",
       "  <thead>\n",
       "    <tr style=\"text-align: right;\">\n",
       "      <th></th>\n",
       "      <th>name</th>\n",
       "      <th>ratings</th>\n",
       "      <th>price</th>\n",
       "      <th>imgURL</th>\n",
       "      <th>storage_ram</th>\n",
       "      <th>os_processor</th>\n",
       "      <th>camera</th>\n",
       "      <th>display</th>\n",
       "      <th>network</th>\n",
       "      <th>battery</th>\n",
       "    </tr>\n",
       "  </thead>\n",
       "  <tbody>\n",
       "    <tr>\n",
       "      <th>0</th>\n",
       "      <td>OPPO A17k (Blue, 64 GB)</td>\n",
       "      <td>4.5</td>\n",
       "      <td>₹9,499</td>\n",
       "      <td>https://rukminim2.flixcart.com/image/312/312/x...</td>\n",
       "      <td>Internal Storage64 GBRAM3 GBExpandable Storage...</td>\n",
       "      <td>Operating SystemAndroid 12Processor TypeMediat...</td>\n",
       "      <td>Primary Camera AvailableYesPrimary Camera8MP R...</td>\n",
       "      <td>Display Size16.66 cm (6.56 inch)Resolution1612...</td>\n",
       "      <td>Network Type4G VOLTE, 4G, 3G, 2GSupported Netw...</td>\n",
       "      <td>Battery Capacity5000 mAh</td>\n",
       "    </tr>\n",
       "    <tr>\n",
       "      <th>1</th>\n",
       "      <td>OPPO A17 (Lake Blue, 64 GB)</td>\n",
       "      <td>4.4</td>\n",
       "      <td>₹12,200</td>\n",
       "      <td>https://rukminim2.flixcart.com/image/312/312/x...</td>\n",
       "      <td>Internal Storage64 GBRAM4 GBMemory Card Slot T...</td>\n",
       "      <td>Operating SystemAndroid Q 12Processor TypeMedi...</td>\n",
       "      <td>Primary Camera AvailableYesPrimary Camera50MP ...</td>\n",
       "      <td>Display Size16.66 cm (6.56 inch)Resolution1612...</td>\n",
       "      <td>Network Type4G VOLTE, 4G, 3GSupported Networks...</td>\n",
       "      <td>Battery Capacity5000 mAh</td>\n",
       "    </tr>\n",
       "    <tr>\n",
       "      <th>2</th>\n",
       "      <td>OPPO A17 (Midnight Black, 64 GB)</td>\n",
       "      <td>4.4</td>\n",
       "      <td>₹12,499</td>\n",
       "      <td>https://rukminim2.flixcart.com/image/312/312/x...</td>\n",
       "      <td>Internal Storage64 GBRAM4 GBExpandable Storage...</td>\n",
       "      <td>Operating SystemAndroid 12Processor TypeMediat...</td>\n",
       "      <td>Primary Camera AvailableYesPrimary Camera50MP ...</td>\n",
       "      <td>Display Size16.66 cm (6.56 inch)Resolution1612...</td>\n",
       "      <td>Network Type4G VOLTE, 4G, 3G, 2GSupported Netw...</td>\n",
       "      <td>Battery Capacity5000 mAh</td>\n",
       "    </tr>\n",
       "    <tr>\n",
       "      <th>3</th>\n",
       "      <td>OPPO A78 5G (Glowing Black, 128 GB)</td>\n",
       "      <td>4.3</td>\n",
       "      <td>₹18,142</td>\n",
       "      <td>https://rukminim2.flixcart.com/image/312/312/x...</td>\n",
       "      <td>Internal Storage128 GBRAM8 GBMemory Card Slot ...</td>\n",
       "      <td>Operating SystemAndroidProcessor CoreOcta Core...</td>\n",
       "      <td>Primary Camera13MP Rear CameraDual Camera Lens...</td>\n",
       "      <td>Display Size16.66 cm (6.56 inch)Resolution720 ...</td>\n",
       "      <td>Network Type5GSupported Networks5G</td>\n",
       "      <td>Battery Capacity5000 mAh</td>\n",
       "    </tr>\n",
       "    <tr>\n",
       "      <th>4</th>\n",
       "      <td>OPPO A17 (Lake Blue, 64 GB)</td>\n",
       "      <td>4.4</td>\n",
       "      <td>₹12,499</td>\n",
       "      <td>https://rukminim2.flixcart.com/image/312/312/x...</td>\n",
       "      <td>Internal Storage64 GBRAM4 GBExpandable Storage...</td>\n",
       "      <td>Operating SystemAndroid 12Processor TypeMediat...</td>\n",
       "      <td>Primary Camera AvailableYesPrimary Camera50MP ...</td>\n",
       "      <td>Display Size16.66 cm (6.56 inch)Resolution1612...</td>\n",
       "      <td>Network Type4G VOLTE, 4G, 3G, 2GSupported Netw...</td>\n",
       "      <td>Battery Capacity5000 mAh</td>\n",
       "    </tr>\n",
       "    <tr>\n",
       "      <th>...</th>\n",
       "      <td>...</td>\n",
       "      <td>...</td>\n",
       "      <td>...</td>\n",
       "      <td>...</td>\n",
       "      <td>...</td>\n",
       "      <td>...</td>\n",
       "      <td>...</td>\n",
       "      <td>...</td>\n",
       "      <td>...</td>\n",
       "      <td>...</td>\n",
       "    </tr>\n",
       "    <tr>\n",
       "      <th>248</th>\n",
       "      <td>OPPO A5s (Gold, 64 GB)</td>\n",
       "      <td>4.3</td>\n",
       "      <td>₹15,990</td>\n",
       "      <td>https://rukminim2.flixcart.com/image/312/312/k...</td>\n",
       "      <td>Internal Storage64 GBRAM4 GBExpandable Storage...</td>\n",
       "      <td>Operating SystemAndroid Oreo 8.1Processor Type...</td>\n",
       "      <td>Primary Camera AvailableYesPrimary Camera13MP ...</td>\n",
       "      <td>Display Size15.75 cm (6.2 inch)Resolution1520 ...</td>\n",
       "      <td>Network Type3G, 4G VOLTE, 4G, 2GSupported Netw...</td>\n",
       "      <td>Battery Capacity4230 mAhTalk Time50 hrs</td>\n",
       "    </tr>\n",
       "    <tr>\n",
       "      <th>249</th>\n",
       "      <td>OPPO Reno7 Pro 5G (Startrails Blue, 256 GB)</td>\n",
       "      <td>4.4</td>\n",
       "      <td>₹34,999</td>\n",
       "      <td>https://rukminim2.flixcart.com/image/312/312/k...</td>\n",
       "      <td>Internal Storage256 GBRAM12 GBExpandable Stora...</td>\n",
       "      <td>Operating SystemAndroid 11Processor TypeMediaT...</td>\n",
       "      <td>Primary Camera AvailableYesPrimary Camera50MP ...</td>\n",
       "      <td>Display Size16.51 cm (6.5 inch)Resolution2400 ...</td>\n",
       "      <td>Network Type5G, 4G VOLTESupported Networks5G, ...</td>\n",
       "      <td>Battery Capacity4500 mAh</td>\n",
       "    </tr>\n",
       "    <tr>\n",
       "      <th>250</th>\n",
       "      <td>OPPO A5s (Red, 32 GB)</td>\n",
       "      <td>4.3</td>\n",
       "      <td>₹13,990</td>\n",
       "      <td>https://rukminim2.flixcart.com/image/312/312/k...</td>\n",
       "      <td>Internal Storage32 GBRAM3 GBExpandable Storage...</td>\n",
       "      <td>Operating SystemAndroid Oreo 8.1Processor Type...</td>\n",
       "      <td>Primary Camera AvailableYesPrimary Camera13MP ...</td>\n",
       "      <td>Display Size15.75 cm (6.2 inch)Resolution1520 ...</td>\n",
       "      <td>Network Type3G, 4G VOLTE, 4G, 2GSupported Netw...</td>\n",
       "      <td>Battery Capacity4230 mAhTalk Time50 hrs</td>\n",
       "    </tr>\n",
       "    <tr>\n",
       "      <th>251</th>\n",
       "      <td>OPPO A15S (Fancy White, 64 GB)</td>\n",
       "      <td>4.4</td>\n",
       "      <td>₹11,309</td>\n",
       "      <td>https://rukminim2.flixcart.com/image/312/312/k...</td>\n",
       "      <td>Internal Storage64 GBRAM4 GBMemory Card Slot T...</td>\n",
       "      <td>Operating SystemAndroid Q 10.0Processor CoreOc...</td>\n",
       "      <td>Primary Camera13MP Rear CameraDual Camera Lens...</td>\n",
       "      <td>Display Size16.56 cm (6.52 inch)Resolution720 ...</td>\n",
       "      <td>Network Type4G VOLTE, 3GSupported Networks4G V...</td>\n",
       "      <td>Battery Capacity4230 mAh</td>\n",
       "    </tr>\n",
       "    <tr>\n",
       "      <th>252</th>\n",
       "      <td>OPPO A7 (Glaring Gold, 64 GB)</td>\n",
       "      <td>4.4</td>\n",
       "      <td>₹16,990</td>\n",
       "      <td>https://rukminim2.flixcart.com/image/312/312/j...</td>\n",
       "      <td>Internal Storage64 GBRAM3 GBExpandable Storage...</td>\n",
       "      <td>Operating SystemAndroid Oreo 8.1Processor Type...</td>\n",
       "      <td>Primary Camera AvailableYesPrimary Camera13MP ...</td>\n",
       "      <td>Display Size15.75 cm (6.2 inch)Resolution1520 ...</td>\n",
       "      <td>Network Type3G, 4G VOLTE, 4G, 2GSupported Netw...</td>\n",
       "      <td>Battery Capacity4230 mAhTalk Time32 hrs</td>\n",
       "    </tr>\n",
       "  </tbody>\n",
       "</table>\n",
       "<p>253 rows × 10 columns</p>\n",
       "</div>"
      ],
      "text/plain": [
       "                                            name  ratings    price   \n",
       "0                        OPPO A17k (Blue, 64 GB)      4.5   ₹9,499  \\\n",
       "1                    OPPO A17 (Lake Blue, 64 GB)      4.4  ₹12,200   \n",
       "2               OPPO A17 (Midnight Black, 64 GB)      4.4  ₹12,499   \n",
       "3            OPPO A78 5G (Glowing Black, 128 GB)      4.3  ₹18,142   \n",
       "4                    OPPO A17 (Lake Blue, 64 GB)      4.4  ₹12,499   \n",
       "..                                           ...      ...      ...   \n",
       "248                       OPPO A5s (Gold, 64 GB)      4.3  ₹15,990   \n",
       "249  OPPO Reno7 Pro 5G (Startrails Blue, 256 GB)      4.4  ₹34,999   \n",
       "250                        OPPO A5s (Red, 32 GB)      4.3  ₹13,990   \n",
       "251               OPPO A15S (Fancy White, 64 GB)      4.4  ₹11,309   \n",
       "252                OPPO A7 (Glaring Gold, 64 GB)      4.4  ₹16,990   \n",
       "\n",
       "                                                imgURL   \n",
       "0    https://rukminim2.flixcart.com/image/312/312/x...  \\\n",
       "1    https://rukminim2.flixcart.com/image/312/312/x...   \n",
       "2    https://rukminim2.flixcart.com/image/312/312/x...   \n",
       "3    https://rukminim2.flixcart.com/image/312/312/x...   \n",
       "4    https://rukminim2.flixcart.com/image/312/312/x...   \n",
       "..                                                 ...   \n",
       "248  https://rukminim2.flixcart.com/image/312/312/k...   \n",
       "249  https://rukminim2.flixcart.com/image/312/312/k...   \n",
       "250  https://rukminim2.flixcart.com/image/312/312/k...   \n",
       "251  https://rukminim2.flixcart.com/image/312/312/k...   \n",
       "252  https://rukminim2.flixcart.com/image/312/312/j...   \n",
       "\n",
       "                                           storage_ram   \n",
       "0    Internal Storage64 GBRAM3 GBExpandable Storage...  \\\n",
       "1    Internal Storage64 GBRAM4 GBMemory Card Slot T...   \n",
       "2    Internal Storage64 GBRAM4 GBExpandable Storage...   \n",
       "3    Internal Storage128 GBRAM8 GBMemory Card Slot ...   \n",
       "4    Internal Storage64 GBRAM4 GBExpandable Storage...   \n",
       "..                                                 ...   \n",
       "248  Internal Storage64 GBRAM4 GBExpandable Storage...   \n",
       "249  Internal Storage256 GBRAM12 GBExpandable Stora...   \n",
       "250  Internal Storage32 GBRAM3 GBExpandable Storage...   \n",
       "251  Internal Storage64 GBRAM4 GBMemory Card Slot T...   \n",
       "252  Internal Storage64 GBRAM3 GBExpandable Storage...   \n",
       "\n",
       "                                          os_processor   \n",
       "0    Operating SystemAndroid 12Processor TypeMediat...  \\\n",
       "1    Operating SystemAndroid Q 12Processor TypeMedi...   \n",
       "2    Operating SystemAndroid 12Processor TypeMediat...   \n",
       "3    Operating SystemAndroidProcessor CoreOcta Core...   \n",
       "4    Operating SystemAndroid 12Processor TypeMediat...   \n",
       "..                                                 ...   \n",
       "248  Operating SystemAndroid Oreo 8.1Processor Type...   \n",
       "249  Operating SystemAndroid 11Processor TypeMediaT...   \n",
       "250  Operating SystemAndroid Oreo 8.1Processor Type...   \n",
       "251  Operating SystemAndroid Q 10.0Processor CoreOc...   \n",
       "252  Operating SystemAndroid Oreo 8.1Processor Type...   \n",
       "\n",
       "                                                camera   \n",
       "0    Primary Camera AvailableYesPrimary Camera8MP R...  \\\n",
       "1    Primary Camera AvailableYesPrimary Camera50MP ...   \n",
       "2    Primary Camera AvailableYesPrimary Camera50MP ...   \n",
       "3    Primary Camera13MP Rear CameraDual Camera Lens...   \n",
       "4    Primary Camera AvailableYesPrimary Camera50MP ...   \n",
       "..                                                 ...   \n",
       "248  Primary Camera AvailableYesPrimary Camera13MP ...   \n",
       "249  Primary Camera AvailableYesPrimary Camera50MP ...   \n",
       "250  Primary Camera AvailableYesPrimary Camera13MP ...   \n",
       "251  Primary Camera13MP Rear CameraDual Camera Lens...   \n",
       "252  Primary Camera AvailableYesPrimary Camera13MP ...   \n",
       "\n",
       "                                               display   \n",
       "0    Display Size16.66 cm (6.56 inch)Resolution1612...  \\\n",
       "1    Display Size16.66 cm (6.56 inch)Resolution1612...   \n",
       "2    Display Size16.66 cm (6.56 inch)Resolution1612...   \n",
       "3    Display Size16.66 cm (6.56 inch)Resolution720 ...   \n",
       "4    Display Size16.66 cm (6.56 inch)Resolution1612...   \n",
       "..                                                 ...   \n",
       "248  Display Size15.75 cm (6.2 inch)Resolution1520 ...   \n",
       "249  Display Size16.51 cm (6.5 inch)Resolution2400 ...   \n",
       "250  Display Size15.75 cm (6.2 inch)Resolution1520 ...   \n",
       "251  Display Size16.56 cm (6.52 inch)Resolution720 ...   \n",
       "252  Display Size15.75 cm (6.2 inch)Resolution1520 ...   \n",
       "\n",
       "                                               network   \n",
       "0    Network Type4G VOLTE, 4G, 3G, 2GSupported Netw...  \\\n",
       "1    Network Type4G VOLTE, 4G, 3GSupported Networks...   \n",
       "2    Network Type4G VOLTE, 4G, 3G, 2GSupported Netw...   \n",
       "3                   Network Type5GSupported Networks5G   \n",
       "4    Network Type4G VOLTE, 4G, 3G, 2GSupported Netw...   \n",
       "..                                                 ...   \n",
       "248  Network Type3G, 4G VOLTE, 4G, 2GSupported Netw...   \n",
       "249  Network Type5G, 4G VOLTESupported Networks5G, ...   \n",
       "250  Network Type3G, 4G VOLTE, 4G, 2GSupported Netw...   \n",
       "251  Network Type4G VOLTE, 3GSupported Networks4G V...   \n",
       "252  Network Type3G, 4G VOLTE, 4G, 2GSupported Netw...   \n",
       "\n",
       "                                     battery  \n",
       "0                   Battery Capacity5000 mAh  \n",
       "1                   Battery Capacity5000 mAh  \n",
       "2                   Battery Capacity5000 mAh  \n",
       "3                   Battery Capacity5000 mAh  \n",
       "4                   Battery Capacity5000 mAh  \n",
       "..                                       ...  \n",
       "248  Battery Capacity4230 mAhTalk Time50 hrs  \n",
       "249                 Battery Capacity4500 mAh  \n",
       "250  Battery Capacity4230 mAhTalk Time50 hrs  \n",
       "251                 Battery Capacity4230 mAh  \n",
       "252  Battery Capacity4230 mAhTalk Time32 hrs  \n",
       "\n",
       "[253 rows x 10 columns]"
      ]
     },
     "execution_count": 125,
     "metadata": {},
     "output_type": "execute_result"
    }
   ],
   "source": [
    "oppo"
   ]
  },
  {
   "cell_type": "code",
   "execution_count": null,
   "metadata": {},
   "outputs": [],
   "source": []
  },
  {
   "cell_type": "code",
   "execution_count": 126,
   "metadata": {},
   "outputs": [
    {
     "name": "stdout",
     "output_type": "stream",
     "text": [
      "Operating SystemAndroid Pie 9Processor TypeMediaTek Helio P35 Octa CoreProcessor CoreOcta CorePrimary Clock Speed2.3 GHzSecondary Clock Speed1.8 GHzOperating FrequencyGSM: 850/900/1800/1900 MHz, WCDMA: Bands 1/2/4/5/8, FDD-LTE: Bands 1/2/3/4/5/7/8/28/66, TD-LTE: Bands 38/40/41 (2535 - 2655 MHz) ::index-158\n",
      "- Operating SystemAndroid Pie 9Processor TypeMediaTek Helio P35 Octa CoreProcessor Speed2.3\n",
      "\n",
      "Operating SystemAndroid Marshmallow 6Processor TypeMediatek MT6750T Octa Core 1.5GHzProcessor CoreOcta CorePrimary Clock Speed1.5 GHzOperating FrequencyGSM - 850 / 900 / 1800 / 1900 MHz; WCDMA - 850 / 900 / 2100 MHz; 4G LTE - Bands (1 / 3 / 5 / 7 / 8 / 38 / 39 / 40 / 41) ::index-205\n",
      "- Operating SystemAndroid Marshmallow 6Processor TypeMediatek MT6750T Octa Core 1.5GHzProcessor Speed1.5\n",
      "\n",
      "Operating SystemAndroid Nougat 7.1Processor TypeMediatek MT6763T Octa Core 2.5 GHzProcessor CoreOcta CorePrimary Clock Speed2.5 GHzOperating FrequencyGSM: 850 / 900 / 1800 / 1900 MHz, WCDMA - B1 / B5 / B8, 4G LTE TDD - B38 / B39 / B40 / B41 (2535 - 2655 MHz), FDD - B1 / B3 / B5 / B7 / B8 ::index-86\n",
      "- Operating SystemAndroid Nougat 7.1Processor TypeMediatek MT6763T Octa Core 2.5 GHzProcessor Speed2.5\n",
      "\n",
      "Operating SystemAndroid 12Processor TypeMediatek Helio P35Processor CoreOcta CorePrimary Clock Speed2.3 GHzSecondary Clock Speed1.8 GHzOperating Frequency2G GSM: 850/900/1800/1900 MHz, 3G WCDMA: B1/B5/B8, 4G LTE FDD: B1/B3/B5/B8, 4G LTE TDD: B38/B40/B41(2535 - 2655 MHz) ::index-0\n",
      "- Operating SystemAndroid 12Processor TypeMediatek Helio P35Processor Speed2.3\n",
      "\n",
      "Operating SystemAndroid Oreo 8.1Processor TypeQualcomm Snapdragon 450Processor CoreOcta CorePrimary Clock Speed1.8 GHzOperating FrequencyGSM: 850/900/1800/1900 MHz, WCDMA: 850/900/2100 MHz, 4G FDD-LTE: Bands 1/3/5/8, TD-LTE: Bands 38/40/41 (2535 - 2655 MHz) ::index-217\n",
      "- Operating SystemAndroid Oreo 8.1Processor TypeQualcomm Snapdragon 450Processor Speed1.8\n",
      "\n",
      "Operating SystemAndroid 12Processor TypeMediatek Helio G35Processor CoreOcta CorePrimary Clock Speed2.3 GHzSecondary Clock Speed1.8 GHzTertiary Clock Speed1.8 GHzOperating Frequency2G GSM: 850/900/1800, 3G WCDMA: B1/B5/B8, 4G FDD-LTE: B1/B3/B5/B7/B8/B20/B28, 4G TD-LTE: B38/B40/B41 ::index-5\n",
      "- Operating SystemAndroid 12Processor TypeMediatek Helio G35Processor Speed2.3\n",
      "\n",
      "Operating SystemAndroid 12Processor TypeMediatek Helio G35Processor CoreOcta CorePrimary Clock Speed2.3 GHzSecondary Clock Speed1.8 GHzOperating Frequency2G GSM: 850/900/1800/1900, 3G UMTS (WCDMA): B1/B5/B8, 4G TD LTE: B38/B40/B41, 4G LTE FDD: B1/B3/B5/B8 ::index-18\n",
      "- Operating SystemAndroid 12Processor TypeMediatek Helio G35Processor Speed2.3\n",
      "\n",
      "Operating SystemAndroid Pie 9Processor TypeMediaTek Helio P70Processor CoreOcta CorePrimary Clock Speed2.1 GHzSecondary Clock Speed2 GHzOperating FrequencyGSM: 850/900/1800/1900 MHz, WCDMA: B1/B5/B8, FDD-LTE: B1/B3/B5/B8, TD-LTE: B38/B40/B41 ::index-117\n",
      "- Operating SystemAndroid Pie 9Processor TypeMediaTek Helio P70Processor Speed2.1\n",
      "\n"
     ]
    }
   ],
   "source": [
    "test_func(func=extract_processor,col_name='os_processor',df=oppo)"
   ]
  },
  {
   "cell_type": "code",
   "execution_count": 127,
   "metadata": {},
   "outputs": [],
   "source": [
    "# for i in dataframes_list:\n",
    "#     print(test_func(func=extract_processor,col_name='os_processor',df=i))\n"
   ]
  },
  {
   "cell_type": "code",
   "execution_count": 128,
   "metadata": {},
   "outputs": [],
   "source": [
    "def extract_processor(text):\n",
    "    string = text.split()\n",
    "    find = re.findall(r'Speed\\d.*+',' '.join(string))\n",
    "    find = ' '.join(find).split()\n",
    "    pattern = r'.*Chip'\n",
    "    match = re.findall(pattern, text)\n",
    "    \n",
    "    if match:\n",
    "        return match[0]  + ' '+ ''.join(find[0])\n",
    "    else:\n",
    "        return text\n"
   ]
  },
  {
   "cell_type": "code",
   "execution_count": 129,
   "metadata": {},
   "outputs": [],
   "source": [
    "def extract_processor(text):\n",
    "    pattern = r'.*Chip'\n",
    "    match = re.findall(pattern, text)\n",
    "    if match:\n",
    "        return match[0]\n",
    "    else:\n",
    "        split = text.split()\n",
    "        return ' '.join(split[:5])\n"
   ]
  },
  {
   "cell_type": "code",
   "execution_count": 130,
   "metadata": {},
   "outputs": [],
   "source": [
    "# test_func(func=extract_processor,col_name='os_processor',df=apple)"
   ]
  },
  {
   "cell_type": "markdown",
   "metadata": {},
   "source": [
    "## camera"
   ]
  },
  {
   "cell_type": "code",
   "execution_count": 131,
   "metadata": {},
   "outputs": [],
   "source": [
    "def camera_extract(row):\n",
    "    row_splitted = row.split()\n",
    "    pattern = r'\\d+MP'\n",
    "    words = ' '.join(row_splitted)\n",
    "    find_cam = re.findall(pattern,words)\n",
    "    return ' '.join(find_cam)\n"
   ]
  },
  {
   "cell_type": "code",
   "execution_count": 132,
   "metadata": {},
   "outputs": [
    {
     "name": "stdout",
     "output_type": "stream",
     "text": [
      "Primary Camera AvailableYesPrimary Camera12MP Rear CameraPrimary Camera Featuresf/1.8 Aperture, Optical Image Stabilization, Six Element Lens, Panorama (Upto 63 MP), Sapphire Crystal Lens Cover, Backside Illumination Sensor, Hybrid IR Filter, Autofocus with Focus Pixels, Tap to Focus with Focus Pixels, Live Photos with Stabilization, Wide Color Capture for Photos and Live Photos, Improved Local Tone Mapping, Body and Face Detection, Exposure Control, Noise Reduction, Auto HDR for Photos, Auto Image Stabilization, Burst Mode, Timer Mode, Photo Geotagging, Time Lapse Video with Stabilization, Cinematic Video Stabilization (1080p and 720p), Continuous Auto Focus Video, Take 8 MP Still Photos While Recording 4K Video, Playback Zoom, Video GeotaggingSecondary Camera AvailableYesSecondary Camera7MP Front CameraSecondary Camera Features1080p HD Video Recording, Retina Flash, f/2.2 Aperture, Wide Color Capture for Photos and Live Photos, Auto HDR, Backside Illumination Sensor, Body and Face Detection, Auto Image Stabilization, Burst Mode, Exposure Control, Timer Mode, FaceTime Video Calling Over Wi-Fi or CellularFlashQuad LED True Tone FlashHD RecordingYesFull HD RecordingYesVideo RecordingYesVideo Recording Resolution3840 x 2160Digital ZoomDigital Zoom - Upto 5xFrame Rate1080p@30fps,1080p@60fps, 720p@30fps, Slow Motion Video Support for 1080p@120 fps and 720p@240fps fps ::index-361\n",
      "- 12MP 7MP\n",
      "\n",
      "Primary Camera AvailableYesPrimary Camera12MP + 12MPPrimary Camera FeaturesDual Camera Setup: 12MP Main Camera (Focal Length: 26 mm, f/1.5 Aperture, Sensor Shift Optical Image Stabilisation, Seven Element Lens, 100% Focus Pixels) + 12MP Ultra Wide Camera (Focal Length: 13 mm, f/2.4 Aperture and FOV: 120 Degree, Five Element Lens), 2X Optical Zoom Out, Digital Zoom Upto 5X, Sapphire Crystal Lens Cover, True Tone Flash, Camera Feature: Photonic Engine, Deep Fusion, Smart HDR 4, Portrait Mode with Advanced Bokeh and Depth Control, Portrait Lighting with Six Effects (Natural, Studio, Contour, Stage, Stage Mono, High Key Mono), Night Mode, Panorama (up to 63MP), Photographic Styles, Wide Colour Capture for Photos and Live Photos, Lens Correction (Ultra Wide), Advanced Red Eye Correction, Auto Image Stabilisation, Burst Mode, Photo Geotagging, Image Formats Captured: HEIF and JPEGOptical ZoomYesSecondary Camera AvailableYesSecondary Camera12MP Front CameraSecondary Camera Features12MP Camera Setup: (f/1.9 Aperture), Camera Feature: Autofocus with Focus Pixels, Six Element Lens, Retina Flash, Photonic Engine, Deep Fusion, Smart HDR 4, Portrait Mode with Advanced Bokeh and Depth Control, Portrait Lighting with Six Effects (Natural, Studio, Contour, Stage, Stage Mono, High Key Mono), Animoji and Memoji, Night Mode, Photographic Styles, Apple ProRAW, Wide Colour Capture for Photos and Live Photos, Lens Correction, Auto Image Stabilisation, Burst Mode, Video Feature: Timelapse Video with Stabilisation, Night Mode Timelapse, QuickTake Video, Cinematic Video Stabilisation (4K, 1080p and 720p)FlashRear: LED True Tone Flash | Front: Retina FlashHD RecordingYesFull HD RecordingYesVideo RecordingYesVideo Recording ResolutionRear Camera: 4K (at 24 fps/ 25 fps/ 30 fps/ 60 fps), 1080P (at 120 fps/60 fps/30 fps/ 25 fps), 720P (at 30 fps) | Front Camera: 4K (at 24 fps/ 25 fps/ 30 fps/ 60 fps), 1080P (at 120 fps/60 fps/30 fps/ 25 fps)Digital Zoom5XFrame Rate240 fps, 120 fps, 60 fps, 30 fps, 25 fps, 24 fpsDual Camera LensPrimary Camera ::index-72\n",
      "- 12MP 12MP 12MP 12MP 63MP 12MP 12MP\n",
      "\n",
      "Primary Camera AvailableYesPrimary Camera12MP + 12MPPrimary Camera FeaturesDual 12MP Camera System (Ultra Wide and Wide), Ultra Wide: f/2.4 Aperture, Wide: f/1.6 Aperture, Night Mode, Deep Fusion, Optical Image Stabilisation, 2x Optical Zoom Out, Digital Zoom Upto 5x, Portrait Mode with Advanced Bokeh and Depth Control, Portrait Lighting with Six Effects (Natural, Studio, Contour, Stage, Stage Mono, High‑Key Mono), Smart HDR 3 for Photos, Video: 4K Video Recording at 24 fps, 30 fps or 60 fps, 1080p HD Video Recording at 30 fps or 60 fps, HDR Video Recording with Dolby Vision Upto 30 fps, Extended Dynamic Range for Video Upto 60 fps, Optical Image Stabilisation for Video, 2x Optical Zoom Out, Digital Zoom Upto 3x, Audio Zoom, QuickTake Video, Slow-motion Video Support for 1080p at 120 fps or 240 fps, Night Mode Time-lapse, Time-lapse Video with Stabilisation, Stereo RecordingSecondary Camera AvailableYesSecondary Camera12MP Front CameraSecondary Camera FeaturesTrueDepth Camera, 12MP Photos, f/2.2 Aperture, Smart HDR 3 for Photos, Portrait Mode with Advanced Bokeh and Depth Control, Portrait Lighting with Six Effects (Natural, Studio, Contour, Stage, Stage Mono, High-Key Mono), Extended Dynamic Rnge for Video at 30 fps, Cinematic Video Stabilisation (4K, 1080p and 720p), 4K Video Recording at 24 fps, 30 fps or 60 fps, HDR Video Recording with Dolby Vision Upto 30 fps, 1080p HD Video Recording at 30 fps or 60 fps, Slow-motion Video Support for 1080p at 120 fps, Night Mode, Deep Fusion, QuickTake Video, Animoji and MemojiFlashRear: Brighter True Tone Flash with Slow Sync | Front: Retina FlashHD RecordingYesFull HD RecordingYesVideo RecordingYesVideo Recording Resolution4K, 1080P, HDR Video Recording with Dolby Vision Upto 30 fpsDigital ZoomPhoto: Digital Zoom Upto 5x, Video: Digital Zoom Upto 3xFrame Rate24 fps, 30 fps, 60 fps, 120 fps, 240 fpsDual Camera LensPrimary Camera ::index-40\n",
      "- 12MP 12MP 12MP 12MP 12MP\n",
      "\n",
      "Primary Camera AvailableYesPrimary Camera48MP + 12MP + 12MPPrimary Camera FeaturesTriple Camera Setup: 48MP Main Camera (Focal Length: 24 mm, f/1.78 Aperture, Second Generation Sensor Shift Optical Image Stabilisation, Seven Element Lens, 100% Focus Pixels) + 12MP Ultra Wide Camera (Focal Length: 13 mm, f/2.2 Aperture, FOV: 120 Degree, Six Element Lens, 100% Focus Pixels) + 12MP 3 x Telephoto Camera (Focal Length: 77 mm, f/2.8 Aperture, Optical Image Stabilisation, Six Element Lens), Camera Feature: Photonic Engine, Deep Fusion, Smart HDR 4, Portrait Mode with Advanced Bokeh and Depth Control, Portrait Lighting with Six Effects (Natural, Studio, Contour, Stage, Stage Mono, High Key Mono), Night Mode, Night Mode Portraits Enabled by LiDAR Scanner, Panorama (Upto 63MP), Photographic Styles, Macro Photography, Apple ProRAW, Wide Colour Capture for Photos and Live PhotosOptical ZoomYesSecondary Camera AvailableYesSecondary Camera12MP Front CameraSecondary Camera Features12MP Camera Setup: (f/1.9 Aperture), Camera Feature: Autofocus with Focus Pixels, Six Element Lens, Retina Flash, Photonic Engine, Deep Fusion, Smart HDR 4, Portrait Mode with Advanced Bokeh and Depth Control, Portrait Lighting with Six Effects (Natural, Studio, Contour, Stage, Stage Mono, High Key Mono), Animoji and Memoji, Night Mode, Photographic Styles, Wide Colour Capture for Photos and Live Photos, Lens Correction, Auto Image Stabilisation, Burst Mode, Video Feature: Timelapse Video with Stabilisation, Night Mode, Timelapse, QuickTake Video, Cinematic Video Stabilisation (4K, 1080p and 720p)FlashRear: True Tone Flash | Front: Retina FlashHD RecordingYesFull HD RecordingYesVideo RecordingYesVideo Recording ResolutionRear Camera: 4K (at 24 fps/ 25 fps/ 30 fps/ 60 fps), 2.8K (at 60 fps), 1080P (at 120 fps/60 fps/30 fps/ 25 fps), 720P (at 30 fps) | Front Camera: 4K (at 24 fps/ 25 fps/ 30 fps/ 60 fps), 1080P (at 120 fps/60 fps/30 fps/ 25 fps)Digital Zoom15XFrame Rate240 fps, 120 fps, 60 fps, 30 fps, 25 fps, 24 fpsDual Camera LensPrimary Camera ::index-76\n",
      "- 48MP 12MP 12MP 48MP 12MP 12MP 63MP 12MP 12MP\n",
      "\n",
      "Primary Camera AvailableYesPrimary Camera12MP + 12MP + 12MPPrimary Camera FeaturesPro 12MP Camera System (Telephoto, Wide and Ultra Wide), Telephoto: f/2.8 Aperture, Wide: f/1.5 Aperture, Ultra Wide: f/1.8 Aperture, 120 Degree FOV, 3x Optical Zoom In, 2x Optical Zoom out, 6x Optical Zoom Range, Digital Zoom up to 15x, Night Mode Portraits Enabled by LiDAR Scanner, Portrait Mode with Advanced Bokeh and Depth Control, Portrait Lighting with Six Effects (Natural, Studio, Contour, Stage, Stage Mono, High‑Key Mono), Dual Optical Image Stabilisation (Telephoto and Wide), Sensor‑shift Optical Image Stabilisation (Wide), Six‑element Lens (Telephoto and Ultra Wide), Seven‑element Lens (Wide), Panorama (up to 63MP), 100% Focus Pixels (Wide), Night Mode, Deep Fusion, Smart HDR 4, Photographic Styles, Macro Photography, Apple ProRAW, Wide Colour Capture for Photos and Live Photos, Lens Correction (Ultra Wide), Advanced Red‑eye Correction, Photo Geotagging, Auto Image Stabilisation, Burst Mode, Image Formats Captured: HEIF and JPEGSecondary Camera AvailableYesSecondary Camera12MP Front CameraSecondary Camera Features12MP TrueDepth Camera, f/2.2 Aperture, Portrait Mode with Advanced Bokeh and Depth Control, Portrait Lighting with Six Effects (Natural, Studio, Contour, Stage, Stage Mono, High‑Key Mono), Animoji and Memoji, Night Mode, Deep Fusion, Smart HDR 4, Photographic Styles, Apple ProRAW, Cinematic Mode for Recording Videos with Shallow Depth of Field (1080p at 30 fps), HDR Video Recording with Dolby Vision up to 4K at 60 fps, Time-lapse Video with Stabilisation, Night Mode Time‑lapse, Cinematic Video Stabilisation (4K, 1080p and 720p), QuickTake Video, Wide Colour Capture for Photos and Live Photos, Lens Correction, Auto Image Stabilisation, Burst ModeFlashRear: True Tone Flash with Slow Sync | Front: Retina FlashHD RecordingYesFull HD RecordingYesVideo RecordingYesVideo Recording Resolution4K Video Recording (at 24 fps, 25 fps, 30 fps or 60 fps), 1080p HD Video Recording (at 25 fps, 30 fps or 60 fps), 720p HD Video Recording (at 30 fps), Slow‑motion Video Support: Rear Camera (1080p at 120 fps or 240 fps), Front Camera (1080p at 120 fps)Digital ZoomPhoto: Digital Zoom Upto 15x, Video: Digital Zoom Upto 9xFrame Rate24 fps, 25 fps, 30 fps, 60 fpsDual Camera LensPrimary Camera ::index-171\n",
      "- 12MP 12MP 12MP 12MP 63MP 12MP 12MP\n",
      "\n",
      "Primary Camera AvailableYesPrimary Camera12MP + 12MP + 12MPPrimary Camera FeaturesPro 12MP Camera System (Telephoto, Wide and Ultra Wide), Telephoto: f/2.8 Aperture, Wide: f/1.5 Aperture, Ultra Wide: f/1.8 Aperture, 120 Degree FOV, 3x Optical Zoom In, 2x Optical Zoom out, 6x Optical Zoom Range, Digital Zoom up to 15x, Night Mode Portraits Enabled by LiDAR Scanner, Portrait Mode with Advanced Bokeh and Depth Control, Portrait Lighting with Six Effects (Natural, Studio, Contour, Stage, Stage Mono, High‑Key Mono), Dual Optical Image Stabilisation (Telephoto and Wide), Sensor‑shift Optical Image Stabilisation (Wide), Six‑element Lens (Telephoto and Ultra Wide), Seven‑element Lens (Wide), Panorama (up to 63MP), 100% Focus Pixels (Wide), Night Mode, Deep Fusion, Smart HDR 4, Photographic Styles, Macro Photography, Apple ProRAW, Wide Colour Capture for Photos and Live Photos, Lens Correction (Ultra Wide), Advanced Red‑eye Correction, Photo Geotagging, Auto Image Stabilisation, Burst Mode, Image Formats Captured: HEIF and JPEGSecondary Camera AvailableYesSecondary Camera12MP Front CameraSecondary Camera Features12MP TrueDepth Camera, f/2.2 Aperture, Portrait Mode with Advanced Bokeh and Depth Control, Portrait Lighting with Six Effects (Natural, Studio, Contour, Stage, Stage Mono, High‑Key Mono), Animoji and Memoji, Night Mode, Deep Fusion, Smart HDR 4, Photographic Styles, Apple ProRAW, Cinematic Mode for Recording Videos with Shallow Depth of Field (1080p at 30 fps), HDR Video Recording with Dolby Vision up to 4K at 60 fps, Time-lapse Video with Stabilisation, Night Mode Time‑lapse, Cinematic Video Stabilisation (4K, 1080p and 720p), QuickTake Video, Wide Colour Capture for Photos and Live Photos, Lens Correction, Auto Image Stabilisation, Burst ModeFlashRear: True Tone Flash with Slow Sync | Front: Retina FlashHD RecordingYesFull HD RecordingYesVideo RecordingYesVideo Recording Resolution4K Video Recording (at 24 fps, 25 fps, 30 fps or 60 fps), 1080p HD Video Recording (at 25 fps, 30 fps or 60 fps), 720p HD Video Recording (at 30 fps), Slow‑motion Video Support: Rear Camera (1080p at 120 fps or 240 fps), Front Camera (1080p at 120 fps)Digital ZoomPhoto: Digital Zoom Upto 15x, Video: Digital Zoom Upto 9xFrame Rate24 fps, 25 fps, 30 fps, 60 fpsDual Camera LensPrimary Camera ::index-166\n",
      "- 12MP 12MP 12MP 12MP 63MP 12MP 12MP\n",
      "\n",
      "Primary Camera AvailableYesPrimary Camera12MP + 12MPPrimary Camera FeaturesDual 12MP Camera System (Ultra Wide and Wide), Ultra Wide: f/2.4 Aperture, Wide: f/1.6 Aperture, Night Mode, Deep Fusion, Optical Image Stabilisation, 2x Optical Zoom Out, Digital Zoom Upto 5x, Portrait Mode with Advanced Bokeh and Depth Control, Portrait Lighting with Six Effects (Natural, Studio, Contour, Stage, Stage Mono, High‑Key Mono), Smart HDR 3 for Photos, Video: 4K Video Recording at 24 fps, 30 fps or 60 fps, 1080p HD Video Recording at 30 fps or 60 fps, HDR Video Recording with Dolby Vision Upto 30 fps, Extended Dynamic Range for Video Upto 60 fps, Optical Image Stabilisation for Video, 2x Optical Zoom Out, Digital Zoom Upto 3x, Audio Zoom, QuickTake Video, Slow-motion Video Support for 1080p at 120 fps or 240 fps, Night Mode Time-lapse, Time-lapse Video with Stabilisation, Stereo RecordingSecondary Camera AvailableYesSecondary Camera12MP Front CameraSecondary Camera FeaturesTrueDepth Camera, 12MP Photos, f/2.2 Aperture, Smart HDR 3 for Photos, Portrait Mode with Advanced Bokeh and Depth Control, Portrait Lighting with Six Effects (Natural, Studio, Contour, Stage, Stage Mono, High-Key Mono), Extended Dynamic Rnge for Video at 30 fps, Cinematic Video Stabilisation (4K, 1080p and 720p), 4K Video Recording at 24 fps, 30 fps or 60 fps, HDR Video Recording with Dolby Vision Upto 30 fps, 1080p HD Video Recording at 30 fps or 60 fps, Slow-motion Video Support for 1080p at 120 fps, Night Mode, Deep Fusion, QuickTake Video, Animoji and MemojiFlashRear: Brighter True Tone Flash with Slow Sync | Front: Retina FlashHD RecordingYesFull HD RecordingYesVideo RecordingYesVideo Recording Resolution4K, 1080P, HDR Video Recording with Dolby Vision Upto 30 fpsDigital ZoomPhoto: Digital Zoom Upto 5x, Video: Digital Zoom Upto 3xFrame Rate24 fps, 30 fps, 60 fps, 120 fps, 240 fpsDual Camera LensPrimary Camera ::index-350\n",
      "- 12MP 12MP 12MP 12MP 12MP\n",
      "\n",
      "Primary Camera AvailableYesPrimary Camera12MP + 12MPPrimary Camera FeaturesDual 12MP Camera System (Wide and Ultra Wide), Wide: f/1.6 Aperture, Ultra Wide: f/2.4 Aperture, 120 Degree FOV, 2x Optical Zoom out, Digital Zoom up to 5x, Portrait Mode with Advanced Bokeh and Depth Control, Portrait Lighting with Six Effects (Natural, Studio, Contour, Stage, Stage Mono, High‑Key Mono), Sensor-shift Optical Image Stabilisation (Wide), Seven‑element Lens (Wide), Five‑element Lens (Ultra Wide), Panorama (up to 63MP), Sapphire Crystal Lens Cover, 100% Focus Pixels (Wide), Night Mode\n",
      "Deep Fusion, Smart HDR 4, Photographic Styles, Wide Colour Capture for Photos and Live Photos, Lens Correction (Ultra Wide), Advanced Red‑eye Correction, Auto Image Stabilisation, Burst Mode, Photo Geotagging, Image Formats Captured: HEIF and JPEG, Video Recording: Sensor-shift OIS for Video (Wide), Audio Zoom, QuickTake Video, Time‑lapse Video with Stabilisation, Night Mode Time-lapse, Cinematic Video Stabilisation (4K, 1080p and 720p), Continuous AF Video, Playback Zoom, Stereo RecordingSecondary Camera AvailableYesSecondary Camera12MP Front CameraSecondary Camera Features12MP TrueDepth Camera, f/2.2 Aperture, Portrait Mode with Advanced Bokeh and Depth Control, Portrait Lighting with Six Effects (Natural, Studio, Contour, Stage, Stage Mono, High‑Key Mono), Animoji and Memoji, Night Mode, Deep Fusion, Smart HDR 4, Photographic Styles, Cinematic Mode for Recording Videos with Shallow Depth of Field (1080p at 30 fps), HDR Video Recording with Dolby Vision up to 4K at 60 fps, Time‑lapse Video with Stabilisation, Night Mode Time-lapse, Cinematic Video Stabilisation (4K, 1080p and 720p), QuickTake Video, Wide Colour Capture for Photos and Live Photos, Lens Correction, Auto Image Stabilisation, Burst ModeFlashRear: True Tone Flash with Slow Sync | Front: Retina FlashHD RecordingYesFull HD RecordingYesVideo RecordingYesVideo Recording Resolution4K Video Recording (at 24 fps, 25 fps, 30 fps or 60 fps), 1080p HD Video Recording (at 25 fps, 30 fps or 60 fps), 720p HD Video Recording (at 30 fps), Slow‑motion Video Support: Rear Camera (1080p at 120 fps or 240 fps), Front Camera (1080p at 120 fps)Digital ZoomPhoto: Digital Zoom Upto 5x, Video: Digital Zoom Upto 3xFrame Rate24 fps, 25 fps, 30 fps, 60 fpsDual Camera LensPrimary Camera ::index-271\n",
      "- 12MP 12MP 12MP 63MP 12MP 12MP\n",
      "\n"
     ]
    }
   ],
   "source": [
    "test_func(func=camera_extract,col_name='camera',df=apple)"
   ]
  },
  {
   "cell_type": "markdown",
   "metadata": {},
   "source": [
    "## display"
   ]
  },
  {
   "cell_type": "code",
   "execution_count": 133,
   "metadata": {},
   "outputs": [
    {
     "name": "stdout",
     "output_type": "stream",
     "text": [
      "146 : Display Size16.51 cm (6.5 inch)Resolution720*1600$$pixels\n",
      "31 : Display Size5.08 cm (2 inch)Resolution128 x 160$$PixelsResolution TypeNADisplay TypeTFTDisplay Colors65 K\n",
      "238 : Display Size17.02 cm (6.7 inch)Resolution2400x1080 Pixels\n",
      "227 : Display Size14.48 cm (5.7 inch)Resolution1920 x 1080 pixelsResolution TypeFull HD\n",
      "93 : Display Size16.26 cm (6.4 inch)Resolution2340 x 1080 PixelsResolution TypeFull HD+GPUARM Mali G68 MP5Display TypeFull HD+ Super AMOLED DisplayHD Game SupportYesDisplay Colors16 MillionOther Display FeaturesRefresh Rate: 120 Hz, On-Cell Touch Display\n",
      "483 : Display Size15.24 cm (6 inch)Resolution2220 x 1080 pixelsResolution TypeFull HD+GPUARM Mali-G71 MP2Display TypeSuper AMOLED Infinity DisplayDisplay Colors16M\n"
     ]
    }
   ],
   "source": [
    "random_values('display',df=samsung)"
   ]
  },
  {
   "cell_type": "code",
   "execution_count": 134,
   "metadata": {},
   "outputs": [],
   "source": [
    "def display_(txt):\n",
    "    replace = txt.replace('Display','')\n",
    "    replace = replace.replace('cm','')\n",
    "    last = replace.replace('x','')\n",
    "    return ''.join(last)"
   ]
  },
  {
   "cell_type": "code",
   "execution_count": 135,
   "metadata": {},
   "outputs": [],
   "source": [
    "def func_apply(func:Callable,col_name,df:pd.DataFrame,df_name=None):\n",
    "    df[col_name] = df[col_name].apply(func)"
   ]
  },
  {
   "cell_type": "code",
   "execution_count": 136,
   "metadata": {},
   "outputs": [
    {
     "name": "stdout",
     "output_type": "stream",
     "text": [
      "Display Size16.23 cm (6.39 inch)Resolution2340 x 1080 pixelsResolution TypeFull HD+GPUAdreno 640Display TypeAMOLEDDisplay ColorsContrast Ratio - 60000:1, NTSC Ratio - 103.8% ::index-165\n",
      "-  Size16.23  (6.39 inch)Resolution2340  1080 pielsResolution TypeFull HD+GPUAdreno 640 TypeAMOLED ColorsContrast Ratio - 60000:1, NTSC Ratio - 103.8%\n",
      "\n",
      "Display Size16.76 cm (6.6 inch)Resolution2400 x 1080$$pixel ::index-414\n",
      "-  Size16.76  (6.6 inch)Resolution2400  1080$$piel\n",
      "\n",
      "Display Size15.21 cm (5.99 inch)Resolution1440 x 720 pixelsResolution TypeHD+GPUAdreno 506Display TypeIPS (In-cell)Other Display FeaturesContrast Ratio: 1000:1 ::index-149\n",
      "-  Size15.21  (5.99 inch)Resolution1440  720 pielsResolution TypeHD+GPUAdreno 506 TypeIPS (In-cell)Other  FeaturesContrast Ratio: 1000:1\n",
      "\n",
      "Display Size16.56 cm (6.52 inch)Resolution1600 x 720 PixelsResolution TypeHD+GPUIMG PowerVRDisplay TypeHD+ Scratch Resistant DisplayOther Display Features120 Hz Touch Sampling Rate, Brightness: 400nits ::index-178\n",
      "-  Size16.56  (6.52 inch)Resolution1600  720 PielsResolution TypeHD+GPUIMG PowerVR TypeHD+ Scratch Resistant Other  Features120 Hz Touch Sampling Rate, Brightness: 400nits\n",
      "\n",
      "Display Size16.94 cm (6.67 inch)Resolution2400 x 1080$$pixel ::index-407\n",
      "-  Size16.94  (6.67 inch)Resolution2400  1080$$piel\n",
      "\n",
      "Display Size16.56 cm (6.52 inch)Resolution1600 x 720Resolution TypeHD+ ::index-335\n",
      "-  Size16.56  (6.52 inch)Resolution1600  720Resolution TypeHD+\n",
      "\n",
      "Display Size16.56 cm (6.52 inch)Resolution1600 x 720 PixelsResolution TypeHD+GPUIMG PowerVRDisplay TypeHD+ Scratch Resistant DisplayOther Display Features120 Hz Touch Sampling Rate, Brightness: 400nits ::index-178\n",
      "-  Size16.56  (6.52 inch)Resolution1600  720 PielsResolution TypeHD+GPUIMG PowerVR TypeHD+ Scratch Resistant Other  Features120 Hz Touch Sampling Rate, Brightness: 400nits\n",
      "\n",
      "Display Size16.76 cm (6.6 inch)Resolution2400 x 1080 pixel ::index-320\n",
      "-  Size16.76  (6.6 inch)Resolution2400  1080 piel\n",
      "\n"
     ]
    }
   ],
   "source": [
    "test_func(func=display_,df=mi,col_name='display')"
   ]
  },
  {
   "cell_type": "code",
   "execution_count": 137,
   "metadata": {},
   "outputs": [],
   "source": [
    "# func_apply(func=display_,df=mi,col_name='display')"
   ]
  },
  {
   "cell_type": "code",
   "execution_count": 138,
   "metadata": {},
   "outputs": [],
   "source": [
    "import re\n",
    "\n",
    "def display_complete(text):\n",
    "    pattern = r'Display Size(\\d+\\.\\d+ cm \\(\\d+\\.\\d+ inch\\))?.*?Resolution(\\d+ x \\d+ pixels).*?Resolution Type(.*?)(?=GPU|$).*?(GPU(.*?))?Display Type(.*?)(?=Other Display Features|$).*?Other Display Features(.*?)(?=\\n|$)'\n",
    "    search = re.search(pattern, text)\n",
    "    # print(search)\n",
    "    if search:\n",
    "        return ' '.join(search.groups())\n",
    "    else:\n",
    "        pattern = r'\\d+\\.\\d+\\s*cm\\s*\\(\\d+\\.\\d+\\s*inch\\)\\s*\\d+\\s*x\\s*\\d+\\s*pixels\\s*Full HD\\+\\s*GPU[^:]+'\n",
    "        return \n",
    "    "
   ]
  },
  {
   "cell_type": "code",
   "execution_count": 139,
   "metadata": {},
   "outputs": [
    {
     "name": "stdout",
     "output_type": "stream",
     "text": [
      "Display Size16.64 cm (6.55 inch)Resolution1080 x 2400Resolution TypeFull HD+GPUAdreno 642LDisplay TypeAMOLEDOther Display FeaturesDolby Vision®, 60/90Hz Refresh Rate, HDR10+, Corning® Gorilla® Glass 5 ::index-24\n",
      "- None\n",
      "\n",
      "Display Size15.9 cm (6.26 inch)Resolution2280 x 1080 pixelsResolution TypeFull HD+GPUAdreno 509Display TypeIPS (In-cell)Other Display FeaturesNotch Display, Corning Gorilla Glass ::index-94\n",
      "- 15.9 cm (6.26 inch) 2280 x 1080 pixels Full HD+ GPUAdreno 509 Adreno 509 IPS (In-cell) Notch Display, Corning Gorilla Glass\n",
      "\n",
      "Display Size16.59 cm (6.53 inch)Resolution720 x 1600 pixel ::index-8\n",
      "- None\n",
      "\n",
      "Display Size16.33 cm (6.43 inch)Resolution2400 x 1080 PixelsResolution TypeFull HD+ Super AMOLED DisplayGPUARM Mali G76Display TypeFHD+ Super AMOLEDHD Game SupportYesDisplay Colors16MOther Display FeaturesContrast Ratio: 4,500,000:1, Color Gamut: DCI-P3, Brightness: HBM 700 nits,1100 nits Peak Brightness, 8-Bit Color, Reading Mode 3.0, Sunlight Mode 2.0, Low Blue Light Certified by SGS ::index-324\n",
      "- None\n",
      "\n",
      "Display Size16.0 cm (6.3 inch)Resolution2340 x 1080 pixelsResolution TypeFull HD+GPUAdreno 612Display TypeIPS (In-cell), RDOther Display FeaturesContrast Ratio - 1500:1, NTSC Ratio - 81.41%, 2.5D Glass (In-front), Corning Gorilla Glass 5 (Front and Back), Dot Notch Display ::index-133\n",
      "- 16.0 cm (6.3 inch) 2340 x 1080 pixels Full HD+ GPUAdreno 612 Adreno 612 IPS (In-cell), RD Contrast Ratio - 1500:1, NTSC Ratio - 81.41%, 2.5D Glass (In-front), Corning Gorilla Glass 5 (Front and Back), Dot Notch Display\n",
      "\n",
      "Display Size16.23 cm (6.39 inch)Resolution2340 x 1080 pixelsResolution TypeFull HD+GPUAdreno 640Display TypeAMOLEDDisplay ColorsContrast Ratio - 60000:1, NTSC Ratio - 103.8% ::index-168\n",
      "- None\n",
      "\n",
      "Display Size16.33 cm (6.43 inch)Resolution2400x1080 Pixels ::index-238\n",
      "- None\n",
      "\n",
      "Display Size16.64 cm (6.55 inch)Resolution2400 x 1080 PixelsResolution TypeFull HD+GPUAdreno 618Display TypeFull HD+ AMOLED Dot DisplayHD Game SupportYesDisplay Colors1 BillionOther Display Features90Hz Refresh Rate, HDR 10 ::index-4\n",
      "- None\n",
      "\n"
     ]
    }
   ],
   "source": [
    "test_func(func=display_complete,df=mi,col_name='display')"
   ]
  },
  {
   "cell_type": "code",
   "execution_count": null,
   "metadata": {},
   "outputs": [],
   "source": []
  },
  {
   "cell_type": "code",
   "execution_count": 140,
   "metadata": {},
   "outputs": [],
   "source": [
    "# def display_extract(row):\n",
    "#     split_row = row.split()\n",
    "#     pattern = r'\\IPS'\n",
    "#     find \n",
    "#     if 'LCD' in split_row:\n",
    "#         if 'IPS' in split_row and 'LCD' in split_row:\n",
    "#             return 'IPS LCD'\n",
    "#         return 'LCD'\n",
    "    \n",
    "#     if 'OLED' in split_row:\n",
    "#         return 'OLED'\n",
    "    \n",
    "#     if 'TFT' in split_row:\n",
    "#         return 'TFT'\n",
    "    \n",
    "#     if 'LED' in split_row:\n",
    "#         return 'LED'\n",
    "\n",
    "#     # if 'Adreno' in split_row:\n",
    "#     #     return 'Adreno'\n",
    "#     if 'AMOLED' in split_row:\n",
    "#         if 'HD+' in split_row and 'AMOLED' in split_row:\n",
    "#             return 'HD+ AMOLED'\n",
    "#         return 'AMOLED'\n",
    "    \n",
    "#     return 'other_types'\n"
   ]
  },
  {
   "cell_type": "code",
   "execution_count": 141,
   "metadata": {},
   "outputs": [
    {
     "name": "stdout",
     "output_type": "stream",
     "text": [
      "299 : Display Size16.76 cm (6.6 inch)Resolution2460 x 1080 PixelsResolution TypeFull HD+GPUARM Mali-G610 MC6Display TypeFull HD+ Liquid FFS DisplayOther Display FeaturesRefresh Rate: 144 Hz, Peak Brightness: 650 nits, 270 Hz Touch Sampling Rate, DCI-P3 Colour Gamut Support, Dolby Vision, HDR10, Contrast Ratio: 1400:1, Sunlight Display, Corning Gorilla Glass 5\n",
      "335 : Display Size16.56 cm (6.52 inch)Resolution1600 x 720Resolution TypeHD+\n",
      "442 : Display Size16.94 cm (6.67 inch)Resolution1080 x 2460$$pixels\n",
      "139 : Display Size12.7 cm (5 inch)Resolution1280 x 720 PixelsResolution TypeHDGPUAdreno 308Display TypeIPSOther Display FeaturesContrast Ratio: 1000:1\n",
      "523 : Display Size16.0 cm (6.3 inch)Resolution2340 x 1080 pixelsResolution TypeFull HD+GPUAdreno 612Display TypeIPS (In-cell), RDOther Display FeaturesContrast Ratio - 1500:1, NTSC Ratio - 81.41%, 2.5D Glass (In-front), Corning Gorilla Glass 5 (Front and Back), Dot Notch Display\n",
      "13 : Display Size16.94 cm (6.67 inch)Resolution2400x1080$$PixelsResolution TypeFull HD+GPUQualcomm Adreno 650Display TypeFull HD+ AMOLED DisplayOther Display Features120 Hz Refresh Rate, Touch Sampling Rate: 360 Hz, Aspect Ratio: 20:9, Contrast Ratio: 5,000,000:1, Brightness: 900 nits (HBM Typ), 1300 nits (Max), HDR10+, Sunlight Display 3.0, 360 Degree Ambient Light Sensor, Corning Gorilla Glass 5, Supports MEMC, SGS Eye Care Display, SGS Seamless Pro 120Hz\n"
     ]
    }
   ],
   "source": [
    "random_values(col_name='display',df=mi)"
   ]
  },
  {
   "cell_type": "code",
   "execution_count": 142,
   "metadata": {},
   "outputs": [
    {
     "name": "stdout",
     "output_type": "stream",
     "text": [
      "419 : Display Size16.94 cm (6.67 inch)Resolution2400 x 1080 pixel\n",
      "382 : Display Size17.04 cm (6.71 inch)Resolution1650*720\n",
      "217 : Display Size16.94 cm (6.67 inch)Resolution2400 x 1080 PixelsResolution TypeFull HD+ AMOLED DisplayGPUARM Mali-G68 MC4Display TypeFull HD+ AMOLED DisplayOther Display FeaturesRefresh Rate: 120 Hz, Contrast: 5,000,000:1, 1920Hz PWM Dimming, Brightness Level: 16000:1, Peak Brightness: 900 nits\n",
      "63 : Display Size16.64 cm (6.55 inch)Resolution1080 x 2400 Pixel\n",
      "193 : Display Size16.94 cm (6.67 inch)Resolution2400 x 1080 PixelsResolution TypeFull HD+ AMOLED DisplayGPUAdreno 619Display TypeFull HD+ 120Hz Super AMOLED DisplayOther Display Features1200nits Peak Brightness, 240Hz Touch Sampling Rate, 4500000:1, DCI-P3 Colour Gamut Support\n",
      "165 : Display Size16.23 cm (6.39 inch)Resolution2340 x 1080 pixelsResolution TypeFull HD+GPUAdreno 640Display TypeAMOLEDDisplay ColorsContrast Ratio - 60000:1, NTSC Ratio - 103.8%\n"
     ]
    }
   ],
   "source": [
    "random_values(df=mi,col_name='display')"
   ]
  },
  {
   "cell_type": "code",
   "execution_count": 143,
   "metadata": {},
   "outputs": [
    {
     "name": "stdout",
     "output_type": "stream",
     "text": [
      "508 : Network Type3G, 4GSupported Networks4G LTEInternet Connectivity4G, 3G, Wi-Fi, GPRS, EDGE3GYesGPRSYesPre-installed BrowserMIUI Browser, Chrome Browser, AndroidBluetooth SupportYesBluetooth Version4.1Wi-FiYesWi-Fi Version802.11 a/b/g/n/acUSB TetheringYesUSB ConnectivityYesEDGEYesAudio Jack3.5 mmMap SupportGoogle MapsGPS SupportYes\n",
      "444 : Network Type5GSupported Networks5G\n",
      "424 : Network Type3G, 4G VOLTE, 2GSupported NetworksGSM, 4G VoLTEInternet Connectivity4G3GNoMicro USB PortYesBluetooth SupportYesWi-FiYesWi-Fi HotspotYesUSB TetheringYesAudio Jack3.5 mmGPS SupportYes\n",
      "224 : Network Type5G, 4G VOLTE, 4G, 3G, 2GSupported Networks5G, 4G VoLTE, 4G LTE, WCDMA, GSMInternet Connectivity5G, 4G, 3G, Wi-Fi, EDGE, GPRSGPRSYesMicro USB PortYesMicro USB VersionUSB (Type C)Bluetooth SupportYesBluetooth Versionv5.2Wi-FiYesWi-Fi VersionWi-Fi 6, Supports 2.4 GHz and 5 GHz Dual BandWi-Fi HotspotYesMini HDMI PortNoNFCNoUSB TetheringYesInfraredYesUSB ConnectivityYesAudio Jack3.5 mmMap SupportGoogle MapsGPS SupportYes\n",
      "1 : Network Type5G, 4G VOLTESupported Networks5G, 4G VoLTE, 4G LTEBluetooth SupportYesBluetooth Version5.1Wi-FiYesWi-Fi VersionWi-Fi 802.11 a/b/g/n/acWi-Fi HotspotYesInfraredYesMap SupportGoogle MapsGPS SupportYes\n",
      "434 : Network Type5G, 4G VOLTE, 4G, 3G, 2GSupported Networks5G, 4G VoLTE, 4G LTE, WCDMA, GSMInternet Connectivity5G, 4G, 3G, Wi-Fi, EDGE, GPRSGPRSYesBluetooth SupportYesBluetooth Versionv5.2Wi-FiYesWi-Fi Version802.11a/b/g/n/ac/axWi-Fi HotspotYesNFCNoUSB TetheringYesInfraredYesUSB ConnectivityYesAudio Jack3.5mmMap SupportGoogle MapsGPS SupportYes\n"
     ]
    }
   ],
   "source": [
    "random_values(df=mi,col_name='network')"
   ]
  },
  {
   "cell_type": "code",
   "execution_count": 144,
   "metadata": {},
   "outputs": [
    {
     "data": {
      "text/plain": [
       "'(?:Display Size|Resolution)\\\\s*(\\\\d+(?:\\\\.\\\\d+)?)\\\\s*(cm|inch)?\\\\s*\\\\((\\\\d+\\\\s*x\\\\s*\\\\d+)\\\\s*(?:Pixel|Pixels)?\\\\)?'"
      ]
     },
     "execution_count": 144,
     "metadata": {},
     "output_type": "execute_result"
    }
   ],
   "source": [
    "'(?:Display Size|Resolution)\\s*(\\d+(?:\\.\\d+)?)\\s*(cm|inch)?\\s*\\((\\d+\\s*x\\s*\\d+)\\s*(?:Pixel|Pixels)?\\)?'"
   ]
  },
  {
   "cell_type": "code",
   "execution_count": null,
   "metadata": {},
   "outputs": [],
   "source": []
  },
  {
   "cell_type": "code",
   "execution_count": 145,
   "metadata": {},
   "outputs": [],
   "source": [
    "def network(txt):\n",
    "    pattern = r'\\bNetwork Type(4G|5G|3G|2G)\\b'\n",
    "    search = re.search(pattern,txt)\n",
    "    if search:\n",
    "        find = re.findall(pattern,txt)\n",
    "        return ''.join(find)\n",
    "    else:\n",
    "        pattern = r'\\bNetwork Type(4G|5G|3G|2G)Supported'\n",
    "        find = re.findall(pattern,txt)\n",
    "        return ''.join(find)\n"
   ]
  },
  {
   "cell_type": "code",
   "execution_count": 146,
   "metadata": {},
   "outputs": [
    {
     "name": "stdout",
     "output_type": "stream",
     "text": [
      "Network Type4GSupported Networks4G LTE, GSM, WCDMA ::index-150\n",
      "- 4G\n",
      "\n",
      "Network Type4G VOLTE, 4GSupported Networks4G VoLTE, 4G LTEMicro USB PortYesBluetooth SupportYesBluetooth Version5.0Wi-FiYesWi-Fi Version802.11, ac/b/g/nWi-Fi HotspotYesUSB TetheringYesUSB ConnectivityYesAudio Jack3.5 mmMap SupportYesGPS SupportYes ::index-35\n",
      "- 4G\n",
      "\n",
      "Network Type4G VOLTE, 4GSupported Networks4G VoLTE, 4G LTEPre-installed BrowserGoogle ChromeBluetooth SupportYesWi-FiYesUSB TetheringYesUSB ConnectivityYesAudio Jack3.5 mmMap SupportGoogle MapsGPS SupportYes ::index-100\n",
      "- 4G\n",
      "\n",
      "Network Type4G, 2G, 3GSupported NetworksGSM, WCDMA, 4G LTEInternet Connectivity4G, 3G, EDGE, GPRS, Wi-Fi3GYesGPRSYesPre-installed BrowserGoogle ChromeBluetooth SupportYesBluetooth Versionv5.0Wi-FiYesWi-Fi Version802.11 a/b/g/n, 2.4GHz/ 5GHzWi-Fi HotspotYesNFCNoInfraredNoUSB ConnectivityYesEDGEYesMap SupportGoogle MapsGPS SupportYes ::index-89\n",
      "- 4G\n",
      "\n",
      "Network Type4G VOLTE, 4GSupported Networks4G VoLTE, 4G LTEMicro USB PortYesBluetooth SupportNoBluetooth Version5.0Wi-FiYesWi-Fi Version802.11, ac/b/g/nWi-Fi HotspotYesUSB TetheringYesUSB ConnectivityYesAudio Jack3.5 mmMap SupportYesGPS SupportYes ::index-26\n",
      "- 4G\n",
      "\n",
      "Network Type4G VOLTE, 4GSupported Networks4G VoLTE, 4G LTEPre-installed BrowserGoogle BrowserMicro USB PortYesMicro USB Version2.0Bluetooth SupportYesWi-FiYesWi-Fi VersionWi-Fi 802.11, b/g/nWi-Fi HotspotYesUSB TetheringYesUSB ConnectivityYesAudio Jack3.5 mmGPS SupportYes ::index-135\n",
      "- 4G\n",
      "\n",
      "Network Type4G VOLTE, 4GSupported Networks4G VoLTE, 4G LTEMicro USB PortYesMicro USB Version2.0Bluetooth SupportYesWi-FiYesWi-Fi HotspotYesUSB TetheringYesUSB ConnectivityYesAudio Jack3.5mmMap SupportGoogle MapsGPS SupportYes ::index-23\n",
      "- 4G\n",
      "\n",
      "Network Type4GSupported Networks4G VoLTE ::index-61\n",
      "- 4G\n",
      "\n"
     ]
    }
   ],
   "source": [
    "test_func(func=network,df=techno,col_name='network')"
   ]
  },
  {
   "cell_type": "code",
   "execution_count": 163,
   "metadata": {},
   "outputs": [],
   "source": [
    "apple.fillna('notMentioned',inplace=True)"
   ]
  },
  {
   "cell_type": "code",
   "execution_count": 166,
   "metadata": {},
   "outputs": [],
   "source": [
    "def extract_battery(txt):\n",
    "    if txt == 'notMentioned':\n",
    "        return 'notMentioned'\n",
    "    else:\n",
    "        capBattery =  txt.split()[1]\n",
    "        replace = capBattery.replace('Capacity','')\n",
    "        return replace"
   ]
  },
  {
   "cell_type": "code",
   "execution_count": 189,
   "metadata": {},
   "outputs": [
    {
     "data": {
      "text/html": [
       "<div>\n",
       "<style scoped>\n",
       "    .dataframe tbody tr th:only-of-type {\n",
       "        vertical-align: middle;\n",
       "    }\n",
       "\n",
       "    .dataframe tbody tr th {\n",
       "        vertical-align: top;\n",
       "    }\n",
       "\n",
       "    .dataframe thead th {\n",
       "        text-align: right;\n",
       "    }\n",
       "</style>\n",
       "<table border=\"1\" class=\"dataframe\">\n",
       "  <thead>\n",
       "    <tr style=\"text-align: right;\">\n",
       "      <th></th>\n",
       "      <th>name</th>\n",
       "      <th>ratings</th>\n",
       "      <th>price</th>\n",
       "      <th>imgURL</th>\n",
       "      <th>storage_ram</th>\n",
       "      <th>os_processor</th>\n",
       "      <th>camera</th>\n",
       "      <th>display</th>\n",
       "      <th>network</th>\n",
       "      <th>battery</th>\n",
       "    </tr>\n",
       "  </thead>\n",
       "  <tbody>\n",
       "    <tr>\n",
       "      <th>0</th>\n",
       "      <td>Redmi 9A Sport (Coral Green, 32 GB)</td>\n",
       "      <td>4.2</td>\n",
       "      <td>₹8,990</td>\n",
       "      <td>https://rukminim2.flixcart.com/image/312/312/x...</td>\n",
       "      <td>Storage32 GBRAM3</td>\n",
       "      <td>Operating SystemAndroid Q 10Processor CoreOcta...</td>\n",
       "      <td>Primary Camera13MP Rear Camera</td>\n",
       "      <td>Display Size16.59 cm (6.53 inch)Resolution1600...</td>\n",
       "      <td>Network Type4G VOLTE, 4GSupported Networks4G V...</td>\n",
       "      <td></td>\n",
       "    </tr>\n",
       "    <tr>\n",
       "      <th>1</th>\n",
       "      <td>Xiaomi 11Lite NE (Vinyl Black, 128 GB)</td>\n",
       "      <td>4.2</td>\n",
       "      <td>₹21,430</td>\n",
       "      <td>https://rukminim2.flixcart.com/image/312/312/x...</td>\n",
       "      <td>Storage128 GBRAM6 GBExpandable Storage1TB</td>\n",
       "      <td>Operating SystemAndroid 11Processor TypeQualco...</td>\n",
       "      <td>Primary Camera AvailableYesPrimary Camera64MP ...</td>\n",
       "      <td>Display Size16.64 cm (6.55 inch)Resolution1080...</td>\n",
       "      <td>Network Type5G, 4G VOLTESupported Networks5G, ...</td>\n",
       "      <td></td>\n",
       "    </tr>\n",
       "    <tr>\n",
       "      <th>2</th>\n",
       "      <td>Xiaomi 11Lite NE (Diamond Dazzle, 128 GB)</td>\n",
       "      <td>4.2</td>\n",
       "      <td>₹20,999</td>\n",
       "      <td>https://rukminim2.flixcart.com/image/312/312/x...</td>\n",
       "      <td>Storage128 GBRAM6 GBExpandable Storage1TB</td>\n",
       "      <td>Operating SystemAndroid 11Processor TypeQualco...</td>\n",
       "      <td>Primary Camera AvailableYesPrimary Camera64MP ...</td>\n",
       "      <td>Display Size16.64 cm (6.55 inch)Resolution1080...</td>\n",
       "      <td>Network Type5G, 4G VOLTESupported Networks5G, ...</td>\n",
       "      <td></td>\n",
       "    </tr>\n",
       "    <tr>\n",
       "      <th>3</th>\n",
       "      <td>Xiaomi 11Lite NE (Tuscany Coral, 128 GB)</td>\n",
       "      <td>4.2</td>\n",
       "      <td>₹20,999</td>\n",
       "      <td>https://rukminim2.flixcart.com/image/312/312/x...</td>\n",
       "      <td>Storage128 GBRAM6 GBExpandable Storage1TB</td>\n",
       "      <td>Operating SystemAndroid 11Processor TypeQualco...</td>\n",
       "      <td>Primary Camera AvailableYesPrimary Camera64MP ...</td>\n",
       "      <td>Display Size16.64 cm (6.55 inch)Resolution1080...</td>\n",
       "      <td>Network Type5G, 4G VOLTESupported Networks5G, ...</td>\n",
       "      <td></td>\n",
       "    </tr>\n",
       "    <tr>\n",
       "      <th>4</th>\n",
       "      <td>Mi 11 Lite (Jazz Blue, 128 GB)</td>\n",
       "      <td>4.2</td>\n",
       "      <td>₹17,499</td>\n",
       "      <td>https://rukminim2.flixcart.com/image/312/312/k...</td>\n",
       "      <td>Storage128 GBRAM8 GBExpandable Storage512GB</td>\n",
       "      <td>Operating SystemAndroid 11Processor TypeQualco...</td>\n",
       "      <td>Primary Camera AvailableYesPrimary Camera64MP ...</td>\n",
       "      <td>Display Size16.64 cm (6.55 inch)Resolution2400...</td>\n",
       "      <td>Network Type4G VOLTE, 4G, 3G, 2GSupported Netw...</td>\n",
       "      <td></td>\n",
       "    </tr>\n",
       "    <tr>\n",
       "      <th>...</th>\n",
       "      <td>...</td>\n",
       "      <td>...</td>\n",
       "      <td>...</td>\n",
       "      <td>...</td>\n",
       "      <td>...</td>\n",
       "      <td>...</td>\n",
       "      <td>...</td>\n",
       "      <td>...</td>\n",
       "      <td>...</td>\n",
       "      <td>...</td>\n",
       "    </tr>\n",
       "    <tr>\n",
       "      <th>546</th>\n",
       "      <td>13 pro (Ceramic Black, 256 GB)</td>\n",
       "      <td>4.3</td>\n",
       "      <td>₹79,999</td>\n",
       "      <td>https://rukminim2.flixcart.com/image/312/312/x...</td>\n",
       "      <td>Storage256 GBRAM12</td>\n",
       "      <td>Operating SystemAndroid MIUI 14, Android 13.0P...</td>\n",
       "      <td>Primary Camera50MP Rear CameraDual Camera Lens...</td>\n",
       "      <td>Display Size17.09 cm (6.73 inch)Resolution3200...</td>\n",
       "      <td>Network Type5GSupported Networks5G</td>\n",
       "      <td></td>\n",
       "    </tr>\n",
       "    <tr>\n",
       "      <th>547</th>\n",
       "      <td>Mi A3 (Not just Blue, 64 GB)</td>\n",
       "      <td>4.2</td>\n",
       "      <td>₹14,999</td>\n",
       "      <td>https://rukminim2.flixcart.com/image/312/312/k...</td>\n",
       "      <td>Storage64 GBRAM4 GBExpandable Storage256GB</td>\n",
       "      <td>Operating SystemAndroid Pie 9Processor TypeQua...</td>\n",
       "      <td>Primary Camera AvailableYesPrimary Camera48MP ...</td>\n",
       "      <td>Display Size15.46 cm (6.088 inch)Resolution156...</td>\n",
       "      <td>Network Type4G VOLTE, 4G, 2G, 3GSupported Netw...</td>\n",
       "      <td></td>\n",
       "    </tr>\n",
       "    <tr>\n",
       "      <th>548</th>\n",
       "      <td>Mi 10T Pro (Lunar Silver, 128 GB)</td>\n",
       "      <td>4.3</td>\n",
       "      <td>₹26,899</td>\n",
       "      <td>https://rukminim2.flixcart.com/image/312/312/k...</td>\n",
       "      <td>Storage128 GBRAM8</td>\n",
       "      <td>Operating SystemAndroid 10Processor TypeQualco...</td>\n",
       "      <td>Primary Camera AvailableYesPrimary Camera108MP...</td>\n",
       "      <td>Display Size16.94 cm (6.67 inch)Resolution2400...</td>\n",
       "      <td>Network Type5G, 4G VOLTE, 4G, 3G, 2GSupported ...</td>\n",
       "      <td></td>\n",
       "    </tr>\n",
       "    <tr>\n",
       "      <th>549</th>\n",
       "      <td>Redmi Y1 (Gold, 32 GB)</td>\n",
       "      <td>4.5</td>\n",
       "      <td>₹8,999</td>\n",
       "      <td>https://rukminim2.flixcart.com/image/312/312/j...</td>\n",
       "      <td>Storage32 GBRAM3 GBExpandable Storage128GB</td>\n",
       "      <td>Operating SystemAndroid Nougat 7.1.2Processor ...</td>\n",
       "      <td>Primary Camera AvailableYesPrimary Camera13MP ...</td>\n",
       "      <td>Display Size13.97 cm (5.5 inch)Resolution1280 ...</td>\n",
       "      <td>Network Type3G, 4G, 2GSupported NetworksGSM, W...</td>\n",
       "      <td></td>\n",
       "    </tr>\n",
       "    <tr>\n",
       "      <th>550</th>\n",
       "      <td>Redmi Note 7 Pro (Neptune Blue, 128 GB)</td>\n",
       "      <td>4.3</td>\n",
       "      <td>₹17,999</td>\n",
       "      <td>https://rukminim2.flixcart.com/image/312/312/j...</td>\n",
       "      <td>Storage128 GBRAM6 GBExpandable Storage256GB</td>\n",
       "      <td>Operating SystemAndroid Pie 9.0Processor TypeQ...</td>\n",
       "      <td>Primary Camera AvailableYesPrimary Camera48MP ...</td>\n",
       "      <td>Display Size16.0 cm (6.3 inch)Resolution2340 x...</td>\n",
       "      <td>Network Type3G, 4G VOLTE, 2GSupported Networks...</td>\n",
       "      <td></td>\n",
       "    </tr>\n",
       "  </tbody>\n",
       "</table>\n",
       "<p>524 rows × 10 columns</p>\n",
       "</div>"
      ],
      "text/plain": [
       "                                          name  ratings    price   \n",
       "0          Redmi 9A Sport (Coral Green, 32 GB)      4.2   ₹8,990  \\\n",
       "1       Xiaomi 11Lite NE (Vinyl Black, 128 GB)      4.2  ₹21,430   \n",
       "2    Xiaomi 11Lite NE (Diamond Dazzle, 128 GB)      4.2  ₹20,999   \n",
       "3     Xiaomi 11Lite NE (Tuscany Coral, 128 GB)      4.2  ₹20,999   \n",
       "4               Mi 11 Lite (Jazz Blue, 128 GB)      4.2  ₹17,499   \n",
       "..                                         ...      ...      ...   \n",
       "546             13 pro (Ceramic Black, 256 GB)      4.3  ₹79,999   \n",
       "547               Mi A3 (Not just Blue, 64 GB)      4.2  ₹14,999   \n",
       "548          Mi 10T Pro (Lunar Silver, 128 GB)      4.3  ₹26,899   \n",
       "549                     Redmi Y1 (Gold, 32 GB)      4.5   ₹8,999   \n",
       "550    Redmi Note 7 Pro (Neptune Blue, 128 GB)      4.3  ₹17,999   \n",
       "\n",
       "                                                imgURL   \n",
       "0    https://rukminim2.flixcart.com/image/312/312/x...  \\\n",
       "1    https://rukminim2.flixcart.com/image/312/312/x...   \n",
       "2    https://rukminim2.flixcart.com/image/312/312/x...   \n",
       "3    https://rukminim2.flixcart.com/image/312/312/x...   \n",
       "4    https://rukminim2.flixcart.com/image/312/312/k...   \n",
       "..                                                 ...   \n",
       "546  https://rukminim2.flixcart.com/image/312/312/x...   \n",
       "547  https://rukminim2.flixcart.com/image/312/312/k...   \n",
       "548  https://rukminim2.flixcart.com/image/312/312/k...   \n",
       "549  https://rukminim2.flixcart.com/image/312/312/j...   \n",
       "550  https://rukminim2.flixcart.com/image/312/312/j...   \n",
       "\n",
       "                                     storage_ram   \n",
       "0                               Storage32 GBRAM3  \\\n",
       "1      Storage128 GBRAM6 GBExpandable Storage1TB   \n",
       "2      Storage128 GBRAM6 GBExpandable Storage1TB   \n",
       "3      Storage128 GBRAM6 GBExpandable Storage1TB   \n",
       "4    Storage128 GBRAM8 GBExpandable Storage512GB   \n",
       "..                                           ...   \n",
       "546                           Storage256 GBRAM12   \n",
       "547   Storage64 GBRAM4 GBExpandable Storage256GB   \n",
       "548                            Storage128 GBRAM8   \n",
       "549   Storage32 GBRAM3 GBExpandable Storage128GB   \n",
       "550  Storage128 GBRAM6 GBExpandable Storage256GB   \n",
       "\n",
       "                                          os_processor   \n",
       "0    Operating SystemAndroid Q 10Processor CoreOcta...  \\\n",
       "1    Operating SystemAndroid 11Processor TypeQualco...   \n",
       "2    Operating SystemAndroid 11Processor TypeQualco...   \n",
       "3    Operating SystemAndroid 11Processor TypeQualco...   \n",
       "4    Operating SystemAndroid 11Processor TypeQualco...   \n",
       "..                                                 ...   \n",
       "546  Operating SystemAndroid MIUI 14, Android 13.0P...   \n",
       "547  Operating SystemAndroid Pie 9Processor TypeQua...   \n",
       "548  Operating SystemAndroid 10Processor TypeQualco...   \n",
       "549  Operating SystemAndroid Nougat 7.1.2Processor ...   \n",
       "550  Operating SystemAndroid Pie 9.0Processor TypeQ...   \n",
       "\n",
       "                                                camera   \n",
       "0                       Primary Camera13MP Rear Camera  \\\n",
       "1    Primary Camera AvailableYesPrimary Camera64MP ...   \n",
       "2    Primary Camera AvailableYesPrimary Camera64MP ...   \n",
       "3    Primary Camera AvailableYesPrimary Camera64MP ...   \n",
       "4    Primary Camera AvailableYesPrimary Camera64MP ...   \n",
       "..                                                 ...   \n",
       "546  Primary Camera50MP Rear CameraDual Camera Lens...   \n",
       "547  Primary Camera AvailableYesPrimary Camera48MP ...   \n",
       "548  Primary Camera AvailableYesPrimary Camera108MP...   \n",
       "549  Primary Camera AvailableYesPrimary Camera13MP ...   \n",
       "550  Primary Camera AvailableYesPrimary Camera48MP ...   \n",
       "\n",
       "                                               display   \n",
       "0    Display Size16.59 cm (6.53 inch)Resolution1600...  \\\n",
       "1    Display Size16.64 cm (6.55 inch)Resolution1080...   \n",
       "2    Display Size16.64 cm (6.55 inch)Resolution1080...   \n",
       "3    Display Size16.64 cm (6.55 inch)Resolution1080...   \n",
       "4    Display Size16.64 cm (6.55 inch)Resolution2400...   \n",
       "..                                                 ...   \n",
       "546  Display Size17.09 cm (6.73 inch)Resolution3200...   \n",
       "547  Display Size15.46 cm (6.088 inch)Resolution156...   \n",
       "548  Display Size16.94 cm (6.67 inch)Resolution2400...   \n",
       "549  Display Size13.97 cm (5.5 inch)Resolution1280 ...   \n",
       "550  Display Size16.0 cm (6.3 inch)Resolution2340 x...   \n",
       "\n",
       "                                               network battery  \n",
       "0    Network Type4G VOLTE, 4GSupported Networks4G V...          \n",
       "1    Network Type5G, 4G VOLTESupported Networks5G, ...          \n",
       "2    Network Type5G, 4G VOLTESupported Networks5G, ...          \n",
       "3    Network Type5G, 4G VOLTESupported Networks5G, ...          \n",
       "4    Network Type4G VOLTE, 4G, 3G, 2GSupported Netw...          \n",
       "..                                                 ...     ...  \n",
       "546                 Network Type5GSupported Networks5G          \n",
       "547  Network Type4G VOLTE, 4G, 2G, 3GSupported Netw...          \n",
       "548  Network Type5G, 4G VOLTE, 4G, 3G, 2GSupported ...          \n",
       "549  Network Type3G, 4G, 2GSupported NetworksGSM, W...          \n",
       "550  Network Type3G, 4G VOLTE, 2GSupported Networks...          \n",
       "\n",
       "[524 rows x 10 columns]"
      ]
     },
     "execution_count": 189,
     "metadata": {},
     "output_type": "execute_result"
    }
   ],
   "source": [
    "mi"
   ]
  },
  {
   "cell_type": "code",
   "execution_count": 188,
   "metadata": {},
   "outputs": [
    {
     "name": "stdout",
     "output_type": "stream",
     "text": [
      "29 : \n",
      "18 : \n",
      "22 : \n",
      "224 : \n",
      "311 : \n",
      "256 : \n"
     ]
    }
   ],
   "source": [
    "random_values(col_name='battery',df=mi)"
   ]
  },
  {
   "cell_type": "code",
   "execution_count": 183,
   "metadata": {},
   "outputs": [
    {
     "ename": "IndexError",
     "evalue": "list index out of range",
     "output_type": "error",
     "traceback": [
      "\u001b[1;31m---------------------------------------------------------------------------\u001b[0m",
      "\u001b[1;31mIndexError\u001b[0m                                Traceback (most recent call last)",
      "Cell \u001b[1;32mIn[183], line 1\u001b[0m\n\u001b[1;32m----> 1\u001b[0m test_func(func\u001b[39m=\u001b[39;49mextract_battery,df\u001b[39m=\u001b[39;49mmi,col_name\u001b[39m=\u001b[39;49m\u001b[39m'\u001b[39;49m\u001b[39mbattery\u001b[39;49m\u001b[39m'\u001b[39;49m)\n",
      "Cell \u001b[1;32mIn[81], line 13\u001b[0m, in \u001b[0;36mtest_func\u001b[1;34m(func, df, col_name, total_values, index)\u001b[0m\n\u001b[0;32m     11\u001b[0m int_rand \u001b[39m=\u001b[39m np\u001b[39m.\u001b[39mrandom\u001b[39m.\u001b[39mrandint(df\u001b[39m.\u001b[39mshape[\u001b[39m0\u001b[39m])\n\u001b[0;32m     12\u001b[0m data \u001b[39m=\u001b[39m df[col_name]\u001b[39m.\u001b[39miloc[int_rand]\n\u001b[1;32m---> 13\u001b[0m output_of_func \u001b[39m=\u001b[39m func(data)\n\u001b[0;32m     14\u001b[0m \u001b[39mprint\u001b[39m(data,\u001b[39mf\u001b[39m\u001b[39m'\u001b[39m\u001b[39m::index-\u001b[39m\u001b[39m{\u001b[39;00mint_rand\u001b[39m}\u001b[39;00m\u001b[39m'\u001b[39m)\n\u001b[0;32m     15\u001b[0m \u001b[39mprint\u001b[39m(\u001b[39m'\u001b[39m\u001b[39m-\u001b[39m\u001b[39m'\u001b[39m,output_of_func)\n",
      "Cell \u001b[1;32mIn[178], line 5\u001b[0m, in \u001b[0;36mextract_battery\u001b[1;34m(txt)\u001b[0m\n\u001b[0;32m      3\u001b[0m     \u001b[39mreturn\u001b[39;00m \u001b[39m'\u001b[39m\u001b[39mnotMentioned\u001b[39m\u001b[39m'\u001b[39m\n\u001b[0;32m      4\u001b[0m \u001b[39melse\u001b[39;00m:\n\u001b[1;32m----> 5\u001b[0m     capBattery \u001b[39m=\u001b[39m  txt\u001b[39m.\u001b[39;49msplit()[\u001b[39m1\u001b[39;49m]\n\u001b[0;32m      6\u001b[0m     replace \u001b[39m=\u001b[39m capBattery\u001b[39m.\u001b[39mreplace(\u001b[39m'\u001b[39m\u001b[39mCapacity\u001b[39m\u001b[39m'\u001b[39m,\u001b[39m'\u001b[39m\u001b[39m'\u001b[39m)\n\u001b[0;32m      7\u001b[0m     \u001b[39mreturn\u001b[39;00m replace\n",
      "\u001b[1;31mIndexError\u001b[0m: list index out of range"
     ]
    }
   ],
   "source": [
    "test_func(func=extract_battery,df=mi,col_name='battery')"
   ]
  },
  {
   "cell_type": "code",
   "execution_count": 178,
   "metadata": {},
   "outputs": [
    {
     "ename": "IndexError",
     "evalue": "list index out of range",
     "output_type": "error",
     "traceback": [
      "\u001b[1;31m---------------------------------------------------------------------------\u001b[0m",
      "\u001b[1;31mIndexError\u001b[0m                                Traceback (most recent call last)",
      "Cell \u001b[1;32mIn[178], line 10\u001b[0m\n\u001b[0;32m      7\u001b[0m         \u001b[39mreturn\u001b[39;00m replace\n\u001b[0;32m      9\u001b[0m \u001b[39mfor\u001b[39;00m df_name, df \u001b[39min\u001b[39;00m dataframes_dict\u001b[39m.\u001b[39mitems():\n\u001b[1;32m---> 10\u001b[0m     \u001b[39mprint\u001b[39m(func_apply(func\u001b[39m=\u001b[39;49mextract_battery, col_name\u001b[39m=\u001b[39;49m\u001b[39m'\u001b[39;49m\u001b[39mbattery\u001b[39;49m\u001b[39m'\u001b[39;49m, df\u001b[39m=\u001b[39;49mdf, df_name\u001b[39m=\u001b[39;49mdf_name))\n",
      "Cell \u001b[1;32mIn[135], line 2\u001b[0m, in \u001b[0;36mfunc_apply\u001b[1;34m(func, col_name, df, df_name)\u001b[0m\n\u001b[0;32m      1\u001b[0m \u001b[39mdef\u001b[39;00m \u001b[39mfunc_apply\u001b[39m(func:Callable,col_name,df:pd\u001b[39m.\u001b[39mDataFrame,df_name\u001b[39m=\u001b[39m\u001b[39mNone\u001b[39;00m):\n\u001b[1;32m----> 2\u001b[0m     df[col_name] \u001b[39m=\u001b[39m df[col_name]\u001b[39m.\u001b[39;49mapply(func)\n",
      "File \u001b[1;32mc:\\Users\\Gyanprakash\\AppData\\Local\\Programs\\Python\\Python311\\Lib\\site-packages\\pandas\\core\\series.py:4631\u001b[0m, in \u001b[0;36mSeries.apply\u001b[1;34m(self, func, convert_dtype, args, **kwargs)\u001b[0m\n\u001b[0;32m   4521\u001b[0m \u001b[39mdef\u001b[39;00m \u001b[39mapply\u001b[39m(\n\u001b[0;32m   4522\u001b[0m     \u001b[39mself\u001b[39m,\n\u001b[0;32m   4523\u001b[0m     func: AggFuncType,\n\u001b[1;32m   (...)\u001b[0m\n\u001b[0;32m   4526\u001b[0m     \u001b[39m*\u001b[39m\u001b[39m*\u001b[39mkwargs,\n\u001b[0;32m   4527\u001b[0m ) \u001b[39m-\u001b[39m\u001b[39m>\u001b[39m DataFrame \u001b[39m|\u001b[39m Series:\n\u001b[0;32m   4528\u001b[0m \u001b[39m    \u001b[39m\u001b[39m\"\"\"\u001b[39;00m\n\u001b[0;32m   4529\u001b[0m \u001b[39m    Invoke function on values of Series.\u001b[39;00m\n\u001b[0;32m   4530\u001b[0m \n\u001b[1;32m   (...)\u001b[0m\n\u001b[0;32m   4629\u001b[0m \u001b[39m    dtype: float64\u001b[39;00m\n\u001b[0;32m   4630\u001b[0m \u001b[39m    \"\"\"\u001b[39;00m\n\u001b[1;32m-> 4631\u001b[0m     \u001b[39mreturn\u001b[39;00m SeriesApply(\u001b[39mself\u001b[39;49m, func, convert_dtype, args, kwargs)\u001b[39m.\u001b[39;49mapply()\n",
      "File \u001b[1;32mc:\\Users\\Gyanprakash\\AppData\\Local\\Programs\\Python\\Python311\\Lib\\site-packages\\pandas\\core\\apply.py:1025\u001b[0m, in \u001b[0;36mSeriesApply.apply\u001b[1;34m(self)\u001b[0m\n\u001b[0;32m   1022\u001b[0m     \u001b[39mreturn\u001b[39;00m \u001b[39mself\u001b[39m\u001b[39m.\u001b[39mapply_str()\n\u001b[0;32m   1024\u001b[0m \u001b[39m# self.f is Callable\u001b[39;00m\n\u001b[1;32m-> 1025\u001b[0m \u001b[39mreturn\u001b[39;00m \u001b[39mself\u001b[39;49m\u001b[39m.\u001b[39;49mapply_standard()\n",
      "File \u001b[1;32mc:\\Users\\Gyanprakash\\AppData\\Local\\Programs\\Python\\Python311\\Lib\\site-packages\\pandas\\core\\apply.py:1076\u001b[0m, in \u001b[0;36mSeriesApply.apply_standard\u001b[1;34m(self)\u001b[0m\n\u001b[0;32m   1074\u001b[0m     \u001b[39melse\u001b[39;00m:\n\u001b[0;32m   1075\u001b[0m         values \u001b[39m=\u001b[39m obj\u001b[39m.\u001b[39mastype(\u001b[39mobject\u001b[39m)\u001b[39m.\u001b[39m_values\n\u001b[1;32m-> 1076\u001b[0m         mapped \u001b[39m=\u001b[39m lib\u001b[39m.\u001b[39;49mmap_infer(\n\u001b[0;32m   1077\u001b[0m             values,\n\u001b[0;32m   1078\u001b[0m             f,\n\u001b[0;32m   1079\u001b[0m             convert\u001b[39m=\u001b[39;49m\u001b[39mself\u001b[39;49m\u001b[39m.\u001b[39;49mconvert_dtype,\n\u001b[0;32m   1080\u001b[0m         )\n\u001b[0;32m   1082\u001b[0m \u001b[39mif\u001b[39;00m \u001b[39mlen\u001b[39m(mapped) \u001b[39mand\u001b[39;00m \u001b[39misinstance\u001b[39m(mapped[\u001b[39m0\u001b[39m], ABCSeries):\n\u001b[0;32m   1083\u001b[0m     \u001b[39m# GH#43986 Need to do list(mapped) in order to get treated as nested\u001b[39;00m\n\u001b[0;32m   1084\u001b[0m     \u001b[39m#  See also GH#25959 regarding EA support\u001b[39;00m\n\u001b[0;32m   1085\u001b[0m     \u001b[39mreturn\u001b[39;00m obj\u001b[39m.\u001b[39m_constructor_expanddim(\u001b[39mlist\u001b[39m(mapped), index\u001b[39m=\u001b[39mobj\u001b[39m.\u001b[39mindex)\n",
      "File \u001b[1;32mc:\\Users\\Gyanprakash\\AppData\\Local\\Programs\\Python\\Python311\\Lib\\site-packages\\pandas\\_libs\\lib.pyx:2834\u001b[0m, in \u001b[0;36mpandas._libs.lib.map_infer\u001b[1;34m()\u001b[0m\n",
      "Cell \u001b[1;32mIn[178], line 5\u001b[0m, in \u001b[0;36mextract_battery\u001b[1;34m(txt)\u001b[0m\n\u001b[0;32m      3\u001b[0m     \u001b[39mreturn\u001b[39;00m \u001b[39m'\u001b[39m\u001b[39mnotMentioned\u001b[39m\u001b[39m'\u001b[39m\n\u001b[0;32m      4\u001b[0m \u001b[39melse\u001b[39;00m:\n\u001b[1;32m----> 5\u001b[0m     capBattery \u001b[39m=\u001b[39m  txt\u001b[39m.\u001b[39;49msplit()[\u001b[39m1\u001b[39;49m]\n\u001b[0;32m      6\u001b[0m     replace \u001b[39m=\u001b[39m capBattery\u001b[39m.\u001b[39mreplace(\u001b[39m'\u001b[39m\u001b[39mCapacity\u001b[39m\u001b[39m'\u001b[39m,\u001b[39m'\u001b[39m\u001b[39m'\u001b[39m)\n\u001b[0;32m      7\u001b[0m     \u001b[39mreturn\u001b[39;00m replace\n",
      "\u001b[1;31mIndexError\u001b[0m: list index out of range"
     ]
    }
   ],
   "source": [
    "def extract_battery(txt):\n",
    "    if txt == 'notMentioned':\n",
    "        return 'notMentioned'\n",
    "    else:\n",
    "        capBattery =  txt.split()[1]\n",
    "        replace = capBattery.replace('Capacity','')\n",
    "        return replace\n",
    "\n",
    "for df_name, df in dataframes_dict.items():\n",
    "    print(func_apply(func=extract_battery, col_name='battery', df=df, df_name=df_name))\n"
   ]
  },
  {
   "cell_type": "code",
   "execution_count": 149,
   "metadata": {},
   "outputs": [
    {
     "name": "stdout",
     "output_type": "stream",
     "text": [
      "looped till 524 index\n"
     ]
    }
   ],
   "source": [
    "def extract_battery(row):\n",
    "    return row.split()[1]\n",
    "\n",
    "count = 0\n",
    "for i in range(0,len(df['battery'])):\n",
    "    # print(i)\n",
    "    df['battery'][i]= df['battery'].iloc[i].replace('Capacity','')\n",
    "    # print(df['battery'][i])\n",
    "    count+=1\n",
    "print(f'looped till {count} index')"
   ]
  },
  {
   "cell_type": "code",
   "execution_count": null,
   "metadata": {},
   "outputs": [],
   "source": []
  },
  {
   "cell_type": "code",
   "execution_count": 150,
   "metadata": {},
   "outputs": [
    {
     "name": "stdout",
     "output_type": "stream",
     "text": [
      "None\n",
      "None\n"
     ]
    },
    {
     "ename": "TypeError",
     "evalue": "expected string or bytes-like object, got 'float'",
     "output_type": "error",
     "traceback": [
      "\u001b[1;31m---------------------------------------------------------------------------\u001b[0m",
      "\u001b[1;31mTypeError\u001b[0m                                 Traceback (most recent call last)",
      "Cell \u001b[1;32mIn[150], line 7\u001b[0m\n\u001b[0;32m      4\u001b[0m     \u001b[39mreturn\u001b[39;00m replace \u001b[39mif\u001b[39;00m replace \u001b[39melse\u001b[39;00m \u001b[39m'\u001b[39m\u001b[39mnot mentioned\u001b[39m\u001b[39m'\u001b[39m\n\u001b[0;32m      6\u001b[0m \u001b[39mfor\u001b[39;00m df_name, df \u001b[39min\u001b[39;00m dataframes_dict\u001b[39m.\u001b[39mitems():\n\u001b[1;32m----> 7\u001b[0m     \u001b[39mprint\u001b[39m(func_apply(func\u001b[39m=\u001b[39;49mnetwork, col_name\u001b[39m=\u001b[39;49m\u001b[39m'\u001b[39;49m\u001b[39mbattery\u001b[39;49m\u001b[39m'\u001b[39;49m, df\u001b[39m=\u001b[39;49mdf, df_name\u001b[39m=\u001b[39;49mdf_name))\n",
      "Cell \u001b[1;32mIn[135], line 2\u001b[0m, in \u001b[0;36mfunc_apply\u001b[1;34m(func, col_name, df, df_name)\u001b[0m\n\u001b[0;32m      1\u001b[0m \u001b[39mdef\u001b[39;00m \u001b[39mfunc_apply\u001b[39m(func:Callable,col_name,df:pd\u001b[39m.\u001b[39mDataFrame,df_name\u001b[39m=\u001b[39m\u001b[39mNone\u001b[39;00m):\n\u001b[1;32m----> 2\u001b[0m     df[col_name] \u001b[39m=\u001b[39m df[col_name]\u001b[39m.\u001b[39;49mapply(func)\n",
      "File \u001b[1;32mc:\\Users\\Gyanprakash\\AppData\\Local\\Programs\\Python\\Python311\\Lib\\site-packages\\pandas\\core\\series.py:4631\u001b[0m, in \u001b[0;36mSeries.apply\u001b[1;34m(self, func, convert_dtype, args, **kwargs)\u001b[0m\n\u001b[0;32m   4521\u001b[0m \u001b[39mdef\u001b[39;00m \u001b[39mapply\u001b[39m(\n\u001b[0;32m   4522\u001b[0m     \u001b[39mself\u001b[39m,\n\u001b[0;32m   4523\u001b[0m     func: AggFuncType,\n\u001b[1;32m   (...)\u001b[0m\n\u001b[0;32m   4526\u001b[0m     \u001b[39m*\u001b[39m\u001b[39m*\u001b[39mkwargs,\n\u001b[0;32m   4527\u001b[0m ) \u001b[39m-\u001b[39m\u001b[39m>\u001b[39m DataFrame \u001b[39m|\u001b[39m Series:\n\u001b[0;32m   4528\u001b[0m \u001b[39m    \u001b[39m\u001b[39m\"\"\"\u001b[39;00m\n\u001b[0;32m   4529\u001b[0m \u001b[39m    Invoke function on values of Series.\u001b[39;00m\n\u001b[0;32m   4530\u001b[0m \n\u001b[1;32m   (...)\u001b[0m\n\u001b[0;32m   4629\u001b[0m \u001b[39m    dtype: float64\u001b[39;00m\n\u001b[0;32m   4630\u001b[0m \u001b[39m    \"\"\"\u001b[39;00m\n\u001b[1;32m-> 4631\u001b[0m     \u001b[39mreturn\u001b[39;00m SeriesApply(\u001b[39mself\u001b[39;49m, func, convert_dtype, args, kwargs)\u001b[39m.\u001b[39;49mapply()\n",
      "File \u001b[1;32mc:\\Users\\Gyanprakash\\AppData\\Local\\Programs\\Python\\Python311\\Lib\\site-packages\\pandas\\core\\apply.py:1025\u001b[0m, in \u001b[0;36mSeriesApply.apply\u001b[1;34m(self)\u001b[0m\n\u001b[0;32m   1022\u001b[0m     \u001b[39mreturn\u001b[39;00m \u001b[39mself\u001b[39m\u001b[39m.\u001b[39mapply_str()\n\u001b[0;32m   1024\u001b[0m \u001b[39m# self.f is Callable\u001b[39;00m\n\u001b[1;32m-> 1025\u001b[0m \u001b[39mreturn\u001b[39;00m \u001b[39mself\u001b[39;49m\u001b[39m.\u001b[39;49mapply_standard()\n",
      "File \u001b[1;32mc:\\Users\\Gyanprakash\\AppData\\Local\\Programs\\Python\\Python311\\Lib\\site-packages\\pandas\\core\\apply.py:1076\u001b[0m, in \u001b[0;36mSeriesApply.apply_standard\u001b[1;34m(self)\u001b[0m\n\u001b[0;32m   1074\u001b[0m     \u001b[39melse\u001b[39;00m:\n\u001b[0;32m   1075\u001b[0m         values \u001b[39m=\u001b[39m obj\u001b[39m.\u001b[39mastype(\u001b[39mobject\u001b[39m)\u001b[39m.\u001b[39m_values\n\u001b[1;32m-> 1076\u001b[0m         mapped \u001b[39m=\u001b[39m lib\u001b[39m.\u001b[39;49mmap_infer(\n\u001b[0;32m   1077\u001b[0m             values,\n\u001b[0;32m   1078\u001b[0m             f,\n\u001b[0;32m   1079\u001b[0m             convert\u001b[39m=\u001b[39;49m\u001b[39mself\u001b[39;49m\u001b[39m.\u001b[39;49mconvert_dtype,\n\u001b[0;32m   1080\u001b[0m         )\n\u001b[0;32m   1082\u001b[0m \u001b[39mif\u001b[39;00m \u001b[39mlen\u001b[39m(mapped) \u001b[39mand\u001b[39;00m \u001b[39misinstance\u001b[39m(mapped[\u001b[39m0\u001b[39m], ABCSeries):\n\u001b[0;32m   1083\u001b[0m     \u001b[39m# GH#43986 Need to do list(mapped) in order to get treated as nested\u001b[39;00m\n\u001b[0;32m   1084\u001b[0m     \u001b[39m#  See also GH#25959 regarding EA support\u001b[39;00m\n\u001b[0;32m   1085\u001b[0m     \u001b[39mreturn\u001b[39;00m obj\u001b[39m.\u001b[39m_constructor_expanddim(\u001b[39mlist\u001b[39m(mapped), index\u001b[39m=\u001b[39mobj\u001b[39m.\u001b[39mindex)\n",
      "File \u001b[1;32mc:\\Users\\Gyanprakash\\AppData\\Local\\Programs\\Python\\Python311\\Lib\\site-packages\\pandas\\_libs\\lib.pyx:2834\u001b[0m, in \u001b[0;36mpandas._libs.lib.map_infer\u001b[1;34m()\u001b[0m\n",
      "Cell \u001b[1;32mIn[145], line 3\u001b[0m, in \u001b[0;36mnetwork\u001b[1;34m(txt)\u001b[0m\n\u001b[0;32m      1\u001b[0m \u001b[39mdef\u001b[39;00m \u001b[39mnetwork\u001b[39m(txt):\n\u001b[0;32m      2\u001b[0m     pattern \u001b[39m=\u001b[39m \u001b[39mr\u001b[39m\u001b[39m'\u001b[39m\u001b[39m\\\u001b[39m\u001b[39mbNetwork Type(4G|5G|3G|2G)\u001b[39m\u001b[39m\\\u001b[39m\u001b[39mb\u001b[39m\u001b[39m'\u001b[39m\n\u001b[1;32m----> 3\u001b[0m     search \u001b[39m=\u001b[39m re\u001b[39m.\u001b[39;49msearch(pattern,txt)\n\u001b[0;32m      4\u001b[0m     \u001b[39mif\u001b[39;00m search:\n\u001b[0;32m      5\u001b[0m         find \u001b[39m=\u001b[39m re\u001b[39m.\u001b[39mfindall(pattern,txt)\n",
      "File \u001b[1;32mc:\\Users\\Gyanprakash\\AppData\\Local\\Programs\\Python\\Python311\\Lib\\re\\__init__.py:176\u001b[0m, in \u001b[0;36msearch\u001b[1;34m(pattern, string, flags)\u001b[0m\n\u001b[0;32m    173\u001b[0m \u001b[39mdef\u001b[39;00m \u001b[39msearch\u001b[39m(pattern, string, flags\u001b[39m=\u001b[39m\u001b[39m0\u001b[39m):\n\u001b[0;32m    174\u001b[0m \u001b[39m    \u001b[39m\u001b[39m\"\"\"Scan through string looking for a match to the pattern, returning\u001b[39;00m\n\u001b[0;32m    175\u001b[0m \u001b[39m    a Match object, or None if no match was found.\"\"\"\u001b[39;00m\n\u001b[1;32m--> 176\u001b[0m     \u001b[39mreturn\u001b[39;00m _compile(pattern, flags)\u001b[39m.\u001b[39;49msearch(string)\n",
      "\u001b[1;31mTypeError\u001b[0m: expected string or bytes-like object, got 'float'"
     ]
    }
   ],
   "source": [
    "def extract_battery(txt):\n",
    "    capBattery = txt.split()[1]\n",
    "    replace = capBattery.replace('Capacity', '')\n",
    "    return replace if replace else 'not mentioned'\n",
    "\n",
    "for df_name, df in dataframes_dict.items():\n",
    "    print(func_apply(func=network, col_name='battery', df=df, df_name=df_name))\n"
   ]
  }
 ],
 "metadata": {
  "kernelspec": {
   "display_name": "Python 3",
   "language": "python",
   "name": "python3"
  },
  "language_info": {
   "codemirror_mode": {
    "name": "ipython",
    "version": 3
   },
   "file_extension": ".py",
   "mimetype": "text/x-python",
   "name": "python",
   "nbconvert_exporter": "python",
   "pygments_lexer": "ipython3",
   "version": "3.11.3"
  },
  "orig_nbformat": 4
 },
 "nbformat": 4,
 "nbformat_minor": 2
}
