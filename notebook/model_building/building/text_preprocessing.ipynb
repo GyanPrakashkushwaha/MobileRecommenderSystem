{
 "cells": [
  {
   "cell_type": "code",
   "execution_count": 3,
   "metadata": {},
   "outputs": [],
   "source": [
    "import pandas as pd\n",
    "import numpy as np\n",
    "import os\n",
    "from typing import Callable # this is to define test_func functions dtype as function itself\n",
    "import re # for regural expression\n",
    "import warnings\n",
    "warnings.filterwarnings('ignore')\n",
    "\n",
    "\n",
    "os.chdir(r'd:\\vscode_machineLearning\\BEST_PROJECTS\\mobileRecommenderSystem')"
   ]
  },
  {
   "cell_type": "code",
   "execution_count": 4,
   "metadata": {},
   "outputs": [
    {
     "data": {
      "text/plain": [
       "'d:\\\\vscode_machineLearning\\\\BEST_PROJECTS\\\\mobileRecommenderSystem'"
      ]
     },
     "execution_count": 4,
     "metadata": {},
     "output_type": "execute_result"
    }
   ],
   "source": [
    "os.getcwd()"
   ]
  },
  {
   "cell_type": "code",
   "execution_count": 5,
   "metadata": {},
   "outputs": [],
   "source": [
    "df = pd.read_csv(r'data\\final_dataFrame.csv',index_col=False)"
   ]
  },
  {
   "cell_type": "code",
   "execution_count": 6,
   "metadata": {},
   "outputs": [],
   "source": [
    "def random_values(col_name:str,total=6):\n",
    "    for i in range(0,total):\n",
    "        index = np.random.randint(df.shape[0])\n",
    "        print(index,':',df[col_name].iloc[index])        "
   ]
  },
  {
   "cell_type": "code",
   "execution_count": 7,
   "metadata": {},
   "outputs": [
    {
     "name": "stdout",
     "output_type": "stream",
     "text": [
      "2381 : Storage64 GBRAM4 GBExpandable Storage2TB  SystemAndroid 12Processor TypeMediatek Helio G35Processor Speed2.3 50MP 3MP 3MP 50MP 3MP 3MP 5MP 5MP 4G Capacity5000 Display Size16.66 cm (6.56 inch)Resolution1612 x 720 PixelsResolution TypeHD+GPUIMG GE8320Display TypeHD+ LCD DisplayHD Game SupportYesOther Display FeaturesRefresh Rate: 60 Hz, Screen-to-Body Ratio: 89.8%, Color Saturation: 96% NTSC, Aspect Ratio: 20.15:9, Color Gamut: Vivid Mode: 96% NTSC | 100% DCI-P3, Gentle Mode: 72% NTSC | 100% sRGB, Contrast Ratio: 1500:1, Sunshine Screen: Screen Brightness Will Increase Under Sunlight, Brightness: 480 nits/600 nits (Under Sunlight)\n",
      "195 : Storage256 GBRAM12  SystemAndroid 13Processor TypeMediatek Dimensity 7200 5GProcessor Speed2.8 50MP 8MP 2MP 50MP 8MP 2MP 50MP 50MP 5G Capacity4600 Display Size17.22 cm (6.78 Inch)Resolution2400 × 1080 PixelsResolution TypeFull HD+ AMOLED DisplayDisplay TypeFull HD+ AMOLED Display\n",
      "1862 : Storage512  SystemiOS 12Processor TypeA12 Bionic Chip 12MP 12MP 12MP 63MP 7MP 3G notMentioned Display Size16.51 cm (6.5 inch)Resolution2688 x 1242 pixelsResolution TypeSuper Retina HD DisplayGPU4-core, Graphics Performance - Upto 50% Faster than A11 Bionic, Metal 2 Optimised, 3D, Graphics-intensive Gameplay, Faster and More FluidDisplay TypeAll-screen OLED Multi-touch DisplayHD Game SupportYesOther Display FeaturesHDR Display, 1000000:1 Contrast Ratio (Typical), True Tone Display (Six-channel Light Sensor), Wide Color Display (P3), 3D Touch, 625 nits Max Brightness (Typical), Fingerprint-resistant Oleophobic Coating, Support for Display of Multiple Languages and Characters Simultaneously\n",
      "144 : Storage256 GBRAM16  SystemAndroid 12Processor Speed3.19 48MP 2MP 16MP 48MP 16MP 16MP 5G Capacity4800 Display Size17.02 cm (6.7 inch)Resolution2412x1080 Pixels\n",
      "944 : Storage128 GBRAM8  SystemAndroid 13Processor TypeDimensity 7050Processor Speed2.6 100MP 2MP 100MP 2MP 16MP 16MP 5G Capacity5000 Display Size17.02 cm (6.7 inch)Resolution2412 x 1080 PixelsResolution TypeFull HD+GPUMali-G68 MC4Display TypeFull HD+ OLED DisplayDisplay Colors10 Bit ColorOther Display FeaturesScreen-to-Body Ratio: 93.6%, Color Saturation: DCI-P3 100%, Aspect Ratio: 20.1:9, Contrast Ratio: 5000000:1, Sunshine Screen, Brightness: 500 nits, Peak Brightness: 950 nits, Refresh Ratio: 60 Hz/ 90 Hz/ 120 Hz, 360 Hz Touch Sampling Rate, Dimming Mode: ?90nit: PWM2160HZ, >90nit: DC\n",
      "640 : Storage64 GBRAM4 GBExpandable Storage1TB  SystemAndroid 13 (Go Edition)Processor TypeUnisoc T606Processor Speed1.6 13MP 13MP 5MP 5MP 4G Capacity5000 Display Size16.51 cm (6.5 inch)Resolution1600 x 720 PixelsResolution TypeHD+GPUARM Mali-G57 MP1Display TypeHD+ IPS LCD DisplayOther Display FeaturesRefresh Rate: 60 Hz, Aspect Ratio: 20:9, Screen-to-Body Ratio: Active Area-Touch Panel (AA-TP): 89.2% | Active Area-Body (AA-Body): 84%\n"
     ]
    }
   ],
   "source": [
    "random_values('corpus')"
   ]
  },
  {
   "cell_type": "code",
   "execution_count": 8,
   "metadata": {},
   "outputs": [],
   "source": [
    "df['corpus'] = df['corpus'].str.lower()"
   ]
  },
  {
   "cell_type": "code",
   "execution_count": 9,
   "metadata": {},
   "outputs": [
    {
     "name": "stdout",
     "output_type": "stream",
     "text": [
      "49 : storage128 gbram6 gbexpandable storage1tb  systemandroid 12processor typedimensity 810processor speed2.4 50mp 50mp 8mp 8mp 5g capacity5000 display size16.76 cm (6.6 inch)resolution1080 x 2408 pixelsresolution typefull hd+display typefull hd+ ipsother display features120hz refresh rate, 180hz touch sampling rate, brightness upto 500 nits, 99% srgb color gamut, 1500:1 color contrast ratio, panda glass protection, 20.5:9 aspect ratio, incell, eye care mode\n",
      "1623 : storage256  systemios 14processor typea14 bionic chip 12mp 12mp 12mp 12mp 12mp 5g notmentioned display size13.72 cm (5.4 inch)resolution2340 x 1080 pixelsresolution typesuper retina xdr displaydisplay typesuper retina xdr displayother display featuressuper retina xdr display, 5.4 inch (diagonal) all screen oled display, hdr display, true tone, wide colour (p3), haptic touch, 2000000:1 contrast ratio (typical), 625 nits max brightness (typical), 1200 nits max brightness (hdr), fingerprint-resistant oleophobic coating, support for display of multiple languages and characters simultaneously\n",
      "2397 : storage256 gbram8 gbexpandable storage1tb  systemandroid 13processor typeexynos 1380, octa coreprocessor speed2.4 50mp 12mp 5mp 50mp 12mp 5mp 32mp 32mp 2g capacity5000 display size16.26 cm (6.4 inch)resolution2340 x 1080 pixelsresolution typefull hd+gpuarm mali g68 mp5display typefull hd+ super amoled displayhd game supportyesdisplay colors16 millionother display featuresrefresh rate: 120 hz, on-cell touch display\n",
      "1466 : storage64 gbram3  systemandroid android 12processor speed2 13mp 4g capacity5000 display size16.66 cm (6.56 inch)resolution720x1600$$pixels\n",
      "77 : storage32 mbram2  systemandroid hios 8.6 based on android 12-go editionprocessor typeunisoc sc9863aprocessor speed120 8mp 4g capacity5000 display size16.66 cm (6.56 inch)resolution720 x 1612$$pixelsresolution typehd+display typeips lcd\n",
      "1179 : storage128 gbram8  systemandroid pie android v9.0 (pie)processor speed0.1 48mp 3g capacity3765 display size16.26 cm (6.4 inch)resolution1440 x 720$$pixels\n"
     ]
    }
   ],
   "source": [
    "random_values('corpus')"
   ]
  },
  {
   "cell_type": "markdown",
   "metadata": {},
   "source": [
    "## word2Vec"
   ]
  },
  {
   "cell_type": "code",
   "execution_count": 17,
   "metadata": {},
   "outputs": [],
   "source": [
    "word_corpus= []\n",
    "for i in df['corpus']:\n",
    "    try:\n",
    "        words = i.split()\n",
    "        word_corpus.append(words)\n",
    "    except:\n",
    "        word_corpus.append(words)"
   ]
  },
  {
   "cell_type": "code",
   "execution_count": 20,
   "metadata": {},
   "outputs": [
    {
     "data": {
      "text/plain": [
       "['storage128',\n",
       " 'gbram6',\n",
       " 'systemandroid',\n",
       " '12processor',\n",
       " 'typemediatek',\n",
       " 'dimensity',\n",
       " '1080processor',\n",
       " 'speed2.6',\n",
       " '50mp',\n",
       " '8mp',\n",
       " '2mp',\n",
       " '50mp',\n",
       " '16mp',\n",
       " '5g',\n",
       " 'capacity5000',\n",
       " 'display',\n",
       " 'size16.94',\n",
       " 'cm',\n",
       " '(6.67',\n",
       " 'inch)resolution2400',\n",
       " 'x',\n",
       " '1080',\n",
       " 'pixelsresolution',\n",
       " 'typefull',\n",
       " 'hd+',\n",
       " 'amoled',\n",
       " 'displaygpuarm',\n",
       " 'mali-g68',\n",
       " 'mc4display',\n",
       " 'typefull',\n",
       " 'hd+',\n",
       " 'amoled',\n",
       " 'displayother',\n",
       " 'display',\n",
       " 'featuresrefresh',\n",
       " 'rate:',\n",
       " '120',\n",
       " 'hz,',\n",
       " 'contrast:',\n",
       " '5,000,000:1,',\n",
       " '1920hz',\n",
       " 'pwm',\n",
       " 'dimming,',\n",
       " 'brightness',\n",
       " 'level:',\n",
       " '16000:1,',\n",
       " 'peak',\n",
       " 'brightness:',\n",
       " '900',\n",
       " 'nits']"
      ]
     },
     "execution_count": 20,
     "metadata": {},
     "output_type": "execute_result"
    }
   ],
   "source": [
    "word_corpus[0]"
   ]
  },
  {
   "cell_type": "code",
   "execution_count": 21,
   "metadata": {},
   "outputs": [],
   "source": [
    "from gensim.models import Word2Vec"
   ]
  },
  {
   "cell_type": "code",
   "execution_count": 23,
   "metadata": {},
   "outputs": [],
   "source": [
    "model = Word2Vec(sentences=word_corpus,\n",
    "                window=10 # this will take 10 words before and after and than learn.\n",
    "                 ,min_count=2 # min lenght of my word\n",
    "                 ,workers=6,\n",
    "                 vector_size=200 # this is fro features the model will create 200 features internally\n",
    "                 )"
   ]
  },
  {
   "cell_type": "code",
   "execution_count": 25,
   "metadata": {},
   "outputs": [],
   "source": [
    "## building vocab\n",
    "model.build_vocab(word_corpus)"
   ]
  },
  {
   "cell_type": "code",
   "execution_count": 28,
   "metadata": {},
   "outputs": [
    {
     "data": {
      "text/plain": [
       "2546"
      ]
     },
     "execution_count": 28,
     "metadata": {},
     "output_type": "execute_result"
    }
   ],
   "source": [
    "model.corpus_count"
   ]
  },
  {
   "cell_type": "code",
   "execution_count": 29,
   "metadata": {},
   "outputs": [
    {
     "data": {
      "text/plain": [
       "(846918, 1155010)"
      ]
     },
     "execution_count": 29,
     "metadata": {},
     "output_type": "execute_result"
    }
   ],
   "source": [
    "model.train(corpus_iterable=word_corpus,total_examples=model.corpus_count,epochs=10)"
   ]
  },
  {
   "cell_type": "code",
   "execution_count": 45,
   "metadata": {},
   "outputs": [
    {
     "data": {
      "text/plain": [
       "[('speed2.4', 0.8319970369338989),\n",
       " ('speed2.2', 0.7982655763626099),\n",
       " ('2mp', 0.7354604601860046),\n",
       " ('12processor', 0.727058470249176),\n",
       " ('storagenaphone', 0.7252401113510132),\n",
       " ('processorprocessor', 0.7206891179084778),\n",
       " ('5g', 0.719425618648529),\n",
       " ('2g', 0.7191628217697144),\n",
       " ('685processor', 0.7143893837928772),\n",
       " ('inch)resolution2408', 0.7112964987754822)]"
      ]
     },
     "execution_count": 45,
     "metadata": {},
     "output_type": "execute_result"
    }
   ],
   "source": [
    "model.wv.similar_by_word('50mp')"
   ]
  },
  {
   "cell_type": "code",
   "execution_count": null,
   "metadata": {},
   "outputs": [],
   "source": []
  },
  {
   "cell_type": "code",
   "execution_count": 33,
   "metadata": {},
   "outputs": [
    {
     "name": "stdout",
     "output_type": "stream",
     "text": [
      "[ 0.01367194  0.01027159  0.03041119  0.03352033  0.06113899 -0.09404872\n",
      "  0.03210647  0.13083193 -0.00059832  0.1528534  -0.07749663 -0.03659662\n",
      " -0.08417809  0.11070308 -0.17842169 -0.08460263 -0.01194654  0.10156354\n",
      " -0.0969853  -0.11622413 -0.00723791 -0.07858527  0.02705942  0.01170896\n",
      "  0.04637509 -0.04293301 -0.00304524 -0.21255907 -0.09849431  0.00977129\n",
      "  0.06719542 -0.08788892  0.10907491  0.06115213 -0.09707491  0.11727496\n",
      "  0.06434143 -0.03823577 -0.07635739 -0.17532466  0.01589972 -0.06516925\n",
      " -0.02445947  0.06234342  0.1911197   0.00117163 -0.04378238 -0.18504502\n",
      "  0.09108382  0.01358285  0.10941955 -0.03750917 -0.02212819 -0.09227289\n",
      " -0.03490586 -0.06678347  0.05409683 -0.13296562 -0.16624779 -0.07144877\n",
      " -0.05658845 -0.07509436  0.04838216  0.09872559 -0.15732768 -0.01096553\n",
      " -0.05702185  0.20307739 -0.12212106  0.0847264   0.06441551  0.00474076\n",
      "  0.24653134  0.12275323  0.07148082 -0.01889202  0.10457037 -0.10306513\n",
      " -0.12237912  0.07289763 -0.00179575 -0.03973874 -0.22680117  0.13986577\n",
      " -0.05486431 -0.09330694 -0.04318107  0.06348212  0.02812092  0.03089892\n",
      "  0.02809219  0.10006922  0.08428572  0.14039735  0.15192595  0.14823513\n",
      " -0.02978609  0.02928618  0.04117538  0.01556051 -0.190886    0.09078176\n",
      "  0.15410858 -0.0803931  -0.15771876 -0.19379446  0.09453149  0.0743903\n",
      "  0.05508949 -0.11539997  0.02646052 -0.0782816  -0.09983641 -0.1167834\n",
      "  0.09080184 -0.06012107  0.02501938 -0.09587019  0.0960772  -0.01458094\n",
      "  0.06879648  0.07524212  0.12035995 -0.15686047 -0.01633801  0.10273069\n",
      " -0.048234   -0.10022121 -0.07473747 -0.13286187 -0.02962732  0.0490692\n",
      "  0.05257987  0.02489205 -0.01447776  0.03119321 -0.0218202  -0.09776893\n",
      " -0.06365532 -0.06318568  0.2893684  -0.13664442 -0.02759999  0.00882442\n",
      " -0.02958172 -0.02816202 -0.0575754  -0.05570646 -0.00388025 -0.00939081\n",
      "  0.11228973 -0.10138874 -0.04225558  0.0032258  -0.14303033  0.1386121\n",
      "  0.13169494  0.06534246 -0.06220253  0.1008963   0.03763193  0.02496481\n",
      " -0.17945744  0.00029649 -0.01321264 -0.02458185  0.09088013 -0.05633918\n",
      " -0.02373907  0.05625977  0.02048421  0.04002992 -0.0576753  -0.08344931\n",
      "  0.14469227  0.03658707 -0.13009056  0.00820006 -0.02998355  0.08915485\n",
      " -0.12714665 -0.0439319  -0.04860648  0.11106797  0.0801157   0.11487588\n",
      " -0.01122273  0.15822625  0.24326056  0.03758388  0.09353623 -0.03861262\n",
      " -0.06905575 -0.07120002  0.01547686  0.11152497  0.02767943 -0.05420334\n",
      "  0.04578634 -0.17030303]\n"
     ]
    }
   ],
   "source": [
    "# Assuming you have already trained your Word2Vec model and stored it in the 'model' variable\n",
    "\n",
    "# Access the word vectors using the KeyedVectors object (model.wv)\n",
    "word_vectors = model.wv\n",
    "\n",
    "# Fetch the word vector for a specific word\n",
    "word = \"go\"\n",
    "vector = word_vectors[word]\n",
    "\n",
    "# 'vector' now contains the word vector (embedding) for the word \"apple\"\n",
    "print(vector)\n"
   ]
  }
 ],
 "metadata": {
  "kernelspec": {
   "display_name": "Python 3",
   "language": "python",
   "name": "python3"
  },
  "language_info": {
   "codemirror_mode": {
    "name": "ipython",
    "version": 3
   },
   "file_extension": ".py",
   "mimetype": "text/x-python",
   "name": "python",
   "nbconvert_exporter": "python",
   "pygments_lexer": "ipython3",
   "version": "3.11.3"
  },
  "orig_nbformat": 4
 },
 "nbformat": 4,
 "nbformat_minor": 2
}
