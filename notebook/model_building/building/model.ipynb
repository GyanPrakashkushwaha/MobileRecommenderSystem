{
 "cells": [
  {
   "cell_type": "code",
   "execution_count": 23,
   "metadata": {},
   "outputs": [],
   "source": [
    "import pandas as pd\n",
    "import numpy as np\n",
    "import os\n",
    "from typing import Callable # this is to define test_func functions dtype as function itself\n",
    "import re # for regural expression\n",
    "import warnings\n",
    "warnings.filterwarnings('ignore')\n",
    "import pickle # for pickling my model\n",
    "\n",
    "os.chdir(r'd:\\vscode_machineLearning\\BEST_PROJECTS\\mobileRecommenderSystem')"
   ]
  },
  {
   "cell_type": "code",
   "execution_count": 2,
   "metadata": {},
   "outputs": [
    {
     "data": {
      "text/plain": [
       "'d:\\\\vscode_machineLearning\\\\BEST_PROJECTS\\\\mobileRecommenderSystem'"
      ]
     },
     "execution_count": 2,
     "metadata": {},
     "output_type": "execute_result"
    }
   ],
   "source": [
    "os.getcwd()"
   ]
  },
  {
   "cell_type": "code",
   "execution_count": 3,
   "metadata": {},
   "outputs": [],
   "source": [
    "df = pd.read_csv(r'data\\final_dataFrame.csv',index_col=False)"
   ]
  },
  {
   "cell_type": "code",
   "execution_count": 4,
   "metadata": {},
   "outputs": [],
   "source": [
    "def random_values(col_name:str,total=6):\n",
    "    for i in range(0,total):\n",
    "        index = np.random.randint(df.shape[0])\n",
    "        print(index,':',df[col_name].iloc[index])        "
   ]
  },
  {
   "cell_type": "code",
   "execution_count": 5,
   "metadata": {},
   "outputs": [
    {
     "name": "stdout",
     "output_type": "stream",
     "text": [
      "2089 : Storage64 GBRAM4 GBExpandable Storage512GB  SystemAndroid Pie 9.0Processor TypeExynos 9610Processor Speed2.3 25MP 5MP 8MP 25MP 5MP 8MP 25MP 3G Capacity4000 Display Size16.26 cm (6.4 inch)Resolution1080 x 2340 pixelsResolution TypeFull HD+Display TypeSuper AMOLED\n",
      "2329 : Storage32 GBRAM3 GBTotal Memory32GB  SystemAndroid Oreo 8Processor TypeExynos 7870Processor Speed1.6 13MP 8MP 3G Capacity3000 Display Size14.22 cm (5.6 inch)Resolution720 x 1480 PixelsResolution TypeHD+GPUARM Mali T830 MP1Display TypeSuper AMOLEDDisplay Colors16M\n",
      "663 : Storage128 GBRAM8 GBExpandable Storage1TB  SystemAndroid 12Processor TypeExynos Octa Core ProcessorProcessor Speed2.4 64MP 12MP 5MP 5MP 32MP 5G Capacity5000 Display Size16.51 cm (6.5 inch)Resolution2400 x 1080 PixelsResolution TypeFull HD+GPUARM Mali G68 MP4Display TypeFull HD+ Super AMOLED DisplayHD Game SupportYesDisplay Colors16M\n",
      "1292 : Storage256 GBRAM12  SystemAndroid 12Processor TypeOcta CoreProcessor Speed2.99 108MP 12MP 10MP 10MP 108MP 12MP 10MP 10MP 40MP 5G Capacity5000 Display Size17.27 cm (6.8 inch)Resolution3088 x 1440 PixelsResolution TypeQuad HD+GPUQualcomm Adreno 730Display TypeDynamic AMOLED 2X DisplayHD Game SupportYes\n",
      "1749 : Storage64 GBRAM4  SystemAndroid 13Processor TypeDimensity 1080, Octa CoreProcessor Speed2.6 48MP 8MP 5MP 48MP 8MP 5MP 13MP 13MP 4G Capacity6000 Display Size16.76 cm (6.6 inch)Resolution720x2408\n",
      "2334 : Storage128 GBRAM4 GBExpandable Storage1TB  SystemAndroid 12Processor TypeMediatek MT6769Z Helio G85Processor Speed2 50MP 5MP 4G Capacity5000 Display Size17.04 cm (6.71 inch)Resolution1650X720$$ PixelsResolution TypeHD+GPUMali-G52 MC2Display TypeIPS LCDOther Display Features120Hz Touch Sampling Rate\n"
     ]
    }
   ],
   "source": [
    "random_values('corpus')"
   ]
  },
  {
   "cell_type": "code",
   "execution_count": 6,
   "metadata": {},
   "outputs": [],
   "source": [
    "df['corpus'] = df['corpus'].str.lower()"
   ]
  },
  {
   "cell_type": "code",
   "execution_count": 7,
   "metadata": {},
   "outputs": [
    {
     "name": "stdout",
     "output_type": "stream",
     "text": [
      "369 : storage256 gbram8  systemandroid ?hios 12.0 based on android 12processor speed3.05 64mp 5g capacity5160 display size17.27 cm (6.8 inch)resolution1080x2400$$pixels\n",
      "311 : storage128 gbram6 gbexpandable storage512gb  systemandroid 11processor typemediatek helio g95processor speed2.05 64mp 8mp 2mp 2mp 64mp 8mp 2mp 2mp 64mp 13mp 13mp 4g capacity5000 display size16.33 cm (6.43 inch)resolution2400 x 1080 pixelsresolution typefull hd+ super amoled displaygpuarm mali g76display typefhd+ super amoledhd game supportyesdisplay colors16mother display featurescontrast ratio: 4,500,000:1, color gamut: dci-p3, brightness: hbm 700 nits,1100 nits peak brightness, 8-bit color, reading mode 3.0, sunlight mode 2.0, low blue light certified by sgs\n",
      "257 : storage32 gbram2  systemandroid 10processor speed1.8 13mp 4g capacity4030 display size15.8 cm (6.22 inch)resolution1520 × 720 hd+\n",
      "2332 : storage128 gbram6 gbexpandable storage1tb  systemandroid 11processor typequalcomm snapdragon 778gprocessor speed2.4 64mp 8mp 5mp 20mp 5g capacity4250 display size16.64 cm (6.55 inch)resolution1080 x 2400resolution typefull hd+gpuadreno 642ldisplay typeamoledother display featuresdolby vision®, 60/90hz refresh rate, hdr10+, corning® gorilla® glass 5\n",
      "1521 : storage64 gbram6  systemandroid 11processor speed2.4 50mp 4g capacity5000 display size16.33 cm (6.43 inch)resolution2400 x 1080 pixel\n",
      "345 : storage64 gbram4 gbexpandable storage128gb  systemandroid lollipop 5.1processor typemediatek mt6750 64-bit octa core 1.4ghzprocessor speed1.4 13mp 16mp 3g capacity3075 display size13.97 cm (5.5 inch)resolution1280 x 720 pixelsresolution typehdgpumali-t860 mp2display typetfthd game supportyesdisplay colors16 mother display featuresips display, multi-touch, gorilla glass 4, support for gloved and wet touch input\n"
     ]
    }
   ],
   "source": [
    "random_values('corpus')"
   ]
  },
  {
   "cell_type": "code",
   "execution_count": 8,
   "metadata": {},
   "outputs": [
    {
     "data": {
      "text/plain": [
       "name        0\n",
       "ratings     0\n",
       "price       0\n",
       "imgURL      0\n",
       "corpus     12\n",
       "dtype: int64"
      ]
     },
     "execution_count": 8,
     "metadata": {},
     "output_type": "execute_result"
    }
   ],
   "source": [
    "df.isnull().sum()"
   ]
  },
  {
   "cell_type": "code",
   "execution_count": 9,
   "metadata": {},
   "outputs": [],
   "source": [
    "df.dropna(inplace=True,ignore_index=True)"
   ]
  },
  {
   "cell_type": "code",
   "execution_count": 10,
   "metadata": {},
   "outputs": [
    {
     "name": "stdout",
     "output_type": "stream",
     "text": [
      "words max_len in corpus is: 1196\n"
     ]
    }
   ],
   "source": [
    "max_len = 0\n",
    "for i in range(0, len(df['corpus'])):\n",
    "    try:\n",
    "        if len(df['corpus'][i]) > max_len:\n",
    "            max_len = len(df['corpus'][i])\n",
    "    except:\n",
    "        pass\n",
    "\n",
    "print(f'words max_len in corpus is: {max_len}')\n"
   ]
  },
  {
   "cell_type": "code",
   "execution_count": 38,
   "metadata": {},
   "outputs": [
    {
     "data": {
      "text/html": [
       "<div>\n",
       "<style scoped>\n",
       "    .dataframe tbody tr th:only-of-type {\n",
       "        vertical-align: middle;\n",
       "    }\n",
       "\n",
       "    .dataframe tbody tr th {\n",
       "        vertical-align: top;\n",
       "    }\n",
       "\n",
       "    .dataframe thead th {\n",
       "        text-align: right;\n",
       "    }\n",
       "</style>\n",
       "<table border=\"1\" class=\"dataframe\">\n",
       "  <thead>\n",
       "    <tr style=\"text-align: right;\">\n",
       "      <th></th>\n",
       "      <th>name</th>\n",
       "      <th>ratings</th>\n",
       "      <th>price</th>\n",
       "      <th>imgURL</th>\n",
       "      <th>corpus</th>\n",
       "    </tr>\n",
       "  </thead>\n",
       "  <tbody>\n",
       "    <tr>\n",
       "      <th>0</th>\n",
       "      <td>REDMI Note 12 Pro 5G (Onyx Black, 128 GB)</td>\n",
       "      <td>4.2</td>\n",
       "      <td>23999</td>\n",
       "      <td>https://rukminim2.flixcart.com/image/312/312/x...</td>\n",
       "      <td>storage128 gbram6  systemandroid 12processor t...</td>\n",
       "    </tr>\n",
       "    <tr>\n",
       "      <th>1</th>\n",
       "      <td>OPPO F11 Pro (Aurora Green, 128 GB)</td>\n",
       "      <td>4.5</td>\n",
       "      <td>₹20,999</td>\n",
       "      <td>https://rukminim2.flixcart.com/image/312/312/k...</td>\n",
       "      <td>storage128 gbram6 gbexpandable storage256gb  s...</td>\n",
       "    </tr>\n",
       "    <tr>\n",
       "      <th>2</th>\n",
       "      <td>REDMI Note 11 (Starburst White, 64 GB)</td>\n",
       "      <td>4.2</td>\n",
       "      <td>13149</td>\n",
       "      <td>https://rukminim2.flixcart.com/image/312/312/x...</td>\n",
       "      <td>storage64 gbram4  systemandroid 11processor sp...</td>\n",
       "    </tr>\n",
       "    <tr>\n",
       "      <th>3</th>\n",
       "      <td>OnePlus Nord CE 5G (Blue Void, 256 GB)</td>\n",
       "      <td>4.1</td>\n",
       "      <td>21999</td>\n",
       "      <td>https://rukminim2.flixcart.com/image/312/312/x...</td>\n",
       "      <td>storage256 gbram12  systemandroid q 11processo...</td>\n",
       "    </tr>\n",
       "    <tr>\n",
       "      <th>4</th>\n",
       "      <td>APPLE iPhone 13 mini (Blue, 128 GB)</td>\n",
       "      <td>4.6</td>\n",
       "      <td>3537</td>\n",
       "      <td>https://rukminim2.flixcart.com/image/312/312/k...</td>\n",
       "      <td>storage128  systemios 15processor typea15 bion...</td>\n",
       "    </tr>\n",
       "    <tr>\n",
       "      <th>...</th>\n",
       "      <td>...</td>\n",
       "      <td>...</td>\n",
       "      <td>...</td>\n",
       "      <td>...</td>\n",
       "      <td>...</td>\n",
       "    </tr>\n",
       "    <tr>\n",
       "      <th>2529</th>\n",
       "      <td>SAMSUNG Galaxy S20 FE 5G (Cloud Navy, 128 GB)</td>\n",
       "      <td>4.2</td>\n",
       "      <td>27440</td>\n",
       "      <td>https://rukminim2.flixcart.com/image/312/312/x...</td>\n",
       "      <td>storage128 gbram8  systemandroid 10processor s...</td>\n",
       "    </tr>\n",
       "    <tr>\n",
       "      <th>2530</th>\n",
       "      <td>REDMI Note 9 (Shadow Black, 64 GB)</td>\n",
       "      <td>4.3</td>\n",
       "      <td>11999</td>\n",
       "      <td>https://rukminim2.flixcart.com/image/312/312/k...</td>\n",
       "      <td>storage64 gbram4 gbexpandable storage512gb  sy...</td>\n",
       "    </tr>\n",
       "    <tr>\n",
       "      <th>2531</th>\n",
       "      <td>OnePlus 9 5G (Astral Black, 128 GB)</td>\n",
       "      <td>3.9</td>\n",
       "      <td>30203</td>\n",
       "      <td>https://rukminim2.flixcart.com/image/312/312/x...</td>\n",
       "      <td>storage128 gbram8  systemandroid 11processor s...</td>\n",
       "    </tr>\n",
       "    <tr>\n",
       "      <th>2532</th>\n",
       "      <td>SAMSUNG Galaxy S22 Ultra 5G (Phantom Black, 25...</td>\n",
       "      <td>4.3</td>\n",
       "      <td>20463</td>\n",
       "      <td>https://rukminim2.flixcart.com/image/312/312/x...</td>\n",
       "      <td>storage256 gbram12  systemandroid 12processor ...</td>\n",
       "    </tr>\n",
       "    <tr>\n",
       "      <th>2533</th>\n",
       "      <td>vivo T2x 5G (Aurora Gold, 128 GB)</td>\n",
       "      <td>4.4</td>\n",
       "      <td>13999</td>\n",
       "      <td>https://rukminim2.flixcart.com/image/312/312/x...</td>\n",
       "      <td>storage128 gbram6  systemandroid 13processor t...</td>\n",
       "    </tr>\n",
       "  </tbody>\n",
       "</table>\n",
       "<p>2534 rows × 5 columns</p>\n",
       "</div>"
      ],
      "text/plain": [
       "                                                   name  ratings    price   \n",
       "0             REDMI Note 12 Pro 5G (Onyx Black, 128 GB)      4.2    23999  \\\n",
       "1                   OPPO F11 Pro (Aurora Green, 128 GB)      4.5  ₹20,999   \n",
       "2                REDMI Note 11 (Starburst White, 64 GB)      4.2    13149   \n",
       "3                OnePlus Nord CE 5G (Blue Void, 256 GB)      4.1    21999   \n",
       "4                   APPLE iPhone 13 mini (Blue, 128 GB)      4.6     3537   \n",
       "...                                                 ...      ...      ...   \n",
       "2529      SAMSUNG Galaxy S20 FE 5G (Cloud Navy, 128 GB)      4.2    27440   \n",
       "2530                 REDMI Note 9 (Shadow Black, 64 GB)      4.3    11999   \n",
       "2531                OnePlus 9 5G (Astral Black, 128 GB)      3.9    30203   \n",
       "2532  SAMSUNG Galaxy S22 Ultra 5G (Phantom Black, 25...      4.3    20463   \n",
       "2533                  vivo T2x 5G (Aurora Gold, 128 GB)      4.4    13999   \n",
       "\n",
       "                                                 imgURL   \n",
       "0     https://rukminim2.flixcart.com/image/312/312/x...  \\\n",
       "1     https://rukminim2.flixcart.com/image/312/312/k...   \n",
       "2     https://rukminim2.flixcart.com/image/312/312/x...   \n",
       "3     https://rukminim2.flixcart.com/image/312/312/x...   \n",
       "4     https://rukminim2.flixcart.com/image/312/312/k...   \n",
       "...                                                 ...   \n",
       "2529  https://rukminim2.flixcart.com/image/312/312/x...   \n",
       "2530  https://rukminim2.flixcart.com/image/312/312/k...   \n",
       "2531  https://rukminim2.flixcart.com/image/312/312/x...   \n",
       "2532  https://rukminim2.flixcart.com/image/312/312/x...   \n",
       "2533  https://rukminim2.flixcart.com/image/312/312/x...   \n",
       "\n",
       "                                                 corpus  \n",
       "0     storage128 gbram6  systemandroid 12processor t...  \n",
       "1     storage128 gbram6 gbexpandable storage256gb  s...  \n",
       "2     storage64 gbram4  systemandroid 11processor sp...  \n",
       "3     storage256 gbram12  systemandroid q 11processo...  \n",
       "4     storage128  systemios 15processor typea15 bion...  \n",
       "...                                                 ...  \n",
       "2529  storage128 gbram8  systemandroid 10processor s...  \n",
       "2530  storage64 gbram4 gbexpandable storage512gb  sy...  \n",
       "2531  storage128 gbram8  systemandroid 11processor s...  \n",
       "2532  storage256 gbram12  systemandroid 12processor ...  \n",
       "2533  storage128 gbram6  systemandroid 13processor t...  \n",
       "\n",
       "[2534 rows x 5 columns]"
      ]
     },
     "execution_count": 38,
     "metadata": {},
     "output_type": "execute_result"
    }
   ],
   "source": [
    "df"
   ]
  },
  {
   "cell_type": "code",
   "execution_count": 37,
   "metadata": {},
   "outputs": [
    {
     "name": "stdout",
     "output_type": "stream",
     "text": [
      "1351 : https://rukminim2.flixcart.com/image/312/312/xif0q/mobile/a/8/a/-original-imagbwx4ahgqxgg9.jpeg?q=70\n",
      "2450 : https://rukminim2.flixcart.com/image/312/312/keykscw0/mobile/a/z/q/infinix-note-7-x690-original-imafvg9qyfm7g4zx.jpeg?q=70\n",
      "154 : https://rukminim2.flixcart.com/image/312/312/xif0q/mobile/0/h/m/galaxy-a34-5g-sm-a346elgains-samsung-original-imagnpz52hphfccb.jpeg?q=70\n",
      "1920 : https://rukminim2.flixcart.com/image/312/312/xif0q/mobile/b/f/m/-original-imagna3ezkdusyrz.jpeg?q=70\n",
      "2169 : https://rukminim2.flixcart.com/image/312/312/jjelq4w0/mobile/4/x/5/samsung-galaxy-j8-sm-j810gzbgins-original-imaf6zg5zkgnwguk.jpeg?q=70\n",
      "2171 : https://rukminim2.flixcart.com/image/312/312/l3xcr680/mobile/f/b/6/-original-imagexeyn7p8ehzh.jpeg?q=70\n"
     ]
    }
   ],
   "source": [
    "random_values('imgURL')"
   ]
  },
  {
   "cell_type": "markdown",
   "metadata": {},
   "source": [
    "## Model"
   ]
  },
  {
   "cell_type": "code",
   "execution_count": 11,
   "metadata": {},
   "outputs": [],
   "source": [
    "# vectorization\n",
    "from sklearn.feature_extraction.text import CountVectorizer"
   ]
  },
  {
   "cell_type": "code",
   "execution_count": 12,
   "metadata": {},
   "outputs": [],
   "source": [
    "cont_vect = CountVectorizer(max_features=1000)"
   ]
  },
  {
   "cell_type": "code",
   "execution_count": 13,
   "metadata": {},
   "outputs": [],
   "source": [
    "arrays = cont_vect.fit_transform(df['corpus'])"
   ]
  },
  {
   "cell_type": "code",
   "execution_count": 14,
   "metadata": {},
   "outputs": [],
   "source": [
    "vectors = arrays.toarray()"
   ]
  },
  {
   "cell_type": "code",
   "execution_count": 15,
   "metadata": {},
   "outputs": [
    {
     "data": {
      "text/plain": [
       "array(['00', '000', '02', '03', '04', '05', '07', '07bother', '08', '09',\n",
       "       '0mp', '0primary', '0processor', '10', '100', '1000', '100000',\n",
       "       '1000000', '100mp', '103', '104', '106', '1080', '1080processor',\n",
       "       '1080resolution', '108mp', '10mp', '10processor', '11', '1100',\n",
       "       '1125', '1170', '1179', '11primary', '11processor', '12', '120',\n",
       "       '1200', '1200processor', '120hz', '1242', '1280processor', '1284',\n",
       "       '1290', '12mp', '12primary', '12processor', '13', '1300',\n",
       "       '1300processor', '1330', '1334', '135', '13mp', '13processor',\n",
       "       '14', '1400', '144', '1440', '144hz', '1480', '14processor', '15',\n",
       "       '1500', '1544', '15processor', '16', '160', '1600', '16000',\n",
       "       '1600resolution', '1612', '16mp', '16processor', '18', '180',\n",
       "       '1800', '180hz', '19', '1920', '1920hz', '1processor', '20', '200',\n",
       "       '2000000', '200mp', '20mp', '21', '22', '23', '2340', '24', '240',\n",
       "       '2400', '2400resolution', '2408', '240hz', '2460', '24mp', '25mm',\n",
       "       '25mp', '26', '27', '28', '2d', '2g', '2ghzprocessor', '2mm',\n",
       "       '2mp', '2processor', '2x', '2xhd', '30', '308display', '30hz',\n",
       "       '32', '326', '32mp', '33', '35', '36', '360', '37', '38', '39',\n",
       "       '3d', '3g', '3ghzprocessor', '3mp', '40', '400', '400nits', '401',\n",
       "       '4096', '41', '420', '420nits', '425processor', '43', '430',\n",
       "       '439processor', '44', '440', '44mm', '44mp', '45', '450',\n",
       "       '4500000', '450processor', '460processor', '46mm', '47', '48',\n",
       "       '480', '480hz', '480nits', '488', '48hz', '48mp', '49', '4g',\n",
       "       '4ghzprocessor', '4mp', '50', '500', '5000000', '500nit',\n",
       "       '500nits', '505', '505display', '505other', '506display',\n",
       "       '509display', '50hz', '50mp', '51', '512display', '515', '52',\n",
       "       '53', '54', '55', '550', '56', '57', '58', '580', '59', '5d', '5g',\n",
       "       '5gprocessor', '5mp', '60', '600', '60000', '6020processor',\n",
       "       '60hz', '60mp', '61', '610', '610display', '612display',\n",
       "       '616display', '618display', '619display', '62', '620display',\n",
       "       '625', '625processor', '636processor', '63mp', '64', '640',\n",
       "       '640display', '642ldisplay', '64mp', '65', '650', '650display',\n",
       "       '66', '660', '660display', '662processor', '665', '665processor',\n",
       "       '67', '675processor', '680', '680processor', '69', '695',\n",
       "       '695processor', '6mm', '6processor', '70', '700', '700processor',\n",
       "       '7050processor', '70mm', '71', '712', '72', '720', '720gprocessor',\n",
       "       '720resolution', '73', '730display', '730processor',\n",
       "       '732gprocessor', '74', '740display', '75', '750', '750gprocessor',\n",
       "       '76', '765gprocessor', '77', '778g', '778gprocessor', '78', '7m',\n",
       "       '7mother', '7mp', '7processor', '7t', '80', '800', '800uprocessor',\n",
       "       '81', '810', '8100processor', '810processor', '82', '828', '83',\n",
       "       '84', '85', '850', '850processor', '855', '855processor', '86',\n",
       "       '865processor', '87', '870processor', '87mm', '88', '888',\n",
       "       '888processor', '89', '8mp', '8processor', '90', '900',\n",
       "       '900processor', '90hz', '90nit', '91', '92', '920processor', '93',\n",
       "       '94', '95', '950', '96', '9611', '9611processor', '97', '98',\n",
       "       '98mm', '99', '9processor', 'a10', 'a11', 'a22processor',\n",
       "       'a618display', 'a9', 'aa', 'access', 'active', 'adaptive',\n",
       "       'adjustment', 'adreno', 'agc', 'aieprocessor', 'all', 'always',\n",
       "       'amazon', 'ambient', 'amoled', 'amoleddisplay', 'amoledhd',\n",
       "       'amoledother', 'an', 'and', 'android', 'angle', 'angles', 'anti',\n",
       "       'anywhere', 'area', 'arrangement', 'aspect', 'at', 'auto', 'back',\n",
       "       'backlit', 'based', 'bazel', 'bezel', 'billionother', 'bionic',\n",
       "       'bit', 'blue', 'body', 'border', 'bottom', 'brightness', 'by',\n",
       "       'c3', 'camera', 'capacitive', 'capacity1000', 'capacity1440',\n",
       "       'capacity1715', 'capacity2750', 'capacity2915', 'capacity3000',\n",
       "       'capacity3080', 'capacity3180', 'capacity3200', 'capacity3300',\n",
       "       'capacity3400', 'capacity3500', 'capacity3700', 'capacity3900',\n",
       "       'capacity4000', 'capacity4015', 'capacity4020', 'capacity4030',\n",
       "       'capacity4050', 'capacity4100', 'capacity4115', 'capacity4200',\n",
       "       'capacity4230', 'capacity4250', 'capacity4300', 'capacity4400',\n",
       "       'capacity4500', 'capacity4520', 'capacity4600', 'capacity4700',\n",
       "       'capacity4800', 'capacity5000', 'capacity5020', 'capacity5160',\n",
       "       'capacity6000', 'capacity7000', 'capacity800', 'care', 'cd',\n",
       "       'cell', 'celldisplay', 'cellother', 'certification', 'certified',\n",
       "       'channel', 'characters', 'chip', 'clear', 'clock', 'cm', 'coating',\n",
       "       'cof', 'cog', 'color', 'coloros', 'colorother', 'colors',\n",
       "       'colors1', 'colors10', 'colors16', 'colors16m', 'colors16mother',\n",
       "       'colors65', 'colorscontrast', 'colour', 'comfort', 'contrast',\n",
       "       'control', 'core', 'coredisplay', 'coreocta', 'coreprocessor',\n",
       "       'corning', 'cover', 'coverage', 'curved', 'cut', 'dc', 'dci',\n",
       "       'degree', 'design', 'designed', 'dewdrop', 'diagonal', 'dimensity',\n",
       "       'dimming', 'dinorex', 'display', 'displaydisplay', 'displaygpu4',\n",
       "       'displaygpu5', 'displaygpuadreno', 'displaygpuarm',\n",
       "       'displaygpupowervr', 'displaygpuqualcomm', 'displayhd',\n",
       "       'displaymate', 'displayother', 'dolby', 'domain', 'dot', 'down',\n",
       "       'dual', 'dynamic', 'e3', 'edge', 'edition', 'enhancer',\n",
       "       'experience', 'exynos', 'eye', 'f01', 'face', 'faster',\n",
       "       'features120', 'features1200nits', 'features120hz', 'features1300',\n",
       "       'features1400', 'features16', 'features180', 'features180hz',\n",
       "       'features19', 'features2', 'features20', 'features6', 'features60',\n",
       "       'features89', 'features90', 'features90hz', 'featuresadaptive',\n",
       "       'featuresaspect', 'featuresbezel', 'featurescontrast',\n",
       "       'featurescorning', 'featuresdisplay', 'featuresdolby',\n",
       "       'featuresdynamic', 'featuresfullview', 'featureshalo',\n",
       "       'featureshdr', 'featuresin', 'featuresips', 'featuresled',\n",
       "       'featuresmulti', 'featuresnarrow', 'featureson', 'featuresrefresh',\n",
       "       'featuresretina', 'featuresscreen', 'featuressuper',\n",
       "       'featurestouch', 'featuresvideo', 'featureswidescreen', 'fhd',\n",
       "       'film', 'finger', 'fingerprint', 'fluiddisplay', 'for', 'fps',\n",
       "       'frame', 'frequencygsm', 'from', 'front', 'full', 'fullview',\n",
       "       'fusion', 'g25processor', 'g35processor', 'g37processor', 'g52',\n",
       "       'g52display', 'g57', 'g57display', 'g610', 'g68', 'g68display',\n",
       "       'g70processor', 'g71', 'g72', 'g76', 'g76display', 'g77',\n",
       "       'g77display', 'g80processor', 'g85processor', 'g88processor',\n",
       "       'g90tprocessor', 'g95processor', 'g96processor', 'g99processor',\n",
       "       'game', 'gameplay', 'gamut', 'gbexpandable', 'gbram1', 'gbram12',\n",
       "       'gbram128', 'gbram16', 'gbram2', 'gbram3', 'gbram4', 'gbram6',\n",
       "       'gbram8', 'gbtotal', 'ge8320', 'ge8320display', 'ge8322display',\n",
       "       'gen', 'generation', 'gentle', 'gestures', 'gff', 'gg3', 'gg5',\n",
       "       'ghz', 'ghzprocessor', 'glass', 'go', 'goprocessor', 'gorilla',\n",
       "       'gpu', 'gpuadreno', 'gpuarm', 'gpuge8320display', 'gpuimagination',\n",
       "       'gpuimg', 'gpumali', 'gpupowervr', 'gpuqualcomm', 'graphics',\n",
       "       'gt7600', 'halo', 'haptic', 'hbm', 'hd', 'hdgpuadreno', 'hdgpuarm',\n",
       "       'hdr', 'hdr10', 'helio', 'high', 'hios', 'hole', 'hz', 'in',\n",
       "       'incell', 'inch', 'increase', 'infinity', 'intensive', 'ion',\n",
       "       'ips', 'ipsdisplay', 'ipsother', 'is', 'island', 'kitkat',\n",
       "       'languages', 'layer', 'lcd', 'lcddisplay', 'lcdhd', 'lcdother',\n",
       "       'led', 'left', 'level', 'light', 'liquid', 'local', 'lollipop',\n",
       "       'low', 'lower', 'ltps', 'm2', 'mali', 'marshmallow', 'material',\n",
       "       'max', 'maximum', 'mbram4', 'mc2', 'mc2display', 'mc3display',\n",
       "       'mc4display', 'mc6display', 'mc9display', 'mediatek', 'memc',\n",
       "       'memory128gb', 'memory64gb', 'metal', 'mhz', 'mhzdisplay',\n",
       "       'mhzother', 'millionother', 'min', 'minimum', 'miui', 'mm',\n",
       "       'mn228', 'mobile', 'mode', 'more', 'mother', 'motion',\n",
       "       'mp1display', 'mp2display', 'mp3', 'mp3display', 'mp4display',\n",
       "       'mp5display', 'mt6762processor', 'mt6765', 'mt6771v', 'multi',\n",
       "       'multiple', 'nano', 'narrow', 'neg', 'new', 'night', 'nit', 'nits',\n",
       "       'nm', 'no', 'normal', 'notch', 'notmentioned', 'nougat', 'ntsc',\n",
       "       'octa', 'octacoreprocessor', 'of', 'off', 'oled', 'oleophobic',\n",
       "       'oleophpbic', 'on', 'oncell', 'oneplus', 'optimised', 'oreo', 'os',\n",
       "       'other', 'outdoor', 'outside', 'over', 'oxygen', 'oxygenos',\n",
       "       'oxygenosprocessor', 'p22', 'p22processor', 'p2i', 'p3', 'p35',\n",
       "       'p35processor', 'p60', 'p70', 'p70processor', 'p95processor',\n",
       "       'panda', 'panel', 'peak', 'percent', 'performance', 'peripheral',\n",
       "       'phone', 'pie', 'pixel', 'pixelgpuadreno', 'pixelresolution',\n",
       "       'pixels', 'pixelsdisplay', 'pixelsgpuadreno', 'pixelsgpuapple',\n",
       "       'pixelsgpuarm', 'pixelsresolution', 'platformprocessor',\n",
       "       'playback', 'plusprocessor', 'points', 'poled', 'powervr',\n",
       "       'powervrdisplay', 'ppi', 'print', 'pro', 'process', 'processor',\n",
       "       'processorprocessor', 'promotion', 'proof', 'proportion',\n",
       "       'protected', 'protection', 'protective', 'protector', 'punch',\n",
       "       'pwm', 'pwm2160hz', 'quad', 'rate', 'rates', 'ratio', 'rdother',\n",
       "       'reachability', 'reading', 'refresh', 'repellent', 'resistant',\n",
       "       'resolution', 'resolution1080', 'resolution1080x2400',\n",
       "       'resolution1136', 'resolution128', 'resolution1280',\n",
       "       'resolution1334', 'resolution1440', 'resolution1520',\n",
       "       'resolution1560', 'resolution1600', 'resolution1600x720',\n",
       "       'resolution1612', 'resolution1612x720', 'resolution1640',\n",
       "       'resolution1650', 'resolution1650x720', 'resolution1792',\n",
       "       'resolution1920', 'resolution1920x1080', 'resolution2160',\n",
       "       'resolution2160x1080', 'resolution2280', 'resolution2340',\n",
       "       'resolution2376', 'resolution2400', 'resolution2400x1080',\n",
       "       'resolution2404', 'resolution2408', 'resolution2412',\n",
       "       'resolution2436', 'resolution2460', 'resolution2480',\n",
       "       'resolution2532', 'resolution2556', 'resolution2640',\n",
       "       'resolution2688', 'resolution2772x1240', 'resolution2778',\n",
       "       'resolution2796', 'resolution3088', 'resolution3216',\n",
       "       'resolution720', 'resolution720x1600', 'resolution750', 'retina',\n",
       "       'rheinland', 'right', 's5e8535', 'samoled', 'sampling', 'samsung',\n",
       "       'saturation', 'sc9863a1processor', 'schott', 'scratch', 'screen',\n",
       "       'sdm450', 'sealing', 'seamless', 'sensor', 'sgs', 'si', 'side',\n",
       "       'simultaneously', 'six', 'size', 'size10', 'size11', 'size12',\n",
       "       'size13', 'size14', 'size15', 'size16', 'size17', 'size19',\n",
       "       'size3', 'size5', 'slim', 'smart', 'smooth', 'snapdragon', 'space',\n",
       "       'speed1', 'speed2', 'speed208', 'speed3', 'speed90', 'splash',\n",
       "       'srgb', 'standard', 'static', 'storage1024', 'storage128',\n",
       "       'storage128gb', 'storage16', 'storage1tb', 'storage2',\n",
       "       'storage256', 'storage256gb', 'storage2tb', 'storage32',\n",
       "       'storage512', 'storage512gb', 'storage64', 'storage8',\n",
       "       'stroboscopic', 'sunlight', 'sunshine', 'super', 'supplier',\n",
       "       'support', 'supports', 'supportyes', 'supportyesdisplay',\n",
       "       'supportyesother', 'sync', 'systemandroid',\n",
       "       'systemandroidprocessor', 'systemios', 't2x', 't606processor',\n",
       "       't610processor', 't612processor', 't616processor', 't830', 'tap',\n",
       "       'technology', 'technologyhd', 'technologyother', 'temperature',\n",
       "       'texture', 'tft', 'tftother', 'than', 'that', 'the', 'to', 'tone',\n",
       "       'top', 'touch', 'tp', 'true', 'tuv', 'typ', 'type', 'type2',\n",
       "       'typea10', 'typea11', 'typea12', 'typea13', 'typea14', 'typea15',\n",
       "       'typea16', 'typea6', 'typea8', 'typea9', 'typeall', 'typeamoled',\n",
       "       'typeamoleddisplay', 'typeamoledother', 'typeapple',\n",
       "       'typecapacitive', 'typedimensity', 'typedotdisplayhd',\n",
       "       'typedynamic', 'typeexynos', 'typefhd', 'typefluid', 'typefull',\n",
       "       'typeg37processor', 'typehd', 'typehddisplay', 'typehdgpuadreno',\n",
       "       'typehdgpumali', 'typehelio', 'typein', 'typeips', 'typeipsother',\n",
       "       'typelcdhd', 'typeled', 'typeli', 'typeliquid', 'typemediatek',\n",
       "       'typemt6763tprocessor', 'typemtk', 'typeocta', 'typepls',\n",
       "       'typequad', 'typequalcomm', 'typeretina', 'typesamsung', 'typesec',\n",
       "       'typesnapdragon', 'typesuper', 'typetft', 'typetftdisplay',\n",
       "       'typeunisoc', 'typewidescreen', 'typical', 'tüv', 'ultra', 'under',\n",
       "       'unlock', 'up', 'upper', 'upto', 'usb', 'value', 'victus', 'view',\n",
       "       'viewing', 'vision', 'visuals', 'vivid', 'wake', 'water',\n",
       "       'waterdrop', 'wide', 'widescreen', 'will', 'with', 'xdr',\n",
       "       'xensation', 'you', 'zoom'], dtype=object)"
      ]
     },
     "execution_count": 15,
     "metadata": {},
     "output_type": "execute_result"
    }
   ],
   "source": [
    "cont_vect.get_feature_names_out()"
   ]
  },
  {
   "cell_type": "markdown",
   "metadata": {},
   "source": [
    "## Calculating cosine similarity"
   ]
  },
  {
   "cell_type": "code",
   "execution_count": 16,
   "metadata": {},
   "outputs": [],
   "source": [
    "from sklearn.metrics.pairwise import cosine_similarity"
   ]
  },
  {
   "cell_type": "code",
   "execution_count": 17,
   "metadata": {},
   "outputs": [
    {
     "data": {
      "text/plain": [
       "(2534, 2534)"
      ]
     },
     "execution_count": 17,
     "metadata": {},
     "output_type": "execute_result"
    }
   ],
   "source": [
    "similarity = cosine_similarity(vectors)\n",
    "similarity.shape # this is because I have calculated the similarity among all the rows to all the rows(confusing?? but try to understand)"
   ]
  },
  {
   "cell_type": "code",
   "execution_count": 49,
   "metadata": {},
   "outputs": [
    {
     "data": {
      "text/plain": [
       "array([0.3345748 , 0.17485208, 0.53136893, ..., 0.57564968, 0.27586342,\n",
       "       0.37283655])"
      ]
     },
     "execution_count": 49,
     "metadata": {},
     "output_type": "execute_result"
    }
   ],
   "source": [
    "similarity[3]"
   ]
  },
  {
   "cell_type": "code",
   "execution_count": 47,
   "metadata": {},
   "outputs": [
    {
     "data": {
      "text/plain": [
       "[(68, 1.0),\n",
       " (303, 1.0),\n",
       " (616, 0.9850746268656716),\n",
       " (1461, 0.9850746268656716),\n",
       " (457, 0.9701492537313433),\n",
       " (1027, 0.9701492537313433),\n",
       " (1735, 0.9701492537313433),\n",
       " (569, 0.9468131937613655),\n",
       " (1123, 0.9468131937613655),\n",
       " (1540, 0.9468131937613655)]"
      ]
     },
     "execution_count": 47,
     "metadata": {},
     "output_type": "execute_result"
    }
   ],
   "source": [
    "sorted(list(enumerate(similarity[0])),reverse=True,key=lambda x:x[1])[1:11]"
   ]
  },
  {
   "cell_type": "code",
   "execution_count": 20,
   "metadata": {},
   "outputs": [],
   "source": [
    "def recommend(mobile):\n",
    "    mobile_index = df[df['name']==mobile].index[0]\n",
    "    similarity_array = similarity[mobile_index]\n",
    "    similar_10_mobiles = sorted(list(enumerate(similarity_array)),reverse=True,key=lambda x:x[1])[1:11]\n",
    "    \n",
    "    for i in similar_10_mobiles:\n",
    "        print(df['name'].iloc[i[0]])\n",
    "\n"
   ]
  },
  {
   "cell_type": "code",
   "execution_count": 21,
   "metadata": {},
   "outputs": [
    {
     "name": "stdout",
     "output_type": "stream",
     "text": [
      "APPLE iPhone 13 mini ((PRODUCT)RED, 128 GB)\n",
      "APPLE iPhone 13 mini (Starlight, 128 GB)\n",
      "APPLE iPhone 13 mini (Green, 128 GB)\n",
      "APPLE iPhone 13 mini (Midnight, 128 GB)\n",
      "APPLE iPhone 13 mini (Pink, 128 GB)\n",
      "APPLE iPhone 13 mini (Green, 256 GB)\n",
      "APPLE iPhone 13 mini (Midnight, 512 GB)\n",
      "APPLE iPhone 13 mini (Pink, 512 GB)\n",
      "APPLE iPhone 13 mini (Starlight, 256 GB)\n",
      "APPLE iPhone 13 mini (Midnight, 256 GB)\n"
     ]
    }
   ],
   "source": [
    "recommend('APPLE iPhone 13 mini (Blue, 128 GB)')"
   ]
  },
  {
   "cell_type": "markdown",
   "metadata": {},
   "source": [
    "## making Pickle file of df and similarities to use in web"
   ]
  },
  {
   "cell_type": "code",
   "execution_count": 26,
   "metadata": {},
   "outputs": [],
   "source": [
    "os.makedirs(r'src\\model',exist_ok=True)"
   ]
  },
  {
   "cell_type": "code",
   "execution_count": 27,
   "metadata": {},
   "outputs": [],
   "source": [
    "pickle.dump(obj=df,file=open(file=r'src\\model\\dataframe.pkl',mode='wb'))"
   ]
  },
  {
   "cell_type": "code",
   "execution_count": 34,
   "metadata": {},
   "outputs": [],
   "source": [
    "pickle.dump(obj=similarity,file=open(file=r'src\\model\\similarity.pkl',mode='wb'))"
   ]
  },
  {
   "cell_type": "code",
   "execution_count": null,
   "metadata": {},
   "outputs": [],
   "source": []
  }
 ],
 "metadata": {
  "kernelspec": {
   "display_name": "Python 3",
   "language": "python",
   "name": "python3"
  },
  "language_info": {
   "codemirror_mode": {
    "name": "ipython",
    "version": 3
   },
   "file_extension": ".py",
   "mimetype": "text/x-python",
   "name": "python",
   "nbconvert_exporter": "python",
   "pygments_lexer": "ipython3",
   "version": "3.11.3"
  },
  "orig_nbformat": 4
 },
 "nbformat": 4,
 "nbformat_minor": 2
}
