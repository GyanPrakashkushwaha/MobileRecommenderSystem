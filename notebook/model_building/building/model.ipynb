{
 "cells": [
  {
   "cell_type": "code",
   "execution_count": 1,
   "metadata": {},
   "outputs": [],
   "source": [
    "import pandas as pd\n",
    "import numpy as np\n",
    "import os\n",
    "from typing import Callable # this is to define test_func functions dtype as function itself\n",
    "import re # for regural expression\n",
    "import warnings\n",
    "warnings.filterwarnings('ignore')\n",
    "import pickle # for pickling my model\n",
    "\n",
    "os.chdir(r'd:\\vscode_machineLearning\\BEST_PROJECTS\\mobileRecommenderSystem')"
   ]
  },
  {
   "cell_type": "code",
   "execution_count": 2,
   "metadata": {},
   "outputs": [
    {
     "data": {
      "text/plain": [
       "'d:\\\\vscode_machineLearning\\\\BEST_PROJECTS\\\\mobileRecommenderSystem'"
      ]
     },
     "execution_count": 2,
     "metadata": {},
     "output_type": "execute_result"
    }
   ],
   "source": [
    "os.getcwd()"
   ]
  },
  {
   "cell_type": "code",
   "execution_count": 3,
   "metadata": {},
   "outputs": [],
   "source": [
    "df = pd.read_csv(r'data\\final_dataFrame.csv',index_col=False)"
   ]
  },
  {
   "cell_type": "code",
   "execution_count": 25,
   "metadata": {},
   "outputs": [
    {
     "data": {
      "text/html": [
       "<div>\n",
       "<style scoped>\n",
       "    .dataframe tbody tr th:only-of-type {\n",
       "        vertical-align: middle;\n",
       "    }\n",
       "\n",
       "    .dataframe tbody tr th {\n",
       "        vertical-align: top;\n",
       "    }\n",
       "\n",
       "    .dataframe thead th {\n",
       "        text-align: right;\n",
       "    }\n",
       "</style>\n",
       "<table border=\"1\" class=\"dataframe\">\n",
       "  <thead>\n",
       "    <tr style=\"text-align: right;\">\n",
       "      <th></th>\n",
       "      <th>name</th>\n",
       "      <th>ratings</th>\n",
       "      <th>price</th>\n",
       "      <th>imgURL</th>\n",
       "      <th>corpus</th>\n",
       "    </tr>\n",
       "  </thead>\n",
       "  <tbody>\n",
       "    <tr>\n",
       "      <th>2118</th>\n",
       "      <td>Tecno Spark Power 2 Air (Cosmic Shine, 32 GB)</td>\n",
       "      <td>4.3</td>\n",
       "      <td>9999</td>\n",
       "      <td>https://rukminim2.flixcart.com/image/312/312/k...</td>\n",
       "      <td>Storage32 GBRAM3 GBExpandable Storage256GB  Sy...</td>\n",
       "    </tr>\n",
       "    <tr>\n",
       "      <th>1253</th>\n",
       "      <td>SAMSUNG Galaxy S23 5G (Cream, 128 GB)</td>\n",
       "      <td>4.5</td>\n",
       "      <td>74999</td>\n",
       "      <td>https://rukminim2.flixcart.com/image/312/312/x...</td>\n",
       "      <td>Storage128 GBRAM8  SystemAndroid 13Processor T...</td>\n",
       "    </tr>\n",
       "    <tr>\n",
       "      <th>2441</th>\n",
       "      <td>vivo Y35 (Dawn Gold, 128 GB)</td>\n",
       "      <td>4.4</td>\n",
       "      <td>16999</td>\n",
       "      <td>https://rukminim2.flixcart.com/image/312/312/x...</td>\n",
       "      <td>Storage128 GBRAM8  SystemAndroid 12Processor T...</td>\n",
       "    </tr>\n",
       "    <tr>\n",
       "      <th>1491</th>\n",
       "      <td>SAMSUNG Galaxy M32 (Black, 64 GB)</td>\n",
       "      <td>4.2</td>\n",
       "      <td>14999</td>\n",
       "      <td>https://rukminim2.flixcart.com/image/312/312/x...</td>\n",
       "      <td>Storage64 GBRAM4  SystemAndroid 11Processor Sp...</td>\n",
       "    </tr>\n",
       "    <tr>\n",
       "      <th>2275</th>\n",
       "      <td>APPLE iPhone 6 Plus (Gold, 128 GB)</td>\n",
       "      <td>4.5</td>\n",
       "      <td>80500</td>\n",
       "      <td>https://rukminim2.flixcart.com/image/312/312/m...</td>\n",
       "      <td>Storage128  SystemiOS 8Processor TypeA8 Chip 8...</td>\n",
       "    </tr>\n",
       "    <tr>\n",
       "      <th>2335</th>\n",
       "      <td>SAMSUNG Galaxy A12 (Blue, 64 GB)</td>\n",
       "      <td>4.2</td>\n",
       "      <td>14999</td>\n",
       "      <td>https://rukminim2.flixcart.com/image/312/312/k...</td>\n",
       "      <td>Storage64 GBRAM4 GBExpandable Storage1TB  Syst...</td>\n",
       "    </tr>\n",
       "    <tr>\n",
       "      <th>1738</th>\n",
       "      <td>APPLE iPhone 12 Pro Max (Silver, 128 GB)</td>\n",
       "      <td>4.6</td>\n",
       "      <td>95599</td>\n",
       "      <td>https://rukminim2.flixcart.com/image/312/312/k...</td>\n",
       "      <td>Storage128  SystemiOS 14Processor TypeA14 Bion...</td>\n",
       "    </tr>\n",
       "    <tr>\n",
       "      <th>2381</th>\n",
       "      <td>Mi A3 (Not just Blue, 128 GB)</td>\n",
       "      <td>4.2</td>\n",
       "      <td>15999</td>\n",
       "      <td>https://rukminim2.flixcart.com/image/312/312/k...</td>\n",
       "      <td>Storage128 GBRAM6 GBExpandable Storage256GB  S...</td>\n",
       "    </tr>\n",
       "    <tr>\n",
       "      <th>2057</th>\n",
       "      <td>OnePlus 9R 5G (Carbon Black, 128 GB)</td>\n",
       "      <td>3.7</td>\n",
       "      <td>33899</td>\n",
       "      <td>https://rukminim2.flixcart.com/image/312/312/x...</td>\n",
       "      <td>Storage128 GBRAM8  SystemAndroid Q 11Processor...</td>\n",
       "    </tr>\n",
       "    <tr>\n",
       "      <th>2461</th>\n",
       "      <td>APPLE iPhone 12 Pro Max (Pacific Blue, 128 GB)</td>\n",
       "      <td>4.7</td>\n",
       "      <td>95599</td>\n",
       "      <td>https://rukminim2.flixcart.com/image/312/312/k...</td>\n",
       "      <td>Storage128  SystemiOS 14Processor TypeA14 Bion...</td>\n",
       "    </tr>\n",
       "  </tbody>\n",
       "</table>\n",
       "</div>"
      ],
      "text/plain": [
       "                                                name  ratings  price   \n",
       "2118   Tecno Spark Power 2 Air (Cosmic Shine, 32 GB)      4.3   9999  \\\n",
       "1253           SAMSUNG Galaxy S23 5G (Cream, 128 GB)      4.5  74999   \n",
       "2441                    vivo Y35 (Dawn Gold, 128 GB)      4.4  16999   \n",
       "1491               SAMSUNG Galaxy M32 (Black, 64 GB)      4.2  14999   \n",
       "2275              APPLE iPhone 6 Plus (Gold, 128 GB)      4.5  80500   \n",
       "2335                SAMSUNG Galaxy A12 (Blue, 64 GB)      4.2  14999   \n",
       "1738        APPLE iPhone 12 Pro Max (Silver, 128 GB)      4.6  95599   \n",
       "2381                   Mi A3 (Not just Blue, 128 GB)      4.2  15999   \n",
       "2057            OnePlus 9R 5G (Carbon Black, 128 GB)      3.7  33899   \n",
       "2461  APPLE iPhone 12 Pro Max (Pacific Blue, 128 GB)      4.7  95599   \n",
       "\n",
       "                                                 imgURL   \n",
       "2118  https://rukminim2.flixcart.com/image/312/312/k...  \\\n",
       "1253  https://rukminim2.flixcart.com/image/312/312/x...   \n",
       "2441  https://rukminim2.flixcart.com/image/312/312/x...   \n",
       "1491  https://rukminim2.flixcart.com/image/312/312/x...   \n",
       "2275  https://rukminim2.flixcart.com/image/312/312/m...   \n",
       "2335  https://rukminim2.flixcart.com/image/312/312/k...   \n",
       "1738  https://rukminim2.flixcart.com/image/312/312/k...   \n",
       "2381  https://rukminim2.flixcart.com/image/312/312/k...   \n",
       "2057  https://rukminim2.flixcart.com/image/312/312/x...   \n",
       "2461  https://rukminim2.flixcart.com/image/312/312/k...   \n",
       "\n",
       "                                                 corpus  \n",
       "2118  Storage32 GBRAM3 GBExpandable Storage256GB  Sy...  \n",
       "1253  Storage128 GBRAM8  SystemAndroid 13Processor T...  \n",
       "2441  Storage128 GBRAM8  SystemAndroid 12Processor T...  \n",
       "1491  Storage64 GBRAM4  SystemAndroid 11Processor Sp...  \n",
       "2275  Storage128  SystemiOS 8Processor TypeA8 Chip 8...  \n",
       "2335  Storage64 GBRAM4 GBExpandable Storage1TB  Syst...  \n",
       "1738  Storage128  SystemiOS 14Processor TypeA14 Bion...  \n",
       "2381  Storage128 GBRAM6 GBExpandable Storage256GB  S...  \n",
       "2057  Storage128 GBRAM8  SystemAndroid Q 11Processor...  \n",
       "2461  Storage128  SystemiOS 14Processor TypeA14 Bion...  "
      ]
     },
     "execution_count": 25,
     "metadata": {},
     "output_type": "execute_result"
    }
   ],
   "source": [
    "df.sample(10)"
   ]
  },
  {
   "cell_type": "code",
   "execution_count": 26,
   "metadata": {},
   "outputs": [],
   "source": [
    "def random_values(col_name:str,total=6):\n",
    "    for i in range(0,total):\n",
    "        index = np.random.randint(df.shape[0])\n",
    "        print(index,':',df[col_name].iloc[index])        "
   ]
  },
  {
   "cell_type": "code",
   "execution_count": 27,
   "metadata": {},
   "outputs": [
    {
     "name": "stdout",
     "output_type": "stream",
     "text": [
      "2461 : Storage128  SystemiOS 14Processor TypeA14 Bionic Chip 12MP 12MP 12MP 12MP 12MP 12MP 5G TypeLi-Ion Display Size17.02 cm (6.7 inch)Resolution2778 x 1284 PixelsResolution TypeSuper Retina XDR DisplayDisplay TypeSuper Retina XDR DisplayOther Display FeaturesSuper Retina XDR Display, 6.7 inch (Diagonal) All Screen OLED Display, HDR Display, True Tone, Wide Colour, Haptic Touch, 2000000:1 Contrast Ratio (Typical), 800 nits Max Brightness (Typical); 1200 nits Max Brightness (HDR), Fingerprint-resistant Oleophobic Coating, Support for Display of Multiple Languages and Characters Simultaneously 0         12980\n",
      "1         11499\n",
      "2         27990\n",
      "3         12185\n",
      "4         17600\n",
      "         ...   \n",
      "2541      28999\n",
      "2542    ₹20,999\n",
      "2543      12500\n",
      "2544      99999\n",
      "2545     118199\n",
      "Name: price, Length: 2546, dtype: object\n",
      "146 : Storage256 GBRAM8 GBExpandable Storage1TB  SystemAndroid 13Processor TypeMediatek Dimensity 900Processor Speed2.4 64MP 2MP 2MP 64MP 2MP 2MP 16MP 16MP 5G Capacity4500 Display Size16.21 cm (6.38 inch)Resolution2400 x 1080Resolution TypeFull HD+ AMOLED DisplayDisplay TypeFull HD+ AMOLED DisplayOther Display FeaturesRefresh Rate: 90 Hz, DCI-P3 Wide Color Gamut, Local Peak Brightness: 1300 Nits, HDR10+ Certification 0         12980\n",
      "1         11499\n",
      "2         27990\n",
      "3         12185\n",
      "4         17600\n",
      "         ...   \n",
      "2541      28999\n",
      "2542    ₹20,999\n",
      "2543      12500\n",
      "2544      99999\n",
      "2545     118199\n",
      "Name: price, Length: 2546, dtype: object\n",
      "1287 : Storage256 GBRAM8  SystemAndroid 13Processor TypeDimensity 7050Processor Speed2.6 64MP 32MP 8MP 64MP 32MP 8MP 32MP 32MP 5G Capacity5000 Display Size17.02 cm (6.7 inch)Resolution2412 x 1080 PixelsResolution TypeFull HD+GPUARM Mali G68 MC4Display TypeFull HD+ AMOLED DisplayDisplay Colors1.07 BillionOther Display Features120 Hz 3D Curved Display, Aspect Ratio: 20:9, HDR10+, Ultra Narrow Bazel, 240Hz Touch Sampling Rate, Brightness: 500nits 0         12980\n",
      "1         11499\n",
      "2         27990\n",
      "3         12185\n",
      "4         17600\n",
      "         ...   \n",
      "2541      28999\n",
      "2542    ₹20,999\n",
      "2543      12500\n",
      "2544      99999\n",
      "2545     118199\n",
      "Name: price, Length: 2546, dtype: object\n",
      "1706 : Storage64 GBRAM4 GBExpandable Storage256GB  SystemAndroid 10Processor TypeMediaTek Helio P35Processor Speed2.3 13MP 2MP 2MP 16MP 4G Capacity5000 Display Size16.54 cm (6.51 inch)Resolution1600 x 720$$PixelsResolution TypeHD+GPUIMG GE8320 (at 680 MHz)Display TypeHD+ LCD IPS DisplayDisplay Colors16.7MOther Display Features60 Hz Refresh Rate, 120 Hz Touch Sampling Rate, 89.2% Screen-to-Body Ratio, Color Saturation: 65% (Min), 70% (Typ) NTSC, 20:09 Aspect Ratio, Contrast Ratio: 1500:1, Brightness: 480 nits, 550 nits (Typical Value Under Sunlight), Night Mode, Eye Comfort, NEG T2X-1 Glass Protection 0         12980\n",
      "1         11499\n",
      "2         27990\n",
      "3         12185\n",
      "4         17600\n",
      "         ...   \n",
      "2541      28999\n",
      "2542    ₹20,999\n",
      "2543      12500\n",
      "2544      99999\n",
      "2545     118199\n",
      "Name: price, Length: 2546, dtype: object\n",
      "195 : Storage64 GBRAM4  SystemAndroid Pie 10Processor TypeQualcomm Snapdragon 450Processor Speed1.8 13MP 2MP 2MP 5MP 4G Capacity5000 Display Size16.51 cm (6.5 inch)Resolution720 x 1600$$pixelResolution TypeFull HD+GPUAdreno 506Display TypeIPS LCDHD Game SupportYes 0         12980\n",
      "1         11499\n",
      "2         27990\n",
      "3         12185\n",
      "4         17600\n",
      "         ...   \n",
      "2541      28999\n",
      "2542    ₹20,999\n",
      "2543      12500\n",
      "2544      99999\n",
      "2545     118199\n",
      "Name: price, Length: 2546, dtype: object\n",
      "1152 : Storage32 GBRAM3 GBExpandable Storage128GB  SystemAndroid Nougat 7.1.1Processor TypeMediaTek MTK6737 1.3GHzProcessor Speed1.3 13MP 5MP 3G Capacity5000 Display Size13.97 cm (5.5 inch)Resolution1280 x 720 PixelsResolution TypeHDDisplay TypeTFT LCD IPSDisplay Colors16 M 0         12980\n",
      "1         11499\n",
      "2         27990\n",
      "3         12185\n",
      "4         17600\n",
      "         ...   \n",
      "2541      28999\n",
      "2542    ₹20,999\n",
      "2543      12500\n",
      "2544      99999\n",
      "2545     118199\n",
      "Name: price, Length: 2546, dtype: object\n"
     ]
    }
   ],
   "source": [
    "random_values('corpus')"
   ]
  },
  {
   "cell_type": "code",
   "execution_count": 28,
   "metadata": {},
   "outputs": [],
   "source": [
    "df['corpus'] = df['corpus'].str.lower()"
   ]
  },
  {
   "cell_type": "code",
   "execution_count": 29,
   "metadata": {},
   "outputs": [
    {
     "name": "stdout",
     "output_type": "stream",
     "text": [
      "1860 : storage256 gbram12  systemandroid q 11processor speed2.4 48mp 5g capacity4500 display size16.81 cm (6.62 inch)resolution2400 x 1080$$pixel 0         12980\n",
      "1         11499\n",
      "2         27990\n",
      "3         12185\n",
      "4         17600\n",
      "         ...   \n",
      "2541      28999\n",
      "2542    ₹20,999\n",
      "2543      12500\n",
      "2544      99999\n",
      "2545     118199\n",
      "name: price, length: 2546, dtype: object\n",
      "865 : storage64 gbram6 gbexpandable storage256gb  systemandroid pie 9processor typequalcomm snapdragon 675processor speed2 48mp 5mp 48mp 5mp 13mp 3g capacity4000 display size16.0 cm (6.3 inch)resolution2340 x 1080 pixelsresolution typefull hd+gpuadreno 612display typeips (in-cell), rdother display featurescontrast ratio - 1500:1, ntsc ratio - 81.41%, 2.5d glass (in-front), corning gorilla glass 5 (front and back), dot notch display 0         12980\n",
      "1         11499\n",
      "2         27990\n",
      "3         12185\n",
      "4         17600\n",
      "         ...   \n",
      "2541      28999\n",
      "2542    ₹20,999\n",
      "2543      12500\n",
      "2544      99999\n",
      "2545     118199\n",
      "name: price, length: 2546, dtype: object\n",
      "2158 : storage64 gbram4 gbexpandable storage1tb  systemandroid 12processor typemediatek helio g37processor speed2.3 50mp 8mp 2mp 2mp 50mp 8mp 2mp 2mp 16mp 16mp 4g capacity5000 display size16.51 cm (6.5 inch)resolution1600 x 720 pixelsresolution typehd+gpuimg ge8230display typehd+ ips lcd 90hz displayother display featuresdisplay aspect ratio: 20:9, screen-to-body ratio: 89.03%, 0         12980\n",
      "1         11499\n",
      "2         27990\n",
      "3         12185\n",
      "4         17600\n",
      "         ...   \n",
      "2541      28999\n",
      "2542    ₹20,999\n",
      "2543      12500\n",
      "2544      99999\n",
      "2545     118199\n",
      "name: price, length: 2546, dtype: object\n",
      "1507 : storage256 gbram8 gbexpandable storage256gb  systemandroid 11processor typemediatek helio g95processor speed2.05 64mp 8mp 2mp 2mp 64mp 8mp 2mp 2mp 16mp 16mp 4g capacity5000 display size17.65 cm (6.95 inch)resolution2460 x 1080 pixelsresolution typefull hd+display typefull hd+ ips in-cellother display features90hz refresh rate, 180hz touch sampling rate, tuv rheinland certified - low blue light, neg dinorex t2x-1 glass protection, 20.5:9 aspect ratio, 480 nits brightness, 90.1% screen-to-body ratio, 1500:1 contrast ratio 0         12980\n",
      "1         11499\n",
      "2         27990\n",
      "3         12185\n",
      "4         17600\n",
      "         ...   \n",
      "2541      28999\n",
      "2542    ₹20,999\n",
      "2543      12500\n",
      "2544      99999\n",
      "2545     118199\n",
      "name: price, length: 2546, dtype: object\n",
      "2135 : storage64 gbram3 gbexpandable storage512gb  systemandroid 12processor typemediatek helio g37processor speed2.3 13mp 8mp 4g capacity5000 display size16.76 cm (6.6 inch)resolution720 x 1600resolution typehd+gpupowervr ge8320display typeips lcdother display features90hz refresh rate 0         12980\n",
      "1         11499\n",
      "2         27990\n",
      "3         12185\n",
      "4         17600\n",
      "         ...   \n",
      "2541      28999\n",
      "2542    ₹20,999\n",
      "2543      12500\n",
      "2544      99999\n",
      "2545     118199\n",
      "name: price, length: 2546, dtype: object\n",
      "327 : storage64 gbram4 gbexpandable storage256gb  systemandroid pie 9processor typemediatek helioprocessor speed2 13mp 8mp 2mp 13mp 13mp 13mp 4g capacity6000 display size16.13 cm (6.35 inch)resolution720 x 1548 pixelsresolution typehd+display typeamoled 0         12980\n",
      "1         11499\n",
      "2         27990\n",
      "3         12185\n",
      "4         17600\n",
      "         ...   \n",
      "2541      28999\n",
      "2542    ₹20,999\n",
      "2543      12500\n",
      "2544      99999\n",
      "2545     118199\n",
      "name: price, length: 2546, dtype: object\n"
     ]
    }
   ],
   "source": [
    "random_values('corpus')"
   ]
  },
  {
   "cell_type": "code",
   "execution_count": 30,
   "metadata": {},
   "outputs": [
    {
     "data": {
      "text/plain": [
       "name        0\n",
       "ratings     0\n",
       "price       0\n",
       "imgURL      0\n",
       "corpus     12\n",
       "dtype: int64"
      ]
     },
     "execution_count": 30,
     "metadata": {},
     "output_type": "execute_result"
    }
   ],
   "source": [
    "df.isnull().sum()"
   ]
  },
  {
   "cell_type": "code",
   "execution_count": 31,
   "metadata": {},
   "outputs": [],
   "source": [
    "df.dropna(inplace=True,ignore_index=True)"
   ]
  },
  {
   "cell_type": "code",
   "execution_count": 32,
   "metadata": {},
   "outputs": [
    {
     "name": "stdout",
     "output_type": "stream",
     "text": [
      "words max_len in corpus is: 1413\n"
     ]
    }
   ],
   "source": [
    "max_len = 0\n",
    "for i in range(0, len(df['corpus'])):\n",
    "    try:\n",
    "        if len(df['corpus'][i]) > max_len:\n",
    "            max_len = len(df['corpus'][i])\n",
    "    except:\n",
    "        pass\n",
    "\n",
    "print(f'words max_len in corpus is: {max_len}')\n"
   ]
  },
  {
   "cell_type": "code",
   "execution_count": 33,
   "metadata": {},
   "outputs": [],
   "source": [
    "# df.sample(10)"
   ]
  },
  {
   "cell_type": "code",
   "execution_count": 34,
   "metadata": {},
   "outputs": [
    {
     "name": "stdout",
     "output_type": "stream",
     "text": [
      "1051 : https://rukminim2.flixcart.com/image/312/312/xif0q/mobile/i/l/y/spark-10c-10c-tecno-original-imagp4g8fd4gce3h.jpeg?q=70\n",
      "2219 : https://rukminim2.flixcart.com/image/312/312/jiklh8w0/mobile/f/h/2/mi-redmi-y1-mzb5754in-original-imaf6cagj2upvr5x.jpeg?q=70\n",
      "254 : https://rukminim2.flixcart.com/image/312/312/xif0q/mobile/m/e/8/-original-imagbwx4mqamdbzj.jpeg?q=70\n",
      "2376 : https://rukminim2.flixcart.com/image/312/312/xif0q/mobile/z/t/1/-original-imag6jm69crass7p.jpeg?q=70\n",
      "1202 : https://rukminim2.flixcart.com/image/312/312/xif0q/mobile/h/r/b/-original-imagh29eqd3zrvaf.jpeg?q=70\n",
      "753 : https://rukminim2.flixcart.com/image/312/312/k13w4280/mobile/p/p/4/apple-iphone-7-plus-mn4q2hn-a-original-imafkqfhjzsvghb8.jpeg?q=70\n"
     ]
    }
   ],
   "source": [
    "random_values('imgURL')"
   ]
  },
  {
   "cell_type": "markdown",
   "metadata": {},
   "source": [
    "## Model"
   ]
  },
  {
   "cell_type": "code",
   "execution_count": 35,
   "metadata": {},
   "outputs": [],
   "source": [
    "# vectorization\n",
    "from sklearn.feature_extraction.text import CountVectorizer"
   ]
  },
  {
   "cell_type": "code",
   "execution_count": 36,
   "metadata": {},
   "outputs": [],
   "source": [
    "cont_vect = CountVectorizer(max_features=1000)"
   ]
  },
  {
   "cell_type": "code",
   "execution_count": 37,
   "metadata": {},
   "outputs": [],
   "source": [
    "arrays = cont_vect.fit_transform(df['corpus'])"
   ]
  },
  {
   "cell_type": "code",
   "execution_count": 38,
   "metadata": {},
   "outputs": [],
   "source": [
    "vectors = arrays.toarray()"
   ]
  },
  {
   "cell_type": "code",
   "execution_count": 40,
   "metadata": {},
   "outputs": [
    {
     "data": {
      "text/plain": [
       "array(['00', '000', '02', '03', '04', '05', '07', '08', '09', '0mp',\n",
       "       '0primary', '0processor', '10', '100', '1000', '100000', '1000000',\n",
       "       '1000mhzdisplay', '100mp', '103', '104', '106', '1080',\n",
       "       '1080processor', '1080resolution', '108mp', '10mp', '10processor',\n",
       "       '11', '1100', '1125', '11499', '1170', '1179', '118199',\n",
       "       '11primary', '11processor', '12', '120', '1200', '1200processor',\n",
       "       '120hz', '12185', '1242', '12500', '1280processor', '1284', '1290',\n",
       "       '12980', '12mp', '12primary', '12processor', '13', '1300',\n",
       "       '1300processor', '1330', '1334', '135', '13mp', '13processor',\n",
       "       '14', '1400', '144', '1440', '144hz', '144hzother', '1480',\n",
       "       '14processor', '15', '1500', '1544', '15processor', '16', '160',\n",
       "       '1600', '16000', '1600resolution', '1612', '1640', '16mp',\n",
       "       '16processor', '17600', '18', '180', '180hz', '19', '1920',\n",
       "       '1920hz', '1processor', '20', '200', '2000000', '200mp', '20mp',\n",
       "       '21', '22', '23', '2340', '24', '240', '2400', '2400resolution',\n",
       "       '2408', '240hz', '2460', '24mp', '2541', '2542', '2543', '2544',\n",
       "       '2545', '2546', '25mm', '25mp', '26', '27', '27990', '28', '28999',\n",
       "       '2d', '2g', '2ghzprocessor', '2mm', '2mp', '2processor', '2x',\n",
       "       '2xhd', '30', '308display', '30hz', '32', '326', '32mp', '33',\n",
       "       '35', '36', '360', '37', '38', '39', '3d', '3dﾠtouch', '3g',\n",
       "       '3ghzprocessor', '3mp', '40', '400', '400nits', '401', '4096',\n",
       "       '40mp', '41', '420', '420nits', '425processor', '43', '430',\n",
       "       '430nit', '439processor', '44', '440', '44mm', '44mp', '45', '450',\n",
       "       '4500000', '450processor', '460processor', '46mm', '48', '480',\n",
       "       '480nits', '488', '48mp', '49', '4g', '4ghzprocessor', '4mp', '50',\n",
       "       '500', '5000000', '500nit', '500nits', '505', '505display',\n",
       "       '506display', '509display', '50hz', '50mp', '51', '512display',\n",
       "       '515', '52', '53', '54', '55', '550', '56', '57', '58', '59', '5d',\n",
       "       '5g', '5gprocessor', '5mp', '60', '600', '60000', '6020processor',\n",
       "       '60hz', '60mp', '61', '610', '610display', '612display',\n",
       "       '616display', '618display', '619display', '62', '625',\n",
       "       '625processor', '636processor', '63mp', '64', '640', '640display',\n",
       "       '642ldisplay', '64mp', '65', '650', '650display', '66', '660',\n",
       "       '660display', '662processor', '665', '665processor', '67',\n",
       "       '675processor', '680', '680processor', '69', '695', '695processor',\n",
       "       '6mm', '6processor', '70', '700', '700processor', '7050processor',\n",
       "       '70mm', '71', '712', '72', '720', '720gprocessor', '720resolution',\n",
       "       '73', '730display', '730processor', '732gprocessor', '74',\n",
       "       '740display', '75', '750', '750gprocessor', '76', '77', '778g',\n",
       "       '778gprocessor', '78', '7m', '7mother', '7mp', '7processor', '7t',\n",
       "       '80', '800', '800uprocessor', '81', '810', '8100processor',\n",
       "       '810processor', '82', '828', '83', '84', '85', '850',\n",
       "       '850processor', '855', '86', '865processor', '87', '870processor',\n",
       "       '87mm', '88', '888', '888processor', '89', '8mp', '8processor',\n",
       "       '90', '900', '900processor', '90hz', '90nit', '91', '92',\n",
       "       '920processor', '93', '94', '95', '950', '96', '9611',\n",
       "       '9611processor', '97', '98', '98mm', '99', '999', '99999',\n",
       "       '9processor', 'a10', 'a11', 'a22processor', 'a25processor',\n",
       "       'a618display', 'a9', 'aa', 'access', 'active', 'adaptive',\n",
       "       'adjustment', 'adreno', 'agc', 'aieprocessor', 'all', 'always',\n",
       "       'ambient', 'amoled', 'amoleddisplay', 'amoledhd', 'amoledother',\n",
       "       'an', 'and', 'android', 'angle', 'angles', 'anti', 'anywhere',\n",
       "       'area', 'aspect', 'at', 'auo', 'auto', 'back', 'backlit', 'based',\n",
       "       'bazel', 'bezel', 'billionother', 'bionic', 'bit', 'blue', 'body',\n",
       "       'border', 'bottom', 'brightness', 'by', 'c3', 'camera',\n",
       "       'capacitive', 'capacity1000', 'capacity1440', 'capacity1715',\n",
       "       'capacity2750', 'capacity2915', 'capacity3000', 'capacity3080',\n",
       "       'capacity3200', 'capacity3300', 'capacity3400', 'capacity3500',\n",
       "       'capacity3700', 'capacity3900', 'capacity4000', 'capacity4015',\n",
       "       'capacity4020', 'capacity4030', 'capacity4050', 'capacity4100',\n",
       "       'capacity4200', 'capacity4230', 'capacity4250', 'capacity4300',\n",
       "       'capacity4400', 'capacity4500', 'capacity4520', 'capacity4600',\n",
       "       'capacity4700', 'capacity4800', 'capacity4830', 'capacity5000',\n",
       "       'capacity5020', 'capacity5160', 'capacity6000', 'capacity7000',\n",
       "       'capacity800', 'care', 'cd', 'cell', 'celldisplay', 'cellother',\n",
       "       'certification', 'certified', 'channel', 'characters', 'chip',\n",
       "       'clear', 'clock', 'cm', 'coating', 'cof', 'cog', 'color',\n",
       "       'colorother', 'colors', 'colors1', 'colors10', 'colors16',\n",
       "       'colors16m', 'colors16mother', 'colors65', 'colorscontrast',\n",
       "       'colour', 'comfort', 'contrast', 'control', 'core', 'coredisplay',\n",
       "       'coreocta', 'coreprocessor', 'corning', 'cover', 'coverage',\n",
       "       'curved', 'cut', 'dc', 'dci', 'degree', 'design', 'designed',\n",
       "       'dewdrop', 'diagonal', 'dimensity', 'dimming', 'dinorex',\n",
       "       'display', 'displaydisplay', 'displaygpu4', 'displaygpu5',\n",
       "       'displaygpuadreno', 'displaygpuarm', 'displaygpupowervr',\n",
       "       'displaygpuqualcomm', 'displayhd', 'displaymate', 'displayother',\n",
       "       'dolby', 'domain', 'dot', 'down', 'dtype', 'dual', 'dynamic', 'e3',\n",
       "       'e5', 'edge', 'edition', 'endless', 'enhancer', 'experience',\n",
       "       'exynos', 'eye', 'f01', 'face', 'faster', 'features120',\n",
       "       'features1200nits', 'features120hz', 'features1300',\n",
       "       'features1400', 'features16', 'features180', 'features180hz',\n",
       "       'features19', 'features2', 'features20', 'features6', 'features60',\n",
       "       'features89', 'features90', 'features90hz', 'featuresadaptive',\n",
       "       'featuresaspect', 'featuresbezel', 'featurescontrast',\n",
       "       'featurescorning', 'featuresdisplay', 'featuresdolby',\n",
       "       'featuresdynamic', 'featureshalo', 'featureshdr', 'featuresin',\n",
       "       'featuresips', 'featuresled', 'featuresmulti', 'featuresnarrow',\n",
       "       'featureson', 'featuresrefresh', 'featuresretina',\n",
       "       'featuresscreen', 'featuressuper', 'featurestouch',\n",
       "       'featuresvideo', 'featureswidescreen', 'fhd', 'film', 'finger',\n",
       "       'fingerprint', 'fluiddisplay', 'for', 'fps', 'frame', 'from',\n",
       "       'front', 'full', 'fullview', 'fusion', 'g25processor',\n",
       "       'g35processor', 'g37processor', 'g52', 'g52display', 'g57',\n",
       "       'g57display', 'g610', 'g68', 'g68display', 'g70processor', 'g71',\n",
       "       'g72', 'g76', 'g76display', 'g77', 'g77display', 'g80processor',\n",
       "       'g85processor', 'g88processor', 'g90tprocessor', 'g95processor',\n",
       "       'g96processor', 'g99processor', 'game', 'gameplay', 'gamut',\n",
       "       'gbexpandable', 'gbram1', 'gbram12', 'gbram128', 'gbram16',\n",
       "       'gbram2', 'gbram3', 'gbram4', 'gbram6', 'gbram8', 'gbtotal',\n",
       "       'ge8320', 'ge8320display', 'gen', 'generation', 'gentle',\n",
       "       'gestures', 'gg3', 'gg5', 'ghz', 'ghzprocessor', 'glass', 'go',\n",
       "       'goprocessor', 'gorilla', 'gpu', 'gpuadreno', 'gpuarm',\n",
       "       'gpuge8320display', 'gpuimagination', 'gpuimg', 'gpumali',\n",
       "       'gpupowervr', 'gpuqualcomm', 'graphics', 'gt7600', 'halo',\n",
       "       'haptic', 'hbm', 'hd', 'hdgpuadreno', 'hdgpuarm', 'hdr', 'hdr10',\n",
       "       'helio', 'high', 'hios', 'hole', 'hz', 'in', 'incell', 'inch',\n",
       "       'increase', 'infinity', 'intensive', 'ion', 'ips', 'ipsdisplay',\n",
       "       'ipsother', 'is', 'island', 'kitkat', 'languages', 'layer', 'lcd',\n",
       "       'lcddisplay', 'lcdhd', 'lcdother', 'led', 'left', 'length',\n",
       "       'level', 'light', 'liquid', 'local', 'lollipop', 'low', 'lower',\n",
       "       'ltps', 'm2', 'main', 'mali', 'marshmallow', 'material', 'max',\n",
       "       'maximum', 'mbram4', 'mc2', 'mc2display', 'mc3display',\n",
       "       'mc4display', 'mc6display', 'mc9display', 'memc', 'memory128gb',\n",
       "       'memory64gb', 'metal', 'mhz', 'mhzdisplay', 'millionother', 'min',\n",
       "       'minimum', 'miui', 'mm', 'mn228', 'mode', 'more', 'mother',\n",
       "       'motion', 'mp12display', 'mp1display', 'mp2display', 'mp3',\n",
       "       'mp3display', 'mp4display', 'mt6762processor', 'mt6765', 'multi',\n",
       "       'multiple', 'name', 'nano', 'narrow', 'neg', 'new', 'night', 'nit',\n",
       "       'nits', 'nm', 'no', 'normal', 'notch', 'notmentioned', 'nougat',\n",
       "       'ntsc', 'object', 'octa', 'of', 'off', 'oled', 'oleophobic',\n",
       "       'oleophpbic', 'on', 'oncell', 'oneplus', 'optimised', 'oreo', 'os',\n",
       "       'other', 'outdoor', 'outside', 'over', 'oxygen', 'oxygenos',\n",
       "       'oxygenosprocessor', 'p22', 'p22processor', 'p2i', 'p3', 'p35',\n",
       "       'p35processor', 'p60', 'p70', 'p70processor', 'p95processor',\n",
       "       'panda', 'panel', 'peak', 'performance', 'phone', 'pie', 'pixel',\n",
       "       'pixelgpuadreno', 'pixelresolution', 'pixels', 'pixelsdisplay',\n",
       "       'pixelsgpuadreno', 'pixelsgpuapple', 'pixelsgpuarm',\n",
       "       'pixelsresolution', 'plusprocessor', 'points', 'poled', 'powervr',\n",
       "       'ppi', 'price', 'print', 'pro', 'process', 'processor',\n",
       "       'processorprocessor', 'promotion', 'proof', 'proportion',\n",
       "       'protected', 'protection', 'protective', 'pwm', 'pwm2160hz',\n",
       "       'quad', 'rate', 'rates', 'ratio', 'rdother', 'reachability',\n",
       "       'reading', 'refresh', 'resistant', 'resolution', 'resolution1080',\n",
       "       'resolution1080x2400', 'resolution1136', 'resolution128',\n",
       "       'resolution1280', 'resolution1334', 'resolution1440',\n",
       "       'resolution1520', 'resolution1560', 'resolution1600',\n",
       "       'resolution1600x720', 'resolution1612', 'resolution1640',\n",
       "       'resolution1650', 'resolution1650x720', 'resolution1792',\n",
       "       'resolution1920', 'resolution1920x1080', 'resolution2160',\n",
       "       'resolution2160x1080', 'resolution2280', 'resolution2340',\n",
       "       'resolution2376', 'resolution2400', 'resolution2400x1080',\n",
       "       'resolution2404', 'resolution2408', 'resolution2412',\n",
       "       'resolution2436', 'resolution2460', 'resolution2532',\n",
       "       'resolution2556', 'resolution2640', 'resolution2688',\n",
       "       'resolution2772x1240', 'resolution2778', 'resolution2796',\n",
       "       'resolution3088', 'resolution3216', 'resolution720',\n",
       "       'resolution720x1600', 'resolution750', 'response', 'retina',\n",
       "       'rheinland', 'right', 's5e8535', 'samoled', 'sampling', 'samsung',\n",
       "       'saturation', 'sc9863a1processor', 'schott', 'scratch', 'screen',\n",
       "       'sdm450', 'sealing', 'seamless', 'sensor', 'sgs', 'si', 'side',\n",
       "       'simultaneously', 'six', 'size', 'size10', 'size11', 'size12',\n",
       "       'size13', 'size14', 'size15', 'size16', 'size17', 'size19',\n",
       "       'size5', 'smooth', 'snapdragon', 'space', 'speed1', 'speed2',\n",
       "       'speed208', 'speed3', 'speed90', 'splash', 'srgb', 'standard',\n",
       "       'static', 'storage1024', 'storage128', 'storage128gb', 'storage16',\n",
       "       'storage1tb', 'storage2', 'storage256', 'storage256gb',\n",
       "       'storage2tb', 'storage32', 'storage512', 'storage512gb',\n",
       "       'storage6', 'storage64', 'storage8', 'stroboscopic', 'sunlight',\n",
       "       'sunshine', 'super', 'supplier', 'support', 'supports',\n",
       "       'supportyes', 'supportyesdisplay', 'supportyesother', 'sync',\n",
       "       'systemandroid', 'systemandroidprocessor', 'systemios', 't2x',\n",
       "       't606processor', 't610processor', 't612processor', 't616processor',\n",
       "       't830', 'tap', 'technology', 'technologyhd', 'technologyother',\n",
       "       'temperature', 'texture', 'tft', 'tftother', 'than', 'that', 'the',\n",
       "       'to', 'tone', 'top', 'touch', 'tp', 'true', 'tsr', 'tuv', 'typ',\n",
       "       'type', 'type2', 'typea10', 'typea11', 'typea12', 'typea13',\n",
       "       'typea14', 'typea15', 'typea16', 'typea6', 'typea8', 'typea9',\n",
       "       'typeall', 'typeamoled', 'typeamoleddisplay', 'typeamoledother',\n",
       "       'typeapple', 'typecapacitive', 'typedimensity', 'typedotdisplayhd',\n",
       "       'typedynamic', 'typeexynos', 'typefhd', 'typefluid', 'typefull',\n",
       "       'typeg37processor', 'typehd', 'typehddisplay', 'typehdgpuadreno',\n",
       "       'typehdgpumali', 'typehelio', 'typein', 'typeips', 'typeipsother',\n",
       "       'typelcdhd', 'typelcdother', 'typeled', 'typeli', 'typeliquid',\n",
       "       'typemediatek', 'typemt6763tprocessor', 'typemtk', 'typeocta',\n",
       "       'typepls', 'typequad', 'typequalcomm', 'typeretina', 'typesamsung',\n",
       "       'typesec', 'typesnapdragon', 'typesuper', 'typetft',\n",
       "       'typetftdisplay', 'typetfthd', 'typeunisoc', 'typewidescreen',\n",
       "       'typical', 'tüv', 'ultra', 'under', 'unlock', 'up', 'upper',\n",
       "       'upto', 'usb', 'value', 'victus', 'view', 'viewing', 'vision',\n",
       "       'visuals', 'vivid', 'wake', 'waterdrop', 'wide', 'widescreen',\n",
       "       'will', 'with', 'xdr', 'xensation', 'you', 'zoom'], dtype=object)"
      ]
     },
     "execution_count": 40,
     "metadata": {},
     "output_type": "execute_result"
    }
   ],
   "source": [
    "cont_vect.get_feature_names_out()"
   ]
  },
  {
   "cell_type": "markdown",
   "metadata": {},
   "source": [
    "## Calculating cosine similarity"
   ]
  },
  {
   "cell_type": "code",
   "execution_count": 41,
   "metadata": {},
   "outputs": [],
   "source": [
    "from sklearn.metrics.pairwise import cosine_similarity"
   ]
  },
  {
   "cell_type": "code",
   "execution_count": 42,
   "metadata": {},
   "outputs": [
    {
     "data": {
      "text/plain": [
       "(2534, 2534)"
      ]
     },
     "execution_count": 42,
     "metadata": {},
     "output_type": "execute_result"
    }
   ],
   "source": [
    "similarity = cosine_similarity(vectors)\n",
    "similarity.shape # this is because I have calculated the similarity among all the rows to all the rows(confusing?? but try to understand)"
   ]
  },
  {
   "cell_type": "code",
   "execution_count": 43,
   "metadata": {},
   "outputs": [
    {
     "data": {
      "text/plain": [
       "array([0.82051282, 0.52067056, 0.72733407, ..., 0.5547002 , 0.38697637,\n",
       "       0.40803605])"
      ]
     },
     "execution_count": 43,
     "metadata": {},
     "output_type": "execute_result"
    }
   ],
   "source": [
    "similarity[3]"
   ]
  },
  {
   "cell_type": "code",
   "execution_count": 44,
   "metadata": {},
   "outputs": [
    {
     "data": {
      "text/plain": [
       "[(226, 1.0000000000000002),\n",
       " (1859, 1.0000000000000002),\n",
       " (1407, 0.9743589743589745),\n",
       " (1771, 0.9743589743589745),\n",
       " (2415, 0.9743589743589745),\n",
       " (2410, 0.9487179487179489),\n",
       " (2253, 0.9230769230769232),\n",
       " (452, 0.9091675835657296),\n",
       " (707, 0.9091675835657296),\n",
       " (1745, 0.9091675835657296)]"
      ]
     },
     "execution_count": 44,
     "metadata": {},
     "output_type": "execute_result"
    }
   ],
   "source": [
    "sorted(list(enumerate(similarity[0])),reverse=True,key=lambda x:x[1])[1:11]"
   ]
  },
  {
   "cell_type": "code",
   "execution_count": 45,
   "metadata": {},
   "outputs": [],
   "source": [
    "def recommend(mobile):\n",
    "    mobile_index = df[df['name']==mobile].index[0]\n",
    "    similarity_array = similarity[mobile_index]\n",
    "    similar_10_mobiles = sorted(list(enumerate(similarity_array)),reverse=True,key=lambda x:x[1])[1:11]\n",
    "    \n",
    "    for i in similar_10_mobiles:\n",
    "        print(df['name'].iloc[i[0]])\n",
    "\n"
   ]
  },
  {
   "cell_type": "code",
   "execution_count": 46,
   "metadata": {},
   "outputs": [
    {
     "name": "stdout",
     "output_type": "stream",
     "text": [
      "APPLE iPhone 13 mini (Blue, 128 GB)\n",
      "APPLE iPhone 13 mini (Starlight, 128 GB)\n",
      "APPLE iPhone 13 mini ((PRODUCT)RED, 128 GB)\n",
      "APPLE iPhone 13 mini (Blue, 256 GB)\n",
      "APPLE iPhone 13 mini (Starlight, 256 GB)\n",
      "APPLE iPhone 13 mini (Midnight, 128 GB)\n",
      "APPLE iPhone 13 mini ((PRODUCT)RED, 512 GB)\n",
      "APPLE iPhone 13 mini (Midnight, 256 GB)\n",
      "APPLE iPhone 13 mini (Midnight, 512 GB)\n",
      "APPLE iPhone 13 mini (Green, 256 GB)\n"
     ]
    }
   ],
   "source": [
    "recommend('APPLE iPhone 13 mini (Blue, 128 GB)')"
   ]
  },
  {
   "cell_type": "markdown",
   "metadata": {},
   "source": [
    "## making Pickle file of df and similarities to use in web"
   ]
  },
  {
   "cell_type": "code",
   "execution_count": 24,
   "metadata": {},
   "outputs": [],
   "source": [
    "os.makedirs(r'src\\model',exist_ok=True)"
   ]
  },
  {
   "cell_type": "code",
   "execution_count": 25,
   "metadata": {},
   "outputs": [],
   "source": [
    "pickle.dump(obj=df,file=open(file=r'src\\model\\dataframe.pkl',mode='wb'))"
   ]
  },
  {
   "cell_type": "code",
   "execution_count": 26,
   "metadata": {},
   "outputs": [],
   "source": [
    "pickle.dump(obj=similarity,file=open(file=r'src\\model\\similarity.pkl',mode='wb'))"
   ]
  },
  {
   "cell_type": "code",
   "execution_count": null,
   "metadata": {},
   "outputs": [],
   "source": []
  }
 ],
 "metadata": {
  "kernelspec": {
   "display_name": "Python 3",
   "language": "python",
   "name": "python3"
  },
  "language_info": {
   "codemirror_mode": {
    "name": "ipython",
    "version": 3
   },
   "file_extension": ".py",
   "mimetype": "text/x-python",
   "name": "python",
   "nbconvert_exporter": "python",
   "pygments_lexer": "ipython3",
   "version": "3.11.3"
  },
  "orig_nbformat": 4
 },
 "nbformat": 4,
 "nbformat_minor": 2
}
