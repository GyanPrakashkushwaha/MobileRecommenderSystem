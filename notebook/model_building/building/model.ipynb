{
 "cells": [
  {
   "cell_type": "code",
   "execution_count": 16,
   "metadata": {},
   "outputs": [],
   "source": [
    "import pandas as pd\n",
    "import numpy as np\n",
    "import os\n",
    "from typing import Callable # this is to define test_func functions dtype as function itself\n",
    "import re # for regural expression\n",
    "import warnings\n",
    "warnings.filterwarnings('ignore')\n",
    "\n",
    "\n",
    "os.chdir(r'd:\\vscode_machineLearning\\BEST_PROJECTS\\mobileRecommenderSystem')"
   ]
  },
  {
   "cell_type": "code",
   "execution_count": 17,
   "metadata": {},
   "outputs": [
    {
     "data": {
      "text/plain": [
       "'d:\\\\vscode_machineLearning\\\\BEST_PROJECTS\\\\mobileRecommenderSystem'"
      ]
     },
     "execution_count": 17,
     "metadata": {},
     "output_type": "execute_result"
    }
   ],
   "source": [
    "os.getcwd()"
   ]
  },
  {
   "cell_type": "code",
   "execution_count": 18,
   "metadata": {},
   "outputs": [],
   "source": [
    "df = pd.read_csv(r'data\\final_dataFrame.csv',index_col=False)"
   ]
  },
  {
   "cell_type": "code",
   "execution_count": 19,
   "metadata": {},
   "outputs": [],
   "source": [
    "def random_values(col_name:str,total=6):\n",
    "    for i in range(0,total):\n",
    "        index = np.random.randint(df.shape[0])\n",
    "        print(index,':',df[col_name].iloc[index])        "
   ]
  },
  {
   "cell_type": "code",
   "execution_count": 22,
   "metadata": {},
   "outputs": [
    {
     "name": "stdout",
     "output_type": "stream",
     "text": [
      "1737 : Storage256  SystemiOS 14Processor TypeA14 Bionic Chip 12MP 12MP 12MP 12MP 12MP 5G notMentioned Display Size15.49 cm (6.1 inch)Resolution2532 x 1170 PixelsResolution TypeSuper Retina XDR DisplayDisplay TypeSuper Retina XDR DisplayOther Display FeaturesSuper Retina XDR Display, 6.1 inch (Diagonal) All Screen OLED Display, HDR Display, True Tone, Wide Colour (P3), Haptic Touch, 2000000:1 Contrast Ratio (Typical), 625 nits Max Brightness (Typical); 1200 nits Max Brightness (HDR), Fingerprint-resistant Oleophobic Coating, Support for Display of Multiple Languages and Characters Simultaneously\n",
      "90 : Storage128 GBRAM8  SystemAndroid 12Processor Speed2.2 50MP 5G Capacity5000 Display Size17.02 cm (6.7 inch)Resolution2400 x 1080 pixel\n",
      "367 : Storage256 GBRAM8  SystemAndroid 11Processor TypeQualcomm Snapdragon 888 Octa-CoreProcessor Speed2.84 12MP 12MP 10MP 10MP 5G Capacity3300 Display Size17.02 cm (6.7 inch)Resolution2640 x 1080 PixelsResolution TypeFull HD+Display TypeFull HD+ Dynamic AMOLED 2X DisplayDisplay Colors16MOther Display Features6.7 inch Dynamic AMOLED 2X Main Display with Adaptive 120Hz Refresh rate & 1.9 inch Super AMOLED Cover Display with 60Hz Refresh rate\n",
      "784 : Storage32 GBRAM3 GBExpandable Storage256GB  SystemAndroid Nougat 7Processor TypeMediatek MT6750 Octa Core 1.5GHzProcessor Speed1.5 13MP 16MP 3G Capacity3000 Display Size13.97 cm (5.5 inch)Resolution1280 x 720 pixelsResolution TypeHDGPUARM MaIi - T860 MP2Display TypeIPSOther Display Features2.5D Glass and Eye Protection Mode\n",
      "1192 : Storage128 SystemiOS 12Processor TypeApple A10 Fusion 12MP 12MP 7MP 3G TypeLi-Ion Display Size13.94 cm (5.488 inch)Resolution1920 x 1080 PixelsResolution TypeRetina HD DisplayDisplay TypeLED-backlit IPSOther Display FeaturesRetina HD Display, Multi-touch Display, 1300:1 Contrast Ratio, Wide Color Display (P3), 625 cd/m2 Maximum Brightness, Dual Domain Pixels for Wide Viewing Angles, Fingerprint Resistant Oleophobic Coating, Display of Multiple Languages and Characters Simultaneously, Display Zoom, Reachability\n",
      "2003 : Storage64 GBRAM6 GBExpandable Storage512GB  SystemAndroid Pie 9Processor TypeMediaTek Helio G90TProcessor Speed2.05 64MP 8MP 2MP 2MP 20MP 4G Capacity4500 Display Size16.59 cm (6.53 inch)Resolution2340 x 1080 PixelsResolution TypeFull HD+GPUARM Mali G76 MC4 (800 MHz)Display TypeFull HD+ HDR DisplayDisplay Colors16MOther Display FeaturesDual Corning Gorilla Glass 5 Protection (with Curved 3D GG5 Back), COF Technology, Brightness: 500 nit (Typical) / 420 nit (Minimum), Contrast: 1500:1 (Typical), NTSC: 84% (Typical), Splash-proof Design (Protected by P2i)\n"
     ]
    }
   ],
   "source": [
    "random_values('corpus')"
   ]
  },
  {
   "cell_type": "code",
   "execution_count": null,
   "metadata": {},
   "outputs": [],
   "source": []
  }
 ],
 "metadata": {
  "kernelspec": {
   "display_name": "Python 3",
   "language": "python",
   "name": "python3"
  },
  "language_info": {
   "codemirror_mode": {
    "name": "ipython",
    "version": 3
   },
   "file_extension": ".py",
   "mimetype": "text/x-python",
   "name": "python",
   "nbconvert_exporter": "python",
   "pygments_lexer": "ipython3",
   "version": "3.11.3"
  },
  "orig_nbformat": 4
 },
 "nbformat": 4,
 "nbformat_minor": 2
}
