{
 "cells": [
  {
   "cell_type": "code",
   "execution_count": 59,
   "metadata": {},
   "outputs": [],
   "source": [
    "import pandas as pd\n",
    "import numpy as np\n",
    "import os\n",
    "from typing import Callable # this is to define test_func functions dtype as function itself\n",
    "import re # for regural expression\n",
    "import warnings\n",
    "warnings.filterwarnings('ignore')\n",
    "import pickle # for pickling my model\n",
    "\n",
    "os.chdir(r'd:\\vscode_machineLearning\\BEST_PROJECTS\\mobileRecommenderSystem')"
   ]
  },
  {
   "cell_type": "code",
   "execution_count": 60,
   "metadata": {},
   "outputs": [
    {
     "data": {
      "text/plain": [
       "'d:\\\\vscode_machineLearning\\\\BEST_PROJECTS\\\\mobileRecommenderSystem'"
      ]
     },
     "execution_count": 60,
     "metadata": {},
     "output_type": "execute_result"
    }
   ],
   "source": [
    "os.getcwd()"
   ]
  },
  {
   "cell_type": "code",
   "execution_count": 61,
   "metadata": {},
   "outputs": [],
   "source": [
    "df = pd.read_csv(r'data\\final_dataFrame.csv',index_col=False)"
   ]
  },
  {
   "cell_type": "code",
   "execution_count": 62,
   "metadata": {},
   "outputs": [
    {
     "data": {
      "text/html": [
       "<div>\n",
       "<style scoped>\n",
       "    .dataframe tbody tr th:only-of-type {\n",
       "        vertical-align: middle;\n",
       "    }\n",
       "\n",
       "    .dataframe tbody tr th {\n",
       "        vertical-align: top;\n",
       "    }\n",
       "\n",
       "    .dataframe thead th {\n",
       "        text-align: right;\n",
       "    }\n",
       "</style>\n",
       "<table border=\"1\" class=\"dataframe\">\n",
       "  <thead>\n",
       "    <tr style=\"text-align: right;\">\n",
       "      <th></th>\n",
       "      <th>name</th>\n",
       "      <th>ratings</th>\n",
       "      <th>price</th>\n",
       "      <th>imgURL</th>\n",
       "      <th>corpus</th>\n",
       "    </tr>\n",
       "  </thead>\n",
       "  <tbody>\n",
       "    <tr>\n",
       "      <th>83</th>\n",
       "      <td>APPLE iPhone 14 (Yellow, 512 GB)</td>\n",
       "      <td>4.6</td>\n",
       "      <td>₹99,999</td>\n",
       "      <td>https://rukminim2.flixcart.com/image/312/312/x...</td>\n",
       "      <td>Storage512  SystemiOS 16Processor TypeA15 Bion...</td>\n",
       "    </tr>\n",
       "    <tr>\n",
       "      <th>1615</th>\n",
       "      <td>Tecno Pop 5 LTE (Deepsea Luster, 32 GB)</td>\n",
       "      <td>4.2</td>\n",
       "      <td>₹6,464</td>\n",
       "      <td>https://rukminim2.flixcart.com/image/312/312/k...</td>\n",
       "      <td>Storage32 GBRAM2 GBExpandable Storage256GB  Sy...</td>\n",
       "    </tr>\n",
       "    <tr>\n",
       "      <th>1012</th>\n",
       "      <td>APPLE iPhone 11 Pro (Silver, 64 GB)</td>\n",
       "      <td>4.6</td>\n",
       "      <td>₹1,06,600</td>\n",
       "      <td>https://rukminim2.flixcart.com/image/312/312/k...</td>\n",
       "      <td>Storage64  SystemiOS 13Processor TypeA13 Bioni...</td>\n",
       "    </tr>\n",
       "    <tr>\n",
       "      <th>301</th>\n",
       "      <td>SAMSUNG Galaxy A22 (Mint, 128 GB)</td>\n",
       "      <td>4.2</td>\n",
       "      <td>₹20,499</td>\n",
       "      <td>https://rukminim2.flixcart.com/image/312/312/k...</td>\n",
       "      <td>Storage128 GBRAM6 GBExpandable Storage1TB  Sys...</td>\n",
       "    </tr>\n",
       "    <tr>\n",
       "      <th>1871</th>\n",
       "      <td>Infinix HOT 30i (Marigold, 64 GB)</td>\n",
       "      <td>4.3</td>\n",
       "      <td>₹7,999</td>\n",
       "      <td>https://rukminim2.flixcart.com/image/312/312/x...</td>\n",
       "      <td>Storage64 GBRAM4 GBExpandable Storage1TB  Syst...</td>\n",
       "    </tr>\n",
       "    <tr>\n",
       "      <th>1747</th>\n",
       "      <td>MOTOROLA G40 Fusion (Frosted Champagne, 64 GB)</td>\n",
       "      <td>4.2</td>\n",
       "      <td>₹10,999</td>\n",
       "      <td>https://rukminim2.flixcart.com/image/312/312/k...</td>\n",
       "      <td>Storage64 GBRAM4  SystemAndroid 11Processor Ty...</td>\n",
       "    </tr>\n",
       "    <tr>\n",
       "      <th>557</th>\n",
       "      <td>OPPO A71k (New Edition) (Blue, 16 GB)</td>\n",
       "      <td>4.3</td>\n",
       "      <td>₹10,990</td>\n",
       "      <td>https://rukminim2.flixcart.com/image/312/312/j...</td>\n",
       "      <td>Storage16 GBRAM3 GBExpandable Storage256GB  Sy...</td>\n",
       "    </tr>\n",
       "    <tr>\n",
       "      <th>502</th>\n",
       "      <td>SAMSUNG Guru Music 2</td>\n",
       "      <td>4.1</td>\n",
       "      <td>₹2,849</td>\n",
       "      <td>https://rukminim2.flixcart.com/image/312/312/k...</td>\n",
       "      <td>StorageNA KBRAM0.53Total Memory16 GBExpandable...</td>\n",
       "    </tr>\n",
       "    <tr>\n",
       "      <th>1466</th>\n",
       "      <td>APPLE iPhone 12 Pro (Gold, 256 GB)</td>\n",
       "      <td>4.5</td>\n",
       "      <td>₹88,199</td>\n",
       "      <td>https://rukminim2.flixcart.com/image/312/312/k...</td>\n",
       "      <td>Storage256  SystemiOS 14Processor TypeA14 Bion...</td>\n",
       "    </tr>\n",
       "    <tr>\n",
       "      <th>1033</th>\n",
       "      <td>vivo Y51A (Crystal Symphony, 128 GB)</td>\n",
       "      <td>4.3</td>\n",
       "      <td>₹16,990</td>\n",
       "      <td>https://rukminim2.flixcart.com/image/312/312/k...</td>\n",
       "      <td>Storage128 GBRAM6 GBExpandable Storage1TB  Sys...</td>\n",
       "    </tr>\n",
       "  </tbody>\n",
       "</table>\n",
       "</div>"
      ],
      "text/plain": [
       "                                                name  ratings      price   \n",
       "83                  APPLE iPhone 14 (Yellow, 512 GB)      4.6    ₹99,999  \\\n",
       "1615         Tecno Pop 5 LTE (Deepsea Luster, 32 GB)      4.2     ₹6,464   \n",
       "1012             APPLE iPhone 11 Pro (Silver, 64 GB)      4.6  ₹1,06,600   \n",
       "301                SAMSUNG Galaxy A22 (Mint, 128 GB)      4.2    ₹20,499   \n",
       "1871               Infinix HOT 30i (Marigold, 64 GB)      4.3     ₹7,999   \n",
       "1747  MOTOROLA G40 Fusion (Frosted Champagne, 64 GB)      4.2    ₹10,999   \n",
       "557            OPPO A71k (New Edition) (Blue, 16 GB)      4.3    ₹10,990   \n",
       "502                             SAMSUNG Guru Music 2      4.1     ₹2,849   \n",
       "1466              APPLE iPhone 12 Pro (Gold, 256 GB)      4.5    ₹88,199   \n",
       "1033            vivo Y51A (Crystal Symphony, 128 GB)      4.3    ₹16,990   \n",
       "\n",
       "                                                 imgURL   \n",
       "83    https://rukminim2.flixcart.com/image/312/312/x...  \\\n",
       "1615  https://rukminim2.flixcart.com/image/312/312/k...   \n",
       "1012  https://rukminim2.flixcart.com/image/312/312/k...   \n",
       "301   https://rukminim2.flixcart.com/image/312/312/k...   \n",
       "1871  https://rukminim2.flixcart.com/image/312/312/x...   \n",
       "1747  https://rukminim2.flixcart.com/image/312/312/k...   \n",
       "557   https://rukminim2.flixcart.com/image/312/312/j...   \n",
       "502   https://rukminim2.flixcart.com/image/312/312/k...   \n",
       "1466  https://rukminim2.flixcart.com/image/312/312/k...   \n",
       "1033  https://rukminim2.flixcart.com/image/312/312/k...   \n",
       "\n",
       "                                                 corpus  \n",
       "83    Storage512  SystemiOS 16Processor TypeA15 Bion...  \n",
       "1615  Storage32 GBRAM2 GBExpandable Storage256GB  Sy...  \n",
       "1012  Storage64  SystemiOS 13Processor TypeA13 Bioni...  \n",
       "301   Storage128 GBRAM6 GBExpandable Storage1TB  Sys...  \n",
       "1871  Storage64 GBRAM4 GBExpandable Storage1TB  Syst...  \n",
       "1747  Storage64 GBRAM4  SystemAndroid 11Processor Ty...  \n",
       "557   Storage16 GBRAM3 GBExpandable Storage256GB  Sy...  \n",
       "502   StorageNA KBRAM0.53Total Memory16 GBExpandable...  \n",
       "1466  Storage256  SystemiOS 14Processor TypeA14 Bion...  \n",
       "1033  Storage128 GBRAM6 GBExpandable Storage1TB  Sys...  "
      ]
     },
     "execution_count": 62,
     "metadata": {},
     "output_type": "execute_result"
    }
   ],
   "source": [
    "df.sample(10)"
   ]
  },
  {
   "cell_type": "code",
   "execution_count": 63,
   "metadata": {},
   "outputs": [],
   "source": [
    "def random_values(col_name:str,total=6):\n",
    "    for i in range(0,total):\n",
    "        index = np.random.randint(df.shape[0])\n",
    "        print(index,':',df[col_name].iloc[index])        "
   ]
  },
  {
   "cell_type": "code",
   "execution_count": 64,
   "metadata": {},
   "outputs": [
    {
     "name": "stdout",
     "output_type": "stream",
     "text": [
      "2145 : Storage64 GBRAM6  SystemAndroid Q 10Processor TypeQualcomm® Snapdragon™ 765GProcessor Speed2.4 48MP 8MP 32MP 8MP 5G Capacity4115 Display Size16.36 cm (6.44 inch)Resolution2400 x 1080$$pixelResolution TypeFull HD+GPUAdreno 620Display Typefluid AmoledOther Display FeaturesVideo enhancer\n",
      "Reading mode\n",
      "Night mode 0         ₹15,248\n",
      "1         ₹34,990\n",
      "2          ₹8,999\n",
      "3         ₹18,999\n",
      "4         ₹12,499\n",
      "          ...    \n",
      "2541    ₹1,00,999\n",
      "2542      ₹11,990\n",
      "2543      ₹29,800\n",
      "2544      ₹16,990\n",
      "2545      ₹13,990\n",
      "Name: price, Length: 2546, dtype: object\n",
      "686 : Storage64 GBRAM4 GBExpandable Storage512GB  SystemAndroid Pie 9Processor TypeQualcomm Snapdragon 439Processor Speed1.95 12MP 2MP 12MP 8MP 4G Capacity5000 Display Size15.8 cm (6.22 inch)Resolution1520 x 720 PixelsResolution TypeHD+GPUAdreno 505 at 650 MHzOther Display FeaturesScreen Protection: Gorilla Glass 5 (Front Glass), Screen Mirror/Cast 0         ₹15,248\n",
      "1         ₹34,990\n",
      "2          ₹8,999\n",
      "3         ₹18,999\n",
      "4         ₹12,499\n",
      "          ...    \n",
      "2541    ₹1,00,999\n",
      "2542      ₹11,990\n",
      "2543      ₹29,800\n",
      "2544      ₹16,990\n",
      "2545      ₹13,990\n",
      "Name: price, Length: 2546, dtype: object\n",
      "345 : Storage64 GBRAM6 GBExpandable Storage256GB  SystemAndroid Nougat 7.1.1Processor Speed2.3 12MP 12MP 8MP 3G Capacity3300 Display Size16.0 cm (6.3 inch)Resolution2960 x 1440 PixelsResolution TypeQuad HD+Display TypeDual Edge Super AMOLEDDisplay Colors16M 0         ₹15,248\n",
      "1         ₹34,990\n",
      "2          ₹8,999\n",
      "3         ₹18,999\n",
      "4         ₹12,499\n",
      "          ...    \n",
      "2541    ₹1,00,999\n",
      "2542      ₹11,990\n",
      "2543      ₹29,800\n",
      "2544      ₹16,990\n",
      "2545      ₹13,990\n",
      "Name: price, Length: 2546, dtype: object\n",
      "2132 : Storage128 GBRAM8  SystemAndroid 12Processor TypeMediatek Dimensity 8100Processor Speed2.85 50MP 8MP 2MP 50MP 8MP 2MP 16MP 16MP 5G Capacity5000 Display Size17.02 cm (6.7 inch)Resolution2412 x 1080 PixelResolution TypeFull HD+GPUARM Mali-G610 MC6Display TypeFull HD+ OLED DisplayDisplay Colors1.07BOther Display FeaturesRefresh Rate: 120 Hz, Aspect Ratio: 20.1:9, Screen-to-Body Ratio: 94.20%, Screen Contrast: 5000000:1, Brightness: 500nit, Color Saturation: DCI-P3 100%, Sunlight Screen Support 0         ₹15,248\n",
      "1         ₹34,990\n",
      "2          ₹8,999\n",
      "3         ₹18,999\n",
      "4         ₹12,499\n",
      "          ...    \n",
      "2541    ₹1,00,999\n",
      "2542      ₹11,990\n",
      "2543      ₹29,800\n",
      "2544      ₹16,990\n",
      "2545      ₹13,990\n",
      "Name: price, Length: 2546, dtype: object\n",
      "1619 : Storage64 GBRAM4 GBExpandable Storage256GB  SystemAndroid Oreo 8.1Processor TypeMediatek Helio P22Processor Speed2 13MP 2MP 8MP 3G Capacity3260 Display Size15.8 cm (6.22 inch)Resolution1520 x 720 pixelsResolution TypeHD+GPUIMG GE8320 520 MHzDisplay TypeIPSOther Display FeaturesIncell Display, FullView Display 2.0, 88% Screen-to-body Ratio, Face Access to Unlock, AI Face Beauty, 3th Generation Corning Gorilla 0         ₹15,248\n",
      "1         ₹34,990\n",
      "2          ₹8,999\n",
      "3         ₹18,999\n",
      "4         ₹12,499\n",
      "          ...    \n",
      "2541    ₹1,00,999\n",
      "2542      ₹11,990\n",
      "2543      ₹29,800\n",
      "2544      ₹16,990\n",
      "2545      ₹13,990\n",
      "Name: price, Length: 2546, dtype: object\n",
      "254 : Storage16  SystemiOS 9Processor TypeA9 Chip 12MP 5MP 4G notMentioned Display Size11.94 cm (4.7 inch)Resolution750 x 1334 PixelsResolution TypeRetina HD DisplayGPUPowerVR GT7600 (six-core graphics)Display TypeLED-backlit IPS LCDDisplay Colors16 MOther Display FeaturesRetina HD Display with 3DﾠTouch, LED Backlit Widescreen, 326 PPI, 500 cd/m2 Maximum Brightness, Full sRGB Standard, Dual Domain Pixels for Wide Viewing Angles, Fingerprint Resistant Oleophobic Coating, Display Zoom, Reachability 0         ₹15,248\n",
      "1         ₹34,990\n",
      "2          ₹8,999\n",
      "3         ₹18,999\n",
      "4         ₹12,499\n",
      "          ...    \n",
      "2541    ₹1,00,999\n",
      "2542      ₹11,990\n",
      "2543      ₹29,800\n",
      "2544      ₹16,990\n",
      "2545      ₹13,990\n",
      "Name: price, Length: 2546, dtype: object\n"
     ]
    }
   ],
   "source": [
    "random_values('corpus')"
   ]
  },
  {
   "cell_type": "code",
   "execution_count": 65,
   "metadata": {},
   "outputs": [],
   "source": [
    "df['corpus'] = df['corpus'].str.lower()"
   ]
  },
  {
   "cell_type": "code",
   "execution_count": 66,
   "metadata": {},
   "outputs": [
    {
     "name": "stdout",
     "output_type": "stream",
     "text": [
      "272 : nan\n",
      "2335 : storage128 gbram8  systemandroid 10processor speed2.73 12mp 5g capacity4500 display size16.51 cm (6.5 inch)resolution2400 x 1080 pixels 0         ₹15,248\n",
      "1         ₹34,990\n",
      "2          ₹8,999\n",
      "3         ₹18,999\n",
      "4         ₹12,499\n",
      "          ...    \n",
      "2541    ₹1,00,999\n",
      "2542      ₹11,990\n",
      "2543      ₹29,800\n",
      "2544      ₹16,990\n",
      "2545      ₹13,990\n",
      "name: price, length: 2546, dtype: object\n",
      "255 : storage128 gbram8 gbexpandable storage1tb  systemandroid 13processor typequalcomm snapdragon 695 5gprocessor speed2.2 108mp 2mp 2mp 16mp 16mp 5g capacity5000 display size17.07 cm (6.72 inch)resolution2400 x 1080 pixelresolution typefull hd+gpuqualcomm adreno a619display typefull hd+ lcd displaydisplay colors16.7mother display featuresrefresh rate: 120 hz, aspect ratio: 20:9, screen-to-body ratio: 93.76%, screen contrast: 1400:1, maximum brightness: 600 nit, color saturation: 95% ntsc, sunlight screen support, oleophophic coating 0         ₹15,248\n",
      "1         ₹34,990\n",
      "2          ₹8,999\n",
      "3         ₹18,999\n",
      "4         ₹12,499\n",
      "          ...    \n",
      "2541    ₹1,00,999\n",
      "2542      ₹11,990\n",
      "2543      ₹29,800\n",
      "2544      ₹16,990\n",
      "2545      ₹13,990\n",
      "name: price, length: 2546, dtype: object\n",
      "396 : storage128 gbram8  systemandroid 10processor speed2.8 64mp 12mp 8mp 2mp 8mp 64mp 12mp 2mp 32mp 8mp 32mp 8mp 5g capacity4200 display size16.36 cm (6.44 inch)resolution1080 x 2400 pixelsresolution typefull hd+gpuadreno 650display typesuper amoleddisplay colors16.7mother display featureson-cell touch panel technology, screen sealing process: cof, bezel: aa to tp edge 1.67 (l/r)/2.2 (up)/3.54 (down), screen ratio: 20:9, screen contrast: 60000:1 min, screen refresh rate: 90hz, color saturation: ntsc 105% typ, dci-p3 100%, sunlight screen support: yes, touch screen glass material: gg5, 2.5d, touch points: max 10 points, oleophobic coating: yes 0         ₹15,248\n",
      "1         ₹34,990\n",
      "2          ₹8,999\n",
      "3         ₹18,999\n",
      "4         ₹12,499\n",
      "          ...    \n",
      "2541    ₹1,00,999\n",
      "2542      ₹11,990\n",
      "2543      ₹29,800\n",
      "2544      ₹16,990\n",
      "2545      ₹13,990\n",
      "name: price, length: 2546, dtype: object\n",
      "1834 : storage256  systemios 12processor typea10 fusion chip 12mp 7mp 3g notmentioned display size11.94 cm (4.7 inch)resolution1334 x 750 pixelsresolution typeretina hd displaydisplay typeled-backlit ipsother display featuresmulti-touch display, 1400:1 contrast ratio, wide color display (p3), 625 cd/m2 maximum brightness, dual domain pixels for wide viewing angles, fingerprint resistant oleophobic coating, display of multiple languages and characters simultaneously, display zoom, reachability 0         ₹15,248\n",
      "1         ₹34,990\n",
      "2          ₹8,999\n",
      "3         ₹18,999\n",
      "4         ₹12,499\n",
      "          ...    \n",
      "2541    ₹1,00,999\n",
      "2542      ₹11,990\n",
      "2543      ₹29,800\n",
      "2544      ₹16,990\n",
      "2545      ₹13,990\n",
      "name: price, length: 2546, dtype: object\n",
      "1574 : storage128 gbram6 gbexpandable storage1tb  systemandroid 13processor typequalcomm snapdragon 695 5gprocessor speed2.2 108mp 2mp 2mp 16mp 16mp 5g capacity5000 display size17.07 cm (6.72 inch)resolution2400 x 1080 pixelresolution typefull hd+gpuqualcomm adreno a619display typefull hd+ lcd displaydisplay colors16.7mother display featuresrefresh rate: 120 hz, aspect ratio: 20:9, screen-to-body ratio: 93.76%, screen contrast: 1400:1, maximum brightness: 600 nit, color saturation: 95% ntsc, sunlight screen support, oleophophic coating 0         ₹15,248\n",
      "1         ₹34,990\n",
      "2          ₹8,999\n",
      "3         ₹18,999\n",
      "4         ₹12,499\n",
      "          ...    \n",
      "2541    ₹1,00,999\n",
      "2542      ₹11,990\n",
      "2543      ₹29,800\n",
      "2544      ₹16,990\n",
      "2545      ₹13,990\n",
      "name: price, length: 2546, dtype: object\n"
     ]
    }
   ],
   "source": [
    "random_values('corpus')"
   ]
  },
  {
   "cell_type": "code",
   "execution_count": 67,
   "metadata": {},
   "outputs": [
    {
     "data": {
      "text/plain": [
       "name        0\n",
       "ratings     0\n",
       "price       0\n",
       "imgURL      0\n",
       "corpus     14\n",
       "dtype: int64"
      ]
     },
     "execution_count": 67,
     "metadata": {},
     "output_type": "execute_result"
    }
   ],
   "source": [
    "df.isnull().sum()"
   ]
  },
  {
   "cell_type": "code",
   "execution_count": 68,
   "metadata": {},
   "outputs": [],
   "source": [
    "df.dropna(inplace=True,ignore_index=True)"
   ]
  },
  {
   "cell_type": "code",
   "execution_count": 69,
   "metadata": {},
   "outputs": [
    {
     "name": "stdout",
     "output_type": "stream",
     "text": [
      "words max_len in corpus is: 1435\n"
     ]
    }
   ],
   "source": [
    "max_len = 0\n",
    "for i in range(0, len(df['corpus'])):\n",
    "    try:\n",
    "        if len(df['corpus'][i]) > max_len:\n",
    "            max_len = len(df['corpus'][i])\n",
    "    except:\n",
    "        pass\n",
    "\n",
    "print(f'words max_len in corpus is: {max_len}')\n"
   ]
  },
  {
   "cell_type": "code",
   "execution_count": 70,
   "metadata": {},
   "outputs": [],
   "source": [
    "# df.sample(10)"
   ]
  },
  {
   "cell_type": "code",
   "execution_count": 71,
   "metadata": {},
   "outputs": [
    {
     "name": "stdout",
     "output_type": "stream",
     "text": [
      "2039 : https://rukminim2.flixcart.com/image/312/312/ky0g58w0/mobile/a/n/d/-original-imagabvqhyaah4vh.jpeg?q=70\n",
      "1253 : https://rukminim2.flixcart.com/image/312/312/xif0q/mobile/j/4/m/spark-9-kg5p-tecno-original-imagghntjuzyqsbr.jpeg?q=70\n",
      "1644 : https://rukminim2.flixcart.com/image/312/312/jm9hfgw0/mobile/e/8/s/apple-iphone-xs-max-mt522hn-a-original-imaf97f6hmng8ufu.jpeg?q=70\n",
      "2138 : https://rukminim2.flixcart.com/image/312/312/k08gfbk0/mobile/e/j/r/oneplus-6t-a6010-original-imafk27wga26g7zs.jpeg?q=70\n",
      "730 : https://rukminim2.flixcart.com/image/312/312/jkr6p3k0/mobile/c/v/f/vivo-y81-1803-original-imaf8f5yfc35gkpp.jpeg?q=70\n",
      "2371 : https://rukminim2.flixcart.com/image/312/312/xif0q/mobile/6/2/5/galaxy-m14-5g-sm-m146b-samsung-original-imagzwrqnpzujxks.jpeg?q=70\n"
     ]
    }
   ],
   "source": [
    "random_values('imgURL')"
   ]
  },
  {
   "cell_type": "markdown",
   "metadata": {},
   "source": [
    "## Model"
   ]
  },
  {
   "cell_type": "code",
   "execution_count": 72,
   "metadata": {},
   "outputs": [],
   "source": [
    "# vectorization\n",
    "from sklearn.feature_extraction.text import CountVectorizer"
   ]
  },
  {
   "cell_type": "code",
   "execution_count": 73,
   "metadata": {},
   "outputs": [],
   "source": [
    "cont_vect = CountVectorizer(max_features=1000)"
   ]
  },
  {
   "cell_type": "code",
   "execution_count": 74,
   "metadata": {},
   "outputs": [],
   "source": [
    "arrays = cont_vect.fit_transform(df['corpus'])"
   ]
  },
  {
   "cell_type": "code",
   "execution_count": 75,
   "metadata": {},
   "outputs": [],
   "source": [
    "vectors = arrays.toarray()"
   ]
  },
  {
   "cell_type": "code",
   "execution_count": 76,
   "metadata": {},
   "outputs": [
    {
     "data": {
      "text/plain": [
       "array(['00', '000', '02', '03', '04', '05', '07', '08', '09', '0mp',\n",
       "       '0primary', '0processor', '10', '100', '1000', '100000', '1000000',\n",
       "       '1000mhzdisplay', '100mp', '103', '104', '106', '1080',\n",
       "       '1080processor', '1080resolution', '108mp', '10mp', '10processor',\n",
       "       '11', '1100', '1125', '1170', '1179', '11primary', '11processor',\n",
       "       '12', '120', '1200', '1200processor', '120hz', '1242',\n",
       "       '1280processor', '1284', '1290', '12mp', '12primary',\n",
       "       '12processor', '13', '1300', '1300processor', '1330', '1334',\n",
       "       '135', '13mp', '13processor', '14', '1400', '144', '1440', '144hz',\n",
       "       '1480', '14processor', '15', '1500', '1544', '15processor', '16',\n",
       "       '160', '1600', '16000', '1600resolution', '1612', '1640', '16mp',\n",
       "       '16processor', '18', '180', '1800', '180hz', '19', '1920',\n",
       "       '1920hz', '1processor', '20', '200', '2000000', '200mp', '20mp',\n",
       "       '21', '22', '23', '2340', '24', '240', '2400', '2400resolution',\n",
       "       '2408', '240hz', '2460', '248', '24mp', '2541', '2542', '2543',\n",
       "       '2544', '2545', '2546', '25mm', '25mp', '26', '27', '28', '29',\n",
       "       '2d', '2g', '2ghzprocessor', '2mm', '2mp', '2processor', '2x',\n",
       "       '2xhd', '30', '308display', '30hz', '32', '326', '32mp', '33',\n",
       "       '34', '35', '36', '360', '37', '38', '39', '3d', '3dﾠtouch', '3g',\n",
       "       '3ghzprocessor', '3mp', '40', '400', '400nits', '401', '4096',\n",
       "       '41', '420', '420nits', '425processor', '43', '430', '430nit',\n",
       "       '439processor', '44', '440', '44mm', '44mp', '45', '450',\n",
       "       '4500000', '450processor', '460processor', '46mm', '48', '480',\n",
       "       '480nits', '488', '48mp', '49', '499', '4g', '4ghzprocessor',\n",
       "       '4mp', '50', '500', '5000000', '500nit', '500nits', '505',\n",
       "       '505display', '505other', '506display', '509display', '50hz',\n",
       "       '50mp', '51', '512display', '515', '52', '53', '54', '55', '550',\n",
       "       '56', '57', '58', '59', '5d', '5g', '5gprocessor', '5mp', '60',\n",
       "       '600', '60000', '6020processor', '60hz', '60mp', '61', '610',\n",
       "       '610display', '612display', '616display', '618display',\n",
       "       '619display', '62', '620display', '625', '625processor',\n",
       "       '636processor', '63mp', '64', '640', '640display', '642ldisplay',\n",
       "       '64mp', '65', '650', '650display', '66', '660', '660display',\n",
       "       '662processor', '665', '665processor', '67', '675processor', '680',\n",
       "       '680processor', '69', '695', '695processor', '6mm', '6processor',\n",
       "       '70', '700', '700processor', '7050processor', '70mm', '71', '712',\n",
       "       '72', '720', '720gprocessor', '720resolution', '73', '730display',\n",
       "       '730processor', '732gprocessor', '74', '740display', '75', '750',\n",
       "       '750gprocessor', '76', '765gprocessor', '77', '778g',\n",
       "       '778gprocessor', '78', '7m', '7mother', '7mp', '7processor', '7t',\n",
       "       '80', '800', '800uprocessor', '81', '810', '8100processor',\n",
       "       '810processor', '82', '828', '83', '84', '85', '850',\n",
       "       '850processor', '855', '855processor', '86', '865processor', '87',\n",
       "       '870processor', '87mm', '88', '888', '888processor', '89', '8mp',\n",
       "       '8processor', '90', '900', '900processor', '90hz', '90nit', '91',\n",
       "       '92', '920processor', '93', '94', '95', '950', '96', '9611',\n",
       "       '9611processor', '97', '98', '98mm', '99', '990', '999',\n",
       "       '9processor', 'a10', 'a11', 'a22processor', 'a9', 'aa', 'access',\n",
       "       'active', 'adaptive', 'adjustment', 'adreno', 'agc',\n",
       "       'aieprocessor', 'all', 'always', 'amazon', 'ambient', 'amoled',\n",
       "       'amoleddisplay', 'amoledhd', 'amoledother', 'an', 'and', 'android',\n",
       "       'angle', 'angles', 'anti', 'anywhere', 'area', 'arrangement',\n",
       "       'aspect', 'at', 'auto', 'back', 'backlit', 'based', 'bazel',\n",
       "       'bezel', 'billionother', 'bionic', 'bit', 'blue', 'body', 'border',\n",
       "       'bottom', 'brightness', 'by', 'c3', 'camera', 'capacitive',\n",
       "       'capacity1000', 'capacity1440', 'capacity1715', 'capacity2750',\n",
       "       'capacity2915', 'capacity3000', 'capacity3080', 'capacity3180',\n",
       "       'capacity3200', 'capacity3260', 'capacity3300', 'capacity3400',\n",
       "       'capacity3500', 'capacity3700', 'capacity3900', 'capacity4000',\n",
       "       'capacity4020', 'capacity4030', 'capacity4100', 'capacity4200',\n",
       "       'capacity4230', 'capacity4250', 'capacity4300', 'capacity4400',\n",
       "       'capacity4500', 'capacity4520', 'capacity4600', 'capacity4700',\n",
       "       'capacity4800', 'capacity4830', 'capacity5000', 'capacity5020',\n",
       "       'capacity5160', 'capacity6000', 'capacity7000', 'capacity800',\n",
       "       'care', 'cd', 'cell', 'celldisplay', 'cellother', 'certification',\n",
       "       'certified', 'channel', 'characters', 'chip', 'clear', 'clock',\n",
       "       'clocked', 'cm', 'coating', 'cof', 'cog', 'color', 'coloros',\n",
       "       'colorother', 'colors', 'colors1', 'colors10', 'colors16',\n",
       "       'colors16m', 'colors16mother', 'colors65', 'colorscontrast',\n",
       "       'colour', 'comfort', 'contrast', 'control', 'core', 'coredisplay',\n",
       "       'coreocta', 'coreprocessor', 'corning', 'cover', 'curved', 'cut',\n",
       "       'dc', 'dci', 'defination', 'degree', 'design', 'designed',\n",
       "       'dewdrop', 'diagonal', 'dimensity', 'dimming', 'dinorex',\n",
       "       'display', 'displaydisplay', 'displaygpu4', 'displaygpu5',\n",
       "       'displaygpuadreno', 'displaygpuarm', 'displaygpupowervr',\n",
       "       'displaygpuqualcomm', 'displayhd', 'displaymate', 'displayother',\n",
       "       'dolby', 'domain', 'dot', 'down', 'dtype', 'dual', 'dynamic', 'e3',\n",
       "       'e5', 'edge', 'edition', 'enhancer', 'experience', 'exynos', 'eye',\n",
       "       'f01', 'face', 'faster', 'features120', 'features1200nits',\n",
       "       'features120hz', 'features1300', 'features1400', 'features16',\n",
       "       'features180', 'features180hz', 'features19', 'features2',\n",
       "       'features20', 'features6', 'features60', 'features89',\n",
       "       'features90', 'features90hz', 'featuresadaptive', 'featuresaspect',\n",
       "       'featuresbezel', 'featurescontrast', 'featurescorning',\n",
       "       'featuresdisplay', 'featuresdynamic', 'featuresfullview',\n",
       "       'featureshalo', 'featureshdr', 'featuresin', 'featuresips',\n",
       "       'featuresled', 'featuresmulti', 'featuresnarrow',\n",
       "       'featuresrefresh', 'featuresretina', 'featuresscreen',\n",
       "       'featuressuper', 'featurestouch', 'featuresvideo',\n",
       "       'featureswidescreen', 'fhd', 'film', 'finger', 'fingerprint',\n",
       "       'fluiddisplay', 'for', 'fps', 'frame', 'frequencygsm', 'from',\n",
       "       'front', 'full', 'fullview', 'fusion', 'g25processor',\n",
       "       'g35processor', 'g37processor', 'g52', 'g52display', 'g57',\n",
       "       'g57display', 'g610', 'g68', 'g68display', 'g70processor', 'g71',\n",
       "       'g72', 'g76', 'g76display', 'g77', 'g77display', 'g80processor',\n",
       "       'g85processor', 'g88processor', 'g90tprocessor', 'g95processor',\n",
       "       'g96processor', 'g99processor', 'game', 'gameplay', 'gamut',\n",
       "       'gbexpandable', 'gbram1', 'gbram12', 'gbram128', 'gbram16',\n",
       "       'gbram2', 'gbram3', 'gbram4', 'gbram6', 'gbram8', 'gbtotal',\n",
       "       'ge8320', 'ge8320display', 'ge8322display', 'gen', 'generation',\n",
       "       'gentle', 'gestures', 'gff', 'gg3', 'gg5', 'ghz', 'ghzprocessor',\n",
       "       'glass', 'go', 'goprocessor', 'gorilla', 'gpu', 'gpuadreno',\n",
       "       'gpuarm', 'gpuge8320display', 'gpuimagination', 'gpuimg',\n",
       "       'gpumali', 'gpupowervr', 'gpuqualcomm', 'graphics', 'gt7600',\n",
       "       'halo', 'haptic', 'hbm', 'hd', 'hdgpuadreno', 'hdgpuarm', 'hdr',\n",
       "       'hdr10', 'helio', 'high', 'hios', 'hole', 'hz', 'improved', 'in',\n",
       "       'incell', 'inch', 'increase', 'infinity', 'intensive', 'ion',\n",
       "       'ips', 'ipsdisplay', 'ipsother', 'is', 'island', 'languages',\n",
       "       'layer', 'lcd', 'lcddisplay', 'lcdhd', 'lcdother', 'led', 'left',\n",
       "       'length', 'level', 'light', 'liquid', 'local', 'lollipop', 'low',\n",
       "       'lower', 'ltps', 'm2', 'main', 'mali', 'marshmallow', 'material',\n",
       "       'max', 'maximum', 'mbram4', 'mc2', 'mc2display', 'mc3display',\n",
       "       'mc4display', 'mc6display', 'mc9display', 'mediatek', 'memc',\n",
       "       'memory128gb', 'memory64gb', 'metal', 'mhz', 'mhzdisplay',\n",
       "       'mhzother', 'millionother', 'min', 'minimum', 'miui', 'mm',\n",
       "       'mn228', 'mobile', 'mode', 'more', 'mother', 'motion',\n",
       "       'mp12display', 'mp1display', 'mp2display', 'mp3', 'mp3display',\n",
       "       'mp4display', 'mt6762processor', 'mt6765', 'mt6771v', 'multi',\n",
       "       'multiple', 'name', 'nano', 'narrow', 'neg', 'new', 'night', 'nit',\n",
       "       'nits', 'no', 'normal', 'notch', 'notmentioned', 'nougat', 'ntsc',\n",
       "       'object', 'octa', 'of', 'off', 'oled', 'oleophobic', 'oleophophic',\n",
       "       'on', 'oncell', 'oneplus', 'optimised', 'oreo', 'os', 'other',\n",
       "       'outdoor', 'outside', 'over', 'oxygen', 'oxygenos',\n",
       "       'oxygenosprocessor', 'p22', 'p22processor', 'p2i', 'p3', 'p35',\n",
       "       'p35processor', 'p60', 'p70', 'p70processor', 'p95processor',\n",
       "       'panda', 'panel', 'peak', 'percent', 'performance', 'peripheral',\n",
       "       'phone', 'pie', 'pixel', 'pixelgpuadreno', 'pixelresolution',\n",
       "       'pixels', 'pixelsdisplay', 'pixelsgpuadreno', 'pixelsgpuapple',\n",
       "       'pixelsgpuarm', 'pixelsresolution', 'platformprocessor',\n",
       "       'playback', 'plusprocessor', 'points', 'poled', 'powervr', 'ppi',\n",
       "       'price', 'print', 'pro', 'process', 'processor',\n",
       "       'processorprocessor', 'promotion', 'proof', 'proportion',\n",
       "       'protection', 'protective', 'pwm', 'pwm2160hz', 'quad', 'rate',\n",
       "       'rates', 'ratio', 'rdother', 'reachability', 'reading', 'refresh',\n",
       "       'repellent', 'resistant', 'resolution', 'resolution1080',\n",
       "       'resolution1080x2400', 'resolution1136', 'resolution128',\n",
       "       'resolution1280', 'resolution1334', 'resolution1440',\n",
       "       'resolution1520', 'resolution1560', 'resolution1600',\n",
       "       'resolution1600x720', 'resolution1612', 'resolution1640',\n",
       "       'resolution1650x720', 'resolution1792', 'resolution1920',\n",
       "       'resolution2160', 'resolution2160x1080', 'resolution2280',\n",
       "       'resolution2340', 'resolution2376', 'resolution2400',\n",
       "       'resolution2400x1080', 'resolution2404', 'resolution2408',\n",
       "       'resolution2412', 'resolution2436', 'resolution2460',\n",
       "       'resolution2532', 'resolution2556', 'resolution2640',\n",
       "       'resolution2688', 'resolution2778', 'resolution2796',\n",
       "       'resolution3088', 'resolution3216', 'resolution720',\n",
       "       'resolution720x1600', 'resolution750', 'retina', 'rheinland',\n",
       "       'right', 's5e8535', 'samoled', 'sampling', 'samsung', 'saturation',\n",
       "       'sc9863a1processor', 'schott', 'scratch', 'screen', 'sdm450',\n",
       "       'sealing', 'seamless', 'sensor', 'sgs', 'si', 'side', 'sides',\n",
       "       'simultaneously', 'six', 'size', 'size10', 'size11', 'size12',\n",
       "       'size13', 'size14', 'size15', 'size16', 'size17', 'size19',\n",
       "       'size5', 'slim', 'smart', 'snapdragon', 'space', 'speed1',\n",
       "       'speed2', 'speed208', 'speed3', 'speed90', 'splash', 'srgb',\n",
       "       'standard', 'static', 'storage1024', 'storage128', 'storage128gb',\n",
       "       'storage16', 'storage1tb', 'storage2', 'storage256',\n",
       "       'storage256gb', 'storage2tb', 'storage32', 'storage512',\n",
       "       'storage512gb', 'storage64', 'storage8', 'stroboscopic',\n",
       "       'sunlight', 'sunshine', 'super', 'supplier', 'support', 'supports',\n",
       "       'supportyes', 'supportyesdisplay', 'supportyesother', 'sync',\n",
       "       'systemandroid', 'systemandroidprocessor', 'systemios', 't2x',\n",
       "       't606processor', 't610processor', 't612processor', 't616processor',\n",
       "       't830', 'tap', 'technology', 'technologyhd', 'technologyother',\n",
       "       'temperature', 'texture', 'tft', 'tftother', 'than', 'that', 'the',\n",
       "       'to', 'tone', 'top', 'touch', 'tp', 'true', 'tuv', 'typ', 'type',\n",
       "       'type2', 'typea10', 'typea11', 'typea12', 'typea13', 'typea14',\n",
       "       'typea15', 'typea16', 'typea8', 'typea9', 'typeall', 'typeamoled',\n",
       "       'typeamoleddisplay', 'typeamoledother', 'typeapple',\n",
       "       'typecapacitive', 'typedimensity', 'typedotdisplayhd',\n",
       "       'typedynamic', 'typeexynos', 'typefhd', 'typefluid', 'typefull',\n",
       "       'typeg37processor', 'typehd', 'typehddisplay', 'typehdgpuadreno',\n",
       "       'typehelio', 'typein', 'typeips', 'typeipsother', 'typelcdhd',\n",
       "       'typeled', 'typeli', 'typeliquid', 'typemediatek',\n",
       "       'typemt6763tprocessor', 'typemtk', 'typeocta', 'typepls',\n",
       "       'typequad', 'typequalcomm', 'typeretina', 'typesamsung', 'typesec',\n",
       "       'typesnapdragon', 'typesuper', 'typetft', 'typetftdisplay',\n",
       "       'typeunisoc', 'typewidescreen', 'typical', 'tüv', 'ultra', 'under',\n",
       "       'unlock', 'up', 'upper', 'upto', 'usb', 'value', 'view', 'viewing',\n",
       "       'vision', 'visuals', 'vivid', 'wake', 'water', 'waterdrop', 'wide',\n",
       "       'widescreen', 'will', 'with', 'xdr', 'xensation', 'you', 'zoom'],\n",
       "      dtype=object)"
      ]
     },
     "execution_count": 76,
     "metadata": {},
     "output_type": "execute_result"
    }
   ],
   "source": [
    "cont_vect.get_feature_names_out()"
   ]
  },
  {
   "cell_type": "markdown",
   "metadata": {},
   "source": [
    "## Calculating cosine similarity"
   ]
  },
  {
   "cell_type": "code",
   "execution_count": 77,
   "metadata": {},
   "outputs": [],
   "source": [
    "from sklearn.metrics.pairwise import cosine_similarity"
   ]
  },
  {
   "cell_type": "code",
   "execution_count": 78,
   "metadata": {},
   "outputs": [
    {
     "data": {
      "text/plain": [
       "(2532, 2532)"
      ]
     },
     "execution_count": 78,
     "metadata": {},
     "output_type": "execute_result"
    }
   ],
   "source": [
    "similarity = cosine_similarity(vectors)\n",
    "similarity.shape # this is because I have calculated the similarity among all the rows to all the rows(confusing?? but try to understand)"
   ]
  },
  {
   "cell_type": "code",
   "execution_count": 79,
   "metadata": {},
   "outputs": [
    {
     "data": {
      "text/plain": [
       "array([0.63560606, 0.68846786, 0.59770961, ..., 0.70643818, 0.77572829,\n",
       "       0.65923172])"
      ]
     },
     "execution_count": 79,
     "metadata": {},
     "output_type": "execute_result"
    }
   ],
   "source": [
    "similarity[3]"
   ]
  },
  {
   "cell_type": "code",
   "execution_count": 80,
   "metadata": {},
   "outputs": [
    {
     "data": {
      "text/plain": [
       "[(59, 0.9999999999999998),\n",
       " (914, 0.9999999999999998),\n",
       " (474, 0.970149253731343),\n",
       " (357, 0.9546550401556595),\n",
       " (647, 0.9546550401556595),\n",
       " (1784, 0.950255268139496),\n",
       " (292, 0.9173191625339883),\n",
       " (520, 0.9173191625339883),\n",
       " (1109, 0.9173191625339883),\n",
       " (604, 0.9162708326722894)]"
      ]
     },
     "execution_count": 80,
     "metadata": {},
     "output_type": "execute_result"
    }
   ],
   "source": [
    "sorted(list(enumerate(similarity[0])),reverse=True,key=lambda x:x[1])[1:11]"
   ]
  },
  {
   "cell_type": "code",
   "execution_count": 81,
   "metadata": {},
   "outputs": [],
   "source": [
    "def recommend(mobile):\n",
    "    mobile_index = df[df['name']==mobile].index[0]\n",
    "    similarity_array = similarity[mobile_index]\n",
    "    similar_10_mobiles = sorted(list(enumerate(similarity_array)),reverse=True,key=lambda x:x[1])[1:11]\n",
    "    \n",
    "    for i in similar_10_mobiles:\n",
    "        print(df['name'].iloc[i[0]])\n",
    "\n"
   ]
  },
  {
   "cell_type": "code",
   "execution_count": 82,
   "metadata": {},
   "outputs": [
    {
     "name": "stdout",
     "output_type": "stream",
     "text": [
      "APPLE iPhone 13 mini (Blue, 128 GB)\n",
      "APPLE iPhone 13 mini (Starlight, 128 GB)\n",
      "APPLE iPhone 13 mini (Pink, 128 GB)\n",
      "APPLE iPhone 13 mini (Midnight, 128 GB)\n",
      "APPLE iPhone 13 mini (Midnight, 256 GB)\n",
      "APPLE iPhone 13 mini ((PRODUCT)RED, 512 GB)\n",
      "APPLE iPhone 13 mini (Blue, 256 GB)\n",
      "APPLE iPhone 13 mini (Starlight, 512 GB)\n",
      "APPLE iPhone 13 mini (Green, 256 GB)\n",
      "APPLE iPhone 13 mini (Starlight, 256 GB)\n"
     ]
    }
   ],
   "source": [
    "recommend('APPLE iPhone 13 mini (Blue, 128 GB)')"
   ]
  },
  {
   "cell_type": "markdown",
   "metadata": {},
   "source": [
    "## making Pickle file of df and similarities to use in web"
   ]
  },
  {
   "cell_type": "code",
   "execution_count": 47,
   "metadata": {},
   "outputs": [],
   "source": [
    "os.makedirs(r'src\\model',exist_ok=True)"
   ]
  },
  {
   "cell_type": "code",
   "execution_count": 48,
   "metadata": {},
   "outputs": [],
   "source": [
    "pickle.dump(obj=df,file=open(file=r'src\\model\\dataframe.pkl',mode='wb'))"
   ]
  },
  {
   "cell_type": "code",
   "execution_count": 49,
   "metadata": {},
   "outputs": [],
   "source": [
    "pickle.dump(obj=similarity,file=open(file=r'src\\model\\similarity.pkl',mode='wb'))"
   ]
  },
  {
   "cell_type": "code",
<<<<<<< HEAD
   "execution_count": 89,
=======
   "execution_count": 90,
>>>>>>> 9097c7a2ef255d02c82fad64c33796bae5cece59
   "metadata": {},
   "outputs": [
    {
     "name": "stdout",
     "output_type": "stream",
     "text": [
<<<<<<< HEAD
      "hello world\n"
=======
      "hello\n"
>>>>>>> 9097c7a2ef255d02c82fad64c33796bae5cece59
     ]
    }
   ],
   "source": [
<<<<<<< HEAD
    "print('hello world')"
=======
    "print('hello')"
>>>>>>> 9097c7a2ef255d02c82fad64c33796bae5cece59
   ]
  }
 ],
 "metadata": {
  "kernelspec": {
   "display_name": "Python 3",
   "language": "python",
   "name": "python3"
  },
  "language_info": {
   "codemirror_mode": {
    "name": "ipython",
    "version": 3
   },
   "file_extension": ".py",
   "mimetype": "text/x-python",
   "name": "python",
   "nbconvert_exporter": "python",
   "pygments_lexer": "ipython3",
   "version": "3.11.3"
  },
  "orig_nbformat": 4
 },
 "nbformat": 4,
 "nbformat_minor": 2
}
