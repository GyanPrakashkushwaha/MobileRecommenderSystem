{
 "cells": [
  {
   "cell_type": "code",
   "execution_count": 1,
   "metadata": {},
   "outputs": [],
   "source": [
    "import pandas as pd\n",
    "import numpy as np\n",
    "import os\n",
    "from typing import Callable # this is to define test_func functions dtype as function itself\n",
    "import re # for regural expression\n",
    "import warnings\n",
    "warnings.filterwarnings('ignore')\n",
    "import pickle # for pickling my model\n",
    "\n",
    "os.chdir(r'd:\\vscode_machineLearning\\BEST_PROJECTS\\mobileRecommenderSystem')"
   ]
  },
  {
   "cell_type": "code",
   "execution_count": 2,
   "metadata": {},
   "outputs": [
    {
     "data": {
      "text/plain": [
       "'d:\\\\vscode_machineLearning\\\\BEST_PROJECTS\\\\mobileRecommenderSystem'"
      ]
     },
     "execution_count": 2,
     "metadata": {},
     "output_type": "execute_result"
    }
   ],
   "source": [
    "os.getcwd()"
   ]
  },
  {
   "cell_type": "code",
   "execution_count": 3,
   "metadata": {},
   "outputs": [],
   "source": [
    "df = pd.read_csv(r'data\\final_dataFrame.csv',index_col=False)"
   ]
  },
  {
   "cell_type": "code",
   "execution_count": 4,
   "metadata": {},
   "outputs": [],
   "source": [
    "def random_values(col_name:str,total=6):\n",
    "    for i in range(0,total):\n",
    "        index = np.random.randint(df.shape[0])\n",
    "        print(index,':',df[col_name].iloc[index])        "
   ]
  },
  {
   "cell_type": "code",
   "execution_count": 5,
   "metadata": {},
   "outputs": [
    {
     "name": "stdout",
     "output_type": "stream",
     "text": [
      "2254 : Storage128 GBRAM8  SystemAndroid 12Processor Speed2.2 50MP 5G Capacity5000 Display Size17.02 cm (6.7 inch)Resolution2400 x 1080 pixel\n",
      "2175 : Storage128 GBRAM8 GBExpandable Storage1TB  SystemAndroid 13Processor TypeMediatek MT6765 Helio G37Processor Speed2.3 50MP 8MP 4G Capacity5000 Display Size16.76 cm (6.6 inch)Resolution1612 x 720Resolution TypeHD+GPUPowerVR GE8320Display TypeIPS LCDOther Display Features90Hz Refresh Rate\n",
      "2446 : Storage128  SystemiOS 14Processor TypeA14 Bionic Chip 12MP 12MP 12MP 12MP 12MP 5G Capacity1715 Display Size13.72 cm (5.4 inch)Resolution2340 x 1080 PixelsResolution TypeSuper Retina XDR DisplayDisplay TypeSuper Retina XDR DisplayOther Display FeaturesSuper Retina XDR Display, 5.4 inch (Diagonal) All Screen OLED Display, HDR Display, True Tone, Wide Colour (P3), Haptic Touch, 2000000:1 Contrast Ratio (Typical), 625 nits Max Brightness (Typical), 1200 nits Max Brightness (HDR), Fingerprint-resistant Oleophobic Coating, Support for Display of Multiple Languages and Characters Simultaneously\n",
      "2395 : Storage6 GBRAM128  SystemAndroid Android 12Primary Clock Speed2 GHz 48MP 2G Capacity5000 Display Size17.27 cm (6.8 inch)Resolution2460x1080\n",
      "1945 : Storage64 GBRAM4 GBExpandable Storage512GB  SystemAndroid Pie 9.0Processor TypeQualcomm Snapdragon 632Processor Speed1.8 12MP 2MP 12MP 2MP 32MP 3G Capacity4000 Display Size15.9 cm (6.26 inch)Resolution1520 x 720 pixelsResolution TypeHD+GPUAdreno 506 Up to 725 MHzOther Display FeaturesDot Notch Display, 19:9 Aspect Ratio, 1500:1 Contrast Ratio, Screen to Body Ratio 86.83%, NTSC 84% (Typical), Brightness: 450 nits (Typical), Corning Gorilla Glass 5, Sunlight Mode, Reading Mode, Color Temperature Adjustment, Standard Mode\n",
      "1114 : Storage64  SystemiOS 8Processor TypeA8 Chip 8MP 2MP 3G TypeLi-Ion Display Size13.97 cm (5.5 inch)Resolution1920 x 1080 PixelsResolution TypeRetina HD DisplayOther Display FeaturesLED Backlit Wide Screen, Finger Print Resistant Oleophobic Coating on Front, Reachability, 500 cd / m2 Maximum Brightness, Multi-touch, Full sRGB Standard, Wide-angle Viewing, IPS Display, Dual-domain Pixels, Display Zoom\n"
     ]
    }
   ],
   "source": [
    "random_values('corpus')"
   ]
  },
  {
   "cell_type": "code",
   "execution_count": 6,
   "metadata": {},
   "outputs": [],
   "source": [
    "df['corpus'] = df['corpus'].str.lower()"
   ]
  },
  {
   "cell_type": "code",
   "execution_count": 7,
   "metadata": {},
   "outputs": [
    {
     "name": "stdout",
     "output_type": "stream",
     "text": [
      "171 : storage128 gbram4  systemandroid 12processor typequalcomm snapdragon 680processor speed2.4 50mp 2mp 50mp 2mp 50mp 8mp 8mp 4g capacity5000 display size16.71 cm (6.58 inch)resolution2408 x 1080 pixelsresolution typefull hd+gpuqualcomm adreno 610display typefull hd+ lcd display\n",
      "488 : storage128 gbram4 gbexpandable storage256gb  systemandroid 11processor typemediatek helio g85processor speed2 13mp 2mp 2mp 13mp 2mp 2mp 8mp 8mp 4g capacity6000 display size16.51 cm (6.5 inch)resolution1600 x 720 pixelsresolution typehd+gpuarm g52 mc2 (at 1000mhz)display typehd+ lcd in-celldisplay colors16.7mother display features60hz refresh rate, 20:9 aspect ratio, 88.7% screen-to-body ratio, 120hz touch sampling rate, screen contrast: 800:1 (min) 1500:1 (typ), 480nits (20ma) typical brightness, 570nits (25ma) max brightness under sunlight, color saturation: ntsc 70% (typ), cog sealing process\n",
      "1655 : storage128 gbram6 gbtotal memory128gb  systemandroid 13processor typedimensity 1080, octa coreprocessor speed2.6 48mp 8mp 5mp 48mp 8mp 5mp 13mp 13mp 2g capacity5000 display size16.76 cm (6.6 inch)resolution1080 x 2340 pixelsresolution typefull hd+gpuarm mali g68 mp4display typesuper amoledhd game supportyesdisplay colors16m\n",
      "396 : storage256 gbram8  systemandroid 13processor typedimensity 7050processor speed2.6 64mp 32mp 8mp 64mp 32mp 8mp 32mp 32mp 2g capacity5000 display size17.02 cm (6.7 inch)resolution2412 x 1080 pixelsresolution typefull hd+gpuarm mali g68 mc4display typefull hd+ amoled displaydisplay colors1.07 billionother display features120 hz 3d curved display, aspect ratio: 20:9, hdr10+, ultra narrow bazel, 240hz touch sampling rate, brightness: 500nits\n",
      "1815 : storage128 gbram6  systemandroid 12processor typedimensity 8100processor speed2.85 64mp 8mp 2mp 64mp 8mp 2mp 64mp 16mp 16mp 5g capacity5080 display size16.76 cm (6.6 inch)resolution2460 x 1080 pixelsresolution typefull hd+gpuarm mali-g610 mc6display typefull hd+ liquid ffs displayother display featuresrefresh rate: 144 hz, peak brightness: 650 nits, 270 hz touch sampling rate, dci-p3 colour gamut support, dolby vision, hdr10, contrast ratio: 1400:1, sunlight display, corning gorilla glass 5\n",
      "848 : storage256 gbram8  systemandroid pie 9 pie oxygenosprocessor speed2.8 16mp 4g capacity4000 display size16.94 cm (6.67 inch)resolution3120 x 1440 pixels\n"
     ]
    }
   ],
   "source": [
    "random_values('corpus')"
   ]
  },
  {
   "cell_type": "code",
   "execution_count": 8,
   "metadata": {},
   "outputs": [
    {
     "data": {
      "text/plain": [
       "name        0\n",
       "ratings     0\n",
       "price       0\n",
       "imgURL      0\n",
       "corpus     13\n",
       "dtype: int64"
      ]
     },
     "execution_count": 8,
     "metadata": {},
     "output_type": "execute_result"
    }
   ],
   "source": [
    "df.isnull().sum()"
   ]
  },
  {
   "cell_type": "code",
   "execution_count": 9,
   "metadata": {},
   "outputs": [],
   "source": [
    "df.dropna(inplace=True,ignore_index=True)"
   ]
  },
  {
   "cell_type": "code",
   "execution_count": 10,
   "metadata": {},
   "outputs": [
    {
     "name": "stdout",
     "output_type": "stream",
     "text": [
      "words max_len in corpus is: 1196\n"
     ]
    }
   ],
   "source": [
    "max_len = 0\n",
    "for i in range(0, len(df['corpus'])):\n",
    "    try:\n",
    "        if len(df['corpus'][i]) > max_len:\n",
    "            max_len = len(df['corpus'][i])\n",
    "    except:\n",
    "        pass\n",
    "\n",
    "print(f'words max_len in corpus is: {max_len}')\n"
   ]
  },
  {
   "cell_type": "code",
   "execution_count": 11,
   "metadata": {},
   "outputs": [
    {
     "data": {
      "text/html": [
       "<div>\n",
       "<style scoped>\n",
       "    .dataframe tbody tr th:only-of-type {\n",
       "        vertical-align: middle;\n",
       "    }\n",
       "\n",
       "    .dataframe tbody tr th {\n",
       "        vertical-align: top;\n",
       "    }\n",
       "\n",
       "    .dataframe thead th {\n",
       "        text-align: right;\n",
       "    }\n",
       "</style>\n",
       "<table border=\"1\" class=\"dataframe\">\n",
       "  <thead>\n",
       "    <tr style=\"text-align: right;\">\n",
       "      <th></th>\n",
       "      <th>name</th>\n",
       "      <th>ratings</th>\n",
       "      <th>price</th>\n",
       "      <th>imgURL</th>\n",
       "      <th>corpus</th>\n",
       "    </tr>\n",
       "  </thead>\n",
       "  <tbody>\n",
       "    <tr>\n",
       "      <th>0</th>\n",
       "      <td>REDMI Note 12 Pro 5G (Glacier Blue, 128 GB)</td>\n",
       "      <td>4.2</td>\n",
       "      <td>23999</td>\n",
       "      <td>https://rukminim2.flixcart.com/image/312/312/x...</td>\n",
       "      <td>storage128 gbram6  systemandroid 12processor t...</td>\n",
       "    </tr>\n",
       "    <tr>\n",
       "      <th>1</th>\n",
       "      <td>vivo V17 (Midnight Ocean Black, 128 GB)</td>\n",
       "      <td>4.5</td>\n",
       "      <td>27990</td>\n",
       "      <td>https://rukminim2.flixcart.com/image/312/312/k...</td>\n",
       "      <td>storage128 gbram8 gbexpandable storage256gb  s...</td>\n",
       "    </tr>\n",
       "    <tr>\n",
       "      <th>2</th>\n",
       "      <td>APPLE iPhone 5s (Space Grey, 16 GB)</td>\n",
       "      <td>4.4</td>\n",
       "      <td>25000</td>\n",
       "      <td>https://rukminim2.flixcart.com/image/312/312/m...</td>\n",
       "      <td>storage16 systemios 7processor typeapple a7 64...</td>\n",
       "    </tr>\n",
       "    <tr>\n",
       "      <th>3</th>\n",
       "      <td>APPLE iPhone 11 Pro (Silver, 64 GB)</td>\n",
       "      <td>4.6</td>\n",
       "      <td>106600</td>\n",
       "      <td>https://rukminim2.flixcart.com/image/312/312/k...</td>\n",
       "      <td>storage64  systemios 13processor typea13 bioni...</td>\n",
       "    </tr>\n",
       "    <tr>\n",
       "      <th>4</th>\n",
       "      <td>realme C30s (Stripe Blue, 64 GB)</td>\n",
       "      <td>4.2</td>\n",
       "      <td>8699</td>\n",
       "      <td>https://rukminim2.flixcart.com/image/312/312/x...</td>\n",
       "      <td>storage64 gbram4 gbexpandable storage1tb  syst...</td>\n",
       "    </tr>\n",
       "    <tr>\n",
       "      <th>...</th>\n",
       "      <td>...</td>\n",
       "      <td>...</td>\n",
       "      <td>...</td>\n",
       "      <td>...</td>\n",
       "      <td>...</td>\n",
       "    </tr>\n",
       "    <tr>\n",
       "      <th>2528</th>\n",
       "      <td>APPLE iPhone 14 Plus (Blue, 128 GB)</td>\n",
       "      <td>4.6</td>\n",
       "      <td>79999</td>\n",
       "      <td>https://rukminim2.flixcart.com/image/312/312/x...</td>\n",
       "      <td>storage128  systemios 16processor typea15 bion...</td>\n",
       "    </tr>\n",
       "    <tr>\n",
       "      <th>2529</th>\n",
       "      <td>Moto G71 5G (Neptune Green, 128 GB)</td>\n",
       "      <td>4.2</td>\n",
       "      <td>16999</td>\n",
       "      <td>https://rukminim2.flixcart.com/image/312/312/l...</td>\n",
       "      <td>storage128 gbram6  systemandroid 11processor t...</td>\n",
       "    </tr>\n",
       "    <tr>\n",
       "      <th>2530</th>\n",
       "      <td>SAMSUNG Galaxy A50s (Prism Crush White, 128 GB)</td>\n",
       "      <td>4.3</td>\n",
       "      <td>24900</td>\n",
       "      <td>https://rukminim2.flixcart.com/image/312/312/k...</td>\n",
       "      <td>storage128 gbram4  systemandroid pie 9.0proces...</td>\n",
       "    </tr>\n",
       "    <tr>\n",
       "      <th>2531</th>\n",
       "      <td>vivo Y75 5G (Glowing Galaxy, 128 GB)</td>\n",
       "      <td>4.4</td>\n",
       "      <td>21990</td>\n",
       "      <td>https://rukminim2.flixcart.com/image/312/312/x...</td>\n",
       "      <td>storage128 gbram8 gbexpandable storage1tb  sys...</td>\n",
       "    </tr>\n",
       "    <tr>\n",
       "      <th>2532</th>\n",
       "      <td>vivo Y91 (Nebula Purple, 32 GB)</td>\n",
       "      <td>4.4</td>\n",
       "      <td>10990</td>\n",
       "      <td>https://rukminim2.flixcart.com/image/312/312/k...</td>\n",
       "      <td>storage32 gbram3 gbexpandable storage256gb  sy...</td>\n",
       "    </tr>\n",
       "  </tbody>\n",
       "</table>\n",
       "<p>2533 rows × 5 columns</p>\n",
       "</div>"
      ],
      "text/plain": [
       "                                                 name  ratings   price   \n",
       "0         REDMI Note 12 Pro 5G (Glacier Blue, 128 GB)      4.2   23999  \\\n",
       "1             vivo V17 (Midnight Ocean Black, 128 GB)      4.5   27990   \n",
       "2                 APPLE iPhone 5s (Space Grey, 16 GB)      4.4   25000   \n",
       "3                 APPLE iPhone 11 Pro (Silver, 64 GB)      4.6  106600   \n",
       "4                    realme C30s (Stripe Blue, 64 GB)      4.2    8699   \n",
       "...                                               ...      ...     ...   \n",
       "2528              APPLE iPhone 14 Plus (Blue, 128 GB)      4.6   79999   \n",
       "2529              Moto G71 5G (Neptune Green, 128 GB)      4.2   16999   \n",
       "2530  SAMSUNG Galaxy A50s (Prism Crush White, 128 GB)      4.3   24900   \n",
       "2531             vivo Y75 5G (Glowing Galaxy, 128 GB)      4.4   21990   \n",
       "2532                  vivo Y91 (Nebula Purple, 32 GB)      4.4   10990   \n",
       "\n",
       "                                                 imgURL   \n",
       "0     https://rukminim2.flixcart.com/image/312/312/x...  \\\n",
       "1     https://rukminim2.flixcart.com/image/312/312/k...   \n",
       "2     https://rukminim2.flixcart.com/image/312/312/m...   \n",
       "3     https://rukminim2.flixcart.com/image/312/312/k...   \n",
       "4     https://rukminim2.flixcart.com/image/312/312/x...   \n",
       "...                                                 ...   \n",
       "2528  https://rukminim2.flixcart.com/image/312/312/x...   \n",
       "2529  https://rukminim2.flixcart.com/image/312/312/l...   \n",
       "2530  https://rukminim2.flixcart.com/image/312/312/k...   \n",
       "2531  https://rukminim2.flixcart.com/image/312/312/x...   \n",
       "2532  https://rukminim2.flixcart.com/image/312/312/k...   \n",
       "\n",
       "                                                 corpus  \n",
       "0     storage128 gbram6  systemandroid 12processor t...  \n",
       "1     storage128 gbram8 gbexpandable storage256gb  s...  \n",
       "2     storage16 systemios 7processor typeapple a7 64...  \n",
       "3     storage64  systemios 13processor typea13 bioni...  \n",
       "4     storage64 gbram4 gbexpandable storage1tb  syst...  \n",
       "...                                                 ...  \n",
       "2528  storage128  systemios 16processor typea15 bion...  \n",
       "2529  storage128 gbram6  systemandroid 11processor t...  \n",
       "2530  storage128 gbram4  systemandroid pie 9.0proces...  \n",
       "2531  storage128 gbram8 gbexpandable storage1tb  sys...  \n",
       "2532  storage32 gbram3 gbexpandable storage256gb  sy...  \n",
       "\n",
       "[2533 rows x 5 columns]"
      ]
     },
     "execution_count": 11,
     "metadata": {},
     "output_type": "execute_result"
    }
   ],
   "source": [
    "df"
   ]
  },
  {
   "cell_type": "code",
   "execution_count": 12,
   "metadata": {},
   "outputs": [
    {
     "name": "stdout",
     "output_type": "stream",
     "text": [
      "1468 : https://rukminim2.flixcart.com/image/312/312/kkyc9zk0/mobile/9/9/b/smart-5-x688c-infinix-original-imagy6wkafwrgj9z.jpeg?q=70\n",
      "1743 : https://rukminim2.flixcart.com/image/312/312/k51cpe80pkrrdj/mobile/g/f/m/samsung-galaxy-m30s-sm-m307fzbdins-original-imafkzzf3vfqzrfz.jpeg?q=70\n",
      "734 : https://rukminim2.flixcart.com/image/312/312/keykscw0/mobile/k/g/w/mi-redmi-note-9-pro-max-m2003j6b1l-original-imafvj4vw773kgjr.jpeg?q=70\n",
      "2022 : https://rukminim2.flixcart.com/image/312/312/knni7ww0/mobile/3/v/s/a54-cph2239-oppo-original-imag2aycn2mzch4x.jpeg?q=70\n",
      "347 : https://rukminim2.flixcart.com/image/312/312/xif0q/mobile/y/w/l/11r-5g-5011102527-oneplus-original-imagn3bq8t4ja5rx.jpeg?q=70\n",
      "2360 : https://rukminim2.flixcart.com/image/312/312/k3ncakw0pkrrdj/mobile/u/7/h/mi-redmi-a3-m1906f9si-original-imafjm6vn3h6ygyw.jpeg?q=70\n"
     ]
    }
   ],
   "source": [
    "random_values('imgURL')"
   ]
  },
  {
   "cell_type": "markdown",
   "metadata": {},
   "source": [
    "## Model"
   ]
  },
  {
   "cell_type": "code",
   "execution_count": 13,
   "metadata": {},
   "outputs": [],
   "source": [
    "# vectorization\n",
    "from sklearn.feature_extraction.text import CountVectorizer"
   ]
  },
  {
   "cell_type": "code",
   "execution_count": 14,
   "metadata": {},
   "outputs": [],
   "source": [
    "cont_vect = CountVectorizer(max_features=1000)"
   ]
  },
  {
   "cell_type": "code",
   "execution_count": 15,
   "metadata": {},
   "outputs": [],
   "source": [
    "arrays = cont_vect.fit_transform(df['corpus'])"
   ]
  },
  {
   "cell_type": "code",
   "execution_count": 16,
   "metadata": {},
   "outputs": [],
   "source": [
    "vectors = arrays.toarray()"
   ]
  },
  {
   "cell_type": "code",
   "execution_count": 17,
   "metadata": {},
   "outputs": [
    {
     "data": {
      "text/plain": [
       "array(['00', '000', '02', '03', '04', '05', '07', '08', '09', '0mp',\n",
       "       '0primary', '0processor', '10', '100', '1000', '100000', '1000000',\n",
       "       '1000mhzdisplay', '100mp', '103', '104', '106', '1080',\n",
       "       '1080processor', '1080resolution', '108mp', '10mp', '10processor',\n",
       "       '11', '1100', '1125', '1170', '1179', '11primary', '11processor',\n",
       "       '12', '120', '1200', '1200processor', '120hz', '1242',\n",
       "       '1280processor', '1284', '1290', '12mp', '12primary',\n",
       "       '12processor', '13', '1300', '1300processor', '1330', '1334',\n",
       "       '135', '135hz', '1380', '13mp', '13processor', '14', '1400', '144',\n",
       "       '1440', '144hz', '1480', '14processor', '15', '1500', '1544',\n",
       "       '15processor', '16', '160', '1600', '16000', '1600resolution',\n",
       "       '1612', '1640', '16mp', '16processor', '18', '180', '1800',\n",
       "       '180hz', '19', '1920', '1920hz', '1processor', '20', '200',\n",
       "       '2000000', '200mp', '20mp', '21', '22', '23', '2340', '24', '240',\n",
       "       '2400', '2400resolution', '2408', '240hz', '2460', '24mp', '25mm',\n",
       "       '25mp', '26', '27', '28', '2d', '2g', '2ghzprocessor', '2mm',\n",
       "       '2mp', '2processor', '2x', '2xhd', '30', '308display', '30hz',\n",
       "       '32', '326', '32mp', '33', '35', '36', '360', '37', '38', '39',\n",
       "       '3d', '3dﾠtouch', '3g', '3ghzprocessor', '3mp', '40', '400',\n",
       "       '400nits', '401', '4096', '40mp', '41', '420', '420nits',\n",
       "       '425processor', '43', '430', '430nit', '439processor', '44', '440',\n",
       "       '44mm', '44mp', '45', '450', '4500000', '450processor',\n",
       "       '460processor', '46mm', '47', '48', '480', '480nits', '488',\n",
       "       '48mp', '49', '4g', '4ghzprocessor', '4mp', '50', '500', '5000000',\n",
       "       '500nit', '500nits', '505', '505display', '505other', '506display',\n",
       "       '509display', '50hz', '50mp', '51', '512display', '515', '52',\n",
       "       '53', '54', '55', '550', '56', '57', '58', '59', '5d', '5g',\n",
       "       '5gprocessor', '5mp', '60', '600', '60000', '6020processor',\n",
       "       '60hz', '60mp', '61', '610', '610display', '612display',\n",
       "       '616display', '618display', '619display', '62', '625',\n",
       "       '625processor', '636processor', '63mp', '64', '640', '640display',\n",
       "       '642ldisplay', '64mp', '65', '650', '650display', '66', '660',\n",
       "       '660display', '662processor', '665', '665processor', '67',\n",
       "       '675processor', '680', '680processor', '69', '695', '695processor',\n",
       "       '6mm', '6processor', '70', '700', '700processor', '7050processor',\n",
       "       '70mm', '71', '712', '72', '720', '720gprocessor', '720resolution',\n",
       "       '73', '730display', '730processor', '732gprocessor', '74',\n",
       "       '740display', '75', '750', '750gprocessor', '76', '765gprocessor',\n",
       "       '77', '778g', '778gprocessor', '78', '7m', '7mother', '7mp',\n",
       "       '7processor', '7t', '80', '800', '800uprocessor', '81', '810',\n",
       "       '8100processor', '810processor', '82', '828', '83', '84', '85',\n",
       "       '850', '850processor', '855', '86', '865processor', '87',\n",
       "       '870processor', '87mm', '88', '888', '888processor', '89', '8mp',\n",
       "       '8processor', '90', '900', '900processor', '90hz', '90nit', '91',\n",
       "       '92', '920processor', '93', '94', '95', '950', '96',\n",
       "       '9611processor', '97', '98', '98mm', '99', '9processor', 'a10',\n",
       "       'a11', 'a22processor', 'a618display', 'a9', 'aa', 'access',\n",
       "       'active', 'adaptive', 'adjustment', 'adreno', 'agc',\n",
       "       'aieprocessor', 'all', 'always', 'ambient', 'amoled',\n",
       "       'amoleddisplay', 'amoledhd', 'amoledother', 'an', 'and', 'android',\n",
       "       'angle', 'angles', 'anti', 'anywhere', 'area', 'arrangement',\n",
       "       'aspect', 'at', 'auo', 'auto', 'back', 'backlit', 'based', 'bazel',\n",
       "       'bezel', 'billionother', 'bionic', 'bit', 'blue', 'body', 'border',\n",
       "       'bottom', 'brightness', 'by', 'c3', 'camera', 'capacitive',\n",
       "       'capacity1000', 'capacity1440', 'capacity1715', 'capacity2750',\n",
       "       'capacity2915', 'capacity3000', 'capacity3080', 'capacity3200',\n",
       "       'capacity3300', 'capacity3400', 'capacity3500', 'capacity3700',\n",
       "       'capacity3900', 'capacity4000', 'capacity4015', 'capacity4020',\n",
       "       'capacity4030', 'capacity4050', 'capacity4100', 'capacity4200',\n",
       "       'capacity4230', 'capacity4250', 'capacity4300', 'capacity4400',\n",
       "       'capacity4500', 'capacity4520', 'capacity4600', 'capacity4700',\n",
       "       'capacity4800', 'capacity5000', 'capacity5020', 'capacity5160',\n",
       "       'capacity6000', 'capacity7000', 'capacity800', 'care', 'cd',\n",
       "       'cell', 'celldisplay', 'cellother', 'certification', 'certified',\n",
       "       'channel', 'characters', 'chip', 'clear', 'clock', 'clocked', 'cm',\n",
       "       'coating', 'cof', 'cog', 'color', 'coloros', 'colors', 'colors1',\n",
       "       'colors16', 'colors16m', 'colors16mother', 'colors65',\n",
       "       'colorscontrast', 'colour', 'comfort', 'contrast', 'control',\n",
       "       'core', 'coredisplay', 'coreocta', 'coreprocessor', 'corning',\n",
       "       'cover', 'coverage', 'curved', 'cut', 'dc', 'dci', 'defination',\n",
       "       'degree', 'design', 'designed', 'dewdrop', 'diagonal', 'dimensity',\n",
       "       'dimming', 'dinorex', 'display', 'displaydisplay', 'displaygpu4',\n",
       "       'displaygpu5', 'displaygpuadreno', 'displaygpuarm',\n",
       "       'displaygpupowervr', 'displaygpuqualcomm', 'displayhd',\n",
       "       'displaymate', 'displayother', 'dolby', 'domain', 'dot', 'down',\n",
       "       'dual', 'dynamic', 'e3', 'edge', 'edition', 'enhancer',\n",
       "       'experience', 'exynos', 'eye', 'f01', 'face', 'faster',\n",
       "       'features120', 'features1200nits', 'features120hz', 'features1300',\n",
       "       'features1400', 'features16', 'features180', 'features180hz',\n",
       "       'features19', 'features2', 'features20', 'features6', 'features60',\n",
       "       'features89', 'features90', 'features90hz', 'featuresadaptive',\n",
       "       'featuresaspect', 'featuresbezel', 'featurescontrast',\n",
       "       'featurescorning', 'featuresdisplay', 'featuresdolby',\n",
       "       'featuresdynamic', 'featureshalo', 'featureshdr', 'featuresin',\n",
       "       'featuresips', 'featuresled', 'featuresmulti', 'featuresrefresh',\n",
       "       'featuresretina', 'featuresscreen', 'featuressuper',\n",
       "       'featurestouch', 'featuresvideo', 'featureswidescreen', 'fhd',\n",
       "       'film', 'finger', 'fingerprint', 'fluiddisplay', 'for', 'fps',\n",
       "       'frame', 'frequencygsm', 'from', 'front', 'full', 'fullview',\n",
       "       'fusion', 'g25processor', 'g35processor', 'g37processor', 'g52',\n",
       "       'g52display', 'g57', 'g57display', 'g610', 'g68', 'g68display',\n",
       "       'g70processor', 'g71', 'g72', 'g76', 'g76display', 'g77',\n",
       "       'g77display', 'g80processor', 'g85processor', 'g88processor',\n",
       "       'g90tprocessor', 'g95processor', 'g96processor', 'g99processor',\n",
       "       'game', 'gameplay', 'gamut', 'gbexpandable', 'gbram1', 'gbram12',\n",
       "       'gbram128', 'gbram16', 'gbram2', 'gbram3', 'gbram4', 'gbram6',\n",
       "       'gbram8', 'gbtotal', 'ge8320', 'ge8320display', 'ge8322display',\n",
       "       'gen', 'generation', 'gentle', 'gestures', 'gff', 'gg3', 'gg5',\n",
       "       'ghz', 'ghzprocessor', 'glass', 'go', 'gorilla', 'gpu',\n",
       "       'gpuadreno', 'gpuarm', 'gpuge8320display', 'gpuimagination',\n",
       "       'gpuimg', 'gpumali', 'gpupowervr', 'gpuqualcomm', 'graphics',\n",
       "       'gt7600', 'halo', 'haptic', 'hbm', 'hd', 'hdgpuadreno', 'hdgpuarm',\n",
       "       'hdr', 'hdr10', 'helio', 'high', 'hios', 'hole', 'holitech', 'hp8',\n",
       "       'hz', 'improved', 'in', 'incell', 'inch', 'increase', 'infinity',\n",
       "       'intensive', 'ion', 'ips', 'ipsdisplay', 'ipsother', 'is',\n",
       "       'island', 'jdi', 'kitkat', 'languages', 'layer', 'lcd',\n",
       "       'lcddisplay', 'lcdhd', 'lcdother', 'led', 'left', 'level', 'light',\n",
       "       'liquid', 'local', 'lollipop', 'low', 'lower', 'ltps', 'm2',\n",
       "       'main', 'mali', 'marshmallow', 'material', 'max', 'maximum',\n",
       "       'mbram4', 'mc2', 'mc2display', 'mc3display', 'mc4display',\n",
       "       'mc6display', 'mc9display', 'memc', 'memory128gb', 'memory256gb',\n",
       "       'memory64gb', 'metal', 'mhz', 'mhzdisplay', 'mhzother',\n",
       "       'millionother', 'min', 'minimum', 'mirror', 'miui', 'mm', 'mn228',\n",
       "       'mobile', 'mode', 'more', 'mother', 'motion', 'mp12display',\n",
       "       'mp1display', 'mp2display', 'mp3', 'mp3display', 'mp4display',\n",
       "       'mp5display', 'mt6739processor', 'mt6750', 'mt6762processor',\n",
       "       'mt6765', 'mt6771v', 'mt6833v', 'multi', 'multiple', 'nano',\n",
       "       'narrow', 'neg', 'new', 'night', 'nit', 'nits', 'nm', 'no',\n",
       "       'normal', 'notch', 'notmentioned', 'nougat', 'ntsc', 'octa', 'of',\n",
       "       'off', 'oled', 'oleophobic', 'oleophpbic', 'on', 'oncell',\n",
       "       'oneplus', 'optimised', 'oreo', 'os', 'other', 'outdoor',\n",
       "       'outside', 'over', 'oxygen', 'oxygenos', 'oxygenosprocessor',\n",
       "       'p22', 'p22processor', 'p2i', 'p3', 'p35', 'p35processor', 'p60',\n",
       "       'p70', 'p70processor', 'p95processor', 'panda', 'panel', 'peak',\n",
       "       'percent', 'performance', 'phone', 'pie', 'pixel',\n",
       "       'pixelgpuadreno', 'pixelresolution', 'pixels', 'pixelsdisplay',\n",
       "       'pixelsgpuadreno', 'pixelsgpuapple', 'pixelsgpuarm',\n",
       "       'pixelsresolution', 'platformprocessor', 'plusprocessor', 'points',\n",
       "       'poled', 'powervr', 'ppi', 'print', 'pro', 'process', 'processor',\n",
       "       'processorprocessor', 'promotion', 'proof', 'proportion',\n",
       "       'protection', 'protective', 'pwm', 'quad', 'rate', 'rates',\n",
       "       'ratio', 'rdother', 'reachability', 'reading', 'refresh',\n",
       "       'repellent', 'resistant', 'resolution', 'resolution1080',\n",
       "       'resolution1080x2400', 'resolution1136', 'resolution128',\n",
       "       'resolution1280', 'resolution1334', 'resolution1440',\n",
       "       'resolution1520', 'resolution1560', 'resolution1600',\n",
       "       'resolution1600x720', 'resolution1612', 'resolution1640',\n",
       "       'resolution1650', 'resolution1650x720', 'resolution1792',\n",
       "       'resolution1920', 'resolution1920x1080', 'resolution2160',\n",
       "       'resolution2160x1080', 'resolution2280', 'resolution2340',\n",
       "       'resolution2376', 'resolution2400', 'resolution2400x1080',\n",
       "       'resolution2404', 'resolution2408', 'resolution2412',\n",
       "       'resolution2436', 'resolution2460', 'resolution2480',\n",
       "       'resolution2532', 'resolution2556', 'resolution2640',\n",
       "       'resolution2688', 'resolution2772x1240', 'resolution2778',\n",
       "       'resolution2796', 'resolution3088', 'resolution3216',\n",
       "       'resolution720', 'resolution720x1600', 'resolution750', 'response',\n",
       "       'retina', 'rheinland', 'right', 's5e3830', 's5e8535', 'samoled',\n",
       "       'sampling', 'samsung', 'saturation', 'sc9863a1processor', 'scan',\n",
       "       'schott', 'screen', 'sdm450', 'sealing', 'seamless', 'sensor',\n",
       "       'sgs', 'si', 'side', 'simultaneously', 'six', 'size', 'size10',\n",
       "       'size11', 'size12', 'size13', 'size14', 'size15', 'size16',\n",
       "       'size17', 'size19', 'size3', 'size4', 'size5', 'slim', 'sm6375',\n",
       "       'smart', 'smooth', 'snapdragon', 'space', 'speed1', 'speed2',\n",
       "       'speed208', 'speed3', 'splash', 'srgb', 'standard', 'static',\n",
       "       'storage1024', 'storage128', 'storage128gb', 'storage16',\n",
       "       'storage1tb', 'storage2', 'storage256', 'storage256gb',\n",
       "       'storage2tb', 'storage32', 'storage512', 'storage512gb',\n",
       "       'storage6', 'storage64', 'storage8', 'stroboscopic', 'sunlight',\n",
       "       'sunshine', 'super', 'supplier', 'support', 'supports',\n",
       "       'supportyes', 'supportyesdisplay', 'supportyesother', 'sync',\n",
       "       'systemandroid', 'systemandroidprocessor', 'systemios', 't2x',\n",
       "       't606processor', 't610processor', 't612processor', 't616processor',\n",
       "       't830', 'tap', 'technology', 'technologyhd', 'technologyother',\n",
       "       'temperature', 'texture', 'tft', 'tftother', 'than', 'that', 'the',\n",
       "       'to', 'tone', 'top', 'touch', 'tp', 'true', 'tsr', 'tuv', 'typ',\n",
       "       'type', 'type2', 'typea10', 'typea11', 'typea12', 'typea13',\n",
       "       'typea14', 'typea15', 'typea16', 'typea6', 'typea8', 'typea9',\n",
       "       'typeall', 'typeamoled', 'typeamoleddisplay', 'typeamoledother',\n",
       "       'typeapple', 'typecapacitive', 'typedimensity', 'typedotdisplayhd',\n",
       "       'typedynamic', 'typeexynos', 'typefhd', 'typefluid', 'typefull',\n",
       "       'typehd', 'typehddisplay', 'typehdgpuadreno', 'typehdgpumali',\n",
       "       'typehelio', 'typein', 'typeips', 'typeipsother', 'typelcdhd',\n",
       "       'typeled', 'typeli', 'typeliquid', 'typemediatek',\n",
       "       'typemt6763tprocessor', 'typemtk', 'typeocta', 'typepls',\n",
       "       'typequad', 'typequalcomm', 'typeretina', 'typesamsung', 'typesec',\n",
       "       'typesnapdragon', 'typesuper', 'typetft', 'typetftdisplay',\n",
       "       'typetfthd', 'typeunisoc', 'typewidescreen', 'typical', 'tüv',\n",
       "       'ultra', 'under', 'unlock', 'up', 'upper', 'upto', 'usb',\n",
       "       'v11processor', 'v12', 'value', 'view', 'viewing', 'vision',\n",
       "       'visuals', 'vivid', 'wake', 'water', 'wide', 'widescreen', 'will',\n",
       "       'with', 'xdr', 'xensation', 'you', 'zoom'], dtype=object)"
      ]
     },
     "execution_count": 17,
     "metadata": {},
     "output_type": "execute_result"
    }
   ],
   "source": [
    "cont_vect.get_feature_names_out()"
   ]
  },
  {
   "cell_type": "markdown",
   "metadata": {},
   "source": [
    "## Calculating cosine similarity"
   ]
  },
  {
   "cell_type": "code",
   "execution_count": 18,
   "metadata": {},
   "outputs": [],
   "source": [
    "from sklearn.metrics.pairwise import cosine_similarity"
   ]
  },
  {
   "cell_type": "code",
   "execution_count": 19,
   "metadata": {},
   "outputs": [
    {
     "data": {
      "text/plain": [
       "(2533, 2533)"
      ]
     },
     "execution_count": 19,
     "metadata": {},
     "output_type": "execute_result"
    }
   ],
   "source": [
    "similarity = cosine_similarity(vectors)\n",
    "similarity.shape # this is because I have calculated the similarity among all the rows to all the rows(confusing?? but try to understand)"
   ]
  },
  {
   "cell_type": "code",
   "execution_count": 20,
   "metadata": {},
   "outputs": [
    {
     "data": {
      "text/plain": [
       "array([0.27209298, 0.15534244, 0.39861699, ..., 0.12371791, 0.15228623,\n",
       "       0.27602622])"
      ]
     },
     "execution_count": 20,
     "metadata": {},
     "output_type": "execute_result"
    }
   ],
   "source": [
    "similarity[3]"
   ]
  },
  {
   "cell_type": "code",
   "execution_count": 21,
   "metadata": {},
   "outputs": [
    {
     "data": {
      "text/plain": [
       "[(1098, 1.0),\n",
       " (2387, 1.0),\n",
       " (783, 0.9850746268656716),\n",
       " (2524, 0.9850746268656716),\n",
       " (1026, 0.9701492537313433),\n",
       " (1958, 0.9701492537313433),\n",
       " (2488, 0.9701492537313433),\n",
       " (318, 0.9468131937613655),\n",
       " (556, 0.9468131937613655),\n",
       " (900, 0.9468131937613655)]"
      ]
     },
     "execution_count": 21,
     "metadata": {},
     "output_type": "execute_result"
    }
   ],
   "source": [
    "sorted(list(enumerate(similarity[0])),reverse=True,key=lambda x:x[1])[1:11]"
   ]
  },
  {
   "cell_type": "code",
   "execution_count": 22,
   "metadata": {},
   "outputs": [],
   "source": [
    "def recommend(mobile):\n",
    "    mobile_index = df[df['name']==mobile].index[0]\n",
    "    similarity_array = similarity[mobile_index]\n",
    "    similar_10_mobiles = sorted(list(enumerate(similarity_array)),reverse=True,key=lambda x:x[1])[1:11]\n",
    "    \n",
    "    for i in similar_10_mobiles:\n",
    "        print(df['name'].iloc[i[0]])\n",
    "\n"
   ]
  },
  {
   "cell_type": "code",
   "execution_count": 23,
   "metadata": {},
   "outputs": [
    {
     "name": "stdout",
     "output_type": "stream",
     "text": [
      "APPLE iPhone 13 mini (Starlight, 128 GB)\n",
      "APPLE iPhone 13 mini (Blue, 128 GB)\n",
      "APPLE iPhone 13 mini ((PRODUCT)RED, 128 GB)\n",
      "APPLE iPhone 13 mini (Green, 256 GB)\n",
      "APPLE iPhone 13 mini (Pink, 512 GB)\n",
      "APPLE iPhone 13 mini (Starlight, 256 GB)\n",
      "APPLE iPhone 13 mini (Midnight, 512 GB)\n",
      "APPLE iPhone 13 mini (Starlight, 512 GB)\n",
      "APPLE iPhone 13 mini (Midnight, 128 GB)\n",
      "APPLE iPhone 13 mini ((PRODUCT)RED, 512 GB)\n"
     ]
    }
   ],
   "source": [
    "recommend('APPLE iPhone 13 mini (Blue, 128 GB)')"
   ]
  },
  {
   "cell_type": "markdown",
   "metadata": {},
   "source": [
    "## making Pickle file of df and similarities to use in web"
   ]
  },
  {
   "cell_type": "code",
   "execution_count": 24,
   "metadata": {},
   "outputs": [],
   "source": [
    "os.makedirs(r'src\\model',exist_ok=True)"
   ]
  },
  {
   "cell_type": "code",
   "execution_count": 25,
   "metadata": {},
   "outputs": [],
   "source": [
    "pickle.dump(obj=df,file=open(file=r'src\\model\\dataframe.pkl',mode='wb'))"
   ]
  },
  {
   "cell_type": "code",
   "execution_count": 26,
   "metadata": {},
   "outputs": [],
   "source": [
    "pickle.dump(obj=similarity,file=open(file=r'src\\model\\similarity.pkl',mode='wb'))"
   ]
  },
  {
   "cell_type": "code",
   "execution_count": null,
   "metadata": {},
   "outputs": [],
   "source": []
  }
 ],
 "metadata": {
  "kernelspec": {
   "display_name": "Python 3",
   "language": "python",
   "name": "python3"
  },
  "language_info": {
   "codemirror_mode": {
    "name": "ipython",
    "version": 3
   },
   "file_extension": ".py",
   "mimetype": "text/x-python",
   "name": "python",
   "nbconvert_exporter": "python",
   "pygments_lexer": "ipython3",
   "version": "3.11.3"
  },
  "orig_nbformat": 4
 },
 "nbformat": 4,
 "nbformat_minor": 2
}
