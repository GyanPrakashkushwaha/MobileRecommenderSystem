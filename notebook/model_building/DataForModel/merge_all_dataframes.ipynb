{
 "cells": [
  {
   "cell_type": "code",
   "execution_count": 1,
   "metadata": {},
   "outputs": [],
   "source": [
    "import pandas as pd\n",
    "import numpy as np\n",
    "import os\n",
    "from typing import Callable # this is to define test_func functions dtype as function itself\n",
    "import re # for regural expression\n",
    "import warnings\n",
    "warnings.filterwarnings('ignore')"
   ]
  },
  {
   "cell_type": "code",
   "execution_count": 2,
   "metadata": {},
   "outputs": [
    {
     "name": "stdout",
     "output_type": "stream",
     "text": [
      "d:\\vscode_machineLearning\\BEST_PROJECTS\\mobileRecommenderSystem\\notebook\\model_building\\DataForModel\n",
      "d:\\vscode_machineLearning\\BEST_PROJECTS\\mobileRecommenderSystem\n"
     ]
    }
   ],
   "source": [
    "print(os.getcwd())\n",
    "os.chdir(r'd:\\vscode_machineLearning\\BEST_PROJECTS\\mobileRecommenderSystem')\n",
    "print(os.getcwd())"
   ]
  },
  {
   "cell_type": "code",
   "execution_count": 4,
   "metadata": {},
   "outputs": [],
   "source": [
    "mi = pd.read_csv(filepath_or_buffer=r'data\\data_for_model\\mi_mobile_new_data.csv',   index_col=False)\n",
    "samsung = pd.read_csv(filepath_or_buffer=r'data\\data_for_model\\samsung_mobile_new_data.csv',   index_col=False)\n",
    "apple = pd.read_csv(filepath_or_buffer=r'data\\data_for_model\\apple_mobile_new_data.csv',   index_col=False)\n",
    "onePlus = pd.read_csv(filepath_or_buffer=r'data\\data_for_model\\one_plus_mobile_new_data.csv',   index_col=False)\n",
    "realme = pd.read_csv(filepath_or_buffer=r'data\\data_for_model\\realme_mobile_data.csv',   index_col=False)\n",
    "vivo = pd.read_csv(filepath_or_buffer=r'data\\data_for_model\\vivo_mobile_data.csv',   index_col=False)\n",
    "oppo = pd.read_csv(filepath_or_buffer=r'data\\data_for_model\\oppo_mobile_data.csv',   index_col=False)\n",
    "motorola = pd.read_csv(filepath_or_buffer=r'data\\data_for_model\\motorola_mobile_data.csv',   index_col=False)\n",
    "techno = pd.read_csv(filepath_or_buffer=r'data\\data_for_model\\techno_mobile_data.csv',   index_col=False)\n",
    "infinix = pd.read_csv(filepath_or_buffer=r'data\\data_for_model\\infinix_mobile_data.csv',   index_col=False)"
   ]
  },
  {
   "cell_type": "code",
   "execution_count": 5,
   "metadata": {},
   "outputs": [],
   "source": [
    "dataframes_dict = {\n",
    "    'mi': mi,\n",
    "    'samsung': samsung,\n",
    "    'apple': apple,\n",
    "    'onePlus': onePlus,\n",
    "    'realme': realme,\n",
    "    'vivo': vivo,\n",
    "    'oppo': oppo,\n",
    "    'motorola': motorola,\n",
    "    'techno': techno,\n",
    "    'infinix': infinix\n",
    "}\n"
   ]
  },
  {
   "cell_type": "code",
   "execution_count": 6,
   "metadata": {},
   "outputs": [],
   "source": [
    "dataframes_list = [mi, samsung, apple, onePlus, realme, vivo, oppo, motorola, techno, infinix]"
   ]
  },
  {
   "cell_type": "code",
   "execution_count": 7,
   "metadata": {},
   "outputs": [
    {
     "name": "stdout",
     "output_type": "stream",
     "text": [
      "notfound\n"
     ]
    }
   ],
   "source": [
    "for df_name ,df in dataframes_dict.items():\n",
    "    try:\n",
    "        df = df.drop(columns=['index'],inplace=True)\n",
    "    except:\n",
    "        print('notfound')\n",
    "    # print(func_apply(func=camera_extract,col_name='camera',df=df,df_name=df_name))"
   ]
  },
  {
   "cell_type": "code",
   "execution_count": 8,
   "metadata": {},
   "outputs": [],
   "source": [
    "DATAFRAME = pd.concat(objs=dataframes_list,ignore_index=True)"
   ]
  },
  {
   "cell_type": "code",
   "execution_count": 9,
   "metadata": {},
   "outputs": [],
   "source": [
    "## shuffeling the data\n",
    "DATAFRAME = DATAFRAME.sample(frac=0.9,ignore_index=True)"
   ]
  },
  {
   "cell_type": "code",
   "execution_count": 10,
   "metadata": {},
   "outputs": [
    {
     "data": {
      "text/plain": [
       "Index(['name', 'ratings', 'price', 'imgURL', 'storage_ram', 'os_processor',\n",
       "       'camera', 'display', 'network', 'battery'],\n",
       "      dtype='object')"
      ]
     },
     "execution_count": 10,
     "metadata": {},
     "output_type": "execute_result"
    }
   ],
   "source": [
    "DATAFRAME.columns"
   ]
  },
  {
   "cell_type": "code",
   "execution_count": null,
   "metadata": {},
   "outputs": [],
   "source": []
  },
  {
   "cell_type": "code",
   "execution_count": 11,
   "metadata": {},
   "outputs": [],
   "source": [
    "DATAFRAME['corpus'] = DATAFRAME['storage_ram'] +  ' ' + DATAFRAME['os_processor']+  ' ' + DATAFRAME['camera'] +  ' '+ DATAFRAME['network']+  ' ' + DATAFRAME['battery'] +  ' ' + DATAFRAME['display']"
   ]
  },
  {
   "cell_type": "code",
   "execution_count": 12,
   "metadata": {},
   "outputs": [],
   "source": [
    "DATAFRAME = DATAFRAME.drop(columns=['storage_ram', 'os_processor',\n",
    "       'camera', 'display', 'network', 'battery'])"
   ]
  },
  {
   "cell_type": "code",
   "execution_count": null,
   "metadata": {},
   "outputs": [],
   "source": [
    "DATAFRAME.to_csv(path_or_buf=r'data\\final_dataFrame.csv',index=False)"
   ]
  },
  {
   "cell_type": "code",
   "execution_count": null,
   "metadata": {},
   "outputs": [],
   "source": []
  }
 ],
 "metadata": {
  "kernelspec": {
   "display_name": "Python 3",
   "language": "python",
   "name": "python3"
  },
  "language_info": {
   "codemirror_mode": {
    "name": "ipython",
    "version": 3
   },
   "file_extension": ".py",
   "mimetype": "text/x-python",
   "name": "python",
   "nbconvert_exporter": "python",
   "pygments_lexer": "ipython3",
   "version": "3.11.3"
  },
  "orig_nbformat": 4
 },
 "nbformat": 4,
 "nbformat_minor": 2
}
