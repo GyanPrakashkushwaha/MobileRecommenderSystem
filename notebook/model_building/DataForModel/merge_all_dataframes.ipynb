{
 "cells": [
  {
   "cell_type": "code",
   "execution_count": 23,
   "metadata": {},
   "outputs": [],
   "source": [
    "import pandas as pd\n",
    "import numpy as np\n",
    "import os\n",
    "from typing import Callable # this is to define test_func functions dtype as function itself\n",
    "import re # for regural expression\n",
    "import warnings\n",
    "warnings.filterwarnings('ignore')"
   ]
  },
  {
   "cell_type": "code",
   "execution_count": 24,
   "metadata": {},
   "outputs": [
    {
     "name": "stdout",
     "output_type": "stream",
     "text": [
      "d:\\vscode_machineLearning\\BEST_PROJECTS\\mobileRecommenderSystem\n",
      "d:\\vscode_machineLearning\\BEST_PROJECTS\\mobileRecommenderSystem\n"
     ]
    }
   ],
   "source": [
    "print(os.getcwd())\n",
    "os.chdir(r'd:\\vscode_machineLearning\\BEST_PROJECTS\\mobileRecommenderSystem')\n",
    "print(os.getcwd())"
   ]
  },
  {
   "cell_type": "code",
   "execution_count": 25,
   "metadata": {},
   "outputs": [],
   "source": [
    "mi = pd.read_csv(filepath_or_buffer=r'data\\data_for_model\\mi_mobile_new_data.csv',   index_col=False)\n",
    "samsung = pd.read_csv(filepath_or_buffer=r'data\\data_for_model\\samsung_mobile_new_data.csv',   index_col=False)\n",
    "apple = pd.read_csv(filepath_or_buffer=r'data\\data_for_model\\apple_mobile_new_data.csv',   index_col=False)\n",
    "onePlus = pd.read_csv(filepath_or_buffer=r'data\\data_for_model\\one_plus_mobile_new_data.csv',   index_col=False)\n",
    "realme = pd.read_csv(filepath_or_buffer=r'data\\data_for_model\\realme_mobile_data.csv',   index_col=False)\n",
    "vivo = pd.read_csv(filepath_or_buffer=r'data\\data_for_model\\vivo_mobile_data.csv',   index_col=False)\n",
    "oppo = pd.read_csv(filepath_or_buffer=r'data\\data_for_model\\oppo_mobile_data.csv',   index_col=False)\n",
    "motorola = pd.read_csv(filepath_or_buffer=r'data\\data_for_model\\motorola_mobile_data.csv',   index_col=False)\n",
    "techno = pd.read_csv(filepath_or_buffer=r'data\\data_for_model\\techno_mobile_data.csv',   index_col=False)\n",
    "infinix = pd.read_csv(filepath_or_buffer=r'data\\data_for_model\\infinix_mobile_data.csv',   index_col=False)"
   ]
  },
  {
   "cell_type": "code",
   "execution_count": 26,
   "metadata": {},
   "outputs": [],
   "source": [
    "dataframes_dict = {\n",
    "    'mi': mi,\n",
    "    'samsung': samsung,\n",
    "    'apple': apple,\n",
    "    'onePlus': onePlus,\n",
    "    'realme': realme,\n",
    "    'vivo': vivo,\n",
    "    'oppo': oppo,\n",
    "    'motorola': motorola,\n",
    "    'techno': techno,\n",
    "    'infinix': infinix\n",
    "}\n"
   ]
  },
  {
   "cell_type": "code",
   "execution_count": 27,
   "metadata": {},
   "outputs": [],
   "source": [
    "dataframes_list = [mi, samsung, apple, onePlus, realme, vivo, oppo, motorola, techno, infinix]"
   ]
  },
  {
   "cell_type": "code",
   "execution_count": 28,
   "metadata": {},
   "outputs": [
    {
     "name": "stdout",
     "output_type": "stream",
     "text": [
      "notfound\n",
      "notfound\n",
      "notfound\n",
      "notfound\n",
      "notfound\n",
      "notfound\n",
      "notfound\n",
      "notfound\n",
      "notfound\n",
      "notfound\n"
     ]
    }
   ],
   "source": [
    "for df_name ,df in dataframes_dict.items():\n",
    "    try:\n",
    "        df = df.drop(columns=['index'],inplace=True)\n",
    "    except:\n",
    "        print('notfound')\n",
    "    # print(func_apply(func=camera_extract,col_name='camera',df=df,df_name=df_name))"
   ]
  },
  {
   "cell_type": "code",
   "execution_count": 29,
   "metadata": {},
   "outputs": [],
   "source": [
    "DATAFRAME = pd.concat(objs=dataframes_list,ignore_index=True)"
   ]
  },
  {
   "cell_type": "code",
   "execution_count": 30,
   "metadata": {},
   "outputs": [],
   "source": [
    "## shuffeling the data\n",
    "DATAFRAME = DATAFRAME.sample(frac=0.9,ignore_index=True)"
   ]
  },
  {
   "cell_type": "code",
   "execution_count": 31,
   "metadata": {},
   "outputs": [
    {
     "data": {
      "text/plain": [
       "Index(['name', 'ratings', 'price', 'imgURL', 'storage_ram', 'os_processor',\n",
       "       'camera', 'display', 'network', 'battery'],\n",
       "      dtype='object')"
      ]
     },
     "execution_count": 31,
     "metadata": {},
     "output_type": "execute_result"
    }
   ],
   "source": [
    "DATAFRAME.columns"
   ]
  },
  {
   "cell_type": "code",
   "execution_count": null,
   "metadata": {},
   "outputs": [],
   "source": []
  },
  {
   "cell_type": "code",
   "execution_count": 32,
   "metadata": {},
   "outputs": [],
   "source": [
    "DATAFRAME['corpus'] = DATAFRAME['storage_ram'] +  ' ' + DATAFRAME['os_processor']+  ' ' + DATAFRAME['camera'] +  ' '+ DATAFRAME['network']+  ' ' + DATAFRAME['battery'] +  ' ' + DATAFRAME['display'] + ' '+ str(DATAFRAME['price'])"
   ]
  },
  {
   "cell_type": "code",
   "execution_count": 33,
   "metadata": {},
   "outputs": [],
   "source": [
    "DATAFRAME = DATAFRAME.drop(columns=['storage_ram', 'os_processor',\n",
    "       'camera', 'display', 'network', 'battery'])"
   ]
  },
  {
   "cell_type": "code",
   "execution_count": 37,
   "metadata": {},
   "outputs": [
    {
     "data": {
      "text/html": [
       "<div>\n",
       "<style scoped>\n",
       "    .dataframe tbody tr th:only-of-type {\n",
       "        vertical-align: middle;\n",
       "    }\n",
       "\n",
       "    .dataframe tbody tr th {\n",
       "        vertical-align: top;\n",
       "    }\n",
       "\n",
       "    .dataframe thead th {\n",
       "        text-align: right;\n",
       "    }\n",
       "</style>\n",
       "<table border=\"1\" class=\"dataframe\">\n",
       "  <thead>\n",
       "    <tr style=\"text-align: right;\">\n",
       "      <th></th>\n",
       "      <th>name</th>\n",
       "      <th>ratings</th>\n",
       "      <th>price</th>\n",
       "      <th>imgURL</th>\n",
       "      <th>corpus</th>\n",
       "    </tr>\n",
       "  </thead>\n",
       "  <tbody>\n",
       "    <tr>\n",
       "      <th>1400</th>\n",
       "      <td>Xiaomi 11Lite NE (Jazz Blue, 128 GB)</td>\n",
       "      <td>4.2</td>\n",
       "      <td>₹22,970</td>\n",
       "      <td>https://rukminim2.flixcart.com/image/312/312/x...</td>\n",
       "      <td>Storage128 GBRAM8 GBExpandable Storage1TB  Sys...</td>\n",
       "    </tr>\n",
       "    <tr>\n",
       "      <th>1806</th>\n",
       "      <td>realme Narzo 50 Pro 5G (Hyper Blue, 128 GB)</td>\n",
       "      <td>4.2</td>\n",
       "      <td>₹21,495</td>\n",
       "      <td>https://rukminim2.flixcart.com/image/312/312/x...</td>\n",
       "      <td>Storage128 GBRAM8  SystemAndroid 12Processor T...</td>\n",
       "    </tr>\n",
       "    <tr>\n",
       "      <th>1847</th>\n",
       "      <td>Infinix Hot 10S (95° Black, 64 GB)</td>\n",
       "      <td>4.3</td>\n",
       "      <td>₹10,999</td>\n",
       "      <td>https://rukminim2.flixcart.com/image/312/312/k...</td>\n",
       "      <td>Storage64 GBRAM6 GBExpandable Storage256GB  Sy...</td>\n",
       "    </tr>\n",
       "    <tr>\n",
       "      <th>1291</th>\n",
       "      <td>vivo Y21T (Midnight Blue, 128 GB)</td>\n",
       "      <td>4.4</td>\n",
       "      <td>₹15,499</td>\n",
       "      <td>https://rukminim2.flixcart.com/image/312/312/x...</td>\n",
       "      <td>Storage128 GBRAM4 GBExpandable Storage1TB  Sys...</td>\n",
       "    </tr>\n",
       "    <tr>\n",
       "      <th>696</th>\n",
       "      <td>realme C20 (Cool Blue, 32 GB)</td>\n",
       "      <td>4.4</td>\n",
       "      <td>₹7,499</td>\n",
       "      <td>https://rukminim2.flixcart.com/image/312/312/k...</td>\n",
       "      <td>Storage32 GBRAM2 GBExpandable Storage256GB  Sy...</td>\n",
       "    </tr>\n",
       "    <tr>\n",
       "      <th>362</th>\n",
       "      <td>APPLE iPhone 8 Plus (Gold, 64 GB)</td>\n",
       "      <td>4.6</td>\n",
       "      <td>₹49,900</td>\n",
       "      <td>https://rukminim2.flixcart.com/image/312/312/j...</td>\n",
       "      <td>Storage64  SystemiOS 12Processor TypeA11 Bioni...</td>\n",
       "    </tr>\n",
       "  </tbody>\n",
       "</table>\n",
       "</div>"
      ],
      "text/plain": [
       "                                             name  ratings    price   \n",
       "1400         Xiaomi 11Lite NE (Jazz Blue, 128 GB)      4.2  ₹22,970  \\\n",
       "1806  realme Narzo 50 Pro 5G (Hyper Blue, 128 GB)      4.2  ₹21,495   \n",
       "1847           Infinix Hot 10S (95° Black, 64 GB)      4.3  ₹10,999   \n",
       "1291            vivo Y21T (Midnight Blue, 128 GB)      4.4  ₹15,499   \n",
       "696                 realme C20 (Cool Blue, 32 GB)      4.4   ₹7,499   \n",
       "362             APPLE iPhone 8 Plus (Gold, 64 GB)      4.6  ₹49,900   \n",
       "\n",
       "                                                 imgURL   \n",
       "1400  https://rukminim2.flixcart.com/image/312/312/x...  \\\n",
       "1806  https://rukminim2.flixcart.com/image/312/312/x...   \n",
       "1847  https://rukminim2.flixcart.com/image/312/312/k...   \n",
       "1291  https://rukminim2.flixcart.com/image/312/312/x...   \n",
       "696   https://rukminim2.flixcart.com/image/312/312/k...   \n",
       "362   https://rukminim2.flixcart.com/image/312/312/j...   \n",
       "\n",
       "                                                 corpus  \n",
       "1400  Storage128 GBRAM8 GBExpandable Storage1TB  Sys...  \n",
       "1806  Storage128 GBRAM8  SystemAndroid 12Processor T...  \n",
       "1847  Storage64 GBRAM6 GBExpandable Storage256GB  Sy...  \n",
       "1291  Storage128 GBRAM4 GBExpandable Storage1TB  Sys...  \n",
       "696   Storage32 GBRAM2 GBExpandable Storage256GB  Sy...  \n",
       "362   Storage64  SystemiOS 12Processor TypeA11 Bioni...  "
      ]
     },
     "execution_count": 37,
     "metadata": {},
     "output_type": "execute_result"
    }
   ],
   "source": [
    "DATAFRAME.sample(6)"
   ]
  },
  {
   "cell_type": "code",
   "execution_count": 38,
   "metadata": {},
   "outputs": [],
   "source": [
    "DATAFRAME.to_csv(path_or_buf=r'data\\final_dataFrame.csv',index=False)"
   ]
  },
  {
   "cell_type": "code",
   "execution_count": null,
   "metadata": {},
   "outputs": [],
   "source": []
  }
 ],
 "metadata": {
  "kernelspec": {
   "display_name": "Python 3",
   "language": "python",
   "name": "python3"
  },
  "language_info": {
   "codemirror_mode": {
    "name": "ipython",
    "version": 3
   },
   "file_extension": ".py",
   "mimetype": "text/x-python",
   "name": "python",
   "nbconvert_exporter": "python",
   "pygments_lexer": "ipython3",
   "version": "3.11.3"
  },
  "orig_nbformat": 4
 },
 "nbformat": 4,
 "nbformat_minor": 2
}
