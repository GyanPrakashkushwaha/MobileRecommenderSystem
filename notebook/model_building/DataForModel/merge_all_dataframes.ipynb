{
 "cells": [
  {
   "cell_type": "code",
   "execution_count": 1,
   "metadata": {},
   "outputs": [],
   "source": [
    "import pandas as pd\n",
    "import numpy as np\n",
    "import os\n",
    "from typing import Callable # this is to define test_func functions dtype as function itself\n",
    "import re # for regural expression\n",
    "import warnings\n",
    "warnings.filterwarnings('ignore')"
   ]
  },
  {
   "cell_type": "code",
   "execution_count": 2,
   "metadata": {},
   "outputs": [
    {
     "name": "stdout",
     "output_type": "stream",
     "text": [
      "d:\\vscode_machineLearning\\BEST_PROJECTS\\mobileRecommenderSystem\\notebook\\model_building\\DataForModel\n",
      "d:\\vscode_machineLearning\\BEST_PROJECTS\\mobileRecommenderSystem\n"
     ]
    }
   ],
   "source": [
    "print(os.getcwd())\n",
    "os.chdir(r'd:\\vscode_machineLearning\\BEST_PROJECTS\\mobileRecommenderSystem')\n",
    "print(os.getcwd())"
   ]
  },
  {
   "cell_type": "code",
   "execution_count": 3,
   "metadata": {},
   "outputs": [],
   "source": [
    "mi = pd.read_csv(filepath_or_buffer=r'data\\data_for_model\\mi_mobile_new_data.csv',   index_col=False)\n",
    "samsung = pd.read_csv(filepath_or_buffer=r'data\\data_for_model\\samsung_mobile_new_data.csv',   index_col=False)\n",
    "apple = pd.read_csv(filepath_or_buffer=r'data\\data_for_model\\apple_mobile_new_data.csv',   index_col=False)\n",
    "onePlus = pd.read_csv(filepath_or_buffer=r'data\\data_for_model\\one_plus_mobile_new_data.csv',   index_col=False)\n",
    "realme = pd.read_csv(filepath_or_buffer=r'data\\data_for_model\\realme_mobile_data.csv',   index_col=False)\n",
    "vivo = pd.read_csv(filepath_or_buffer=r'data\\data_for_model\\vivo_mobile_data.csv',   index_col=False)\n",
    "oppo = pd.read_csv(filepath_or_buffer=r'data\\data_for_model\\oppo_mobile_data.csv',   index_col=False)\n",
    "motorola = pd.read_csv(filepath_or_buffer=r'data\\data_for_model\\motorola_mobile_data.csv',   index_col=False)\n",
    "techno = pd.read_csv(filepath_or_buffer=r'data\\data_for_model\\techno_mobile_data.csv',   index_col=False)\n",
    "infinix = pd.read_csv(filepath_or_buffer=r'data\\data_for_model\\infinix_mobile_data.csv',   index_col=False)"
   ]
  },
  {
   "cell_type": "code",
   "execution_count": 4,
   "metadata": {},
   "outputs": [],
   "source": [
    "dataframes_dict = {\n",
    "    'mi': mi,\n",
    "    'samsung': samsung,\n",
    "    'apple': apple,\n",
    "    'onePlus': onePlus,\n",
    "    'realme': realme,\n",
    "    'vivo': vivo,\n",
    "    'oppo': oppo,\n",
    "    'motorola': motorola,\n",
    "    'techno': techno,\n",
    "    'infinix': infinix\n",
    "}\n"
   ]
  },
  {
   "cell_type": "code",
   "execution_count": 5,
   "metadata": {},
   "outputs": [],
   "source": [
    "dataframes_list = [mi, samsung, apple, onePlus, realme, vivo, oppo, motorola, techno, infinix]"
   ]
  },
  {
   "cell_type": "code",
   "execution_count": 6,
   "metadata": {},
   "outputs": [
    {
     "name": "stdout",
     "output_type": "stream",
     "text": [
      "notfound\n"
     ]
    }
   ],
   "source": [
    "for df_name ,df in dataframes_dict.items():\n",
    "    try:\n",
    "        df = df.drop(columns=['index'],inplace=True)\n",
    "    except:\n",
    "        print('notfound')\n",
    "    # print(func_apply(func=camera_extract,col_name='camera',df=df,df_name=df_name))"
   ]
  },
  {
   "cell_type": "code",
   "execution_count": 7,
   "metadata": {},
   "outputs": [],
   "source": [
    "DATAFRAME = pd.concat(objs=dataframes_list,ignore_index=True)"
   ]
  },
  {
   "cell_type": "code",
   "execution_count": 8,
   "metadata": {},
   "outputs": [],
   "source": [
    "## shuffeling the data\n",
    "DATAFRAME = DATAFRAME.sample(frac=0.9,ignore_index=True)"
   ]
  },
  {
   "cell_type": "code",
   "execution_count": 9,
   "metadata": {},
   "outputs": [
    {
     "data": {
      "text/plain": [
       "Index(['name', 'ratings', 'price', 'imgURL', 'storage_ram', 'os_processor',\n",
       "       'camera', 'display', 'network', 'battery'],\n",
       "      dtype='object')"
      ]
     },
     "execution_count": 9,
     "metadata": {},
     "output_type": "execute_result"
    }
   ],
   "source": [
    "DATAFRAME.columns"
   ]
  },
  {
   "cell_type": "code",
   "execution_count": null,
   "metadata": {},
   "outputs": [],
   "source": []
  },
  {
   "cell_type": "code",
   "execution_count": 13,
   "metadata": {},
   "outputs": [],
   "source": [
    "DATAFRAME['corpus'] = DATAFRAME['storage_ram'] +  ' ' + DATAFRAME['os_processor']+  ' ' + DATAFRAME['camera'] +  ' '+ DATAFRAME['network']+  ' ' + DATAFRAME['battery'] +  ' ' + DATAFRAME['display'] + ' '+ str(DATAFRAME['price'])"
   ]
  },
  {
   "cell_type": "code",
   "execution_count": 14,
   "metadata": {},
   "outputs": [],
   "source": [
    "DATAFRAME = DATAFRAME.drop(columns=['storage_ram', 'os_processor',\n",
    "       'camera', 'display', 'network', 'battery'])"
   ]
  },
  {
   "cell_type": "code",
   "execution_count": 22,
   "metadata": {},
   "outputs": [
    {
     "data": {
      "text/html": [
       "<div>\n",
       "<style scoped>\n",
       "    .dataframe tbody tr th:only-of-type {\n",
       "        vertical-align: middle;\n",
       "    }\n",
       "\n",
       "    .dataframe tbody tr th {\n",
       "        vertical-align: top;\n",
       "    }\n",
       "\n",
       "    .dataframe thead th {\n",
       "        text-align: right;\n",
       "    }\n",
       "</style>\n",
       "<table border=\"1\" class=\"dataframe\">\n",
       "  <thead>\n",
       "    <tr style=\"text-align: right;\">\n",
       "      <th></th>\n",
       "      <th>name</th>\n",
       "      <th>ratings</th>\n",
       "      <th>price</th>\n",
       "      <th>imgURL</th>\n",
       "      <th>corpus</th>\n",
       "    </tr>\n",
       "  </thead>\n",
       "  <tbody>\n",
       "    <tr>\n",
       "      <th>2077</th>\n",
       "      <td>SAMSUNG Galaxy M11 (Violet, 64 GB)</td>\n",
       "      <td>4.4</td>\n",
       "      <td>12999</td>\n",
       "      <td>https://rukminim2.flixcart.com/image/312/312/k...</td>\n",
       "      <td>Storage64 GBRAM4 GBExpandable Storage512GB  Sy...</td>\n",
       "    </tr>\n",
       "    <tr>\n",
       "      <th>160</th>\n",
       "      <td>vivo Y100A (Metal Black, 256 GB)</td>\n",
       "      <td>4.4</td>\n",
       "      <td>25999</td>\n",
       "      <td>https://rukminim2.flixcart.com/image/312/312/x...</td>\n",
       "      <td>Storage256 GBRAM8  SystemAndroid 13Processor T...</td>\n",
       "    </tr>\n",
       "    <tr>\n",
       "      <th>1990</th>\n",
       "      <td>OPPO A78 5G (Glowing Blue, 128 GB)</td>\n",
       "      <td>4.3</td>\n",
       "      <td>₹18,142</td>\n",
       "      <td>https://rukminim2.flixcart.com/image/312/312/x...</td>\n",
       "      <td>Storage128 GBRAM8  SystemAndroidProcessor Spee...</td>\n",
       "    </tr>\n",
       "    <tr>\n",
       "      <th>2282</th>\n",
       "      <td>OPPO Reno8T 5G (Midnight Black, 128 GB)</td>\n",
       "      <td>4.3</td>\n",
       "      <td>₹29,999</td>\n",
       "      <td>https://rukminim2.flixcart.com/image/312/312/x...</td>\n",
       "      <td>Storage128 GBRAM8 GBExpandable Storage1TB  Sys...</td>\n",
       "    </tr>\n",
       "    <tr>\n",
       "      <th>475</th>\n",
       "      <td>APPLE iPhone 13 mini (Midnight, 256 GB)</td>\n",
       "      <td>4.5</td>\n",
       "      <td>71999</td>\n",
       "      <td>https://rukminim2.flixcart.com/image/312/312/k...</td>\n",
       "      <td>Storage256  SystemiOS 15Processor TypeA15 Bion...</td>\n",
       "    </tr>\n",
       "    <tr>\n",
       "      <th>355</th>\n",
       "      <td>SAMSUNG GT-E1215</td>\n",
       "      <td>4.3</td>\n",
       "      <td>1499</td>\n",
       "      <td>https://rukminim2.flixcart.com/image/312/312/k...</td>\n",
       "      <td>NaN</td>\n",
       "    </tr>\n",
       "  </tbody>\n",
       "</table>\n",
       "</div>"
      ],
      "text/plain": [
       "                                         name  ratings    price   \n",
       "2077       SAMSUNG Galaxy M11 (Violet, 64 GB)      4.4    12999  \\\n",
       "160          vivo Y100A (Metal Black, 256 GB)      4.4    25999   \n",
       "1990       OPPO A78 5G (Glowing Blue, 128 GB)      4.3  ₹18,142   \n",
       "2282  OPPO Reno8T 5G (Midnight Black, 128 GB)      4.3  ₹29,999   \n",
       "475   APPLE iPhone 13 mini (Midnight, 256 GB)      4.5    71999   \n",
       "355                          SAMSUNG GT-E1215      4.3     1499   \n",
       "\n",
       "                                                 imgURL   \n",
       "2077  https://rukminim2.flixcart.com/image/312/312/k...  \\\n",
       "160   https://rukminim2.flixcart.com/image/312/312/x...   \n",
       "1990  https://rukminim2.flixcart.com/image/312/312/x...   \n",
       "2282  https://rukminim2.flixcart.com/image/312/312/x...   \n",
       "475   https://rukminim2.flixcart.com/image/312/312/k...   \n",
       "355   https://rukminim2.flixcart.com/image/312/312/k...   \n",
       "\n",
       "                                                 corpus  \n",
       "2077  Storage64 GBRAM4 GBExpandable Storage512GB  Sy...  \n",
       "160   Storage256 GBRAM8  SystemAndroid 13Processor T...  \n",
       "1990  Storage128 GBRAM8  SystemAndroidProcessor Spee...  \n",
       "2282  Storage128 GBRAM8 GBExpandable Storage1TB  Sys...  \n",
       "475   Storage256  SystemiOS 15Processor TypeA15 Bion...  \n",
       "355                                                 NaN  "
      ]
     },
     "execution_count": 22,
     "metadata": {},
     "output_type": "execute_result"
    }
   ],
   "source": [
    "DATAFRAME.sample(6)"
   ]
  },
  {
   "cell_type": "code",
   "execution_count": 15,
   "metadata": {},
   "outputs": [],
   "source": [
    "DATAFRAME.to_csv(path_or_buf=r'data\\final_dataFrame.csv',index=False)"
   ]
  },
  {
   "cell_type": "code",
   "execution_count": null,
   "metadata": {},
   "outputs": [],
   "source": []
  }
 ],
 "metadata": {
  "kernelspec": {
   "display_name": "Python 3",
   "language": "python",
   "name": "python3"
  },
  "language_info": {
   "codemirror_mode": {
    "name": "ipython",
    "version": 3
   },
   "file_extension": ".py",
   "mimetype": "text/x-python",
   "name": "python",
   "nbconvert_exporter": "python",
   "pygments_lexer": "ipython3",
   "version": "3.11.3"
  },
  "orig_nbformat": 4
 },
 "nbformat": 4,
 "nbformat_minor": 2
}
