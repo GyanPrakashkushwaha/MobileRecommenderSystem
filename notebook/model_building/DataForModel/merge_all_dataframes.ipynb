{
 "cells": [
  {
   "cell_type": "code",
   "execution_count": 13,
   "metadata": {},
   "outputs": [],
   "source": [
    "import pandas as pd\n",
    "import numpy as np\n",
    "import os\n",
    "from typing import Callable # this is to define test_func functions dtype as function itself\n",
    "import re # for regural expression\n",
    "import warnings\n",
    "warnings.filterwarnings('ignore')"
   ]
  },
  {
   "cell_type": "code",
   "execution_count": 14,
   "metadata": {},
   "outputs": [
    {
     "name": "stdout",
     "output_type": "stream",
     "text": [
      "d:\\vscode_machineLearning\\BEST_PROJECTS\\mobileRecommenderSystem\n",
      "d:\\vscode_machineLearning\\BEST_PROJECTS\\mobileRecommenderSystem\n"
     ]
    }
   ],
   "source": [
    "print(os.getcwd())\n",
    "os.chdir(r'd:\\vscode_machineLearning\\BEST_PROJECTS\\mobileRecommenderSystem')\n",
    "print(os.getcwd())"
   ]
  },
  {
   "cell_type": "code",
   "execution_count": 15,
   "metadata": {},
   "outputs": [],
   "source": [
    "mi = pd.read_csv(filepath_or_buffer=r'data\\data_for_word2Vec\\mi_mobile_new_data.csv',   index_col=False)\n",
    "samsung = pd.read_csv(filepath_or_buffer=r'data\\data_for_word2Vec\\samsung_mobile_new_data.csv',   index_col=False)\n",
    "apple = pd.read_csv(filepath_or_buffer=r'data\\data_for_word2Vec\\apple_mobile_new_data.csv',   index_col=False)\n",
    "onePlus = pd.read_csv(filepath_or_buffer=r'data\\data_for_word2Vec\\one_plus_mobile_new_data.csv',   index_col=False)\n",
    "realme = pd.read_csv(filepath_or_buffer=r'data\\data_for_word2Vec\\realme_mobile_data.csv',   index_col=False)\n",
    "vivo = pd.read_csv(filepath_or_buffer=r'data\\data_for_word2Vec\\vivo_mobile_data.csv',   index_col=False)\n",
    "oppo = pd.read_csv(filepath_or_buffer=r'data\\data_for_word2Vec\\oppo_mobile_data.csv',   index_col=False)\n",
    "motorola = pd.read_csv(filepath_or_buffer=r'data\\data_for_word2Vec\\motorola_mobile_data.csv',   index_col=False)\n",
    "techno = pd.read_csv(filepath_or_buffer=r'data\\data_for_word2Vec\\techno_mobile_data.csv',   index_col=False)\n",
    "infinix = pd.read_csv(filepath_or_buffer=r'data\\data_for_word2Vec\\infinix_mobile_data.csv',   index_col=False)"
   ]
  },
  {
   "cell_type": "code",
   "execution_count": 16,
   "metadata": {},
   "outputs": [],
   "source": [
    "dataframes_dict = {\n",
    "    'mi': mi,\n",
    "    'samsung': samsung,\n",
    "    'apple': apple,\n",
    "    'onePlus': onePlus,\n",
    "    'realme': realme,\n",
    "    'vivo': vivo,\n",
    "    'oppo': oppo,\n",
    "    'motorola': motorola,\n",
    "    'techno': techno,\n",
    "    'infinix': infinix\n",
    "}\n"
   ]
  },
  {
   "cell_type": "code",
   "execution_count": 17,
   "metadata": {},
   "outputs": [],
   "source": [
    "dataframes_list = [mi, samsung, apple, onePlus, realme, vivo, oppo, motorola, techno, infinix]"
   ]
  },
  {
   "cell_type": "code",
   "execution_count": 18,
   "metadata": {},
   "outputs": [
    {
     "name": "stdout",
     "output_type": "stream",
     "text": [
      "notfound\n"
     ]
    }
   ],
   "source": [
    "for df_name ,df in dataframes_dict.items():\n",
    "    try:\n",
    "        df = df.drop(columns=['index'],inplace=True)\n",
    "    except:\n",
    "        print('notfound')\n",
    "    # print(func_apply(func=camera_extract,col_name='camera',df=df,df_name=df_name))"
   ]
  },
  {
   "cell_type": "code",
   "execution_count": 19,
   "metadata": {},
   "outputs": [],
   "source": [
    "DATAFRAME = pd.concat(objs=dataframes_list,ignore_index=True)"
   ]
  },
  {
   "cell_type": "code",
   "execution_count": 20,
   "metadata": {},
   "outputs": [],
   "source": [
    "## shuffeling the data\n",
    "DATAFRAME = DATAFRAME.sample(frac=0.9,ignore_index=True)"
   ]
  },
  {
   "cell_type": "code",
   "execution_count": 21,
   "metadata": {},
   "outputs": [
    {
     "data": {
      "text/plain": [
       "Index(['name', 'ratings', 'price', 'imgURL', 'storage_ram', 'os_processor',\n",
       "       'camera', 'display', 'network', 'battery'],\n",
       "      dtype='object')"
      ]
     },
     "execution_count": 21,
     "metadata": {},
     "output_type": "execute_result"
    }
   ],
   "source": [
    "DATAFRAME.columns"
   ]
  },
  {
   "cell_type": "code",
   "execution_count": null,
   "metadata": {},
   "outputs": [],
   "source": []
  },
  {
   "cell_type": "code",
   "execution_count": 22,
   "metadata": {},
   "outputs": [],
   "source": [
    "DATAFRAME['corpus'] = DATAFRAME['storage_ram'] +  ' ' + DATAFRAME['os_processor']+  ' ' + DATAFRAME['camera'] +  ' '+ DATAFRAME['network']+  ' ' + DATAFRAME['battery'] +  ' ' + DATAFRAME['display']"
   ]
  },
  {
   "cell_type": "code",
   "execution_count": 23,
   "metadata": {},
   "outputs": [],
   "source": [
    "DATAFRAME = DATAFRAME.drop(columns=['storage_ram', 'os_processor',\n",
    "       'camera', 'display', 'network', 'battery'])"
   ]
  },
  {
   "cell_type": "code",
   "execution_count": 24,
   "metadata": {},
   "outputs": [],
   "source": [
    "DATAFRAME.to_csv(path_or_buf=r'data\\final_dataFrame.csv',index=False)"
   ]
  },
  {
   "cell_type": "code",
   "execution_count": null,
   "metadata": {},
   "outputs": [],
   "source": []
  }
 ],
 "metadata": {
  "kernelspec": {
   "display_name": "Python 3",
   "language": "python",
   "name": "python3"
  },
  "language_info": {
   "codemirror_mode": {
    "name": "ipython",
    "version": 3
   },
   "file_extension": ".py",
   "mimetype": "text/x-python",
   "name": "python",
   "nbconvert_exporter": "python",
   "pygments_lexer": "ipython3",
   "version": "3.11.3"
  },
  "orig_nbformat": 4
 },
 "nbformat": 4,
 "nbformat_minor": 2
}
