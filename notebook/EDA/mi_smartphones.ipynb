{
 "cells": [
  {
   "cell_type": "code",
   "execution_count": 1,
   "metadata": {},
   "outputs": [],
   "source": [
    "import pandas as pd\n",
    "import os\n",
    "import numpy as np"
   ]
  },
  {
   "cell_type": "code",
   "execution_count": 2,
   "metadata": {},
   "outputs": [
    {
     "name": "stdout",
     "output_type": "stream",
     "text": [
      "d:\\vscode_machineLearning\\BEST_PROJECTS\\mobileRecommenderSystem\\notebook\\EDA\n",
      "None\n",
      "d:\\vscode_machineLearning\\BEST_PROJECTS\\mobileRecommenderSystem\n"
     ]
    }
   ],
   "source": [
    "print(os.getcwd())\n",
    "print(os.chdir(r'd:\\vscode_machineLearning\\BEST_PROJECTS\\mobileRecommenderSystem'))\n",
    "print(os.getcwd())"
   ]
  },
  {
   "cell_type": "code",
   "execution_count": 3,
   "metadata": {},
   "outputs": [],
   "source": [
    "df = pd.read_csv('data\\data_to_merge\\mi_data.csv')"
   ]
  },
  {
   "cell_type": "code",
   "execution_count": 4,
   "metadata": {},
   "outputs": [
    {
     "data": {
      "text/plain": [
       "47"
      ]
     },
     "execution_count": 4,
     "metadata": {},
     "output_type": "execute_result"
    }
   ],
   "source": [
    "df.duplicated().sum()"
   ]
  },
  {
   "cell_type": "code",
   "execution_count": 5,
   "metadata": {},
   "outputs": [],
   "source": [
    "df.drop_duplicates(inplace=True)"
   ]
  },
  {
   "cell_type": "code",
   "execution_count": 6,
   "metadata": {},
   "outputs": [
    {
     "data": {
      "text/plain": [
       "0"
      ]
     },
     "execution_count": 6,
     "metadata": {},
     "output_type": "execute_result"
    }
   ],
   "source": [
    "df.duplicated().sum()"
   ]
  },
  {
   "cell_type": "code",
   "execution_count": 7,
   "metadata": {},
   "outputs": [
    {
     "name": "stdout",
     "output_type": "stream",
     "text": [
      "<class 'pandas.core.frame.DataFrame'>\n",
      "Index: 501 entries, 0 to 547\n",
      "Data columns (total 8 columns):\n",
      " #   Column        Non-Null Count  Dtype  \n",
      "---  ------        --------------  -----  \n",
      " 0   model_names   501 non-null    object \n",
      " 1   ratings       501 non-null    float64\n",
      " 2   price         501 non-null    object \n",
      " 3   imgURL        501 non-null    object \n",
      " 4   storage_ram   501 non-null    object \n",
      " 5   os_processor  501 non-null    object \n",
      " 6   network       501 non-null    object \n",
      " 7   battery       501 non-null    object \n",
      "dtypes: float64(1), object(7)\n",
      "memory usage: 35.2+ KB\n"
     ]
    }
   ],
   "source": [
    "df.info()"
   ]
  },
  {
   "cell_type": "code",
   "execution_count": 10,
   "metadata": {},
   "outputs": [
    {
     "data": {
      "text/html": [
       "<div>\n",
       "<style scoped>\n",
       "    .dataframe tbody tr th:only-of-type {\n",
       "        vertical-align: middle;\n",
       "    }\n",
       "\n",
       "    .dataframe tbody tr th {\n",
       "        vertical-align: top;\n",
       "    }\n",
       "\n",
       "    .dataframe thead th {\n",
       "        text-align: right;\n",
       "    }\n",
       "</style>\n",
       "<table border=\"1\" class=\"dataframe\">\n",
       "  <thead>\n",
       "    <tr style=\"text-align: right;\">\n",
       "      <th></th>\n",
       "      <th>model_names</th>\n",
       "      <th>ratings</th>\n",
       "      <th>price</th>\n",
       "      <th>imgURL</th>\n",
       "      <th>storage_ram</th>\n",
       "      <th>os_processor</th>\n",
       "      <th>network</th>\n",
       "      <th>battery</th>\n",
       "    </tr>\n",
       "  </thead>\n",
       "  <tbody>\n",
       "    <tr>\n",
       "      <th>352</th>\n",
       "      <td>REDMI A2 (Aqua Blue, 32 GB)</td>\n",
       "      <td>3.9</td>\n",
       "      <td>₹6,953</td>\n",
       "      <td>https://rukminim2.flixcart.com/image/312/312/x...</td>\n",
       "      <td>Internal Storage32 GBRAM2 GBSupported Memory C...</td>\n",
       "      <td>Operating SystemAndroid Android 12Processor Ty...</td>\n",
       "      <td>Network Type4G, 3GSupported Networks4G LTE3GYe...</td>\n",
       "      <td>Battery Capacity5000 mAh</td>\n",
       "    </tr>\n",
       "    <tr>\n",
       "      <th>169</th>\n",
       "      <td>Redmi Note 8 (Cosmic Purple, 64 GB)</td>\n",
       "      <td>4.4</td>\n",
       "      <td>₹12,999</td>\n",
       "      <td>https://rukminim2.flixcart.com/image/312/312/k...</td>\n",
       "      <td>Internal Storage64 GBRAM4 GBExpandable Storage...</td>\n",
       "      <td>Operating SystemAndroid Pie 9Processor TypeQua...</td>\n",
       "      <td>Network Type4G VOLTE, 4G, 3G, 2GSupported Netw...</td>\n",
       "      <td>Battery Capacity4000 mAhBattery Typelithium-ion</td>\n",
       "    </tr>\n",
       "    <tr>\n",
       "      <th>26</th>\n",
       "      <td>REDMI Note 11 Pro (Stealth Black, 128 GB)</td>\n",
       "      <td>4.2</td>\n",
       "      <td>₹20,999</td>\n",
       "      <td>https://rukminim2.flixcart.com/image/312/312/x...</td>\n",
       "      <td>Internal Storage128 GBRAM6 GBMemory Card Slot ...</td>\n",
       "      <td>Operating SystemAndroid Q 11Processor CoreDual...</td>\n",
       "      <td>Network Type4GSupported Networks4G LTE, GSM</td>\n",
       "      <td>Battery Capacity5000 mAh</td>\n",
       "    </tr>\n",
       "    <tr>\n",
       "      <th>46</th>\n",
       "      <td>Redmi 9A (Nature Green, 32 GB)</td>\n",
       "      <td>4.3</td>\n",
       "      <td>₹7,490</td>\n",
       "      <td>https://rukminim2.flixcart.com/image/312/312/k...</td>\n",
       "      <td>Internal Storage32 GBRAM2 GBMemory Card Slot T...</td>\n",
       "      <td>Operating SystemAndroid Q 10Processor CoreOcta...</td>\n",
       "      <td>Network Type4G VOLTE, 3GSupported Networks4G V...</td>\n",
       "      <td>Battery Capacity5000 mAhDual BatteryYes</td>\n",
       "    </tr>\n",
       "    <tr>\n",
       "      <th>270</th>\n",
       "      <td>REDMI 9 Activ (Coral Green, 64 GB)</td>\n",
       "      <td>4.2</td>\n",
       "      <td>₹10,000</td>\n",
       "      <td>https://rukminim2.flixcart.com/image/312/312/x...</td>\n",
       "      <td>Internal Storage64 GBRAM4 GBMemory Card Slot T...</td>\n",
       "      <td>Operating SystemAndroidProcessor CoreOcta Core...</td>\n",
       "      <td>Network Type4G, 3G, 2GSupported Networks4G VoL...</td>\n",
       "      <td>Battery Capacity5000 mAh</td>\n",
       "    </tr>\n",
       "  </tbody>\n",
       "</table>\n",
       "</div>"
      ],
      "text/plain": [
       "                                   model_names  ratings    price   \n",
       "352                REDMI A2 (Aqua Blue, 32 GB)      3.9   ₹6,953  \\\n",
       "169        Redmi Note 8 (Cosmic Purple, 64 GB)      4.4  ₹12,999   \n",
       "26   REDMI Note 11 Pro (Stealth Black, 128 GB)      4.2  ₹20,999   \n",
       "46              Redmi 9A (Nature Green, 32 GB)      4.3   ₹7,490   \n",
       "270         REDMI 9 Activ (Coral Green, 64 GB)      4.2  ₹10,000   \n",
       "\n",
       "                                                imgURL   \n",
       "352  https://rukminim2.flixcart.com/image/312/312/x...  \\\n",
       "169  https://rukminim2.flixcart.com/image/312/312/k...   \n",
       "26   https://rukminim2.flixcart.com/image/312/312/x...   \n",
       "46   https://rukminim2.flixcart.com/image/312/312/k...   \n",
       "270  https://rukminim2.flixcart.com/image/312/312/x...   \n",
       "\n",
       "                                           storage_ram   \n",
       "352  Internal Storage32 GBRAM2 GBSupported Memory C...  \\\n",
       "169  Internal Storage64 GBRAM4 GBExpandable Storage...   \n",
       "26   Internal Storage128 GBRAM6 GBMemory Card Slot ...   \n",
       "46   Internal Storage32 GBRAM2 GBMemory Card Slot T...   \n",
       "270  Internal Storage64 GBRAM4 GBMemory Card Slot T...   \n",
       "\n",
       "                                          os_processor   \n",
       "352  Operating SystemAndroid Android 12Processor Ty...  \\\n",
       "169  Operating SystemAndroid Pie 9Processor TypeQua...   \n",
       "26   Operating SystemAndroid Q 11Processor CoreDual...   \n",
       "46   Operating SystemAndroid Q 10Processor CoreOcta...   \n",
       "270  Operating SystemAndroidProcessor CoreOcta Core...   \n",
       "\n",
       "                                               network   \n",
       "352  Network Type4G, 3GSupported Networks4G LTE3GYe...  \\\n",
       "169  Network Type4G VOLTE, 4G, 3G, 2GSupported Netw...   \n",
       "26         Network Type4GSupported Networks4G LTE, GSM   \n",
       "46   Network Type4G VOLTE, 3GSupported Networks4G V...   \n",
       "270  Network Type4G, 3G, 2GSupported Networks4G VoL...   \n",
       "\n",
       "                                             battery  \n",
       "352                         Battery Capacity5000 mAh  \n",
       "169  Battery Capacity4000 mAhBattery Typelithium-ion  \n",
       "26                          Battery Capacity5000 mAh  \n",
       "46           Battery Capacity5000 mAhDual BatteryYes  \n",
       "270                         Battery Capacity5000 mAh  "
      ]
     },
     "execution_count": 10,
     "metadata": {},
     "output_type": "execute_result"
    }
   ],
   "source": [
    "df.sample(5)"
   ]
  }
 ],
 "metadata": {
  "kernelspec": {
   "display_name": "Python 3",
   "language": "python",
   "name": "python3"
  },
  "language_info": {
   "codemirror_mode": {
    "name": "ipython",
    "version": 3
   },
   "file_extension": ".py",
   "mimetype": "text/x-python",
   "name": "python",
   "nbconvert_exporter": "python",
   "pygments_lexer": "ipython3",
   "version": "3.11.3"
  },
  "orig_nbformat": 4
 },
 "nbformat": 4,
 "nbformat_minor": 2
}
