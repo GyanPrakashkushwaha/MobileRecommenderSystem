{
 "cells": [
  {
   "cell_type": "code",
   "execution_count": 1,
   "metadata": {},
   "outputs": [],
   "source": [
    "import pandas as pd\n",
    "import os\n",
    "import numpy as np\n",
    "from ensure import ensure_annotations\n",
    "import re\n",
    "import warnings\n",
    "warnings.filterwarnings('ignore')"
   ]
  },
  {
   "cell_type": "code",
   "execution_count": 2,
   "metadata": {},
   "outputs": [
    {
     "name": "stdout",
     "output_type": "stream",
     "text": [
      "d:\\vscode_machineLearning\\BEST_PROJECTS\\mobileRecommenderSystem\\notebook\\experiments\n",
      "None\n",
      "d:\\vscode_machineLearning\\BEST_PROJECTS\\mobileRecommenderSystem\n"
     ]
    }
   ],
   "source": [
    "print(os.getcwd())\n",
    "print(os.chdir(r'd:\\vscode_machineLearning\\BEST_PROJECTS\\mobileRecommenderSystem'))\n",
    "print(os.getcwd())"
   ]
  },
  {
   "cell_type": "code",
   "execution_count": 3,
   "metadata": {},
   "outputs": [],
   "source": [
    "df = pd.read_csv(r'data\\raw_data\\motorola_mobile_data.csv',index_col=None)"
   ]
  },
  {
   "cell_type": "code",
   "execution_count": 4,
   "metadata": {},
   "outputs": [
    {
     "data": {
      "text/plain": [
       "name            0\n",
       "ratings         0\n",
       "price           0\n",
       "imgURL          0\n",
       "storage_ram     0\n",
       "camera          1\n",
       "oS_Processor    1\n",
       "display         0\n",
       "network         0\n",
       "battery         0\n",
       "dtype: int64"
      ]
     },
     "execution_count": 4,
     "metadata": {},
     "output_type": "execute_result"
    }
   ],
   "source": [
    "df.isnull().sum()"
   ]
  },
  {
   "cell_type": "code",
   "execution_count": 5,
   "metadata": {},
   "outputs": [
    {
     "data": {
      "text/html": [
       "<div>\n",
       "<style scoped>\n",
       "    .dataframe tbody tr th:only-of-type {\n",
       "        vertical-align: middle;\n",
       "    }\n",
       "\n",
       "    .dataframe tbody tr th {\n",
       "        vertical-align: top;\n",
       "    }\n",
       "\n",
       "    .dataframe thead th {\n",
       "        text-align: right;\n",
       "    }\n",
       "</style>\n",
       "<table border=\"1\" class=\"dataframe\">\n",
       "  <thead>\n",
       "    <tr style=\"text-align: right;\">\n",
       "      <th></th>\n",
       "      <th>name</th>\n",
       "      <th>ratings</th>\n",
       "      <th>price</th>\n",
       "      <th>imgURL</th>\n",
       "      <th>storage_ram</th>\n",
       "      <th>camera</th>\n",
       "      <th>oS_Processor</th>\n",
       "      <th>display</th>\n",
       "      <th>network</th>\n",
       "      <th>battery</th>\n",
       "    </tr>\n",
       "  </thead>\n",
       "  <tbody>\n",
       "    <tr>\n",
       "      <th>119</th>\n",
       "      <td>MOTOROLA Edge 30 Pro (Stardust White, 128 GB)</td>\n",
       "      <td>4.0</td>\n",
       "      <td>₹34,999</td>\n",
       "      <td>https://rukminim2.flixcart.com/image/312/312/k...</td>\n",
       "      <td>Internal Storage128 GBRAM8 GB</td>\n",
       "      <td>NaN</td>\n",
       "      <td>Primary Camera AvailableYesPrimary Camera50MP ...</td>\n",
       "      <td>Display Size16.3 cm (6.417 inch)Resolution2400...</td>\n",
       "      <td>Network Type5G, 4G, 3G, 2GSupported Networks5G...</td>\n",
       "      <td>Battery Capacity4800 mAh</td>\n",
       "    </tr>\n",
       "  </tbody>\n",
       "</table>\n",
       "</div>"
      ],
      "text/plain": [
       "                                              name  ratings    price   \n",
       "119  MOTOROLA Edge 30 Pro (Stardust White, 128 GB)      4.0  ₹34,999  \\\n",
       "\n",
       "                                                imgURL   \n",
       "119  https://rukminim2.flixcart.com/image/312/312/k...  \\\n",
       "\n",
       "                       storage_ram camera   \n",
       "119  Internal Storage128 GBRAM8 GB    NaN  \\\n",
       "\n",
       "                                          oS_Processor   \n",
       "119  Primary Camera AvailableYesPrimary Camera50MP ...  \\\n",
       "\n",
       "                                               display   \n",
       "119  Display Size16.3 cm (6.417 inch)Resolution2400...  \\\n",
       "\n",
       "                                               network   \n",
       "119  Network Type5G, 4G, 3G, 2GSupported Networks5G...  \\\n",
       "\n",
       "                      battery  \n",
       "119  Battery Capacity4800 mAh  "
      ]
     },
     "execution_count": 5,
     "metadata": {},
     "output_type": "execute_result"
    }
   ],
   "source": [
    "df[df['camera'].isnull() == True]"
   ]
  },
  {
   "cell_type": "code",
   "execution_count": 6,
   "metadata": {},
   "outputs": [],
   "source": [
    "df['camera'][119] = 'Primary Camera AvailableYesPrimary Camera 50MP + 50MP + 2MP'"
   ]
  },
  {
   "cell_type": "code",
   "execution_count": 7,
   "metadata": {},
   "outputs": [
    {
     "data": {
      "text/html": [
       "<div>\n",
       "<style scoped>\n",
       "    .dataframe tbody tr th:only-of-type {\n",
       "        vertical-align: middle;\n",
       "    }\n",
       "\n",
       "    .dataframe tbody tr th {\n",
       "        vertical-align: top;\n",
       "    }\n",
       "\n",
       "    .dataframe thead th {\n",
       "        text-align: right;\n",
       "    }\n",
       "</style>\n",
       "<table border=\"1\" class=\"dataframe\">\n",
       "  <thead>\n",
       "    <tr style=\"text-align: right;\">\n",
       "      <th></th>\n",
       "      <th>name</th>\n",
       "      <th>ratings</th>\n",
       "      <th>price</th>\n",
       "      <th>imgURL</th>\n",
       "      <th>storage_ram</th>\n",
       "      <th>camera</th>\n",
       "      <th>oS_Processor</th>\n",
       "      <th>display</th>\n",
       "      <th>network</th>\n",
       "      <th>battery</th>\n",
       "    </tr>\n",
       "  </thead>\n",
       "  <tbody>\n",
       "  </tbody>\n",
       "</table>\n",
       "</div>"
      ],
      "text/plain": [
       "Empty DataFrame\n",
       "Columns: [name, ratings, price, imgURL, storage_ram, camera, oS_Processor, display, network, battery]\n",
       "Index: []"
      ]
     },
     "execution_count": 7,
     "metadata": {},
     "output_type": "execute_result"
    }
   ],
   "source": [
    "df[df['camera'].isnull() == True]"
   ]
  },
  {
   "cell_type": "code",
   "execution_count": 9,
   "metadata": {},
   "outputs": [
    {
     "data": {
      "text/html": [
       "<div>\n",
       "<style scoped>\n",
       "    .dataframe tbody tr th:only-of-type {\n",
       "        vertical-align: middle;\n",
       "    }\n",
       "\n",
       "    .dataframe tbody tr th {\n",
       "        vertical-align: top;\n",
       "    }\n",
       "\n",
       "    .dataframe thead th {\n",
       "        text-align: right;\n",
       "    }\n",
       "</style>\n",
       "<table border=\"1\" class=\"dataframe\">\n",
       "  <thead>\n",
       "    <tr style=\"text-align: right;\">\n",
       "      <th></th>\n",
       "      <th>name</th>\n",
       "      <th>ratings</th>\n",
       "      <th>price</th>\n",
       "      <th>imgURL</th>\n",
       "      <th>storage_ram</th>\n",
       "      <th>camera</th>\n",
       "      <th>oS_Processor</th>\n",
       "      <th>display</th>\n",
       "      <th>network</th>\n",
       "      <th>battery</th>\n",
       "    </tr>\n",
       "  </thead>\n",
       "  <tbody>\n",
       "    <tr>\n",
       "      <th>23</th>\n",
       "      <td>MOTOROLA e13 (Creamy White, 64 GB)</td>\n",
       "      <td>3.9</td>\n",
       "      <td>₹6,499</td>\n",
       "      <td>https://rukminim2.flixcart.com/image/312/312/x...</td>\n",
       "      <td>Internal Storage64 GBRAM2 GBExpandable Storage...</td>\n",
       "      <td>Operating SystemAndroid 13 (Go Edition)Process...</td>\n",
       "      <td>NaN</td>\n",
       "      <td>Display Size16.51 cm (6.5 inch)Resolution1600 ...</td>\n",
       "      <td>Network Type4G, 3G, 2GSupported Networks4G LTE...</td>\n",
       "      <td>Battery Capacity5000 mAh</td>\n",
       "    </tr>\n",
       "  </tbody>\n",
       "</table>\n",
       "</div>"
      ],
      "text/plain": [
       "                                  name  ratings   price   \n",
       "23  MOTOROLA e13 (Creamy White, 64 GB)      3.9  ₹6,499  \\\n",
       "\n",
       "                                               imgURL   \n",
       "23  https://rukminim2.flixcart.com/image/312/312/x...  \\\n",
       "\n",
       "                                          storage_ram   \n",
       "23  Internal Storage64 GBRAM2 GBExpandable Storage...  \\\n",
       "\n",
       "                                               camera oS_Processor   \n",
       "23  Operating SystemAndroid 13 (Go Edition)Process...          NaN  \\\n",
       "\n",
       "                                              display   \n",
       "23  Display Size16.51 cm (6.5 inch)Resolution1600 ...  \\\n",
       "\n",
       "                                              network   \n",
       "23  Network Type4G, 3G, 2GSupported Networks4G LTE...  \\\n",
       "\n",
       "                     battery  \n",
       "23  Battery Capacity5000 mAh  "
      ]
     },
     "execution_count": 9,
     "metadata": {},
     "output_type": "execute_result"
    }
   ],
   "source": [
    "df[df['oS_Processor'].isnull() == True]"
   ]
  },
  {
   "cell_type": "code",
   "execution_count": 10,
   "metadata": {},
   "outputs": [],
   "source": [
    "df['oS_Processor'][23] = 'Operating SystemAndroid 13 (Go Edition)Processor TypeUnisoc T606Processor CoreOcta CorePrimary Clock Speed1.6 GHzSecondary Clock Speed1.6 GHzOperating Frequency4G LTE: B1/B3/B5/B7/B8/B20/B28/B38/B40/B41, 3G UMTS: B1/B5/B8, 2G GSM: B3/B5/B8'"
   ]
  },
  {
   "cell_type": "code",
   "execution_count": 11,
   "metadata": {},
   "outputs": [
    {
     "data": {
      "text/html": [
       "<div>\n",
       "<style scoped>\n",
       "    .dataframe tbody tr th:only-of-type {\n",
       "        vertical-align: middle;\n",
       "    }\n",
       "\n",
       "    .dataframe tbody tr th {\n",
       "        vertical-align: top;\n",
       "    }\n",
       "\n",
       "    .dataframe thead th {\n",
       "        text-align: right;\n",
       "    }\n",
       "</style>\n",
       "<table border=\"1\" class=\"dataframe\">\n",
       "  <thead>\n",
       "    <tr style=\"text-align: right;\">\n",
       "      <th></th>\n",
       "      <th>name</th>\n",
       "      <th>ratings</th>\n",
       "      <th>price</th>\n",
       "      <th>imgURL</th>\n",
       "      <th>storage_ram</th>\n",
       "      <th>camera</th>\n",
       "      <th>oS_Processor</th>\n",
       "      <th>display</th>\n",
       "      <th>network</th>\n",
       "      <th>battery</th>\n",
       "    </tr>\n",
       "  </thead>\n",
       "  <tbody>\n",
       "  </tbody>\n",
       "</table>\n",
       "</div>"
      ],
      "text/plain": [
       "Empty DataFrame\n",
       "Columns: [name, ratings, price, imgURL, storage_ram, camera, oS_Processor, display, network, battery]\n",
       "Index: []"
      ]
     },
     "execution_count": 11,
     "metadata": {},
     "output_type": "execute_result"
    }
   ],
   "source": [
    "df[df['oS_Processor'].isnull() == True]"
   ]
  },
  {
   "cell_type": "code",
   "execution_count": 12,
   "metadata": {},
   "outputs": [],
   "source": [
    "df.to_csv(r'data\\raw_data\\motorola_mobile_data.csv',index=False)"
   ]
  },
  {
   "cell_type": "code",
   "execution_count": 13,
   "metadata": {},
   "outputs": [],
   "source": [
    "@ensure_annotations\n",
    "def random_values(feature_name=['price','name','display'],total=6):\n",
    "    for i in range(0,total):\n",
    "        index = np.random.randint(df.shape[0])\n",
    "        print(index,':',df[feature_name].iloc[index])\n",
    "            "
   ]
  },
  {
   "cell_type": "code",
   "execution_count": 36,
   "metadata": {},
   "outputs": [
    {
     "data": {
      "text/plain": [
       "(120, 12)"
      ]
     },
     "execution_count": 36,
     "metadata": {},
     "output_type": "execute_result"
    }
   ],
   "source": [
    "df.shape"
   ]
  },
  {
   "cell_type": "markdown",
   "metadata": {},
   "source": [
    "## Price"
   ]
  },
  {
   "cell_type": "code",
   "execution_count": 35,
   "metadata": {},
   "outputs": [
    {
     "data": {
      "text/html": [
       "<div>\n",
       "<style scoped>\n",
       "    .dataframe tbody tr th:only-of-type {\n",
       "        vertical-align: middle;\n",
       "    }\n",
       "\n",
       "    .dataframe tbody tr th {\n",
       "        vertical-align: top;\n",
       "    }\n",
       "\n",
       "    .dataframe thead th {\n",
       "        text-align: right;\n",
       "    }\n",
       "</style>\n",
       "<table border=\"1\" class=\"dataframe\">\n",
       "  <thead>\n",
       "    <tr style=\"text-align: right;\">\n",
       "      <th></th>\n",
       "      <th>index</th>\n",
       "      <th>name</th>\n",
       "      <th>ratings</th>\n",
       "      <th>price</th>\n",
       "      <th>imgURL</th>\n",
       "      <th>storage_ram</th>\n",
       "      <th>camera</th>\n",
       "      <th>oS_Processor</th>\n",
       "      <th>display</th>\n",
       "      <th>network</th>\n",
       "      <th>battery</th>\n",
       "      <th>ram</th>\n",
       "    </tr>\n",
       "  </thead>\n",
       "  <tbody>\n",
       "    <tr>\n",
       "      <th>16</th>\n",
       "      <td>16</td>\n",
       "      <td>A10E</td>\n",
       "      <td>4.1</td>\n",
       "      <td>1299</td>\n",
       "      <td>https://rukminim2.flixcart.com/image/312/312/x...</td>\n",
       "      <td>Internal Storage32 MBRAM4 MBMemory Card Slot T...</td>\n",
       "      <td>Operating System0</td>\n",
       "      <td>Primary Camera AvailableNoSecondary Camera Ava...</td>\n",
       "      <td>Display Size4.57 cm (1.8 inch)Resolution0</td>\n",
       "      <td>Network Type2GSupported NetworksGSM</td>\n",
       "      <td>Battery Capacity800 mAhBattery TypeLithium</td>\n",
       "      <td>MBRAM4</td>\n",
       "    </tr>\n",
       "    <tr>\n",
       "      <th>17</th>\n",
       "      <td>17</td>\n",
       "      <td>A10E</td>\n",
       "      <td>4.1</td>\n",
       "      <td>1299</td>\n",
       "      <td>https://rukminim2.flixcart.com/image/312/312/x...</td>\n",
       "      <td>Internal Storage32 MBRAM4 MBExpandable Storage...</td>\n",
       "      <td>Operating System0Primary Clock Speed1.5 MHz</td>\n",
       "      <td>Primary Camera AvailableYesPrimary Camera50MP ...</td>\n",
       "      <td>Display Size4.57 cm (1.8 inch)Resolution0Other...</td>\n",
       "      <td>Network Type2GSupported NetworksGSM3GYesMicro ...</td>\n",
       "      <td>Battery Capacity800 mAhBattery TypeLithiumDual...</td>\n",
       "      <td>MBRAM4</td>\n",
       "    </tr>\n",
       "    <tr>\n",
       "      <th>21</th>\n",
       "      <td>21</td>\n",
       "      <td>Motorola a70</td>\n",
       "      <td>4.0</td>\n",
       "      <td>1869</td>\n",
       "      <td>https://rukminim2.flixcart.com/image/312/312/k...</td>\n",
       "      <td>Internal Storage4 MBRAM4 MBExpandable Storage3...</td>\n",
       "      <td>Operating Frequency2G GSM: 900/1800 MHz</td>\n",
       "      <td>Primary Camera AvailableYesPrimary Camera50MP ...</td>\n",
       "      <td>Display Size6.1 cm (2.4 inch)Resolution320 x 2...</td>\n",
       "      <td>Network Type2GSupported NetworksGSMInternet Co...</td>\n",
       "      <td>Battery Capacity1750 mAhBattery TypeLi-ionDual...</td>\n",
       "      <td>MBRAM4</td>\n",
       "    </tr>\n",
       "    <tr>\n",
       "      <th>28</th>\n",
       "      <td>28</td>\n",
       "      <td>Motorola a70</td>\n",
       "      <td>4.0</td>\n",
       "      <td>2099</td>\n",
       "      <td>https://rukminim2.flixcart.com/image/312/312/k...</td>\n",
       "      <td>Internal Storage0 MBExpandable Storage32 GBPho...</td>\n",
       "      <td>Operating Frequency2G GSM: 900/1800 MHz</td>\n",
       "      <td>Primary Camera AvailableYesSecondary Camera Av...</td>\n",
       "      <td>Display Size6.1 cm (2.4 inch)Resolution320 x 2...</td>\n",
       "      <td>Network Type2GSupported NetworksGSMInternet Co...</td>\n",
       "      <td>Battery Capacity1750 mAhBattery TypeLi-ionDual...</td>\n",
       "      <td>MBExpandable</td>\n",
       "    </tr>\n",
       "    <tr>\n",
       "      <th>38</th>\n",
       "      <td>38</td>\n",
       "      <td>a 10e</td>\n",
       "      <td>4.4</td>\n",
       "      <td>1319</td>\n",
       "      <td>https://rukminim2.flixcart.com/image/312/312/x...</td>\n",
       "      <td>Internal Storage0 MBExpandable Storage32 GBPho...</td>\n",
       "      <td>Operating Frequency2G GSM: 900/1800 MHz</td>\n",
       "      <td>Primary Camera AvailableNoSecondary Camera Ava...</td>\n",
       "      <td>Display Size4.57 cm (1.8 inch)Resolution160 x ...</td>\n",
       "      <td>Network Type3G, 2GSupported NetworksGSMInterne...</td>\n",
       "      <td>Battery Capacity800 mAhBattery TypeLi-ionDual ...</td>\n",
       "      <td>MBExpandable</td>\n",
       "    </tr>\n",
       "    <tr>\n",
       "      <th>46</th>\n",
       "      <td>46</td>\n",
       "      <td>a 10e</td>\n",
       "      <td>4.6</td>\n",
       "      <td>1399</td>\n",
       "      <td>https://rukminim2.flixcart.com/image/312/312/x...</td>\n",
       "      <td>Internal Storage100 KBRAM1 MBExpandable Storag...</td>\n",
       "      <td>Operating Frequency2G GSM: 900/1800 MHz</td>\n",
       "      <td>Primary Camera AvailableNoPrimary Camera0.1MP ...</td>\n",
       "      <td>Display Size4.57 cm (1.8 inch)Resolution160 x ...</td>\n",
       "      <td>Network Type3GSupported NetworksGSMInternet Co...</td>\n",
       "      <td>Battery Capacity800 mAhBattery TypeLi-ionDual ...</td>\n",
       "      <td>KBRAM1</td>\n",
       "    </tr>\n",
       "    <tr>\n",
       "      <th>87</th>\n",
       "      <td>87</td>\n",
       "      <td>Motorola a50</td>\n",
       "      <td>4.1</td>\n",
       "      <td>1549</td>\n",
       "      <td>https://rukminim2.flixcart.com/image/312/312/k...</td>\n",
       "      <td>Internal Storage4 MBRAM4 MBExpandable Storage3...</td>\n",
       "      <td>Operating Frequency2G GSM: 900/1800 MHz</td>\n",
       "      <td>Primary Camera AvailableYesSecondary Camera Av...</td>\n",
       "      <td>Display Size4.57 cm (1.8 inch)Resolution160 x ...</td>\n",
       "      <td>Network Type2GSupported NetworksGSMInternet Co...</td>\n",
       "      <td>Battery Capacity1750 mAhBattery TypeLi-ionDual...</td>\n",
       "      <td>MBRAM4</td>\n",
       "    </tr>\n",
       "    <tr>\n",
       "      <th>88</th>\n",
       "      <td>88</td>\n",
       "      <td>Motorola a10</td>\n",
       "      <td>4.2</td>\n",
       "      <td>1499</td>\n",
       "      <td>https://rukminim2.flixcart.com/image/312/312/k...</td>\n",
       "      <td>Internal Storage0 MBExpandable Storage32 GBPho...</td>\n",
       "      <td>Operating Frequency2G GSM: 900/1800 MHz</td>\n",
       "      <td>Primary Camera AvailableNoSecondary Camera Ava...</td>\n",
       "      <td>Display Size4.57 cm (1.8 inch)Resolution160 x ...</td>\n",
       "      <td>Network Type2GSupported NetworksGSMInternet Co...</td>\n",
       "      <td>Battery Capacity1750 mAhBattery TypeLi-ionDual...</td>\n",
       "      <td>MBExpandable</td>\n",
       "    </tr>\n",
       "    <tr>\n",
       "      <th>89</th>\n",
       "      <td>89</td>\n",
       "      <td>Motorola a10</td>\n",
       "      <td>4.2</td>\n",
       "      <td>1499</td>\n",
       "      <td>https://rukminim2.flixcart.com/image/312/312/k...</td>\n",
       "      <td>Internal Storage0 MBExpandable Storage32 GBPho...</td>\n",
       "      <td>Operating Frequency2G GSM: 900/1800 MHz</td>\n",
       "      <td>Primary Camera AvailableNoOptical ZoomNoSecond...</td>\n",
       "      <td>Display Size4.57 cm (1.8 inch)Resolution160 x ...</td>\n",
       "      <td>Network Type2GSupported NetworksGSMInternet Co...</td>\n",
       "      <td>Battery Capacity1750 mAhBattery TypeLi-ionTalk...</td>\n",
       "      <td>MBExpandable</td>\n",
       "    </tr>\n",
       "    <tr>\n",
       "      <th>113</th>\n",
       "      <td>113</td>\n",
       "      <td>A70</td>\n",
       "      <td>4.0</td>\n",
       "      <td>1999</td>\n",
       "      <td>https://rukminim2.flixcart.com/image/312/312/x...</td>\n",
       "      <td>Internal Storage4 MBRAM4 MBMemory Card Slot Ty...</td>\n",
       "      <td>Operating SystemAndroid 11Processor TypeMediaT...</td>\n",
       "      <td>Primary Camera0.3MP Rear Camera</td>\n",
       "      <td>Display Size6.1 cm (2.4 inch)Resolution320X240...</td>\n",
       "      <td>Network Type2GSupported NetworksGSM</td>\n",
       "      <td>Battery Capacity1750 mAh</td>\n",
       "      <td>MBRAM4</td>\n",
       "    </tr>\n",
       "  </tbody>\n",
       "</table>\n",
       "</div>"
      ],
      "text/plain": [
       "     index          name  ratings  price   \n",
       "16      16          A10E      4.1   1299  \\\n",
       "17      17          A10E      4.1   1299   \n",
       "21      21  Motorola a70      4.0   1869   \n",
       "28      28  Motorola a70      4.0   2099   \n",
       "38      38         a 10e      4.4   1319   \n",
       "46      46         a 10e      4.6   1399   \n",
       "87      87  Motorola a50      4.1   1549   \n",
       "88      88  Motorola a10      4.2   1499   \n",
       "89      89  Motorola a10      4.2   1499   \n",
       "113    113           A70      4.0   1999   \n",
       "\n",
       "                                                imgURL   \n",
       "16   https://rukminim2.flixcart.com/image/312/312/x...  \\\n",
       "17   https://rukminim2.flixcart.com/image/312/312/x...   \n",
       "21   https://rukminim2.flixcart.com/image/312/312/k...   \n",
       "28   https://rukminim2.flixcart.com/image/312/312/k...   \n",
       "38   https://rukminim2.flixcart.com/image/312/312/x...   \n",
       "46   https://rukminim2.flixcart.com/image/312/312/x...   \n",
       "87   https://rukminim2.flixcart.com/image/312/312/k...   \n",
       "88   https://rukminim2.flixcart.com/image/312/312/k...   \n",
       "89   https://rukminim2.flixcart.com/image/312/312/k...   \n",
       "113  https://rukminim2.flixcart.com/image/312/312/x...   \n",
       "\n",
       "                                           storage_ram   \n",
       "16   Internal Storage32 MBRAM4 MBMemory Card Slot T...  \\\n",
       "17   Internal Storage32 MBRAM4 MBExpandable Storage...   \n",
       "21   Internal Storage4 MBRAM4 MBExpandable Storage3...   \n",
       "28   Internal Storage0 MBExpandable Storage32 GBPho...   \n",
       "38   Internal Storage0 MBExpandable Storage32 GBPho...   \n",
       "46   Internal Storage100 KBRAM1 MBExpandable Storag...   \n",
       "87   Internal Storage4 MBRAM4 MBExpandable Storage3...   \n",
       "88   Internal Storage0 MBExpandable Storage32 GBPho...   \n",
       "89   Internal Storage0 MBExpandable Storage32 GBPho...   \n",
       "113  Internal Storage4 MBRAM4 MBMemory Card Slot Ty...   \n",
       "\n",
       "                                                camera   \n",
       "16                                   Operating System0  \\\n",
       "17         Operating System0Primary Clock Speed1.5 MHz   \n",
       "21             Operating Frequency2G GSM: 900/1800 MHz   \n",
       "28             Operating Frequency2G GSM: 900/1800 MHz   \n",
       "38             Operating Frequency2G GSM: 900/1800 MHz   \n",
       "46             Operating Frequency2G GSM: 900/1800 MHz   \n",
       "87             Operating Frequency2G GSM: 900/1800 MHz   \n",
       "88             Operating Frequency2G GSM: 900/1800 MHz   \n",
       "89             Operating Frequency2G GSM: 900/1800 MHz   \n",
       "113  Operating SystemAndroid 11Processor TypeMediaT...   \n",
       "\n",
       "                                          oS_Processor   \n",
       "16   Primary Camera AvailableNoSecondary Camera Ava...  \\\n",
       "17   Primary Camera AvailableYesPrimary Camera50MP ...   \n",
       "21   Primary Camera AvailableYesPrimary Camera50MP ...   \n",
       "28   Primary Camera AvailableYesSecondary Camera Av...   \n",
       "38   Primary Camera AvailableNoSecondary Camera Ava...   \n",
       "46   Primary Camera AvailableNoPrimary Camera0.1MP ...   \n",
       "87   Primary Camera AvailableYesSecondary Camera Av...   \n",
       "88   Primary Camera AvailableNoSecondary Camera Ava...   \n",
       "89   Primary Camera AvailableNoOptical ZoomNoSecond...   \n",
       "113                    Primary Camera0.3MP Rear Camera   \n",
       "\n",
       "                                               display   \n",
       "16           Display Size4.57 cm (1.8 inch)Resolution0  \\\n",
       "17   Display Size4.57 cm (1.8 inch)Resolution0Other...   \n",
       "21   Display Size6.1 cm (2.4 inch)Resolution320 x 2...   \n",
       "28   Display Size6.1 cm (2.4 inch)Resolution320 x 2...   \n",
       "38   Display Size4.57 cm (1.8 inch)Resolution160 x ...   \n",
       "46   Display Size4.57 cm (1.8 inch)Resolution160 x ...   \n",
       "87   Display Size4.57 cm (1.8 inch)Resolution160 x ...   \n",
       "88   Display Size4.57 cm (1.8 inch)Resolution160 x ...   \n",
       "89   Display Size4.57 cm (1.8 inch)Resolution160 x ...   \n",
       "113  Display Size6.1 cm (2.4 inch)Resolution320X240...   \n",
       "\n",
       "                                               network   \n",
       "16                 Network Type2GSupported NetworksGSM  \\\n",
       "17   Network Type2GSupported NetworksGSM3GYesMicro ...   \n",
       "21   Network Type2GSupported NetworksGSMInternet Co...   \n",
       "28   Network Type2GSupported NetworksGSMInternet Co...   \n",
       "38   Network Type3G, 2GSupported NetworksGSMInterne...   \n",
       "46   Network Type3GSupported NetworksGSMInternet Co...   \n",
       "87   Network Type2GSupported NetworksGSMInternet Co...   \n",
       "88   Network Type2GSupported NetworksGSMInternet Co...   \n",
       "89   Network Type2GSupported NetworksGSMInternet Co...   \n",
       "113                Network Type2GSupported NetworksGSM   \n",
       "\n",
       "                                               battery           ram  \n",
       "16          Battery Capacity800 mAhBattery TypeLithium        MBRAM4  \n",
       "17   Battery Capacity800 mAhBattery TypeLithiumDual...        MBRAM4  \n",
       "21   Battery Capacity1750 mAhBattery TypeLi-ionDual...        MBRAM4  \n",
       "28   Battery Capacity1750 mAhBattery TypeLi-ionDual...  MBExpandable  \n",
       "38   Battery Capacity800 mAhBattery TypeLi-ionDual ...  MBExpandable  \n",
       "46   Battery Capacity800 mAhBattery TypeLi-ionDual ...        KBRAM1  \n",
       "87   Battery Capacity1750 mAhBattery TypeLi-ionDual...        MBRAM4  \n",
       "88   Battery Capacity1750 mAhBattery TypeLi-ionDual...  MBExpandable  \n",
       "89   Battery Capacity1750 mAhBattery TypeLi-ionTalk...  MBExpandable  \n",
       "113                           Battery Capacity1750 mAh        MBRAM4  "
      ]
     },
     "execution_count": 35,
     "metadata": {},
     "output_type": "execute_result"
    }
   ],
   "source": [
    "df[df['price'] <=6000]"
   ]
  },
  {
   "cell_type": "code",
   "execution_count": 37,
   "metadata": {},
   "outputs": [],
   "source": [
    "df = df.drop(index=df[df['price'] <=6000].index)"
   ]
  },
  {
   "cell_type": "code",
   "execution_count": 21,
   "metadata": {},
   "outputs": [
    {
     "name": "stdout",
     "output_type": "stream",
     "text": [
      "49 : ₹24,999\n",
      "11 : ₹9,999\n",
      "52 : ₹24,999\n",
      "110 : ₹6,999\n",
      "61 : ₹11,999\n",
      "75 : ₹29,999\n"
     ]
    }
   ],
   "source": [
    "random_values('price')"
   ]
  },
  {
   "cell_type": "code",
   "execution_count": 22,
   "metadata": {},
   "outputs": [],
   "source": [
    "df.reset_index(inplace=True)\n",
    "for Index,i in enumerate(df['price']):\n",
    "    i = str(i).replace('₹','')\n",
    "    i = str(i).replace(',','')\n",
    "    df['price'][Index] = i"
   ]
  },
  {
   "cell_type": "code",
   "execution_count": 23,
   "metadata": {},
   "outputs": [],
   "source": [
    "df['price'] = df['price'].astype('Int16')"
   ]
  },
  {
   "cell_type": "code",
   "execution_count": 24,
   "metadata": {},
   "outputs": [],
   "source": [
    "df['price'] = df['price'].abs() # this is to remove the negative values from price feature"
   ]
  },
  {
   "cell_type": "code",
   "execution_count": 29,
   "metadata": {},
   "outputs": [
    {
     "name": "stdout",
     "output_type": "stream",
     "text": [
      "115 : 7499\n",
      "77 : 9999\n",
      "16 : 1299\n",
      "77 : 9999\n",
      "30 : 10899\n",
      "113 : 1999\n"
     ]
    }
   ],
   "source": [
    "random_values('price')"
   ]
  },
  {
   "cell_type": "markdown",
   "metadata": {},
   "source": [
    "## Ratings"
   ]
  },
  {
   "cell_type": "code",
   "execution_count": 30,
   "metadata": {},
   "outputs": [
    {
     "data": {
      "text/plain": [
       "dtype('float64')"
      ]
     },
     "execution_count": 30,
     "metadata": {},
     "output_type": "execute_result"
    }
   ],
   "source": [
    "df['ratings'].dtype"
   ]
  },
  {
   "cell_type": "markdown",
   "metadata": {},
   "source": [
    "## Ram"
   ]
  },
  {
   "cell_type": "code",
   "execution_count": 41,
   "metadata": {},
   "outputs": [],
   "source": [
    "def extract_ram(row):\n",
    "    ram = row.split()[2]\n",
    "    return ram\n",
    "\n",
    "df['ram'] = df['storage_ram'].apply(func=extract_ram)"
   ]
  },
  {
   "cell_type": "code",
   "execution_count": 43,
   "metadata": {},
   "outputs": [
    {
     "ename": "ValueError",
     "evalue": "cannot insert level_0, already exists",
     "output_type": "error",
     "traceback": [
      "\u001b[1;31m---------------------------------------------------------------------------\u001b[0m",
      "\u001b[1;31mValueError\u001b[0m                                Traceback (most recent call last)",
      "Cell \u001b[1;32mIn[43], line 3\u001b[0m\n\u001b[0;32m      1\u001b[0m \u001b[39mimport\u001b[39;00m \u001b[39mwarnings\u001b[39;00m\n\u001b[0;32m      2\u001b[0m warnings\u001b[39m.\u001b[39mfilterwarnings(\u001b[39m'\u001b[39m\u001b[39mignore\u001b[39m\u001b[39m'\u001b[39m)\n\u001b[1;32m----> 3\u001b[0m df\u001b[39m.\u001b[39;49mreset_index(inplace\u001b[39m=\u001b[39;49m\u001b[39mTrue\u001b[39;49;00m)\n\u001b[0;32m      4\u001b[0m count \u001b[39m=\u001b[39m \u001b[39m0\u001b[39m\n\u001b[0;32m      5\u001b[0m \u001b[39mfor\u001b[39;00m i \u001b[39min\u001b[39;00m \u001b[39mrange\u001b[39m(\u001b[39m0\u001b[39m,\u001b[39mlen\u001b[39m(df[\u001b[39m'\u001b[39m\u001b[39mram\u001b[39m\u001b[39m'\u001b[39m])):\n\u001b[0;32m      6\u001b[0m     \u001b[39m# df['ram'][i]= df['ram'].iloc[i].replace('MBRAM','')\u001b[39;00m\n",
      "File \u001b[1;32mc:\\Users\\Gyanprakash\\AppData\\Local\\Programs\\Python\\Python311\\Lib\\site-packages\\pandas\\core\\frame.py:6217\u001b[0m, in \u001b[0;36mDataFrame.reset_index\u001b[1;34m(self, level, drop, inplace, col_level, col_fill, allow_duplicates, names)\u001b[0m\n\u001b[0;32m   6211\u001b[0m         \u001b[39mif\u001b[39;00m lab \u001b[39mis\u001b[39;00m \u001b[39mnot\u001b[39;00m \u001b[39mNone\u001b[39;00m:\n\u001b[0;32m   6212\u001b[0m             \u001b[39m# if we have the codes, extract the values with a mask\u001b[39;00m\n\u001b[0;32m   6213\u001b[0m             level_values \u001b[39m=\u001b[39m algorithms\u001b[39m.\u001b[39mtake(\n\u001b[0;32m   6214\u001b[0m                 level_values, lab, allow_fill\u001b[39m=\u001b[39m\u001b[39mTrue\u001b[39;00m, fill_value\u001b[39m=\u001b[39mlev\u001b[39m.\u001b[39m_na_value\n\u001b[0;32m   6215\u001b[0m             )\n\u001b[1;32m-> 6217\u001b[0m         new_obj\u001b[39m.\u001b[39;49minsert(\n\u001b[0;32m   6218\u001b[0m             \u001b[39m0\u001b[39;49m,\n\u001b[0;32m   6219\u001b[0m             name,\n\u001b[0;32m   6220\u001b[0m             level_values,\n\u001b[0;32m   6221\u001b[0m             allow_duplicates\u001b[39m=\u001b[39;49mallow_duplicates,\n\u001b[0;32m   6222\u001b[0m         )\n\u001b[0;32m   6224\u001b[0m new_obj\u001b[39m.\u001b[39mindex \u001b[39m=\u001b[39m new_index\n\u001b[0;32m   6225\u001b[0m \u001b[39mif\u001b[39;00m \u001b[39mnot\u001b[39;00m inplace:\n",
      "File \u001b[1;32mc:\\Users\\Gyanprakash\\AppData\\Local\\Programs\\Python\\Python311\\Lib\\site-packages\\pandas\\core\\frame.py:4780\u001b[0m, in \u001b[0;36mDataFrame.insert\u001b[1;34m(self, loc, column, value, allow_duplicates)\u001b[0m\n\u001b[0;32m   4774\u001b[0m     \u001b[39mraise\u001b[39;00m \u001b[39mValueError\u001b[39;00m(\n\u001b[0;32m   4775\u001b[0m         \u001b[39m\"\u001b[39m\u001b[39mCannot specify \u001b[39m\u001b[39m'\u001b[39m\u001b[39mallow_duplicates=True\u001b[39m\u001b[39m'\u001b[39m\u001b[39m when \u001b[39m\u001b[39m\"\u001b[39m\n\u001b[0;32m   4776\u001b[0m         \u001b[39m\"\u001b[39m\u001b[39m'\u001b[39m\u001b[39mself.flags.allows_duplicate_labels\u001b[39m\u001b[39m'\u001b[39m\u001b[39m is False.\u001b[39m\u001b[39m\"\u001b[39m\n\u001b[0;32m   4777\u001b[0m     )\n\u001b[0;32m   4778\u001b[0m \u001b[39mif\u001b[39;00m \u001b[39mnot\u001b[39;00m allow_duplicates \u001b[39mand\u001b[39;00m column \u001b[39min\u001b[39;00m \u001b[39mself\u001b[39m\u001b[39m.\u001b[39mcolumns:\n\u001b[0;32m   4779\u001b[0m     \u001b[39m# Should this be a different kind of error??\u001b[39;00m\n\u001b[1;32m-> 4780\u001b[0m     \u001b[39mraise\u001b[39;00m \u001b[39mValueError\u001b[39;00m(\u001b[39mf\u001b[39m\u001b[39m\"\u001b[39m\u001b[39mcannot insert \u001b[39m\u001b[39m{\u001b[39;00mcolumn\u001b[39m}\u001b[39;00m\u001b[39m, already exists\u001b[39m\u001b[39m\"\u001b[39m)\n\u001b[0;32m   4781\u001b[0m \u001b[39mif\u001b[39;00m \u001b[39mnot\u001b[39;00m \u001b[39misinstance\u001b[39m(loc, \u001b[39mint\u001b[39m):\n\u001b[0;32m   4782\u001b[0m     \u001b[39mraise\u001b[39;00m \u001b[39mTypeError\u001b[39;00m(\u001b[39m\"\u001b[39m\u001b[39mloc must be int\u001b[39m\u001b[39m\"\u001b[39m)\n",
      "\u001b[1;31mValueError\u001b[0m: cannot insert level_0, already exists"
     ]
    }
   ],
   "source": [
    "import warnings\n",
    "warnings.filterwarnings('ignore')\n",
    "df.reset_index(inplace=True)\n",
    "count = 0\n",
    "for i in range(0,len(df['ram'])):\n",
    "    # df['ram'][i]= df['ram'].iloc[i].replace('MBRAM','')\n",
    "    df['ram'][i]= df['ram'].iloc[i].replace('GBRAM','')\n",
    "    count+=1\n",
    "print(f'looped till {count} index')"
   ]
  },
  {
   "cell_type": "code",
   "execution_count": 44,
   "metadata": {},
   "outputs": [],
   "source": [
    "df['ram'] = df['ram'].astype('Int16')"
   ]
  },
  {
   "cell_type": "code",
   "execution_count": 62,
   "metadata": {},
   "outputs": [
    {
     "name": "stdout",
     "output_type": "stream",
     "text": [
      "76 : 2\n",
      "102 : 8\n",
      "40 : 4\n",
      "6 : 4\n",
      "21 : 8\n",
      "5 : 6\n"
     ]
    }
   ],
   "source": [
    "random_values('ram')"
   ]
  },
  {
   "cell_type": "markdown",
   "metadata": {},
   "source": [
    "## storage"
   ]
  },
  {
   "cell_type": "code",
   "execution_count": 64,
   "metadata": {},
   "outputs": [],
   "source": [
    "def extract_storage(row):\n",
    "    storage = row.split()[1]\n",
    "    return storage\n",
    "\n",
    "\n",
    "df['storage'] = df['storage_ram'].apply(func=extract_storage)"
   ]
  },
  {
   "cell_type": "code",
   "execution_count": 83,
   "metadata": {},
   "outputs": [
    {
     "name": "stdout",
     "output_type": "stream",
     "text": [
      "109 : Storage128\n",
      "4 : Storage128\n",
      "24 : Storage64\n",
      "78 : Storage128\n",
      "74 : Storage64\n",
      "4 : Storage128\n"
     ]
    }
   ],
   "source": [
    "random_values('storage')"
   ]
  },
  {
   "cell_type": "code",
   "execution_count": 85,
   "metadata": {},
   "outputs": [
    {
     "data": {
      "text/plain": [
       "Index(['level_0', 'index', 'name', 'ratings', 'price', 'imgURL', 'storage_ram',\n",
       "       'camera', 'oS_Processor', 'display', 'network', 'battery', 'ram',\n",
       "       'storage'],\n",
       "      dtype='object')"
      ]
     },
     "execution_count": 85,
     "metadata": {},
     "output_type": "execute_result"
    }
   ],
   "source": [
    "df.columns"
   ]
  },
  {
   "cell_type": "code",
   "execution_count": 86,
   "metadata": {},
   "outputs": [],
   "source": [
    "df = df.drop(columns=['level_0','index'])"
   ]
  },
  {
   "cell_type": "code",
   "execution_count": 87,
   "metadata": {},
   "outputs": [
    {
     "name": "stdout",
     "output_type": "stream",
     "text": [
      "looped till 110 index\n"
     ]
    }
   ],
   "source": [
    "import warnings\n",
    "warnings.filterwarnings('ignore')\n",
    "df.reset_index(inplace=True)\n",
    "count = 0\n",
    "for i in range(0,len(df['storage'])):\n",
    "    df['storage'][i]= df['storage'].iloc[i].replace('Storage','')\n",
    "    count+=1\n",
    "print(f'looped till {count} index')"
   ]
  },
  {
   "cell_type": "code",
   "execution_count": 88,
   "metadata": {},
   "outputs": [],
   "source": [
    "df['storage'] = df['storage'].astype('Int16')\n",
    "## Removing storage_ram\n",
    "df = df.drop(columns=['storage_ram','index'])"
   ]
  },
  {
   "cell_type": "code",
   "execution_count": 93,
   "metadata": {},
   "outputs": [
    {
     "name": "stdout",
     "output_type": "stream",
     "text": [
      "30 : 128\n",
      "25 : 256\n",
      "43 : 128\n",
      "60 : 16\n",
      "96 : 128\n",
      "27 : 128\n"
     ]
    }
   ],
   "source": [
    "random_values('storage')"
   ]
  },
  {
   "cell_type": "markdown",
   "metadata": {},
   "source": [
    "## Android Version"
   ]
  },
  {
   "cell_type": "code",
   "execution_count": 97,
   "metadata": {},
   "outputs": [],
   "source": [
    "df.rename({'camera':'os_processor','oS_Processor':'camera'},axis=1,inplace=True)"
   ]
  },
  {
   "cell_type": "code",
   "execution_count": 99,
   "metadata": {},
   "outputs": [],
   "source": [
    "# df"
   ]
  },
  {
   "cell_type": "code",
   "execution_count": 100,
   "metadata": {},
   "outputs": [],
   "source": [
    "def extract_processor(text):\n",
    "    pattern = r'.*Processor'\n",
    "    match = re.findall(pattern, text)\n",
    "    if match:\n",
    "        return match[0]\n",
    "    else:\n",
    "        return text\n"
   ]
  },
  {
   "cell_type": "code",
   "execution_count": 101,
   "metadata": {},
   "outputs": [],
   "source": [
    "df['os_processor'] = df['os_processor'].apply(extract_processor)"
   ]
  },
  {
   "cell_type": "code",
   "execution_count": 107,
   "metadata": {},
   "outputs": [
    {
     "name": "stdout",
     "output_type": "stream",
     "text": [
      "87 : Operating SystemAndroid 12Processor TypeMediatek Helio G37Processor\n",
      "27 : Operating SystemAndroid 12Processor TypeQualcomm Snapdragon 778G PlusProcessor\n",
      "41 : Operating SystemAndroid 13Processor TypeHelio G85Processor\n",
      "22 : Operating SystemAndroid 12Processor TypeQualcomm Snapdragon 695 5GProcessor\n",
      "39 : Operating SystemAndroid 12Processor TypeQualcomm Snapdragon 888 +Processor\n",
      "45 : Operating SystemAndroid 12Processor TypeMediatek Helio G37Processor\n"
     ]
    }
   ],
   "source": [
    "random_values('os_processor')"
   ]
  },
  {
   "cell_type": "code",
   "execution_count": 108,
   "metadata": {},
   "outputs": [],
   "source": [
    "def android_version(text_):\n",
    "    split = text_.split()\n",
    "    if 'OxygenProcessor' in split:\n",
    "        return 'OxygenProcessor'\n",
    "    elif 'ANdroid' in split:\n",
    "        return split[3]\n",
    "    elif 'OxygenOSProcessor' in split:\n",
    "        return 'OxygenOSProcessor'\n",
    "    else:\n",
    "        pattern=r'^\\d+[Processor]|\\d+[GProcessor]|\\d++[.Processor]'\n",
    "        found = re.findall(pattern,text_)\n",
    "        if found:\n",
    "            return found[0]\n",
    "        else:\n",
    "            return 'other androidVerion'"
   ]
  },
  {
   "cell_type": "code",
   "execution_count": 109,
   "metadata": {},
   "outputs": [],
   "source": [
    "df['android_version'] = df['os_processor'].apply(android_version)"
   ]
  },
  {
   "cell_type": "code",
   "execution_count": 110,
   "metadata": {},
   "outputs": [],
   "source": [
    "df.reset_index(inplace=True)\n",
    "for Index,i in enumerate(df['android_version']):\n",
    "    # print(i)\n",
    "    i = str(i).replace('P','')\n",
    "    i = str(i).replace('.','')\n",
    "    df['android_version'][Index] = i"
   ]
  },
  {
   "cell_type": "code",
   "execution_count": 169,
   "metadata": {},
   "outputs": [
    {
     "name": "stdout",
     "output_type": "stream",
     "text": [
      "21 : 13\n",
      "68 : 12\n",
      "43 : 12\n",
      "63 : 9\n",
      "61 : 11\n",
      "102 : 11\n"
     ]
    }
   ],
   "source": [
    "random_values('android_version')"
   ]
  },
  {
   "cell_type": "markdown",
   "metadata": {},
   "source": [
    "## Processor"
   ]
  },
  {
   "cell_type": "code",
   "execution_count": 170,
   "metadata": {},
   "outputs": [],
   "source": [
    "def processor(text):\n",
    "    pattern=r'(?<=Type).*'\n",
    "    search = re.search(pattern,text)\n",
    "    if search != None:\n",
    "        return ' '.join(re.findall(pattern,text))\n",
    "    else:\n",
    "        return 'not montioned'"
   ]
  },
  {
   "cell_type": "code",
   "execution_count": 171,
   "metadata": {},
   "outputs": [],
   "source": [
    "df['processor'] = df['os_processor'].apply(processor)\n",
    "df = df.drop('os_processor',axis=1)\n",
    "df = df.drop('index',axis=1)\n"
   ]
  },
  {
   "cell_type": "code",
   "execution_count": 172,
   "metadata": {},
   "outputs": [],
   "source": [
    "def processor_extract(text):\n",
    "    splitted_sentence = text.split()\n",
    "    if 'Mediatek' and 'Helio' in splitted_sentence:\n",
    "        pattern = r'\\d+[Processor]|\\d+'\n",
    "        string = ' '.join(splitted_sentence)\n",
    "        match = re.search(pattern,string)\n",
    "        if match == None:\n",
    "            return 'Heilo'+str(splitted_sentence[2])\n",
    "        else:\n",
    "            find = re.findall(pattern,string)\n",
    "            return 'Heilo'+''.join(find)\n",
    "\n",
    "\n",
    "    elif 'Mediatek' and 'Dimensity' in splitted_sentence:\n",
    "        pattern = r'(\\d+)+[Processor]'\n",
    "        string = ' '.join(splitted_sentence)\n",
    "        match = re.search(pattern,string)\n",
    "        if match == None:\n",
    "            if 'Dimensity' == str(splitted_sentence[1]):\n",
    "                return 'Dimensity'+str(splitted_sentence[2])\n",
    "            else:\n",
    "                return 'Dimensity'+str(splitted_sentence[1])\n",
    "        \n",
    "        else:\n",
    "            find = re.findall(pattern,string)\n",
    "            return 'Dimensity'+ ''.join(find)\n",
    "\n",
    "    elif 'Snapdragon' and 'Gen' and '4' in splitted_sentence:\n",
    "        return 'Gen4'   \n",
    "\n",
    "    elif 'Snapdragon' and 'Gen' and '8' in splitted_sentence:         \n",
    "        return 'Gen8'\n",
    "    \n",
    "    elif 'Unisoc' in splitted_sentence:\n",
    "        \n",
    "        if 'Unisoc' and 'Tiger' in splitted_sentence:\n",
    "            pattern = r'[T]\\d[Processor]'\n",
    "            string = ' '.join(splitted_sentence)\n",
    "            match = re.findall(pattern,string)\n",
    "            return 'UnisocTiger' + ''.join(splitted_sentence[2])\n",
    "        \n",
    "        elif 'Unisoc' == splitted_sentence[0]:\n",
    "            pattern = r'[T]\\d.'\n",
    "            string = ' '.join(splitted_sentence)\n",
    "            match = re.findall(pattern,string)\n",
    "            return 'Unisoc' + ''.join(splitted_sentence[1])\n",
    "\n",
    "        \n",
    "        pattern = r'T(\\d+)Processor|\\d+'\n",
    "        string = ' '.join(splitted_sentence)\n",
    "        match = re.findall(pattern,string)\n",
    "        return 'Unisoc'+' '.join(match)\n",
    "    \n",
    "\n",
    "    elif 'Snapdragon' in splitted_sentence:\n",
    "        pattern = r'\\d+[Processor]'\n",
    "        if 'Gen' and '4' and '8' not in splitted_sentence:\n",
    "            string = ' '.join(splitted_sentence)\n",
    "            match = re.search(pattern,string)\n",
    "            if match == None:\n",
    "                if 'Snapdragon' == str(splitted_sentence[1]):\n",
    "                    return 'Snapdragon'+str(splitted_sentence[2])\n",
    "                else:\n",
    "                    return 'Snapdragon'+str(splitted_sentence[1])\n",
    "            else:\n",
    "                find = re.findall(pattern,string)\n",
    "                return 'Snapdragon'+''.join(find)\n",
    "    \n",
    "    elif 'MediaTek' == splitted_sentence[0]:\n",
    "        pattern = r'[P]\\d.'\n",
    "        string = ' '.join(splitted_sentence)\n",
    "        match = re.findall(pattern,string)\n",
    "        return 'MediaTek' + ' '.join(match)\n",
    "\n",
    "    else:\n",
    "        return 'not mentioned'      \n"
   ]
  },
  {
   "cell_type": "code",
   "execution_count": 184,
   "metadata": {},
   "outputs": [
    {
     "name": "stdout",
     "output_type": "stream",
     "text": [
      "Qualcomm Snapdragon 680Processor ::index -89\n",
      "Snapdragon680P\n",
      "\n",
      "Qualcomm Snapdragon 680Processor ::index -68\n",
      "Snapdragon680P\n",
      "\n",
      "Mediatek Helio G37Processor ::index -9\n",
      "Heilo37P\n",
      "\n",
      "Qualcomm Snapdragon 732GProcessor ::index -93\n",
      "Snapdragon732GProcessor\n",
      "\n",
      "Qualcomm Snapdragon 732GProcessor ::index -92\n",
      "Snapdragon732GProcessor\n",
      "\n",
      "Mediatek Dimensity 930Processor ::index -12\n",
      "Dimensity930\n",
      "\n",
      "Qualcomm Snapdragon 888 +Processor ::index -35\n",
      "Snapdragon888\n",
      "\n",
      "Qualcomm Snapdragon 778G PlusProcessor ::index -27\n",
      "Snapdragon778G\n",
      "\n",
      "Qualcomm Snapdragon 680Processor ::index -26\n",
      "Snapdragon680P\n",
      "\n"
     ]
    }
   ],
   "source": [
    "for i in range(0,9):\n",
    "    rand = np.random.randint(df.shape[0])\n",
    "    # print(rand)\n",
    "    txt = processor_extract(df['processor'].iloc[rand])\n",
    "    print(df['processor'].iloc[rand],f'::index -{rand}')\n",
    "    print(txt)\n",
    "    print()"
   ]
  },
  {
   "cell_type": "code",
   "execution_count": 185,
   "metadata": {},
   "outputs": [],
   "source": [
    "df['processor']=df['processor'].apply(processor_extract)"
   ]
  },
  {
   "cell_type": "markdown",
   "metadata": {},
   "source": [
    "## camera"
   ]
  },
  {
   "cell_type": "code",
   "execution_count": 186,
   "metadata": {},
   "outputs": [],
   "source": [
    "def camera_extract(row):\n",
    "    row_splitted = row.split()\n",
    "    pattern = r'\\d+MP'\n",
    "    words = ' '.join(row_splitted)\n",
    "    find_cam = re.findall(pattern,words)\n",
    "    return ' '.join(find_cam)\n"
   ]
  },
  {
   "cell_type": "code",
   "execution_count": 187,
   "metadata": {},
   "outputs": [],
   "source": [
    "df['camera'] = df['camera'].apply(camera_extract)"
   ]
  },
  {
   "cell_type": "code",
   "execution_count": 223,
   "metadata": {},
   "outputs": [],
   "source": [
    "def camera(txt):\n",
    "    if not txt:\n",
    "        return 13\n",
    "\n",
    "    lst = []\n",
    "    splitted = txt.split()\n",
    "    for i in splitted:\n",
    "        make_int = i.replace('MP', '')\n",
    "        lst.append(int(make_int))\n",
    "\n",
    "    return max(lst)\n"
   ]
  },
  {
   "cell_type": "code",
   "execution_count": 224,
   "metadata": {},
   "outputs": [
    {
     "name": "stdout",
     "output_type": "stream",
     "text": [
      "51 : 16\n",
      "49 : 50\n",
      "21 : 50\n",
      "80 : 16\n",
      "109 : 60\n",
      "107 : 48\n"
     ]
    }
   ],
   "source": [
    "random_values('camera')"
   ]
  },
  {
   "cell_type": "code",
   "execution_count": null,
   "metadata": {},
   "outputs": [],
   "source": [
    "df['camera'] = df['camera'].apply(func=camera)\n",
    "df['camera'] = df['camera'].astype('Int16')"
   ]
  },
  {
   "cell_type": "markdown",
   "metadata": {},
   "source": [
    "## display"
   ]
  },
  {
   "cell_type": "code",
   "execution_count": 226,
   "metadata": {},
   "outputs": [],
   "source": [
    "def display_extract(row):\n",
    "    split_row = row.split()\n",
    "    if 'LCD' in split_row:\n",
    "        if 'IPS' in split_row and 'LCD' in split_row:\n",
    "            return 'IPS LCD'\n",
    "        return 'LCD'\n",
    "    \n",
    "    if 'OLED' in split_row:\n",
    "        return 'OLED'\n",
    "    \n",
    "    if 'TFT' in split_row:\n",
    "        return 'TFT'\n",
    "    \n",
    "    if 'LED' in split_row:\n",
    "        return 'LED'\n",
    "\n",
    "    # if 'Adreno' in split_row:\n",
    "    #     return 'Adreno'\n",
    "    if 'AMOLED' in split_row:\n",
    "        if 'HD+' in split_row and 'AMOLED' in split_row:\n",
    "            return 'HD+ AMOLED'\n",
    "        return 'AMOLED'\n",
    "    \n",
    "    return 'other'\n"
   ]
  },
  {
   "cell_type": "code",
   "execution_count": 227,
   "metadata": {},
   "outputs": [],
   "source": [
    "df['display'] = df['display'].apply(display_extract)"
   ]
  },
  {
   "cell_type": "code",
   "execution_count": 235,
   "metadata": {},
   "outputs": [
    {
     "name": "stdout",
     "output_type": "stream",
     "text": [
      "47 : other\n",
      "99 : HD+ AMOLED\n",
      "21 : other\n",
      "3 : IPS LCD\n",
      "86 : OLED\n",
      "54 : IPS LCD\n"
     ]
    }
   ],
   "source": [
    "random_values('display')"
   ]
  },
  {
   "cell_type": "markdown",
   "metadata": {},
   "source": [
    "## network"
   ]
  },
  {
   "cell_type": "code",
   "execution_count": 236,
   "metadata": {},
   "outputs": [],
   "source": [
    "df = df.drop(columns=['network'])"
   ]
  },
  {
   "cell_type": "markdown",
   "metadata": {},
   "source": [
    "## battery"
   ]
  },
  {
   "cell_type": "code",
   "execution_count": 237,
   "metadata": {},
   "outputs": [],
   "source": [
    "def extract_battery(row):\n",
    "    return row.split()[1]\n",
    "\n",
    "df['battery'] = df['battery'].apply(extract_battery)"
   ]
  },
  {
   "cell_type": "code",
   "execution_count": 238,
   "metadata": {},
   "outputs": [
    {
     "name": "stdout",
     "output_type": "stream",
     "text": [
      "looped till 110 index\n"
     ]
    }
   ],
   "source": [
    "df.reset_index(inplace=True)\n",
    "count = 0\n",
    "for i in range(0,len(df['battery'])):\n",
    "    # print(i)\n",
    "    df['battery'][i]= df['battery'].iloc[i].replace('Capacity','')\n",
    "    # print(df['battery'][i])\n",
    "    count+=1\n",
    "print(f'looped till {count} index')"
   ]
  },
  {
   "cell_type": "code",
   "execution_count": 239,
   "metadata": {},
   "outputs": [],
   "source": [
    "df['battery'] = df['battery'].astype('Int16')"
   ]
  },
  {
   "cell_type": "code",
   "execution_count": 240,
   "metadata": {},
   "outputs": [],
   "source": [
    "df = df.drop(labels='index',axis=1)"
   ]
  },
  {
   "cell_type": "code",
   "execution_count": 241,
   "metadata": {},
   "outputs": [
    {
     "data": {
      "text/html": [
       "<div>\n",
       "<style scoped>\n",
       "    .dataframe tbody tr th:only-of-type {\n",
       "        vertical-align: middle;\n",
       "    }\n",
       "\n",
       "    .dataframe tbody tr th {\n",
       "        vertical-align: top;\n",
       "    }\n",
       "\n",
       "    .dataframe thead th {\n",
       "        text-align: right;\n",
       "    }\n",
       "</style>\n",
       "<table border=\"1\" class=\"dataframe\">\n",
       "  <thead>\n",
       "    <tr style=\"text-align: right;\">\n",
       "      <th></th>\n",
       "      <th>name</th>\n",
       "      <th>ratings</th>\n",
       "      <th>price</th>\n",
       "      <th>imgURL</th>\n",
       "      <th>camera</th>\n",
       "      <th>display</th>\n",
       "      <th>battery</th>\n",
       "      <th>ram</th>\n",
       "      <th>storage</th>\n",
       "      <th>android_version</th>\n",
       "      <th>processor</th>\n",
       "    </tr>\n",
       "  </thead>\n",
       "  <tbody>\n",
       "    <tr>\n",
       "      <th>0</th>\n",
       "      <td>MOTOROLA g42 (Atlantic Green, 64 GB)</td>\n",
       "      <td>4.2</td>\n",
       "      <td>9999</td>\n",
       "      <td>https://rukminim2.flixcart.com/image/312/312/l...</td>\n",
       "      <td>50</td>\n",
       "      <td>HD+ AMOLED</td>\n",
       "      <td>5000</td>\n",
       "      <td>4</td>\n",
       "      <td>64</td>\n",
       "      <td>12</td>\n",
       "      <td>Snapdragon680P</td>\n",
       "    </tr>\n",
       "    <tr>\n",
       "      <th>1</th>\n",
       "      <td>MOTOROLA e13 (Cosmic Black, 64 GB)</td>\n",
       "      <td>4.0</td>\n",
       "      <td>7299</td>\n",
       "      <td>https://rukminim2.flixcart.com/image/312/312/x...</td>\n",
       "      <td>13</td>\n",
       "      <td>IPS LCD</td>\n",
       "      <td>5000</td>\n",
       "      <td>4</td>\n",
       "      <td>64</td>\n",
       "      <td>606</td>\n",
       "      <td>UnisocT606Processor</td>\n",
       "    </tr>\n",
       "    <tr>\n",
       "      <th>2</th>\n",
       "      <td>MOTOROLA G32 (Mineral Gray, 128 GB)</td>\n",
       "      <td>4.1</td>\n",
       "      <td>11999</td>\n",
       "      <td>https://rukminim2.flixcart.com/image/312/312/x...</td>\n",
       "      <td>50</td>\n",
       "      <td>IPS LCD</td>\n",
       "      <td>5000</td>\n",
       "      <td>8</td>\n",
       "      <td>128</td>\n",
       "      <td>12</td>\n",
       "      <td>Snapdragon680P</td>\n",
       "    </tr>\n",
       "    <tr>\n",
       "      <th>3</th>\n",
       "      <td>MOTOROLA e32 (Arctic Blue, 64 GB)</td>\n",
       "      <td>3.9</td>\n",
       "      <td>7999</td>\n",
       "      <td>https://rukminim2.flixcart.com/image/312/312/x...</td>\n",
       "      <td>50</td>\n",
       "      <td>IPS LCD</td>\n",
       "      <td>5000</td>\n",
       "      <td>4</td>\n",
       "      <td>64</td>\n",
       "      <td>12</td>\n",
       "      <td>Heilo37P</td>\n",
       "    </tr>\n",
       "    <tr>\n",
       "      <th>4</th>\n",
       "      <td>MOTOROLA g13 (Lavender Blue, 128 GB)</td>\n",
       "      <td>3.9</td>\n",
       "      <td>9999</td>\n",
       "      <td>https://rukminim2.flixcart.com/image/312/312/x...</td>\n",
       "      <td>50</td>\n",
       "      <td>IPS LCD</td>\n",
       "      <td>5000</td>\n",
       "      <td>4</td>\n",
       "      <td>128</td>\n",
       "      <td>13</td>\n",
       "      <td>Heilo85P</td>\n",
       "    </tr>\n",
       "    <tr>\n",
       "      <th>...</th>\n",
       "      <td>...</td>\n",
       "      <td>...</td>\n",
       "      <td>...</td>\n",
       "      <td>...</td>\n",
       "      <td>...</td>\n",
       "      <td>...</td>\n",
       "      <td>...</td>\n",
       "      <td>...</td>\n",
       "      <td>...</td>\n",
       "      <td>...</td>\n",
       "      <td>...</td>\n",
       "    </tr>\n",
       "    <tr>\n",
       "      <th>105</th>\n",
       "      <td>Moto E6s (Polished Graphite, 64 GB)</td>\n",
       "      <td>4.1</td>\n",
       "      <td>7499</td>\n",
       "      <td>https://rukminim2.flixcart.com/image/312/312/k...</td>\n",
       "      <td>13</td>\n",
       "      <td>other</td>\n",
       "      <td>3000</td>\n",
       "      <td>4</td>\n",
       "      <td>64</td>\n",
       "      <td>11</td>\n",
       "      <td>Snapdragon662P</td>\n",
       "    </tr>\n",
       "    <tr>\n",
       "      <th>106</th>\n",
       "      <td>MOTOROLA G30 (Pastel Sky, 64 GB)</td>\n",
       "      <td>4.1</td>\n",
       "      <td>10999</td>\n",
       "      <td>https://rukminim2.flixcart.com/image/312/312/k...</td>\n",
       "      <td>64</td>\n",
       "      <td>IPS LCD</td>\n",
       "      <td>5000</td>\n",
       "      <td>4</td>\n",
       "      <td>64</td>\n",
       "      <td>11</td>\n",
       "      <td>Snapdragon460P</td>\n",
       "    </tr>\n",
       "    <tr>\n",
       "      <th>107</th>\n",
       "      <td>MOTOROLA G10 Power (Breeze Blue, 64 GB)</td>\n",
       "      <td>4.2</td>\n",
       "      <td>9999</td>\n",
       "      <td>https://rukminim2.flixcart.com/image/312/312/k...</td>\n",
       "      <td>48</td>\n",
       "      <td>IPS LCD</td>\n",
       "      <td>6000</td>\n",
       "      <td>4</td>\n",
       "      <td>64</td>\n",
       "      <td>11</td>\n",
       "      <td>Dimensity800UProcessor</td>\n",
       "    </tr>\n",
       "    <tr>\n",
       "      <th>108</th>\n",
       "      <td>MOTOROLA Edge 20 Fusion 5G (Cyber Teal, 128 GB)</td>\n",
       "      <td>4.0</td>\n",
       "      <td>18999</td>\n",
       "      <td>https://rukminim2.flixcart.com/image/312/312/k...</td>\n",
       "      <td>108</td>\n",
       "      <td>HD+ AMOLED</td>\n",
       "      <td>5000</td>\n",
       "      <td>6</td>\n",
       "      <td>128</td>\n",
       "      <td>12</td>\n",
       "      <td>Gen8</td>\n",
       "    </tr>\n",
       "    <tr>\n",
       "      <th>109</th>\n",
       "      <td>MOTOROLA Edge 30 Pro (Stardust White, 128 GB)</td>\n",
       "      <td>4.0</td>\n",
       "      <td>30537</td>\n",
       "      <td>https://rukminim2.flixcart.com/image/312/312/k...</td>\n",
       "      <td>60</td>\n",
       "      <td>HD+ AMOLED</td>\n",
       "      <td>4800</td>\n",
       "      <td>8</td>\n",
       "      <td>128</td>\n",
       "      <td>other androidVerion</td>\n",
       "      <td>not mentioned</td>\n",
       "    </tr>\n",
       "  </tbody>\n",
       "</table>\n",
       "<p>110 rows × 11 columns</p>\n",
       "</div>"
      ],
      "text/plain": [
       "                                                name  ratings  price   \n",
       "0               MOTOROLA g42 (Atlantic Green, 64 GB)      4.2   9999  \\\n",
       "1                 MOTOROLA e13 (Cosmic Black, 64 GB)      4.0   7299   \n",
       "2                MOTOROLA G32 (Mineral Gray, 128 GB)      4.1  11999   \n",
       "3                  MOTOROLA e32 (Arctic Blue, 64 GB)      3.9   7999   \n",
       "4               MOTOROLA g13 (Lavender Blue, 128 GB)      3.9   9999   \n",
       "..                                               ...      ...    ...   \n",
       "105              Moto E6s (Polished Graphite, 64 GB)      4.1   7499   \n",
       "106                 MOTOROLA G30 (Pastel Sky, 64 GB)      4.1  10999   \n",
       "107          MOTOROLA G10 Power (Breeze Blue, 64 GB)      4.2   9999   \n",
       "108  MOTOROLA Edge 20 Fusion 5G (Cyber Teal, 128 GB)      4.0  18999   \n",
       "109    MOTOROLA Edge 30 Pro (Stardust White, 128 GB)      4.0  30537   \n",
       "\n",
       "                                                imgURL  camera     display   \n",
       "0    https://rukminim2.flixcart.com/image/312/312/l...      50  HD+ AMOLED  \\\n",
       "1    https://rukminim2.flixcart.com/image/312/312/x...      13     IPS LCD   \n",
       "2    https://rukminim2.flixcart.com/image/312/312/x...      50     IPS LCD   \n",
       "3    https://rukminim2.flixcart.com/image/312/312/x...      50     IPS LCD   \n",
       "4    https://rukminim2.flixcart.com/image/312/312/x...      50     IPS LCD   \n",
       "..                                                 ...     ...         ...   \n",
       "105  https://rukminim2.flixcart.com/image/312/312/k...      13       other   \n",
       "106  https://rukminim2.flixcart.com/image/312/312/k...      64     IPS LCD   \n",
       "107  https://rukminim2.flixcart.com/image/312/312/k...      48     IPS LCD   \n",
       "108  https://rukminim2.flixcart.com/image/312/312/k...     108  HD+ AMOLED   \n",
       "109  https://rukminim2.flixcart.com/image/312/312/k...      60  HD+ AMOLED   \n",
       "\n",
       "     battery  ram  storage      android_version               processor  \n",
       "0       5000    4       64                   12          Snapdragon680P  \n",
       "1       5000    4       64                  606     UnisocT606Processor  \n",
       "2       5000    8      128                   12          Snapdragon680P  \n",
       "3       5000    4       64                   12                Heilo37P  \n",
       "4       5000    4      128                   13                Heilo85P  \n",
       "..       ...  ...      ...                  ...                     ...  \n",
       "105     3000    4       64                   11          Snapdragon662P  \n",
       "106     5000    4       64                   11          Snapdragon460P  \n",
       "107     6000    4       64                   11  Dimensity800UProcessor  \n",
       "108     5000    6      128                   12                    Gen8  \n",
       "109     4800    8      128  other androidVerion           not mentioned  \n",
       "\n",
       "[110 rows x 11 columns]"
      ]
     },
     "execution_count": 241,
     "metadata": {},
     "output_type": "execute_result"
    }
   ],
   "source": [
    "df"
   ]
  },
  {
   "cell_type": "code",
   "execution_count": null,
   "metadata": {},
   "outputs": [],
   "source": [
    "df.to_csv(r'data\\cleaned_dataset\\motorola_plus_cleaned_data.csv')"
   ]
  },
  {
   "cell_type": "code",
   "execution_count": null,
   "metadata": {},
   "outputs": [],
   "source": []
  }
 ],
 "metadata": {
  "kernelspec": {
   "display_name": "Python 3",
   "language": "python",
   "name": "python3"
  },
  "language_info": {
   "codemirror_mode": {
    "name": "ipython",
    "version": 3
   },
   "file_extension": ".py",
   "mimetype": "text/x-python",
   "name": "python",
   "nbconvert_exporter": "python",
   "pygments_lexer": "ipython3",
   "version": "3.11.3"
  },
  "orig_nbformat": 4
 },
 "nbformat": 4,
 "nbformat_minor": 2
}
