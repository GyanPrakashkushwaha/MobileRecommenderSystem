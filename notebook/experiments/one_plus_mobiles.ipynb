{
 "cells": [
  {
   "cell_type": "code",
   "execution_count": 408,
   "metadata": {},
   "outputs": [],
   "source": [
    "import pandas as pd\n",
    "import os\n",
    "import numpy as np\n",
    "from ensure import ensure_annotations\n",
    "import re\n",
    "import warnings\n",
    "warnings.filterwarnings('ignore')"
   ]
  },
  {
   "cell_type": "code",
   "execution_count": 409,
   "metadata": {},
   "outputs": [
    {
     "name": "stdout",
     "output_type": "stream",
     "text": [
      "d:\\vscode_machineLearning\\BEST_PROJECTS\\mobileRecommenderSystem\n",
      "None\n",
      "d:\\vscode_machineLearning\\BEST_PROJECTS\\mobileRecommenderSystem\n"
     ]
    }
   ],
   "source": [
    "print(os.getcwd())\n",
    "print(os.chdir(r'd:\\vscode_machineLearning\\BEST_PROJECTS\\mobileRecommenderSystem'))\n",
    "print(os.getcwd())"
   ]
  },
  {
   "cell_type": "code",
   "execution_count": 410,
   "metadata": {},
   "outputs": [],
   "source": [
    "df = pd.read_csv(r'data\\raw_data\\one_plus_mobile_new_data.csv',index_col=None)"
   ]
  },
  {
   "cell_type": "code",
   "execution_count": 411,
   "metadata": {},
   "outputs": [],
   "source": [
    "df.drop_duplicates(inplace=True,ignore_index=True)"
   ]
  },
  {
   "cell_type": "markdown",
   "metadata": {},
   "source": [
    "## Removing Null values"
   ]
  },
  {
   "cell_type": "code",
   "execution_count": 412,
   "metadata": {},
   "outputs": [
    {
     "data": {
      "text/plain": [
       "name            0\n",
       "ratings         0\n",
       "price           0\n",
       "imgURL          0\n",
       "storage_ram     0\n",
       "os_processor    0\n",
       "camera          0\n",
       "display         0\n",
       "network         0\n",
       "battery         0\n",
       "dtype: int64"
      ]
     },
     "execution_count": 412,
     "metadata": {},
     "output_type": "execute_result"
    }
   ],
   "source": [
    "df.isnull().sum()"
   ]
  },
  {
   "cell_type": "code",
   "execution_count": 413,
   "metadata": {},
   "outputs": [
    {
     "data": {
      "text/html": [
       "<div>\n",
       "<style scoped>\n",
       "    .dataframe tbody tr th:only-of-type {\n",
       "        vertical-align: middle;\n",
       "    }\n",
       "\n",
       "    .dataframe tbody tr th {\n",
       "        vertical-align: top;\n",
       "    }\n",
       "\n",
       "    .dataframe thead th {\n",
       "        text-align: right;\n",
       "    }\n",
       "</style>\n",
       "<table border=\"1\" class=\"dataframe\">\n",
       "  <thead>\n",
       "    <tr style=\"text-align: right;\">\n",
       "      <th></th>\n",
       "      <th>name</th>\n",
       "      <th>ratings</th>\n",
       "      <th>price</th>\n",
       "      <th>imgURL</th>\n",
       "      <th>storage_ram</th>\n",
       "      <th>os_processor</th>\n",
       "      <th>camera</th>\n",
       "      <th>display</th>\n",
       "      <th>network</th>\n",
       "      <th>battery</th>\n",
       "    </tr>\n",
       "  </thead>\n",
       "  <tbody>\n",
       "  </tbody>\n",
       "</table>\n",
       "</div>"
      ],
      "text/plain": [
       "Empty DataFrame\n",
       "Columns: [name, ratings, price, imgURL, storage_ram, os_processor, camera, display, network, battery]\n",
       "Index: []"
      ]
     },
     "execution_count": 413,
     "metadata": {},
     "output_type": "execute_result"
    }
   ],
   "source": [
    "df[df['ratings'].isnull() == True]"
   ]
  },
  {
   "cell_type": "code",
   "execution_count": 414,
   "metadata": {},
   "outputs": [],
   "source": [
    "# df['ratings'][45] = 4.3 \n",
    "# df['ratings'][46] = 4.2\n",
    "# df['ratings'][47] = 4\n",
    "# df['ratings'][69] = 3.9\n",
    "# df['ratings'][70] = 4.5\n",
    "# df['ratings'][92] = 4.3\n",
    "# df['ratings'][140] = 4.4\n",
    "# df['ratings'][162] = 4.3\n",
    "# df['ratings'][163] = 4.3\n",
    "# df['ratings'][186] = 4\n",
    "# df['ratings'][187] = 4.2"
   ]
  },
  {
   "cell_type": "code",
   "execution_count": 415,
   "metadata": {},
   "outputs": [
    {
     "data": {
      "text/html": [
       "<div>\n",
       "<style scoped>\n",
       "    .dataframe tbody tr th:only-of-type {\n",
       "        vertical-align: middle;\n",
       "    }\n",
       "\n",
       "    .dataframe tbody tr th {\n",
       "        vertical-align: top;\n",
       "    }\n",
       "\n",
       "    .dataframe thead th {\n",
       "        text-align: right;\n",
       "    }\n",
       "</style>\n",
       "<table border=\"1\" class=\"dataframe\">\n",
       "  <thead>\n",
       "    <tr style=\"text-align: right;\">\n",
       "      <th></th>\n",
       "      <th>name</th>\n",
       "      <th>ratings</th>\n",
       "      <th>price</th>\n",
       "      <th>imgURL</th>\n",
       "      <th>storage_ram</th>\n",
       "      <th>os_processor</th>\n",
       "      <th>camera</th>\n",
       "      <th>display</th>\n",
       "      <th>network</th>\n",
       "      <th>battery</th>\n",
       "    </tr>\n",
       "  </thead>\n",
       "  <tbody>\n",
       "  </tbody>\n",
       "</table>\n",
       "</div>"
      ],
      "text/plain": [
       "Empty DataFrame\n",
       "Columns: [name, ratings, price, imgURL, storage_ram, os_processor, camera, display, network, battery]\n",
       "Index: []"
      ]
     },
     "execution_count": 415,
     "metadata": {},
     "output_type": "execute_result"
    }
   ],
   "source": [
    "df[df['ratings'].isnull() == True]"
   ]
  },
  {
   "cell_type": "code",
   "execution_count": 416,
   "metadata": {},
   "outputs": [],
   "source": [
    "# df.to_csv(r'data\\raw_data\\one_plus_mobile_new_data.csv',index=False)"
   ]
  },
  {
   "cell_type": "code",
   "execution_count": 417,
   "metadata": {},
   "outputs": [
    {
     "data": {
      "text/html": [
       "<div>\n",
       "<style scoped>\n",
       "    .dataframe tbody tr th:only-of-type {\n",
       "        vertical-align: middle;\n",
       "    }\n",
       "\n",
       "    .dataframe tbody tr th {\n",
       "        vertical-align: top;\n",
       "    }\n",
       "\n",
       "    .dataframe thead th {\n",
       "        text-align: right;\n",
       "    }\n",
       "</style>\n",
       "<table border=\"1\" class=\"dataframe\">\n",
       "  <thead>\n",
       "    <tr style=\"text-align: right;\">\n",
       "      <th></th>\n",
       "      <th>name</th>\n",
       "      <th>ratings</th>\n",
       "      <th>price</th>\n",
       "      <th>imgURL</th>\n",
       "      <th>storage_ram</th>\n",
       "      <th>os_processor</th>\n",
       "      <th>camera</th>\n",
       "      <th>display</th>\n",
       "      <th>network</th>\n",
       "      <th>battery</th>\n",
       "    </tr>\n",
       "  </thead>\n",
       "  <tbody>\n",
       "  </tbody>\n",
       "</table>\n",
       "</div>"
      ],
      "text/plain": [
       "Empty DataFrame\n",
       "Columns: [name, ratings, price, imgURL, storage_ram, os_processor, camera, display, network, battery]\n",
       "Index: []"
      ]
     },
     "execution_count": 417,
     "metadata": {},
     "output_type": "execute_result"
    }
   ],
   "source": [
    "df[df['camera'].isnull() == True]"
   ]
  },
  {
   "cell_type": "code",
   "execution_count": 418,
   "metadata": {},
   "outputs": [],
   "source": [
    "# df['camera'][47] = '48MP'\n",
    "# df['camera'][92] = '50MP Rear Camera'\n",
    "# df['camera'][116] = '64MP Rear Camera'"
   ]
  },
  {
   "cell_type": "code",
   "execution_count": 419,
   "metadata": {},
   "outputs": [
    {
     "data": {
      "text/html": [
       "<div>\n",
       "<style scoped>\n",
       "    .dataframe tbody tr th:only-of-type {\n",
       "        vertical-align: middle;\n",
       "    }\n",
       "\n",
       "    .dataframe tbody tr th {\n",
       "        vertical-align: top;\n",
       "    }\n",
       "\n",
       "    .dataframe thead th {\n",
       "        text-align: right;\n",
       "    }\n",
       "</style>\n",
       "<table border=\"1\" class=\"dataframe\">\n",
       "  <thead>\n",
       "    <tr style=\"text-align: right;\">\n",
       "      <th></th>\n",
       "      <th>name</th>\n",
       "      <th>ratings</th>\n",
       "      <th>price</th>\n",
       "      <th>imgURL</th>\n",
       "      <th>storage_ram</th>\n",
       "      <th>os_processor</th>\n",
       "      <th>camera</th>\n",
       "      <th>display</th>\n",
       "      <th>network</th>\n",
       "      <th>battery</th>\n",
       "    </tr>\n",
       "  </thead>\n",
       "  <tbody>\n",
       "  </tbody>\n",
       "</table>\n",
       "</div>"
      ],
      "text/plain": [
       "Empty DataFrame\n",
       "Columns: [name, ratings, price, imgURL, storage_ram, os_processor, camera, display, network, battery]\n",
       "Index: []"
      ]
     },
     "execution_count": 419,
     "metadata": {},
     "output_type": "execute_result"
    }
   ],
   "source": [
    "df[df['camera'].isnull() == True]"
   ]
  },
  {
   "cell_type": "code",
   "execution_count": 420,
   "metadata": {},
   "outputs": [],
   "source": [
    "# df.to_csv(r'data\\raw_data\\one_plus_mobile_new_data.csv',index=False)"
   ]
  },
  {
   "cell_type": "code",
   "execution_count": 421,
   "metadata": {},
   "outputs": [],
   "source": [
    "@ensure_annotations\n",
    "def random_values(feature_name:str,total=6):\n",
    "    for i in range(0,total):\n",
    "        index = np.random.randint(df.shape[0])\n",
    "        print(index,':',df[feature_name].iloc[index])\n",
    "            "
   ]
  },
  {
   "cell_type": "markdown",
   "metadata": {},
   "source": [
    "## Price"
   ]
  },
  {
   "cell_type": "code",
   "execution_count": 422,
   "metadata": {},
   "outputs": [],
   "source": [
    "df.reset_index(inplace=True)\n",
    "for Index,i in enumerate(df['price']):\n",
    "    i = str(i).replace('₹','')\n",
    "    i = str(i).replace(',','')\n",
    "    df['price'][Index] = i"
   ]
  },
  {
   "cell_type": "code",
   "execution_count": 423,
   "metadata": {},
   "outputs": [],
   "source": [
    "df['price'] = df['price'].astype('Int16')"
   ]
  },
  {
   "cell_type": "code",
   "execution_count": 424,
   "metadata": {},
   "outputs": [],
   "source": [
    "df['price'] = df['price'].abs() # this is to remove the negative values from price feature"
   ]
  },
  {
   "cell_type": "code",
   "execution_count": 425,
   "metadata": {},
   "outputs": [
    {
     "name": "stdout",
     "output_type": "stream",
     "text": [
      "34 : 16546\n",
      "31 : 15337\n",
      "80 : 25636\n",
      "71 : 31990\n",
      "175 : 28346\n",
      "32 : 31556\n"
     ]
    }
   ],
   "source": [
    "random_values('price')"
   ]
  },
  {
   "cell_type": "code",
   "execution_count": 426,
   "metadata": {},
   "outputs": [
    {
     "data": {
      "text/html": [
       "<div>\n",
       "<style scoped>\n",
       "    .dataframe tbody tr th:only-of-type {\n",
       "        vertical-align: middle;\n",
       "    }\n",
       "\n",
       "    .dataframe tbody tr th {\n",
       "        vertical-align: top;\n",
       "    }\n",
       "\n",
       "    .dataframe thead th {\n",
       "        text-align: right;\n",
       "    }\n",
       "</style>\n",
       "<table border=\"1\" class=\"dataframe\">\n",
       "  <thead>\n",
       "    <tr style=\"text-align: right;\">\n",
       "      <th></th>\n",
       "      <th>count</th>\n",
       "      <th>mean</th>\n",
       "      <th>std</th>\n",
       "      <th>min</th>\n",
       "      <th>25%</th>\n",
       "      <th>50%</th>\n",
       "      <th>75%</th>\n",
       "      <th>max</th>\n",
       "    </tr>\n",
       "  </thead>\n",
       "  <tbody>\n",
       "    <tr>\n",
       "      <th>price</th>\n",
       "      <td>188.0</td>\n",
       "      <td>23565.760638</td>\n",
       "      <td>7408.256113</td>\n",
       "      <td>537.0</td>\n",
       "      <td>20403.25</td>\n",
       "      <td>24989.5</td>\n",
       "      <td>29574.25</td>\n",
       "      <td>32556.0</td>\n",
       "    </tr>\n",
       "  </tbody>\n",
       "</table>\n",
       "</div>"
      ],
      "text/plain": [
       "       count          mean          std    min       25%      50%       75%   \n",
       "price  188.0  23565.760638  7408.256113  537.0  20403.25  24989.5  29574.25  \\\n",
       "\n",
       "           max  \n",
       "price  32556.0  "
      ]
     },
     "execution_count": 426,
     "metadata": {},
     "output_type": "execute_result"
    }
   ],
   "source": [
    "df[['price']].describe().T"
   ]
  },
  {
   "cell_type": "code",
   "execution_count": 427,
   "metadata": {},
   "outputs": [
    {
     "data": {
      "text/plain": [
       "(188, 11)"
      ]
     },
     "execution_count": 427,
     "metadata": {},
     "output_type": "execute_result"
    }
   ],
   "source": [
    "df.shape"
   ]
  },
  {
   "cell_type": "markdown",
   "metadata": {},
   "source": [
    "## Ratings"
   ]
  },
  {
   "cell_type": "code",
   "execution_count": 428,
   "metadata": {},
   "outputs": [
    {
     "data": {
      "text/plain": [
       "dtype('float64')"
      ]
     },
     "execution_count": 428,
     "metadata": {},
     "output_type": "execute_result"
    }
   ],
   "source": [
    "df['ratings'].dtype"
   ]
  },
  {
   "cell_type": "markdown",
   "metadata": {},
   "source": [
    "## Ram"
   ]
  },
  {
   "cell_type": "code",
   "execution_count": 429,
   "metadata": {},
   "outputs": [],
   "source": [
    "def extract_ram(row):\n",
    "    ram = row.split()[2]\n",
    "    return ram\n",
    "\n",
    "df['ram'] = df['storage_ram'].apply(func=extract_ram)"
   ]
  },
  {
   "cell_type": "code",
   "execution_count": 430,
   "metadata": {},
   "outputs": [
    {
     "name": "stdout",
     "output_type": "stream",
     "text": [
      "90 : GBRAM8\n",
      "167 : GBRAM12\n",
      "165 : GBRAM12\n",
      "71 : GBRAM8\n",
      "136 : GBRAM8\n",
      "116 : GBRAM6\n"
     ]
    }
   ],
   "source": [
    "random_values('ram')"
   ]
  },
  {
   "cell_type": "code",
   "execution_count": 431,
   "metadata": {},
   "outputs": [
    {
     "name": "stdout",
     "output_type": "stream",
     "text": [
      "looped till 188 index\n"
     ]
    }
   ],
   "source": [
    "import warnings\n",
    "warnings.filterwarnings('ignore')\n",
    "count = 0\n",
    "for i in range(0,len(df['ram'])):\n",
    "    # df['ram'][i]= df['ram'].iloc[i].replace('MBRAM','')\n",
    "    df['ram'][i]= df['ram'].iloc[i].replace('GBRAM','')\n",
    "    count+=1\n",
    "print(f'looped till {count} index')"
   ]
  },
  {
   "cell_type": "code",
   "execution_count": 432,
   "metadata": {},
   "outputs": [],
   "source": [
    "df['ram'] = df['ram'].astype('Int16')"
   ]
  },
  {
   "cell_type": "markdown",
   "metadata": {},
   "source": [
    "## storage"
   ]
  },
  {
   "cell_type": "code",
   "execution_count": 433,
   "metadata": {},
   "outputs": [],
   "source": [
    "def extract_storage(row):\n",
    "    storage = row.split()[1]\n",
    "    return storage\n",
    "\n",
    "\n",
    "df['storage'] = df['storage_ram'].apply(func=extract_storage)"
   ]
  },
  {
   "cell_type": "code",
   "execution_count": 434,
   "metadata": {},
   "outputs": [
    {
     "name": "stdout",
     "output_type": "stream",
     "text": [
      "99 : Storage128\n",
      "140 : Storage128\n",
      "38 : Storage256\n",
      "114 : Storage128\n",
      "11 : Storage128\n",
      "105 : Storage128\n"
     ]
    }
   ],
   "source": [
    "random_values('storage')"
   ]
  },
  {
   "cell_type": "code",
   "execution_count": 435,
   "metadata": {},
   "outputs": [
    {
     "name": "stdout",
     "output_type": "stream",
     "text": [
      "looped till 188 index\n"
     ]
    }
   ],
   "source": [
    "import warnings\n",
    "warnings.filterwarnings('ignore')\n",
    "count = 0\n",
    "for i in range(0,len(df['storage'])):\n",
    "    df['storage'][i]= df['storage'].iloc[i].replace('Storage','')\n",
    "    count+=1\n",
    "print(f'looped till {count} index')"
   ]
  },
  {
   "cell_type": "code",
   "execution_count": 436,
   "metadata": {},
   "outputs": [],
   "source": [
    "df['storage'] = df['storage'].astype('Int16')"
   ]
  },
  {
   "cell_type": "code",
   "execution_count": 437,
   "metadata": {},
   "outputs": [
    {
     "name": "stdout",
     "output_type": "stream",
     "text": [
      "116 : 128\n",
      "138 : 128\n",
      "107 : 128\n",
      "184 : 128\n",
      "124 : 128\n",
      "93 : 128\n"
     ]
    }
   ],
   "source": [
    "random_values('storage')"
   ]
  },
  {
   "cell_type": "code",
   "execution_count": 438,
   "metadata": {},
   "outputs": [
    {
     "data": {
      "text/html": [
       "<div>\n",
       "<style scoped>\n",
       "    .dataframe tbody tr th:only-of-type {\n",
       "        vertical-align: middle;\n",
       "    }\n",
       "\n",
       "    .dataframe tbody tr th {\n",
       "        vertical-align: top;\n",
       "    }\n",
       "\n",
       "    .dataframe thead th {\n",
       "        text-align: right;\n",
       "    }\n",
       "</style>\n",
       "<table border=\"1\" class=\"dataframe\">\n",
       "  <thead>\n",
       "    <tr style=\"text-align: right;\">\n",
       "      <th></th>\n",
       "      <th>index</th>\n",
       "      <th>name</th>\n",
       "      <th>ratings</th>\n",
       "      <th>price</th>\n",
       "      <th>imgURL</th>\n",
       "      <th>storage_ram</th>\n",
       "      <th>os_processor</th>\n",
       "      <th>camera</th>\n",
       "      <th>display</th>\n",
       "      <th>network</th>\n",
       "      <th>battery</th>\n",
       "      <th>ram</th>\n",
       "      <th>storage</th>\n",
       "    </tr>\n",
       "  </thead>\n",
       "  <tbody>\n",
       "    <tr>\n",
       "      <th>0</th>\n",
       "      <td>0</td>\n",
       "      <td>OnePlus Nord CE 2 Lite 5G (Blue Tide, 128 GB)</td>\n",
       "      <td>4.4</td>\n",
       "      <td>17676</td>\n",
       "      <td>https://rukminim2.flixcart.com/image/312/312/x...</td>\n",
       "      <td>Internal Storage128 GBRAM6 GBMemory Card Slot ...</td>\n",
       "      <td>Operating SystemAndroid 10Processor CoreOcta C...</td>\n",
       "      <td>Primary Camera64MP Rear Camera</td>\n",
       "      <td>Display Size16.74 cm (6.59 inch)Resolution2412...</td>\n",
       "      <td>Network Type5GSupported Networks5G</td>\n",
       "      <td>Battery Capacity5000 mAh</td>\n",
       "      <td>6</td>\n",
       "      <td>128</td>\n",
       "    </tr>\n",
       "    <tr>\n",
       "      <th>1</th>\n",
       "      <td>1</td>\n",
       "      <td>OnePlus Nord CE 2 Lite 5G (Black Dusk, 128 GB)</td>\n",
       "      <td>4.4</td>\n",
       "      <td>17691</td>\n",
       "      <td>https://rukminim2.flixcart.com/image/312/312/x...</td>\n",
       "      <td>Internal Storage128 GBRAM6 GBMemory Card Slot ...</td>\n",
       "      <td>Operating SystemAndroid 13Processor CoreOcta C...</td>\n",
       "      <td>Primary Camera64MP Rear Camera</td>\n",
       "      <td>Display Size16.74 cm (6.59 inch)Resolution2412...</td>\n",
       "      <td>Network Type5GSupported Networks5G</td>\n",
       "      <td>Battery Capacity5000 mAh</td>\n",
       "      <td>6</td>\n",
       "      <td>128</td>\n",
       "    </tr>\n",
       "    <tr>\n",
       "      <th>2</th>\n",
       "      <td>2</td>\n",
       "      <td>OnePlus 11R 5G (Galactic Silver, 256 GB)</td>\n",
       "      <td>4.5</td>\n",
       "      <td>20846</td>\n",
       "      <td>https://rukminim2.flixcart.com/image/312/312/x...</td>\n",
       "      <td>Internal Storage256 GBRAM16 GB</td>\n",
       "      <td>Operating SystemAndroid OxygenOS based on Andr...</td>\n",
       "      <td>Primary Camera50MP Rear CameraDual Camera Lens...</td>\n",
       "      <td>Display Size17.02 cm (6.7 inch)Resolution2772x...</td>\n",
       "      <td>Network Type5GSupported Networks5G</td>\n",
       "      <td>Battery Capacity5000 mAh</td>\n",
       "      <td>16</td>\n",
       "      <td>256</td>\n",
       "    </tr>\n",
       "    <tr>\n",
       "      <th>3</th>\n",
       "      <td>3</td>\n",
       "      <td>OnePlus 11R 5G (Galactic Silver, 128 GB)</td>\n",
       "      <td>4.5</td>\n",
       "      <td>25802</td>\n",
       "      <td>https://rukminim2.flixcart.com/image/312/312/x...</td>\n",
       "      <td>Internal Storage128 GBRAM8 GB</td>\n",
       "      <td>Operating SystemAndroid OxygenOS based on Andr...</td>\n",
       "      <td>Primary Camera50MP Rear CameraDual Camera Lens...</td>\n",
       "      <td>Display Size17.02 cm (6.7 inch)Resolution2772x...</td>\n",
       "      <td>Network Type5GSupported Networks5G</td>\n",
       "      <td>Battery Capacity5000 mAh</td>\n",
       "      <td>8</td>\n",
       "      <td>128</td>\n",
       "    </tr>\n",
       "    <tr>\n",
       "      <th>4</th>\n",
       "      <td>4</td>\n",
       "      <td>OnePlus 11R 5G (Sonic Black, 256 GB)</td>\n",
       "      <td>4.5</td>\n",
       "      <td>21252</td>\n",
       "      <td>https://rukminim2.flixcart.com/image/312/312/x...</td>\n",
       "      <td>Internal Storage256 GBRAM16 GB</td>\n",
       "      <td>Operating SystemAndroid Oxygen OxygenOS based ...</td>\n",
       "      <td>Primary Camera50MP Rear CameraDual Camera Lens...</td>\n",
       "      <td>Display Size17.02 cm (6.7 inch)Resolution2772x...</td>\n",
       "      <td>Network Type5GSupported Networks5G</td>\n",
       "      <td>Battery Capacity5000 mAh</td>\n",
       "      <td>16</td>\n",
       "      <td>256</td>\n",
       "    </tr>\n",
       "    <tr>\n",
       "      <th>...</th>\n",
       "      <td>...</td>\n",
       "      <td>...</td>\n",
       "      <td>...</td>\n",
       "      <td>...</td>\n",
       "      <td>...</td>\n",
       "      <td>...</td>\n",
       "      <td>...</td>\n",
       "      <td>...</td>\n",
       "      <td>...</td>\n",
       "      <td>...</td>\n",
       "      <td>...</td>\n",
       "      <td>...</td>\n",
       "      <td>...</td>\n",
       "    </tr>\n",
       "    <tr>\n",
       "      <th>183</th>\n",
       "      <td>183</td>\n",
       "      <td>OnePlus N20 SE (BLUE OASIS, 64 GB)</td>\n",
       "      <td>4.2</td>\n",
       "      <td>15674</td>\n",
       "      <td>https://rukminim2.flixcart.com/image/312/312/x...</td>\n",
       "      <td>Internal Storage64 GBRAM4 GBMemory Card Slot T...</td>\n",
       "      <td>Operating SystemAndroid Oxygen 12.1Processor C...</td>\n",
       "      <td>Primary Camera50MP Rear CameraDual Camera Lens...</td>\n",
       "      <td>Display Size16.66 cm (6.56 inch)Resolution1612...</td>\n",
       "      <td>Network Type4G VOLTESupported Networks4G VoLTE</td>\n",
       "      <td>Battery Capacity5000 mAh</td>\n",
       "      <td>4</td>\n",
       "      <td>64</td>\n",
       "    </tr>\n",
       "    <tr>\n",
       "      <th>184</th>\n",
       "      <td>184</td>\n",
       "      <td>OnePlus 9 Pro 5G (Morning Mist, 128 GB)</td>\n",
       "      <td>3.8</td>\n",
       "      <td>17537</td>\n",
       "      <td>https://rukminim2.flixcart.com/image/312/312/x...</td>\n",
       "      <td>Internal Storage128 GBRAM8 GB</td>\n",
       "      <td>Operating SystemAndroid 11Processor CoreDual C...</td>\n",
       "      <td>Primary Camera48MP Rear CameraDual Camera Lens...</td>\n",
       "      <td>Display Size17.02 cm (6.7 inch)Resolution3216 ...</td>\n",
       "      <td>Network Type5GSupported Networks4G LTE, GSM, C...</td>\n",
       "      <td>Battery Capacity4500 mAh</td>\n",
       "      <td>8</td>\n",
       "      <td>128</td>\n",
       "    </tr>\n",
       "    <tr>\n",
       "      <th>185</th>\n",
       "      <td>185</td>\n",
       "      <td>OnePlus 6 (Mirror Black, 128 GB)</td>\n",
       "      <td>4.2</td>\n",
       "      <td>17990</td>\n",
       "      <td>https://rukminim2.flixcart.com/image/312/312/x...</td>\n",
       "      <td>Internal Storage128 GBRAM8 GBMemory Card Slot ...</td>\n",
       "      <td>Operating SystemAndroid Oreo 8.1Processor Core...</td>\n",
       "      <td>Primary Camera AvailableYesPrimary Camera20MP ...</td>\n",
       "      <td>Display Size15.95 cm (6.28 inch)Resolution1080...</td>\n",
       "      <td>Network Type4GSupported Networks4G VoLTEWi-FiY...</td>\n",
       "      <td>Battery Capacity3300 mAh</td>\n",
       "      <td>8</td>\n",
       "      <td>128</td>\n",
       "    </tr>\n",
       "    <tr>\n",
       "      <th>186</th>\n",
       "      <td>186</td>\n",
       "      <td>OnePlus 6T McLaren Edition (Speed Orange, 256 GB)</td>\n",
       "      <td>4.0</td>\n",
       "      <td>26990</td>\n",
       "      <td>https://rukminim2.flixcart.com/image/312/312/x...</td>\n",
       "      <td>Internal Storage256 GBRAM10 GBMemory Card Slot...</td>\n",
       "      <td>Operating SystemAndroid Oxygen 9Processor Core...</td>\n",
       "      <td>Primary Camera AvailableYesPrimary Camera20MP ...</td>\n",
       "      <td>Display Size16.28 cm (6.41 inch)Resolution2280...</td>\n",
       "      <td>Network Type4G VOLTE, 4GSupported Networks4G V...</td>\n",
       "      <td>Battery Capacity3300 mAh</td>\n",
       "      <td>10</td>\n",
       "      <td>256</td>\n",
       "    </tr>\n",
       "    <tr>\n",
       "      <th>187</th>\n",
       "      <td>187</td>\n",
       "      <td>OnePlus Nord CE 2 5G (Gray Mirror, 128 GB)</td>\n",
       "      <td>4.2</td>\n",
       "      <td>24990</td>\n",
       "      <td>https://rukminim2.flixcart.com/image/312/312/x...</td>\n",
       "      <td>Internal Storage128 GBRAM8 GBMemory Card Slot ...</td>\n",
       "      <td>Operating SystemAndroid 11Processor CoreOcta C...</td>\n",
       "      <td>Primary Camera50MP Rear CameraDual Camera Lens...</td>\n",
       "      <td>Display Size16.33 cm (6.43 inch)Resolution2400...</td>\n",
       "      <td>Network Type5GSupported Networks5G</td>\n",
       "      <td>Battery Capacity4500 mAh</td>\n",
       "      <td>8</td>\n",
       "      <td>128</td>\n",
       "    </tr>\n",
       "  </tbody>\n",
       "</table>\n",
       "<p>188 rows × 13 columns</p>\n",
       "</div>"
      ],
      "text/plain": [
       "     index                                               name  ratings  price   \n",
       "0        0      OnePlus Nord CE 2 Lite 5G (Blue Tide, 128 GB)      4.4  17676  \\\n",
       "1        1     OnePlus Nord CE 2 Lite 5G (Black Dusk, 128 GB)      4.4  17691   \n",
       "2        2           OnePlus 11R 5G (Galactic Silver, 256 GB)      4.5  20846   \n",
       "3        3           OnePlus 11R 5G (Galactic Silver, 128 GB)      4.5  25802   \n",
       "4        4               OnePlus 11R 5G (Sonic Black, 256 GB)      4.5  21252   \n",
       "..     ...                                                ...      ...    ...   \n",
       "183    183                 OnePlus N20 SE (BLUE OASIS, 64 GB)      4.2  15674   \n",
       "184    184            OnePlus 9 Pro 5G (Morning Mist, 128 GB)      3.8  17537   \n",
       "185    185                   OnePlus 6 (Mirror Black, 128 GB)      4.2  17990   \n",
       "186    186  OnePlus 6T McLaren Edition (Speed Orange, 256 GB)      4.0  26990   \n",
       "187    187         OnePlus Nord CE 2 5G (Gray Mirror, 128 GB)      4.2  24990   \n",
       "\n",
       "                                                imgURL   \n",
       "0    https://rukminim2.flixcart.com/image/312/312/x...  \\\n",
       "1    https://rukminim2.flixcart.com/image/312/312/x...   \n",
       "2    https://rukminim2.flixcart.com/image/312/312/x...   \n",
       "3    https://rukminim2.flixcart.com/image/312/312/x...   \n",
       "4    https://rukminim2.flixcart.com/image/312/312/x...   \n",
       "..                                                 ...   \n",
       "183  https://rukminim2.flixcart.com/image/312/312/x...   \n",
       "184  https://rukminim2.flixcart.com/image/312/312/x...   \n",
       "185  https://rukminim2.flixcart.com/image/312/312/x...   \n",
       "186  https://rukminim2.flixcart.com/image/312/312/x...   \n",
       "187  https://rukminim2.flixcart.com/image/312/312/x...   \n",
       "\n",
       "                                           storage_ram   \n",
       "0    Internal Storage128 GBRAM6 GBMemory Card Slot ...  \\\n",
       "1    Internal Storage128 GBRAM6 GBMemory Card Slot ...   \n",
       "2                       Internal Storage256 GBRAM16 GB   \n",
       "3                        Internal Storage128 GBRAM8 GB   \n",
       "4                       Internal Storage256 GBRAM16 GB   \n",
       "..                                                 ...   \n",
       "183  Internal Storage64 GBRAM4 GBMemory Card Slot T...   \n",
       "184                      Internal Storage128 GBRAM8 GB   \n",
       "185  Internal Storage128 GBRAM8 GBMemory Card Slot ...   \n",
       "186  Internal Storage256 GBRAM10 GBMemory Card Slot...   \n",
       "187  Internal Storage128 GBRAM8 GBMemory Card Slot ...   \n",
       "\n",
       "                                          os_processor   \n",
       "0    Operating SystemAndroid 10Processor CoreOcta C...  \\\n",
       "1    Operating SystemAndroid 13Processor CoreOcta C...   \n",
       "2    Operating SystemAndroid OxygenOS based on Andr...   \n",
       "3    Operating SystemAndroid OxygenOS based on Andr...   \n",
       "4    Operating SystemAndroid Oxygen OxygenOS based ...   \n",
       "..                                                 ...   \n",
       "183  Operating SystemAndroid Oxygen 12.1Processor C...   \n",
       "184  Operating SystemAndroid 11Processor CoreDual C...   \n",
       "185  Operating SystemAndroid Oreo 8.1Processor Core...   \n",
       "186  Operating SystemAndroid Oxygen 9Processor Core...   \n",
       "187  Operating SystemAndroid 11Processor CoreOcta C...   \n",
       "\n",
       "                                                camera   \n",
       "0                       Primary Camera64MP Rear Camera  \\\n",
       "1                       Primary Camera64MP Rear Camera   \n",
       "2    Primary Camera50MP Rear CameraDual Camera Lens...   \n",
       "3    Primary Camera50MP Rear CameraDual Camera Lens...   \n",
       "4    Primary Camera50MP Rear CameraDual Camera Lens...   \n",
       "..                                                 ...   \n",
       "183  Primary Camera50MP Rear CameraDual Camera Lens...   \n",
       "184  Primary Camera48MP Rear CameraDual Camera Lens...   \n",
       "185  Primary Camera AvailableYesPrimary Camera20MP ...   \n",
       "186  Primary Camera AvailableYesPrimary Camera20MP ...   \n",
       "187  Primary Camera50MP Rear CameraDual Camera Lens...   \n",
       "\n",
       "                                               display   \n",
       "0    Display Size16.74 cm (6.59 inch)Resolution2412...  \\\n",
       "1    Display Size16.74 cm (6.59 inch)Resolution2412...   \n",
       "2    Display Size17.02 cm (6.7 inch)Resolution2772x...   \n",
       "3    Display Size17.02 cm (6.7 inch)Resolution2772x...   \n",
       "4    Display Size17.02 cm (6.7 inch)Resolution2772x...   \n",
       "..                                                 ...   \n",
       "183  Display Size16.66 cm (6.56 inch)Resolution1612...   \n",
       "184  Display Size17.02 cm (6.7 inch)Resolution3216 ...   \n",
       "185  Display Size15.95 cm (6.28 inch)Resolution1080...   \n",
       "186  Display Size16.28 cm (6.41 inch)Resolution2280...   \n",
       "187  Display Size16.33 cm (6.43 inch)Resolution2400...   \n",
       "\n",
       "                                               network   \n",
       "0                   Network Type5GSupported Networks5G  \\\n",
       "1                   Network Type5GSupported Networks5G   \n",
       "2                   Network Type5GSupported Networks5G   \n",
       "3                   Network Type5GSupported Networks5G   \n",
       "4                   Network Type5GSupported Networks5G   \n",
       "..                                                 ...   \n",
       "183     Network Type4G VOLTESupported Networks4G VoLTE   \n",
       "184  Network Type5GSupported Networks4G LTE, GSM, C...   \n",
       "185  Network Type4GSupported Networks4G VoLTEWi-FiY...   \n",
       "186  Network Type4G VOLTE, 4GSupported Networks4G V...   \n",
       "187                 Network Type5GSupported Networks5G   \n",
       "\n",
       "                      battery  ram  storage  \n",
       "0    Battery Capacity5000 mAh    6      128  \n",
       "1    Battery Capacity5000 mAh    6      128  \n",
       "2    Battery Capacity5000 mAh   16      256  \n",
       "3    Battery Capacity5000 mAh    8      128  \n",
       "4    Battery Capacity5000 mAh   16      256  \n",
       "..                        ...  ...      ...  \n",
       "183  Battery Capacity5000 mAh    4       64  \n",
       "184  Battery Capacity4500 mAh    8      128  \n",
       "185  Battery Capacity3300 mAh    8      128  \n",
       "186  Battery Capacity3300 mAh   10      256  \n",
       "187  Battery Capacity4500 mAh    8      128  \n",
       "\n",
       "[188 rows x 13 columns]"
      ]
     },
     "execution_count": 438,
     "metadata": {},
     "output_type": "execute_result"
    }
   ],
   "source": [
    "df"
   ]
  },
  {
   "cell_type": "code",
   "execution_count": 439,
   "metadata": {},
   "outputs": [],
   "source": [
    "## Removing storage_ram\n",
    "df = df.drop(columns=['storage_ram','index'])"
   ]
  },
  {
   "cell_type": "markdown",
   "metadata": {},
   "source": [
    "## Android Version"
   ]
  },
  {
   "cell_type": "code",
   "execution_count": 440,
   "metadata": {},
   "outputs": [],
   "source": [
    "def extract_processor(text):\n",
    "    pattern = r'.*Processor'\n",
    "    match = re.findall(pattern, text)\n",
    "    if match:\n",
    "        return match[0]\n",
    "    else:\n",
    "        return text\n"
   ]
  },
  {
   "cell_type": "code",
   "execution_count": 441,
   "metadata": {},
   "outputs": [
    {
     "name": "stdout",
     "output_type": "stream",
     "text": [
      "24 : Operating SystemAndroid Q 10Processor TypeQualcomm® Snapdragon™ 765GProcessor CoreOcta CorePrimary Clock Speed2.4 GHzSecondary Clock Speed2.2 GHz\n",
      "125 : Operating SystemAndroid Q 11Processor CoreDual CorePrimary Clock Speed2.4 GHz\n",
      "41 : Operating SystemAndroid 12Processor CoreOcta CorePrimary Clock Speed2.2 GHz\n",
      "17 : Operating SystemAndroid 12Processor CoreOcta CorePrimary Clock Speed2.2 GHz\n",
      "67 : Operating SystemAndroid Q 11Processor CoreDual CorePrimary Clock Speed2.4 GHz\n",
      "67 : Operating SystemAndroid Q 11Processor CoreDual CorePrimary Clock Speed2.4 GHz\n"
     ]
    }
   ],
   "source": [
    "random_values('os_processor')"
   ]
  },
  {
   "cell_type": "code",
   "execution_count": 442,
   "metadata": {},
   "outputs": [],
   "source": [
    "df['os_processor'] = df['os_processor'].apply(extract_processor)"
   ]
  },
  {
   "cell_type": "code",
   "execution_count": 443,
   "metadata": {},
   "outputs": [
    {
     "name": "stdout",
     "output_type": "stream",
     "text": [
      "77 : Operating SystemAndroid Pie 9 Pie OxygenOSProcessor\n",
      "49 : Operating SystemAndroid Oxygen OxygenOS based on Android 13Processor\n",
      "153 : Operating SystemAndroid Oxygen 12Processor\n",
      "112 : Operating SystemAndroid 11Processor\n",
      "9 : Operating SystemAndroid 13Processor\n",
      "141 : Operating SystemAndroid Oxygen OXYGEN OS BASED ON ANDROID 12Primary Clock Speed120 GHz\n"
     ]
    }
   ],
   "source": [
    "random_values('os_processor')"
   ]
  },
  {
   "cell_type": "code",
   "execution_count": 444,
   "metadata": {},
   "outputs": [],
   "source": [
    "def android_version(text_):\n",
    "    split = text_.split()\n",
    "    if 'OxygenProcessor' in split:\n",
    "        return 'OxygenProcessor'\n",
    "    elif 'ANdroid' in split:\n",
    "        return split[3]\n",
    "    elif 'OxygenOSProcessor' in split:\n",
    "        return 'OxygenOSProcessor'\n",
    "    else:\n",
    "        pattern=r'^\\d+[Processor]|\\d+[GProcessor]|\\d++[.Processor]'\n",
    "        found = re.findall(pattern,text_)\n",
    "        if found:\n",
    "            return found[0]\n",
    "        else:\n",
    "            return 'other androidVerion'"
   ]
  },
  {
   "cell_type": "code",
   "execution_count": 445,
   "metadata": {},
   "outputs": [
    {
     "data": {
      "text/plain": [
       "'OxygenProcessor'"
      ]
     },
     "execution_count": 445,
     "metadata": {},
     "output_type": "execute_result"
    }
   ],
   "source": [
    "android_version(df['os_processor'].iloc[137])"
   ]
  },
  {
   "cell_type": "code",
   "execution_count": 446,
   "metadata": {},
   "outputs": [
    {
     "name": "stdout",
     "output_type": "stream",
     "text": [
      "Operating SystemAndroid Oxygen OxygenOS based on Android 13Processor ::index -49\n",
      "13P\n",
      "\n",
      "Operating SystemAndroid 12Processor ::index -55\n",
      "12P\n",
      "\n",
      "Operating SystemAndroid 11Processor ::index -138\n",
      "11P\n",
      "\n",
      "Operating SystemAndroid Q 11Processor ::index -79\n",
      "11P\n",
      "\n",
      "Operating SystemAndroid Pie 10Processor TypeQualcomm Snapdragon 865Processor ::index -108\n",
      "10P\n",
      "\n",
      "Operating SystemAndroid Q 10Processor TypeQualcomm® Snapdragon™ 765GProcessor ::index -100\n",
      "10P\n",
      "\n",
      "Operating SystemAndroid Pie OxygenProcessor ::index -54\n",
      "OxygenProcessor\n",
      "\n",
      "Operating SystemAndroid Pie 10Processor TypeQualcomm® Snapdragon™ 855 PlusProcessor ::index -128\n",
      "10P\n",
      "\n",
      "Operating SystemAndroid Q 11Processor ::index -125\n",
      "11P\n",
      "\n"
     ]
    }
   ],
   "source": [
    "for i in range(0,9):\n",
    "    rand = np.random.randint(df.shape[0])\n",
    "    txt = android_version(df['os_processor'].iloc[rand])\n",
    "    print(df['os_processor'].iloc[rand],f'::index -{rand}')\n",
    "    print(txt)\n",
    "    print()"
   ]
  },
  {
   "cell_type": "code",
   "execution_count": 447,
   "metadata": {},
   "outputs": [],
   "source": [
    "df['android_version'] = df['os_processor'].apply(android_version)"
   ]
  },
  {
   "cell_type": "code",
   "execution_count": 448,
   "metadata": {},
   "outputs": [
    {
     "name": "stdout",
     "output_type": "stream",
     "text": [
      "139 : 12P\n",
      "54 : OxygenProcessor\n",
      "145 : OxygenOSProcessor\n",
      "37 : 11P\n",
      "118 : 10P\n",
      "148 : 12P\n"
     ]
    }
   ],
   "source": [
    "random_values('android_version')"
   ]
  },
  {
   "cell_type": "code",
   "execution_count": 449,
   "metadata": {},
   "outputs": [],
   "source": [
    "df.reset_index(inplace=True)\n",
    "for Index,i in enumerate(df['android_version']):\n",
    "    # print(i)\n",
    "    i = str(i).replace('P','')\n",
    "    i = str(i).replace('.','')\n",
    "    df['android_version'][Index] = i"
   ]
  },
  {
   "cell_type": "code",
   "execution_count": 450,
   "metadata": {},
   "outputs": [
    {
     "name": "stdout",
     "output_type": "stream",
     "text": [
      "77 : OxygenOSrocessor\n",
      "68 : 13\n",
      "84 : 11\n",
      "137 : Oxygenrocessor\n",
      "34 : 12\n",
      "75 : 12\n"
     ]
    }
   ],
   "source": [
    "random_values('android_version')"
   ]
  },
  {
   "cell_type": "markdown",
   "metadata": {},
   "source": [
    "## Processor"
   ]
  },
  {
   "cell_type": "code",
   "execution_count": 451,
   "metadata": {},
   "outputs": [
    {
     "name": "stdout",
     "output_type": "stream",
     "text": [
      "103 : Operating SystemAndroid 12Primary Clock Speed2.85 GHz\n",
      "58 : Operating SystemAndroid Pie 10Processor TypeQualcomm® Snapdragon™ 855 PlusProcessor\n",
      "185 : Operating SystemAndroid Oreo 8.1Processor\n",
      "156 : Operating SystemAndroid Oreo 8.1Processor\n",
      "49 : Operating SystemAndroid Oxygen OxygenOS based on Android 13Processor\n",
      "70 : Operating SystemAndroid Oxygen OxygenOS based on Android 13Processor\n"
     ]
    }
   ],
   "source": [
    "random_values('os_processor')"
   ]
  },
  {
   "cell_type": "code",
   "execution_count": 452,
   "metadata": {},
   "outputs": [],
   "source": [
    "def processor(text):\n",
    "    pattern=r'(?<=Type).*'\n",
    "    search = re.search(pattern,text)\n",
    "    if search != None:\n",
    "        return ' '.join(re.findall(pattern,text))\n",
    "    else:\n",
    "        return 'not montioned'"
   ]
  },
  {
   "cell_type": "code",
   "execution_count": 453,
   "metadata": {},
   "outputs": [
    {
     "name": "stdout",
     "output_type": "stream",
     "text": [
      "Operating SystemAndroid Pie OxygenProcessor ::index -179\n",
      "not montioned\n",
      "\n",
      "Operating SystemAndroid OxygenOS based on Android 13Processor ::index -28\n",
      "not montioned\n",
      "\n",
      "Operating SystemAndroid Pie OxygenProcessor ::index -133\n",
      "not montioned\n",
      "\n",
      "Operating SystemAndroid Pie 9 Pie OxygenOSProcessor ::index -77\n",
      "not montioned\n",
      "\n",
      "Operating SystemAndroid KitKat 4.4Processor TypeQualcomm Snapdragon 801Processor ::index -154\n",
      "Qualcomm Snapdragon 801Processor\n",
      "\n",
      "Operating SystemAndroid Pie OxygenProcessor ::index -40\n",
      "not montioned\n",
      "\n",
      "Operating SystemAndroid Pie 10Processor TypeQualcomm Snapdragon 865Processor ::index -35\n",
      "Qualcomm Snapdragon 865Processor\n",
      "\n",
      "Operating SystemAndroid Q 11Processor ::index -89\n",
      "not montioned\n",
      "\n",
      "Operating SystemAndroid Android 13 OxygenOSProcessor ::index -43\n",
      "not montioned\n",
      "\n"
     ]
    }
   ],
   "source": [
    "for i in range(0,9):\n",
    "    rand = np.random.randint(df.shape[0])\n",
    "    txt = processor(df['os_processor'].iloc[rand])\n",
    "    print(df['os_processor'].iloc[rand],f'::index -{rand}')\n",
    "    print(txt)\n",
    "    print()"
   ]
  },
  {
   "cell_type": "code",
   "execution_count": 454,
   "metadata": {},
   "outputs": [],
   "source": [
    "df['processor'] = df['os_processor'].apply(processor)\n",
    "df = df.drop('os_processor',axis=1)\n",
    "df = df.drop('index',axis=1)\n"
   ]
  },
  {
   "cell_type": "code",
   "execution_count": 455,
   "metadata": {},
   "outputs": [],
   "source": [
    "def processor_extract(text):\n",
    "    splitted_sentence = text.split()\n",
    "    if 'Mediatek' and 'Helio' in splitted_sentence:\n",
    "        pattern = r'\\d+[Processor]|\\d+'\n",
    "        string = ' '.join(splitted_sentence)\n",
    "        match = re.search(pattern,string)\n",
    "        if match == None:\n",
    "            return 'Heilo'+str(splitted_sentence[2])\n",
    "        else:\n",
    "            find = re.findall(pattern,string)\n",
    "            return 'Heilo'+''.join(find)\n",
    "\n",
    "\n",
    "    elif 'Mediatek' and 'Dimensity' in splitted_sentence:\n",
    "        pattern = r'(\\d+)+[Processor]'\n",
    "        string = ' '.join(splitted_sentence)\n",
    "        match = re.search(pattern,string)\n",
    "        if match == None:\n",
    "            if 'Dimensity' == str(splitted_sentence[1]):\n",
    "                return 'Dimensity'+str(splitted_sentence[2])\n",
    "            else:\n",
    "                return 'Dimensity'+str(splitted_sentence[1])\n",
    "        \n",
    "        else:\n",
    "            find = re.findall(pattern,string)\n",
    "            return 'Dimensity'+ ''.join(find)\n",
    "\n",
    "    elif 'Snapdragon' and 'Gen' and '4' in splitted_sentence:\n",
    "        return 'Gen4'   \n",
    "\n",
    "    elif 'Snapdragon' and 'Gen' and '8' in splitted_sentence:         \n",
    "        return 'Gen8'\n",
    "    \n",
    "    elif 'Unisoc' in splitted_sentence:\n",
    "        \n",
    "        if 'Unisoc' and 'Tiger' in splitted_sentence:\n",
    "            pattern = r'[T]\\d[Processor]'\n",
    "            string = ' '.join(splitted_sentence)\n",
    "            match = re.findall(pattern,string)\n",
    "            return 'UnisocTiger' + ''.join(splitted_sentence[2])\n",
    "        \n",
    "        elif 'Unisoc' == splitted_sentence[0]:\n",
    "            pattern = r'[T]\\d.'\n",
    "            string = ' '.join(splitted_sentence)\n",
    "            match = re.findall(pattern,string)\n",
    "            return 'Unisoc' + ''.join(splitted_sentence[1])\n",
    "\n",
    "        \n",
    "        pattern = r'T(\\d+)Processor|\\d+'\n",
    "        string = ' '.join(splitted_sentence)\n",
    "        match = re.findall(pattern,string)\n",
    "        return 'Unisoc'+' '.join(match)\n",
    "    \n",
    "\n",
    "    elif 'Snapdragon' in splitted_sentence:\n",
    "        pattern = r'\\d+[Processor]'\n",
    "        if 'Gen' and '4' and '8' not in splitted_sentence:\n",
    "            string = ' '.join(splitted_sentence)\n",
    "            match = re.search(pattern,string)\n",
    "            if match == None:\n",
    "                if 'Snapdragon' == str(splitted_sentence[1]):\n",
    "                    return 'Snapdragon'+str(splitted_sentence[2])\n",
    "                else:\n",
    "                    return 'Snapdragon'+str(splitted_sentence[1])\n",
    "            else:\n",
    "                find = re.findall(pattern,string)\n",
    "                return 'Snapdragon'+''.join(find)\n",
    "    \n",
    "    elif 'MediaTek' == splitted_sentence[0]:\n",
    "        pattern = r'[P]\\d.'\n",
    "        string = ' '.join(splitted_sentence)\n",
    "        match = re.findall(pattern,string)\n",
    "        return 'MediaTek' + ' '.join(match)\n",
    "\n",
    "    else:\n",
    "        return 'not mentioned'      \n"
   ]
  },
  {
   "cell_type": "code",
   "execution_count": 456,
   "metadata": {},
   "outputs": [
    {
     "name": "stdout",
     "output_type": "stream",
     "text": [
      "Qualcomm® Snapdragon™ 855 PlusProcessor ::index -128\n",
      "not mentioned\n",
      "\n",
      "Qualcomm Snapdragon 865Processor ::index -32\n",
      "Snapdragon865P\n",
      "\n",
      "not montioned ::index -43\n",
      "not mentioned\n",
      "\n",
      "not montioned ::index -55\n",
      "not mentioned\n",
      "\n",
      "not montioned ::index -103\n",
      "not mentioned\n",
      "\n",
      "not montioned ::index -50\n",
      "not mentioned\n",
      "\n",
      "not montioned ::index -18\n",
      "not mentioned\n",
      "\n",
      "not montioned ::index -160\n",
      "not mentioned\n",
      "\n",
      "not montioned ::index -11\n",
      "not mentioned\n",
      "\n"
     ]
    }
   ],
   "source": [
    "for i in range(0,9):\n",
    "    rand = np.random.randint(df.shape[0])\n",
    "    txt = processor_extract(df['processor'].iloc[rand])\n",
    "    print(df['processor'].iloc[rand],f'::index -{rand}')\n",
    "    print(txt)\n",
    "    print()"
   ]
  },
  {
   "cell_type": "code",
   "execution_count": 457,
   "metadata": {},
   "outputs": [],
   "source": [
    "df['processor']=df['processor'].apply(processor_extract)"
   ]
  },
  {
   "cell_type": "markdown",
   "metadata": {},
   "source": [
    "## camera"
   ]
  },
  {
   "cell_type": "code",
   "execution_count": 458,
   "metadata": {},
   "outputs": [],
   "source": [
    "def camera_extract(row):\n",
    "    row_splitted = row.split()\n",
    "    pattern = r'\\d+MP'\n",
    "    words = ' '.join(row_splitted)\n",
    "    find_cam = re.findall(pattern,words)\n",
    "    return ' '.join(find_cam)\n"
   ]
  },
  {
   "cell_type": "code",
   "execution_count": 459,
   "metadata": {},
   "outputs": [
    {
     "name": "stdout",
     "output_type": "stream",
     "text": [
      "Primary Camera50MP Rear CameraDual Camera LensPrimary Camera ::index -152\n",
      "50MP\n",
      "\n",
      "Primary Camera AvailableYesPrimary Camera48MP + 8MPPrimary Camera FeaturesCINE aspect ratio video recording, UltraShot HDR, Nightscape, Super macro, Portrait, Pro mode, Panorama, AI scene detection, RAW image, Filters, Quick shareOptical ZoomNoSecondary Camera AvailableYesSecondary Camera32MP + 8MP Dual Front CameraSecondary Camera FeaturesFace unlock, HDR, Screen flash, Face retouching, Filters, Ultra wide selfieFlashBackFrame Rate90 fpsDual Camera LensPrimary & Secondary Camera ::index -101\n",
      "48MP 8MP 32MP 8MP\n",
      "\n",
      "Primary Camera AvailableYesPrimary Camera48 MP + 8 MP + 16 MPPrimary Camera FeaturesUltraShot, Nightscape, Studio Lighting, Portrait, Pro Mode, Panorama, HDR, AI Scene Detection, RAW ImageSecondary Camera AvailableYesSecondary Camera16MP Front CameraSecondary Camera FeaturesFace Unlock, HDR, Screen Flash, Face Retouching, Pop up cameraFlashFront & Back FlashDual Camera LensPrimary Camera ::index -77\n",
      "16MP\n",
      "\n",
      "Primary Camera50MP Rear Camera ::index -110\n",
      "50MP\n",
      "\n",
      "Primary Camera64MP Rear CameraDual Camera LensPrimary Camera ::index -111\n",
      "64MP\n",
      "\n",
      "Primary Camera AvailableYesPrimary Camera16MP + 20MP + 16MPSecondary Camera AvailableYesSecondary Camera16MP Front CameraFlashYesDual Camera LensPrimary Camera ::index -157\n",
      "16MP 20MP 16MP 16MP\n",
      "\n",
      "Primary Camera AvailableYesPrimary Camera48 MP + 8 MP + 16 MPPrimary Camera FeaturesUltraShot, Nightscape, Studio Lighting, Portrait, Pro Mode, Panorama, HDR, AI Scene Detection, RAW ImageSecondary Camera AvailableYesSecondary Camera16MP Front CameraSecondary Camera FeaturesFace Unlock, HDR, Screen Flash, Face Retouching, Pop up cameraFlashFront & Back FlashDual Camera LensPrimary Camera ::index -76\n",
      "16MP\n",
      "\n",
      "Primary Camera AvailableYesPrimary Camera64MP Rear CameraDual Camera LensPrimary Camera ::index -121\n",
      "64MP\n",
      "\n",
      "Primary Camera64MP Rear Camera ::index -130\n",
      "64MP\n",
      "\n"
     ]
    }
   ],
   "source": [
    "for i in range(0,9):\n",
    "    rand = np.random.randint(df.shape[0])\n",
    "    txt = camera_extract(df['camera'].iloc[rand])\n",
    "    print(df['camera'].iloc[rand],f'::index -{rand}')\n",
    "    print(txt)\n",
    "    print()"
   ]
  },
  {
   "cell_type": "code",
   "execution_count": 460,
   "metadata": {},
   "outputs": [],
   "source": [
    "df['camera'] = df['camera'].apply(camera_extract)"
   ]
  },
  {
   "cell_type": "code",
   "execution_count": 461,
   "metadata": {},
   "outputs": [
    {
     "name": "stdout",
     "output_type": "stream",
     "text": [
      "113 : 64MP\n",
      "92 : 50MP\n",
      "95 : 108MP\n",
      "0 : 64MP\n",
      "181 : 50MP\n",
      "96 : 108MP\n"
     ]
    }
   ],
   "source": [
    "random_values('camera')"
   ]
  },
  {
   "cell_type": "code",
   "execution_count": 462,
   "metadata": {},
   "outputs": [],
   "source": [
    "def camera(txt):\n",
    "    lst = []\n",
    "    splitted = txt.split()\n",
    "    for i in splitted:\n",
    "        make_int = i.replace('MP','')\n",
    "        lst.append(int(make_int))\n",
    "    return max(lst)\n"
   ]
  },
  {
   "cell_type": "code",
   "execution_count": 463,
   "metadata": {},
   "outputs": [
    {
     "name": "stdout",
     "output_type": "stream",
     "text": [
      "50MP ::index -131\n",
      "50\n",
      "\n",
      "64MP ::index -141\n",
      "64\n",
      "\n",
      "64MP ::index -125\n",
      "64\n",
      "\n",
      "48MP ::index -172\n",
      "48\n",
      "\n",
      "48MP ::index -35\n",
      "48\n",
      "\n",
      "50MP ::index -32\n",
      "50\n",
      "\n",
      "48MP ::index -172\n",
      "48\n",
      "\n",
      "48MP ::index -75\n",
      "48\n",
      "\n",
      "64MP ::index -0\n",
      "64\n",
      "\n"
     ]
    }
   ],
   "source": [
    "for i in range(0,9):\n",
    "    rand = np.random.randint(df.shape[0])\n",
    "    txt = camera(df['camera'].iloc[rand])\n",
    "    print(df['camera'].iloc[rand],f'::index -{rand}')\n",
    "    print(txt)\n",
    "    print()"
   ]
  },
  {
   "cell_type": "code",
   "execution_count": 464,
   "metadata": {},
   "outputs": [],
   "source": [
    "df['camera'] = df['camera'].apply(func=camera)"
   ]
  },
  {
   "cell_type": "code",
   "execution_count": 465,
   "metadata": {},
   "outputs": [
    {
     "name": "stdout",
     "output_type": "stream",
     "text": [
      "48 : 48\n",
      "87 : 48\n",
      "6 : 50\n",
      "115 : 64\n",
      "149 : 48\n",
      "133 : 16\n"
     ]
    }
   ],
   "source": [
    "random_values('camera')"
   ]
  },
  {
   "cell_type": "code",
   "execution_count": 466,
   "metadata": {},
   "outputs": [],
   "source": [
    "df['camera'] = df['camera'].astype('Int16')"
   ]
  },
  {
   "cell_type": "markdown",
   "metadata": {},
   "source": [
    "## display"
   ]
  },
  {
   "cell_type": "code",
   "execution_count": 467,
   "metadata": {},
   "outputs": [],
   "source": [
    "def display_extract(row):\n",
    "    split_row = row.split()\n",
    "    if 'LCD' in split_row:\n",
    "        if 'IPS' in split_row and 'LCD' in split_row:\n",
    "            return 'IPS LCD'\n",
    "        return 'LCD'\n",
    "    \n",
    "    if 'OLED' in split_row:\n",
    "        return 'OLED'\n",
    "    \n",
    "    if 'TFT' in split_row:\n",
    "        return 'TFT'\n",
    "    \n",
    "    if 'LED' in split_row:\n",
    "        return 'LED'\n",
    "\n",
    "    # if 'Adreno' in split_row:\n",
    "    #     return 'Adreno'\n",
    "    if 'AMOLED' in split_row:\n",
    "        if 'HD+' in split_row and 'AMOLED' in split_row:\n",
    "            return 'HD+ AMOLED'\n",
    "        return 'AMOLED'\n",
    "    \n",
    "    return 'other'\n"
   ]
  },
  {
   "cell_type": "code",
   "execution_count": 477,
   "metadata": {},
   "outputs": [
    {
     "name": "stdout",
     "output_type": "stream",
     "text": [
      "Display Size16.33 cm (6.43 inch)Resolution2400*1080 ::index -132\n",
      "other\n",
      "\n",
      "Display Size16.33 cm (6.43 inch)Resolution2400 x 1080$$pixels ::index -113\n",
      "other\n",
      "\n",
      "Display Size17.02 cm (6.7 inch)Resolution2400 x 1080 pixel ::index -26\n",
      "other\n",
      "\n",
      "Display Size16.28 cm (6.41 inch)Resolution2340 x 1080 Pixels ::index -137\n",
      "other\n",
      "\n",
      "Display Size17.02 cm (6.7 inch)Resolution3216 x 1440 pixel ::index -75\n",
      "other\n",
      "\n",
      "Display Size16.64 cm (6.55 inch)Resolution2400 x 1080$$pixel ::index -36\n",
      "other\n",
      "\n",
      "Display Size16.64 cm (6.55 inch)Resolution2400 x 1080$$pixelGPUAdreno 650Display TypeFluid AMOLEDHD Game SupportYes ::index -117\n",
      "other\n",
      "\n",
      "Display Size16.81 cm (6.62 inch)Resolution2400 x 1080 pixel ::index -171\n",
      "other\n",
      "\n",
      "Display Size17.02 cm (6.7 inch)Resolution3216 X 1440 pixels ::index -56\n",
      "other\n",
      "\n"
     ]
    }
   ],
   "source": [
    "for i in range(0,9):\n",
    "    rand = np.random.randint(df.shape[0])\n",
    "    txt = display_extract(df['display'].iloc[rand])\n",
    "    print(df['display'].iloc[rand],f'::index -{rand}')\n",
    "    print(txt)\n",
    "    print()"
   ]
  },
  {
   "cell_type": "code",
   "execution_count": 478,
   "metadata": {},
   "outputs": [],
   "source": [
    "df['display'] = df['display'].apply(display_extract)"
   ]
  },
  {
   "cell_type": "markdown",
   "metadata": {},
   "source": [
    "## network"
   ]
  },
  {
   "cell_type": "code",
   "execution_count": 480,
   "metadata": {},
   "outputs": [],
   "source": [
    "df = df.drop(columns=['network'])"
   ]
  },
  {
   "cell_type": "markdown",
   "metadata": {},
   "source": [
    "## battery"
   ]
  },
  {
   "cell_type": "code",
   "execution_count": 491,
   "metadata": {},
   "outputs": [
    {
     "name": "stdout",
     "output_type": "stream",
     "text": [
      "6 : Battery Capacity5000 mAh\n",
      "92 : Battery Capacity4500 mAh\n",
      "81 : Battery Capacity4500 mAh\n",
      "43 : Battery Capacity5000 mAh\n",
      "33 : Battery Capacity5000 mAh\n",
      "17 : Battery Capacity5000 mAh\n"
     ]
    }
   ],
   "source": [
    "random_values('battery')"
   ]
  },
  {
   "cell_type": "code",
   "execution_count": 492,
   "metadata": {},
   "outputs": [],
   "source": [
    "def extract_battery(row):\n",
    "    return row.split()[1]\n",
    "\n",
    "df['battery'] = df['battery'].apply(extract_battery)"
   ]
  },
  {
   "cell_type": "code",
   "execution_count": 493,
   "metadata": {},
   "outputs": [
    {
     "name": "stdout",
     "output_type": "stream",
     "text": [
      "looped till 188 index\n"
     ]
    }
   ],
   "source": [
    "df.reset_index(inplace=True)\n",
    "count = 0\n",
    "for i in range(0,len(df['battery'])):\n",
    "    # print(i)\n",
    "    df['battery'][i]= df['battery'].iloc[i].replace('Capacity','')\n",
    "    # print(df['battery'][i])\n",
    "    count+=1\n",
    "print(f'looped till {count} index')"
   ]
  },
  {
   "cell_type": "code",
   "execution_count": 509,
   "metadata": {},
   "outputs": [
    {
     "name": "stdout",
     "output_type": "stream",
     "text": [
      "185 : 3300\n",
      "7 : 4500\n",
      "90 : 4500\n",
      "95 : 5000\n",
      "80 : 4500\n",
      "130 : 5000\n"
     ]
    }
   ],
   "source": [
    "random_values('battery')"
   ]
  },
  {
   "cell_type": "code",
   "execution_count": 510,
   "metadata": {},
   "outputs": [],
   "source": [
    "df['battery'] = df['battery'].astype('Int16')"
   ]
  },
  {
   "cell_type": "code",
   "execution_count": 511,
   "metadata": {},
   "outputs": [
    {
     "data": {
      "text/html": [
       "<div>\n",
       "<style scoped>\n",
       "    .dataframe tbody tr th:only-of-type {\n",
       "        vertical-align: middle;\n",
       "    }\n",
       "\n",
       "    .dataframe tbody tr th {\n",
       "        vertical-align: top;\n",
       "    }\n",
       "\n",
       "    .dataframe thead th {\n",
       "        text-align: right;\n",
       "    }\n",
       "</style>\n",
       "<table border=\"1\" class=\"dataframe\">\n",
       "  <thead>\n",
       "    <tr style=\"text-align: right;\">\n",
       "      <th></th>\n",
       "      <th>index</th>\n",
       "      <th>name</th>\n",
       "      <th>ratings</th>\n",
       "      <th>price</th>\n",
       "      <th>imgURL</th>\n",
       "      <th>camera</th>\n",
       "      <th>display</th>\n",
       "      <th>battery</th>\n",
       "      <th>ram</th>\n",
       "      <th>storage</th>\n",
       "      <th>android_version</th>\n",
       "      <th>processor</th>\n",
       "    </tr>\n",
       "  </thead>\n",
       "  <tbody>\n",
       "    <tr>\n",
       "      <th>0</th>\n",
       "      <td>0</td>\n",
       "      <td>OnePlus Nord CE 2 Lite 5G (Blue Tide, 128 GB)</td>\n",
       "      <td>4.4</td>\n",
       "      <td>17676</td>\n",
       "      <td>https://rukminim2.flixcart.com/image/312/312/x...</td>\n",
       "      <td>64</td>\n",
       "      <td>other</td>\n",
       "      <td>5000</td>\n",
       "      <td>6</td>\n",
       "      <td>128</td>\n",
       "      <td>10</td>\n",
       "      <td>not mentioned</td>\n",
       "    </tr>\n",
       "    <tr>\n",
       "      <th>1</th>\n",
       "      <td>1</td>\n",
       "      <td>OnePlus Nord CE 2 Lite 5G (Black Dusk, 128 GB)</td>\n",
       "      <td>4.4</td>\n",
       "      <td>17691</td>\n",
       "      <td>https://rukminim2.flixcart.com/image/312/312/x...</td>\n",
       "      <td>64</td>\n",
       "      <td>other</td>\n",
       "      <td>5000</td>\n",
       "      <td>6</td>\n",
       "      <td>128</td>\n",
       "      <td>13</td>\n",
       "      <td>not mentioned</td>\n",
       "    </tr>\n",
       "    <tr>\n",
       "      <th>2</th>\n",
       "      <td>2</td>\n",
       "      <td>OnePlus 11R 5G (Galactic Silver, 256 GB)</td>\n",
       "      <td>4.5</td>\n",
       "      <td>20846</td>\n",
       "      <td>https://rukminim2.flixcart.com/image/312/312/x...</td>\n",
       "      <td>50</td>\n",
       "      <td>other</td>\n",
       "      <td>5000</td>\n",
       "      <td>16</td>\n",
       "      <td>256</td>\n",
       "      <td>13</td>\n",
       "      <td>not mentioned</td>\n",
       "    </tr>\n",
       "    <tr>\n",
       "      <th>3</th>\n",
       "      <td>3</td>\n",
       "      <td>OnePlus 11R 5G (Galactic Silver, 128 GB)</td>\n",
       "      <td>4.5</td>\n",
       "      <td>25802</td>\n",
       "      <td>https://rukminim2.flixcart.com/image/312/312/x...</td>\n",
       "      <td>50</td>\n",
       "      <td>other</td>\n",
       "      <td>5000</td>\n",
       "      <td>8</td>\n",
       "      <td>128</td>\n",
       "      <td>13</td>\n",
       "      <td>not mentioned</td>\n",
       "    </tr>\n",
       "    <tr>\n",
       "      <th>4</th>\n",
       "      <td>4</td>\n",
       "      <td>OnePlus 11R 5G (Sonic Black, 256 GB)</td>\n",
       "      <td>4.5</td>\n",
       "      <td>21252</td>\n",
       "      <td>https://rukminim2.flixcart.com/image/312/312/x...</td>\n",
       "      <td>50</td>\n",
       "      <td>other</td>\n",
       "      <td>5000</td>\n",
       "      <td>16</td>\n",
       "      <td>256</td>\n",
       "      <td>13</td>\n",
       "      <td>not mentioned</td>\n",
       "    </tr>\n",
       "    <tr>\n",
       "      <th>...</th>\n",
       "      <td>...</td>\n",
       "      <td>...</td>\n",
       "      <td>...</td>\n",
       "      <td>...</td>\n",
       "      <td>...</td>\n",
       "      <td>...</td>\n",
       "      <td>...</td>\n",
       "      <td>...</td>\n",
       "      <td>...</td>\n",
       "      <td>...</td>\n",
       "      <td>...</td>\n",
       "      <td>...</td>\n",
       "    </tr>\n",
       "    <tr>\n",
       "      <th>183</th>\n",
       "      <td>183</td>\n",
       "      <td>OnePlus N20 SE (BLUE OASIS, 64 GB)</td>\n",
       "      <td>4.2</td>\n",
       "      <td>15674</td>\n",
       "      <td>https://rukminim2.flixcart.com/image/312/312/x...</td>\n",
       "      <td>50</td>\n",
       "      <td>other</td>\n",
       "      <td>5000</td>\n",
       "      <td>4</td>\n",
       "      <td>64</td>\n",
       "      <td>12</td>\n",
       "      <td>not mentioned</td>\n",
       "    </tr>\n",
       "    <tr>\n",
       "      <th>184</th>\n",
       "      <td>184</td>\n",
       "      <td>OnePlus 9 Pro 5G (Morning Mist, 128 GB)</td>\n",
       "      <td>3.8</td>\n",
       "      <td>17537</td>\n",
       "      <td>https://rukminim2.flixcart.com/image/312/312/x...</td>\n",
       "      <td>48</td>\n",
       "      <td>other</td>\n",
       "      <td>4500</td>\n",
       "      <td>8</td>\n",
       "      <td>128</td>\n",
       "      <td>11</td>\n",
       "      <td>not mentioned</td>\n",
       "    </tr>\n",
       "    <tr>\n",
       "      <th>185</th>\n",
       "      <td>185</td>\n",
       "      <td>OnePlus 6 (Mirror Black, 128 GB)</td>\n",
       "      <td>4.2</td>\n",
       "      <td>17990</td>\n",
       "      <td>https://rukminim2.flixcart.com/image/312/312/x...</td>\n",
       "      <td>20</td>\n",
       "      <td>other</td>\n",
       "      <td>3300</td>\n",
       "      <td>8</td>\n",
       "      <td>128</td>\n",
       "      <td>8</td>\n",
       "      <td>not mentioned</td>\n",
       "    </tr>\n",
       "    <tr>\n",
       "      <th>186</th>\n",
       "      <td>186</td>\n",
       "      <td>OnePlus 6T McLaren Edition (Speed Orange, 256 GB)</td>\n",
       "      <td>4.0</td>\n",
       "      <td>26990</td>\n",
       "      <td>https://rukminim2.flixcart.com/image/312/312/x...</td>\n",
       "      <td>20</td>\n",
       "      <td>other</td>\n",
       "      <td>3300</td>\n",
       "      <td>10</td>\n",
       "      <td>256</td>\n",
       "      <td>9</td>\n",
       "      <td>not mentioned</td>\n",
       "    </tr>\n",
       "    <tr>\n",
       "      <th>187</th>\n",
       "      <td>187</td>\n",
       "      <td>OnePlus Nord CE 2 5G (Gray Mirror, 128 GB)</td>\n",
       "      <td>4.2</td>\n",
       "      <td>24990</td>\n",
       "      <td>https://rukminim2.flixcart.com/image/312/312/x...</td>\n",
       "      <td>50</td>\n",
       "      <td>other</td>\n",
       "      <td>4500</td>\n",
       "      <td>8</td>\n",
       "      <td>128</td>\n",
       "      <td>11</td>\n",
       "      <td>not mentioned</td>\n",
       "    </tr>\n",
       "  </tbody>\n",
       "</table>\n",
       "<p>188 rows × 12 columns</p>\n",
       "</div>"
      ],
      "text/plain": [
       "     index                                               name  ratings  price   \n",
       "0        0      OnePlus Nord CE 2 Lite 5G (Blue Tide, 128 GB)      4.4  17676  \\\n",
       "1        1     OnePlus Nord CE 2 Lite 5G (Black Dusk, 128 GB)      4.4  17691   \n",
       "2        2           OnePlus 11R 5G (Galactic Silver, 256 GB)      4.5  20846   \n",
       "3        3           OnePlus 11R 5G (Galactic Silver, 128 GB)      4.5  25802   \n",
       "4        4               OnePlus 11R 5G (Sonic Black, 256 GB)      4.5  21252   \n",
       "..     ...                                                ...      ...    ...   \n",
       "183    183                 OnePlus N20 SE (BLUE OASIS, 64 GB)      4.2  15674   \n",
       "184    184            OnePlus 9 Pro 5G (Morning Mist, 128 GB)      3.8  17537   \n",
       "185    185                   OnePlus 6 (Mirror Black, 128 GB)      4.2  17990   \n",
       "186    186  OnePlus 6T McLaren Edition (Speed Orange, 256 GB)      4.0  26990   \n",
       "187    187         OnePlus Nord CE 2 5G (Gray Mirror, 128 GB)      4.2  24990   \n",
       "\n",
       "                                                imgURL  camera display   \n",
       "0    https://rukminim2.flixcart.com/image/312/312/x...      64   other  \\\n",
       "1    https://rukminim2.flixcart.com/image/312/312/x...      64   other   \n",
       "2    https://rukminim2.flixcart.com/image/312/312/x...      50   other   \n",
       "3    https://rukminim2.flixcart.com/image/312/312/x...      50   other   \n",
       "4    https://rukminim2.flixcart.com/image/312/312/x...      50   other   \n",
       "..                                                 ...     ...     ...   \n",
       "183  https://rukminim2.flixcart.com/image/312/312/x...      50   other   \n",
       "184  https://rukminim2.flixcart.com/image/312/312/x...      48   other   \n",
       "185  https://rukminim2.flixcart.com/image/312/312/x...      20   other   \n",
       "186  https://rukminim2.flixcart.com/image/312/312/x...      20   other   \n",
       "187  https://rukminim2.flixcart.com/image/312/312/x...      50   other   \n",
       "\n",
       "     battery  ram  storage android_version      processor  \n",
       "0       5000    6      128              10  not mentioned  \n",
       "1       5000    6      128              13  not mentioned  \n",
       "2       5000   16      256              13  not mentioned  \n",
       "3       5000    8      128              13  not mentioned  \n",
       "4       5000   16      256              13  not mentioned  \n",
       "..       ...  ...      ...             ...            ...  \n",
       "183     5000    4       64              12  not mentioned  \n",
       "184     4500    8      128              11  not mentioned  \n",
       "185     3300    8      128               8  not mentioned  \n",
       "186     3300   10      256               9  not mentioned  \n",
       "187     4500    8      128              11  not mentioned  \n",
       "\n",
       "[188 rows x 12 columns]"
      ]
     },
     "execution_count": 511,
     "metadata": {},
     "output_type": "execute_result"
    }
   ],
   "source": [
    "df"
   ]
  }
 ],
 "metadata": {
  "kernelspec": {
   "display_name": "Python 3",
   "language": "python",
   "name": "python3"
  },
  "language_info": {
   "codemirror_mode": {
    "name": "ipython",
    "version": 3
   },
   "file_extension": ".py",
   "mimetype": "text/x-python",
   "name": "python",
   "nbconvert_exporter": "python",
   "pygments_lexer": "ipython3",
   "version": "3.11.3"
  },
  "orig_nbformat": 4
 },
 "nbformat": 4,
 "nbformat_minor": 2
}
