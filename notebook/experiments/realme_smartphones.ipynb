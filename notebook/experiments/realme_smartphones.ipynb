{
 "cells": [
  {
   "cell_type": "code",
   "execution_count": 1,
   "metadata": {},
   "outputs": [],
   "source": [
    "import pandas as pd\n",
    "import os\n",
    "import numpy as np\n",
    "from ensure import ensure_annotations\n",
    "import re\n"
   ]
  },
  {
   "cell_type": "code",
   "execution_count": 6,
   "metadata": {},
   "outputs": [
    {
     "name": "stdout",
     "output_type": "stream",
     "text": [
      "d:\\vscode_machineLearning\\BEST_PROJECTS\\mobileRecommenderSystem\n",
      "None\n",
      "d:\\vscode_machineLearning\\BEST_PROJECTS\\mobileRecommenderSystem\n"
     ]
    }
   ],
   "source": [
    "print(os.getcwd())\n",
    "print(os.chdir(r'd:\\vscode_machineLearning\\BEST_PROJECTS\\mobileRecommenderSystem'))\n",
    "print(os.getcwd())"
   ]
  },
  {
   "cell_type": "code",
   "execution_count": 11,
   "metadata": {},
   "outputs": [],
   "source": [
    "df = pd.read_csv(r'data\\raw_data\\realme_mobile_data.csv',index_col=None)"
   ]
  },
  {
   "cell_type": "code",
   "execution_count": 13,
   "metadata": {},
   "outputs": [
    {
     "data": {
      "text/html": [
       "<div>\n",
       "<style scoped>\n",
       "    .dataframe tbody tr th:only-of-type {\n",
       "        vertical-align: middle;\n",
       "    }\n",
       "\n",
       "    .dataframe tbody tr th {\n",
       "        vertical-align: top;\n",
       "    }\n",
       "\n",
       "    .dataframe thead th {\n",
       "        text-align: right;\n",
       "    }\n",
       "</style>\n",
       "<table border=\"1\" class=\"dataframe\">\n",
       "  <thead>\n",
       "    <tr style=\"text-align: right;\">\n",
       "      <th></th>\n",
       "      <th>name</th>\n",
       "      <th>ratings</th>\n",
       "      <th>price</th>\n",
       "      <th>imgURL</th>\n",
       "      <th>storage_ram</th>\n",
       "      <th>camera</th>\n",
       "      <th>oS_Processor</th>\n",
       "      <th>display</th>\n",
       "      <th>network</th>\n",
       "      <th>battery</th>\n",
       "    </tr>\n",
       "  </thead>\n",
       "  <tbody>\n",
       "    <tr>\n",
       "      <th>0</th>\n",
       "      <td>realme C33 2023 (Sandy Gold, 128 GB)</td>\n",
       "      <td>4.4</td>\n",
       "      <td>₹10,499</td>\n",
       "      <td>https://rukminim2.flixcart.com/image/312/312/x...</td>\n",
       "      <td>Internal Storage128 GBRAM4 GBExpandable Storag...</td>\n",
       "      <td>Operating SystemAndroid 12Processor TypeUnisoc...</td>\n",
       "      <td>Primary Camera AvailableYesPrimary Camera50MP ...</td>\n",
       "      <td>Display Size16.51 cm (6.5 inch)Resolution1600 ...</td>\n",
       "      <td>Network Type4G VOLTE, 4G, 3G, 2GSupported Netw...</td>\n",
       "      <td>Battery Capacity5000 mAh</td>\n",
       "    </tr>\n",
       "    <tr>\n",
       "      <th>1</th>\n",
       "      <td>realme C33 2023 (Aqua Blue, 128 GB)</td>\n",
       "      <td>4.4</td>\n",
       "      <td>₹10,499</td>\n",
       "      <td>https://rukminim2.flixcart.com/image/312/312/x...</td>\n",
       "      <td>Internal Storage128 GBRAM4 GBExpandable Storag...</td>\n",
       "      <td>Operating SystemAndroid 12Processor TypeUnisoc...</td>\n",
       "      <td>Primary Camera AvailableYesPrimary Camera50MP ...</td>\n",
       "      <td>Display Size16.51 cm (6.5 inch)Resolution1600 ...</td>\n",
       "      <td>Network Type4G VOLTE, 4G, 3G, 2GSupported Netw...</td>\n",
       "      <td>Battery Capacity5000 mAh</td>\n",
       "    </tr>\n",
       "    <tr>\n",
       "      <th>2</th>\n",
       "      <td>realme C33 2023 (Night Sea, 128 GB)</td>\n",
       "      <td>4.4</td>\n",
       "      <td>₹10,499</td>\n",
       "      <td>https://rukminim2.flixcart.com/image/312/312/x...</td>\n",
       "      <td>Internal Storage128 GBRAM4 GBExpandable Storag...</td>\n",
       "      <td>Operating SystemAndroid 12Processor TypeUnisoc...</td>\n",
       "      <td>Primary Camera AvailableYesPrimary Camera50MP ...</td>\n",
       "      <td>Display Size16.51 cm (6.5 inch)Resolution1600 ...</td>\n",
       "      <td>Network Type4G VOLTE, 4G, 3G, 2GSupported Netw...</td>\n",
       "      <td>Battery Capacity5000 mAh</td>\n",
       "    </tr>\n",
       "    <tr>\n",
       "      <th>3</th>\n",
       "      <td>realme C30 (Denim Black, 32 GB)</td>\n",
       "      <td>4.2</td>\n",
       "      <td>₹5,999</td>\n",
       "      <td>https://rukminim2.flixcart.com/image/312/312/l...</td>\n",
       "      <td>Internal Storage32 GBRAM2 GBExpandable Storage...</td>\n",
       "      <td>Operating SystemAndroid 11Processor TypeUnisoc...</td>\n",
       "      <td>Primary Camera AvailableYesPrimary Camera8MP R...</td>\n",
       "      <td>Display Size16.51 cm (6.5 inch)Resolution1600 ...</td>\n",
       "      <td>Network Type4G VOLTE, 4G, 3G, 2GSupported Netw...</td>\n",
       "      <td>Battery Capacity5000 mAh</td>\n",
       "    </tr>\n",
       "    <tr>\n",
       "      <th>4</th>\n",
       "      <td>realme C30 (Bamboo Green, 32 GB)</td>\n",
       "      <td>4.1</td>\n",
       "      <td>₹6,499</td>\n",
       "      <td>https://rukminim2.flixcart.com/image/312/312/l...</td>\n",
       "      <td>Internal Storage32 GBRAM3 GBExpandable Storage...</td>\n",
       "      <td>Operating SystemAndroid 11Processor TypeUnisoc...</td>\n",
       "      <td>Primary Camera AvailableYesPrimary Camera8MP R...</td>\n",
       "      <td>Display Size16.51 cm (6.5 inch)Resolution1600 ...</td>\n",
       "      <td>Network Type4G VOLTE, 4G, 3G, 2GSupported Netw...</td>\n",
       "      <td>Battery Capacity5000 mAh</td>\n",
       "    </tr>\n",
       "    <tr>\n",
       "      <th>...</th>\n",
       "      <td>...</td>\n",
       "      <td>...</td>\n",
       "      <td>...</td>\n",
       "      <td>...</td>\n",
       "      <td>...</td>\n",
       "      <td>...</td>\n",
       "      <td>...</td>\n",
       "      <td>...</td>\n",
       "      <td>...</td>\n",
       "      <td>...</td>\n",
       "    </tr>\n",
       "    <tr>\n",
       "      <th>259</th>\n",
       "      <td>realme C21Y (Cross Black, 32 GB)</td>\n",
       "      <td>4.4</td>\n",
       "      <td>₹7,499</td>\n",
       "      <td>https://rukminim2.flixcart.com/image/312/312/k...</td>\n",
       "      <td>Internal Storage32 GBRAM3 GBExpandable Storage...</td>\n",
       "      <td>Operating SystemAndroid 11Processor TypeUnisoc...</td>\n",
       "      <td>Primary Camera AvailableYesPrimary Camera13MP ...</td>\n",
       "      <td>Display Size16.51 cm (6.5 inch)Resolution1600 ...</td>\n",
       "      <td>Network Type4G, 3G, 2GSupported Networks4G LTE...</td>\n",
       "      <td>Battery Capacity5000 mAh</td>\n",
       "    </tr>\n",
       "    <tr>\n",
       "      <th>260</th>\n",
       "      <td>realme C33 (Sandy Gold, 64 GB)</td>\n",
       "      <td>4.4</td>\n",
       "      <td>₹9,999</td>\n",
       "      <td>https://rukminim2.flixcart.com/image/312/312/x...</td>\n",
       "      <td>Internal Storage64 GBRAM4 GBExpandable Storage...</td>\n",
       "      <td>Operating SystemAndroid 12Processor TypeUnisoc...</td>\n",
       "      <td>Primary Camera AvailableYesPrimary Camera50MP ...</td>\n",
       "      <td>Display Size16.51 cm (6.5 inch)Resolution1600 ...</td>\n",
       "      <td>Network Type4G VOLTE, 4G, 3G, 2GSupported Netw...</td>\n",
       "      <td>Battery Capacity5000 mAh</td>\n",
       "    </tr>\n",
       "    <tr>\n",
       "      <th>261</th>\n",
       "      <td>realme C33 (Sandy Gold, 32 GB)</td>\n",
       "      <td>4.4</td>\n",
       "      <td>₹8,999</td>\n",
       "      <td>https://rukminim2.flixcart.com/image/312/312/x...</td>\n",
       "      <td>Internal Storage32 GBRAM3 GBExpandable Storage...</td>\n",
       "      <td>Operating SystemAndroid 12Processor TypeUnisoc...</td>\n",
       "      <td>Primary Camera AvailableYesPrimary Camera50MP ...</td>\n",
       "      <td>Display Size16.51 cm (6.5 inch)Resolution1600 ...</td>\n",
       "      <td>Network Type4G VOLTE, 4G, 3G, 2GSupported Netw...</td>\n",
       "      <td>Battery Capacity5000 mAh</td>\n",
       "    </tr>\n",
       "    <tr>\n",
       "      <th>262</th>\n",
       "      <td>realme C11 2021 (Cool Blue, 32 GB)</td>\n",
       "      <td>4.4</td>\n",
       "      <td>₹7,499</td>\n",
       "      <td>https://rukminim2.flixcart.com/image/312/312/k...</td>\n",
       "      <td>Internal Storage32 GBRAM2 GBExpandable Storage...</td>\n",
       "      <td>Operating SystemAndroid 11Processor TypeOcta-c...</td>\n",
       "      <td>Primary Camera AvailableYesPrimary Camera8MP R...</td>\n",
       "      <td>Display Size16.51 cm (6.5 inch)Resolution1600 ...</td>\n",
       "      <td>Network Type4G VOLTE, 4G, 3G, 2GSupported Netw...</td>\n",
       "      <td>Battery Capacity5000 mAh</td>\n",
       "    </tr>\n",
       "    <tr>\n",
       "      <th>263</th>\n",
       "      <td>realme C11 2021 (Cool Grey, 32 GB)</td>\n",
       "      <td>NaN</td>\n",
       "      <td>₹7,499</td>\n",
       "      <td>https://rukminim2.flixcart.com/image/312/312/k...</td>\n",
       "      <td>Internal Storage32 GBRAM2 GBExpandable Storage...</td>\n",
       "      <td>Operating SystemAndroid 11Processor TypeOcta-c...</td>\n",
       "      <td>Primary Camera AvailableYesPrimary Camera8MP R...</td>\n",
       "      <td>Display Size16.51 cm (6.5 inch)Resolution1600 ...</td>\n",
       "      <td>Network Type4G VOLTE, 4G, 3G, 2GSupported Netw...</td>\n",
       "      <td>Battery Capacity5000 mAh</td>\n",
       "    </tr>\n",
       "  </tbody>\n",
       "</table>\n",
       "<p>264 rows × 10 columns</p>\n",
       "</div>"
      ],
      "text/plain": [
       "                                     name  ratings    price   \n",
       "0    realme C33 2023 (Sandy Gold, 128 GB)      4.4  ₹10,499  \\\n",
       "1     realme C33 2023 (Aqua Blue, 128 GB)      4.4  ₹10,499   \n",
       "2     realme C33 2023 (Night Sea, 128 GB)      4.4  ₹10,499   \n",
       "3         realme C30 (Denim Black, 32 GB)      4.2   ₹5,999   \n",
       "4        realme C30 (Bamboo Green, 32 GB)      4.1   ₹6,499   \n",
       "..                                    ...      ...      ...   \n",
       "259      realme C21Y (Cross Black, 32 GB)      4.4   ₹7,499   \n",
       "260        realme C33 (Sandy Gold, 64 GB)      4.4   ₹9,999   \n",
       "261        realme C33 (Sandy Gold, 32 GB)      4.4   ₹8,999   \n",
       "262    realme C11 2021 (Cool Blue, 32 GB)      4.4   ₹7,499   \n",
       "263    realme C11 2021 (Cool Grey, 32 GB)      NaN   ₹7,499   \n",
       "\n",
       "                                                imgURL   \n",
       "0    https://rukminim2.flixcart.com/image/312/312/x...  \\\n",
       "1    https://rukminim2.flixcart.com/image/312/312/x...   \n",
       "2    https://rukminim2.flixcart.com/image/312/312/x...   \n",
       "3    https://rukminim2.flixcart.com/image/312/312/l...   \n",
       "4    https://rukminim2.flixcart.com/image/312/312/l...   \n",
       "..                                                 ...   \n",
       "259  https://rukminim2.flixcart.com/image/312/312/k...   \n",
       "260  https://rukminim2.flixcart.com/image/312/312/x...   \n",
       "261  https://rukminim2.flixcart.com/image/312/312/x...   \n",
       "262  https://rukminim2.flixcart.com/image/312/312/k...   \n",
       "263  https://rukminim2.flixcart.com/image/312/312/k...   \n",
       "\n",
       "                                           storage_ram   \n",
       "0    Internal Storage128 GBRAM4 GBExpandable Storag...  \\\n",
       "1    Internal Storage128 GBRAM4 GBExpandable Storag...   \n",
       "2    Internal Storage128 GBRAM4 GBExpandable Storag...   \n",
       "3    Internal Storage32 GBRAM2 GBExpandable Storage...   \n",
       "4    Internal Storage32 GBRAM3 GBExpandable Storage...   \n",
       "..                                                 ...   \n",
       "259  Internal Storage32 GBRAM3 GBExpandable Storage...   \n",
       "260  Internal Storage64 GBRAM4 GBExpandable Storage...   \n",
       "261  Internal Storage32 GBRAM3 GBExpandable Storage...   \n",
       "262  Internal Storage32 GBRAM2 GBExpandable Storage...   \n",
       "263  Internal Storage32 GBRAM2 GBExpandable Storage...   \n",
       "\n",
       "                                                camera   \n",
       "0    Operating SystemAndroid 12Processor TypeUnisoc...  \\\n",
       "1    Operating SystemAndroid 12Processor TypeUnisoc...   \n",
       "2    Operating SystemAndroid 12Processor TypeUnisoc...   \n",
       "3    Operating SystemAndroid 11Processor TypeUnisoc...   \n",
       "4    Operating SystemAndroid 11Processor TypeUnisoc...   \n",
       "..                                                 ...   \n",
       "259  Operating SystemAndroid 11Processor TypeUnisoc...   \n",
       "260  Operating SystemAndroid 12Processor TypeUnisoc...   \n",
       "261  Operating SystemAndroid 12Processor TypeUnisoc...   \n",
       "262  Operating SystemAndroid 11Processor TypeOcta-c...   \n",
       "263  Operating SystemAndroid 11Processor TypeOcta-c...   \n",
       "\n",
       "                                          oS_Processor   \n",
       "0    Primary Camera AvailableYesPrimary Camera50MP ...  \\\n",
       "1    Primary Camera AvailableYesPrimary Camera50MP ...   \n",
       "2    Primary Camera AvailableYesPrimary Camera50MP ...   \n",
       "3    Primary Camera AvailableYesPrimary Camera8MP R...   \n",
       "4    Primary Camera AvailableYesPrimary Camera8MP R...   \n",
       "..                                                 ...   \n",
       "259  Primary Camera AvailableYesPrimary Camera13MP ...   \n",
       "260  Primary Camera AvailableYesPrimary Camera50MP ...   \n",
       "261  Primary Camera AvailableYesPrimary Camera50MP ...   \n",
       "262  Primary Camera AvailableYesPrimary Camera8MP R...   \n",
       "263  Primary Camera AvailableYesPrimary Camera8MP R...   \n",
       "\n",
       "                                               display   \n",
       "0    Display Size16.51 cm (6.5 inch)Resolution1600 ...  \\\n",
       "1    Display Size16.51 cm (6.5 inch)Resolution1600 ...   \n",
       "2    Display Size16.51 cm (6.5 inch)Resolution1600 ...   \n",
       "3    Display Size16.51 cm (6.5 inch)Resolution1600 ...   \n",
       "4    Display Size16.51 cm (6.5 inch)Resolution1600 ...   \n",
       "..                                                 ...   \n",
       "259  Display Size16.51 cm (6.5 inch)Resolution1600 ...   \n",
       "260  Display Size16.51 cm (6.5 inch)Resolution1600 ...   \n",
       "261  Display Size16.51 cm (6.5 inch)Resolution1600 ...   \n",
       "262  Display Size16.51 cm (6.5 inch)Resolution1600 ...   \n",
       "263  Display Size16.51 cm (6.5 inch)Resolution1600 ...   \n",
       "\n",
       "                                               network   \n",
       "0    Network Type4G VOLTE, 4G, 3G, 2GSupported Netw...  \\\n",
       "1    Network Type4G VOLTE, 4G, 3G, 2GSupported Netw...   \n",
       "2    Network Type4G VOLTE, 4G, 3G, 2GSupported Netw...   \n",
       "3    Network Type4G VOLTE, 4G, 3G, 2GSupported Netw...   \n",
       "4    Network Type4G VOLTE, 4G, 3G, 2GSupported Netw...   \n",
       "..                                                 ...   \n",
       "259  Network Type4G, 3G, 2GSupported Networks4G LTE...   \n",
       "260  Network Type4G VOLTE, 4G, 3G, 2GSupported Netw...   \n",
       "261  Network Type4G VOLTE, 4G, 3G, 2GSupported Netw...   \n",
       "262  Network Type4G VOLTE, 4G, 3G, 2GSupported Netw...   \n",
       "263  Network Type4G VOLTE, 4G, 3G, 2GSupported Netw...   \n",
       "\n",
       "                      battery  \n",
       "0    Battery Capacity5000 mAh  \n",
       "1    Battery Capacity5000 mAh  \n",
       "2    Battery Capacity5000 mAh  \n",
       "3    Battery Capacity5000 mAh  \n",
       "4    Battery Capacity5000 mAh  \n",
       "..                        ...  \n",
       "259  Battery Capacity5000 mAh  \n",
       "260  Battery Capacity5000 mAh  \n",
       "261  Battery Capacity5000 mAh  \n",
       "262  Battery Capacity5000 mAh  \n",
       "263  Battery Capacity5000 mAh  \n",
       "\n",
       "[264 rows x 10 columns]"
      ]
     },
     "execution_count": 13,
     "metadata": {},
     "output_type": "execute_result"
    }
   ],
   "source": [
    "df"
   ]
  },
  {
   "cell_type": "code",
   "execution_count": 14,
   "metadata": {},
   "outputs": [
    {
     "data": {
      "text/plain": [
       "15"
      ]
     },
     "execution_count": 14,
     "metadata": {},
     "output_type": "execute_result"
    }
   ],
   "source": [
    "df.duplicated().sum()"
   ]
  },
  {
   "cell_type": "code",
   "execution_count": 15,
   "metadata": {},
   "outputs": [],
   "source": [
    "df.drop_duplicates(inplace=True,ignore_index=True)"
   ]
  },
  {
   "cell_type": "code",
   "execution_count": 16,
   "metadata": {},
   "outputs": [
    {
     "data": {
      "text/plain": [
       "0"
      ]
     },
     "execution_count": 16,
     "metadata": {},
     "output_type": "execute_result"
    }
   ],
   "source": [
    "df.duplicated().sum()"
   ]
  },
  {
   "cell_type": "code",
   "execution_count": 17,
   "metadata": {},
   "outputs": [
    {
     "name": "stdout",
     "output_type": "stream",
     "text": [
      "<class 'pandas.core.frame.DataFrame'>\n",
      "RangeIndex: 249 entries, 0 to 248\n",
      "Data columns (total 10 columns):\n",
      " #   Column        Non-Null Count  Dtype  \n",
      "---  ------        --------------  -----  \n",
      " 0   name          249 non-null    object \n",
      " 1   ratings       214 non-null    float64\n",
      " 2   price         249 non-null    object \n",
      " 3   imgURL        249 non-null    object \n",
      " 4   storage_ram   249 non-null    object \n",
      " 5   camera        249 non-null    object \n",
      " 6   oS_Processor  249 non-null    object \n",
      " 7   display       249 non-null    object \n",
      " 8   network       249 non-null    object \n",
      " 9   battery       249 non-null    object \n",
      "dtypes: float64(1), object(9)\n",
      "memory usage: 19.6+ KB\n"
     ]
    }
   ],
   "source": [
    "df.info()"
   ]
  },
  {
   "cell_type": "code",
   "execution_count": 18,
   "metadata": {},
   "outputs": [],
   "source": [
    "# pd.set_option('max_colwidth', None)"
   ]
  },
  {
   "cell_type": "code",
   "execution_count": 22,
   "metadata": {},
   "outputs": [
    {
     "data": {
      "text/html": [
       "<div>\n",
       "<style scoped>\n",
       "    .dataframe tbody tr th:only-of-type {\n",
       "        vertical-align: middle;\n",
       "    }\n",
       "\n",
       "    .dataframe tbody tr th {\n",
       "        vertical-align: top;\n",
       "    }\n",
       "\n",
       "    .dataframe thead th {\n",
       "        text-align: right;\n",
       "    }\n",
       "</style>\n",
       "<table border=\"1\" class=\"dataframe\">\n",
       "  <thead>\n",
       "    <tr style=\"text-align: right;\">\n",
       "      <th></th>\n",
       "      <th>name</th>\n",
       "      <th>ratings</th>\n",
       "      <th>price</th>\n",
       "      <th>imgURL</th>\n",
       "      <th>storage_ram</th>\n",
       "      <th>camera</th>\n",
       "      <th>oS_Processor</th>\n",
       "      <th>display</th>\n",
       "      <th>network</th>\n",
       "      <th>battery</th>\n",
       "    </tr>\n",
       "  </thead>\n",
       "  <tbody>\n",
       "    <tr>\n",
       "      <th>170</th>\n",
       "      <td>realme 5s (Crystal Blue, 128 GB)</td>\n",
       "      <td>4.5</td>\n",
       "      <td>₹12,999</td>\n",
       "      <td>https://rukminim2.flixcart.com/image/312/312/k...</td>\n",
       "      <td>Internal Storage128 GBRAM4 GBExpandable Storag...</td>\n",
       "      <td>Operating SystemAndroid Pie 9Processor TypeQua...</td>\n",
       "      <td>Primary Camera AvailableYesPrimary Camera48MP ...</td>\n",
       "      <td>Display Size16.51 cm (6.5 inch)Resolution720 x...</td>\n",
       "      <td>Network Type3G, 4G VOLTE, 4G, 2GSupported Netw...</td>\n",
       "      <td>Battery Capacity5000 mAh</td>\n",
       "    </tr>\n",
       "    <tr>\n",
       "      <th>230</th>\n",
       "      <td>realme C25s (Watery Grey, 64 GB)</td>\n",
       "      <td>4.2</td>\n",
       "      <td>₹8,999</td>\n",
       "      <td>https://rukminim2.flixcart.com/image/312/312/k...</td>\n",
       "      <td>Internal Storage64 GBRAM4 GBExpandable Storage...</td>\n",
       "      <td>Operating SystemAndroid 11Processor TypeMediaT...</td>\n",
       "      <td>Primary Camera AvailableYesPrimary Camera13MP ...</td>\n",
       "      <td>Display Size16.51 cm (6.5 inch)Resolution1600 ...</td>\n",
       "      <td>Network Type4G VOLTE, 4G, 3G, 2GSupported Netw...</td>\n",
       "      <td>Battery Capacity6000 mAh</td>\n",
       "    </tr>\n",
       "    <tr>\n",
       "      <th>247</th>\n",
       "      <td>realme C33 (Sandy Gold, 32 GB)</td>\n",
       "      <td>4.4</td>\n",
       "      <td>₹8,999</td>\n",
       "      <td>https://rukminim2.flixcart.com/image/312/312/x...</td>\n",
       "      <td>Internal Storage32 GBRAM3 GBExpandable Storage...</td>\n",
       "      <td>Operating SystemAndroid 12Processor TypeUnisoc...</td>\n",
       "      <td>Primary Camera AvailableYesPrimary Camera50MP ...</td>\n",
       "      <td>Display Size16.51 cm (6.5 inch)Resolution1600 ...</td>\n",
       "      <td>Network Type4G VOLTE, 4G, 3G, 2GSupported Netw...</td>\n",
       "      <td>Battery Capacity5000 mAh</td>\n",
       "    </tr>\n",
       "    <tr>\n",
       "      <th>183</th>\n",
       "      <td>realme 11 Pro 5G (Sunrise Beige, 256 GB)</td>\n",
       "      <td>NaN</td>\n",
       "      <td>₹27,999</td>\n",
       "      <td>https://rukminim2.flixcart.com/image/312/312/x...</td>\n",
       "      <td>Internal Storage256 GBRAM12 GBMemory Card Slot...</td>\n",
       "      <td>Operating SystemAndroid 13Processor TypeDimens...</td>\n",
       "      <td>Primary Camera AvailableYesPrimary Camera100MP...</td>\n",
       "      <td>Display Size17.02 cm (6.7 inch)Resolution2412 ...</td>\n",
       "      <td>Network Type5G, 4G VOLTE, 4G, 3G, 2GSupported ...</td>\n",
       "      <td>Battery Capacity5000 mAhBattery TypeLithium-io...</td>\n",
       "    </tr>\n",
       "    <tr>\n",
       "      <th>65</th>\n",
       "      <td>realme C33 (Night Sea, 64 GB)</td>\n",
       "      <td>4.4</td>\n",
       "      <td>₹9,999</td>\n",
       "      <td>https://rukminim2.flixcart.com/image/312/312/x...</td>\n",
       "      <td>Internal Storage64 GBRAM4 GBExpandable Storage...</td>\n",
       "      <td>Operating SystemAndroid 12Processor TypeUnisoc...</td>\n",
       "      <td>Primary Camera AvailableYesPrimary Camera50MP ...</td>\n",
       "      <td>Display Size16.51 cm (6.5 inch)Resolution1600 ...</td>\n",
       "      <td>Network Type4G VOLTE, 4G, 3G, 2GSupported Netw...</td>\n",
       "      <td>Battery Capacity5000 mAh</td>\n",
       "    </tr>\n",
       "  </tbody>\n",
       "</table>\n",
       "</div>"
      ],
      "text/plain": [
       "                                         name  ratings    price   \n",
       "170          realme 5s (Crystal Blue, 128 GB)      4.5  ₹12,999  \\\n",
       "230          realme C25s (Watery Grey, 64 GB)      4.2   ₹8,999   \n",
       "247            realme C33 (Sandy Gold, 32 GB)      4.4   ₹8,999   \n",
       "183  realme 11 Pro 5G (Sunrise Beige, 256 GB)      NaN  ₹27,999   \n",
       "65              realme C33 (Night Sea, 64 GB)      4.4   ₹9,999   \n",
       "\n",
       "                                                imgURL   \n",
       "170  https://rukminim2.flixcart.com/image/312/312/k...  \\\n",
       "230  https://rukminim2.flixcart.com/image/312/312/k...   \n",
       "247  https://rukminim2.flixcart.com/image/312/312/x...   \n",
       "183  https://rukminim2.flixcart.com/image/312/312/x...   \n",
       "65   https://rukminim2.flixcart.com/image/312/312/x...   \n",
       "\n",
       "                                           storage_ram   \n",
       "170  Internal Storage128 GBRAM4 GBExpandable Storag...  \\\n",
       "230  Internal Storage64 GBRAM4 GBExpandable Storage...   \n",
       "247  Internal Storage32 GBRAM3 GBExpandable Storage...   \n",
       "183  Internal Storage256 GBRAM12 GBMemory Card Slot...   \n",
       "65   Internal Storage64 GBRAM4 GBExpandable Storage...   \n",
       "\n",
       "                                                camera   \n",
       "170  Operating SystemAndroid Pie 9Processor TypeQua...  \\\n",
       "230  Operating SystemAndroid 11Processor TypeMediaT...   \n",
       "247  Operating SystemAndroid 12Processor TypeUnisoc...   \n",
       "183  Operating SystemAndroid 13Processor TypeDimens...   \n",
       "65   Operating SystemAndroid 12Processor TypeUnisoc...   \n",
       "\n",
       "                                          oS_Processor   \n",
       "170  Primary Camera AvailableYesPrimary Camera48MP ...  \\\n",
       "230  Primary Camera AvailableYesPrimary Camera13MP ...   \n",
       "247  Primary Camera AvailableYesPrimary Camera50MP ...   \n",
       "183  Primary Camera AvailableYesPrimary Camera100MP...   \n",
       "65   Primary Camera AvailableYesPrimary Camera50MP ...   \n",
       "\n",
       "                                               display   \n",
       "170  Display Size16.51 cm (6.5 inch)Resolution720 x...  \\\n",
       "230  Display Size16.51 cm (6.5 inch)Resolution1600 ...   \n",
       "247  Display Size16.51 cm (6.5 inch)Resolution1600 ...   \n",
       "183  Display Size17.02 cm (6.7 inch)Resolution2412 ...   \n",
       "65   Display Size16.51 cm (6.5 inch)Resolution1600 ...   \n",
       "\n",
       "                                               network   \n",
       "170  Network Type3G, 4G VOLTE, 4G, 2GSupported Netw...  \\\n",
       "230  Network Type4G VOLTE, 4G, 3G, 2GSupported Netw...   \n",
       "247  Network Type4G VOLTE, 4G, 3G, 2GSupported Netw...   \n",
       "183  Network Type5G, 4G VOLTE, 4G, 3G, 2GSupported ...   \n",
       "65   Network Type4G VOLTE, 4G, 3G, 2GSupported Netw...   \n",
       "\n",
       "                                               battery  \n",
       "170                           Battery Capacity5000 mAh  \n",
       "230                           Battery Capacity6000 mAh  \n",
       "247                           Battery Capacity5000 mAh  \n",
       "183  Battery Capacity5000 mAhBattery TypeLithium-io...  \n",
       "65                            Battery Capacity5000 mAh  "
      ]
     },
     "execution_count": 22,
     "metadata": {},
     "output_type": "execute_result"
    }
   ],
   "source": [
    "df.sample(5)"
   ]
  },
  {
   "cell_type": "code",
   "execution_count": 24,
   "metadata": {},
   "outputs": [
    {
     "data": {
      "text/plain": [
       "(249, 10)"
      ]
     },
     "execution_count": 24,
     "metadata": {},
     "output_type": "execute_result"
    }
   ],
   "source": [
    "df.shape"
   ]
  },
  {
   "cell_type": "code",
   "execution_count": 28,
   "metadata": {},
   "outputs": [
    {
     "data": {
      "text/html": [
       "<div>\n",
       "<style scoped>\n",
       "    .dataframe tbody tr th:only-of-type {\n",
       "        vertical-align: middle;\n",
       "    }\n",
       "\n",
       "    .dataframe tbody tr th {\n",
       "        vertical-align: top;\n",
       "    }\n",
       "\n",
       "    .dataframe thead th {\n",
       "        text-align: right;\n",
       "    }\n",
       "</style>\n",
       "<table border=\"1\" class=\"dataframe\">\n",
       "  <thead>\n",
       "    <tr style=\"text-align: right;\">\n",
       "      <th></th>\n",
       "      <th>name</th>\n",
       "      <th>ratings</th>\n",
       "      <th>price</th>\n",
       "      <th>imgURL</th>\n",
       "      <th>storage_ram</th>\n",
       "      <th>camera</th>\n",
       "      <th>oS_Processor</th>\n",
       "      <th>display</th>\n",
       "      <th>network</th>\n",
       "      <th>battery</th>\n",
       "    </tr>\n",
       "  </thead>\n",
       "  <tbody>\n",
       "    <tr>\n",
       "      <th>125</th>\n",
       "      <td>realme 11 Pro+ 5G (Oasis Green, 256 GB)</td>\n",
       "      <td>4.5</td>\n",
       "      <td>₹29,999</td>\n",
       "      <td>https://rukminim2.flixcart.com/image/312/312/x...</td>\n",
       "      <td>Internal Storage256 GBRAM12 GBMemory Card Slot...</td>\n",
       "      <td>Operating SystemAndroid 13Processor TypeDimens...</td>\n",
       "      <td>Primary Camera AvailableYesPrimary Camera200MP...</td>\n",
       "      <td>Display Size17.02 cm (6.7 inch)Resolution2412 ...</td>\n",
       "      <td>Network Type5G, 4G VOLTE, 4G, 3G, 2GSupported ...</td>\n",
       "      <td>Battery Capacity5000 mAhBattery TypeLithium-io...</td>\n",
       "    </tr>\n",
       "    <tr>\n",
       "      <th>163</th>\n",
       "      <td>realme 5 (Crystal Blue, 64 GB)</td>\n",
       "      <td>4.4</td>\n",
       "      <td>₹11,999</td>\n",
       "      <td>https://rukminim2.flixcart.com/image/312/312/k...</td>\n",
       "      <td>Internal Storage64 GBRAM4 GBExpandable Storage...</td>\n",
       "      <td>Operating SystemAndroid Pie 9.0Processor TypeQ...</td>\n",
       "      <td>Primary Camera AvailableYesPrimary Camera12MP ...</td>\n",
       "      <td>Display Size16.51 cm (6.5 inch)Resolution720 x...</td>\n",
       "      <td>Network Type4G VOLTE, 3G, 2GSupported Networks...</td>\n",
       "      <td>Battery Capacity5000 mAH</td>\n",
       "    </tr>\n",
       "    <tr>\n",
       "      <th>243</th>\n",
       "      <td>realme GT 2 (Paper Green, 256 GB)</td>\n",
       "      <td>4.3</td>\n",
       "      <td>₹38,999</td>\n",
       "      <td>https://rukminim2.flixcart.com/image/312/312/l...</td>\n",
       "      <td>Internal Storage256 GBRAM12 GBCall Log MemoryYes</td>\n",
       "      <td>Operating SystemAndroid 12Processor TypeQualco...</td>\n",
       "      <td>Primary Camera AvailableYesPrimary Camera50MP ...</td>\n",
       "      <td>Display Size16.81 cm (6.62 inch)Resolution2400...</td>\n",
       "      <td>Network Type5G, 4G, 3G, 2GSupported Networks5G...</td>\n",
       "      <td>Battery Capacity5000 mAh</td>\n",
       "    </tr>\n",
       "  </tbody>\n",
       "</table>\n",
       "</div>"
      ],
      "text/plain": [
       "                                        name  ratings    price   \n",
       "125  realme 11 Pro+ 5G (Oasis Green, 256 GB)      4.5  ₹29,999  \\\n",
       "163           realme 5 (Crystal Blue, 64 GB)      4.4  ₹11,999   \n",
       "243        realme GT 2 (Paper Green, 256 GB)      4.3  ₹38,999   \n",
       "\n",
       "                                                imgURL   \n",
       "125  https://rukminim2.flixcart.com/image/312/312/x...  \\\n",
       "163  https://rukminim2.flixcart.com/image/312/312/k...   \n",
       "243  https://rukminim2.flixcart.com/image/312/312/l...   \n",
       "\n",
       "                                           storage_ram   \n",
       "125  Internal Storage256 GBRAM12 GBMemory Card Slot...  \\\n",
       "163  Internal Storage64 GBRAM4 GBExpandable Storage...   \n",
       "243   Internal Storage256 GBRAM12 GBCall Log MemoryYes   \n",
       "\n",
       "                                                camera   \n",
       "125  Operating SystemAndroid 13Processor TypeDimens...  \\\n",
       "163  Operating SystemAndroid Pie 9.0Processor TypeQ...   \n",
       "243  Operating SystemAndroid 12Processor TypeQualco...   \n",
       "\n",
       "                                          oS_Processor   \n",
       "125  Primary Camera AvailableYesPrimary Camera200MP...  \\\n",
       "163  Primary Camera AvailableYesPrimary Camera12MP ...   \n",
       "243  Primary Camera AvailableYesPrimary Camera50MP ...   \n",
       "\n",
       "                                               display   \n",
       "125  Display Size17.02 cm (6.7 inch)Resolution2412 ...  \\\n",
       "163  Display Size16.51 cm (6.5 inch)Resolution720 x...   \n",
       "243  Display Size16.81 cm (6.62 inch)Resolution2400...   \n",
       "\n",
       "                                               network   \n",
       "125  Network Type5G, 4G VOLTE, 4G, 3G, 2GSupported ...  \\\n",
       "163  Network Type4G VOLTE, 3G, 2GSupported Networks...   \n",
       "243  Network Type5G, 4G, 3G, 2GSupported Networks5G...   \n",
       "\n",
       "                                               battery  \n",
       "125  Battery Capacity5000 mAhBattery TypeLithium-io...  \n",
       "163                           Battery Capacity5000 mAH  \n",
       "243                           Battery Capacity5000 mAh  "
      ]
     },
     "execution_count": 28,
     "metadata": {},
     "output_type": "execute_result"
    }
   ],
   "source": [
    "df.sample(3)"
   ]
  },
  {
   "cell_type": "code",
   "execution_count": 29,
   "metadata": {},
   "outputs": [
    {
     "data": {
      "text/plain": [
       "49"
      ]
     },
     "execution_count": 29,
     "metadata": {},
     "output_type": "execute_result"
    }
   ],
   "source": [
    "np.random.randint(500)"
   ]
  },
  {
   "cell_type": "code",
   "execution_count": 30,
   "metadata": {},
   "outputs": [
    {
     "data": {
      "text/plain": [
       "249"
      ]
     },
     "execution_count": 30,
     "metadata": {},
     "output_type": "execute_result"
    }
   ],
   "source": [
    "df.shape[0]"
   ]
  },
  {
   "cell_type": "code",
   "execution_count": 31,
   "metadata": {},
   "outputs": [],
   "source": [
    "@ensure_annotations\n",
    "def random_values(feature_name:str,total=6):\n",
    "    for i in range(0,total):\n",
    "        index = np.random.randint(df.shape[0])\n",
    "        print(index,':',df[feature_name].iloc[index])\n",
    "    \n",
    "    # return df[feature_name].iloc[index]\n",
    "        "
   ]
  },
  {
   "cell_type": "code",
   "execution_count": 32,
   "metadata": {},
   "outputs": [
    {
     "name": "stdout",
     "output_type": "stream",
     "text": [
      "144 : Internal Storage128 GBRAM8 GBMemory Card Slot TypeDedicated Slot\n",
      "62 : Internal Storage64 GBRAM4 GB\n",
      "58 : Internal Storage32 GBRAM3 GBExpandable Storage1 TBSupported Memory Card TypeMicroSDMemory Card Slot TypeDedicated Slot\n",
      "245 : Internal Storage32 GBRAM3 GBExpandable Storage256 GBSupported Memory Card TypemicroSDMemory Card Slot TypeDedicated Slot\n",
      "84 : Internal Storage128 GBRAM8 GBExpandable Storage256 GBSupported Memory Card TypemicroSDMemory Card Slot TypeDedicated Slot\n",
      "56 : Internal Storage128 GBRAM8 GBExpandable Storage1 TBSupported Memory Card TypeMicroSDMemory Card Slot TypeDedicated Slot\n"
     ]
    }
   ],
   "source": [
    "val = random_values('storage_ram')"
   ]
  },
  {
   "cell_type": "code",
   "execution_count": 33,
   "metadata": {},
   "outputs": [
    {
     "name": "stdout",
     "output_type": "stream",
     "text": [
      "104 : Battery Capacity5000 mAhBattery TypeLithium-ion Polymer\n",
      "182 : Battery Capacity5000 mAh\n",
      "114 : Battery Capacity4500 mAh\n",
      "52 : Battery Capacity4500 mAh\n",
      "215 : Battery Capacity5000 mAh\n",
      "80 : Battery Capacity6000 mAh\n"
     ]
    }
   ],
   "source": [
    "random_values('battery')"
   ]
  },
  {
   "cell_type": "code",
   "execution_count": 34,
   "metadata": {},
   "outputs": [
    {
     "ename": "KeyError",
     "evalue": "'model_names'",
     "output_type": "error",
     "traceback": [
      "\u001b[1;31m---------------------------------------------------------------------------\u001b[0m",
      "\u001b[1;31mKeyError\u001b[0m                                  Traceback (most recent call last)",
      "File \u001b[1;32mc:\\Users\\Gyanprakash\\AppData\\Local\\Programs\\Python\\Python311\\Lib\\site-packages\\pandas\\core\\indexes\\base.py:3652\u001b[0m, in \u001b[0;36mIndex.get_loc\u001b[1;34m(self, key)\u001b[0m\n\u001b[0;32m   3651\u001b[0m \u001b[39mtry\u001b[39;00m:\n\u001b[1;32m-> 3652\u001b[0m     \u001b[39mreturn\u001b[39;00m \u001b[39mself\u001b[39;49m\u001b[39m.\u001b[39;49m_engine\u001b[39m.\u001b[39;49mget_loc(casted_key)\n\u001b[0;32m   3653\u001b[0m \u001b[39mexcept\u001b[39;00m \u001b[39mKeyError\u001b[39;00m \u001b[39mas\u001b[39;00m err:\n",
      "File \u001b[1;32mc:\\Users\\Gyanprakash\\AppData\\Local\\Programs\\Python\\Python311\\Lib\\site-packages\\pandas\\_libs\\index.pyx:147\u001b[0m, in \u001b[0;36mpandas._libs.index.IndexEngine.get_loc\u001b[1;34m()\u001b[0m\n",
      "File \u001b[1;32mc:\\Users\\Gyanprakash\\AppData\\Local\\Programs\\Python\\Python311\\Lib\\site-packages\\pandas\\_libs\\index.pyx:176\u001b[0m, in \u001b[0;36mpandas._libs.index.IndexEngine.get_loc\u001b[1;34m()\u001b[0m\n",
      "File \u001b[1;32mpandas\\_libs\\hashtable_class_helper.pxi:7080\u001b[0m, in \u001b[0;36mpandas._libs.hashtable.PyObjectHashTable.get_item\u001b[1;34m()\u001b[0m\n",
      "File \u001b[1;32mpandas\\_libs\\hashtable_class_helper.pxi:7088\u001b[0m, in \u001b[0;36mpandas._libs.hashtable.PyObjectHashTable.get_item\u001b[1;34m()\u001b[0m\n",
      "\u001b[1;31mKeyError\u001b[0m: 'model_names'",
      "\nThe above exception was the direct cause of the following exception:\n",
      "\u001b[1;31mKeyError\u001b[0m                                  Traceback (most recent call last)",
      "Cell \u001b[1;32mIn[34], line 1\u001b[0m\n\u001b[1;32m----> 1\u001b[0m random_values(\u001b[39m'\u001b[39;49m\u001b[39mmodel_names\u001b[39;49m\u001b[39m'\u001b[39;49m)\n",
      "File \u001b[1;32mc:\\Users\\Gyanprakash\\AppData\\Local\\Programs\\Python\\Python311\\Lib\\site-packages\\ensure\\main.py:835\u001b[0m, in \u001b[0;36mWrappedFunction.__call__\u001b[1;34m(self, *args, **kwargs)\u001b[0m\n\u001b[0;32m    832\u001b[0m         msg \u001b[39m=\u001b[39m \u001b[39m\"\u001b[39m\u001b[39mArgument \u001b[39m\u001b[39m{arg}\u001b[39;00m\u001b[39m of type \u001b[39m\u001b[39m{valt}\u001b[39;00m\u001b[39m to \u001b[39m\u001b[39m{f}\u001b[39;00m\u001b[39m \u001b[39m\u001b[39m\"\u001b[39m \u001b[39m\"\u001b[39m\u001b[39mdoes not match annotation type \u001b[39m\u001b[39m{t}\u001b[39;00m\u001b[39m\"\u001b[39m\n\u001b[0;32m    833\u001b[0m         \u001b[39mraise\u001b[39;00m EnsureError(msg\u001b[39m.\u001b[39mformat(arg\u001b[39m=\u001b[39marg, f\u001b[39m=\u001b[39m\u001b[39mself\u001b[39m\u001b[39m.\u001b[39mf, t\u001b[39m=\u001b[39mtempl, valt\u001b[39m=\u001b[39m\u001b[39mtype\u001b[39m(value)))\n\u001b[1;32m--> 835\u001b[0m \u001b[39mreturn\u001b[39;00m \u001b[39mself\u001b[39;49m\u001b[39m.\u001b[39;49mf(\u001b[39m*\u001b[39;49margs, \u001b[39m*\u001b[39;49m\u001b[39m*\u001b[39;49mkwargs)\n",
      "Cell \u001b[1;32mIn[31], line 5\u001b[0m, in \u001b[0;36mrandom_values\u001b[1;34m(feature_name, total)\u001b[0m\n\u001b[0;32m      3\u001b[0m \u001b[39mfor\u001b[39;00m i \u001b[39min\u001b[39;00m \u001b[39mrange\u001b[39m(\u001b[39m0\u001b[39m,total):\n\u001b[0;32m      4\u001b[0m     index \u001b[39m=\u001b[39m np\u001b[39m.\u001b[39mrandom\u001b[39m.\u001b[39mrandint(df\u001b[39m.\u001b[39mshape[\u001b[39m0\u001b[39m])\n\u001b[1;32m----> 5\u001b[0m     \u001b[39mprint\u001b[39m(index,\u001b[39m'\u001b[39m\u001b[39m:\u001b[39m\u001b[39m'\u001b[39m,df[feature_name]\u001b[39m.\u001b[39miloc[index])\n",
      "File \u001b[1;32mc:\\Users\\Gyanprakash\\AppData\\Local\\Programs\\Python\\Python311\\Lib\\site-packages\\pandas\\core\\frame.py:3760\u001b[0m, in \u001b[0;36mDataFrame.__getitem__\u001b[1;34m(self, key)\u001b[0m\n\u001b[0;32m   3758\u001b[0m \u001b[39mif\u001b[39;00m \u001b[39mself\u001b[39m\u001b[39m.\u001b[39mcolumns\u001b[39m.\u001b[39mnlevels \u001b[39m>\u001b[39m \u001b[39m1\u001b[39m:\n\u001b[0;32m   3759\u001b[0m     \u001b[39mreturn\u001b[39;00m \u001b[39mself\u001b[39m\u001b[39m.\u001b[39m_getitem_multilevel(key)\n\u001b[1;32m-> 3760\u001b[0m indexer \u001b[39m=\u001b[39m \u001b[39mself\u001b[39;49m\u001b[39m.\u001b[39;49mcolumns\u001b[39m.\u001b[39;49mget_loc(key)\n\u001b[0;32m   3761\u001b[0m \u001b[39mif\u001b[39;00m is_integer(indexer):\n\u001b[0;32m   3762\u001b[0m     indexer \u001b[39m=\u001b[39m [indexer]\n",
      "File \u001b[1;32mc:\\Users\\Gyanprakash\\AppData\\Local\\Programs\\Python\\Python311\\Lib\\site-packages\\pandas\\core\\indexes\\base.py:3654\u001b[0m, in \u001b[0;36mIndex.get_loc\u001b[1;34m(self, key)\u001b[0m\n\u001b[0;32m   3652\u001b[0m     \u001b[39mreturn\u001b[39;00m \u001b[39mself\u001b[39m\u001b[39m.\u001b[39m_engine\u001b[39m.\u001b[39mget_loc(casted_key)\n\u001b[0;32m   3653\u001b[0m \u001b[39mexcept\u001b[39;00m \u001b[39mKeyError\u001b[39;00m \u001b[39mas\u001b[39;00m err:\n\u001b[1;32m-> 3654\u001b[0m     \u001b[39mraise\u001b[39;00m \u001b[39mKeyError\u001b[39;00m(key) \u001b[39mfrom\u001b[39;00m \u001b[39merr\u001b[39;00m\n\u001b[0;32m   3655\u001b[0m \u001b[39mexcept\u001b[39;00m \u001b[39mTypeError\u001b[39;00m:\n\u001b[0;32m   3656\u001b[0m     \u001b[39m# If we have a listlike key, _check_indexing_error will raise\u001b[39;00m\n\u001b[0;32m   3657\u001b[0m     \u001b[39m#  InvalidIndexError. Otherwise we fall through and re-raise\u001b[39;00m\n\u001b[0;32m   3658\u001b[0m     \u001b[39m#  the TypeError.\u001b[39;00m\n\u001b[0;32m   3659\u001b[0m     \u001b[39mself\u001b[39m\u001b[39m.\u001b[39m_check_indexing_error(key)\n",
      "\u001b[1;31mKeyError\u001b[0m: 'model_names'"
     ]
    }
   ],
   "source": [
    "random_values('model_names')"
   ]
  },
  {
   "cell_type": "code",
   "execution_count": null,
   "metadata": {},
   "outputs": [
    {
     "name": "stdout",
     "output_type": "stream",
     "text": [
      "5 : https://rukminim2.flixcart.com/image/312/312/ktbu6q80/mobile/s/j/e/10-prime-10-redmi-original-imag6pbabybzmrhn.jpeg?q=70\n",
      "145 : https://rukminim2.flixcart.com/image/312/312/jaij3bk0/mobile/p/h/d/mi-redmi-5a-c3b-original-imafy2gfd8byvqyf.jpeg?q=70\n",
      "269 : https://rukminim2.flixcart.com/image/312/312/xif0q/mobile/a/7/a/-original-imagdrghghkneesf.jpeg?q=70\n",
      "114 : https://rukminim2.flixcart.com/image/312/312/xif0q/mobile/j/l/n/-original-imag7chjvhxdhhyh.jpeg?q=70\n",
      "89 : https://rukminim2.flixcart.com/image/312/312/jdkjzww0/mobile/d/y/b/redmi-note-5-mzb5917in-original-imaf2g8zwrmywhqq.jpeg?q=70\n",
      "331 : https://rukminim2.flixcart.com/image/312/312/xif0q/mobile/q/z/o/-original-imaghfn2uqatzcnh.jpeg?q=70\n"
     ]
    }
   ],
   "source": [
    "random_values('imgURL')"
   ]
  },
  {
   "cell_type": "code",
   "execution_count": 35,
   "metadata": {},
   "outputs": [
    {
     "ename": "KeyError",
     "evalue": "'os_processor'",
     "output_type": "error",
     "traceback": [
      "\u001b[1;31m---------------------------------------------------------------------------\u001b[0m",
      "\u001b[1;31mKeyError\u001b[0m                                  Traceback (most recent call last)",
      "File \u001b[1;32mc:\\Users\\Gyanprakash\\AppData\\Local\\Programs\\Python\\Python311\\Lib\\site-packages\\pandas\\core\\indexes\\base.py:3652\u001b[0m, in \u001b[0;36mIndex.get_loc\u001b[1;34m(self, key)\u001b[0m\n\u001b[0;32m   3651\u001b[0m \u001b[39mtry\u001b[39;00m:\n\u001b[1;32m-> 3652\u001b[0m     \u001b[39mreturn\u001b[39;00m \u001b[39mself\u001b[39;49m\u001b[39m.\u001b[39;49m_engine\u001b[39m.\u001b[39;49mget_loc(casted_key)\n\u001b[0;32m   3653\u001b[0m \u001b[39mexcept\u001b[39;00m \u001b[39mKeyError\u001b[39;00m \u001b[39mas\u001b[39;00m err:\n",
      "File \u001b[1;32mc:\\Users\\Gyanprakash\\AppData\\Local\\Programs\\Python\\Python311\\Lib\\site-packages\\pandas\\_libs\\index.pyx:147\u001b[0m, in \u001b[0;36mpandas._libs.index.IndexEngine.get_loc\u001b[1;34m()\u001b[0m\n",
      "File \u001b[1;32mc:\\Users\\Gyanprakash\\AppData\\Local\\Programs\\Python\\Python311\\Lib\\site-packages\\pandas\\_libs\\index.pyx:176\u001b[0m, in \u001b[0;36mpandas._libs.index.IndexEngine.get_loc\u001b[1;34m()\u001b[0m\n",
      "File \u001b[1;32mpandas\\_libs\\hashtable_class_helper.pxi:7080\u001b[0m, in \u001b[0;36mpandas._libs.hashtable.PyObjectHashTable.get_item\u001b[1;34m()\u001b[0m\n",
      "File \u001b[1;32mpandas\\_libs\\hashtable_class_helper.pxi:7088\u001b[0m, in \u001b[0;36mpandas._libs.hashtable.PyObjectHashTable.get_item\u001b[1;34m()\u001b[0m\n",
      "\u001b[1;31mKeyError\u001b[0m: 'os_processor'",
      "\nThe above exception was the direct cause of the following exception:\n",
      "\u001b[1;31mKeyError\u001b[0m                                  Traceback (most recent call last)",
      "Cell \u001b[1;32mIn[35], line 1\u001b[0m\n\u001b[1;32m----> 1\u001b[0m random_values(\u001b[39m'\u001b[39;49m\u001b[39mos_processor\u001b[39;49m\u001b[39m'\u001b[39;49m)\n",
      "File \u001b[1;32mc:\\Users\\Gyanprakash\\AppData\\Local\\Programs\\Python\\Python311\\Lib\\site-packages\\ensure\\main.py:835\u001b[0m, in \u001b[0;36mWrappedFunction.__call__\u001b[1;34m(self, *args, **kwargs)\u001b[0m\n\u001b[0;32m    832\u001b[0m         msg \u001b[39m=\u001b[39m \u001b[39m\"\u001b[39m\u001b[39mArgument \u001b[39m\u001b[39m{arg}\u001b[39;00m\u001b[39m of type \u001b[39m\u001b[39m{valt}\u001b[39;00m\u001b[39m to \u001b[39m\u001b[39m{f}\u001b[39;00m\u001b[39m \u001b[39m\u001b[39m\"\u001b[39m \u001b[39m\"\u001b[39m\u001b[39mdoes not match annotation type \u001b[39m\u001b[39m{t}\u001b[39;00m\u001b[39m\"\u001b[39m\n\u001b[0;32m    833\u001b[0m         \u001b[39mraise\u001b[39;00m EnsureError(msg\u001b[39m.\u001b[39mformat(arg\u001b[39m=\u001b[39marg, f\u001b[39m=\u001b[39m\u001b[39mself\u001b[39m\u001b[39m.\u001b[39mf, t\u001b[39m=\u001b[39mtempl, valt\u001b[39m=\u001b[39m\u001b[39mtype\u001b[39m(value)))\n\u001b[1;32m--> 835\u001b[0m \u001b[39mreturn\u001b[39;00m \u001b[39mself\u001b[39;49m\u001b[39m.\u001b[39;49mf(\u001b[39m*\u001b[39;49margs, \u001b[39m*\u001b[39;49m\u001b[39m*\u001b[39;49mkwargs)\n",
      "Cell \u001b[1;32mIn[31], line 5\u001b[0m, in \u001b[0;36mrandom_values\u001b[1;34m(feature_name, total)\u001b[0m\n\u001b[0;32m      3\u001b[0m \u001b[39mfor\u001b[39;00m i \u001b[39min\u001b[39;00m \u001b[39mrange\u001b[39m(\u001b[39m0\u001b[39m,total):\n\u001b[0;32m      4\u001b[0m     index \u001b[39m=\u001b[39m np\u001b[39m.\u001b[39mrandom\u001b[39m.\u001b[39mrandint(df\u001b[39m.\u001b[39mshape[\u001b[39m0\u001b[39m])\n\u001b[1;32m----> 5\u001b[0m     \u001b[39mprint\u001b[39m(index,\u001b[39m'\u001b[39m\u001b[39m:\u001b[39m\u001b[39m'\u001b[39m,df[feature_name]\u001b[39m.\u001b[39miloc[index])\n",
      "File \u001b[1;32mc:\\Users\\Gyanprakash\\AppData\\Local\\Programs\\Python\\Python311\\Lib\\site-packages\\pandas\\core\\frame.py:3760\u001b[0m, in \u001b[0;36mDataFrame.__getitem__\u001b[1;34m(self, key)\u001b[0m\n\u001b[0;32m   3758\u001b[0m \u001b[39mif\u001b[39;00m \u001b[39mself\u001b[39m\u001b[39m.\u001b[39mcolumns\u001b[39m.\u001b[39mnlevels \u001b[39m>\u001b[39m \u001b[39m1\u001b[39m:\n\u001b[0;32m   3759\u001b[0m     \u001b[39mreturn\u001b[39;00m \u001b[39mself\u001b[39m\u001b[39m.\u001b[39m_getitem_multilevel(key)\n\u001b[1;32m-> 3760\u001b[0m indexer \u001b[39m=\u001b[39m \u001b[39mself\u001b[39;49m\u001b[39m.\u001b[39;49mcolumns\u001b[39m.\u001b[39;49mget_loc(key)\n\u001b[0;32m   3761\u001b[0m \u001b[39mif\u001b[39;00m is_integer(indexer):\n\u001b[0;32m   3762\u001b[0m     indexer \u001b[39m=\u001b[39m [indexer]\n",
      "File \u001b[1;32mc:\\Users\\Gyanprakash\\AppData\\Local\\Programs\\Python\\Python311\\Lib\\site-packages\\pandas\\core\\indexes\\base.py:3654\u001b[0m, in \u001b[0;36mIndex.get_loc\u001b[1;34m(self, key)\u001b[0m\n\u001b[0;32m   3652\u001b[0m     \u001b[39mreturn\u001b[39;00m \u001b[39mself\u001b[39m\u001b[39m.\u001b[39m_engine\u001b[39m.\u001b[39mget_loc(casted_key)\n\u001b[0;32m   3653\u001b[0m \u001b[39mexcept\u001b[39;00m \u001b[39mKeyError\u001b[39;00m \u001b[39mas\u001b[39;00m err:\n\u001b[1;32m-> 3654\u001b[0m     \u001b[39mraise\u001b[39;00m \u001b[39mKeyError\u001b[39;00m(key) \u001b[39mfrom\u001b[39;00m \u001b[39merr\u001b[39;00m\n\u001b[0;32m   3655\u001b[0m \u001b[39mexcept\u001b[39;00m \u001b[39mTypeError\u001b[39;00m:\n\u001b[0;32m   3656\u001b[0m     \u001b[39m# If we have a listlike key, _check_indexing_error will raise\u001b[39;00m\n\u001b[0;32m   3657\u001b[0m     \u001b[39m#  InvalidIndexError. Otherwise we fall through and re-raise\u001b[39;00m\n\u001b[0;32m   3658\u001b[0m     \u001b[39m#  the TypeError.\u001b[39;00m\n\u001b[0;32m   3659\u001b[0m     \u001b[39mself\u001b[39m\u001b[39m.\u001b[39m_check_indexing_error(key)\n",
      "\u001b[1;31mKeyError\u001b[0m: 'os_processor'"
     ]
    }
   ],
   "source": [
    "random_values('os_processor')"
   ]
  },
  {
   "cell_type": "markdown",
   "metadata": {},
   "source": [
    "## Battery col"
   ]
  },
  {
   "cell_type": "code",
   "execution_count": null,
   "metadata": {},
   "outputs": [
    {
     "name": "stdout",
     "output_type": "stream",
     "text": [
      "251 : Battery Capacity5000 mAhBattery TypeLi-PoTalk Time37 hours\n",
      "250 : Battery Capacity5020 mAhTalk Time31 hrs\n",
      "488 : Battery Capacity4500 mAhTalk Time28 hrs\n",
      "227 : Battery Capacity4980 mAhBattery TypeLithium Polymer\n",
      "255 : Battery Capacity5000 mAhTalk Time32 HrsDual BatteryNo\n",
      "473 : Battery Capacity4030 mAhBattery TypeLithium-ion\n"
     ]
    }
   ],
   "source": [
    "random_values('battery')"
   ]
  },
  {
   "cell_type": "code",
   "execution_count": null,
   "metadata": {},
   "outputs": [
    {
     "data": {
      "text/plain": [
       "['Battery', 'Capacity6000', 'mAh']"
      ]
     },
     "metadata": {},
     "output_type": "display_data"
    }
   ],
   "source": [
    "df['battery'][0].split()"
   ]
  },
  {
   "cell_type": "code",
   "execution_count": null,
   "metadata": {},
   "outputs": [],
   "source": [
    "def extract_battery(row):\n",
    "    return row.split()[1]"
   ]
  },
  {
   "cell_type": "code",
   "execution_count": null,
   "metadata": {},
   "outputs": [],
   "source": [
    "df['battery'] = df['battery'].apply(func=extract_battery)"
   ]
  },
  {
   "cell_type": "code",
   "execution_count": null,
   "metadata": {},
   "outputs": [
    {
     "data": {
      "text/plain": [
       "'Capacity6000'"
      ]
     },
     "metadata": {},
     "output_type": "display_data"
    }
   ],
   "source": [
    "df['battery'][0]"
   ]
  },
  {
   "cell_type": "code",
   "execution_count": null,
   "metadata": {},
   "outputs": [
    {
     "name": "stdout",
     "output_type": "stream",
     "text": [
      "285 : Capacity5000\n",
      "149 : Capacity4000\n",
      "154 : Capacity4000\n",
      "170 : Capacity4000\n",
      "427 : Capacity4100\n",
      "168 : Capacity4000\n"
     ]
    }
   ],
   "source": [
    "random_values('battery')"
   ]
  },
  {
   "cell_type": "code",
   "execution_count": null,
   "metadata": {},
   "outputs": [
    {
     "data": {
      "text/plain": [
       "0      Capacity6000\n",
       "1      Capacity6000\n",
       "2      Capacity5000\n",
       "3      Capacity5000\n",
       "4      Capacity4250\n",
       "           ...     \n",
       "496    Capacity4050\n",
       "497    Capacity4000\n",
       "498    Capacity4520\n",
       "499    Capacity4000\n",
       "500    Capacity3080\n",
       "Name: battery, Length: 501, dtype: object"
      ]
     },
     "metadata": {},
     "output_type": "display_data"
    }
   ],
   "source": [
    "df['battery'].replace('Capacity','')"
   ]
  },
  {
   "cell_type": "code",
   "execution_count": null,
   "metadata": {},
   "outputs": [
    {
     "data": {
      "text/plain": [
       "0      Capacity6000\n",
       "1      Capacity6000\n",
       "2      Capacity5000\n",
       "3      Capacity5000\n",
       "4      Capacity4250\n",
       "           ...     \n",
       "496    Capacity4050\n",
       "497    Capacity4000\n",
       "498    Capacity4520\n",
       "499    Capacity4000\n",
       "500    Capacity3080\n",
       "Name: battery, Length: 501, dtype: object"
      ]
     },
     "metadata": {},
     "output_type": "display_data"
    }
   ],
   "source": [
    "df['battery']"
   ]
  },
  {
   "cell_type": "code",
   "execution_count": null,
   "metadata": {},
   "outputs": [
    {
     "data": {
      "text/plain": [
       "501"
      ]
     },
     "metadata": {},
     "output_type": "display_data"
    }
   ],
   "source": [
    "len(df['battery'])"
   ]
  },
  {
   "cell_type": "code",
   "execution_count": null,
   "metadata": {},
   "outputs": [],
   "source": [
    "# count"
   ]
  },
  {
   "cell_type": "code",
   "execution_count": null,
   "metadata": {},
   "outputs": [
    {
     "name": "stdout",
     "output_type": "stream",
     "text": [
      "looped till 501 index\n"
     ]
    }
   ],
   "source": [
    "count = 0\n",
    "for i in range(0,len(df['battery'])):\n",
    "    # print(i)\n",
    "    df['battery'][i]= df['battery'].iloc[i].replace('Capacity','')\n",
    "    # print(df['battery'][i])\n",
    "    count+=1\n",
    "print(f'looped till {count} index')"
   ]
  },
  {
   "cell_type": "code",
   "execution_count": null,
   "metadata": {},
   "outputs": [],
   "source": [
    "# print(f'looped till {count} index')"
   ]
  },
  {
   "cell_type": "code",
   "execution_count": null,
   "metadata": {},
   "outputs": [
    {
     "data": {
      "text/plain": [
       "'5000'"
      ]
     },
     "metadata": {},
     "output_type": "display_data"
    }
   ],
   "source": [
    "df['battery'].iloc[66]"
   ]
  },
  {
   "cell_type": "code",
   "execution_count": null,
   "metadata": {},
   "outputs": [
    {
     "name": "stdout",
     "output_type": "stream",
     "text": [
      "204 : 5000\n",
      "331 : 5020\n",
      "307 : 5000\n",
      "414 : 5000\n",
      "82 : 5000\n",
      "116 : 4000\n"
     ]
    }
   ],
   "source": [
    "random_values('battery')"
   ]
  },
  {
   "cell_type": "code",
   "execution_count": null,
   "metadata": {},
   "outputs": [
    {
     "data": {
      "text/plain": [
       "(501, 8)"
      ]
     },
     "metadata": {},
     "output_type": "display_data"
    }
   ],
   "source": [
    "df.shape"
   ]
  },
  {
   "cell_type": "markdown",
   "metadata": {},
   "source": [
    "### make ram and storage different columns"
   ]
  },
  {
   "cell_type": "code",
   "execution_count": null,
   "metadata": {},
   "outputs": [
    {
     "name": "stdout",
     "output_type": "stream",
     "text": [
      "149 : Internal Storage256 GBRAM8 GB\n",
      "440 : Internal Storage128 GBRAM8 GBMemory Card Slot TypeDedicated Slot\n",
      "389 : Internal Storage32 GBRAM3 GBExpandable Storage512 GBSupported Memory Card TypemicroSDMemory Card Slot TypeDedicated Slot\n",
      "86 : Internal Storage128 GBRAM6 GBMemory Card Slot TypeDedicated Slot\n",
      "14 : Internal Storage32 GBRAM2 GBExpandable Storage256 GBSupported Memory Card TypemicroSDMemory Card Slot TypeDedicated Slot\n",
      "104 : Internal Storage32 GBRAM3 GBExpandable Storage256 GBSupported Memory Card TypemicroSDMemory Card Slot TypeDedicated Slot\n"
     ]
    }
   ],
   "source": [
    "random_values('storage_ram')"
   ]
  },
  {
   "cell_type": "code",
   "execution_count": null,
   "metadata": {},
   "outputs": [
    {
     "data": {
      "text/plain": [
       "'Storage128'"
      ]
     },
     "metadata": {},
     "output_type": "display_data"
    }
   ],
   "source": [
    "df['storage_ram'][0].split()[1]"
   ]
  },
  {
   "cell_type": "code",
   "execution_count": null,
   "metadata": {},
   "outputs": [],
   "source": [
    "def extract_storage(row):\n",
    "    storage = row.split()[1]\n",
    "    return storage\n",
    "\n",
    "def extract_ram(row):\n",
    "    ram = row.split()[2]\n",
    "    return ram\n"
   ]
  },
  {
   "cell_type": "code",
   "execution_count": null,
   "metadata": {},
   "outputs": [],
   "source": [
    "df['storage'] = df['storage_ram'].apply(func=extract_storage)"
   ]
  },
  {
   "cell_type": "code",
   "execution_count": null,
   "metadata": {},
   "outputs": [],
   "source": [
    "df['ram'] = df['storage_ram'].apply(func=extract_ram)"
   ]
  },
  {
   "cell_type": "code",
   "execution_count": null,
   "metadata": {},
   "outputs": [
    {
     "name": "stdout",
     "output_type": "stream",
     "text": [
      "347 : Storage128\n",
      "379 : Storage64\n",
      "487 : Storage256\n",
      "155 : Storage64\n",
      "9 : Storage64\n",
      "408 : Storage128\n"
     ]
    }
   ],
   "source": [
    "random_values('storage')"
   ]
  },
  {
   "cell_type": "code",
   "execution_count": null,
   "metadata": {},
   "outputs": [
    {
     "name": "stdout",
     "output_type": "stream",
     "text": [
      "looped till 501 index\n"
     ]
    }
   ],
   "source": [
    "import warnings\n",
    "warnings.filterwarnings('ignore')\n",
    "count = 0\n",
    "for i in range(0,len(df['storage'])):\n",
    "    df['storage'][i]= df['storage'].iloc[i].replace('Storage','')\n",
    "    count+=1\n",
    "print(f'looped till {count} index')"
   ]
  },
  {
   "cell_type": "code",
   "execution_count": null,
   "metadata": {},
   "outputs": [
    {
     "name": "stdout",
     "output_type": "stream",
     "text": [
      "152 : 64\n",
      "151 : 64\n",
      "49 : 128\n",
      "55 : 32\n",
      "491 : 256\n",
      "148 : 16\n"
     ]
    }
   ],
   "source": [
    "random_values('storage')"
   ]
  },
  {
   "cell_type": "code",
   "execution_count": null,
   "metadata": {},
   "outputs": [
    {
     "data": {
      "text/html": [
       "<div>\n",
       "<style scoped>\n",
       "    .dataframe tbody tr th:only-of-type {\n",
       "        vertical-align: middle;\n",
       "    }\n",
       "\n",
       "    .dataframe tbody tr th {\n",
       "        vertical-align: top;\n",
       "    }\n",
       "\n",
       "    .dataframe thead th {\n",
       "        text-align: right;\n",
       "    }\n",
       "</style>\n",
       "<table border=\"1\" class=\"dataframe\">\n",
       "  <thead>\n",
       "    <tr style=\"text-align: right;\">\n",
       "      <th></th>\n",
       "      <th>model_names</th>\n",
       "      <th>ratings</th>\n",
       "      <th>price</th>\n",
       "      <th>imgURL</th>\n",
       "      <th>storage_ram</th>\n",
       "      <th>os_processor</th>\n",
       "      <th>network</th>\n",
       "      <th>battery</th>\n",
       "      <th>storage</th>\n",
       "      <th>ram</th>\n",
       "    </tr>\n",
       "  </thead>\n",
       "  <tbody>\n",
       "    <tr>\n",
       "      <th>496</th>\n",
       "      <td>Xiaomi 11i 5G (Camo Green, 128 GB)</td>\n",
       "      <td>4.5</td>\n",
       "      <td>₹26,999</td>\n",
       "      <td>https://rukminim2.flixcart.com/image/312/312/k...</td>\n",
       "      <td>Internal Storage32 GBRAM3 GBExpandable Storage...</td>\n",
       "      <td>Operating SystemAndroid Lollipop 5.1Processor ...</td>\n",
       "      <td>Network Type3G, 4GSupported NetworksGSM, 4G LT...</td>\n",
       "      <td>4050</td>\n",
       "      <td>32</td>\n",
       "      <td>GBRAM3</td>\n",
       "    </tr>\n",
       "    <tr>\n",
       "      <th>497</th>\n",
       "      <td>Redmi Note 3 (Gold, 32 GB)</td>\n",
       "      <td>4.1</td>\n",
       "      <td>₹8,999</td>\n",
       "      <td>https://rukminim2.flixcart.com/image/312/312/m...</td>\n",
       "      <td>Internal Storage32 GBRAM3 GBMemory Card Slot T...</td>\n",
       "      <td>Operating SystemAndroid Pie 9Processor CoreOct...</td>\n",
       "      <td>Network Type4G VOLTESupported Networks4G LTEBl...</td>\n",
       "      <td>4000</td>\n",
       "      <td>32</td>\n",
       "      <td>GBRAM3</td>\n",
       "    </tr>\n",
       "    <tr>\n",
       "      <th>498</th>\n",
       "      <td>Redmi Note 8 (Moonlight White, 32 GB)</td>\n",
       "      <td>4.3</td>\n",
       "      <td>₹11,990</td>\n",
       "      <td>https://rukminim2.flixcart.com/image/312/312/k...</td>\n",
       "      <td>Internal Storage128 GBRAM6 GB</td>\n",
       "      <td>Operating SystemAndroid Nougat 11Processor Cor...</td>\n",
       "      <td>Network Type4G VOLTE, 5GSupported Networks4G V...</td>\n",
       "      <td>4520</td>\n",
       "      <td>128</td>\n",
       "      <td>GBRAM6</td>\n",
       "    </tr>\n",
       "    <tr>\n",
       "      <th>499</th>\n",
       "      <td>MI 11X 5G (CELESTIAL SILVER, 128 GB)</td>\n",
       "      <td>4.3</td>\n",
       "      <td>₹24,999</td>\n",
       "      <td>https://rukminim2.flixcart.com/image/312/312/k...</td>\n",
       "      <td>Internal Storage64 GBRAM4 GBExpandable Storage...</td>\n",
       "      <td>Operating SystemAndroid Nougat 7.1.2Processor ...</td>\n",
       "      <td>Network Type3G, 4G VOLTE, 4GSupported Networks...</td>\n",
       "      <td>4000</td>\n",
       "      <td>64</td>\n",
       "      <td>GBRAM4</td>\n",
       "    </tr>\n",
       "    <tr>\n",
       "      <th>500</th>\n",
       "      <td>Redmi Note 5 Pro (Red, 64 GB)</td>\n",
       "      <td>4.1</td>\n",
       "      <td>₹12,500</td>\n",
       "      <td>https://rukminim2.flixcart.com/image/312/312/j...</td>\n",
       "      <td>Internal Storage64 GBRAM4 GBExpandable Storage...</td>\n",
       "      <td>Operating SystemAndroid Nougat 7.1.2Processor ...</td>\n",
       "      <td>Network Type3G, 4G, 2GSupported NetworksGSM, W...</td>\n",
       "      <td>3080</td>\n",
       "      <td>64</td>\n",
       "      <td>GBRAM4</td>\n",
       "    </tr>\n",
       "  </tbody>\n",
       "</table>\n",
       "</div>"
      ],
      "text/plain": [
       "                               model_names  ratings    price   \n",
       "496     Xiaomi 11i 5G (Camo Green, 128 GB)      4.5  ₹26,999  \\\n",
       "497             Redmi Note 3 (Gold, 32 GB)      4.1   ₹8,999   \n",
       "498  Redmi Note 8 (Moonlight White, 32 GB)      4.3  ₹11,990   \n",
       "499   MI 11X 5G (CELESTIAL SILVER, 128 GB)      4.3  ₹24,999   \n",
       "500          Redmi Note 5 Pro (Red, 64 GB)      4.1  ₹12,500   \n",
       "\n",
       "                                                imgURL   \n",
       "496  https://rukminim2.flixcart.com/image/312/312/k...  \\\n",
       "497  https://rukminim2.flixcart.com/image/312/312/m...   \n",
       "498  https://rukminim2.flixcart.com/image/312/312/k...   \n",
       "499  https://rukminim2.flixcart.com/image/312/312/k...   \n",
       "500  https://rukminim2.flixcart.com/image/312/312/j...   \n",
       "\n",
       "                                           storage_ram   \n",
       "496  Internal Storage32 GBRAM3 GBExpandable Storage...  \\\n",
       "497  Internal Storage32 GBRAM3 GBMemory Card Slot T...   \n",
       "498                      Internal Storage128 GBRAM6 GB   \n",
       "499  Internal Storage64 GBRAM4 GBExpandable Storage...   \n",
       "500  Internal Storage64 GBRAM4 GBExpandable Storage...   \n",
       "\n",
       "                                          os_processor   \n",
       "496  Operating SystemAndroid Lollipop 5.1Processor ...  \\\n",
       "497  Operating SystemAndroid Pie 9Processor CoreOct...   \n",
       "498  Operating SystemAndroid Nougat 11Processor Cor...   \n",
       "499  Operating SystemAndroid Nougat 7.1.2Processor ...   \n",
       "500  Operating SystemAndroid Nougat 7.1.2Processor ...   \n",
       "\n",
       "                                               network battery storage     ram  \n",
       "496  Network Type3G, 4GSupported NetworksGSM, 4G LT...    4050      32  GBRAM3  \n",
       "497  Network Type4G VOLTESupported Networks4G LTEBl...    4000      32  GBRAM3  \n",
       "498  Network Type4G VOLTE, 5GSupported Networks4G V...    4520     128  GBRAM6  \n",
       "499  Network Type3G, 4G VOLTE, 4GSupported Networks...    4000      64  GBRAM4  \n",
       "500  Network Type3G, 4G, 2GSupported NetworksGSM, W...    3080      64  GBRAM4  "
      ]
     },
     "metadata": {},
     "output_type": "display_data"
    }
   ],
   "source": [
    "df.tail()"
   ]
  },
  {
   "cell_type": "code",
   "execution_count": null,
   "metadata": {},
   "outputs": [
    {
     "name": "stdout",
     "output_type": "stream",
     "text": [
      "18 : GBRAM4\n",
      "170 : GBRAM4\n",
      "446 : GBRAM6\n",
      "221 : GBRAM8\n",
      "9 : GBRAM4\n",
      "428 : GBRAM3\n"
     ]
    }
   ],
   "source": [
    "random_values('ram')"
   ]
  },
  {
   "cell_type": "code",
   "execution_count": null,
   "metadata": {},
   "outputs": [
    {
     "name": "stdout",
     "output_type": "stream",
     "text": [
      "looped till 501 index\n"
     ]
    }
   ],
   "source": [
    "import warnings\n",
    "warnings.filterwarnings('ignore')\n",
    "count = 0\n",
    "for i in range(0,len(df['ram'])):\n",
    "    df['ram'][i]= df['ram'].iloc[i].replace('GBRAM','')\n",
    "    count+=1\n",
    "print(f'looped till {count} index')"
   ]
  },
  {
   "cell_type": "code",
   "execution_count": null,
   "metadata": {},
   "outputs": [
    {
     "name": "stdout",
     "output_type": "stream",
     "text": [
      "401 : 3\n",
      "405 : 2\n",
      "91 : 2\n",
      "481 : 8\n",
      "158 : 4\n",
      "38 : 6\n"
     ]
    }
   ],
   "source": [
    "random_values('ram')"
   ]
  },
  {
   "cell_type": "code",
   "execution_count": null,
   "metadata": {},
   "outputs": [
    {
     "data": {
      "text/plain": [
       "'MBRAM64'"
      ]
     },
     "metadata": {},
     "output_type": "display_data"
    }
   ],
   "source": [
    "df['ram'][360] # I am having this values i have to see the another values like this.."
   ]
  },
  {
   "cell_type": "code",
   "execution_count": null,
   "metadata": {},
   "outputs": [
    {
     "data": {
      "text/plain": [
       "['MBRAM64', 'MBRAM64', 'MBRAM64']"
      ]
     },
     "metadata": {},
     "output_type": "display_data"
    }
   ],
   "source": [
    "not_converted_values = []\n",
    "pattern = r'^MBRAM.*'\n",
    "for value in df['ram']:\n",
    "    if re.match(pattern, value):\n",
    "        not_converted_values.append(value)\n",
    "\n",
    "not_converted_values"
   ]
  },
  {
   "cell_type": "markdown",
   "metadata": {},
   "source": [
    "###  I will just remove these rows which have ram in MB"
   ]
  },
  {
   "cell_type": "code",
   "execution_count": null,
   "metadata": {},
   "outputs": [],
   "source": [
    "# I will just remove these rows which have ram in MB\n",
    "# import warnings\n",
    "# warnings.filterwarnings('ignore')\n",
    "# count = 0\n",
    "# for i in range(0,len(df['ram'])):\n",
    "#     df['ram'][i]= df['ram'].iloc[i].replace('MBRAM','')\n",
    "#     count+=1\n",
    "# print(f'looped till {count} index')"
   ]
  },
  {
   "cell_type": "code",
   "execution_count": null,
   "metadata": {},
   "outputs": [
    {
     "data": {
      "text/html": [
       "<div>\n",
       "<style scoped>\n",
       "    .dataframe tbody tr th:only-of-type {\n",
       "        vertical-align: middle;\n",
       "    }\n",
       "\n",
       "    .dataframe tbody tr th {\n",
       "        vertical-align: top;\n",
       "    }\n",
       "\n",
       "    .dataframe thead th {\n",
       "        text-align: right;\n",
       "    }\n",
       "</style>\n",
       "<table border=\"1\" class=\"dataframe\">\n",
       "  <thead>\n",
       "    <tr style=\"text-align: right;\">\n",
       "      <th></th>\n",
       "      <th>model_names</th>\n",
       "      <th>ratings</th>\n",
       "      <th>price</th>\n",
       "      <th>imgURL</th>\n",
       "      <th>storage_ram</th>\n",
       "      <th>os_processor</th>\n",
       "      <th>network</th>\n",
       "      <th>battery</th>\n",
       "      <th>storage</th>\n",
       "      <th>ram</th>\n",
       "    </tr>\n",
       "  </thead>\n",
       "  <tbody>\n",
       "    <tr>\n",
       "      <th>276</th>\n",
       "      <td>Peace Mi4</td>\n",
       "      <td>3.8</td>\n",
       "      <td>₹849</td>\n",
       "      <td>https://rukminim2.flixcart.com/image/312/312/x...</td>\n",
       "      <td>Internal Storage128 MBRAM64 MBMemory Card Slot...</td>\n",
       "      <td>Operating System1.77Primary Clock Speed1.77 MHz</td>\n",
       "      <td>Network Type2GSupported NetworksGSM</td>\n",
       "      <td>2500</td>\n",
       "      <td>128</td>\n",
       "      <td>MBRAM64</td>\n",
       "    </tr>\n",
       "    <tr>\n",
       "      <th>319</th>\n",
       "      <td>Peace Mi3 Pro</td>\n",
       "      <td>3.7</td>\n",
       "      <td>₹799</td>\n",
       "      <td>https://rukminim2.flixcart.com/image/312/312/x...</td>\n",
       "      <td>Internal Storage128 MBRAM64 MBMemory Card Slot...</td>\n",
       "      <td>Operating System1.77Primary Clock Speed1.77 MHz</td>\n",
       "      <td>Network Type2GSupported NetworksGSM</td>\n",
       "      <td>2500</td>\n",
       "      <td>128</td>\n",
       "      <td>MBRAM64</td>\n",
       "    </tr>\n",
       "    <tr>\n",
       "      <th>360</th>\n",
       "      <td>Peace Mi2</td>\n",
       "      <td>4.5</td>\n",
       "      <td>₹849</td>\n",
       "      <td>https://rukminim2.flixcart.com/image/312/312/x...</td>\n",
       "      <td>Internal Storage128 MBRAM64 MBMemory Card Slot...</td>\n",
       "      <td>Operating System1.77Primary Clock Speed1.77 MHz</td>\n",
       "      <td>Network Type2GSupported NetworksGSM</td>\n",
       "      <td>2500</td>\n",
       "      <td>128</td>\n",
       "      <td>MBRAM64</td>\n",
       "    </tr>\n",
       "  </tbody>\n",
       "</table>\n",
       "</div>"
      ],
      "text/plain": [
       "       model_names  ratings price   \n",
       "276      Peace Mi4      3.8  ₹849  \\\n",
       "319  Peace Mi3 Pro      3.7  ₹799   \n",
       "360      Peace Mi2      4.5  ₹849   \n",
       "\n",
       "                                                imgURL   \n",
       "276  https://rukminim2.flixcart.com/image/312/312/x...  \\\n",
       "319  https://rukminim2.flixcart.com/image/312/312/x...   \n",
       "360  https://rukminim2.flixcart.com/image/312/312/x...   \n",
       "\n",
       "                                           storage_ram   \n",
       "276  Internal Storage128 MBRAM64 MBMemory Card Slot...  \\\n",
       "319  Internal Storage128 MBRAM64 MBMemory Card Slot...   \n",
       "360  Internal Storage128 MBRAM64 MBMemory Card Slot...   \n",
       "\n",
       "                                        os_processor   \n",
       "276  Operating System1.77Primary Clock Speed1.77 MHz  \\\n",
       "319  Operating System1.77Primary Clock Speed1.77 MHz   \n",
       "360  Operating System1.77Primary Clock Speed1.77 MHz   \n",
       "\n",
       "                                 network battery storage      ram  \n",
       "276  Network Type2GSupported NetworksGSM    2500     128  MBRAM64  \n",
       "319  Network Type2GSupported NetworksGSM    2500     128  MBRAM64  \n",
       "360  Network Type2GSupported NetworksGSM    2500     128  MBRAM64  "
      ]
     },
     "metadata": {},
     "output_type": "display_data"
    }
   ],
   "source": [
    "df[df['ram'] == 'MBRAM64']"
   ]
  },
  {
   "cell_type": "markdown",
   "metadata": {},
   "source": [
    "![image.png](attachment:image.png)\n",
    "![image-2.png](attachment:image-2.png)\n",
    "![image-2.png](attachment:image-2.png)\n"
   ]
  },
  {
   "cell_type": "code",
   "execution_count": null,
   "metadata": {},
   "outputs": [
    {
     "name": "stdout",
     "output_type": "stream",
     "text": [
      "https://rukminim2.flixcart.com/image/312/312/xif0q/mobile/o/a/l/mi4-mi4-peace-original-imagjvqadcvfehrk.jpeg?q=70\n",
      "https://rukminim2.flixcart.com/image/312/312/xif0q/mobile/m/t/h/mi2-mi2-peace-original-imagpd63qyb3qbeh.jpeg?q=70\n",
      "https://rukminim2.flixcart.com/image/312/312/xif0q/mobile/t/v/r/mi3-pro-mi3-pro-peace-original-imagg2aag6k5vu4p.jpeg?q=70\n",
      "These are keypad mobiles😂\n"
     ]
    }
   ],
   "source": [
    "print(df[df['ram'] == 'MBRAM64'].iloc[0]['imgURL'] )\n",
    "print(df[df['ram'] == 'MBRAM64'].iloc[2]['imgURL'] )\n",
    "print(df[df['ram'] == 'MBRAM64'].iloc[1]['imgURL'] )\n",
    "print('These are keypad mobiles😂')"
   ]
  },
  {
   "cell_type": "code",
   "execution_count": null,
   "metadata": {},
   "outputs": [],
   "source": [
    "df.drop(index=[276,319,360],inplace=True)\n",
    "df.reset_index(inplace=True)"
   ]
  },
  {
   "cell_type": "code",
   "execution_count": null,
   "metadata": {},
   "outputs": [
    {
     "name": "stdout",
     "output_type": "stream",
     "text": [
      "304 : 8\n",
      "261 : 4\n",
      "146 : 3\n",
      "133 : 3\n",
      "289 : 6\n",
      "44 : 6\n",
      "26 : 6\n",
      "337 : 4\n",
      "19 : 4\n",
      "4 : 6\n",
      "345 : 6\n",
      "363 : 4\n",
      "400 : 6\n",
      "434 : 6\n",
      "1 : 8\n"
     ]
    }
   ],
   "source": [
    "random_values('ram',total=15)"
   ]
  },
  {
   "cell_type": "code",
   "execution_count": null,
   "metadata": {},
   "outputs": [
    {
     "data": {
      "text/plain": [
       "[]"
      ]
     },
     "metadata": {},
     "output_type": "display_data"
    }
   ],
   "source": [
    "not_converted_values = []\n",
    "pattern = r'^MBRAM.*'\n",
    "for value in df['ram']:\n",
    "    if re.match(pattern, value):\n",
    "        not_converted_values.append(value)\n",
    "\n",
    "not_converted_values"
   ]
  },
  {
   "cell_type": "code",
   "execution_count": null,
   "metadata": {},
   "outputs": [
    {
     "name": "stdout",
     "output_type": "stream",
     "text": [
      "43 : Internal Storage128 GBRAM8 GB\n",
      "384 : Internal Storage32 GBRAM3 GBExpandable Storage128 GBSupported Memory Card TypeMicroSDMemory Card Slot TypeHybrid SlotCall Log MemoryYes\n",
      "70 : Internal Storage256 GBRAM8 GBMemory Card Slot TypeHybrid Slot\n",
      "200 : Internal Storage256 GBRAM8 GBTotal Memory256 GBCall Log MemoryYes\n",
      "78 : Internal Storage128 GBRAM6 GBMemory Card Slot TypeHybrid Slot\n",
      "277 : Internal Storage64 GBRAM4 GBMemory Card Slot TypeDedicated SlotCall Log MemoryYes\n"
     ]
    }
   ],
   "source": [
    "random_values('storage_ram')"
   ]
  },
  {
   "cell_type": "markdown",
   "metadata": {},
   "source": [
    "## Operating System and Processor\n",
    "### I will extract\n",
    "1) OS\n",
    "2) Processor\n",
    "3) speed"
   ]
  },
  {
   "cell_type": "markdown",
   "metadata": {},
   "source": [
    "### Android Version"
   ]
  },
  {
   "cell_type": "code",
   "execution_count": null,
   "metadata": {},
   "outputs": [
    {
     "name": "stdout",
     "output_type": "stream",
     "text": [
      "487 : Operating SystemAndroid Marshmallow 6.0.1Processor TypeQualcomm Snapdragon 430 64-bit Octa Core 1.4GHzProcessor CoreOcta CorePrimary Clock Speed1.4 GHzOperating FrequencyGSM - 900, 1800; WCDMA - 900, 2100; 4G LTE (TDD) - Band 40, LTE (FDD) - Band 3/5\n",
      "474 : Operating SystemAndroid Q 11Processor CoreDual CorePrimary Clock Speed2.2 GHz\n",
      "315 : Operating SystemAndroid Android 13Processor CoreOcta CorePrimary Clock Speed2.2 GHz\n",
      "270 : Operating SystemAndroid 11Processor TypeQualcomm Snapdragon 680Processor CoreOcta CorePrimary Clock Speed2.4 GHzTertiary Clock Speed2.4 GHzOperating Frequency2G GSM: B2/B3/B5/B8, 3G WCDMA: B1/B5/B8, 4G LTE: B1/B3/B5/8/B40/B41\n",
      "277 : Operating SystemAndroid 11Processor TypeMediatek Dimensity 700Processor CoreOcta CorePrimary Clock Speed2.2 GHzOperating Frequency5G SA: N1, N3, N40, N77, N78, 5G NSA: N78, 4G FDD-LTE: B1/B3/B5/B8, 4G TDD-LTE: B40/B41, 3G WCDMA: B1/B2/B5/B8, 2G GSM: B2/B3/B5/B8\n",
      "461 : Operating SystemAndroid Android 11Processor CoreOcta CorePrimary Clock Speed2.4 GHz\n",
      "279 : Operating SystemAndroid Android 11Processor TypeHelio G88Processor CoreOcta CorePrimary Clock Speed2 GHzSecondary Clock Speed1.8 GHz\n",
      "258 : Operating SystemAndroid 11Processor TypeMediatek Helio G35Processor CoreOcta CorePrimary Clock Speed2.3 GHzSecondary Clock Speed2.3 GHzTertiary Clock Speed2.3 GHzOperating Frequency2G GSM: B2/B3/B5/B8, 3G WCDMA: B1/B5/B8, 4G LTE TDD: B40/B41, 4G LTE FDD: B1/B3/B5/B8\n",
      "248 : Operating SystemAndroid Android 11Processor TypeHelio G88Processor CoreOcta CorePrimary Clock Speed2 GHzSecondary Clock Speed1.8 GHz\n"
     ]
    }
   ],
   "source": [
    "random_values('os_processor',9)"
   ]
  },
  {
   "cell_type": "code",
   "execution_count": null,
   "metadata": {},
   "outputs": [],
   "source": [
    "text = '446 : Operating SystemAndroid Marshmallow 6Processor TypeSnapdragon 820 KryoProcessor CoreQuad CorePrimary Clock Speed1.8 GHzOperating FrequencyGSM - 850, 900, 1800, 1900; WCDMA - 850, 900, 1900, 2100; 4G LTE (TD-SCDMA) - 1900, 2000, LTE (TD) - B38 / B39 / B40 / B41, LTE (FDD) - B1 / B3 / B5 / B7'"
   ]
  },
  {
   "cell_type": "code",
   "execution_count": null,
   "metadata": {},
   "outputs": [
    {
     "data": {
      "text/plain": [
       "'446 : Operating SystemAndroid Marshmallow 6Processor TypeSnapdragon 820 KryoProcessor'"
      ]
     },
     "metadata": {},
     "output_type": "display_data"
    }
   ],
   "source": [
    "pattern = r'.*Processor'\n",
    "re.findall(pattern,text)[0]"
   ]
  },
  {
   "cell_type": "code",
   "execution_count": null,
   "metadata": {},
   "outputs": [],
   "source": [
    "def extract_processor(text):\n",
    "    pattern = r'.*Processor'\n",
    "    match = re.findall(pattern, text)\n",
    "    if match:\n",
    "        return match[0]\n",
    "    else:\n",
    "        return text\n"
   ]
  },
  {
   "cell_type": "code",
   "execution_count": null,
   "metadata": {},
   "outputs": [
    {
     "data": {
      "text/plain": [
       "'39 : Operating SystemAndroid 11Processor'"
      ]
     },
     "metadata": {},
     "output_type": "display_data"
    }
   ],
   "source": [
    "extract_processor('39 : Operating SystemAndroid 11Processor CoreOcta CorePrimary Clock Speed2.4 GHz')"
   ]
  },
  {
   "cell_type": "code",
   "execution_count": null,
   "metadata": {},
   "outputs": [],
   "source": [
    "df['processors'] = df['os_processor'].apply(func=extract_processor)"
   ]
  },
  {
   "cell_type": "code",
   "execution_count": null,
   "metadata": {},
   "outputs": [
    {
     "data": {
      "text/html": [
       "<div>\n",
       "<style scoped>\n",
       "    .dataframe tbody tr th:only-of-type {\n",
       "        vertical-align: middle;\n",
       "    }\n",
       "\n",
       "    .dataframe tbody tr th {\n",
       "        vertical-align: top;\n",
       "    }\n",
       "\n",
       "    .dataframe thead th {\n",
       "        text-align: right;\n",
       "    }\n",
       "</style>\n",
       "<table border=\"1\" class=\"dataframe\">\n",
       "  <thead>\n",
       "    <tr style=\"text-align: right;\">\n",
       "      <th></th>\n",
       "      <th>index</th>\n",
       "      <th>model_names</th>\n",
       "      <th>ratings</th>\n",
       "      <th>price</th>\n",
       "      <th>imgURL</th>\n",
       "      <th>storage_ram</th>\n",
       "      <th>os_processor</th>\n",
       "      <th>network</th>\n",
       "      <th>battery</th>\n",
       "      <th>storage</th>\n",
       "      <th>ram</th>\n",
       "      <th>processors</th>\n",
       "    </tr>\n",
       "  </thead>\n",
       "  <tbody>\n",
       "    <tr>\n",
       "      <th>0</th>\n",
       "      <td>0</td>\n",
       "      <td>REDMI 10 Power (Sporty Orange, 128 GB)</td>\n",
       "      <td>4.2</td>\n",
       "      <td>₹13,500</td>\n",
       "      <td>https://rukminim2.flixcart.com/image/312/312/x...</td>\n",
       "      <td>Internal Storage128 GBRAM8 GBMemory Card Slot ...</td>\n",
       "      <td>Operating SystemAndroid 13Processor CoreOcta C...</td>\n",
       "      <td>Network Type4G VOLTESupported Networks4G LTE</td>\n",
       "      <td>6000</td>\n",
       "      <td>128</td>\n",
       "      <td>8</td>\n",
       "      <td>Operating SystemAndroid 13Processor</td>\n",
       "    </tr>\n",
       "    <tr>\n",
       "      <th>1</th>\n",
       "      <td>1</td>\n",
       "      <td>REDMI 10 Power (Power Black, 128 GB)</td>\n",
       "      <td>4.2</td>\n",
       "      <td>₹12,840</td>\n",
       "      <td>https://rukminim2.flixcart.com/image/312/312/x...</td>\n",
       "      <td>Internal Storage128 GBRAM8 GBMemory Card Slot ...</td>\n",
       "      <td>Operating SystemAndroid 13Processor CoreOcta C...</td>\n",
       "      <td>Network Type4G VOLTESupported Networks4G VoLTE</td>\n",
       "      <td>6000</td>\n",
       "      <td>128</td>\n",
       "      <td>8</td>\n",
       "      <td>Operating SystemAndroid 13Processor</td>\n",
       "    </tr>\n",
       "    <tr>\n",
       "      <th>2</th>\n",
       "      <td>2</td>\n",
       "      <td>Redmi 9A Sport (Metallic Blue, 32 GB)</td>\n",
       "      <td>4.1</td>\n",
       "      <td>₹7,520</td>\n",
       "      <td>https://rukminim2.flixcart.com/image/312/312/x...</td>\n",
       "      <td>Internal Storage32 GBRAM2 GBMemory Card Slot T...</td>\n",
       "      <td>Operating SystemAndroid Q 10Processor CoreOcta...</td>\n",
       "      <td>Network Type4G VOLTE, 4GSupported Networks4G LTE</td>\n",
       "      <td>5000</td>\n",
       "      <td>32</td>\n",
       "      <td>2</td>\n",
       "      <td>Operating SystemAndroid Q 10Processor</td>\n",
       "    </tr>\n",
       "    <tr>\n",
       "      <th>3</th>\n",
       "      <td>3</td>\n",
       "      <td>Redmi 9A Sport (Coral Green, 32 GB)</td>\n",
       "      <td>4.2</td>\n",
       "      <td>₹8,450</td>\n",
       "      <td>https://rukminim2.flixcart.com/image/312/312/x...</td>\n",
       "      <td>Internal Storage32 GBRAM3 GBMemory Card Slot T...</td>\n",
       "      <td>Operating SystemAndroid Q 10Processor CoreOcta...</td>\n",
       "      <td>Network Type4G VOLTE, 4GSupported Networks4G V...</td>\n",
       "      <td>5000</td>\n",
       "      <td>32</td>\n",
       "      <td>3</td>\n",
       "      <td>Operating SystemAndroid Q 10Processor</td>\n",
       "    </tr>\n",
       "    <tr>\n",
       "      <th>4</th>\n",
       "      <td>4</td>\n",
       "      <td>Xiaomi 11Lite NE (Vinyl Black, 128 GB)</td>\n",
       "      <td>4.2</td>\n",
       "      <td>₹21,644</td>\n",
       "      <td>https://rukminim2.flixcart.com/image/312/312/x...</td>\n",
       "      <td>Internal Storage128 GBRAM6 GBExpandable Storag...</td>\n",
       "      <td>Operating SystemAndroid 11Processor TypeQualco...</td>\n",
       "      <td>Network Type5G, 4G VOLTESupported Networks5G, ...</td>\n",
       "      <td>4250</td>\n",
       "      <td>128</td>\n",
       "      <td>6</td>\n",
       "      <td>Operating SystemAndroid 11Processor TypeQualco...</td>\n",
       "    </tr>\n",
       "    <tr>\n",
       "      <th>...</th>\n",
       "      <td>...</td>\n",
       "      <td>...</td>\n",
       "      <td>...</td>\n",
       "      <td>...</td>\n",
       "      <td>...</td>\n",
       "      <td>...</td>\n",
       "      <td>...</td>\n",
       "      <td>...</td>\n",
       "      <td>...</td>\n",
       "      <td>...</td>\n",
       "      <td>...</td>\n",
       "      <td>...</td>\n",
       "    </tr>\n",
       "    <tr>\n",
       "      <th>493</th>\n",
       "      <td>496</td>\n",
       "      <td>Xiaomi 11i 5G (Camo Green, 128 GB)</td>\n",
       "      <td>4.5</td>\n",
       "      <td>₹26,999</td>\n",
       "      <td>https://rukminim2.flixcart.com/image/312/312/k...</td>\n",
       "      <td>Internal Storage32 GBRAM3 GBExpandable Storage...</td>\n",
       "      <td>Operating SystemAndroid Lollipop 5.1Processor ...</td>\n",
       "      <td>Network Type3G, 4GSupported NetworksGSM, 4G LT...</td>\n",
       "      <td>4050</td>\n",
       "      <td>32</td>\n",
       "      <td>3</td>\n",
       "      <td>Operating SystemAndroid Lollipop 5.1Processor ...</td>\n",
       "    </tr>\n",
       "    <tr>\n",
       "      <th>494</th>\n",
       "      <td>497</td>\n",
       "      <td>Redmi Note 3 (Gold, 32 GB)</td>\n",
       "      <td>4.1</td>\n",
       "      <td>₹8,999</td>\n",
       "      <td>https://rukminim2.flixcart.com/image/312/312/m...</td>\n",
       "      <td>Internal Storage32 GBRAM3 GBMemory Card Slot T...</td>\n",
       "      <td>Operating SystemAndroid Pie 9Processor CoreOct...</td>\n",
       "      <td>Network Type4G VOLTESupported Networks4G LTEBl...</td>\n",
       "      <td>4000</td>\n",
       "      <td>32</td>\n",
       "      <td>3</td>\n",
       "      <td>Operating SystemAndroid Pie 9Processor</td>\n",
       "    </tr>\n",
       "    <tr>\n",
       "      <th>495</th>\n",
       "      <td>498</td>\n",
       "      <td>Redmi Note 8 (Moonlight White, 32 GB)</td>\n",
       "      <td>4.3</td>\n",
       "      <td>₹11,990</td>\n",
       "      <td>https://rukminim2.flixcart.com/image/312/312/k...</td>\n",
       "      <td>Internal Storage128 GBRAM6 GB</td>\n",
       "      <td>Operating SystemAndroid Nougat 11Processor Cor...</td>\n",
       "      <td>Network Type4G VOLTE, 5GSupported Networks4G V...</td>\n",
       "      <td>4520</td>\n",
       "      <td>128</td>\n",
       "      <td>6</td>\n",
       "      <td>Operating SystemAndroid Nougat 11Processor</td>\n",
       "    </tr>\n",
       "    <tr>\n",
       "      <th>496</th>\n",
       "      <td>499</td>\n",
       "      <td>MI 11X 5G (CELESTIAL SILVER, 128 GB)</td>\n",
       "      <td>4.3</td>\n",
       "      <td>₹24,999</td>\n",
       "      <td>https://rukminim2.flixcart.com/image/312/312/k...</td>\n",
       "      <td>Internal Storage64 GBRAM4 GBExpandable Storage...</td>\n",
       "      <td>Operating SystemAndroid Nougat 7.1.2Processor ...</td>\n",
       "      <td>Network Type3G, 4G VOLTE, 4GSupported Networks...</td>\n",
       "      <td>4000</td>\n",
       "      <td>64</td>\n",
       "      <td>4</td>\n",
       "      <td>Operating SystemAndroid Nougat 7.1.2Processor ...</td>\n",
       "    </tr>\n",
       "    <tr>\n",
       "      <th>497</th>\n",
       "      <td>500</td>\n",
       "      <td>Redmi Note 5 Pro (Red, 64 GB)</td>\n",
       "      <td>4.1</td>\n",
       "      <td>₹12,500</td>\n",
       "      <td>https://rukminim2.flixcart.com/image/312/312/j...</td>\n",
       "      <td>Internal Storage64 GBRAM4 GBExpandable Storage...</td>\n",
       "      <td>Operating SystemAndroid Nougat 7.1.2Processor ...</td>\n",
       "      <td>Network Type3G, 4G, 2GSupported NetworksGSM, W...</td>\n",
       "      <td>3080</td>\n",
       "      <td>64</td>\n",
       "      <td>4</td>\n",
       "      <td>Operating SystemAndroid Nougat 7.1.2Processor ...</td>\n",
       "    </tr>\n",
       "  </tbody>\n",
       "</table>\n",
       "<p>498 rows × 12 columns</p>\n",
       "</div>"
      ],
      "text/plain": [
       "     index                             model_names  ratings    price   \n",
       "0        0  REDMI 10 Power (Sporty Orange, 128 GB)      4.2  ₹13,500  \\\n",
       "1        1    REDMI 10 Power (Power Black, 128 GB)      4.2  ₹12,840   \n",
       "2        2   Redmi 9A Sport (Metallic Blue, 32 GB)      4.1   ₹7,520   \n",
       "3        3     Redmi 9A Sport (Coral Green, 32 GB)      4.2   ₹8,450   \n",
       "4        4  Xiaomi 11Lite NE (Vinyl Black, 128 GB)      4.2  ₹21,644   \n",
       "..     ...                                     ...      ...      ...   \n",
       "493    496      Xiaomi 11i 5G (Camo Green, 128 GB)      4.5  ₹26,999   \n",
       "494    497              Redmi Note 3 (Gold, 32 GB)      4.1   ₹8,999   \n",
       "495    498   Redmi Note 8 (Moonlight White, 32 GB)      4.3  ₹11,990   \n",
       "496    499    MI 11X 5G (CELESTIAL SILVER, 128 GB)      4.3  ₹24,999   \n",
       "497    500           Redmi Note 5 Pro (Red, 64 GB)      4.1  ₹12,500   \n",
       "\n",
       "                                                imgURL   \n",
       "0    https://rukminim2.flixcart.com/image/312/312/x...  \\\n",
       "1    https://rukminim2.flixcart.com/image/312/312/x...   \n",
       "2    https://rukminim2.flixcart.com/image/312/312/x...   \n",
       "3    https://rukminim2.flixcart.com/image/312/312/x...   \n",
       "4    https://rukminim2.flixcart.com/image/312/312/x...   \n",
       "..                                                 ...   \n",
       "493  https://rukminim2.flixcart.com/image/312/312/k...   \n",
       "494  https://rukminim2.flixcart.com/image/312/312/m...   \n",
       "495  https://rukminim2.flixcart.com/image/312/312/k...   \n",
       "496  https://rukminim2.flixcart.com/image/312/312/k...   \n",
       "497  https://rukminim2.flixcart.com/image/312/312/j...   \n",
       "\n",
       "                                           storage_ram   \n",
       "0    Internal Storage128 GBRAM8 GBMemory Card Slot ...  \\\n",
       "1    Internal Storage128 GBRAM8 GBMemory Card Slot ...   \n",
       "2    Internal Storage32 GBRAM2 GBMemory Card Slot T...   \n",
       "3    Internal Storage32 GBRAM3 GBMemory Card Slot T...   \n",
       "4    Internal Storage128 GBRAM6 GBExpandable Storag...   \n",
       "..                                                 ...   \n",
       "493  Internal Storage32 GBRAM3 GBExpandable Storage...   \n",
       "494  Internal Storage32 GBRAM3 GBMemory Card Slot T...   \n",
       "495                      Internal Storage128 GBRAM6 GB   \n",
       "496  Internal Storage64 GBRAM4 GBExpandable Storage...   \n",
       "497  Internal Storage64 GBRAM4 GBExpandable Storage...   \n",
       "\n",
       "                                          os_processor   \n",
       "0    Operating SystemAndroid 13Processor CoreOcta C...  \\\n",
       "1    Operating SystemAndroid 13Processor CoreOcta C...   \n",
       "2    Operating SystemAndroid Q 10Processor CoreOcta...   \n",
       "3    Operating SystemAndroid Q 10Processor CoreOcta...   \n",
       "4    Operating SystemAndroid 11Processor TypeQualco...   \n",
       "..                                                 ...   \n",
       "493  Operating SystemAndroid Lollipop 5.1Processor ...   \n",
       "494  Operating SystemAndroid Pie 9Processor CoreOct...   \n",
       "495  Operating SystemAndroid Nougat 11Processor Cor...   \n",
       "496  Operating SystemAndroid Nougat 7.1.2Processor ...   \n",
       "497  Operating SystemAndroid Nougat 7.1.2Processor ...   \n",
       "\n",
       "                                               network battery storage ram   \n",
       "0         Network Type4G VOLTESupported Networks4G LTE    6000     128   8  \\\n",
       "1       Network Type4G VOLTESupported Networks4G VoLTE    6000     128   8   \n",
       "2     Network Type4G VOLTE, 4GSupported Networks4G LTE    5000      32   2   \n",
       "3    Network Type4G VOLTE, 4GSupported Networks4G V...    5000      32   3   \n",
       "4    Network Type5G, 4G VOLTESupported Networks5G, ...    4250     128   6   \n",
       "..                                                 ...     ...     ...  ..   \n",
       "493  Network Type3G, 4GSupported NetworksGSM, 4G LT...    4050      32   3   \n",
       "494  Network Type4G VOLTESupported Networks4G LTEBl...    4000      32   3   \n",
       "495  Network Type4G VOLTE, 5GSupported Networks4G V...    4520     128   6   \n",
       "496  Network Type3G, 4G VOLTE, 4GSupported Networks...    4000      64   4   \n",
       "497  Network Type3G, 4G, 2GSupported NetworksGSM, W...    3080      64   4   \n",
       "\n",
       "                                            processors  \n",
       "0                  Operating SystemAndroid 13Processor  \n",
       "1                  Operating SystemAndroid 13Processor  \n",
       "2                Operating SystemAndroid Q 10Processor  \n",
       "3                Operating SystemAndroid Q 10Processor  \n",
       "4    Operating SystemAndroid 11Processor TypeQualco...  \n",
       "..                                                 ...  \n",
       "493  Operating SystemAndroid Lollipop 5.1Processor ...  \n",
       "494             Operating SystemAndroid Pie 9Processor  \n",
       "495         Operating SystemAndroid Nougat 11Processor  \n",
       "496  Operating SystemAndroid Nougat 7.1.2Processor ...  \n",
       "497  Operating SystemAndroid Nougat 7.1.2Processor ...  \n",
       "\n",
       "[498 rows x 12 columns]"
      ]
     },
     "metadata": {},
     "output_type": "display_data"
    }
   ],
   "source": [
    "df"
   ]
  },
  {
   "cell_type": "code",
   "execution_count": null,
   "metadata": {},
   "outputs": [
    {
     "name": "stdout",
     "output_type": "stream",
     "text": [
      "170 : Operating SystemAndroid Pie 9.0Processor TypeQualcomm Snapdragon 675Processor\n",
      "489 : Operating SystemAndroid KitKat 4.4Processor TypeQualcomm Snapdragon 410 MSM8916Processor\n",
      "409 : Operating SystemAndroid Q 11Processor TypeOcta CoreProcessor\n",
      "314 : Operating SystemAndroid 11Processor TypeMediatek Helio G95Processor\n",
      "74 : Operating SystemAndroid 12Processor\n",
      "79 : Operating SystemAndroid Q 11Processor\n",
      "141 : Operating SystemAndroid Nougat 7.1.2Processor TypeQualcomm Snapdragon 425Processor\n",
      "30 : Operating SystemAndroid Oreo 8.1Processor TypeQualcomm Snapdragon 425Processor\n",
      "491 : Operating SystemAndroid Pie 9Processor TypeQualcomm Snapdragon 665Processor\n",
      "125 : Operating SystemAndroid Pie 9Processor TypeQualcomm Snapdragon 675Processor\n"
     ]
    }
   ],
   "source": [
    "random_values('processors',10)"
   ]
  },
  {
   "cell_type": "code",
   "execution_count": null,
   "metadata": {},
   "outputs": [
    {
     "data": {
      "text/plain": [
       "(11, 14)"
      ]
     },
     "metadata": {},
     "output_type": "display_data"
    }
   ],
   "source": [
    "len('12Processor') , len('7.1.2Processor')"
   ]
  },
  {
   "cell_type": "code",
   "execution_count": null,
   "metadata": {},
   "outputs": [
    {
     "data": {
      "text/plain": [
       "12"
      ]
     },
     "metadata": {},
     "output_type": "display_data"
    }
   ],
   "source": [
    "len('8.1Processor')"
   ]
  },
  {
   "cell_type": "code",
   "execution_count": null,
   "metadata": {},
   "outputs": [
    {
     "data": {
      "text/plain": [
       "['Operating', 'SystemAndroid', '13Processor']"
      ]
     },
     "metadata": {},
     "output_type": "display_data"
    }
   ],
   "source": [
    "ls = df['processors'][0].split()\n",
    "ls"
   ]
  },
  {
   "cell_type": "code",
   "execution_count": null,
   "metadata": {},
   "outputs": [
    {
     "data": {
      "text/plain": [
       "<re.Match object; span=(0, 11), match='13Processor'>"
      ]
     },
     "metadata": {},
     "output_type": "display_data"
    }
   ],
   "source": [
    "pattern = '.*Processor$'\n",
    "re.match(pattern=pattern,string=ls[2])"
   ]
  },
  {
   "cell_type": "code",
   "execution_count": null,
   "metadata": {},
   "outputs": [
    {
     "data": {
      "text/plain": [
       "'Operating SystemAndroid 13Processor'"
      ]
     },
     "metadata": {},
     "output_type": "display_data"
    }
   ],
   "source": [
    "ls\n",
    "' '.join(ls)"
   ]
  },
  {
   "cell_type": "code",
   "execution_count": null,
   "metadata": {},
   "outputs": [],
   "source": [
    "# if ls[1] =='SystemAndroid'and :"
   ]
  },
  {
   "cell_type": "code",
   "execution_count": null,
   "metadata": {},
   "outputs": [],
   "source": [
    "pattern = 'Operating SystemAndroid (\\d+(?:\\.\\d+)?)Processor'"
   ]
  },
  {
   "cell_type": "code",
   "execution_count": null,
   "metadata": {},
   "outputs": [
    {
     "data": {
      "text/plain": [
       "['Operating',\n",
       " 'SystemAndroid',\n",
       " 'Nougat',\n",
       " '7.1.2Processor',\n",
       " 'TypeQualcomm',\n",
       " 'Snapdragon',\n",
       " '636Processor']"
      ]
     },
     "metadata": {},
     "output_type": "display_data"
    }
   ],
   "source": [
    "df['processors'][34].split()"
   ]
  },
  {
   "cell_type": "code",
   "execution_count": null,
   "metadata": {},
   "outputs": [
    {
     "data": {
      "text/plain": [
       "['Operating',\n",
       " 'SystemAndroid',\n",
       " 'Nougat',\n",
       " '7.1.2Processor',\n",
       " 'TypeQualcomm',\n",
       " 'Snapdragon',\n",
       " '636Processor']"
      ]
     },
     "metadata": {},
     "output_type": "display_data"
    }
   ],
   "source": [
    "ls = df['processors'][34].split()\n",
    "ls"
   ]
  },
  {
   "cell_type": "code",
   "execution_count": null,
   "metadata": {},
   "outputs": [
    {
     "data": {
      "text/plain": [
       "['7.1.2']"
      ]
     },
     "metadata": {},
     "output_type": "display_data"
    }
   ],
   "source": [
    "pattern = r'\\d+(?:\\.\\d+)+'\n",
    "re.findall(pattern,' '.join(ls))"
   ]
  },
  {
   "cell_type": "code",
   "execution_count": null,
   "metadata": {},
   "outputs": [
    {
     "name": "stdout",
     "output_type": "stream",
     "text": [
      "Operating SystemAndroid 12Processor TypeMediatek Dimensity 1080Processor\n",
      "12P\n",
      "['12P', '1080P']\n",
      "\n",
      "Operating SystemAndroid Q 10Processor\n",
      "10P\n",
      "['10P']\n",
      "\n",
      "Operating SystemAndroid 11Processor TypeQualcomm Snapdragon 888Processor\n",
      "11P\n",
      "['11P', '888P']\n",
      "\n",
      "Operating SystemAndroid KitKat 4.4Processor TypeQualcomm Snapdragon 410 MSM8916Processor\n",
      "4.\n",
      "['4.', '4P', '8916P']\n",
      "\n",
      "Operating SystemAndroid Nougat 7.1.2Processor TypeQualcomm Snapdragon 625Processor\n",
      "7.\n",
      "['7.', '1.', '2P', '625P']\n",
      "\n",
      "Operating SystemAndroid Oreo 8.1Processor TypeQualcomm Snapdragon 636Processor\n",
      "8.\n",
      "['8.', '1P', '636P']\n",
      "\n",
      "Operating SystemAndroid 11Processor\n",
      "11P\n",
      "['11P']\n",
      "\n",
      "Operating SystemAndroid Q 11Processor\n",
      "11P\n",
      "['11P']\n",
      "\n",
      "Operating SystemAndroid Q 11Processor\n",
      "11P\n",
      "['11P']\n",
      "\n",
      "Operating SystemAndroid Oreo 8.0Processor TypeQualcomm Snapdragon 625Processor\n",
      "8.\n",
      "['8.', '0P', '625P']\n",
      "\n"
     ]
    }
   ],
   "source": [
    "# pattern = r'\\d+(?:\\.\\d+)+'\n",
    "pattern=r'^\\d+[Processor]|\\d+[GProcessor]|\\d+[.Processor]'\n",
    "# pattern = r'/^\\d*\\.?\\d*$/'\n",
    "for i in range(0,10):\n",
    "    data = df['processors'].iloc[np.random.randint(df.shape[0])]\n",
    "    print(data)\n",
    "    words = re.findall(pattern,data)\n",
    "    print(words[0])\n",
    "    print(words)\n",
    "    print()"
   ]
  },
  {
   "cell_type": "code",
   "execution_count": null,
   "metadata": {},
   "outputs": [],
   "source": [
    "def android_version(text_):\n",
    "    pattern=r'^\\d+[Processor]|\\d+[GProcessor]|\\d+[.Processor]'\n",
    "    found = re.findall(pattern,text_)\n",
    "    if found:\n",
    "        return found[0]\n",
    "    else:\n",
    "        return np.nan"
   ]
  },
  {
   "cell_type": "code",
   "execution_count": null,
   "metadata": {},
   "outputs": [
    {
     "data": {
      "text/plain": [
       "'13P'"
      ]
     },
     "metadata": {},
     "output_type": "display_data"
    }
   ],
   "source": [
    "android_version(df['processors'][343])"
   ]
  },
  {
   "cell_type": "code",
   "execution_count": null,
   "metadata": {},
   "outputs": [],
   "source": [
    "df['android_version'] = df['processors'].apply(android_version)"
   ]
  },
  {
   "cell_type": "code",
   "execution_count": null,
   "metadata": {},
   "outputs": [
    {
     "name": "stdout",
     "output_type": "stream",
     "text": [
      "247 : 10P\n",
      "435 : 11P\n",
      "49 : 10P\n",
      "494 : 9P\n",
      "141 : 7.\n",
      "263 : 10P\n",
      "30 : 8.\n",
      "97 : 9.\n",
      "361 : 9P\n",
      "169 : 9.\n"
     ]
    }
   ],
   "source": [
    "random_values('android_version',10)"
   ]
  },
  {
   "cell_type": "code",
   "execution_count": null,
   "metadata": {},
   "outputs": [],
   "source": [
    "# def replace(text):\n",
    "#     if text"
   ]
  },
  {
   "cell_type": "code",
   "execution_count": null,
   "metadata": {},
   "outputs": [
    {
     "data": {
      "text/plain": [
       "'6'"
      ]
     },
     "metadata": {},
     "output_type": "display_data"
    }
   ],
   "source": [
    "df['android_version'][109].replace('.','')"
   ]
  },
  {
   "cell_type": "code",
   "execution_count": null,
   "metadata": {},
   "outputs": [],
   "source": [
    "df['android_version']=df['android_version'].replace('P','')"
   ]
  },
  {
   "cell_type": "code",
   "execution_count": null,
   "metadata": {},
   "outputs": [],
   "source": [
    "for Index,i in enumerate(df['android_version']):\n",
    "    # print(i)\n",
    "    i = str(i).replace('P','')\n",
    "    df['android_version'][Index] = i"
   ]
  },
  {
   "cell_type": "code",
   "execution_count": null,
   "metadata": {},
   "outputs": [],
   "source": [
    "for Index,i in enumerate(df['android_version']):\n",
    "    # print(i)\n",
    "    i = str(i).replace('.','')\n",
    "    df['android_version'][Index] = i"
   ]
  },
  {
   "cell_type": "code",
   "execution_count": null,
   "metadata": {},
   "outputs": [
    {
     "name": "stdout",
     "output_type": "stream",
     "text": [
      "194 : 13\n",
      "224 : 12\n",
      "480 : 11\n",
      "56 : 9\n",
      "475 : 11\n",
      "488 : 11\n"
     ]
    }
   ],
   "source": [
    "random_values('android_version')"
   ]
  },
  {
   "cell_type": "markdown",
   "metadata": {},
   "source": [
    "## Processor"
   ]
  },
  {
   "cell_type": "code",
   "execution_count": null,
   "metadata": {},
   "outputs": [
    {
     "name": "stdout",
     "output_type": "stream",
     "text": [
      "90 : Operating SystemAndroid Pie 9.0Processor TypeQualcomm Snapdragon 660 AIEProcessor\n",
      "414 : Operating SystemAndroid Pie 9Processor TypeQualcomm Snapdragon 439Processor\n",
      "380 : Operating SystemAndroid Q 10Processor TypeQualcomm® Snapdragon™ 720GProcessor\n",
      "119 : Operating SystemAndroid Pie 9Processor TypeQualcomm Snapdragon 730Processor\n",
      "85 : Operating SystemAndroid Pie 9Processor TypeQualcomm Snapdragon 439Processor\n",
      "146 : Operating SystemAndroid Oreo 8.1Processor Type2.0 GHz Mediatek P22 OctacoreProcessor\n"
     ]
    }
   ],
   "source": [
    "random_values('processors')"
   ]
  },
  {
   "cell_type": "code",
   "execution_count": null,
   "metadata": {},
   "outputs": [],
   "source": [
    "pattern=r'Gen'\n",
    "index_gens = []\n",
    "for i in range(0,len(df['processors'])):\n",
    "    data = df['processors'][i]\n",
    "    word = re.search(pattern,data)\n",
    "    if word != None:\n",
    "        index_gens.append(i)"
   ]
  },
  {
   "cell_type": "code",
   "execution_count": null,
   "metadata": {},
   "outputs": [
    {
     "data": {
      "text/plain": [
       "[12, 36, 37, 41, 47, 187, 190, 191, 192, 197, 202, 307, 309, 311, 391]"
      ]
     },
     "metadata": {},
     "output_type": "display_data"
    }
   ],
   "source": [
    "index_gens"
   ]
  },
  {
   "cell_type": "code",
   "execution_count": null,
   "metadata": {},
   "outputs": [
    {
     "data": {
      "text/plain": [
       "12     Operating SystemAndroid 12Processor TypeSnapdr...\n",
       "36     Operating SystemAndroid 12Processor TypeSnapdr...\n",
       "37     Operating SystemAndroid 12Processor TypeSnapdr...\n",
       "41     Operating SystemAndroid 12Processor TypeSnapdr...\n",
       "47     Operating SystemAndroid 12Processor TypeSnapdr...\n",
       "187    Operating SystemAndroid 12Processor TypeQualco...\n",
       "190    Operating SystemAndroid 12Processor TypeQualco...\n",
       "191    Operating SystemAndroid 12Processor TypeQualco...\n",
       "192    Operating SystemAndroid 12Processor TypeQualco...\n",
       "197    Operating SystemAndroid 12Processor TypeQualco...\n",
       "202    Operating SystemAndroid 12Processor TypeQualco...\n",
       "307    Operating SystemAndroid 12Processor TypeQualco...\n",
       "309    Operating SystemAndroid 12Processor TypeQualco...\n",
       "311    Operating SystemAndroid 12Processor TypeQualco...\n",
       "391    Operating SystemAndroid 12Processor TypeSnapdr...\n",
       "Name: processors, dtype: object"
      ]
     },
     "metadata": {},
     "output_type": "display_data"
    }
   ],
   "source": [
    "df['processors'].iloc[[12, 36, 37, 41, 47, 187, 190, 191, 192, 197, 202, 307, 309, 311, 391]] # I am not able to see the values"
   ]
  },
  {
   "cell_type": "code",
   "execution_count": null,
   "metadata": {},
   "outputs": [
    {
     "data": {
      "text/plain": [
       "'Operating SystemAndroid 12Processor TypeSnapdragon 8 Gen 1Processor'"
      ]
     },
     "metadata": {},
     "output_type": "display_data"
    }
   ],
   "source": [
    "df['processors'].iloc[12]"
   ]
  },
  {
   "cell_type": "code",
   "execution_count": null,
   "metadata": {},
   "outputs": [
    {
     "name": "stdout",
     "output_type": "stream",
     "text": [
      "Operating SystemAndroid 12Processor TypeSnapdragon 8 Gen 1Processor\n",
      "Operating SystemAndroid 12Processor TypeSnapdragon 8 Gen 1Processor\n",
      "Operating SystemAndroid 12Processor TypeSnapdragon 8 Gen 1Processor\n",
      "Operating SystemAndroid 12Processor TypeSnapdragon 8 Gen 1Processor\n",
      "Operating SystemAndroid 12Processor TypeSnapdragon 8 Gen 1Processor\n",
      "Operating SystemAndroid 12Processor TypeQualcomm Snapdragon 4 Gen 1Processor\n",
      "Operating SystemAndroid 12Processor TypeQualcomm Snapdragon 4 Gen 1Processor\n",
      "Operating SystemAndroid 12Processor TypeQualcomm Snapdragon 4 Gen 1Processor\n",
      "Operating SystemAndroid 12Processor TypeQualcomm Snapdragon 4 Gen 1Processor\n",
      "Operating SystemAndroid 12Processor TypeQualcomm Snapdragon 4 Gen 1Processor\n",
      "Operating SystemAndroid 12Processor TypeQualcomm Snapdragon 4 Gen 1Processor\n",
      "Operating SystemAndroid 12Processor TypeQualcomm Snapdragon 4 Gen 1Processor\n",
      "Operating SystemAndroid 12Processor TypeQualcomm Snapdragon 4 Gen 1Processor\n",
      "Operating SystemAndroid 12Processor TypeQualcomm Snapdragon 4 Gen 1Processor\n",
      "Operating SystemAndroid 12Processor TypeSnapdragon 8 Gen 1Processor\n"
     ]
    }
   ],
   "source": [
    "for i in [12, 36, 37, 41, 47, 187, 190, 191, 192, 197, 202, 307, 309, 311, 391]:\n",
    "    gen_word = df['processors'].iloc[i]\n",
    "    print(gen_word)"
   ]
  },
  {
   "cell_type": "code",
   "execution_count": null,
   "metadata": {},
   "outputs": [
    {
     "data": {
      "text/html": [
       "<div>\n",
       "<style scoped>\n",
       "    .dataframe tbody tr th:only-of-type {\n",
       "        vertical-align: middle;\n",
       "    }\n",
       "\n",
       "    .dataframe tbody tr th {\n",
       "        vertical-align: top;\n",
       "    }\n",
       "\n",
       "    .dataframe thead th {\n",
       "        text-align: right;\n",
       "    }\n",
       "</style>\n",
       "<table border=\"1\" class=\"dataframe\">\n",
       "  <thead>\n",
       "    <tr style=\"text-align: right;\">\n",
       "      <th></th>\n",
       "      <th>index</th>\n",
       "      <th>model_names</th>\n",
       "      <th>ratings</th>\n",
       "      <th>price</th>\n",
       "      <th>imgURL</th>\n",
       "      <th>storage_ram</th>\n",
       "      <th>os_processor</th>\n",
       "      <th>network</th>\n",
       "      <th>battery</th>\n",
       "      <th>storage</th>\n",
       "      <th>ram</th>\n",
       "      <th>processors</th>\n",
       "      <th>android_version</th>\n",
       "    </tr>\n",
       "  </thead>\n",
       "  <tbody>\n",
       "    <tr>\n",
       "      <th>12</th>\n",
       "      <td>12</td>\n",
       "      <td>Xiaomi 12 Pro 5G (Noir Black, 256 GB)</td>\n",
       "      <td>4.2</td>\n",
       "      <td>₹44,999</td>\n",
       "      <td>https://rukminim2.flixcart.com/image/312/312/x...</td>\n",
       "      <td>Internal Storage256 GBRAM12 GBCall Log MemoryYes</td>\n",
       "      <td>Operating SystemAndroid 12Processor TypeSnapdr...</td>\n",
       "      <td>Network Type5G, 4G VOLTE, 4G, 3G, 2GSupported ...</td>\n",
       "      <td>4600</td>\n",
       "      <td>256</td>\n",
       "      <td>12</td>\n",
       "      <td>Operating SystemAndroid 12Processor TypeSnapdr...</td>\n",
       "      <td>12</td>\n",
       "    </tr>\n",
       "    <tr>\n",
       "      <th>36</th>\n",
       "      <td>36</td>\n",
       "      <td>Xiaomi 12 Pro 5G (Opera Mauve, 256 GB)</td>\n",
       "      <td>4.2</td>\n",
       "      <td>₹44,999</td>\n",
       "      <td>https://rukminim2.flixcart.com/image/312/312/x...</td>\n",
       "      <td>Internal Storage256 GBRAM12 GBCall Log MemoryYes</td>\n",
       "      <td>Operating SystemAndroid 12Processor TypeSnapdr...</td>\n",
       "      <td>Network Type5G, 4G VOLTE, 4G, 3G, 2GSupported ...</td>\n",
       "      <td>4600</td>\n",
       "      <td>256</td>\n",
       "      <td>12</td>\n",
       "      <td>Operating SystemAndroid 12Processor TypeSnapdr...</td>\n",
       "      <td>12</td>\n",
       "    </tr>\n",
       "    <tr>\n",
       "      <th>37</th>\n",
       "      <td>37</td>\n",
       "      <td>Xiaomi 12 Pro 5G (Couture Blue, 256 GB)</td>\n",
       "      <td>4.2</td>\n",
       "      <td>₹44,999</td>\n",
       "      <td>https://rukminim2.flixcart.com/image/312/312/x...</td>\n",
       "      <td>Internal Storage256 GBRAM12 GBCall Log MemoryYes</td>\n",
       "      <td>Operating SystemAndroid 12Processor TypeSnapdr...</td>\n",
       "      <td>Network Type5G, 4G VOLTE, 4G, 3G, 2GSupported ...</td>\n",
       "      <td>4600</td>\n",
       "      <td>256</td>\n",
       "      <td>12</td>\n",
       "      <td>Operating SystemAndroid 12Processor TypeSnapdr...</td>\n",
       "      <td>12</td>\n",
       "    </tr>\n",
       "    <tr>\n",
       "      <th>41</th>\n",
       "      <td>41</td>\n",
       "      <td>Xiaomi 12 Pro 5G (Opera Mauve, 256 GB)</td>\n",
       "      <td>4.1</td>\n",
       "      <td>₹41,999</td>\n",
       "      <td>https://rukminim2.flixcart.com/image/312/312/x...</td>\n",
       "      <td>Internal Storage256 GBRAM8 GBCall Log MemoryYes</td>\n",
       "      <td>Operating SystemAndroid 12Processor TypeSnapdr...</td>\n",
       "      <td>Network Type5G, 4G VOLTE, 4G, 3G, 2GSupported ...</td>\n",
       "      <td>4600</td>\n",
       "      <td>256</td>\n",
       "      <td>8</td>\n",
       "      <td>Operating SystemAndroid 12Processor TypeSnapdr...</td>\n",
       "      <td>12</td>\n",
       "    </tr>\n",
       "    <tr>\n",
       "      <th>47</th>\n",
       "      <td>47</td>\n",
       "      <td>Xiaomi 12 Pro 5G (Couture Blue, 256 GB)</td>\n",
       "      <td>4.1</td>\n",
       "      <td>₹41,999</td>\n",
       "      <td>https://rukminim2.flixcart.com/image/312/312/x...</td>\n",
       "      <td>Internal Storage256 GBRAM8 GBCall Log MemoryYes</td>\n",
       "      <td>Operating SystemAndroid 12Processor TypeSnapdr...</td>\n",
       "      <td>Network Type5G, 4G VOLTE, 4G, 3G, 2GSupported ...</td>\n",
       "      <td>4600</td>\n",
       "      <td>256</td>\n",
       "      <td>8</td>\n",
       "      <td>Operating SystemAndroid 12Processor TypeSnapdr...</td>\n",
       "      <td>12</td>\n",
       "    </tr>\n",
       "    <tr>\n",
       "      <th>187</th>\n",
       "      <td>187</td>\n",
       "      <td>REDMI Note 12 5G (Mystique Blue, 128 GB)</td>\n",
       "      <td>4.1</td>\n",
       "      <td>₹18,999</td>\n",
       "      <td>https://rukminim2.flixcart.com/image/312/312/x...</td>\n",
       "      <td>Internal Storage128 GBRAM6 GBExpandable Storag...</td>\n",
       "      <td>Operating SystemAndroid 12Processor TypeQualco...</td>\n",
       "      <td>Network Type5G, 4G VOLTE, 4G, 3G, 2GSupported ...</td>\n",
       "      <td>5000</td>\n",
       "      <td>128</td>\n",
       "      <td>6</td>\n",
       "      <td>Operating SystemAndroid 12Processor TypeQualco...</td>\n",
       "      <td>12</td>\n",
       "    </tr>\n",
       "    <tr>\n",
       "      <th>190</th>\n",
       "      <td>190</td>\n",
       "      <td>REDMI Note 12 5G (Matte Black, 128 GB)</td>\n",
       "      <td>4.0</td>\n",
       "      <td>₹16,999</td>\n",
       "      <td>https://rukminim2.flixcart.com/image/312/312/x...</td>\n",
       "      <td>Internal Storage128 GBRAM4 GBExpandable Storag...</td>\n",
       "      <td>Operating SystemAndroid 12Processor TypeQualco...</td>\n",
       "      <td>Network Type5G, 4G VOLTE, 4G, 3G, 2GSupported ...</td>\n",
       "      <td>5000</td>\n",
       "      <td>128</td>\n",
       "      <td>4</td>\n",
       "      <td>Operating SystemAndroid 12Processor TypeQualco...</td>\n",
       "      <td>12</td>\n",
       "    </tr>\n",
       "    <tr>\n",
       "      <th>191</th>\n",
       "      <td>191</td>\n",
       "      <td>REDMI Note 12 5G (Frosted Green, 128 GB)</td>\n",
       "      <td>4.1</td>\n",
       "      <td>₹18,999</td>\n",
       "      <td>https://rukminim2.flixcart.com/image/312/312/x...</td>\n",
       "      <td>Internal Storage128 GBRAM6 GBExpandable Storag...</td>\n",
       "      <td>Operating SystemAndroid 12Processor TypeQualco...</td>\n",
       "      <td>Network Type5G, 4G VOLTE, 4G, 3G, 2GSupported ...</td>\n",
       "      <td>5000</td>\n",
       "      <td>128</td>\n",
       "      <td>6</td>\n",
       "      <td>Operating SystemAndroid 12Processor TypeQualco...</td>\n",
       "      <td>12</td>\n",
       "    </tr>\n",
       "    <tr>\n",
       "      <th>192</th>\n",
       "      <td>192</td>\n",
       "      <td>REDMI Note 12 5G (Matte Black, 128 GB)</td>\n",
       "      <td>4.1</td>\n",
       "      <td>₹18,999</td>\n",
       "      <td>https://rukminim2.flixcart.com/image/312/312/x...</td>\n",
       "      <td>Internal Storage128 GBRAM6 GBExpandable Storag...</td>\n",
       "      <td>Operating SystemAndroid 12Processor TypeQualco...</td>\n",
       "      <td>Network Type5G, 4G VOLTE, 4G, 3G, 2GSupported ...</td>\n",
       "      <td>5000</td>\n",
       "      <td>128</td>\n",
       "      <td>6</td>\n",
       "      <td>Operating SystemAndroid 12Processor TypeQualco...</td>\n",
       "      <td>12</td>\n",
       "    </tr>\n",
       "    <tr>\n",
       "      <th>197</th>\n",
       "      <td>197</td>\n",
       "      <td>REDMI Note 12 5G (Frosted Green, 128 GB)</td>\n",
       "      <td>4.0</td>\n",
       "      <td>₹16,999</td>\n",
       "      <td>https://rukminim2.flixcart.com/image/312/312/x...</td>\n",
       "      <td>Internal Storage128 GBRAM4 GBExpandable Storag...</td>\n",
       "      <td>Operating SystemAndroid 12Processor TypeQualco...</td>\n",
       "      <td>Network Type5G, 4G VOLTE, 4G, 3G, 2GSupported ...</td>\n",
       "      <td>5000</td>\n",
       "      <td>128</td>\n",
       "      <td>4</td>\n",
       "      <td>Operating SystemAndroid 12Processor TypeQualco...</td>\n",
       "      <td>12</td>\n",
       "    </tr>\n",
       "    <tr>\n",
       "      <th>202</th>\n",
       "      <td>202</td>\n",
       "      <td>REDMI Note 12 5G (Mystique Blue, 128 GB)</td>\n",
       "      <td>4.0</td>\n",
       "      <td>₹16,999</td>\n",
       "      <td>https://rukminim2.flixcart.com/image/312/312/x...</td>\n",
       "      <td>Internal Storage128 GBRAM4 GBExpandable Storag...</td>\n",
       "      <td>Operating SystemAndroid 12Processor TypeQualco...</td>\n",
       "      <td>Network Type5G, 4G VOLTE, 4G, 3G, 2GSupported ...</td>\n",
       "      <td>5000</td>\n",
       "      <td>128</td>\n",
       "      <td>4</td>\n",
       "      <td>Operating SystemAndroid 12Processor TypeQualco...</td>\n",
       "      <td>12</td>\n",
       "    </tr>\n",
       "    <tr>\n",
       "      <th>307</th>\n",
       "      <td>308</td>\n",
       "      <td>REDMI Note 12 5G (Frosted Green, 256 GB)</td>\n",
       "      <td>4.0</td>\n",
       "      <td>₹20,999</td>\n",
       "      <td>https://rukminim2.flixcart.com/image/312/312/x...</td>\n",
       "      <td>Internal Storage256 GBRAM8 GBExpandable Storag...</td>\n",
       "      <td>Operating SystemAndroid 12Processor TypeQualco...</td>\n",
       "      <td>Network Type2G, 3G, 4G, 4G VOLTE, 5GSupported ...</td>\n",
       "      <td>5000</td>\n",
       "      <td>256</td>\n",
       "      <td>8</td>\n",
       "      <td>Operating SystemAndroid 12Processor TypeQualco...</td>\n",
       "      <td>12</td>\n",
       "    </tr>\n",
       "    <tr>\n",
       "      <th>309</th>\n",
       "      <td>310</td>\n",
       "      <td>REDMI Note 12 5G (Matte Black, 256 GB)</td>\n",
       "      <td>4.0</td>\n",
       "      <td>₹20,999</td>\n",
       "      <td>https://rukminim2.flixcart.com/image/312/312/x...</td>\n",
       "      <td>Internal Storage256 GBRAM8 GBExpandable Storag...</td>\n",
       "      <td>Operating SystemAndroid 12Processor TypeQualco...</td>\n",
       "      <td>Network Type5G, 4G VOLTE, 4G, 3G, 2GSupported ...</td>\n",
       "      <td>5000</td>\n",
       "      <td>256</td>\n",
       "      <td>8</td>\n",
       "      <td>Operating SystemAndroid 12Processor TypeQualco...</td>\n",
       "      <td>12</td>\n",
       "    </tr>\n",
       "    <tr>\n",
       "      <th>311</th>\n",
       "      <td>312</td>\n",
       "      <td>REDMI Note 12 5G (Mystique Blue, 256 GB)</td>\n",
       "      <td>4.0</td>\n",
       "      <td>₹20,999</td>\n",
       "      <td>https://rukminim2.flixcart.com/image/312/312/x...</td>\n",
       "      <td>Internal Storage256 GBRAM8 GBExpandable Storag...</td>\n",
       "      <td>Operating SystemAndroid 12Processor TypeQualco...</td>\n",
       "      <td>Network Type2G, 3G, 4G, 4G VOLTE, 5GSupported ...</td>\n",
       "      <td>5000</td>\n",
       "      <td>256</td>\n",
       "      <td>8</td>\n",
       "      <td>Operating SystemAndroid 12Processor TypeQualco...</td>\n",
       "      <td>12</td>\n",
       "    </tr>\n",
       "    <tr>\n",
       "      <th>391</th>\n",
       "      <td>394</td>\n",
       "      <td>Xiaomi 12 Pro 5G (Noir Black, 256 GB)</td>\n",
       "      <td>4.4</td>\n",
       "      <td>₹41,999</td>\n",
       "      <td>https://rukminim2.flixcart.com/image/312/312/x...</td>\n",
       "      <td>Internal Storage256 GBRAM8 GBCall Log MemoryYes</td>\n",
       "      <td>Operating SystemAndroid 12Processor TypeSnapdr...</td>\n",
       "      <td>Network Type5G, 4G VOLTE, 4G, 3G, 2GSupported ...</td>\n",
       "      <td>4600</td>\n",
       "      <td>256</td>\n",
       "      <td>8</td>\n",
       "      <td>Operating SystemAndroid 12Processor TypeSnapdr...</td>\n",
       "      <td>12</td>\n",
       "    </tr>\n",
       "  </tbody>\n",
       "</table>\n",
       "</div>"
      ],
      "text/plain": [
       "     index                               model_names  ratings    price   \n",
       "12      12     Xiaomi 12 Pro 5G (Noir Black, 256 GB)      4.2  ₹44,999  \\\n",
       "36      36    Xiaomi 12 Pro 5G (Opera Mauve, 256 GB)      4.2  ₹44,999   \n",
       "37      37   Xiaomi 12 Pro 5G (Couture Blue, 256 GB)      4.2  ₹44,999   \n",
       "41      41    Xiaomi 12 Pro 5G (Opera Mauve, 256 GB)      4.1  ₹41,999   \n",
       "47      47   Xiaomi 12 Pro 5G (Couture Blue, 256 GB)      4.1  ₹41,999   \n",
       "187    187  REDMI Note 12 5G (Mystique Blue, 128 GB)      4.1  ₹18,999   \n",
       "190    190    REDMI Note 12 5G (Matte Black, 128 GB)      4.0  ₹16,999   \n",
       "191    191  REDMI Note 12 5G (Frosted Green, 128 GB)      4.1  ₹18,999   \n",
       "192    192    REDMI Note 12 5G (Matte Black, 128 GB)      4.1  ₹18,999   \n",
       "197    197  REDMI Note 12 5G (Frosted Green, 128 GB)      4.0  ₹16,999   \n",
       "202    202  REDMI Note 12 5G (Mystique Blue, 128 GB)      4.0  ₹16,999   \n",
       "307    308  REDMI Note 12 5G (Frosted Green, 256 GB)      4.0  ₹20,999   \n",
       "309    310    REDMI Note 12 5G (Matte Black, 256 GB)      4.0  ₹20,999   \n",
       "311    312  REDMI Note 12 5G (Mystique Blue, 256 GB)      4.0  ₹20,999   \n",
       "391    394     Xiaomi 12 Pro 5G (Noir Black, 256 GB)      4.4  ₹41,999   \n",
       "\n",
       "                                                imgURL   \n",
       "12   https://rukminim2.flixcart.com/image/312/312/x...  \\\n",
       "36   https://rukminim2.flixcart.com/image/312/312/x...   \n",
       "37   https://rukminim2.flixcart.com/image/312/312/x...   \n",
       "41   https://rukminim2.flixcart.com/image/312/312/x...   \n",
       "47   https://rukminim2.flixcart.com/image/312/312/x...   \n",
       "187  https://rukminim2.flixcart.com/image/312/312/x...   \n",
       "190  https://rukminim2.flixcart.com/image/312/312/x...   \n",
       "191  https://rukminim2.flixcart.com/image/312/312/x...   \n",
       "192  https://rukminim2.flixcart.com/image/312/312/x...   \n",
       "197  https://rukminim2.flixcart.com/image/312/312/x...   \n",
       "202  https://rukminim2.flixcart.com/image/312/312/x...   \n",
       "307  https://rukminim2.flixcart.com/image/312/312/x...   \n",
       "309  https://rukminim2.flixcart.com/image/312/312/x...   \n",
       "311  https://rukminim2.flixcart.com/image/312/312/x...   \n",
       "391  https://rukminim2.flixcart.com/image/312/312/x...   \n",
       "\n",
       "                                           storage_ram   \n",
       "12    Internal Storage256 GBRAM12 GBCall Log MemoryYes  \\\n",
       "36    Internal Storage256 GBRAM12 GBCall Log MemoryYes   \n",
       "37    Internal Storage256 GBRAM12 GBCall Log MemoryYes   \n",
       "41     Internal Storage256 GBRAM8 GBCall Log MemoryYes   \n",
       "47     Internal Storage256 GBRAM8 GBCall Log MemoryYes   \n",
       "187  Internal Storage128 GBRAM6 GBExpandable Storag...   \n",
       "190  Internal Storage128 GBRAM4 GBExpandable Storag...   \n",
       "191  Internal Storage128 GBRAM6 GBExpandable Storag...   \n",
       "192  Internal Storage128 GBRAM6 GBExpandable Storag...   \n",
       "197  Internal Storage128 GBRAM4 GBExpandable Storag...   \n",
       "202  Internal Storage128 GBRAM4 GBExpandable Storag...   \n",
       "307  Internal Storage256 GBRAM8 GBExpandable Storag...   \n",
       "309  Internal Storage256 GBRAM8 GBExpandable Storag...   \n",
       "311  Internal Storage256 GBRAM8 GBExpandable Storag...   \n",
       "391    Internal Storage256 GBRAM8 GBCall Log MemoryYes   \n",
       "\n",
       "                                          os_processor   \n",
       "12   Operating SystemAndroid 12Processor TypeSnapdr...  \\\n",
       "36   Operating SystemAndroid 12Processor TypeSnapdr...   \n",
       "37   Operating SystemAndroid 12Processor TypeSnapdr...   \n",
       "41   Operating SystemAndroid 12Processor TypeSnapdr...   \n",
       "47   Operating SystemAndroid 12Processor TypeSnapdr...   \n",
       "187  Operating SystemAndroid 12Processor TypeQualco...   \n",
       "190  Operating SystemAndroid 12Processor TypeQualco...   \n",
       "191  Operating SystemAndroid 12Processor TypeQualco...   \n",
       "192  Operating SystemAndroid 12Processor TypeQualco...   \n",
       "197  Operating SystemAndroid 12Processor TypeQualco...   \n",
       "202  Operating SystemAndroid 12Processor TypeQualco...   \n",
       "307  Operating SystemAndroid 12Processor TypeQualco...   \n",
       "309  Operating SystemAndroid 12Processor TypeQualco...   \n",
       "311  Operating SystemAndroid 12Processor TypeQualco...   \n",
       "391  Operating SystemAndroid 12Processor TypeSnapdr...   \n",
       "\n",
       "                                               network battery storage ram   \n",
       "12   Network Type5G, 4G VOLTE, 4G, 3G, 2GSupported ...    4600     256  12  \\\n",
       "36   Network Type5G, 4G VOLTE, 4G, 3G, 2GSupported ...    4600     256  12   \n",
       "37   Network Type5G, 4G VOLTE, 4G, 3G, 2GSupported ...    4600     256  12   \n",
       "41   Network Type5G, 4G VOLTE, 4G, 3G, 2GSupported ...    4600     256   8   \n",
       "47   Network Type5G, 4G VOLTE, 4G, 3G, 2GSupported ...    4600     256   8   \n",
       "187  Network Type5G, 4G VOLTE, 4G, 3G, 2GSupported ...    5000     128   6   \n",
       "190  Network Type5G, 4G VOLTE, 4G, 3G, 2GSupported ...    5000     128   4   \n",
       "191  Network Type5G, 4G VOLTE, 4G, 3G, 2GSupported ...    5000     128   6   \n",
       "192  Network Type5G, 4G VOLTE, 4G, 3G, 2GSupported ...    5000     128   6   \n",
       "197  Network Type5G, 4G VOLTE, 4G, 3G, 2GSupported ...    5000     128   4   \n",
       "202  Network Type5G, 4G VOLTE, 4G, 3G, 2GSupported ...    5000     128   4   \n",
       "307  Network Type2G, 3G, 4G, 4G VOLTE, 5GSupported ...    5000     256   8   \n",
       "309  Network Type5G, 4G VOLTE, 4G, 3G, 2GSupported ...    5000     256   8   \n",
       "311  Network Type2G, 3G, 4G, 4G VOLTE, 5GSupported ...    5000     256   8   \n",
       "391  Network Type5G, 4G VOLTE, 4G, 3G, 2GSupported ...    4600     256   8   \n",
       "\n",
       "                                            processors android_version  \n",
       "12   Operating SystemAndroid 12Processor TypeSnapdr...              12  \n",
       "36   Operating SystemAndroid 12Processor TypeSnapdr...              12  \n",
       "37   Operating SystemAndroid 12Processor TypeSnapdr...              12  \n",
       "41   Operating SystemAndroid 12Processor TypeSnapdr...              12  \n",
       "47   Operating SystemAndroid 12Processor TypeSnapdr...              12  \n",
       "187  Operating SystemAndroid 12Processor TypeQualco...              12  \n",
       "190  Operating SystemAndroid 12Processor TypeQualco...              12  \n",
       "191  Operating SystemAndroid 12Processor TypeQualco...              12  \n",
       "192  Operating SystemAndroid 12Processor TypeQualco...              12  \n",
       "197  Operating SystemAndroid 12Processor TypeQualco...              12  \n",
       "202  Operating SystemAndroid 12Processor TypeQualco...              12  \n",
       "307  Operating SystemAndroid 12Processor TypeQualco...              12  \n",
       "309  Operating SystemAndroid 12Processor TypeQualco...              12  \n",
       "311  Operating SystemAndroid 12Processor TypeQualco...              12  \n",
       "391  Operating SystemAndroid 12Processor TypeSnapdr...              12  "
      ]
     },
     "metadata": {},
     "output_type": "display_data"
    }
   ],
   "source": [
    "df.iloc[index_gens]"
   ]
  },
  {
   "cell_type": "markdown",
   "metadata": {},
   "source": [
    "😍Wow!\n",
    "![image.png](attachment:image.png)"
   ]
  },
  {
   "cell_type": "code",
   "execution_count": null,
   "metadata": {},
   "outputs": [
    {
     "data": {
      "text/plain": [
       "12    ₹44,999\n",
       "Name: price, dtype: object"
      ]
     },
     "metadata": {},
     "output_type": "display_data"
    }
   ],
   "source": [
    "df['price'].iloc[[12]]"
   ]
  },
  {
   "cell_type": "code",
   "execution_count": null,
   "metadata": {},
   "outputs": [
    {
     "data": {
      "text/plain": [
       "'https://rukminim2.flixcart.com/image/312/312/xif0q/mobile/7/y/u/-original-imagqmtfu8gt62yv.jpeg?q=70'"
      ]
     },
     "metadata": {},
     "output_type": "display_data"
    }
   ],
   "source": [
    "df['imgURL'].iloc[12]"
   ]
  },
  {
   "cell_type": "code",
   "execution_count": null,
   "metadata": {},
   "outputs": [
    {
     "data": {
      "text/plain": [
       "0                    Operating SystemAndroid 13Processor\n",
       "1                    Operating SystemAndroid 13Processor\n",
       "2                  Operating SystemAndroid Q 10Processor\n",
       "3                  Operating SystemAndroid Q 10Processor\n",
       "4      Operating SystemAndroid 11Processor TypeQualco...\n",
       "                             ...                        \n",
       "493    Operating SystemAndroid Lollipop 5.1Processor ...\n",
       "494               Operating SystemAndroid Pie 9Processor\n",
       "495           Operating SystemAndroid Nougat 11Processor\n",
       "496    Operating SystemAndroid Nougat 7.1.2Processor ...\n",
       "497    Operating SystemAndroid Nougat 7.1.2Processor ...\n",
       "Name: processors, Length: 498, dtype: object"
      ]
     },
     "metadata": {},
     "output_type": "display_data"
    }
   ],
   "source": [
    "df['processors']"
   ]
  },
  {
   "cell_type": "code",
   "execution_count": null,
   "metadata": {},
   "outputs": [
    {
     "name": "stdout",
     "output_type": "stream",
     "text": [
      "Operating SystemAndroid 12Processor TypeSnapdragon 8 Gen 1Processor\n",
      "8\n",
      "Operating SystemAndroid 12Processor TypeSnapdragon 8 Gen 1Processor\n",
      "8\n",
      "Operating SystemAndroid 12Processor TypeSnapdragon 8 Gen 1Processor\n",
      "8\n",
      "Operating SystemAndroid 12Processor TypeSnapdragon 8 Gen 1Processor\n",
      "8\n",
      "Operating SystemAndroid 12Processor TypeSnapdragon 8 Gen 1Processor\n",
      "8\n",
      "Operating SystemAndroid 12Processor TypeQualcomm Snapdragon 4 Gen 1Processor\n",
      "4\n",
      "Operating SystemAndroid 12Processor TypeQualcomm Snapdragon 4 Gen 1Processor\n",
      "4\n",
      "Operating SystemAndroid 12Processor TypeQualcomm Snapdragon 4 Gen 1Processor\n",
      "4\n",
      "Operating SystemAndroid 12Processor TypeQualcomm Snapdragon 4 Gen 1Processor\n",
      "4\n",
      "Operating SystemAndroid 12Processor TypeQualcomm Snapdragon 4 Gen 1Processor\n",
      "4\n",
      "Operating SystemAndroid 12Processor TypeQualcomm Snapdragon 4 Gen 1Processor\n",
      "4\n",
      "Operating SystemAndroid 12Processor TypeQualcomm Snapdragon 4 Gen 1Processor\n",
      "4\n",
      "Operating SystemAndroid 12Processor TypeQualcomm Snapdragon 4 Gen 1Processor\n",
      "4\n",
      "Operating SystemAndroid 12Processor TypeQualcomm Snapdragon 4 Gen 1Processor\n",
      "4\n",
      "Operating SystemAndroid 12Processor TypeSnapdragon 8 Gen 1Processor\n",
      "8\n"
     ]
    }
   ],
   "source": [
    "\n",
    "for i in [12, 36, 37, 41, 47, 187, 190, 191, 192, 197, 202, 307, 309, 311, 391]:\n",
    "    gen_word = df['processors'].iloc[i]\n",
    "    print(gen_word)\n",
    "    patt = r'\\d'\n",
    "    match = re.findall(patt,gen_word)\n",
    "    print(match[2]) # this is good."
   ]
  },
  {
   "cell_type": "code",
   "execution_count": null,
   "metadata": {},
   "outputs": [
    {
     "name": "stdout",
     "output_type": "stream",
     "text": [
      "Operating SystemAndroid 13Processor\n",
      "Operating SystemAndroid 13Processor\n",
      "Operating SystemAndroid Q 10Processor\n",
      "Operating SystemAndroid Q 10Processor\n",
      "Operating SystemAndroid 11Processor TypeQualcomm Snapdragon 778GProcessor\n",
      "Operating SystemAndroid 11Processor\n",
      "Operating SystemAndroid 11Processor TypeQualcomm Snapdragon 732GProcessor\n",
      "Operating SystemAndroid 11Processor TypeQualcomm Snapdragon 732GProcessor\n",
      "Operating SystemAndroid Q 10Processor\n",
      "Operating SystemAndroid Q 10Processor TypeMediaTek Helio G35Processor\n",
      "Operating SystemAndroid Q 10Processor TypeMediaTek Helio G25Processor\n",
      "Operating SystemAndroid Oreo 8.1Processor Type2.0 GHz Mediatek P22 OctacoreProcessor\n",
      "Operating SystemAndroid 12Processor TypeSnapdragon 8 Gen 1Processor\n",
      "Operating SystemAndroid 11Processor TypeQualcomm Snapdragon 870Processor\n",
      "Operating SystemAndroid Pie 9.0Processor TypeQualcomm Snapdragon 439Processor\n",
      "Operating SystemAndroid Oreo 8.1Processor Type2.0 GHz Mediatek P22 OctacoreProcessor\n",
      "Operating SystemAndroid 11Processor TypeQualcomm Snapdragon 732GProcessor\n",
      "Operating SystemAndroid 11Processor\n",
      "Operating SystemAndroid Q 10Processor\n",
      "Operating SystemAndroid Pie 9Processor TypeQualcomm Snapdragon 439Processor\n",
      "Operating SystemAndroid 11Processor TypeMediatek Dimensity 920Processor\n",
      "Operating SystemAndroid Oreo 8.1Processor TypeQualcomm Snapdragon 636Processor\n",
      "Operating SystemAndroid Oreo 8.1Processor TypeQualcomm Snapdragon 636Processor\n",
      "Operating SystemAndroid Oreo 8.1Processor TypeQualcomm Snapdragon 636Processor\n",
      "Operating SystemAndroid Oreo 8.1Processor TypeQualcomm Snapdragon 636Processor\n",
      "Operating SystemAndroid 10Processor TypeQualcomm Snapdragon 865Processor\n",
      "Operating SystemAndroid Q 11Processor\n",
      "Operating SystemAndroid Q 10Processor\n",
      "Operating SystemAndroid Q 10Processor\n",
      "Operating SystemAndroid Q 10Processor\n",
      "Operating SystemAndroid Oreo 8.1Processor TypeQualcomm Snapdragon 425Processor\n",
      "Operating SystemAndroid 11Processor TypeQualcomm Snapdragon 778GProcessor\n",
      "Operating SystemAndroid Oreo 8.1Processor Type2.0 GHz Mediatek P22 OctacoreProcessor\n",
      "Operating SystemAndroid 11Processor TypeQualcomm Snapdragon 778GProcessor\n",
      "Operating SystemAndroid Nougat 7.1.2Processor TypeQualcomm Snapdragon 636Processor\n",
      "Operating SystemAndroid Oreo 8.1Processor TypeQualcomm Snapdragon 660 AIEProcessor\n",
      "Operating SystemAndroid 12Processor TypeSnapdragon 8 Gen 1Processor\n",
      "Operating SystemAndroid 12Processor TypeSnapdragon 8 Gen 1Processor\n",
      "Operating SystemAndroid 11Processor\n",
      "Operating SystemAndroid 11Processor\n",
      "Operating SystemAndroid 11Processor\n",
      "Operating SystemAndroid 12Processor TypeSnapdragon 8 Gen 1Processor\n",
      "Operating SystemAndroid 11Processor TypeQualcomm Snapdragon 870Processor\n",
      "Operating SystemAndroid 11Processor TypeQualcomm Snapdragon 870Processor\n",
      "Operating SystemAndroid 11Processor TypeQualcomm Snapdragon 870Processor\n",
      "Operating SystemAndroid Q 10Processor\n",
      "Operating SystemAndroid Q 10Processor\n",
      "Operating SystemAndroid 12Processor TypeSnapdragon 8 Gen 1Processor\n",
      "Operating SystemAndroid Q 10Processor TypeMediaTek Helio G25Processor\n",
      "Operating SystemAndroid 10Processor TypeQualcomm Snapdragon 865Processor\n",
      "Operating SystemAndroid Pie 9Processor TypeQualcomm Snapdragon 439Processor\n",
      "Operating SystemAndroid 11Processor TypeMediatek Dimensity 920Processor\n",
      "Operating SystemAndroid Oreo 8.1Processor TypeQualcomm Snapdragon 425Processor\n",
      "Operating SystemAndroid 10Processor TypeQualcomm Snapdragon 865Processor\n",
      "Operating SystemAndroid Oreo 8.1Processor TypeQualcomm Snapdragon 425Processor\n",
      "Operating SystemAndroid Pie 9.0Processor TypeQualcomm Snapdragon 439Processor\n",
      "Operating SystemAndroid Pie 9.0Processor TypeQualcomm Snapdragon 439Processor\n",
      "Operating SystemAndroid Oreo 8.1Processor TypeQualcomm Snapdragon 425Processor\n",
      "Operating SystemAndroid 11Processor\n",
      "Operating SystemAndroid Pie 9.0Processor TypeQualcomm Snapdragon 660 AIEProcessor\n",
      "Operating SystemAndroid Oreo 8.1Processor TypeQualcomm Snapdragon 636Processor\n",
      "Operating SystemAndroid Pie 9.0Processor TypeQualcomm Snapdragon 439Processor\n",
      "Operating SystemAndroid 11Processor TypeQualcomm Snapdragon 778GProcessor\n",
      "Operating SystemAndroid 11Processor TypeQualcomm Snapdragon 778GProcessor\n",
      "Operating SystemAndroid 11Primary Clock Speed2.4 GHz\n",
      "Operating SystemAndroid Pie 9Processor TypeQualcomm Snapdragon 439Processor\n",
      "Operating SystemAndroid 10Processor TypeQualcomm Snapdragon 865Processor\n",
      "Operating SystemAndroid 11Processor TypeQualcomm Snapdragon 870Processor\n",
      "Operating SystemAndroid 11Processor TypeMediatek Dimensity 920Processor\n",
      "Operating SystemAndroid Marshmallow 6.0.1Processor TypeQualcomm Snapdragon 425 1.4 GHzProcessor\n",
      "Operating SystemAndroid Q 11Processor\n",
      "Operating SystemAndroid Pie 9.0Processor TypeQualcomm Snapdragon 439Processor\n",
      "Operating SystemAndroid Android 11Processor\n",
      "Operating SystemAndroid Pie 9.0Processor TypeQualcomm Snapdragon 439Processor\n",
      "Operating SystemAndroid 12Processor\n",
      "Operating SystemAndroid Pie 9.0Processor TypeQualcomm Snapdragon 439Processor\n",
      "Operating SystemAndroid Marshmallow 6.0.1Processor TypeQualcomm Snapdragon 425 1.4 GHzProcessor\n",
      "Operating SystemAndroid Oreo 8.1Processor TypeQualcomm Snapdragon 636Processor\n",
      "Operating SystemAndroid Q 11Processor\n",
      "Operating SystemAndroid Q 11Processor\n",
      "Operating SystemAndroid 10Processor TypeQualcomm Snapdragon 865Processor\n",
      "Operating SystemAndroid 11Processor TypeQualcomm Snapdragon 870Processor\n",
      "Operating SystemAndroid Android 11Processor\n",
      "Operating SystemAndroid Q 11Processor TypeOcta CoreProcessor\n",
      "Operating SystemAndroid Pie 9.0Processor TypeQualcomm Snapdragon 660 AIEProcessor\n",
      "Operating SystemAndroid Pie 9Processor TypeQualcomm Snapdragon 439Processor\n",
      "Operating SystemAndroid Q 11Processor\n",
      "Operating SystemAndroid Q 11Primary Clock Speed2.4 GHz\n",
      "Operating SystemAndroid Pie 9.0Processor TypeQualcomm Snapdragon 660 AIEProcessor\n",
      "Operating SystemAndroid Nougat 7.1.2Processor TypeQualcomm Snapdragon 625Processor\n",
      "Operating SystemAndroid Pie 9.0Processor TypeQualcomm Snapdragon 660 AIEProcessor\n",
      "Operating SystemAndroid Pie 9.0Processor TypeQualcomm Snapdragon 439Processor\n",
      "Operating SystemAndroid 11Processor TypeMediatek Dimensity 920Processor\n",
      "Operating SystemAndroid Pie 9Processor TypeQualcomm Snapdragon 439Processor\n",
      "Operating SystemAndroid Pie 9.0Processor TypeQualcomm Snapdragon 660 AIEProcessor\n",
      "Operating SystemAndroid 11Processor TypeQualcomm Snapdragon 888Processor\n",
      "Operating SystemAndroid 11Processor TypeQualcomm Snapdragon 888Processor\n",
      "Operating SystemAndroid Pie 9.0Processor TypeQualcomm Snapdragon 439Processor\n",
      "Operating SystemAndroid Nougat 7.1.2Processor TypeQualcomm Snapdragon 625Processor\n",
      "Operating SystemAndroid Pie 9.0Processor TypeQualcomm Snapdragon 660 AIEProcessor\n",
      "Operating SystemAndroid Pie 9.0Processor TypeQualcomm Snapdragon 730Processor\n",
      "Operating SystemAndroid 10Processor TypeQualcomm Snapdragon 865Processor\n",
      "Operating SystemAndroid 11Processor TypeQualcomm Snapdragon 778GProcessor\n",
      "Operating SystemAndroid Oreo 8.0Processor TypeQualcomm Snapdragon 625Processor\n",
      "Operating SystemAndroid Oreo 8.0Processor TypeQualcomm Snapdragon 625Processor\n",
      "Operating SystemAndroid 11Processor\n",
      "Operating SystemAndroid 11Processor TypeQualcomm Snapdragon 732GProcessor\n",
      "Operating SystemAndroid Nougat 7.1.2Processor TypeQualcomm Snapdragon 636Processor\n",
      "Operating SystemAndroid Pie 9.0Processor TypeQualcomm Snapdragon 855Processor\n",
      "Operating SystemAndroid Marshmallow 6.0.1Processor TypeQualcomm Snapdragon 430 64-bit Octa Core 1.4GHzProcessor\n",
      "Operating SystemAndroid Nougat 7.1.2Processor TypeQualcomm Snapdragon 625Processor\n",
      "Operating SystemAndroid Pie 9.0Processor TypeQualcomm Snapdragon 439Processor\n",
      "Operating SystemAndroid Pie 9.0Processor TypeQualcomm Snapdragon 730Processor\n",
      "Operating SystemAndroid Q 10Processor TypeQualcomm® Snapdragon™ 720GProcessor\n",
      "Operating SystemAndroid Q 10Processor\n",
      "Operating SystemAndroid 11Processor\n",
      "Operating SystemAndroid Pie 9.0Processor TypeQualcomm Snapdragon 730Processor\n",
      "Operating SystemAndroid Nougat 7.1.2Processor TypeQualcomm Snapdragon 625Processor\n",
      "Operating SystemAndroid Pie 9.0Processor TypeQualcomm Snapdragon 730Processor\n",
      "Operating SystemAndroid Pie 9Processor TypeQualcomm Snapdragon 730Processor\n",
      "Operating SystemAndroid Oreo 8.1Processor TypeQualcomm Snapdragon 636Processor\n",
      "Operating SystemAndroid Pie 9.0Processor TypeQualcomm Snapdragon 730Processor\n",
      "Operating SystemAndroid Oreo 8.1Processor TypeQualcomm Snapdragon 660 AIEProcessor\n",
      "Operating SystemAndroid Oreo 8.1Processor Type2.0 GHz Mediatek P22 OctacoreProcessor\n",
      "Operating SystemAndroid Pie 9Processor TypeQualcomm Snapdragon 660 AIEProcessor\n",
      "Operating SystemAndroid Pie 9Processor TypeQualcomm Snapdragon 675Processor\n",
      "Operating SystemAndroid Pie 9.0Processor TypeQualcomm Snapdragon 675Processor\n",
      "Operating SystemAndroid Nougat 7.1.2Processor TypeQualcomm Snapdragon 625 64 bit Octa Core 2GHzProcessor\n",
      "Operating SystemAndroid 11Processor TypeQualcomm Snapdragon 888Processor\n",
      "Operating SystemAndroid KitKat 4.4.4Processor TypeQualcomm MSM8274AC Snapdragon 801 Krait 400Processor\n",
      "Operating SystemAndroid Pie 9.0Processor TypeQualcomm Snapdragon 730Processor\n",
      "Operating SystemAndroid Pie 9Processor TypeQualcomm Snapdragon 665Processor\n",
      "Operating SystemAndroid 11Processor TypeMediatek Dimensity 920Processor\n",
      "Operating SystemAndroid Oreo 8.1Processor Type2.0 GHz Mediatek P22 OctacoreProcessor\n",
      "Operating SystemAndroid Nougat 7.1.1Processor TypeQualcomm Snapdragon 835 Octa Core 2.5 GHzProcessor\n",
      "Operating SystemAndroid Oreo 8.1Processor Type2.0 GHz Mediatek P22 OctacoreProcessor\n",
      "Operating SystemAndroid Oreo 8.1Processor TypeQualcomm Snapdragon 636Processor\n",
      "Operating SystemAndroid Q 11Processor\n",
      "Operating SystemAndroid Marshmallow 6.0.1Processor TypeQualcomm Snapdragon 625 64-bit Octa Core 2GHzProcessor\n",
      "Operating SystemAndroid Q 11Processor\n",
      "Operating SystemAndroid Nougat 7.1.2Processor TypeQualcomm Snapdragon 625Processor\n",
      "Operating SystemAndroid Nougat 7.1.2Processor TypeQualcomm Snapdragon 425Processor\n",
      "Operating SystemAndroid Nougat 7.1.2Processor TypeQualcomm Snapdragon 425Processor\n",
      "Operating SystemAndroid Nougat 7.1.2Processor TypeQualcomm Snapdragon 425Processor\n",
      "Operating SystemAndroid Nougat 7.1.2Processor TypeQualcomm Snapdragon 636Processor\n",
      "Operating SystemAndroid Nougat 7.1.2Processor TypeQualcomm Snapdragon 425Processor\n",
      "Operating SystemAndroid Oreo 8.1Processor Type2.0 GHz Mediatek P22 OctacoreProcessor\n",
      "Operating SystemAndroid Nougat 7.1.2Processor TypeQualcomm Snapdragon 425Processor\n",
      "Operating SystemAndroid Nougat 7.1.2Processor TypeQualcomm Snapdragon 425Processor\n",
      "Operating SystemAndroid Pie 9.0Processor TypeQualcomm Snapdragon 855Processor\n",
      "Operating SystemAndroid Nougat 7.1.2Processor TypeQualcomm Snapdragon 636Processor\n",
      "Operating SystemAndroid Marshmallow 6.0.1Processor TypeQualcomm Snapdragon 625 64-bit Octa Core 2GHzProcessor\n",
      "Operating SystemAndroid Marshmallow 6.0.1Processor TypeQualcomm Snapdragon 625 64-bit Octa Core 2GHzProcessor\n",
      "Operating SystemAndroid Nougat 7.1.2Processor TypeQualcomm Snapdragon 636Processor\n",
      "Operating SystemAndroid Pie 9.0Processor TypeQualcomm Snapdragon 660 AIEProcessor\n",
      "Operating SystemAndroid Pie 9Processor TypeQualcomm Snapdragon 665Processor\n",
      "Operating SystemAndroid Nougat 7.1.2Processor TypeQualcomm Snapdragon 636Processor\n",
      "Operating SystemAndroid Pie 9.0Processor TypeQualcomm Snapdragon 660 AIEProcessor\n",
      "Operating SystemAndroid Pie 9Processor TypeQualcomm Snapdragon 665Processor\n",
      "Operating SystemAndroid Nougat 7.1.2Processor TypeQualcomm Snapdragon 625 64 bit Octa Core 2GHzProcessor\n",
      "Operating SystemAndroid Pie 9.0Processor TypeQualcomm Snapdragon 855Processor\n",
      "Operating SystemAndroid Pie 9Processor TypeQualcomm Snapdragon 675Processor\n",
      "Operating SystemAndroid Nougat 7.1.2Processor TypeQualcomm Snapdragon 636Processor\n",
      "Operating SystemAndroid Marshmallow 6.0.1Processor TypeQualcomm Snapdragon 625 64-bit Octa Core 2GHzProcessor\n",
      "Operating SystemAndroid Pie 9.0Processor TypeQualcomm Snapdragon 660 AIEProcessor\n",
      "Operating SystemAndroid Pie 9Processor TypeQualcomm Snapdragon 675Processor\n",
      "Operating SystemAndroid Pie 9.0Processor TypeQualcomm Snapdragon 855Processor\n",
      "Operating SystemAndroid Pie 9Processor TypeQualcomm Snapdragon 665Processor\n",
      "Operating SystemAndroid Pie 9.0Processor TypeQualcomm Snapdragon 675Processor\n",
      "Operating SystemAndroid Pie 9.0Processor TypeQualcomm Snapdragon 675Processor\n",
      "Operating SystemAndroid Pie 9.0Processor TypeQualcomm Snapdragon 675Processor\n",
      "Operating SystemAndroid 12Processor TypeHelio G99Processor\n",
      "Operating SystemAndroid 12Processor TypeHelio G99Processor\n",
      "Operating SystemAndroid 12Processor TypeHelio G99Processor\n",
      "Operating SystemAndroid 12 GoProcessor TypeMediatek Helio A22Processor\n",
      "Operating SystemAndroid 11Processor TypeQualcomm Snapdragon 680Processor\n",
      "Operating SystemAndroid 12 GoProcessor TypeMediatek Helio A22Processor\n",
      "Operating SystemAndroid 12 GoProcessor TypeMediatek Helio A22Processor\n",
      "Operating SystemAndroid 12 GoProcessor TypeMediatek Helio A22Processor\n",
      "Operating SystemAndroid 13Processor TypeSnapdragon 685Processor\n",
      "Operating SystemAndroid 12 GoProcessor TypeMediatek Helio A22Processor\n",
      "Operating SystemAndroid 13Processor TypeSnapdragon 685Processor\n",
      "Operating SystemAndroid 12 GoProcessor TypeMediatek Helio A22Processor\n",
      "Operating SystemAndroid 12Processor TypeHelio G99Processor\n",
      "Operating SystemAndroid 12Processor TypeHelio G99Processor\n",
      "Operating SystemAndroid 11Processor TypeQualcomm Snapdragon 680Processor\n",
      "Operating SystemAndroid 12Processor TypeMediatek Dimensity 1080Processor\n",
      "Operating SystemAndroid 12Processor TypeQualcomm Snapdragon 4 Gen 1Processor\n",
      "Operating SystemAndroid 13Processor TypeSnapdragon 685Processor\n",
      "Operating SystemAndroid 12Processor TypeMediatek Dimensity 1080Processor\n",
      "Operating SystemAndroid 12Processor TypeQualcomm Snapdragon 4 Gen 1Processor\n",
      "Operating SystemAndroid 12Processor TypeQualcomm Snapdragon 4 Gen 1Processor\n",
      "Operating SystemAndroid 12Processor TypeQualcomm Snapdragon 4 Gen 1Processor\n",
      "Operating SystemAndroid 12Processor TypeMediatek Dimensity 1080Processor\n",
      "Operating SystemAndroid 13Processor TypeSnapdragon 685Processor\n",
      "Operating SystemAndroid 12Processor TypeDimensity 8100Processor\n",
      "Operating SystemAndroid 13Processor TypeSnapdragon 685Processor\n",
      "Operating SystemAndroid 12Processor TypeQualcomm Snapdragon 4 Gen 1Processor\n",
      "Operating SystemAndroid 12Processor TypeMediatek Dimensity 1080Processor\n",
      "Operating SystemAndroid 12Processor TypeMediatek Dimensity 1080Processor\n",
      "Operating SystemAndroid 12Processor TypeMediatek Dimensity 1080Processor\n",
      "Operating SystemAndroid 11Processor TypeQualcomm Snapdragon 680Processor\n",
      "Operating SystemAndroid 12Processor TypeQualcomm Snapdragon 4 Gen 1Processor\n",
      "Operating SystemAndroid 11Processor TypeQualcomm Snapdragon 680Processor\n",
      "Operating SystemAndroid MIUI 13, Android 12.0Processor\n",
      "Operating SystemAndroid MIUI 13, Android 12.0Processor\n",
      "Operating SystemAndroid MIUI 13, Android 12.0Processor\n",
      "Operating SystemAndroid 12Primary Clock Speed2.2 GHz\n",
      "Operating System12Primary Clock Speed2.2 GHz\n",
      "Operating SystemAndroid 12Processor TypeMediatek Dimensity 1080Processor\n",
      "Operating SystemAndroid Q Android Q 12.5Processor\n",
      "Operating SystemAndroid 11Processor TypeMediatek Dimensity 920Processor\n",
      "Operating SystemAndroid Android 11Processor\n",
      "Operating SystemAndroid Q 11Processor\n",
      "Operating SystemAndroid Nougat 7.1.2Processor TypeQualcomm Snapdragon 625Processor\n",
      "Operating SystemAndroid Q 11Processor\n",
      "Operating SystemAndroid 11Processor TypeQualcomm Snapdragon 888Processor\n",
      "Operating SystemAndroid Pie 10Processor TypeQualcomm Snapdragon 720GProcessor\n",
      "Operating SystemAndroid Oreo 8.1Processor TypeQualcomm Snapdragon 660 AIEProcessor\n",
      "Operating SystemAndroid Oreo 8.1Processor TypeQualcomm Snapdragon 660 AIEProcessor\n",
      "Operating SystemAndroid 13Processor TypeSnapdragon 685Processor\n",
      "Operating SystemAndroid 12Processor TypeMediatek Dimensity 1080Processor\n",
      "Operating SystemAndroid 11Processor TypeMediatek Helio G35Processor\n",
      "Operating SystemAndroid 12Processor TypeMediatek Dimensity 1080Processor\n",
      "Operating SystemAndroid 12Processor TypeDimensity 8100Processor\n",
      "Operating SystemAndroid 11Processor\n",
      "Operating SystemAndroid 11Processor\n",
      "Operating SystemAndroid 12Processor TypeMediatek Dimensity 1080Processor\n",
      "Operating SystemAndroid 12Processor TypeMediatek Dimensity 1080Processor\n",
      "Operating SystemAndroid 12Primary Clock Speed2.2 GHz\n",
      "Operating SystemAndroid 11Processor TypeQualcomm Snapdragon 680Processor\n",
      "Operating System12Primary Clock Speed2.2 GHz\n",
      "Operating SystemAndroid 12Processor TypeHelio G99Processor\n",
      "Operating SystemAndroid 12Processor TypeMediatek Dimensity 1080Processor\n",
      "Operating SystemAndroidPrimary Clock Speed2.2 GHz\n",
      "Operating SystemAndroidPrimary Clock Speed2.2 MHz\n",
      "Operating SystemAndroidProcessor\n",
      "Operating SystemAndroid 12Processor TypeMediatek Dimensity 1080Processor\n",
      "Operating SystemAndroid 11Processor TypeQualcomm Snapdragon 680Processor\n",
      "Operating SystemAndroid Q MIUI 11Processor\n",
      "Operating SystemAndroidProcessor\n",
      "Operating SystemAndroid 12Processor TypeMediatek Dimensity 1080Processor\n",
      "Operating SystemAndroidProcessor\n",
      "Operating SystemAndroid 11Processor TypeMediatek Helio G95Processor\n",
      "Operating SystemAndroid MIUI 13, Android 12.0Processor\n",
      "Operating SystemAndroid Q 11Processor\n",
      "Operating SystemAndroid Q MIUI 13, Android 12.0Processor TypeMediaTek Helio G85Processor\n",
      "Operating SystemAndroid 10Processor TypeMediaTek Helio G80Processor\n",
      "Operating SystemAndroid Android 11Processor TypeHelio G88Processor\n",
      "Operating SystemAndroidProcessor\n",
      "Operating SystemAndroid 10Processor TypeMediaTek Helio G80Processor\n",
      "Operating SystemAndroid 11Processor TypeMediatek Helio G35Processor\n",
      "Operating SystemAndroid Q 11Processor\n",
      "Operating SystemAndroid 12Processor TypeDimensity 8100Processor\n",
      "Operating SystemAndroid MIUI 13, Android 12.0Processor\n",
      "Operating SystemAndroid Q MIUI 13, Android 12.0Processor TypeMediaTek Helio G85Processor\n",
      "Operating SystemAndroid Q Android Q 12.5Processor\n",
      "Operating SystemAndroid 11Processor TypeMediatek Helio G95Processor\n",
      "Operating SystemAndroid 11Processor TypeMediatek Helio G35Processor\n",
      "Operating SystemAndroid Q 10Processor TypeQualcomm Snapdragon 662Processor\n",
      "Operating SystemAndroid Q 11Processor\n",
      "Operating SystemAndroid 11Processor TypeQualcomm Snapdragon 680Processor\n",
      "Operating SystemAndroid 11Processor\n",
      "Operating SystemAndroid 10Processor TypeMediaTek Helio G85Processor\n",
      "Operating SystemAndroid 11Processor TypeMediatek Helio G95Processor\n",
      "Operating SystemAndroid 11Processor\n",
      "Operating SystemAndroid 11Processor TypeMediatek Helio G35Processor\n",
      "Operating SystemAndroid 11Processor\n",
      "Operating SystemAndroid 10Processor TypeMediaTek Helio G85Processor\n",
      "Operating SystemAndroidProcessor\n",
      "Operating SystemAndroid 11Processor TypeQualcomm Snapdragon 680Processor\n",
      "Operating SystemAndroid Q 11Processor\n",
      "Operating SystemAndroid Q 11Processor\n",
      "Operating SystemAndroid 11Processor TypeMediatek Dimensity 700Processor\n",
      "Operating SystemAndroid 11Processor TypeMediatek Dimensity 700Processor\n",
      "Operating SystemAndroidProcessor\n",
      "Operating SystemAndroid Q 11Processor\n",
      "Operating SystemAndroid 11Processor TypeMediatek Dimensity 700Processor\n",
      "Operating SystemAndroid 11Processor\n",
      "Operating SystemAndroid Android 11Processor TypeHelio G88Processor\n",
      "Operating SystemAndroidProcessor\n",
      "Operating SystemAndroid 12Processor TypeDimensity 8100Processor\n",
      "Operating SystemAndroid 12Processor\n",
      "Operating SystemAndroid Q 11Processor\n",
      "Operating SystemAndroid Q 11Processor\n",
      "Operating SystemAndroid 11Processor TypeMediatek Helio G95Processor\n",
      "Operating SystemAndroid 12Processor\n",
      "Operating SystemAndroid 10Processor TypeMediaTek Helio G80Processor\n",
      "Operating SystemAndroid Q 11Processor\n",
      "Operating SystemAndroid Q 11Processor\n",
      "Operating SystemAndroid 12Processor\n",
      "Operating SystemAndroid 11Processor TypeMediatek Dimensity 700Processor\n",
      "Operating SystemAndroidProcessor\n",
      "Operating SystemAndroid 10Processor TypeMediaTek Helio G25Processor\n",
      "Operating SystemAndroid 10Processor TypeMediaTek Helio G85Processor\n",
      "Operating SystemAndroid 10Processor TypeMediaTek Helio G80Processor\n",
      "Operating SystemAndroid Q 11Processor\n",
      "Operating SystemAndroidProcessor\n",
      "Operating SystemAndroid 11Processor TypeMediatek Dimensity 700Processor\n",
      "Operating SystemAndroid 11Processor TypeQualcomm Snapdragon 732GProcessor\n",
      "Operating SystemAndroid 12Processor\n",
      "Operating SystemAndroid Q 11Processor\n",
      "Operating SystemAndroid Q 11Processor\n",
      "Operating SystemAndroid Q 11Processor\n",
      "Operating SystemAndroid Q 11Processor\n",
      "Operating SystemAndroid Android 13Processor\n",
      "Operating SystemAndroid Android 13Processor\n",
      "Operating SystemAndroid 12Processor TypeQualcomm Snapdragon 4 Gen 1Processor\n",
      "Operating SystemAndroid Android 13Processor\n",
      "Operating SystemAndroid 12Processor TypeQualcomm Snapdragon 4 Gen 1Processor\n",
      "Operating SystemAndroid Q 11Processor\n",
      "Operating SystemAndroid 12Processor TypeQualcomm Snapdragon 4 Gen 1Processor\n",
      "Operating SystemAndroid 10Processor TypeMediaTek Helio G80Processor\n",
      "Operating SystemAndroid 10Processor TypeQualcomm Snapdragon 720GProcessor\n",
      "Operating SystemAndroid 11Processor TypeMediatek Helio G95Processor\n",
      "Operating SystemAndroid Android 13Processor\n",
      "Operating SystemAndroid Android 13Processor\n",
      "Operating SystemAndroid 11Processor TypeMediatek Helio G95Processor\n",
      "Operating SystemAndroid Q 10Processor TypeQualcomm Snapdragon 662Processor\n",
      "Operating SystemAndroid 10Processor TypeMediaTek Helio G85Processor\n",
      "Operating SystemAndroid Android 12Processor TypeMediatek Helio G36Processor\n",
      "Operating SystemAndroid Android 13Processor\n",
      "Operating SystemAndroid Android 13Processor\n",
      "Operating SystemAndroid Android 12Processor TypeMediatek Helio G36Processor\n",
      "Operating SystemQ 10Processor TypeQualcomm Snapdragon 662Processor\n",
      "Operating SystemAndroid Q Android Q 12.5Processor\n",
      "Operating SystemAndroid Android 13Processor\n",
      "Operating SystemAndroid 12.0Primary Clock Speed2 GHz\n",
      "Operating SystemAndroid 10Processor TypeMediaTek Helio G85Processor\n",
      "Operating SystemAndroid 12Processor TypeQualcomm Snapdragon 732GProcessor\n",
      "Operating SystemAndroid 11Processor TypeQualcomm Snapdragon 732GProcessor\n",
      "Operating SystemAndroid Android 13Processor\n",
      "Operating SystemAndroid 11Processor TypeMediatek Helio G95Processor\n",
      "Operating SystemAndroid 11Processor TypeMediatek Dimensity 700Processor\n",
      "Operating SystemAndroid 10Processor TypeMediaTek Helio G25Processor\n",
      "Operating SystemAndroid 12Processor\n",
      "Operating SystemAndroid 11Processor\n",
      "Operating SystemAndroid Q MIUI 11Processor\n",
      "Operating SystemAndroid 10Processor TypeMediaTek Helio G85Processor\n",
      "Operating SystemAndroid Q 10Processor\n",
      "Operating SystemAndroid Q Android 11Processor\n",
      "Operating SystemAndroid 10Processor TypeMediaTek Helio G85Processor\n",
      "Operating SystemAndroid Q 10Processor TypeQualcomm Snapdragon 662Processor\n",
      "Operating SystemAndroid Android 13Processor\n",
      "Operating SystemAndroid Android 13Processor\n",
      "Operating SystemAndroid 12Primary Clock Speed2.2 GHz\n",
      "Operating SystemAndroid 10Processor TypeQualcomm Snapdragon 720GProcessor\n",
      "Operating SystemAndroid MIUI 13, Android 12.0Processor\n",
      "Operating SystemAndroid 12.0Primary Clock Speed2 GHz\n",
      "Operating SystemAndroid 12.0Primary Clock Speed2 GHz\n",
      "Operating SystemAndroid 12.0Primary Clock Speed2 GHz\n",
      "Operating SystemAndroid Q 10Processor TypeQualcomm Snapdragon 662Processor\n",
      "Operating SystemAndroid Pie 9Processor TypeMediaTek Helio G90TProcessor\n",
      "Operating SystemAndroid Pie 9Processor TypeMediaTek Helio G90TProcessor\n",
      "Operating SystemAndroid 12.0Primary Clock Speed2 GHz\n",
      "Operating SystemAndroid 12.0Primary Clock Speed2 MHz\n",
      "Operating SystemAndroid 12.0Primary Clock Speed2 GHz\n",
      "Operating SystemAndroid 12.0Primary Clock Speed2 GHz\n",
      "Operating SystemAndroid Pie 9Processor TypeMediaTek Helio G90TProcessor\n",
      "Operating SystemAndroid 12.0Primary Clock Speed2 GHz\n",
      "Operating SystemAndroid Pie 9Processor TypeMediaTek Helio G90TProcessor\n",
      "Operating SystemAndroid Pie 9Processor TypeMediaTek Helio G90TProcessor\n",
      "Operating SystemAndroid Pie 9Processor TypeMediaTek Helio G90TProcessor\n",
      "Operating SystemAndroid Android 12Processor\n",
      "Operating SystemAndroid Android 12Processor\n",
      "Operating SystemAndroid Android 12Processor\n",
      "Operating SystemAndroid 11Processor TypeQualcomm Snapdragon 678Processor\n",
      "Operating SystemAndroid Pie 9Processor TypeMediaTek Helio G90TProcessor\n",
      "Operating SystemAndroid 12Processor TypeMediatek MT6769Z Helio G85Processor\n",
      "Operating SystemAndroid Oreo 8.1Processor\n",
      "Operating SystemAndroid Oreo 8.1Processor\n",
      "Operating SystemAndroid Oreo 8.1Processor\n",
      "Operating SystemAndroid Pie 9.0Processor TypeQualcomm Snapdragon 660 AIEProcessor\n",
      "Operating SystemAndroid 11Processor TypeQualcomm Snapdragon 778GProcessor\n",
      "Operating SystemAndroid Pie 9.0Processor TypeQualcomm Snapdragon 660 AIEProcessor\n",
      "Operating SystemAndroid Oreo 8.1Processor TypeQualcomm Snapdragon 636Processor\n",
      "Operating SystemAndroid Pie 9Processor TypeQualcomm Snapdragon 439Processor\n",
      "Operating SystemAndroid Jelly Bean 4.3Processor TypeMSM8228Processor\n",
      "Operating SystemAndroid Q 10Processor\n",
      "Operating SystemAndroid Pie 10Processor TypeQualcomm® Snapdragon™ 720GProcessor\n",
      "Operating SystemAndroid Q 10Processor TypeQualcomm® Snapdragon™ 720GProcessor\n",
      "Operating SystemAndroid Pie 10Processor TypeQualcomm® Snapdragon™ 720GProcessor\n",
      "Operating SystemAndroid Pie 10Processor TypeQualcomm® Snapdragon™ 720GProcessor\n",
      "Operating SystemAndroid Pie 10Processor TypeQualcomm® Snapdragon™ 720GProcessor\n",
      "Operating SystemAndroid Marshmallow 6.0.1Processor TypeQualcomm Snapdragon 650 64-bitProcessor\n",
      "Operating SystemAndroid Oreo 8.1Processor TypeMediateckProcessor\n",
      "Operating SystemAndroid Pie 9.0Processor TypeQualcomm Snapdragon 439Processor\n",
      "Operating SystemAndroid Q 11Processor\n",
      "Operating SystemAndroid Q 11Processor\n",
      "Operating SystemAndroid 11Processor\n",
      "Operating SystemAndroid 11Processor\n",
      "Operating SystemAndroid 12Processor TypeSnapdragon 8 Gen 1Processor\n",
      "Operating SystemAndroid 11Processor\n",
      "Operating SystemAndroid Pie 9.0Processor TypeQualcomm Snapdragon 439Processor\n",
      "Operating SystemAndroid Pie 9Processor TypeQualcomm Snapdragon 665Processor\n",
      "Operating SystemAndroid 11Processor\n",
      "Operating SystemAndroid 11Processor TypeQualcomm Snapdragon 732GProcessor\n",
      "Operating SystemAndroid 11Processor TypeQualcomm Snapdragon 732GProcessor\n",
      "Operating SystemAndroid Marshmallow 6Processor TypeSnapdragon 820 KryoProcessor\n",
      "Operating SystemAndroid Marshmallow 6.0.1Processor TypeQualcomm Snapdragon 430 64-bit Octa Core 1.4GHzProcessor\n",
      "Operating SystemAndroid Pie 9.0Processor TypeQualcomm Snapdragon 730Processor\n",
      "Operating SystemAndroid 11Processor\n",
      "Operating SystemAndroid Marshmallow 6.0.1Processor TypeQualcomm Snapdragon 430 64-bit Octa Core 1.4GHzProcessor\n",
      "Operating SystemAndroid Marshmallow 6.0.1Processor TypeQualcomm Snapdragon 430 64-bit Octa Core 1.4GHzProcessor\n",
      "Operating SystemAndroid 11Processor\n",
      "Operating SystemAndroid Pie 9.0Processor TypeQualcomm Snapdragon 675Processor\n",
      "Operating SystemAndroid Pie 10Processor TypeQualcomm® Snapdragon™ 720GProcessor\n",
      "Operating SystemAndroid Pie 10Processor TypeQualcomm® Snapdragon™ 720GProcessor\n",
      "Operating SystemAndroid Oreo 8.1Processor TypeMediateckProcessor\n",
      "Operating SystemAndroid Q 11Processor TypeOcta CoreProcessor\n",
      "Operating SystemAndroid Q 11Processor\n",
      "Operating SystemAndroid Q 11Processor\n",
      "Operating SystemAndroid Android 10Processor\n",
      "Operating SystemAndroid Q 11Primary Clock Speed2.4 GHz\n",
      "Operating SystemAndroid Pie 9Processor TypeQualcomm Snapdragon 439Processor\n",
      "Operating SystemAndroid 11Processor TypeQualcomm Snapdragon 778GProcessor\n",
      "Operating SystemAndroid Oreo 8.1Processor TypeQualcomm Snapdragon 660 AIEProcessor\n",
      "Operating SystemAndroid Android 11Processor\n",
      "Operating SystemAndroid Q 11Processor\n",
      "Operating SystemAndroid 11Processor TypeMediatek Dimensity 920Processor\n",
      "Operating SystemAndroid 11Processor\n",
      "Operating SystemAndroid Oreo 8.1Processor TypeMediateckProcessor\n",
      "Operating SystemAndroid Q 11Processor\n",
      "Operating SystemAndroid Nougat 7.1Processor TypeQualcomm Snapdragon 450Processor\n",
      "Operating SystemAndroid Marshmallow 6.0.1Processor TypeQualcomm Snapdragon 625 64-bit Octa Core 2GHzProcessor\n",
      "Operating SystemAndroid Marshmallow 6.0.1Processor TypeQualcomm Snapdragon 625 64-bit Octa Core 2GHzProcessor\n",
      "Operating SystemAndroid Pie 9.0Processor TypeQualcomm Snapdragon 730Processor\n",
      "Operating SystemAndroid Q 11Processor\n",
      "Operating SystemAndroid Q 11Processor\n",
      "Operating SystemAndroid 10Processor\n",
      "Operating SystemAndroid 10Processor TypeQualcomm Snapdragon 865Processor\n",
      "Operating SystemAndroid 11Processor TypeMediatek Dimensity 920Processor\n",
      "Operating SystemAndroid 11Processor TypeMediatek Dimensity 920Processor\n",
      "Operating SystemAndroid Marshmallow 6Processor TypeSnapdragon 820 KryoProcessor\n",
      "Operating SystemAndroid 11Processor TypeMediatek Dimensity 920Processor\n",
      "Operating SystemAndroid 11Primary Clock Speed2.4 GHz\n",
      "Operating SystemAndroid Pie 9.0Processor TypeQualcomm Snapdragon 855Processor\n",
      "Operating SystemAndroid Q Android 11Processor\n",
      "Operating SystemAndroid Pie 9Processor TypeQualcomm Snapdragon 665Processor\n",
      "Operating SystemAndroid Q 11Processor TypeQualcomm® Snapdragon™ 750GProcessor\n",
      "Operating SystemAndroid Pie 9.0Processor TypeQualcomm Snapdragon 855Processor\n",
      "Operating SystemAndroid 11Processor TypeMediatek Dimensity 920Processor\n",
      "Operating SystemAndroid Marshmallow 6.0.1Processor TypeQualcomm Snapdragon 650 64-bitProcessor\n",
      "Operating SystemAndroid Nougat 7.1.2Processor TypeQualcomm Snapdragon 636Processor\n",
      "Operating SystemAndroid Pie 9Processor TypeQualcomm Snapdragon 855Processor\n",
      "Operating SystemAndroid Oreo 8.1Processor TypeQualcomm Snapdragon 660 AIEProcessor\n",
      "Operating SystemAndroid Marshmallow 6Processor TypeSnapdragon 820 KryoProcessor\n",
      "Operating SystemAndroid Oreo 8.1Processor TypeQualcomm Snapdragon 660 AIEProcessor\n",
      "Operating SystemAndroid 11Processor TypeQualcomm Snapdragon 888Processor\n",
      "Operating SystemAndroid Lollipop 5.0.2Processor Type2nd-gen Snapdragon 615 64-bit octa-coreProcessor\n",
      "Operating SystemAndroid Pie 9Processor TypeQualcomm Snapdragon 675Processor\n",
      "Operating SystemAndroid Nougat 7.1Processor TypeQualcomm Snapdragon 450Processor\n",
      "Operating SystemAndroid Nougat 7.1Processor TypeQualcomm Snapdragon 450Processor\n",
      "Operating SystemAndroid Marshmallow 6.0.1Processor TypeQualcomm Snapdragon 650 64-bitProcessor\n",
      "Operating SystemAndroid Oreo 8.1Processor TypeQualcomm Snapdragon 660 AIEProcessor\n",
      "Operating SystemAndroid KitKat 4.4.2Processor Typequalcomm Qualcomm Snapdragon 800 8274AB Quad Core 2.3GHzProcessor\n",
      "Operating SystemAndroid 11Processor TypeMediatek Dimensity 920Processor\n",
      "Operating SystemAndroid Q 12Processor TypeMediatek Helio G25Processor\n",
      "Operating SystemAndroid Pie 9.0Processor TypeQualcomm Snapdragon 660 AIEProcessor\n",
      "Operating SystemAndroid Pie 9Processor TypeQualcomm Snapdragon 665Processor\n",
      "Operating SystemAndroid 11Processor TypeMediatek Dimensity 920Processor\n",
      "Operating SystemAndroid Android 11Processor\n",
      "Operating SystemAndroid Oreo 8.1Processor TypeQualcomm Snapdragon 660 AIEProcessor\n",
      "Operating SystemAndroid Nougat 7.1Processor\n",
      "Operating SystemAndroid Oreo 8.0Processor TypeQualcomm Snapdragon 625Processor\n",
      "Operating SystemAndroid Oreo 8.0Processor TypeQualcomm Snapdragon 625Processor\n",
      "Operating SystemAndroid Oreo 8.0Processor TypeQualcomm Snapdragon 625Processor\n",
      "Operating SystemAndroid Q 11Processor\n",
      "Operating SystemAndroid Q 11Processor\n",
      "Operating SystemAndroid Q 11Processor\n",
      "Operating SystemAndroid Pie 9Processor TypeQualcomm Snapdragon 665Processor\n",
      "Operating SystemAndroid Nougat 7.1.2Processor TypeQualcomm Snapdragon 625 64 bit Octa Core 2GHzProcessor\n",
      "Operating SystemAndroid Pie 9.0Processor TypeQualcomm Snapdragon 855Processor\n",
      "Operating SystemAndroid Pie 9.0Processor TypeQualcomm Snapdragon 675Processor\n",
      "Operating SystemAndroid Q 11Processor\n",
      "Operating SystemAndroid MIUI 12, Android 11.0Processor\n",
      "Operating SystemAndroid Marshmallow 6.0.1Processor TypeQualcomm Snapdragon 430 64-bit Octa Core 1.4GHzProcessor\n",
      "Operating SystemAndroid Pie 9.0Processor TypeQualcomm Snapdragon 675Processor\n",
      "Operating SystemAndroid MIUI 12, Android 11.0Processor\n",
      "Operating SystemAndroid Marshmallow 6.0.1Processor TypeQualcomm Snapdragon 430 64-bit Octa Core 1.4GHzProcessor\n",
      "Operating SystemAndroid Q 11Processor\n",
      "Operating SystemAndroid 10Processor TypeQualcomm Snapdragon 865Processor\n",
      "Operating SystemAndroid 10Processor TypeQualcomm Snapdragon 865Processor\n",
      "Operating SystemAndroid Q 11Processor\n",
      "Operating SystemAndroid MIUI 14, Android 13.0Processor\n",
      "Operating SystemAndroid 11Processor TypeMediatek Dimensity 920Processor\n",
      "Operating SystemAndroid Oreo 8.0Processor TypeQualcomm Snapdragon 625Processor\n",
      "Operating SystemAndroid Marshmallow 6.0.1Processor TypeQualcomm Snapdragon 430 64-bit Octa Core 1.4GHzProcessor\n",
      "Operating SystemAndroid Q 11Processor\n",
      "Operating SystemAndroid KitKat 4.4Processor TypeQualcomm Snapdragon 410 MSM8916Processor\n",
      "Operating SystemAndroid KitKat 4.4Processor TypeQualcomm Snapdragon 410 MSM8916Processor\n",
      "Operating SystemAndroid Pie 9Processor TypeQualcomm Snapdragon 665Processor\n",
      "Operating SystemAndroid 11Processor TypeMediatek Dimensity 920Processor\n",
      "Operating SystemAndroid Lollipop 5.1Processor TypeQualcomm Snapdragon 650 64-bit 0 1.8GHzProcessor\n",
      "Operating SystemAndroid Pie 9Processor\n",
      "Operating SystemAndroid Nougat 11Processor\n",
      "Operating SystemAndroid Nougat 7.1.2Processor TypeQualcomm Snapdragon 636Processor\n",
      "Operating SystemAndroid Nougat 7.1.2Processor TypeQualcomm Snapdragon 435Processor\n"
     ]
    }
   ],
   "source": [
    "for i in df['processors']:\n",
    "    print(i)"
   ]
  },
  {
   "cell_type": "code",
   "execution_count": null,
   "metadata": {},
   "outputs": [],
   "source": [
    "def get_processors(txt):\n",
    "    pattern=r'Gen'\n",
    "    found = re.search(pattern,txt)\n",
    "    if found != None:\n",
    "        pattern_ = r'\\d'\n",
    "        match = re.findall(pattern_,txt)\n",
    "        return match[2]\n",
    "    else:\n",
    "        return txt\n"
   ]
  },
  {
   "cell_type": "code",
   "execution_count": null,
   "metadata": {},
   "outputs": [
    {
     "data": {
      "text/plain": [
       "'8'"
      ]
     },
     "metadata": {},
     "output_type": "display_data"
    }
   ],
   "source": [
    "get_processors(df['processors'][12])"
   ]
  },
  {
   "cell_type": "code",
   "execution_count": null,
   "metadata": {},
   "outputs": [],
   "source": [
    "df['processor_type'] =df['processors'].apply(get_processors)"
   ]
  },
  {
   "cell_type": "code",
   "execution_count": null,
   "metadata": {},
   "outputs": [
    {
     "name": "stdout",
     "output_type": "stream",
     "text": [
      "390 : Operating SystemAndroid 11Processor\n",
      "442 : Operating SystemAndroid Marshmallow 6.0.1Processor TypeQualcomm Snapdragon 650 64-bitProcessor\n",
      "8 : Operating SystemAndroid Q 10Processor\n",
      "313 : Operating SystemAndroid 10Processor TypeQualcomm Snapdragon 720GProcessor\n",
      "385 : Operating SystemAndroid Oreo 8.1Processor TypeMediateckProcessor\n",
      "442 : Operating SystemAndroid Marshmallow 6.0.1Processor TypeQualcomm Snapdragon 650 64-bitProcessor\n"
     ]
    }
   ],
   "source": [
    "random_values('processor_type')"
   ]
  },
  {
   "cell_type": "code",
   "execution_count": null,
   "metadata": {},
   "outputs": [
    {
     "data": {
      "text/html": [
       "<div>\n",
       "<style scoped>\n",
       "    .dataframe tbody tr th:only-of-type {\n",
       "        vertical-align: middle;\n",
       "    }\n",
       "\n",
       "    .dataframe tbody tr th {\n",
       "        vertical-align: top;\n",
       "    }\n",
       "\n",
       "    .dataframe thead th {\n",
       "        text-align: right;\n",
       "    }\n",
       "</style>\n",
       "<table border=\"1\" class=\"dataframe\">\n",
       "  <thead>\n",
       "    <tr style=\"text-align: right;\">\n",
       "      <th></th>\n",
       "      <th>index</th>\n",
       "      <th>model_names</th>\n",
       "      <th>ratings</th>\n",
       "      <th>price</th>\n",
       "      <th>imgURL</th>\n",
       "      <th>storage_ram</th>\n",
       "      <th>os_processor</th>\n",
       "      <th>network</th>\n",
       "      <th>battery</th>\n",
       "      <th>storage</th>\n",
       "      <th>ram</th>\n",
       "      <th>processors</th>\n",
       "      <th>android_version</th>\n",
       "      <th>processor_type</th>\n",
       "    </tr>\n",
       "  </thead>\n",
       "  <tbody>\n",
       "    <tr>\n",
       "      <th>0</th>\n",
       "      <td>0</td>\n",
       "      <td>REDMI 10 Power (Sporty Orange, 128 GB)</td>\n",
       "      <td>4.2</td>\n",
       "      <td>₹13,500</td>\n",
       "      <td>https://rukminim2.flixcart.com/image/312/312/x...</td>\n",
       "      <td>Internal Storage128 GBRAM8 GBMemory Card Slot ...</td>\n",
       "      <td>Operating SystemAndroid 13Processor CoreOcta C...</td>\n",
       "      <td>Network Type4G VOLTESupported Networks4G LTE</td>\n",
       "      <td>6000</td>\n",
       "      <td>128</td>\n",
       "      <td>8</td>\n",
       "      <td>Operating SystemAndroid 13Processor</td>\n",
       "      <td>13</td>\n",
       "      <td>Operating SystemAndroid 13Processor</td>\n",
       "    </tr>\n",
       "    <tr>\n",
       "      <th>1</th>\n",
       "      <td>1</td>\n",
       "      <td>REDMI 10 Power (Power Black, 128 GB)</td>\n",
       "      <td>4.2</td>\n",
       "      <td>₹12,840</td>\n",
       "      <td>https://rukminim2.flixcart.com/image/312/312/x...</td>\n",
       "      <td>Internal Storage128 GBRAM8 GBMemory Card Slot ...</td>\n",
       "      <td>Operating SystemAndroid 13Processor CoreOcta C...</td>\n",
       "      <td>Network Type4G VOLTESupported Networks4G VoLTE</td>\n",
       "      <td>6000</td>\n",
       "      <td>128</td>\n",
       "      <td>8</td>\n",
       "      <td>Operating SystemAndroid 13Processor</td>\n",
       "      <td>13</td>\n",
       "      <td>Operating SystemAndroid 13Processor</td>\n",
       "    </tr>\n",
       "    <tr>\n",
       "      <th>2</th>\n",
       "      <td>2</td>\n",
       "      <td>Redmi 9A Sport (Metallic Blue, 32 GB)</td>\n",
       "      <td>4.1</td>\n",
       "      <td>₹7,520</td>\n",
       "      <td>https://rukminim2.flixcart.com/image/312/312/x...</td>\n",
       "      <td>Internal Storage32 GBRAM2 GBMemory Card Slot T...</td>\n",
       "      <td>Operating SystemAndroid Q 10Processor CoreOcta...</td>\n",
       "      <td>Network Type4G VOLTE, 4GSupported Networks4G LTE</td>\n",
       "      <td>5000</td>\n",
       "      <td>32</td>\n",
       "      <td>2</td>\n",
       "      <td>Operating SystemAndroid Q 10Processor</td>\n",
       "      <td>10</td>\n",
       "      <td>Operating SystemAndroid Q 10Processor</td>\n",
       "    </tr>\n",
       "    <tr>\n",
       "      <th>3</th>\n",
       "      <td>3</td>\n",
       "      <td>Redmi 9A Sport (Coral Green, 32 GB)</td>\n",
       "      <td>4.2</td>\n",
       "      <td>₹8,450</td>\n",
       "      <td>https://rukminim2.flixcart.com/image/312/312/x...</td>\n",
       "      <td>Internal Storage32 GBRAM3 GBMemory Card Slot T...</td>\n",
       "      <td>Operating SystemAndroid Q 10Processor CoreOcta...</td>\n",
       "      <td>Network Type4G VOLTE, 4GSupported Networks4G V...</td>\n",
       "      <td>5000</td>\n",
       "      <td>32</td>\n",
       "      <td>3</td>\n",
       "      <td>Operating SystemAndroid Q 10Processor</td>\n",
       "      <td>10</td>\n",
       "      <td>Operating SystemAndroid Q 10Processor</td>\n",
       "    </tr>\n",
       "    <tr>\n",
       "      <th>4</th>\n",
       "      <td>4</td>\n",
       "      <td>Xiaomi 11Lite NE (Vinyl Black, 128 GB)</td>\n",
       "      <td>4.2</td>\n",
       "      <td>₹21,644</td>\n",
       "      <td>https://rukminim2.flixcart.com/image/312/312/x...</td>\n",
       "      <td>Internal Storage128 GBRAM6 GBExpandable Storag...</td>\n",
       "      <td>Operating SystemAndroid 11Processor TypeQualco...</td>\n",
       "      <td>Network Type5G, 4G VOLTESupported Networks5G, ...</td>\n",
       "      <td>4250</td>\n",
       "      <td>128</td>\n",
       "      <td>6</td>\n",
       "      <td>Operating SystemAndroid 11Processor TypeQualco...</td>\n",
       "      <td>11</td>\n",
       "      <td>Operating SystemAndroid 11Processor TypeQualco...</td>\n",
       "    </tr>\n",
       "    <tr>\n",
       "      <th>...</th>\n",
       "      <td>...</td>\n",
       "      <td>...</td>\n",
       "      <td>...</td>\n",
       "      <td>...</td>\n",
       "      <td>...</td>\n",
       "      <td>...</td>\n",
       "      <td>...</td>\n",
       "      <td>...</td>\n",
       "      <td>...</td>\n",
       "      <td>...</td>\n",
       "      <td>...</td>\n",
       "      <td>...</td>\n",
       "      <td>...</td>\n",
       "      <td>...</td>\n",
       "    </tr>\n",
       "    <tr>\n",
       "      <th>493</th>\n",
       "      <td>496</td>\n",
       "      <td>Xiaomi 11i 5G (Camo Green, 128 GB)</td>\n",
       "      <td>4.5</td>\n",
       "      <td>₹26,999</td>\n",
       "      <td>https://rukminim2.flixcart.com/image/312/312/k...</td>\n",
       "      <td>Internal Storage32 GBRAM3 GBExpandable Storage...</td>\n",
       "      <td>Operating SystemAndroid Lollipop 5.1Processor ...</td>\n",
       "      <td>Network Type3G, 4GSupported NetworksGSM, 4G LT...</td>\n",
       "      <td>4050</td>\n",
       "      <td>32</td>\n",
       "      <td>3</td>\n",
       "      <td>Operating SystemAndroid Lollipop 5.1Processor ...</td>\n",
       "      <td>5</td>\n",
       "      <td>Operating SystemAndroid Lollipop 5.1Processor ...</td>\n",
       "    </tr>\n",
       "    <tr>\n",
       "      <th>494</th>\n",
       "      <td>497</td>\n",
       "      <td>Redmi Note 3 (Gold, 32 GB)</td>\n",
       "      <td>4.1</td>\n",
       "      <td>₹8,999</td>\n",
       "      <td>https://rukminim2.flixcart.com/image/312/312/m...</td>\n",
       "      <td>Internal Storage32 GBRAM3 GBMemory Card Slot T...</td>\n",
       "      <td>Operating SystemAndroid Pie 9Processor CoreOct...</td>\n",
       "      <td>Network Type4G VOLTESupported Networks4G LTEBl...</td>\n",
       "      <td>4000</td>\n",
       "      <td>32</td>\n",
       "      <td>3</td>\n",
       "      <td>Operating SystemAndroid Pie 9Processor</td>\n",
       "      <td>9</td>\n",
       "      <td>Operating SystemAndroid Pie 9Processor</td>\n",
       "    </tr>\n",
       "    <tr>\n",
       "      <th>495</th>\n",
       "      <td>498</td>\n",
       "      <td>Redmi Note 8 (Moonlight White, 32 GB)</td>\n",
       "      <td>4.3</td>\n",
       "      <td>₹11,990</td>\n",
       "      <td>https://rukminim2.flixcart.com/image/312/312/k...</td>\n",
       "      <td>Internal Storage128 GBRAM6 GB</td>\n",
       "      <td>Operating SystemAndroid Nougat 11Processor Cor...</td>\n",
       "      <td>Network Type4G VOLTE, 5GSupported Networks4G V...</td>\n",
       "      <td>4520</td>\n",
       "      <td>128</td>\n",
       "      <td>6</td>\n",
       "      <td>Operating SystemAndroid Nougat 11Processor</td>\n",
       "      <td>11</td>\n",
       "      <td>Operating SystemAndroid Nougat 11Processor</td>\n",
       "    </tr>\n",
       "    <tr>\n",
       "      <th>496</th>\n",
       "      <td>499</td>\n",
       "      <td>MI 11X 5G (CELESTIAL SILVER, 128 GB)</td>\n",
       "      <td>4.3</td>\n",
       "      <td>₹24,999</td>\n",
       "      <td>https://rukminim2.flixcart.com/image/312/312/k...</td>\n",
       "      <td>Internal Storage64 GBRAM4 GBExpandable Storage...</td>\n",
       "      <td>Operating SystemAndroid Nougat 7.1.2Processor ...</td>\n",
       "      <td>Network Type3G, 4G VOLTE, 4GSupported Networks...</td>\n",
       "      <td>4000</td>\n",
       "      <td>64</td>\n",
       "      <td>4</td>\n",
       "      <td>Operating SystemAndroid Nougat 7.1.2Processor ...</td>\n",
       "      <td>7</td>\n",
       "      <td>Operating SystemAndroid Nougat 7.1.2Processor ...</td>\n",
       "    </tr>\n",
       "    <tr>\n",
       "      <th>497</th>\n",
       "      <td>500</td>\n",
       "      <td>Redmi Note 5 Pro (Red, 64 GB)</td>\n",
       "      <td>4.1</td>\n",
       "      <td>₹12,500</td>\n",
       "      <td>https://rukminim2.flixcart.com/image/312/312/j...</td>\n",
       "      <td>Internal Storage64 GBRAM4 GBExpandable Storage...</td>\n",
       "      <td>Operating SystemAndroid Nougat 7.1.2Processor ...</td>\n",
       "      <td>Network Type3G, 4G, 2GSupported NetworksGSM, W...</td>\n",
       "      <td>3080</td>\n",
       "      <td>64</td>\n",
       "      <td>4</td>\n",
       "      <td>Operating SystemAndroid Nougat 7.1.2Processor ...</td>\n",
       "      <td>7</td>\n",
       "      <td>Operating SystemAndroid Nougat 7.1.2Processor ...</td>\n",
       "    </tr>\n",
       "  </tbody>\n",
       "</table>\n",
       "<p>498 rows × 14 columns</p>\n",
       "</div>"
      ],
      "text/plain": [
       "     index                             model_names  ratings    price   \n",
       "0        0  REDMI 10 Power (Sporty Orange, 128 GB)      4.2  ₹13,500  \\\n",
       "1        1    REDMI 10 Power (Power Black, 128 GB)      4.2  ₹12,840   \n",
       "2        2   Redmi 9A Sport (Metallic Blue, 32 GB)      4.1   ₹7,520   \n",
       "3        3     Redmi 9A Sport (Coral Green, 32 GB)      4.2   ₹8,450   \n",
       "4        4  Xiaomi 11Lite NE (Vinyl Black, 128 GB)      4.2  ₹21,644   \n",
       "..     ...                                     ...      ...      ...   \n",
       "493    496      Xiaomi 11i 5G (Camo Green, 128 GB)      4.5  ₹26,999   \n",
       "494    497              Redmi Note 3 (Gold, 32 GB)      4.1   ₹8,999   \n",
       "495    498   Redmi Note 8 (Moonlight White, 32 GB)      4.3  ₹11,990   \n",
       "496    499    MI 11X 5G (CELESTIAL SILVER, 128 GB)      4.3  ₹24,999   \n",
       "497    500           Redmi Note 5 Pro (Red, 64 GB)      4.1  ₹12,500   \n",
       "\n",
       "                                                imgURL   \n",
       "0    https://rukminim2.flixcart.com/image/312/312/x...  \\\n",
       "1    https://rukminim2.flixcart.com/image/312/312/x...   \n",
       "2    https://rukminim2.flixcart.com/image/312/312/x...   \n",
       "3    https://rukminim2.flixcart.com/image/312/312/x...   \n",
       "4    https://rukminim2.flixcart.com/image/312/312/x...   \n",
       "..                                                 ...   \n",
       "493  https://rukminim2.flixcart.com/image/312/312/k...   \n",
       "494  https://rukminim2.flixcart.com/image/312/312/m...   \n",
       "495  https://rukminim2.flixcart.com/image/312/312/k...   \n",
       "496  https://rukminim2.flixcart.com/image/312/312/k...   \n",
       "497  https://rukminim2.flixcart.com/image/312/312/j...   \n",
       "\n",
       "                                           storage_ram   \n",
       "0    Internal Storage128 GBRAM8 GBMemory Card Slot ...  \\\n",
       "1    Internal Storage128 GBRAM8 GBMemory Card Slot ...   \n",
       "2    Internal Storage32 GBRAM2 GBMemory Card Slot T...   \n",
       "3    Internal Storage32 GBRAM3 GBMemory Card Slot T...   \n",
       "4    Internal Storage128 GBRAM6 GBExpandable Storag...   \n",
       "..                                                 ...   \n",
       "493  Internal Storage32 GBRAM3 GBExpandable Storage...   \n",
       "494  Internal Storage32 GBRAM3 GBMemory Card Slot T...   \n",
       "495                      Internal Storage128 GBRAM6 GB   \n",
       "496  Internal Storage64 GBRAM4 GBExpandable Storage...   \n",
       "497  Internal Storage64 GBRAM4 GBExpandable Storage...   \n",
       "\n",
       "                                          os_processor   \n",
       "0    Operating SystemAndroid 13Processor CoreOcta C...  \\\n",
       "1    Operating SystemAndroid 13Processor CoreOcta C...   \n",
       "2    Operating SystemAndroid Q 10Processor CoreOcta...   \n",
       "3    Operating SystemAndroid Q 10Processor CoreOcta...   \n",
       "4    Operating SystemAndroid 11Processor TypeQualco...   \n",
       "..                                                 ...   \n",
       "493  Operating SystemAndroid Lollipop 5.1Processor ...   \n",
       "494  Operating SystemAndroid Pie 9Processor CoreOct...   \n",
       "495  Operating SystemAndroid Nougat 11Processor Cor...   \n",
       "496  Operating SystemAndroid Nougat 7.1.2Processor ...   \n",
       "497  Operating SystemAndroid Nougat 7.1.2Processor ...   \n",
       "\n",
       "                                               network battery storage ram   \n",
       "0         Network Type4G VOLTESupported Networks4G LTE    6000     128   8  \\\n",
       "1       Network Type4G VOLTESupported Networks4G VoLTE    6000     128   8   \n",
       "2     Network Type4G VOLTE, 4GSupported Networks4G LTE    5000      32   2   \n",
       "3    Network Type4G VOLTE, 4GSupported Networks4G V...    5000      32   3   \n",
       "4    Network Type5G, 4G VOLTESupported Networks5G, ...    4250     128   6   \n",
       "..                                                 ...     ...     ...  ..   \n",
       "493  Network Type3G, 4GSupported NetworksGSM, 4G LT...    4050      32   3   \n",
       "494  Network Type4G VOLTESupported Networks4G LTEBl...    4000      32   3   \n",
       "495  Network Type4G VOLTE, 5GSupported Networks4G V...    4520     128   6   \n",
       "496  Network Type3G, 4G VOLTE, 4GSupported Networks...    4000      64   4   \n",
       "497  Network Type3G, 4G, 2GSupported NetworksGSM, W...    3080      64   4   \n",
       "\n",
       "                                            processors android_version   \n",
       "0                  Operating SystemAndroid 13Processor              13  \\\n",
       "1                  Operating SystemAndroid 13Processor              13   \n",
       "2                Operating SystemAndroid Q 10Processor              10   \n",
       "3                Operating SystemAndroid Q 10Processor              10   \n",
       "4    Operating SystemAndroid 11Processor TypeQualco...              11   \n",
       "..                                                 ...             ...   \n",
       "493  Operating SystemAndroid Lollipop 5.1Processor ...               5   \n",
       "494             Operating SystemAndroid Pie 9Processor               9   \n",
       "495         Operating SystemAndroid Nougat 11Processor              11   \n",
       "496  Operating SystemAndroid Nougat 7.1.2Processor ...               7   \n",
       "497  Operating SystemAndroid Nougat 7.1.2Processor ...               7   \n",
       "\n",
       "                                        processor_type  \n",
       "0                  Operating SystemAndroid 13Processor  \n",
       "1                  Operating SystemAndroid 13Processor  \n",
       "2                Operating SystemAndroid Q 10Processor  \n",
       "3                Operating SystemAndroid Q 10Processor  \n",
       "4    Operating SystemAndroid 11Processor TypeQualco...  \n",
       "..                                                 ...  \n",
       "493  Operating SystemAndroid Lollipop 5.1Processor ...  \n",
       "494             Operating SystemAndroid Pie 9Processor  \n",
       "495         Operating SystemAndroid Nougat 11Processor  \n",
       "496  Operating SystemAndroid Nougat 7.1.2Processor ...  \n",
       "497  Operating SystemAndroid Nougat 7.1.2Processor ...  \n",
       "\n",
       "[498 rows x 14 columns]"
      ]
     },
     "metadata": {},
     "output_type": "display_data"
    }
   ],
   "source": [
    "df"
   ]
  },
  {
   "cell_type": "markdown",
   "metadata": {},
   "source": [
    "### Processor"
   ]
  },
  {
   "cell_type": "code",
   "execution_count": null,
   "metadata": {},
   "outputs": [
    {
     "data": {
      "text/plain": [
       "[]"
      ]
     },
     "metadata": {},
     "output_type": "display_data"
    }
   ],
   "source": [
    "patt = r'^Type+'\n",
    "re.findall(patt,df['processors'][4])"
   ]
  },
  {
   "cell_type": "code",
   "execution_count": null,
   "metadata": {},
   "outputs": [
    {
     "data": {
      "text/html": [
       "<div>\n",
       "<style scoped>\n",
       "    .dataframe tbody tr th:only-of-type {\n",
       "        vertical-align: middle;\n",
       "    }\n",
       "\n",
       "    .dataframe tbody tr th {\n",
       "        vertical-align: top;\n",
       "    }\n",
       "\n",
       "    .dataframe thead th {\n",
       "        text-align: right;\n",
       "    }\n",
       "</style>\n",
       "<table border=\"1\" class=\"dataframe\">\n",
       "  <thead>\n",
       "    <tr style=\"text-align: right;\">\n",
       "      <th></th>\n",
       "      <th>index</th>\n",
       "      <th>model_names</th>\n",
       "      <th>ratings</th>\n",
       "      <th>price</th>\n",
       "      <th>imgURL</th>\n",
       "      <th>storage_ram</th>\n",
       "      <th>os_processor</th>\n",
       "      <th>network</th>\n",
       "      <th>battery</th>\n",
       "      <th>storage</th>\n",
       "      <th>ram</th>\n",
       "      <th>processors</th>\n",
       "      <th>android_version</th>\n",
       "      <th>processor_type</th>\n",
       "    </tr>\n",
       "  </thead>\n",
       "  <tbody>\n",
       "    <tr>\n",
       "      <th>0</th>\n",
       "      <td>0</td>\n",
       "      <td>REDMI 10 Power (Sporty Orange, 128 GB)</td>\n",
       "      <td>4.2</td>\n",
       "      <td>₹13,500</td>\n",
       "      <td>https://rukminim2.flixcart.com/image/312/312/x...</td>\n",
       "      <td>Internal Storage128 GBRAM8 GBMemory Card Slot ...</td>\n",
       "      <td>Operating SystemAndroid 13Processor CoreOcta C...</td>\n",
       "      <td>Network Type4G VOLTESupported Networks4G LTE</td>\n",
       "      <td>6000</td>\n",
       "      <td>128</td>\n",
       "      <td>8</td>\n",
       "      <td>Operating SystemAndroid 13Processor</td>\n",
       "      <td>13</td>\n",
       "      <td>Operating SystemAndroid 13Processor</td>\n",
       "    </tr>\n",
       "    <tr>\n",
       "      <th>1</th>\n",
       "      <td>1</td>\n",
       "      <td>REDMI 10 Power (Power Black, 128 GB)</td>\n",
       "      <td>4.2</td>\n",
       "      <td>₹12,840</td>\n",
       "      <td>https://rukminim2.flixcart.com/image/312/312/x...</td>\n",
       "      <td>Internal Storage128 GBRAM8 GBMemory Card Slot ...</td>\n",
       "      <td>Operating SystemAndroid 13Processor CoreOcta C...</td>\n",
       "      <td>Network Type4G VOLTESupported Networks4G VoLTE</td>\n",
       "      <td>6000</td>\n",
       "      <td>128</td>\n",
       "      <td>8</td>\n",
       "      <td>Operating SystemAndroid 13Processor</td>\n",
       "      <td>13</td>\n",
       "      <td>Operating SystemAndroid 13Processor</td>\n",
       "    </tr>\n",
       "    <tr>\n",
       "      <th>2</th>\n",
       "      <td>2</td>\n",
       "      <td>Redmi 9A Sport (Metallic Blue, 32 GB)</td>\n",
       "      <td>4.1</td>\n",
       "      <td>₹7,520</td>\n",
       "      <td>https://rukminim2.flixcart.com/image/312/312/x...</td>\n",
       "      <td>Internal Storage32 GBRAM2 GBMemory Card Slot T...</td>\n",
       "      <td>Operating SystemAndroid Q 10Processor CoreOcta...</td>\n",
       "      <td>Network Type4G VOLTE, 4GSupported Networks4G LTE</td>\n",
       "      <td>5000</td>\n",
       "      <td>32</td>\n",
       "      <td>2</td>\n",
       "      <td>Operating SystemAndroid Q 10Processor</td>\n",
       "      <td>10</td>\n",
       "      <td>Operating SystemAndroid Q 10Processor</td>\n",
       "    </tr>\n",
       "    <tr>\n",
       "      <th>3</th>\n",
       "      <td>3</td>\n",
       "      <td>Redmi 9A Sport (Coral Green, 32 GB)</td>\n",
       "      <td>4.2</td>\n",
       "      <td>₹8,450</td>\n",
       "      <td>https://rukminim2.flixcart.com/image/312/312/x...</td>\n",
       "      <td>Internal Storage32 GBRAM3 GBMemory Card Slot T...</td>\n",
       "      <td>Operating SystemAndroid Q 10Processor CoreOcta...</td>\n",
       "      <td>Network Type4G VOLTE, 4GSupported Networks4G V...</td>\n",
       "      <td>5000</td>\n",
       "      <td>32</td>\n",
       "      <td>3</td>\n",
       "      <td>Operating SystemAndroid Q 10Processor</td>\n",
       "      <td>10</td>\n",
       "      <td>Operating SystemAndroid Q 10Processor</td>\n",
       "    </tr>\n",
       "    <tr>\n",
       "      <th>4</th>\n",
       "      <td>4</td>\n",
       "      <td>Xiaomi 11Lite NE (Vinyl Black, 128 GB)</td>\n",
       "      <td>4.2</td>\n",
       "      <td>₹21,644</td>\n",
       "      <td>https://rukminim2.flixcart.com/image/312/312/x...</td>\n",
       "      <td>Internal Storage128 GBRAM6 GBExpandable Storag...</td>\n",
       "      <td>Operating SystemAndroid 11Processor TypeQualco...</td>\n",
       "      <td>Network Type5G, 4G VOLTESupported Networks5G, ...</td>\n",
       "      <td>4250</td>\n",
       "      <td>128</td>\n",
       "      <td>6</td>\n",
       "      <td>Operating SystemAndroid 11Processor TypeQualco...</td>\n",
       "      <td>11</td>\n",
       "      <td>Operating SystemAndroid 11Processor TypeQualco...</td>\n",
       "    </tr>\n",
       "    <tr>\n",
       "      <th>...</th>\n",
       "      <td>...</td>\n",
       "      <td>...</td>\n",
       "      <td>...</td>\n",
       "      <td>...</td>\n",
       "      <td>...</td>\n",
       "      <td>...</td>\n",
       "      <td>...</td>\n",
       "      <td>...</td>\n",
       "      <td>...</td>\n",
       "      <td>...</td>\n",
       "      <td>...</td>\n",
       "      <td>...</td>\n",
       "      <td>...</td>\n",
       "      <td>...</td>\n",
       "    </tr>\n",
       "    <tr>\n",
       "      <th>493</th>\n",
       "      <td>496</td>\n",
       "      <td>Xiaomi 11i 5G (Camo Green, 128 GB)</td>\n",
       "      <td>4.5</td>\n",
       "      <td>₹26,999</td>\n",
       "      <td>https://rukminim2.flixcart.com/image/312/312/k...</td>\n",
       "      <td>Internal Storage32 GBRAM3 GBExpandable Storage...</td>\n",
       "      <td>Operating SystemAndroid Lollipop 5.1Processor ...</td>\n",
       "      <td>Network Type3G, 4GSupported NetworksGSM, 4G LT...</td>\n",
       "      <td>4050</td>\n",
       "      <td>32</td>\n",
       "      <td>3</td>\n",
       "      <td>Operating SystemAndroid Lollipop 5.1Processor ...</td>\n",
       "      <td>5</td>\n",
       "      <td>Operating SystemAndroid Lollipop 5.1Processor ...</td>\n",
       "    </tr>\n",
       "    <tr>\n",
       "      <th>494</th>\n",
       "      <td>497</td>\n",
       "      <td>Redmi Note 3 (Gold, 32 GB)</td>\n",
       "      <td>4.1</td>\n",
       "      <td>₹8,999</td>\n",
       "      <td>https://rukminim2.flixcart.com/image/312/312/m...</td>\n",
       "      <td>Internal Storage32 GBRAM3 GBMemory Card Slot T...</td>\n",
       "      <td>Operating SystemAndroid Pie 9Processor CoreOct...</td>\n",
       "      <td>Network Type4G VOLTESupported Networks4G LTEBl...</td>\n",
       "      <td>4000</td>\n",
       "      <td>32</td>\n",
       "      <td>3</td>\n",
       "      <td>Operating SystemAndroid Pie 9Processor</td>\n",
       "      <td>9</td>\n",
       "      <td>Operating SystemAndroid Pie 9Processor</td>\n",
       "    </tr>\n",
       "    <tr>\n",
       "      <th>495</th>\n",
       "      <td>498</td>\n",
       "      <td>Redmi Note 8 (Moonlight White, 32 GB)</td>\n",
       "      <td>4.3</td>\n",
       "      <td>₹11,990</td>\n",
       "      <td>https://rukminim2.flixcart.com/image/312/312/k...</td>\n",
       "      <td>Internal Storage128 GBRAM6 GB</td>\n",
       "      <td>Operating SystemAndroid Nougat 11Processor Cor...</td>\n",
       "      <td>Network Type4G VOLTE, 5GSupported Networks4G V...</td>\n",
       "      <td>4520</td>\n",
       "      <td>128</td>\n",
       "      <td>6</td>\n",
       "      <td>Operating SystemAndroid Nougat 11Processor</td>\n",
       "      <td>11</td>\n",
       "      <td>Operating SystemAndroid Nougat 11Processor</td>\n",
       "    </tr>\n",
       "    <tr>\n",
       "      <th>496</th>\n",
       "      <td>499</td>\n",
       "      <td>MI 11X 5G (CELESTIAL SILVER, 128 GB)</td>\n",
       "      <td>4.3</td>\n",
       "      <td>₹24,999</td>\n",
       "      <td>https://rukminim2.flixcart.com/image/312/312/k...</td>\n",
       "      <td>Internal Storage64 GBRAM4 GBExpandable Storage...</td>\n",
       "      <td>Operating SystemAndroid Nougat 7.1.2Processor ...</td>\n",
       "      <td>Network Type3G, 4G VOLTE, 4GSupported Networks...</td>\n",
       "      <td>4000</td>\n",
       "      <td>64</td>\n",
       "      <td>4</td>\n",
       "      <td>Operating SystemAndroid Nougat 7.1.2Processor ...</td>\n",
       "      <td>7</td>\n",
       "      <td>Operating SystemAndroid Nougat 7.1.2Processor ...</td>\n",
       "    </tr>\n",
       "    <tr>\n",
       "      <th>497</th>\n",
       "      <td>500</td>\n",
       "      <td>Redmi Note 5 Pro (Red, 64 GB)</td>\n",
       "      <td>4.1</td>\n",
       "      <td>₹12,500</td>\n",
       "      <td>https://rukminim2.flixcart.com/image/312/312/j...</td>\n",
       "      <td>Internal Storage64 GBRAM4 GBExpandable Storage...</td>\n",
       "      <td>Operating SystemAndroid Nougat 7.1.2Processor ...</td>\n",
       "      <td>Network Type3G, 4G, 2GSupported NetworksGSM, W...</td>\n",
       "      <td>3080</td>\n",
       "      <td>64</td>\n",
       "      <td>4</td>\n",
       "      <td>Operating SystemAndroid Nougat 7.1.2Processor ...</td>\n",
       "      <td>7</td>\n",
       "      <td>Operating SystemAndroid Nougat 7.1.2Processor ...</td>\n",
       "    </tr>\n",
       "  </tbody>\n",
       "</table>\n",
       "<p>498 rows × 14 columns</p>\n",
       "</div>"
      ],
      "text/plain": [
       "     index                             model_names  ratings    price   \n",
       "0        0  REDMI 10 Power (Sporty Orange, 128 GB)      4.2  ₹13,500  \\\n",
       "1        1    REDMI 10 Power (Power Black, 128 GB)      4.2  ₹12,840   \n",
       "2        2   Redmi 9A Sport (Metallic Blue, 32 GB)      4.1   ₹7,520   \n",
       "3        3     Redmi 9A Sport (Coral Green, 32 GB)      4.2   ₹8,450   \n",
       "4        4  Xiaomi 11Lite NE (Vinyl Black, 128 GB)      4.2  ₹21,644   \n",
       "..     ...                                     ...      ...      ...   \n",
       "493    496      Xiaomi 11i 5G (Camo Green, 128 GB)      4.5  ₹26,999   \n",
       "494    497              Redmi Note 3 (Gold, 32 GB)      4.1   ₹8,999   \n",
       "495    498   Redmi Note 8 (Moonlight White, 32 GB)      4.3  ₹11,990   \n",
       "496    499    MI 11X 5G (CELESTIAL SILVER, 128 GB)      4.3  ₹24,999   \n",
       "497    500           Redmi Note 5 Pro (Red, 64 GB)      4.1  ₹12,500   \n",
       "\n",
       "                                                imgURL   \n",
       "0    https://rukminim2.flixcart.com/image/312/312/x...  \\\n",
       "1    https://rukminim2.flixcart.com/image/312/312/x...   \n",
       "2    https://rukminim2.flixcart.com/image/312/312/x...   \n",
       "3    https://rukminim2.flixcart.com/image/312/312/x...   \n",
       "4    https://rukminim2.flixcart.com/image/312/312/x...   \n",
       "..                                                 ...   \n",
       "493  https://rukminim2.flixcart.com/image/312/312/k...   \n",
       "494  https://rukminim2.flixcart.com/image/312/312/m...   \n",
       "495  https://rukminim2.flixcart.com/image/312/312/k...   \n",
       "496  https://rukminim2.flixcart.com/image/312/312/k...   \n",
       "497  https://rukminim2.flixcart.com/image/312/312/j...   \n",
       "\n",
       "                                           storage_ram   \n",
       "0    Internal Storage128 GBRAM8 GBMemory Card Slot ...  \\\n",
       "1    Internal Storage128 GBRAM8 GBMemory Card Slot ...   \n",
       "2    Internal Storage32 GBRAM2 GBMemory Card Slot T...   \n",
       "3    Internal Storage32 GBRAM3 GBMemory Card Slot T...   \n",
       "4    Internal Storage128 GBRAM6 GBExpandable Storag...   \n",
       "..                                                 ...   \n",
       "493  Internal Storage32 GBRAM3 GBExpandable Storage...   \n",
       "494  Internal Storage32 GBRAM3 GBMemory Card Slot T...   \n",
       "495                      Internal Storage128 GBRAM6 GB   \n",
       "496  Internal Storage64 GBRAM4 GBExpandable Storage...   \n",
       "497  Internal Storage64 GBRAM4 GBExpandable Storage...   \n",
       "\n",
       "                                          os_processor   \n",
       "0    Operating SystemAndroid 13Processor CoreOcta C...  \\\n",
       "1    Operating SystemAndroid 13Processor CoreOcta C...   \n",
       "2    Operating SystemAndroid Q 10Processor CoreOcta...   \n",
       "3    Operating SystemAndroid Q 10Processor CoreOcta...   \n",
       "4    Operating SystemAndroid 11Processor TypeQualco...   \n",
       "..                                                 ...   \n",
       "493  Operating SystemAndroid Lollipop 5.1Processor ...   \n",
       "494  Operating SystemAndroid Pie 9Processor CoreOct...   \n",
       "495  Operating SystemAndroid Nougat 11Processor Cor...   \n",
       "496  Operating SystemAndroid Nougat 7.1.2Processor ...   \n",
       "497  Operating SystemAndroid Nougat 7.1.2Processor ...   \n",
       "\n",
       "                                               network battery storage ram   \n",
       "0         Network Type4G VOLTESupported Networks4G LTE    6000     128   8  \\\n",
       "1       Network Type4G VOLTESupported Networks4G VoLTE    6000     128   8   \n",
       "2     Network Type4G VOLTE, 4GSupported Networks4G LTE    5000      32   2   \n",
       "3    Network Type4G VOLTE, 4GSupported Networks4G V...    5000      32   3   \n",
       "4    Network Type5G, 4G VOLTESupported Networks5G, ...    4250     128   6   \n",
       "..                                                 ...     ...     ...  ..   \n",
       "493  Network Type3G, 4GSupported NetworksGSM, 4G LT...    4050      32   3   \n",
       "494  Network Type4G VOLTESupported Networks4G LTEBl...    4000      32   3   \n",
       "495  Network Type4G VOLTE, 5GSupported Networks4G V...    4520     128   6   \n",
       "496  Network Type3G, 4G VOLTE, 4GSupported Networks...    4000      64   4   \n",
       "497  Network Type3G, 4G, 2GSupported NetworksGSM, W...    3080      64   4   \n",
       "\n",
       "                                            processors android_version   \n",
       "0                  Operating SystemAndroid 13Processor              13  \\\n",
       "1                  Operating SystemAndroid 13Processor              13   \n",
       "2                Operating SystemAndroid Q 10Processor              10   \n",
       "3                Operating SystemAndroid Q 10Processor              10   \n",
       "4    Operating SystemAndroid 11Processor TypeQualco...              11   \n",
       "..                                                 ...             ...   \n",
       "493  Operating SystemAndroid Lollipop 5.1Processor ...               5   \n",
       "494             Operating SystemAndroid Pie 9Processor               9   \n",
       "495         Operating SystemAndroid Nougat 11Processor              11   \n",
       "496  Operating SystemAndroid Nougat 7.1.2Processor ...               7   \n",
       "497  Operating SystemAndroid Nougat 7.1.2Processor ...               7   \n",
       "\n",
       "                                        processor_type  \n",
       "0                  Operating SystemAndroid 13Processor  \n",
       "1                  Operating SystemAndroid 13Processor  \n",
       "2                Operating SystemAndroid Q 10Processor  \n",
       "3                Operating SystemAndroid Q 10Processor  \n",
       "4    Operating SystemAndroid 11Processor TypeQualco...  \n",
       "..                                                 ...  \n",
       "493  Operating SystemAndroid Lollipop 5.1Processor ...  \n",
       "494             Operating SystemAndroid Pie 9Processor  \n",
       "495         Operating SystemAndroid Nougat 11Processor  \n",
       "496  Operating SystemAndroid Nougat 7.1.2Processor ...  \n",
       "497  Operating SystemAndroid Nougat 7.1.2Processor ...  \n",
       "\n",
       "[498 rows x 14 columns]"
      ]
     },
     "metadata": {},
     "output_type": "display_data"
    }
   ],
   "source": [
    "df"
   ]
  },
  {
   "cell_type": "code",
   "execution_count": null,
   "metadata": {},
   "outputs": [
    {
     "name": "stdout",
     "output_type": "stream",
     "text": [
      "Operating SystemAndroid Oreo 8.1Processor TypeQualcomm Snapdragon 636Processor\n",
      "['Qualcomm Snapdragon 636Processor']\n",
      "\n",
      "Operating SystemAndroid 11Processor TypeMediatek Dimensity 920Processor\n",
      "['Mediatek Dimensity 920Processor']\n",
      "\n",
      "Operating SystemAndroid Q 10Processor TypeMediaTek Helio G35Processor\n",
      "['MediaTek Helio G35Processor']\n",
      "\n",
      "Operating SystemAndroid KitKat 4.4.4Processor TypeQualcomm MSM8274AC Snapdragon 801 Krait 400Processor\n",
      "['Qualcomm MSM8274AC Snapdragon 801 Krait 400Processor']\n",
      "\n",
      "Operating SystemAndroid 12Processor TypeMediatek Dimensity 1080Processor\n",
      "['Mediatek Dimensity 1080Processor']\n",
      "\n",
      "Operating SystemAndroid Pie 9Processor TypeQualcomm Snapdragon 439Processor\n",
      "['Qualcomm Snapdragon 439Processor']\n",
      "\n",
      "Operating SystemAndroid 11Processor TypeQualcomm Snapdragon 732GProcessor\n",
      "['Qualcomm Snapdragon 732GProcessor']\n",
      "\n",
      "Operating SystemAndroid Pie 10Processor TypeQualcomm® Snapdragon™ 720GProcessor\n",
      "['Qualcomm® Snapdragon™ 720GProcessor']\n",
      "\n",
      "Operating SystemAndroid 10Processor TypeMediaTek Helio G80Processor\n",
      "['MediaTek Helio G80Processor']\n",
      "\n",
      "Operating SystemAndroid 12Processor TypeMediatek Dimensity 1080Processor\n",
      "['Mediatek Dimensity 1080Processor']\n",
      "\n"
     ]
    }
   ],
   "source": [
    "pattern=r'(?<=Type).*'\n",
    "for i in range(0,10):\n",
    "    data = df['processors'].iloc[np.random.randint(df.shape[0])]\n",
    "    print(data)\n",
    "    words = re.findall(pattern,data)\n",
    "    print(words)\n",
    "    print()"
   ]
  },
  {
   "cell_type": "code",
   "execution_count": null,
   "metadata": {},
   "outputs": [],
   "source": [
    "def processor(text):\n",
    "    pattern=r'(?<=Type).*'\n",
    "    search = re.search(pattern,text)\n",
    "    if search != None:\n",
    "        return ' '.join(re.findall(pattern,text))\n",
    "    else:\n",
    "        return 'not montioned'"
   ]
  },
  {
   "cell_type": "code",
   "execution_count": null,
   "metadata": {},
   "outputs": [
    {
     "name": "stdout",
     "output_type": "stream",
     "text": [
      "Qualcomm Snapdragon 778GProcessor\n",
      "not montioned\n"
     ]
    }
   ],
   "source": [
    "print(processor(df['processors'][4]))\n",
    "print(processor(df['processors'][0]))"
   ]
  },
  {
   "cell_type": "code",
   "execution_count": null,
   "metadata": {},
   "outputs": [],
   "source": [
    "df['processors'] = df['processors'].apply(processor)"
   ]
  },
  {
   "cell_type": "markdown",
   "metadata": {},
   "source": [
    "# Removing Columns"
   ]
  },
  {
   "cell_type": "code",
   "execution_count": null,
   "metadata": {},
   "outputs": [],
   "source": [
    "df = df = df.drop(columns=['os_processor','storage_ram','processor_type'])"
   ]
  },
  {
   "cell_type": "code",
   "execution_count": null,
   "metadata": {},
   "outputs": [],
   "source": [
    "df.rename({'processors':'processor'},axis=1,inplace=True)"
   ]
  },
  {
   "cell_type": "code",
   "execution_count": null,
   "metadata": {},
   "outputs": [
    {
     "data": {
      "text/html": [
       "<div>\n",
       "<style scoped>\n",
       "    .dataframe tbody tr th:only-of-type {\n",
       "        vertical-align: middle;\n",
       "    }\n",
       "\n",
       "    .dataframe tbody tr th {\n",
       "        vertical-align: top;\n",
       "    }\n",
       "\n",
       "    .dataframe thead th {\n",
       "        text-align: right;\n",
       "    }\n",
       "</style>\n",
       "<table border=\"1\" class=\"dataframe\">\n",
       "  <thead>\n",
       "    <tr style=\"text-align: right;\">\n",
       "      <th></th>\n",
       "      <th>index</th>\n",
       "      <th>model_names</th>\n",
       "      <th>ratings</th>\n",
       "      <th>price</th>\n",
       "      <th>imgURL</th>\n",
       "      <th>network</th>\n",
       "      <th>battery</th>\n",
       "      <th>storage</th>\n",
       "      <th>ram</th>\n",
       "      <th>processor</th>\n",
       "      <th>android_version</th>\n",
       "    </tr>\n",
       "  </thead>\n",
       "  <tbody>\n",
       "    <tr>\n",
       "      <th>0</th>\n",
       "      <td>0</td>\n",
       "      <td>REDMI 10 Power (Sporty Orange, 128 GB)</td>\n",
       "      <td>4.2</td>\n",
       "      <td>₹13,500</td>\n",
       "      <td>https://rukminim2.flixcart.com/image/312/312/x...</td>\n",
       "      <td>Network Type4G VOLTESupported Networks4G LTE</td>\n",
       "      <td>6000</td>\n",
       "      <td>128</td>\n",
       "      <td>8</td>\n",
       "      <td>not montioned</td>\n",
       "      <td>13</td>\n",
       "    </tr>\n",
       "    <tr>\n",
       "      <th>1</th>\n",
       "      <td>1</td>\n",
       "      <td>REDMI 10 Power (Power Black, 128 GB)</td>\n",
       "      <td>4.2</td>\n",
       "      <td>₹12,840</td>\n",
       "      <td>https://rukminim2.flixcart.com/image/312/312/x...</td>\n",
       "      <td>Network Type4G VOLTESupported Networks4G VoLTE</td>\n",
       "      <td>6000</td>\n",
       "      <td>128</td>\n",
       "      <td>8</td>\n",
       "      <td>not montioned</td>\n",
       "      <td>13</td>\n",
       "    </tr>\n",
       "    <tr>\n",
       "      <th>2</th>\n",
       "      <td>2</td>\n",
       "      <td>Redmi 9A Sport (Metallic Blue, 32 GB)</td>\n",
       "      <td>4.1</td>\n",
       "      <td>₹7,520</td>\n",
       "      <td>https://rukminim2.flixcart.com/image/312/312/x...</td>\n",
       "      <td>Network Type4G VOLTE, 4GSupported Networks4G LTE</td>\n",
       "      <td>5000</td>\n",
       "      <td>32</td>\n",
       "      <td>2</td>\n",
       "      <td>not montioned</td>\n",
       "      <td>10</td>\n",
       "    </tr>\n",
       "    <tr>\n",
       "      <th>3</th>\n",
       "      <td>3</td>\n",
       "      <td>Redmi 9A Sport (Coral Green, 32 GB)</td>\n",
       "      <td>4.2</td>\n",
       "      <td>₹8,450</td>\n",
       "      <td>https://rukminim2.flixcart.com/image/312/312/x...</td>\n",
       "      <td>Network Type4G VOLTE, 4GSupported Networks4G V...</td>\n",
       "      <td>5000</td>\n",
       "      <td>32</td>\n",
       "      <td>3</td>\n",
       "      <td>not montioned</td>\n",
       "      <td>10</td>\n",
       "    </tr>\n",
       "    <tr>\n",
       "      <th>5</th>\n",
       "      <td>5</td>\n",
       "      <td>Redmi 10 Prime (Phantom Black, 64 GB)</td>\n",
       "      <td>4.2</td>\n",
       "      <td>₹11,990</td>\n",
       "      <td>https://rukminim2.flixcart.com/image/312/312/k...</td>\n",
       "      <td>Network Type4G VOLTE, 4GSupported Networks4G V...</td>\n",
       "      <td>6000</td>\n",
       "      <td>64</td>\n",
       "      <td>4</td>\n",
       "      <td>not montioned</td>\n",
       "      <td>11</td>\n",
       "    </tr>\n",
       "    <tr>\n",
       "      <th>...</th>\n",
       "      <td>...</td>\n",
       "      <td>...</td>\n",
       "      <td>...</td>\n",
       "      <td>...</td>\n",
       "      <td>...</td>\n",
       "      <td>...</td>\n",
       "      <td>...</td>\n",
       "      <td>...</td>\n",
       "      <td>...</td>\n",
       "      <td>...</td>\n",
       "      <td>...</td>\n",
       "    </tr>\n",
       "    <tr>\n",
       "      <th>483</th>\n",
       "      <td>486</td>\n",
       "      <td>Mi 10T Pro (Lunar Silver, 128 GB)</td>\n",
       "      <td>4.4</td>\n",
       "      <td>₹26,899</td>\n",
       "      <td>https://rukminim2.flixcart.com/image/312/312/k...</td>\n",
       "      <td>Network Type5GSupported Networks5G, 4G LTE, GSM</td>\n",
       "      <td>5000</td>\n",
       "      <td>128</td>\n",
       "      <td>8</td>\n",
       "      <td>not montioned</td>\n",
       "      <td>11</td>\n",
       "    </tr>\n",
       "    <tr>\n",
       "      <th>484</th>\n",
       "      <td>487</td>\n",
       "      <td>Redmi Note 11 PRO Plus 5G (Stealth Black, 128 GB)</td>\n",
       "      <td>4.3</td>\n",
       "      <td>₹26,998</td>\n",
       "      <td>https://rukminim2.flixcart.com/image/312/312/x...</td>\n",
       "      <td>Network Type5GSupported Networks5G</td>\n",
       "      <td>4820</td>\n",
       "      <td>256</td>\n",
       "      <td>12</td>\n",
       "      <td>not montioned</td>\n",
       "      <td>13</td>\n",
       "    </tr>\n",
       "    <tr>\n",
       "      <th>488</th>\n",
       "      <td>491</td>\n",
       "      <td>Redmi 3S Prime (Dark Grey, 32 GB)</td>\n",
       "      <td>4.4</td>\n",
       "      <td>₹8,999</td>\n",
       "      <td>https://rukminim2.flixcart.com/image/312/312/m...</td>\n",
       "      <td>Network Type5GSupported Networks5G, GSM, 4G LTE</td>\n",
       "      <td>5000</td>\n",
       "      <td>256</td>\n",
       "      <td>8</td>\n",
       "      <td>not montioned</td>\n",
       "      <td>11</td>\n",
       "    </tr>\n",
       "    <tr>\n",
       "      <th>494</th>\n",
       "      <td>497</td>\n",
       "      <td>Redmi Note 3 (Gold, 32 GB)</td>\n",
       "      <td>4.1</td>\n",
       "      <td>₹8,999</td>\n",
       "      <td>https://rukminim2.flixcart.com/image/312/312/m...</td>\n",
       "      <td>Network Type4G VOLTESupported Networks4G LTEBl...</td>\n",
       "      <td>4000</td>\n",
       "      <td>32</td>\n",
       "      <td>3</td>\n",
       "      <td>not montioned</td>\n",
       "      <td>9</td>\n",
       "    </tr>\n",
       "    <tr>\n",
       "      <th>495</th>\n",
       "      <td>498</td>\n",
       "      <td>Redmi Note 8 (Moonlight White, 32 GB)</td>\n",
       "      <td>4.3</td>\n",
       "      <td>₹11,990</td>\n",
       "      <td>https://rukminim2.flixcart.com/image/312/312/k...</td>\n",
       "      <td>Network Type4G VOLTE, 5GSupported Networks4G V...</td>\n",
       "      <td>4520</td>\n",
       "      <td>128</td>\n",
       "      <td>6</td>\n",
       "      <td>not montioned</td>\n",
       "      <td>11</td>\n",
       "    </tr>\n",
       "  </tbody>\n",
       "</table>\n",
       "<p>154 rows × 11 columns</p>\n",
       "</div>"
      ],
      "text/plain": [
       "     index                                        model_names  ratings   \n",
       "0        0             REDMI 10 Power (Sporty Orange, 128 GB)      4.2  \\\n",
       "1        1               REDMI 10 Power (Power Black, 128 GB)      4.2   \n",
       "2        2              Redmi 9A Sport (Metallic Blue, 32 GB)      4.1   \n",
       "3        3                Redmi 9A Sport (Coral Green, 32 GB)      4.2   \n",
       "5        5              Redmi 10 Prime (Phantom Black, 64 GB)      4.2   \n",
       "..     ...                                                ...      ...   \n",
       "483    486                  Mi 10T Pro (Lunar Silver, 128 GB)      4.4   \n",
       "484    487  Redmi Note 11 PRO Plus 5G (Stealth Black, 128 GB)      4.3   \n",
       "488    491                  Redmi 3S Prime (Dark Grey, 32 GB)      4.4   \n",
       "494    497                         Redmi Note 3 (Gold, 32 GB)      4.1   \n",
       "495    498              Redmi Note 8 (Moonlight White, 32 GB)      4.3   \n",
       "\n",
       "       price                                             imgURL   \n",
       "0    ₹13,500  https://rukminim2.flixcart.com/image/312/312/x...  \\\n",
       "1    ₹12,840  https://rukminim2.flixcart.com/image/312/312/x...   \n",
       "2     ₹7,520  https://rukminim2.flixcart.com/image/312/312/x...   \n",
       "3     ₹8,450  https://rukminim2.flixcart.com/image/312/312/x...   \n",
       "5    ₹11,990  https://rukminim2.flixcart.com/image/312/312/k...   \n",
       "..       ...                                                ...   \n",
       "483  ₹26,899  https://rukminim2.flixcart.com/image/312/312/k...   \n",
       "484  ₹26,998  https://rukminim2.flixcart.com/image/312/312/x...   \n",
       "488   ₹8,999  https://rukminim2.flixcart.com/image/312/312/m...   \n",
       "494   ₹8,999  https://rukminim2.flixcart.com/image/312/312/m...   \n",
       "495  ₹11,990  https://rukminim2.flixcart.com/image/312/312/k...   \n",
       "\n",
       "                                               network battery storage ram   \n",
       "0         Network Type4G VOLTESupported Networks4G LTE    6000     128   8  \\\n",
       "1       Network Type4G VOLTESupported Networks4G VoLTE    6000     128   8   \n",
       "2     Network Type4G VOLTE, 4GSupported Networks4G LTE    5000      32   2   \n",
       "3    Network Type4G VOLTE, 4GSupported Networks4G V...    5000      32   3   \n",
       "5    Network Type4G VOLTE, 4GSupported Networks4G V...    6000      64   4   \n",
       "..                                                 ...     ...     ...  ..   \n",
       "483    Network Type5GSupported Networks5G, 4G LTE, GSM    5000     128   8   \n",
       "484                 Network Type5GSupported Networks5G    4820     256  12   \n",
       "488    Network Type5GSupported Networks5G, GSM, 4G LTE    5000     256   8   \n",
       "494  Network Type4G VOLTESupported Networks4G LTEBl...    4000      32   3   \n",
       "495  Network Type4G VOLTE, 5GSupported Networks4G V...    4520     128   6   \n",
       "\n",
       "         processor android_version  \n",
       "0    not montioned              13  \n",
       "1    not montioned              13  \n",
       "2    not montioned              10  \n",
       "3    not montioned              10  \n",
       "5    not montioned              11  \n",
       "..             ...             ...  \n",
       "483  not montioned              11  \n",
       "484  not montioned              13  \n",
       "488  not montioned              11  \n",
       "494  not montioned               9  \n",
       "495  not montioned              11  \n",
       "\n",
       "[154 rows x 11 columns]"
      ]
     },
     "metadata": {},
     "output_type": "display_data"
    }
   ],
   "source": [
    "df[df['processor'] == 'not montioned']"
   ]
  },
  {
   "cell_type": "markdown",
   "metadata": {},
   "source": [
    "## Price"
   ]
  },
  {
   "cell_type": "code",
   "execution_count": null,
   "metadata": {},
   "outputs": [],
   "source": [
    "df['price'] = df['price'].replace('₹','')"
   ]
  },
  {
   "cell_type": "code",
   "execution_count": null,
   "metadata": {},
   "outputs": [
    {
     "data": {
      "text/plain": [
       "'8,999'"
      ]
     },
     "metadata": {},
     "output_type": "display_data"
    }
   ],
   "source": [
    "df['price'][32].replace('₹','')"
   ]
  },
  {
   "cell_type": "code",
   "execution_count": null,
   "metadata": {},
   "outputs": [],
   "source": [
    "for Index,i in enumerate(df['price']):\n",
    "    i = str(i).replace('₹','')\n",
    "    i = str(i).replace(',','')\n",
    "    df['price'][Index] = i"
   ]
  },
  {
   "cell_type": "code",
   "execution_count": null,
   "metadata": {},
   "outputs": [
    {
     "name": "stdout",
     "output_type": "stream",
     "text": [
      "359 : 11498\n",
      "238 : 9999\n",
      "264 : 16999\n",
      "174 : 6599\n",
      "432 : 33998\n",
      "411 : 16795\n"
     ]
    }
   ],
   "source": [
    "random_values('price')"
   ]
  },
  {
   "cell_type": "code",
   "execution_count": null,
   "metadata": {},
   "outputs": [
    {
     "data": {
      "text/html": [
       "<div>\n",
       "<style scoped>\n",
       "    .dataframe tbody tr th:only-of-type {\n",
       "        vertical-align: middle;\n",
       "    }\n",
       "\n",
       "    .dataframe tbody tr th {\n",
       "        vertical-align: top;\n",
       "    }\n",
       "\n",
       "    .dataframe thead th {\n",
       "        text-align: right;\n",
       "    }\n",
       "</style>\n",
       "<table border=\"1\" class=\"dataframe\">\n",
       "  <thead>\n",
       "    <tr style=\"text-align: right;\">\n",
       "      <th></th>\n",
       "      <th>index</th>\n",
       "      <th>model_names</th>\n",
       "      <th>ratings</th>\n",
       "      <th>price</th>\n",
       "      <th>imgURL</th>\n",
       "      <th>network</th>\n",
       "      <th>battery</th>\n",
       "      <th>storage</th>\n",
       "      <th>ram</th>\n",
       "      <th>processor</th>\n",
       "      <th>android_version</th>\n",
       "    </tr>\n",
       "  </thead>\n",
       "  <tbody>\n",
       "    <tr>\n",
       "      <th>0</th>\n",
       "      <td>0</td>\n",
       "      <td>REDMI 10 Power (Sporty Orange, 128 GB)</td>\n",
       "      <td>4.2</td>\n",
       "      <td>13500</td>\n",
       "      <td>https://rukminim2.flixcart.com/image/312/312/x...</td>\n",
       "      <td>Network Type4G VOLTESupported Networks4G LTE</td>\n",
       "      <td>6000</td>\n",
       "      <td>128</td>\n",
       "      <td>8</td>\n",
       "      <td>not montioned</td>\n",
       "      <td>13</td>\n",
       "    </tr>\n",
       "    <tr>\n",
       "      <th>1</th>\n",
       "      <td>1</td>\n",
       "      <td>REDMI 10 Power (Power Black, 128 GB)</td>\n",
       "      <td>4.2</td>\n",
       "      <td>12840</td>\n",
       "      <td>https://rukminim2.flixcart.com/image/312/312/x...</td>\n",
       "      <td>Network Type4G VOLTESupported Networks4G VoLTE</td>\n",
       "      <td>6000</td>\n",
       "      <td>128</td>\n",
       "      <td>8</td>\n",
       "      <td>not montioned</td>\n",
       "      <td>13</td>\n",
       "    </tr>\n",
       "    <tr>\n",
       "      <th>2</th>\n",
       "      <td>2</td>\n",
       "      <td>Redmi 9A Sport (Metallic Blue, 32 GB)</td>\n",
       "      <td>4.1</td>\n",
       "      <td>7520</td>\n",
       "      <td>https://rukminim2.flixcart.com/image/312/312/x...</td>\n",
       "      <td>Network Type4G VOLTE, 4GSupported Networks4G LTE</td>\n",
       "      <td>5000</td>\n",
       "      <td>32</td>\n",
       "      <td>2</td>\n",
       "      <td>not montioned</td>\n",
       "      <td>10</td>\n",
       "    </tr>\n",
       "    <tr>\n",
       "      <th>3</th>\n",
       "      <td>3</td>\n",
       "      <td>Redmi 9A Sport (Coral Green, 32 GB)</td>\n",
       "      <td>4.2</td>\n",
       "      <td>8450</td>\n",
       "      <td>https://rukminim2.flixcart.com/image/312/312/x...</td>\n",
       "      <td>Network Type4G VOLTE, 4GSupported Networks4G V...</td>\n",
       "      <td>5000</td>\n",
       "      <td>32</td>\n",
       "      <td>3</td>\n",
       "      <td>not montioned</td>\n",
       "      <td>10</td>\n",
       "    </tr>\n",
       "    <tr>\n",
       "      <th>4</th>\n",
       "      <td>4</td>\n",
       "      <td>Xiaomi 11Lite NE (Vinyl Black, 128 GB)</td>\n",
       "      <td>4.2</td>\n",
       "      <td>21644</td>\n",
       "      <td>https://rukminim2.flixcart.com/image/312/312/x...</td>\n",
       "      <td>Network Type5G, 4G VOLTESupported Networks5G, ...</td>\n",
       "      <td>4250</td>\n",
       "      <td>128</td>\n",
       "      <td>6</td>\n",
       "      <td>Qualcomm Snapdragon 778GProcessor</td>\n",
       "      <td>11</td>\n",
       "    </tr>\n",
       "    <tr>\n",
       "      <th>...</th>\n",
       "      <td>...</td>\n",
       "      <td>...</td>\n",
       "      <td>...</td>\n",
       "      <td>...</td>\n",
       "      <td>...</td>\n",
       "      <td>...</td>\n",
       "      <td>...</td>\n",
       "      <td>...</td>\n",
       "      <td>...</td>\n",
       "      <td>...</td>\n",
       "      <td>...</td>\n",
       "    </tr>\n",
       "    <tr>\n",
       "      <th>493</th>\n",
       "      <td>496</td>\n",
       "      <td>Xiaomi 11i 5G (Camo Green, 128 GB)</td>\n",
       "      <td>4.5</td>\n",
       "      <td>26999</td>\n",
       "      <td>https://rukminim2.flixcart.com/image/312/312/k...</td>\n",
       "      <td>Network Type3G, 4GSupported NetworksGSM, 4G LT...</td>\n",
       "      <td>4050</td>\n",
       "      <td>32</td>\n",
       "      <td>3</td>\n",
       "      <td>Qualcomm Snapdragon 650 64-bit 0 1.8GHzProcessor</td>\n",
       "      <td>5</td>\n",
       "    </tr>\n",
       "    <tr>\n",
       "      <th>494</th>\n",
       "      <td>497</td>\n",
       "      <td>Redmi Note 3 (Gold, 32 GB)</td>\n",
       "      <td>4.1</td>\n",
       "      <td>8999</td>\n",
       "      <td>https://rukminim2.flixcart.com/image/312/312/m...</td>\n",
       "      <td>Network Type4G VOLTESupported Networks4G LTEBl...</td>\n",
       "      <td>4000</td>\n",
       "      <td>32</td>\n",
       "      <td>3</td>\n",
       "      <td>not montioned</td>\n",
       "      <td>9</td>\n",
       "    </tr>\n",
       "    <tr>\n",
       "      <th>495</th>\n",
       "      <td>498</td>\n",
       "      <td>Redmi Note 8 (Moonlight White, 32 GB)</td>\n",
       "      <td>4.3</td>\n",
       "      <td>11990</td>\n",
       "      <td>https://rukminim2.flixcart.com/image/312/312/k...</td>\n",
       "      <td>Network Type4G VOLTE, 5GSupported Networks4G V...</td>\n",
       "      <td>4520</td>\n",
       "      <td>128</td>\n",
       "      <td>6</td>\n",
       "      <td>not montioned</td>\n",
       "      <td>11</td>\n",
       "    </tr>\n",
       "    <tr>\n",
       "      <th>496</th>\n",
       "      <td>499</td>\n",
       "      <td>MI 11X 5G (CELESTIAL SILVER, 128 GB)</td>\n",
       "      <td>4.3</td>\n",
       "      <td>24999</td>\n",
       "      <td>https://rukminim2.flixcart.com/image/312/312/k...</td>\n",
       "      <td>Network Type3G, 4G VOLTE, 4GSupported Networks...</td>\n",
       "      <td>4000</td>\n",
       "      <td>64</td>\n",
       "      <td>4</td>\n",
       "      <td>Qualcomm Snapdragon 636Processor</td>\n",
       "      <td>7</td>\n",
       "    </tr>\n",
       "    <tr>\n",
       "      <th>497</th>\n",
       "      <td>500</td>\n",
       "      <td>Redmi Note 5 Pro (Red, 64 GB)</td>\n",
       "      <td>4.1</td>\n",
       "      <td>12500</td>\n",
       "      <td>https://rukminim2.flixcart.com/image/312/312/j...</td>\n",
       "      <td>Network Type3G, 4G, 2GSupported NetworksGSM, W...</td>\n",
       "      <td>3080</td>\n",
       "      <td>64</td>\n",
       "      <td>4</td>\n",
       "      <td>Qualcomm Snapdragon 435Processor</td>\n",
       "      <td>7</td>\n",
       "    </tr>\n",
       "  </tbody>\n",
       "</table>\n",
       "<p>498 rows × 11 columns</p>\n",
       "</div>"
      ],
      "text/plain": [
       "     index                             model_names  ratings  price   \n",
       "0        0  REDMI 10 Power (Sporty Orange, 128 GB)      4.2  13500  \\\n",
       "1        1    REDMI 10 Power (Power Black, 128 GB)      4.2  12840   \n",
       "2        2   Redmi 9A Sport (Metallic Blue, 32 GB)      4.1   7520   \n",
       "3        3     Redmi 9A Sport (Coral Green, 32 GB)      4.2   8450   \n",
       "4        4  Xiaomi 11Lite NE (Vinyl Black, 128 GB)      4.2  21644   \n",
       "..     ...                                     ...      ...    ...   \n",
       "493    496      Xiaomi 11i 5G (Camo Green, 128 GB)      4.5  26999   \n",
       "494    497              Redmi Note 3 (Gold, 32 GB)      4.1   8999   \n",
       "495    498   Redmi Note 8 (Moonlight White, 32 GB)      4.3  11990   \n",
       "496    499    MI 11X 5G (CELESTIAL SILVER, 128 GB)      4.3  24999   \n",
       "497    500           Redmi Note 5 Pro (Red, 64 GB)      4.1  12500   \n",
       "\n",
       "                                                imgURL   \n",
       "0    https://rukminim2.flixcart.com/image/312/312/x...  \\\n",
       "1    https://rukminim2.flixcart.com/image/312/312/x...   \n",
       "2    https://rukminim2.flixcart.com/image/312/312/x...   \n",
       "3    https://rukminim2.flixcart.com/image/312/312/x...   \n",
       "4    https://rukminim2.flixcart.com/image/312/312/x...   \n",
       "..                                                 ...   \n",
       "493  https://rukminim2.flixcart.com/image/312/312/k...   \n",
       "494  https://rukminim2.flixcart.com/image/312/312/m...   \n",
       "495  https://rukminim2.flixcart.com/image/312/312/k...   \n",
       "496  https://rukminim2.flixcart.com/image/312/312/k...   \n",
       "497  https://rukminim2.flixcart.com/image/312/312/j...   \n",
       "\n",
       "                                               network battery storage ram   \n",
       "0         Network Type4G VOLTESupported Networks4G LTE    6000     128   8  \\\n",
       "1       Network Type4G VOLTESupported Networks4G VoLTE    6000     128   8   \n",
       "2     Network Type4G VOLTE, 4GSupported Networks4G LTE    5000      32   2   \n",
       "3    Network Type4G VOLTE, 4GSupported Networks4G V...    5000      32   3   \n",
       "4    Network Type5G, 4G VOLTESupported Networks5G, ...    4250     128   6   \n",
       "..                                                 ...     ...     ...  ..   \n",
       "493  Network Type3G, 4GSupported NetworksGSM, 4G LT...    4050      32   3   \n",
       "494  Network Type4G VOLTESupported Networks4G LTEBl...    4000      32   3   \n",
       "495  Network Type4G VOLTE, 5GSupported Networks4G V...    4520     128   6   \n",
       "496  Network Type3G, 4G VOLTE, 4GSupported Networks...    4000      64   4   \n",
       "497  Network Type3G, 4G, 2GSupported NetworksGSM, W...    3080      64   4   \n",
       "\n",
       "                                            processor android_version  \n",
       "0                                       not montioned              13  \n",
       "1                                       not montioned              13  \n",
       "2                                       not montioned              10  \n",
       "3                                       not montioned              10  \n",
       "4                   Qualcomm Snapdragon 778GProcessor              11  \n",
       "..                                                ...             ...  \n",
       "493  Qualcomm Snapdragon 650 64-bit 0 1.8GHzProcessor               5  \n",
       "494                                     not montioned               9  \n",
       "495                                     not montioned              11  \n",
       "496                  Qualcomm Snapdragon 636Processor               7  \n",
       "497                  Qualcomm Snapdragon 435Processor               7  \n",
       "\n",
       "[498 rows x 11 columns]"
      ]
     },
     "metadata": {},
     "output_type": "display_data"
    }
   ],
   "source": [
    "df"
   ]
  },
  {
   "cell_type": "markdown",
   "metadata": {},
   "source": [
    "## Model Name"
   ]
  },
  {
   "cell_type": "code",
   "execution_count": null,
   "metadata": {},
   "outputs": [
    {
     "name": "stdout",
     "output_type": "stream",
     "text": [
      "356 : REDMI 12c (Lavender Purple, 64 GB)\n",
      "139 : 11 Lite NE (Jazz Blue, 128 GB)\n",
      "8 : Redmi 9A Sport (Coral Green, 32 GB)\n",
      "38 : Xiaomi 11Lite NE (Diamond Dazzle, 128 GB)\n",
      "400 : Redmi K20 (Flame Red, 64 GB)\n",
      "318 : REDMI 9 Power (Electric Green, 64 GB)\n",
      "314 : REDMI Note 10S (Cosmic Purple, 128 GB)\n",
      "47 : Xiaomi 12 Pro 5G (Couture Blue, 256 GB)\n",
      "85 : Redmi 8A Dual (Midnight Grey, 32 GB)\n",
      "403 : Redmi 3S (Gold, 16 GB)\n",
      "300 : REDMI 10A SPORT (SEA BLUE, 128 GB)\n",
      "230 : REDMI 10 (Caribbean Green, 64 GB)\n",
      "171 : REDMI 11 Prime (Flashy Black, 128 GB)\n",
      "192 : REDMI Note 12 5G (Matte Black, 128 GB)\n",
      "338 : REDMI Note 9 (Aqua Green, 64 GB)\n",
      "76 : Redmi 4A (Gold, 32 GB)\n",
      "244 : REDMI 12C (Matte Black, 64 GB)\n",
      "5 : Redmi 10 Prime (Phantom Black, 64 GB)\n",
      "208 : REDMI 11 Prime 5G (Thunder Black, 64 GB)\n"
     ]
    }
   ],
   "source": [
    "random_values('model_names',19)"
   ]
  },
  {
   "cell_type": "code",
   "execution_count": null,
   "metadata": {},
   "outputs": [
    {
     "name": "stdout",
     "output_type": "stream",
     "text": [
      "Xiaomi 11Lite NE (Jazz Blue, 128 GB)\n",
      "Xiaomi 11Lite NE  \n",
      "\n",
      "REDMI Note 12 (Lunar Black, 64 GB)\n",
      "REDMI Note 12  \n",
      "\n",
      "11 Lite NE (Vinyl Black, 128 GB)\n",
      "11 Lite NE  \n",
      "\n",
      "Redmi 8 (Onyx Black, 64 GB)\n",
      "Redmi 8  \n",
      "\n",
      "Mi A2 (Black, 64 GB)\n",
      "Mi A2  \n",
      "\n",
      "REDMI Note 11 Pro (Phantom White, 128 GB)\n",
      "REDMI Note 11 Pro  \n",
      "\n",
      "REDMI Note 12 5G (Frosted Green, 128 GB)\n",
      "REDMI Note 12 5G  \n",
      "\n",
      "Redmi K20 Pro (Pearl White, 128 GB)\n",
      "Redmi K20 Pro  \n",
      "\n",
      "Redmi Note 7 Pro (Neptune Blue, 128 GB)\n",
      "Redmi Note 7 Pro  \n",
      "\n",
      "Redmi Note 3 (Gold, 32 GB)\n",
      "Redmi Note 3  \n",
      "\n"
     ]
    }
   ],
   "source": [
    "pattern=r'\\(.*$'\n",
    "for i in range(0,10):\n",
    "    data = df['model_names'].iloc[np.random.randint(df.shape[0])]\n",
    "    print(data)\n",
    "    words = re.sub(pattern,' ',data)\n",
    "    print(words)\n",
    "    print()"
   ]
  },
  {
   "cell_type": "code",
   "execution_count": null,
   "metadata": {},
   "outputs": [],
   "source": [
    "def remove_extra_name(text):\n",
    "    pattern=r'\\(.*$'\n",
    "    return ''.join(re.sub(pattern,'',text))\n"
   ]
  },
  {
   "cell_type": "code",
   "execution_count": null,
   "metadata": {},
   "outputs": [],
   "source": [
    "# df['model_names'] = df['model_names'].apply(remove_extra_name)"
   ]
  },
  {
   "cell_type": "code",
   "execution_count": null,
   "metadata": {},
   "outputs": [
    {
     "name": "stdout",
     "output_type": "stream",
     "text": [
      "425 : Redmi Note 4 (Dark Grey, 32 GB)\n",
      "278 : REDMI Note 11 (Horizon Blue, 64 GB)\n",
      "245 : REDMI Note 11S (Horizon Blue, 128 GB)\n",
      "237 : REDMI Note 12 Pro+ 5G (Arctic White, 256 GB)\n",
      "343 : REDMI A2 (Classic Black, 64 GB)\n",
      "134 : Mi Mix 2 (Black, 128 GB)\n"
     ]
    }
   ],
   "source": [
    "random_values('model_names')"
   ]
  },
  {
   "cell_type": "code",
   "execution_count": null,
   "metadata": {},
   "outputs": [
    {
     "data": {
      "text/plain": [
       "109"
      ]
     },
     "metadata": {},
     "output_type": "display_data"
    }
   ],
   "source": [
    "df['model_names'].duplicated().sum()"
   ]
  },
  {
   "cell_type": "markdown",
   "metadata": {},
   "source": [
    "## I will not do this."
   ]
  },
  {
   "cell_type": "markdown",
   "metadata": {},
   "source": [
    "## Network"
   ]
  },
  {
   "cell_type": "code",
   "execution_count": null,
   "metadata": {},
   "outputs": [
    {
     "name": "stdout",
     "output_type": "stream",
     "text": [
      "224 : Network Type5G, 4G VOLTE, 4G, 3G, 2GSupported Networks5G, 4G VoLTE, 4G LTE, WCDMA, GSMInternet Connectivity5G, 4G, 3G, Wi-Fi, EDGE, GPRS3GYesGPRSYesMicro USB PortYesMicro USB VersionUSB Type CBluetooth SupportYesBluetooth Versionv5.3Wi-Fi VersionSupports 2.4 GHz and 5 GHz Dual Band, Supports WiFi 6Wi-Fi HotspotYesMini HDMI PortNoNFCNoUSB TetheringYesInfraredYesUSB ConnectivityYesEDGEYesAudio Jack3.5mmMap SupportGoogle MapsGPS SupportYes\n",
      "226 : Network Type4G VOLTESupported Networks4G VoLTE\n",
      "404 : Network Type4G VOLTE, 4GSupported Networks4G VoLTE, 4G LTE\n",
      "265 : Network Type4G VOLTE, 4GSupported Networks4G VoLTE, 4G LTE\n",
      "87 : Network Type5GSupported Networks5G\n",
      "494 : Network Type4G VOLTESupported Networks4G LTEBluetooth SupportYesBluetooth Version4.2Wi-FiYesWi-Fi Version802.11a/b/g/n/acWi-Fi HotspotYesNFCNoAudio Jack3.5 mm\n"
     ]
    }
   ],
   "source": [
    "random_values('network')"
   ]
  },
  {
   "cell_type": "code",
   "execution_count": null,
   "metadata": {},
   "outputs": [],
   "source": [
    "df = df.drop(labels=['index'],axis=1)"
   ]
  },
  {
   "cell_type": "code",
   "execution_count": null,
   "metadata": {},
   "outputs": [
    {
     "data": {
      "text/html": [
       "<div>\n",
       "<style scoped>\n",
       "    .dataframe tbody tr th:only-of-type {\n",
       "        vertical-align: middle;\n",
       "    }\n",
       "\n",
       "    .dataframe tbody tr th {\n",
       "        vertical-align: top;\n",
       "    }\n",
       "\n",
       "    .dataframe thead th {\n",
       "        text-align: right;\n",
       "    }\n",
       "</style>\n",
       "<table border=\"1\" class=\"dataframe\">\n",
       "  <thead>\n",
       "    <tr style=\"text-align: right;\">\n",
       "      <th></th>\n",
       "      <th>model_names</th>\n",
       "      <th>ratings</th>\n",
       "      <th>price</th>\n",
       "      <th>imgURL</th>\n",
       "      <th>network</th>\n",
       "      <th>battery</th>\n",
       "      <th>storage</th>\n",
       "      <th>ram</th>\n",
       "      <th>processor</th>\n",
       "      <th>android_version</th>\n",
       "    </tr>\n",
       "  </thead>\n",
       "  <tbody>\n",
       "    <tr>\n",
       "      <th>0</th>\n",
       "      <td>REDMI 10 Power (Sporty Orange, 128 GB)</td>\n",
       "      <td>4.2</td>\n",
       "      <td>13500</td>\n",
       "      <td>https://rukminim2.flixcart.com/image/312/312/x...</td>\n",
       "      <td>Network Type4G VOLTESupported Networks4G LTE</td>\n",
       "      <td>6000</td>\n",
       "      <td>128</td>\n",
       "      <td>8</td>\n",
       "      <td>not montioned</td>\n",
       "      <td>13</td>\n",
       "    </tr>\n",
       "    <tr>\n",
       "      <th>1</th>\n",
       "      <td>REDMI 10 Power (Power Black, 128 GB)</td>\n",
       "      <td>4.2</td>\n",
       "      <td>12840</td>\n",
       "      <td>https://rukminim2.flixcart.com/image/312/312/x...</td>\n",
       "      <td>Network Type4G VOLTESupported Networks4G VoLTE</td>\n",
       "      <td>6000</td>\n",
       "      <td>128</td>\n",
       "      <td>8</td>\n",
       "      <td>not montioned</td>\n",
       "      <td>13</td>\n",
       "    </tr>\n",
       "    <tr>\n",
       "      <th>2</th>\n",
       "      <td>Redmi 9A Sport (Metallic Blue, 32 GB)</td>\n",
       "      <td>4.1</td>\n",
       "      <td>7520</td>\n",
       "      <td>https://rukminim2.flixcart.com/image/312/312/x...</td>\n",
       "      <td>Network Type4G VOLTE, 4GSupported Networks4G LTE</td>\n",
       "      <td>5000</td>\n",
       "      <td>32</td>\n",
       "      <td>2</td>\n",
       "      <td>not montioned</td>\n",
       "      <td>10</td>\n",
       "    </tr>\n",
       "    <tr>\n",
       "      <th>3</th>\n",
       "      <td>Redmi 9A Sport (Coral Green, 32 GB)</td>\n",
       "      <td>4.2</td>\n",
       "      <td>8450</td>\n",
       "      <td>https://rukminim2.flixcart.com/image/312/312/x...</td>\n",
       "      <td>Network Type4G VOLTE, 4GSupported Networks4G V...</td>\n",
       "      <td>5000</td>\n",
       "      <td>32</td>\n",
       "      <td>3</td>\n",
       "      <td>not montioned</td>\n",
       "      <td>10</td>\n",
       "    </tr>\n",
       "    <tr>\n",
       "      <th>4</th>\n",
       "      <td>Xiaomi 11Lite NE (Vinyl Black, 128 GB)</td>\n",
       "      <td>4.2</td>\n",
       "      <td>21644</td>\n",
       "      <td>https://rukminim2.flixcart.com/image/312/312/x...</td>\n",
       "      <td>Network Type5G, 4G VOLTESupported Networks5G, ...</td>\n",
       "      <td>4250</td>\n",
       "      <td>128</td>\n",
       "      <td>6</td>\n",
       "      <td>Qualcomm Snapdragon 778GProcessor</td>\n",
       "      <td>11</td>\n",
       "    </tr>\n",
       "    <tr>\n",
       "      <th>...</th>\n",
       "      <td>...</td>\n",
       "      <td>...</td>\n",
       "      <td>...</td>\n",
       "      <td>...</td>\n",
       "      <td>...</td>\n",
       "      <td>...</td>\n",
       "      <td>...</td>\n",
       "      <td>...</td>\n",
       "      <td>...</td>\n",
       "      <td>...</td>\n",
       "    </tr>\n",
       "    <tr>\n",
       "      <th>493</th>\n",
       "      <td>Xiaomi 11i 5G (Camo Green, 128 GB)</td>\n",
       "      <td>4.5</td>\n",
       "      <td>26999</td>\n",
       "      <td>https://rukminim2.flixcart.com/image/312/312/k...</td>\n",
       "      <td>Network Type3G, 4GSupported NetworksGSM, 4G LT...</td>\n",
       "      <td>4050</td>\n",
       "      <td>32</td>\n",
       "      <td>3</td>\n",
       "      <td>Qualcomm Snapdragon 650 64-bit 0 1.8GHzProcessor</td>\n",
       "      <td>5</td>\n",
       "    </tr>\n",
       "    <tr>\n",
       "      <th>494</th>\n",
       "      <td>Redmi Note 3 (Gold, 32 GB)</td>\n",
       "      <td>4.1</td>\n",
       "      <td>8999</td>\n",
       "      <td>https://rukminim2.flixcart.com/image/312/312/m...</td>\n",
       "      <td>Network Type4G VOLTESupported Networks4G LTEBl...</td>\n",
       "      <td>4000</td>\n",
       "      <td>32</td>\n",
       "      <td>3</td>\n",
       "      <td>not montioned</td>\n",
       "      <td>9</td>\n",
       "    </tr>\n",
       "    <tr>\n",
       "      <th>495</th>\n",
       "      <td>Redmi Note 8 (Moonlight White, 32 GB)</td>\n",
       "      <td>4.3</td>\n",
       "      <td>11990</td>\n",
       "      <td>https://rukminim2.flixcart.com/image/312/312/k...</td>\n",
       "      <td>Network Type4G VOLTE, 5GSupported Networks4G V...</td>\n",
       "      <td>4520</td>\n",
       "      <td>128</td>\n",
       "      <td>6</td>\n",
       "      <td>not montioned</td>\n",
       "      <td>11</td>\n",
       "    </tr>\n",
       "    <tr>\n",
       "      <th>496</th>\n",
       "      <td>MI 11X 5G (CELESTIAL SILVER, 128 GB)</td>\n",
       "      <td>4.3</td>\n",
       "      <td>24999</td>\n",
       "      <td>https://rukminim2.flixcart.com/image/312/312/k...</td>\n",
       "      <td>Network Type3G, 4G VOLTE, 4GSupported Networks...</td>\n",
       "      <td>4000</td>\n",
       "      <td>64</td>\n",
       "      <td>4</td>\n",
       "      <td>Qualcomm Snapdragon 636Processor</td>\n",
       "      <td>7</td>\n",
       "    </tr>\n",
       "    <tr>\n",
       "      <th>497</th>\n",
       "      <td>Redmi Note 5 Pro (Red, 64 GB)</td>\n",
       "      <td>4.1</td>\n",
       "      <td>12500</td>\n",
       "      <td>https://rukminim2.flixcart.com/image/312/312/j...</td>\n",
       "      <td>Network Type3G, 4G, 2GSupported NetworksGSM, W...</td>\n",
       "      <td>3080</td>\n",
       "      <td>64</td>\n",
       "      <td>4</td>\n",
       "      <td>Qualcomm Snapdragon 435Processor</td>\n",
       "      <td>7</td>\n",
       "    </tr>\n",
       "  </tbody>\n",
       "</table>\n",
       "<p>498 rows × 10 columns</p>\n",
       "</div>"
      ],
      "text/plain": [
       "                                model_names  ratings  price   \n",
       "0    REDMI 10 Power (Sporty Orange, 128 GB)      4.2  13500  \\\n",
       "1      REDMI 10 Power (Power Black, 128 GB)      4.2  12840   \n",
       "2     Redmi 9A Sport (Metallic Blue, 32 GB)      4.1   7520   \n",
       "3       Redmi 9A Sport (Coral Green, 32 GB)      4.2   8450   \n",
       "4    Xiaomi 11Lite NE (Vinyl Black, 128 GB)      4.2  21644   \n",
       "..                                      ...      ...    ...   \n",
       "493      Xiaomi 11i 5G (Camo Green, 128 GB)      4.5  26999   \n",
       "494              Redmi Note 3 (Gold, 32 GB)      4.1   8999   \n",
       "495   Redmi Note 8 (Moonlight White, 32 GB)      4.3  11990   \n",
       "496    MI 11X 5G (CELESTIAL SILVER, 128 GB)      4.3  24999   \n",
       "497           Redmi Note 5 Pro (Red, 64 GB)      4.1  12500   \n",
       "\n",
       "                                                imgURL   \n",
       "0    https://rukminim2.flixcart.com/image/312/312/x...  \\\n",
       "1    https://rukminim2.flixcart.com/image/312/312/x...   \n",
       "2    https://rukminim2.flixcart.com/image/312/312/x...   \n",
       "3    https://rukminim2.flixcart.com/image/312/312/x...   \n",
       "4    https://rukminim2.flixcart.com/image/312/312/x...   \n",
       "..                                                 ...   \n",
       "493  https://rukminim2.flixcart.com/image/312/312/k...   \n",
       "494  https://rukminim2.flixcart.com/image/312/312/m...   \n",
       "495  https://rukminim2.flixcart.com/image/312/312/k...   \n",
       "496  https://rukminim2.flixcart.com/image/312/312/k...   \n",
       "497  https://rukminim2.flixcart.com/image/312/312/j...   \n",
       "\n",
       "                                               network battery storage ram   \n",
       "0         Network Type4G VOLTESupported Networks4G LTE    6000     128   8  \\\n",
       "1       Network Type4G VOLTESupported Networks4G VoLTE    6000     128   8   \n",
       "2     Network Type4G VOLTE, 4GSupported Networks4G LTE    5000      32   2   \n",
       "3    Network Type4G VOLTE, 4GSupported Networks4G V...    5000      32   3   \n",
       "4    Network Type5G, 4G VOLTESupported Networks5G, ...    4250     128   6   \n",
       "..                                                 ...     ...     ...  ..   \n",
       "493  Network Type3G, 4GSupported NetworksGSM, 4G LT...    4050      32   3   \n",
       "494  Network Type4G VOLTESupported Networks4G LTEBl...    4000      32   3   \n",
       "495  Network Type4G VOLTE, 5GSupported Networks4G V...    4520     128   6   \n",
       "496  Network Type3G, 4G VOLTE, 4GSupported Networks...    4000      64   4   \n",
       "497  Network Type3G, 4G, 2GSupported NetworksGSM, W...    3080      64   4   \n",
       "\n",
       "                                            processor android_version  \n",
       "0                                       not montioned              13  \n",
       "1                                       not montioned              13  \n",
       "2                                       not montioned              10  \n",
       "3                                       not montioned              10  \n",
       "4                   Qualcomm Snapdragon 778GProcessor              11  \n",
       "..                                                ...             ...  \n",
       "493  Qualcomm Snapdragon 650 64-bit 0 1.8GHzProcessor               5  \n",
       "494                                     not montioned               9  \n",
       "495                                     not montioned              11  \n",
       "496                  Qualcomm Snapdragon 636Processor               7  \n",
       "497                  Qualcomm Snapdragon 435Processor               7  \n",
       "\n",
       "[498 rows x 10 columns]"
      ]
     },
     "metadata": {},
     "output_type": "display_data"
    }
   ],
   "source": [
    "df"
   ]
  },
  {
   "cell_type": "code",
   "execution_count": null,
   "metadata": {},
   "outputs": [
    {
     "name": "stdout",
     "output_type": "stream",
     "text": [
      "444 : Qualcomm Snapdragon 855Processor\n",
      "356 : not montioned\n",
      "169 : Qualcomm Snapdragon 675Processor\n",
      "324 : Qualcomm Snapdragon 662Processor\n",
      "8 : not montioned\n",
      "398 : Snapdragon 820 KryoProcessor\n",
      "450 : Qualcomm Snapdragon 675Processor\n",
      "130 : Qualcomm Snapdragon 730Processor\n",
      "150 : Qualcomm Snapdragon 636Processor\n",
      "214 : Qualcomm Snapdragon 625Processor\n"
     ]
    }
   ],
   "source": [
    "random_values('processor',10)"
   ]
  },
  {
   "cell_type": "code",
   "execution_count": null,
   "metadata": {},
   "outputs": [
    {
     "name": "stdout",
     "output_type": "stream",
     "text": [
      "['Qualcomm', 'Snapdragon', '4', 'Gen', '1Processor']\n",
      "['Qualcomm', 'Snapdragon', '4', 'Gen', '1Processor']\n",
      "['Qualcomm', 'Snapdragon', '4', 'Gen', '1Processor']\n",
      "['Qualcomm', 'Snapdragon', '4', 'Gen', '1Processor']\n",
      "['Qualcomm', 'Snapdragon', '4', 'Gen', '1Processor']\n",
      "['Qualcomm', 'Snapdragon', '4', 'Gen', '1Processor']\n",
      "['Qualcomm', 'Snapdragon', '4', 'Gen', '1Processor']\n",
      "['Qualcomm', 'Snapdragon', '4', 'Gen', '1Processor']\n",
      "['Qualcomm', 'Snapdragon', '4', 'Gen', '1Processor']\n"
     ]
    }
   ],
   "source": [
    "for i in range(0,len(df['processor'])):\n",
    "    row = df['processor'].iloc[i]\n",
    "    row = row.split()\n",
    "    if 'Snapdragon' and 'Gen' and '4' in row:\n",
    "        print(row)"
   ]
  },
  {
   "cell_type": "code",
   "execution_count": null,
   "metadata": {},
   "outputs": [
    {
     "name": "stdout",
     "output_type": "stream",
     "text": [
      "['Snapdragon', '8', 'Gen', '1Processor']\n",
      "['Snapdragon', '8', 'Gen', '1Processor']\n",
      "['Snapdragon', '8', 'Gen', '1Processor']\n",
      "['Snapdragon', '8', 'Gen', '1Processor']\n",
      "['Snapdragon', '8', 'Gen', '1Processor']\n",
      "['Snapdragon', '8', 'Gen', '1Processor']\n"
     ]
    }
   ],
   "source": [
    "for i in range(0,len(df['processor'])):\n",
    "    row = df['processor'].iloc[i]\n",
    "    row = row.split()\n",
    "    if 'Snapdragon' and 'Gen' and '8' in row:\n",
    "        print(row)"
   ]
  },
  {
   "cell_type": "code",
   "execution_count": null,
   "metadata": {},
   "outputs": [
    {
     "name": "stdout",
     "output_type": "stream",
     "text": [
      "['Snapdragon', '8', 'Gen', '1Processor']\n",
      "['Snapdragon', '8', 'Gen', '1Processor']\n",
      "['Snapdragon', '8', 'Gen', '1Processor']\n",
      "['Snapdragon', '8', 'Gen', '1Processor']\n",
      "['Snapdragon', '8', 'Gen', '1Processor']\n",
      "['Qualcomm', 'Snapdragon', '4', 'Gen', '1Processor']\n",
      "['Qualcomm', 'Snapdragon', '4', 'Gen', '1Processor']\n",
      "['Qualcomm', 'Snapdragon', '4', 'Gen', '1Processor']\n",
      "['Qualcomm', 'Snapdragon', '4', 'Gen', '1Processor']\n",
      "['Qualcomm', 'Snapdragon', '4', 'Gen', '1Processor']\n",
      "['Qualcomm', 'Snapdragon', '4', 'Gen', '1Processor']\n",
      "['Qualcomm', 'Snapdragon', '4', 'Gen', '1Processor']\n",
      "['Qualcomm', 'Snapdragon', '4', 'Gen', '1Processor']\n",
      "['Qualcomm', 'Snapdragon', '4', 'Gen', '1Processor']\n",
      "['Snapdragon', '8', 'Gen', '1Processor']\n"
     ]
    }
   ],
   "source": [
    "for i in range(0,len(df['processor'])):\n",
    "    row = df['processor'].iloc[i]\n",
    "    row = row.split()\n",
    "    if 'Snapdragon' and 'Gen' in row:\n",
    "        print(row)"
   ]
  },
  {
   "cell_type": "code",
   "execution_count": null,
   "metadata": {},
   "outputs": [
    {
     "name": "stdout",
     "output_type": "stream",
     "text": [
      "['Qualcomm', 'Snapdragon', '778GProcessor']\n",
      "['Qualcomm', 'Snapdragon', '732GProcessor']\n",
      "['Qualcomm', 'Snapdragon', '732GProcessor']\n",
      "['Snapdragon', '8', 'Gen', '1Processor']\n",
      "['Qualcomm', 'Snapdragon', '870Processor']\n",
      "['Qualcomm', 'Snapdragon', '439Processor']\n",
      "['Qualcomm', 'Snapdragon', '732GProcessor']\n",
      "['Qualcomm', 'Snapdragon', '439Processor']\n",
      "['Qualcomm', 'Snapdragon', '636Processor']\n",
      "['Qualcomm', 'Snapdragon', '636Processor']\n",
      "['Qualcomm', 'Snapdragon', '636Processor']\n",
      "['Qualcomm', 'Snapdragon', '636Processor']\n",
      "['Qualcomm', 'Snapdragon', '865Processor']\n",
      "['Qualcomm', 'Snapdragon', '425Processor']\n",
      "['Qualcomm', 'Snapdragon', '778GProcessor']\n",
      "['Qualcomm', 'Snapdragon', '778GProcessor']\n",
      "['Qualcomm', 'Snapdragon', '636Processor']\n",
      "['Qualcomm', 'Snapdragon', '660', 'AIEProcessor']\n",
      "['Snapdragon', '8', 'Gen', '1Processor']\n",
      "['Snapdragon', '8', 'Gen', '1Processor']\n",
      "['Snapdragon', '8', 'Gen', '1Processor']\n",
      "['Qualcomm', 'Snapdragon', '870Processor']\n",
      "['Qualcomm', 'Snapdragon', '870Processor']\n",
      "['Qualcomm', 'Snapdragon', '870Processor']\n",
      "['Snapdragon', '8', 'Gen', '1Processor']\n",
      "['Qualcomm', 'Snapdragon', '865Processor']\n",
      "['Qualcomm', 'Snapdragon', '439Processor']\n",
      "['Qualcomm', 'Snapdragon', '425Processor']\n",
      "['Qualcomm', 'Snapdragon', '865Processor']\n",
      "['Qualcomm', 'Snapdragon', '425Processor']\n",
      "['Qualcomm', 'Snapdragon', '439Processor']\n",
      "['Qualcomm', 'Snapdragon', '439Processor']\n",
      "['Qualcomm', 'Snapdragon', '425Processor']\n",
      "['Qualcomm', 'Snapdragon', '660', 'AIEProcessor']\n",
      "['Qualcomm', 'Snapdragon', '636Processor']\n",
      "['Qualcomm', 'Snapdragon', '439Processor']\n",
      "['Qualcomm', 'Snapdragon', '778GProcessor']\n",
      "['Qualcomm', 'Snapdragon', '778GProcessor']\n",
      "['Qualcomm', 'Snapdragon', '439Processor']\n",
      "['Qualcomm', 'Snapdragon', '865Processor']\n",
      "['Qualcomm', 'Snapdragon', '870Processor']\n",
      "['Qualcomm', 'Snapdragon', '425', '1.4', 'GHzProcessor']\n",
      "['Qualcomm', 'Snapdragon', '439Processor']\n",
      "['Qualcomm', 'Snapdragon', '439Processor']\n",
      "['Qualcomm', 'Snapdragon', '439Processor']\n",
      "['Qualcomm', 'Snapdragon', '425', '1.4', 'GHzProcessor']\n",
      "['Qualcomm', 'Snapdragon', '636Processor']\n",
      "['Qualcomm', 'Snapdragon', '865Processor']\n",
      "['Qualcomm', 'Snapdragon', '870Processor']\n",
      "['Qualcomm', 'Snapdragon', '660', 'AIEProcessor']\n",
      "['Qualcomm', 'Snapdragon', '439Processor']\n",
      "['Qualcomm', 'Snapdragon', '660', 'AIEProcessor']\n",
      "['Qualcomm', 'Snapdragon', '625Processor']\n",
      "['Qualcomm', 'Snapdragon', '660', 'AIEProcessor']\n",
      "['Qualcomm', 'Snapdragon', '439Processor']\n",
      "['Qualcomm', 'Snapdragon', '439Processor']\n",
      "['Qualcomm', 'Snapdragon', '660', 'AIEProcessor']\n",
      "['Qualcomm', 'Snapdragon', '888Processor']\n",
      "['Qualcomm', 'Snapdragon', '888Processor']\n",
      "['Qualcomm', 'Snapdragon', '439Processor']\n",
      "['Qualcomm', 'Snapdragon', '625Processor']\n",
      "['Qualcomm', 'Snapdragon', '660', 'AIEProcessor']\n",
      "['Qualcomm', 'Snapdragon', '730Processor']\n",
      "['Qualcomm', 'Snapdragon', '865Processor']\n",
      "['Qualcomm', 'Snapdragon', '778GProcessor']\n",
      "['Qualcomm', 'Snapdragon', '625Processor']\n",
      "['Qualcomm', 'Snapdragon', '625Processor']\n",
      "['Qualcomm', 'Snapdragon', '732GProcessor']\n",
      "['Qualcomm', 'Snapdragon', '636Processor']\n",
      "['Qualcomm', 'Snapdragon', '855Processor']\n",
      "['Qualcomm', 'Snapdragon', '430', '64-bit', 'Octa', 'Core', '1.4GHzProcessor']\n",
      "['Qualcomm', 'Snapdragon', '625Processor']\n",
      "['Qualcomm', 'Snapdragon', '439Processor']\n",
      "['Qualcomm', 'Snapdragon', '730Processor']\n",
      "['Qualcomm', 'Snapdragon', '730Processor']\n",
      "['Qualcomm', 'Snapdragon', '625Processor']\n",
      "['Qualcomm', 'Snapdragon', '730Processor']\n",
      "['Qualcomm', 'Snapdragon', '730Processor']\n",
      "['Qualcomm', 'Snapdragon', '636Processor']\n",
      "['Qualcomm', 'Snapdragon', '730Processor']\n",
      "['Qualcomm', 'Snapdragon', '660', 'AIEProcessor']\n",
      "['Qualcomm', 'Snapdragon', '660', 'AIEProcessor']\n",
      "['Qualcomm', 'Snapdragon', '675Processor']\n",
      "['Qualcomm', 'Snapdragon', '675Processor']\n",
      "['Qualcomm', 'Snapdragon', '625', '64', 'bit', 'Octa', 'Core', '2GHzProcessor']\n",
      "['Qualcomm', 'Snapdragon', '888Processor']\n",
      "['Qualcomm', 'MSM8274AC', 'Snapdragon', '801', 'Krait', '400Processor']\n",
      "['Qualcomm', 'Snapdragon', '730Processor']\n",
      "['Qualcomm', 'Snapdragon', '665Processor']\n",
      "['Qualcomm', 'Snapdragon', '835', 'Octa', 'Core', '2.5', 'GHzProcessor']\n",
      "['Qualcomm', 'Snapdragon', '636Processor']\n",
      "['Qualcomm', 'Snapdragon', '625', '64-bit', 'Octa', 'Core', '2GHzProcessor']\n",
      "['Qualcomm', 'Snapdragon', '625Processor']\n",
      "['Qualcomm', 'Snapdragon', '425Processor']\n",
      "['Qualcomm', 'Snapdragon', '425Processor']\n",
      "['Qualcomm', 'Snapdragon', '425Processor']\n",
      "['Qualcomm', 'Snapdragon', '636Processor']\n",
      "['Qualcomm', 'Snapdragon', '425Processor']\n",
      "['Qualcomm', 'Snapdragon', '425Processor']\n",
      "['Qualcomm', 'Snapdragon', '425Processor']\n",
      "['Qualcomm', 'Snapdragon', '855Processor']\n",
      "['Qualcomm', 'Snapdragon', '636Processor']\n",
      "['Qualcomm', 'Snapdragon', '625', '64-bit', 'Octa', 'Core', '2GHzProcessor']\n",
      "['Qualcomm', 'Snapdragon', '625', '64-bit', 'Octa', 'Core', '2GHzProcessor']\n",
      "['Qualcomm', 'Snapdragon', '636Processor']\n",
      "['Qualcomm', 'Snapdragon', '660', 'AIEProcessor']\n",
      "['Qualcomm', 'Snapdragon', '665Processor']\n",
      "['Qualcomm', 'Snapdragon', '636Processor']\n",
      "['Qualcomm', 'Snapdragon', '660', 'AIEProcessor']\n",
      "['Qualcomm', 'Snapdragon', '665Processor']\n",
      "['Qualcomm', 'Snapdragon', '625', '64', 'bit', 'Octa', 'Core', '2GHzProcessor']\n",
      "['Qualcomm', 'Snapdragon', '855Processor']\n",
      "['Qualcomm', 'Snapdragon', '675Processor']\n",
      "['Qualcomm', 'Snapdragon', '636Processor']\n",
      "['Qualcomm', 'Snapdragon', '625', '64-bit', 'Octa', 'Core', '2GHzProcessor']\n",
      "['Qualcomm', 'Snapdragon', '660', 'AIEProcessor']\n",
      "['Qualcomm', 'Snapdragon', '675Processor']\n",
      "['Qualcomm', 'Snapdragon', '855Processor']\n",
      "['Qualcomm', 'Snapdragon', '665Processor']\n",
      "['Qualcomm', 'Snapdragon', '675Processor']\n",
      "['Qualcomm', 'Snapdragon', '675Processor']\n",
      "['Qualcomm', 'Snapdragon', '675Processor']\n",
      "['Qualcomm', 'Snapdragon', '680Processor']\n",
      "['Snapdragon', '685Processor']\n",
      "['Snapdragon', '685Processor']\n",
      "['Qualcomm', 'Snapdragon', '680Processor']\n",
      "['Qualcomm', 'Snapdragon', '4', 'Gen', '1Processor']\n",
      "['Snapdragon', '685Processor']\n",
      "['Qualcomm', 'Snapdragon', '4', 'Gen', '1Processor']\n",
      "['Qualcomm', 'Snapdragon', '4', 'Gen', '1Processor']\n",
      "['Qualcomm', 'Snapdragon', '4', 'Gen', '1Processor']\n",
      "['Snapdragon', '685Processor']\n",
      "['Snapdragon', '685Processor']\n",
      "['Qualcomm', 'Snapdragon', '4', 'Gen', '1Processor']\n",
      "['Qualcomm', 'Snapdragon', '680Processor']\n",
      "['Qualcomm', 'Snapdragon', '4', 'Gen', '1Processor']\n",
      "['Qualcomm', 'Snapdragon', '680Processor']\n",
      "['Qualcomm', 'Snapdragon', '625Processor']\n",
      "['Qualcomm', 'Snapdragon', '888Processor']\n",
      "['Qualcomm', 'Snapdragon', '720GProcessor']\n",
      "['Qualcomm', 'Snapdragon', '660', 'AIEProcessor']\n",
      "['Qualcomm', 'Snapdragon', '660', 'AIEProcessor']\n",
      "['Snapdragon', '685Processor']\n",
      "['Qualcomm', 'Snapdragon', '680Processor']\n",
      "['Qualcomm', 'Snapdragon', '680Processor']\n",
      "['Qualcomm', 'Snapdragon', '662Processor']\n",
      "['Qualcomm', 'Snapdragon', '680Processor']\n",
      "['Qualcomm', 'Snapdragon', '680Processor']\n",
      "['Qualcomm', 'Snapdragon', '732GProcessor']\n",
      "['Qualcomm', 'Snapdragon', '4', 'Gen', '1Processor']\n",
      "['Qualcomm', 'Snapdragon', '4', 'Gen', '1Processor']\n",
      "['Qualcomm', 'Snapdragon', '4', 'Gen', '1Processor']\n",
      "['Qualcomm', 'Snapdragon', '720GProcessor']\n",
      "['Qualcomm', 'Snapdragon', '662Processor']\n",
      "['Qualcomm', 'Snapdragon', '662Processor']\n",
      "['Qualcomm', 'Snapdragon', '732GProcessor']\n",
      "['Qualcomm', 'Snapdragon', '732GProcessor']\n",
      "['Qualcomm', 'Snapdragon', '662Processor']\n",
      "['Qualcomm', 'Snapdragon', '720GProcessor']\n",
      "['Qualcomm', 'Snapdragon', '662Processor']\n",
      "['Qualcomm', 'Snapdragon', '678Processor']\n",
      "['Qualcomm', 'Snapdragon', '660', 'AIEProcessor']\n",
      "['Qualcomm', 'Snapdragon', '778GProcessor']\n",
      "['Qualcomm', 'Snapdragon', '660', 'AIEProcessor']\n",
      "['Qualcomm', 'Snapdragon', '636Processor']\n",
      "['Qualcomm', 'Snapdragon', '439Processor']\n",
      "['Qualcomm', 'Snapdragon', '650', '64-bitProcessor']\n",
      "['Qualcomm', 'Snapdragon', '439Processor']\n",
      "['Snapdragon', '8', 'Gen', '1Processor']\n",
      "['Qualcomm', 'Snapdragon', '439Processor']\n",
      "['Qualcomm', 'Snapdragon', '665Processor']\n",
      "['Qualcomm', 'Snapdragon', '732GProcessor']\n",
      "['Qualcomm', 'Snapdragon', '732GProcessor']\n",
      "['Snapdragon', '820', 'KryoProcessor']\n",
      "['Qualcomm', 'Snapdragon', '430', '64-bit', 'Octa', 'Core', '1.4GHzProcessor']\n",
      "['Qualcomm', 'Snapdragon', '730Processor']\n",
      "['Qualcomm', 'Snapdragon', '430', '64-bit', 'Octa', 'Core', '1.4GHzProcessor']\n",
      "['Qualcomm', 'Snapdragon', '430', '64-bit', 'Octa', 'Core', '1.4GHzProcessor']\n",
      "['Qualcomm', 'Snapdragon', '675Processor']\n",
      "['Qualcomm', 'Snapdragon', '439Processor']\n",
      "['Qualcomm', 'Snapdragon', '778GProcessor']\n",
      "['Qualcomm', 'Snapdragon', '660', 'AIEProcessor']\n",
      "['Qualcomm', 'Snapdragon', '450Processor']\n",
      "['Qualcomm', 'Snapdragon', '625', '64-bit', 'Octa', 'Core', '2GHzProcessor']\n",
      "['Qualcomm', 'Snapdragon', '625', '64-bit', 'Octa', 'Core', '2GHzProcessor']\n",
      "['Qualcomm', 'Snapdragon', '730Processor']\n",
      "['Qualcomm', 'Snapdragon', '865Processor']\n",
      "['Snapdragon', '820', 'KryoProcessor']\n",
      "['Qualcomm', 'Snapdragon', '855Processor']\n",
      "['Qualcomm', 'Snapdragon', '665Processor']\n",
      "['Qualcomm', 'Snapdragon', '855Processor']\n",
      "['Qualcomm', 'Snapdragon', '650', '64-bitProcessor']\n",
      "['Qualcomm', 'Snapdragon', '636Processor']\n",
      "['Qualcomm', 'Snapdragon', '855Processor']\n",
      "['Qualcomm', 'Snapdragon', '660', 'AIEProcessor']\n",
      "['Snapdragon', '820', 'KryoProcessor']\n",
      "['Qualcomm', 'Snapdragon', '660', 'AIEProcessor']\n",
      "['Qualcomm', 'Snapdragon', '888Processor']\n",
      "['2nd-gen', 'Snapdragon', '615', '64-bit', 'octa-coreProcessor']\n",
      "['Qualcomm', 'Snapdragon', '675Processor']\n",
      "['Qualcomm', 'Snapdragon', '450Processor']\n",
      "['Qualcomm', 'Snapdragon', '450Processor']\n",
      "['Qualcomm', 'Snapdragon', '650', '64-bitProcessor']\n",
      "['Qualcomm', 'Snapdragon', '660', 'AIEProcessor']\n",
      "['qualcomm', 'Qualcomm', 'Snapdragon', '800', '8274AB', 'Quad', 'Core', '2.3GHzProcessor']\n",
      "['Qualcomm', 'Snapdragon', '660', 'AIEProcessor']\n",
      "['Qualcomm', 'Snapdragon', '665Processor']\n",
      "['Qualcomm', 'Snapdragon', '660', 'AIEProcessor']\n",
      "['Qualcomm', 'Snapdragon', '625Processor']\n",
      "['Qualcomm', 'Snapdragon', '625Processor']\n",
      "['Qualcomm', 'Snapdragon', '625Processor']\n",
      "['Qualcomm', 'Snapdragon', '665Processor']\n",
      "['Qualcomm', 'Snapdragon', '625', '64', 'bit', 'Octa', 'Core', '2GHzProcessor']\n",
      "['Qualcomm', 'Snapdragon', '855Processor']\n",
      "['Qualcomm', 'Snapdragon', '675Processor']\n",
      "['Qualcomm', 'Snapdragon', '430', '64-bit', 'Octa', 'Core', '1.4GHzProcessor']\n",
      "['Qualcomm', 'Snapdragon', '675Processor']\n",
      "['Qualcomm', 'Snapdragon', '430', '64-bit', 'Octa', 'Core', '1.4GHzProcessor']\n",
      "['Qualcomm', 'Snapdragon', '865Processor']\n",
      "['Qualcomm', 'Snapdragon', '865Processor']\n",
      "['Qualcomm', 'Snapdragon', '625Processor']\n",
      "['Qualcomm', 'Snapdragon', '430', '64-bit', 'Octa', 'Core', '1.4GHzProcessor']\n",
      "['Qualcomm', 'Snapdragon', '410', 'MSM8916Processor']\n",
      "['Qualcomm', 'Snapdragon', '410', 'MSM8916Processor']\n",
      "['Qualcomm', 'Snapdragon', '665Processor']\n",
      "['Qualcomm', 'Snapdragon', '650', '64-bit', '0', '1.8GHzProcessor']\n",
      "['Qualcomm', 'Snapdragon', '636Processor']\n",
      "['Qualcomm', 'Snapdragon', '435Processor']\n"
     ]
    }
   ],
   "source": [
    "for i in range(0,len(df['processor'])):\n",
    "    row = df['processor'].iloc[i]\n",
    "    row = row.split()\n",
    "    if 'Snapdragon' in row:\n",
    "        print(row)"
   ]
  },
  {
   "cell_type": "code",
   "execution_count": null,
   "metadata": {},
   "outputs": [
    {
     "name": "stdout",
     "output_type": "stream",
     "text": [
      "['Mediatek', 'Dimensity', '920Processor']\n",
      "['Mediatek', 'Dimensity', '920Processor']\n",
      "['Mediatek', 'Dimensity', '920Processor']\n",
      "['Mediatek', 'Dimensity', '920Processor']\n",
      "['Mediatek', 'Dimensity', '920Processor']\n",
      "['Mediatek', 'Dimensity', '1080Processor']\n",
      "['Mediatek', 'Dimensity', '1080Processor']\n",
      "['Mediatek', 'Dimensity', '1080Processor']\n",
      "['Dimensity', '8100Processor']\n",
      "['Mediatek', 'Dimensity', '1080Processor']\n",
      "['Mediatek', 'Dimensity', '1080Processor']\n",
      "['Mediatek', 'Dimensity', '1080Processor']\n",
      "['Mediatek', 'Dimensity', '1080Processor']\n",
      "['Mediatek', 'Dimensity', '920Processor']\n",
      "['Mediatek', 'Dimensity', '1080Processor']\n",
      "['Mediatek', 'Dimensity', '1080Processor']\n",
      "['Dimensity', '8100Processor']\n",
      "['Mediatek', 'Dimensity', '1080Processor']\n",
      "['Mediatek', 'Dimensity', '1080Processor']\n",
      "['Mediatek', 'Dimensity', '1080Processor']\n",
      "['Mediatek', 'Dimensity', '1080Processor']\n",
      "['Mediatek', 'Dimensity', '1080Processor']\n",
      "['Dimensity', '8100Processor']\n",
      "['Mediatek', 'Dimensity', '700Processor']\n",
      "['Mediatek', 'Dimensity', '700Processor']\n",
      "['Mediatek', 'Dimensity', '700Processor']\n",
      "['Dimensity', '8100Processor']\n",
      "['Mediatek', 'Dimensity', '700Processor']\n",
      "['Mediatek', 'Dimensity', '700Processor']\n",
      "['Mediatek', 'Dimensity', '700Processor']\n",
      "['Mediatek', 'Dimensity', '920Processor']\n",
      "['Mediatek', 'Dimensity', '920Processor']\n",
      "['Mediatek', 'Dimensity', '920Processor']\n",
      "['Mediatek', 'Dimensity', '920Processor']\n",
      "['Mediatek', 'Dimensity', '920Processor']\n",
      "['Mediatek', 'Dimensity', '920Processor']\n",
      "['Mediatek', 'Dimensity', '920Processor']\n",
      "['Mediatek', 'Dimensity', '920Processor']\n",
      "['Mediatek', 'Dimensity', '920Processor']\n"
     ]
    }
   ],
   "source": [
    "for i in range(0,len(df['processor'])):\n",
    "    row = df['processor'].iloc[i]\n",
    "    row = row.split()\n",
    "    if 'Mediatek' and 'Dimensity' in row:\n",
    "        print(row)"
   ]
  },
  {
   "cell_type": "code",
   "execution_count": null,
   "metadata": {},
   "outputs": [
    {
     "name": "stdout",
     "output_type": "stream",
     "text": [
      "['MediaTek', 'Helio', 'G35Processor']\n",
      "['MediaTek', 'Helio', 'G25Processor']\n",
      "['MediaTek', 'Helio', 'G25Processor']\n",
      "['Helio', 'G99Processor']\n",
      "['Helio', 'G99Processor']\n",
      "['Helio', 'G99Processor']\n",
      "['Mediatek', 'Helio', 'A22Processor']\n",
      "['Mediatek', 'Helio', 'A22Processor']\n",
      "['Mediatek', 'Helio', 'A22Processor']\n",
      "['Mediatek', 'Helio', 'A22Processor']\n",
      "['Mediatek', 'Helio', 'A22Processor']\n",
      "['Mediatek', 'Helio', 'A22Processor']\n",
      "['Helio', 'G99Processor']\n",
      "['Helio', 'G99Processor']\n",
      "['Mediatek', 'Helio', 'G35Processor']\n",
      "['Helio', 'G99Processor']\n",
      "['Mediatek', 'Helio', 'G95Processor']\n",
      "['MediaTek', 'Helio', 'G85Processor']\n",
      "['MediaTek', 'Helio', 'G80Processor']\n",
      "['Helio', 'G88Processor']\n",
      "['MediaTek', 'Helio', 'G80Processor']\n",
      "['Mediatek', 'Helio', 'G35Processor']\n",
      "['MediaTek', 'Helio', 'G85Processor']\n",
      "['Mediatek', 'Helio', 'G95Processor']\n",
      "['Mediatek', 'Helio', 'G35Processor']\n",
      "['MediaTek', 'Helio', 'G85Processor']\n",
      "['Mediatek', 'Helio', 'G95Processor']\n",
      "['Mediatek', 'Helio', 'G35Processor']\n",
      "['MediaTek', 'Helio', 'G85Processor']\n",
      "['Helio', 'G88Processor']\n",
      "['Mediatek', 'Helio', 'G95Processor']\n",
      "['MediaTek', 'Helio', 'G80Processor']\n",
      "['MediaTek', 'Helio', 'G25Processor']\n",
      "['MediaTek', 'Helio', 'G85Processor']\n",
      "['MediaTek', 'Helio', 'G80Processor']\n",
      "['MediaTek', 'Helio', 'G80Processor']\n",
      "['Mediatek', 'Helio', 'G95Processor']\n",
      "['Mediatek', 'Helio', 'G95Processor']\n",
      "['MediaTek', 'Helio', 'G85Processor']\n",
      "['Mediatek', 'Helio', 'G36Processor']\n",
      "['Mediatek', 'Helio', 'G36Processor']\n",
      "['MediaTek', 'Helio', 'G85Processor']\n",
      "['Mediatek', 'Helio', 'G95Processor']\n",
      "['MediaTek', 'Helio', 'G25Processor']\n",
      "['MediaTek', 'Helio', 'G85Processor']\n",
      "['MediaTek', 'Helio', 'G85Processor']\n",
      "['MediaTek', 'Helio', 'G90TProcessor']\n",
      "['MediaTek', 'Helio', 'G90TProcessor']\n",
      "['MediaTek', 'Helio', 'G90TProcessor']\n",
      "['MediaTek', 'Helio', 'G90TProcessor']\n",
      "['MediaTek', 'Helio', 'G90TProcessor']\n",
      "['MediaTek', 'Helio', 'G90TProcessor']\n",
      "['MediaTek', 'Helio', 'G90TProcessor']\n",
      "['Mediatek', 'MT6769Z', 'Helio', 'G85Processor']\n",
      "['Mediatek', 'Helio', 'G25Processor']\n"
     ]
    }
   ],
   "source": [
    "for i in range(0,len(df['processor'])):\n",
    "    row = df['processor'].iloc[i]\n",
    "    row = row.split()\n",
    "    if 'Mediatek' and 'Helio' in row:\n",
    "        pattern = r'\\d+[Processor]'\n",
    "        string = ' '.join(row)\n",
    "        # # print(string)\n",
    "        mathc = re.findall(pattern,string)\n",
    "        print(row)"
   ]
  },
  {
   "cell_type": "code",
   "execution_count": null,
   "metadata": {},
   "outputs": [],
   "source": [
    "def processor_extract(text):\n",
    "    splitted_sentence = text.split()\n",
    "    if 'Mediatek' and 'Helio' in splitted_sentence:\n",
    "        pattern = r'\\d+[Processor]'\n",
    "        string = ' '.join(splitted_sentence)\n",
    "        match = re.findall(pattern,string)\n",
    "        return 'Heilo'+''.join(match)\n",
    "\n",
    "    elif 'Mediatek' and 'Dimensity' in splitted_sentence:\n",
    "        pattern = r'\\d+[Processor]'\n",
    "        string = ' '.join(splitted_sentence)\n",
    "        match = re.findall(pattern,string)\n",
    "        return 'Dimensity'+ ''.join(match)\n",
    "\n",
    "    elif 'Snapdragon' and 'Gen' and '4' in splitted_sentence:\n",
    "        return 'Gen4'   \n",
    "\n",
    "    elif 'Snapdragon' and 'Gen' and '8' in splitted_sentence:         \n",
    "        return 'Gen8'\n",
    "    \n",
    "    elif 'Snapdragon' in splitted_sentence:\n",
    "        pattern = r'\\d+[Processor]|\\d+[GProcessor]'\n",
    "        if 'Gen' and '4' and '8' not in splitted_sentence:\n",
    "            string = ' '.join(splitted_sentence)\n",
    "            match = re.findall(pattern,string)\n",
    "            return 'Snapdragon'+''.join(match)\n",
    "\n",
    "    else:\n",
    "        return 'not mentioned'      "
   ]
  },
  {
   "cell_type": "code",
   "execution_count": null,
   "metadata": {},
   "outputs": [
    {
     "data": {
      "text/plain": [
       "'Snapdragon870P'"
      ]
     },
     "metadata": {},
     "output_type": "display_data"
    }
   ],
   "source": [
    "processor_extract(df['processor'][43])"
   ]
  },
  {
   "cell_type": "code",
   "execution_count": null,
   "metadata": {},
   "outputs": [],
   "source": [
    "df['processor']=df['processor'].apply(processor_extract)"
   ]
  },
  {
   "cell_type": "code",
   "execution_count": null,
   "metadata": {},
   "outputs": [
    {
     "name": "stdout",
     "output_type": "stream",
     "text": [
      "441 : Dimensity920P\n",
      "218 : Snapdragon\n",
      "279 : Heilo88P\n",
      "361 : Heilo\n",
      "455 : Snapdragon3G\n",
      "423 : Snapdragon450P\n"
     ]
    }
   ],
   "source": [
    "random_values('processor')"
   ]
  },
  {
   "cell_type": "code",
   "execution_count": null,
   "metadata": {},
   "outputs": [
    {
     "data": {
      "text/plain": [
       "(32, 10)"
      ]
     },
     "metadata": {},
     "output_type": "display_data"
    }
   ],
   "source": [
    "df[df['processor'] == 'Snapdragon'].shape"
   ]
  },
  {
   "cell_type": "code",
   "execution_count": null,
   "metadata": {},
   "outputs": [],
   "source": [
    "df['processor'].value_counts()"
   ]
  },
  {
   "cell_type": "code",
   "execution_count": null,
   "metadata": {},
   "outputs": [
    {
     "name": "stdout",
     "output_type": "stream",
     "text": [
      "475 : Network Type5GSupported Networks5G\n",
      "497 : Network Type3G, 4G, 2GSupported NetworksGSM, WCDMA, 4G LTEInternet Connectivity4G, 3G, Wi-Fi3GYesBluetooth SupportYesBluetooth Version4.1Wi-FiYesWi-Fi Version801.11 b/g/nUSB ConnectivityYesMap SupportGoogle MapsGPS SupportYes\n",
      "165 : Network Type3G, 4G VOLTE, 2GSupported NetworksGSM, WCDMA, 4G VoLTE, 4G LTEInternet Connectivity4G, 3G, Wi-FiBluetooth SupportYesBluetooth Versionv5.0Wi-FiYesWi-Fi Version802.11 a/b/g/n/acUSB ConnectivityYesAudio Jack3.5mmMap SupportGoogle MapsGPS SupportYes\n",
      "95 : Network Type5G, 4G, 3G, 2GSupported Networks5G, 4G LTE, WCDMA, GSMInternet Connectivity5G, 4G, 3G, Wi-Fi, EDGE, GPRS3GYesGPRSYesPre-installed BrowserGoogle ChromeBluetooth SupportYesBluetooth Versionv5.2Wi-FiYesWi-Fi Version802.11 a/b/g/n/ac/ax (Wi-Fi 6)Wi-Fi HotspotYesInfraredYesUSB ConnectivityYesEDGEYesMap SupportGoogle MapsGPS SupportYes\n",
      "107 : Network Type3G, 4G VOLTE, 4GSupported NetworksGSM, WCDMA, 4G VoLTE, UMTS, 4G LTEInternet Connectivity4G, 3G, Wi-Fi3GYesMicro USB PortYesBluetooth SupportYesBluetooth Version5Wi-FiYesWi-Fi Version802.11 a/b/g/n/acUSB ConnectivityYesAudio Jack3.5 mmMap SupportGoogle MapsGPS SupportYes\n",
      "262 : Network Type4G VOLTE, 4GSupported Networks4G VoLTE, 4G LTE\n"
     ]
    }
   ],
   "source": [
    "random_values('network')"
   ]
  }
 ],
 "metadata": {
  "kernelspec": {
   "display_name": "Python 3",
   "language": "python",
   "name": "python3"
  },
  "language_info": {
   "codemirror_mode": {
    "name": "ipython",
    "version": 3
   },
   "file_extension": ".py",
   "mimetype": "text/x-python",
   "name": "python",
   "nbconvert_exporter": "python",
   "pygments_lexer": "ipython3",
   "version": "3.11.3"
  },
  "orig_nbformat": 4
 },
 "nbformat": 4,
 "nbformat_minor": 2
}
