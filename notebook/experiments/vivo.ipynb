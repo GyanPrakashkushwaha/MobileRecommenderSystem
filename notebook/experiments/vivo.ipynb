{
 "cells": [
  {
   "cell_type": "code",
   "execution_count": 2,
   "metadata": {},
   "outputs": [],
   "source": [
    "import pandas as pd\n",
    "import os\n",
    "import numpy as np\n",
    "from ensure import ensure_annotations\n",
    "import re\n",
    "import warnings\n",
    "warnings.filterwarnings('ignore')"
   ]
  },
  {
   "cell_type": "code",
   "execution_count": 3,
   "metadata": {},
   "outputs": [
    {
     "name": "stdout",
     "output_type": "stream",
     "text": [
      "d:\\vscode_machineLearning\\BEST_PROJECTS\\mobileRecommenderSystem\\notebook\\experiments\n",
      "None\n",
      "d:\\vscode_machineLearning\\BEST_PROJECTS\\mobileRecommenderSystem\n"
     ]
    }
   ],
   "source": [
    "print(os.getcwd())\n",
    "print(os.chdir(r'd:\\vscode_machineLearning\\BEST_PROJECTS\\mobileRecommenderSystem'))\n",
    "print(os.getcwd())"
   ]
  },
  {
   "cell_type": "code",
   "execution_count": 4,
   "metadata": {},
   "outputs": [],
   "source": [
    "df = pd.read_csv(r'data\\raw_data\\vivo_mobile_data.csv',index_col=None)"
   ]
  },
  {
   "cell_type": "code",
   "execution_count": 5,
   "metadata": {},
   "outputs": [
    {
     "data": {
      "text/plain": [
       "index           0\n",
       "name            0\n",
       "ratings         0\n",
       "price           0\n",
       "imgURL          0\n",
       "storage_ram     0\n",
       "camera          1\n",
       "oS_Processor    0\n",
       "display         0\n",
       "network         0\n",
       "battery         0\n",
       "ram             0\n",
       "dtype: int64"
      ]
     },
     "execution_count": 5,
     "metadata": {},
     "output_type": "execute_result"
    }
   ],
   "source": [
    "df.isnull().sum()"
   ]
  },
  {
   "cell_type": "code",
   "execution_count": 8,
   "metadata": {},
   "outputs": [
    {
     "data": {
      "text/html": [
       "<div>\n",
       "<style scoped>\n",
       "    .dataframe tbody tr th:only-of-type {\n",
       "        vertical-align: middle;\n",
       "    }\n",
       "\n",
       "    .dataframe tbody tr th {\n",
       "        vertical-align: top;\n",
       "    }\n",
       "\n",
       "    .dataframe thead th {\n",
       "        text-align: right;\n",
       "    }\n",
       "</style>\n",
       "<table border=\"1\" class=\"dataframe\">\n",
       "  <thead>\n",
       "    <tr style=\"text-align: right;\">\n",
       "      <th></th>\n",
       "      <th>index</th>\n",
       "      <th>name</th>\n",
       "      <th>ratings</th>\n",
       "      <th>price</th>\n",
       "      <th>imgURL</th>\n",
       "      <th>storage_ram</th>\n",
       "      <th>camera</th>\n",
       "      <th>oS_Processor</th>\n",
       "      <th>display</th>\n",
       "      <th>network</th>\n",
       "      <th>battery</th>\n",
       "      <th>ram</th>\n",
       "    </tr>\n",
       "  </thead>\n",
       "  <tbody>\n",
       "    <tr>\n",
       "      <th>183</th>\n",
       "      <td>183</td>\n",
       "      <td>OPPO Reno (JET BLACK, 128 GB)</td>\n",
       "      <td>4.1</td>\n",
       "      <td>25546</td>\n",
       "      <td>https://rukminim2.flixcart.com/image/312/312/k...</td>\n",
       "      <td>Internal Storage128 GBRAM8 GBMemory Card Slot ...</td>\n",
       "      <td>NaN</td>\n",
       "      <td>Primary Camera48MP Rear CameraDual Camera Lens...</td>\n",
       "      <td>Display Size16.26 cm (6.4 inch)Resolution1440 ...</td>\n",
       "      <td>Network Type3G, 4GSupported NetworksGSM, 4G LTE</td>\n",
       "      <td>Battery Capacity3765 mAh</td>\n",
       "      <td>8</td>\n",
       "    </tr>\n",
       "  </tbody>\n",
       "</table>\n",
       "</div>"
      ],
      "text/plain": [
       "     index                           name  ratings  price   \n",
       "183    183  OPPO Reno (JET BLACK, 128 GB)      4.1  25546  \\\n",
       "\n",
       "                                                imgURL   \n",
       "183  https://rukminim2.flixcart.com/image/312/312/k...  \\\n",
       "\n",
       "                                           storage_ram camera   \n",
       "183  Internal Storage128 GBRAM8 GBMemory Card Slot ...    NaN  \\\n",
       "\n",
       "                                          oS_Processor   \n",
       "183  Primary Camera48MP Rear CameraDual Camera Lens...  \\\n",
       "\n",
       "                                               display   \n",
       "183  Display Size16.26 cm (6.4 inch)Resolution1440 ...  \\\n",
       "\n",
       "                                             network   \n",
       "183  Network Type3G, 4GSupported NetworksGSM, 4G LTE  \\\n",
       "\n",
       "                      battery ram  \n",
       "183  Battery Capacity3765 mAh   8  "
      ]
     },
     "execution_count": 8,
     "metadata": {},
     "output_type": "execute_result"
    }
   ],
   "source": [
    "df[df['camera'].isnull() == True]"
   ]
  },
  {
   "cell_type": "code",
   "execution_count": 8,
   "metadata": {},
   "outputs": [
    {
     "data": {
      "text/html": [
       "<div>\n",
       "<style scoped>\n",
       "    .dataframe tbody tr th:only-of-type {\n",
       "        vertical-align: middle;\n",
       "    }\n",
       "\n",
       "    .dataframe tbody tr th {\n",
       "        vertical-align: top;\n",
       "    }\n",
       "\n",
       "    .dataframe thead th {\n",
       "        text-align: right;\n",
       "    }\n",
       "</style>\n",
       "<table border=\"1\" class=\"dataframe\">\n",
       "  <thead>\n",
       "    <tr style=\"text-align: right;\">\n",
       "      <th></th>\n",
       "      <th>name</th>\n",
       "      <th>ratings</th>\n",
       "      <th>price</th>\n",
       "      <th>imgURL</th>\n",
       "      <th>storage_ram</th>\n",
       "      <th>camera</th>\n",
       "      <th>oS_Processor</th>\n",
       "      <th>display</th>\n",
       "      <th>network</th>\n",
       "      <th>battery</th>\n",
       "    </tr>\n",
       "  </thead>\n",
       "  <tbody>\n",
       "    <tr>\n",
       "      <th>46</th>\n",
       "      <td>OPPO A16 (Pearl Blue, 64 GB)</td>\n",
       "      <td>NaN</td>\n",
       "      <td>₹13,390</td>\n",
       "      <td>https://rukminim2.flixcart.com/image/312/312/k...</td>\n",
       "      <td>Internal Storage64 GBRAM4 GBSupported Memory C...</td>\n",
       "      <td>Operating SystemAndroid 11Processor TypeMediaT...</td>\n",
       "      <td>Primary Camera AvailableYesPrimary Camera13MP ...</td>\n",
       "      <td>Display Size16.56 cm (6.52 inch)Resolution720 ...</td>\n",
       "      <td>Network Type4G VOLTE, 4G, 3G, 2GSupported Netw...</td>\n",
       "      <td>Battery Capacity5000 mAh</td>\n",
       "    </tr>\n",
       "    <tr>\n",
       "      <th>47</th>\n",
       "      <td>OPPO A16 (Crystal Black, 64 GB)</td>\n",
       "      <td>NaN</td>\n",
       "      <td>₹13,480</td>\n",
       "      <td>https://rukminim2.flixcart.com/image/312/312/k...</td>\n",
       "      <td>Internal Storage64 GBRAM4 GBSupported Memory C...</td>\n",
       "      <td>Operating SystemAndroid 11Processor TypeMediaT...</td>\n",
       "      <td>Primary Camera AvailableYesPrimary Camera13MP ...</td>\n",
       "      <td>Display Size16.56 cm (6.52 inch)Resolution720 ...</td>\n",
       "      <td>Network Type4G VOLTE, 4G, 3G, 2GSupported Netw...</td>\n",
       "      <td>Battery Capacity5000 mAh</td>\n",
       "    </tr>\n",
       "    <tr>\n",
       "      <th>159</th>\n",
       "      <td>OPPO F7 (Red, 128 GB)</td>\n",
       "      <td>NaN</td>\n",
       "      <td>₹27,990</td>\n",
       "      <td>https://rukminim2.flixcart.com/image/312/312/j...</td>\n",
       "      <td>Internal Storage128 GBRAM6 GBExpandable Storag...</td>\n",
       "      <td>Operating SystemAndroid Oreo 8.1.0Processor Ty...</td>\n",
       "      <td>Primary Camera AvailableYesPrimary Camera16MP ...</td>\n",
       "      <td>Display Size15.82 cm (6.23 inch)Resolution2280...</td>\n",
       "      <td>Network Type3G, 4G, 2GSupported NetworksGSM, W...</td>\n",
       "      <td>Battery Capacity3400 mAh</td>\n",
       "    </tr>\n",
       "    <tr>\n",
       "      <th>183</th>\n",
       "      <td>OPPO Reno (JET BLACK, 128 GB)</td>\n",
       "      <td>NaN</td>\n",
       "      <td>₹39,990</td>\n",
       "      <td>https://rukminim2.flixcart.com/image/312/312/k...</td>\n",
       "      <td>Internal Storage128 GBRAM8 GBMemory Card Slot ...</td>\n",
       "      <td>NaN</td>\n",
       "      <td>Primary Camera48MP Rear CameraDual Camera Lens...</td>\n",
       "      <td>Display Size16.26 cm (6.4 inch)Resolution1440 ...</td>\n",
       "      <td>Network Type3G, 4GSupported NetworksGSM, 4G LTE</td>\n",
       "      <td>Battery Capacity3765 mAh</td>\n",
       "    </tr>\n",
       "    <tr>\n",
       "      <th>204</th>\n",
       "      <td>OPPO F17 (Dynamic Orange, 128 GB)</td>\n",
       "      <td>NaN</td>\n",
       "      <td>₹20,990</td>\n",
       "      <td>https://rukminim2.flixcart.com/image/312/312/k...</td>\n",
       "      <td>Internal Storage128 GBRAM6 GBMemory Card Slot ...</td>\n",
       "      <td>Operating SystemAndroid 10Processor TypeQualco...</td>\n",
       "      <td>Primary Camera AvailableYesPrimary Camera16MP ...</td>\n",
       "      <td>Display Size16.36 cm (6.44 inch)Resolution2400...</td>\n",
       "      <td>Network Type4G VOLTE, 4G, 3G, 2GSupported Netw...</td>\n",
       "      <td>Battery Capacity4015 mAh</td>\n",
       "    </tr>\n",
       "    <tr>\n",
       "      <th>205</th>\n",
       "      <td>OPPO F3 (Black, 64 GB)</td>\n",
       "      <td>NaN</td>\n",
       "      <td>₹20,990</td>\n",
       "      <td>https://rukminim2.flixcart.com/image/312/312/j...</td>\n",
       "      <td>Internal Storage64 GBRAM4 GBExpandable Storage...</td>\n",
       "      <td>Operating SystemAndroid Marshmallow 6Processor...</td>\n",
       "      <td>Primary Camera AvailableYesPrimary Camera13MP ...</td>\n",
       "      <td>Display Size13.97 cm (5.5 inch)Resolution1920 ...</td>\n",
       "      <td>Network Type3G, 4G, 2GSupported NetworksWCDMA,...</td>\n",
       "      <td>Battery Capacity3200 mAh</td>\n",
       "    </tr>\n",
       "    <tr>\n",
       "      <th>228</th>\n",
       "      <td>OPPO F11 (Marble Green, 128 GB)</td>\n",
       "      <td>NaN</td>\n",
       "      <td>₹23,990</td>\n",
       "      <td>https://rukminim2.flixcart.com/image/312/312/k...</td>\n",
       "      <td>Internal Storage128 GBRAM6 GBExpandable Storag...</td>\n",
       "      <td>Operating SystemAndroid Pie 9Processor TypeMTK...</td>\n",
       "      <td>Primary Camera AvailableYesPrimary Camera48MP ...</td>\n",
       "      <td>Display Size16.59 cm (6.53 inch)Resolution1080...</td>\n",
       "      <td>Network Type3G, 4G VOLTE, 4G, 2GSupported Netw...</td>\n",
       "      <td>Battery Capacity4020 mAhBattery TypeLi-polymer</td>\n",
       "    </tr>\n",
       "    <tr>\n",
       "      <th>252</th>\n",
       "      <td>OPPO A7 (Glaring Gold, 64 GB)</td>\n",
       "      <td>NaN</td>\n",
       "      <td>₹16,990</td>\n",
       "      <td>https://rukminim2.flixcart.com/image/312/312/j...</td>\n",
       "      <td>Internal Storage64 GBRAM3 GBExpandable Storage...</td>\n",
       "      <td>Operating SystemAndroid Oreo 8.1Processor Type...</td>\n",
       "      <td>Primary Camera AvailableYesPrimary Camera13MP ...</td>\n",
       "      <td>Display Size15.75 cm (6.2 inch)Resolution1520 ...</td>\n",
       "      <td>Network Type3G, 4G VOLTE, 4G, 2GSupported Netw...</td>\n",
       "      <td>Battery Capacity4230 mAhTalk Time32 hrs</td>\n",
       "    </tr>\n",
       "  </tbody>\n",
       "</table>\n",
       "</div>"
      ],
      "text/plain": [
       "                                  name  ratings    price   \n",
       "46        OPPO A16 (Pearl Blue, 64 GB)      NaN  ₹13,390  \\\n",
       "47     OPPO A16 (Crystal Black, 64 GB)      NaN  ₹13,480   \n",
       "159              OPPO F7 (Red, 128 GB)      NaN  ₹27,990   \n",
       "183      OPPO Reno (JET BLACK, 128 GB)      NaN  ₹39,990   \n",
       "204  OPPO F17 (Dynamic Orange, 128 GB)      NaN  ₹20,990   \n",
       "205             OPPO F3 (Black, 64 GB)      NaN  ₹20,990   \n",
       "228    OPPO F11 (Marble Green, 128 GB)      NaN  ₹23,990   \n",
       "252      OPPO A7 (Glaring Gold, 64 GB)      NaN  ₹16,990   \n",
       "\n",
       "                                                imgURL   \n",
       "46   https://rukminim2.flixcart.com/image/312/312/k...  \\\n",
       "47   https://rukminim2.flixcart.com/image/312/312/k...   \n",
       "159  https://rukminim2.flixcart.com/image/312/312/j...   \n",
       "183  https://rukminim2.flixcart.com/image/312/312/k...   \n",
       "204  https://rukminim2.flixcart.com/image/312/312/k...   \n",
       "205  https://rukminim2.flixcart.com/image/312/312/j...   \n",
       "228  https://rukminim2.flixcart.com/image/312/312/k...   \n",
       "252  https://rukminim2.flixcart.com/image/312/312/j...   \n",
       "\n",
       "                                           storage_ram   \n",
       "46   Internal Storage64 GBRAM4 GBSupported Memory C...  \\\n",
       "47   Internal Storage64 GBRAM4 GBSupported Memory C...   \n",
       "159  Internal Storage128 GBRAM6 GBExpandable Storag...   \n",
       "183  Internal Storage128 GBRAM8 GBMemory Card Slot ...   \n",
       "204  Internal Storage128 GBRAM6 GBMemory Card Slot ...   \n",
       "205  Internal Storage64 GBRAM4 GBExpandable Storage...   \n",
       "228  Internal Storage128 GBRAM6 GBExpandable Storag...   \n",
       "252  Internal Storage64 GBRAM3 GBExpandable Storage...   \n",
       "\n",
       "                                                camera   \n",
       "46   Operating SystemAndroid 11Processor TypeMediaT...  \\\n",
       "47   Operating SystemAndroid 11Processor TypeMediaT...   \n",
       "159  Operating SystemAndroid Oreo 8.1.0Processor Ty...   \n",
       "183                                                NaN   \n",
       "204  Operating SystemAndroid 10Processor TypeQualco...   \n",
       "205  Operating SystemAndroid Marshmallow 6Processor...   \n",
       "228  Operating SystemAndroid Pie 9Processor TypeMTK...   \n",
       "252  Operating SystemAndroid Oreo 8.1Processor Type...   \n",
       "\n",
       "                                          oS_Processor   \n",
       "46   Primary Camera AvailableYesPrimary Camera13MP ...  \\\n",
       "47   Primary Camera AvailableYesPrimary Camera13MP ...   \n",
       "159  Primary Camera AvailableYesPrimary Camera16MP ...   \n",
       "183  Primary Camera48MP Rear CameraDual Camera Lens...   \n",
       "204  Primary Camera AvailableYesPrimary Camera16MP ...   \n",
       "205  Primary Camera AvailableYesPrimary Camera13MP ...   \n",
       "228  Primary Camera AvailableYesPrimary Camera48MP ...   \n",
       "252  Primary Camera AvailableYesPrimary Camera13MP ...   \n",
       "\n",
       "                                               display   \n",
       "46   Display Size16.56 cm (6.52 inch)Resolution720 ...  \\\n",
       "47   Display Size16.56 cm (6.52 inch)Resolution720 ...   \n",
       "159  Display Size15.82 cm (6.23 inch)Resolution2280...   \n",
       "183  Display Size16.26 cm (6.4 inch)Resolution1440 ...   \n",
       "204  Display Size16.36 cm (6.44 inch)Resolution2400...   \n",
       "205  Display Size13.97 cm (5.5 inch)Resolution1920 ...   \n",
       "228  Display Size16.59 cm (6.53 inch)Resolution1080...   \n",
       "252  Display Size15.75 cm (6.2 inch)Resolution1520 ...   \n",
       "\n",
       "                                               network   \n",
       "46   Network Type4G VOLTE, 4G, 3G, 2GSupported Netw...  \\\n",
       "47   Network Type4G VOLTE, 4G, 3G, 2GSupported Netw...   \n",
       "159  Network Type3G, 4G, 2GSupported NetworksGSM, W...   \n",
       "183    Network Type3G, 4GSupported NetworksGSM, 4G LTE   \n",
       "204  Network Type4G VOLTE, 4G, 3G, 2GSupported Netw...   \n",
       "205  Network Type3G, 4G, 2GSupported NetworksWCDMA,...   \n",
       "228  Network Type3G, 4G VOLTE, 4G, 2GSupported Netw...   \n",
       "252  Network Type3G, 4G VOLTE, 4G, 2GSupported Netw...   \n",
       "\n",
       "                                            battery  \n",
       "46                         Battery Capacity5000 mAh  \n",
       "47                         Battery Capacity5000 mAh  \n",
       "159                        Battery Capacity3400 mAh  \n",
       "183                        Battery Capacity3765 mAh  \n",
       "204                        Battery Capacity4015 mAh  \n",
       "205                        Battery Capacity3200 mAh  \n",
       "228  Battery Capacity4020 mAhBattery TypeLi-polymer  \n",
       "252         Battery Capacity4230 mAhTalk Time32 hrs  "
      ]
     },
     "execution_count": 8,
     "metadata": {},
     "output_type": "execute_result"
    }
   ],
   "source": [
    "df[df['ratings'].isnull() == True]"
   ]
  },
  {
   "cell_type": "markdown",
   "metadata": {},
   "source": [
    "## Price"
   ]
  },
  {
   "cell_type": "code",
   "execution_count": null,
   "metadata": {},
   "outputs": [],
   "source": [
    "df.reset_index(inplace=True)\n",
    "for Index,i in enumerate(df['price']):\n",
    "    i = str(i).replace('₹','')\n",
    "    i = str(i).replace(',','')\n",
    "    df['price'][Index] = i"
   ]
  },
  {
   "cell_type": "code",
   "execution_count": null,
   "metadata": {},
   "outputs": [],
   "source": [
    "df['price'] = df['price'].astype('Int16')"
   ]
  },
  {
   "cell_type": "code",
   "execution_count": null,
   "metadata": {},
   "outputs": [],
   "source": [
    "df['price'] = df['price'].abs() # this is to remove the negative values from price feature"
   ]
  },
  {
   "cell_type": "markdown",
   "metadata": {},
   "source": [
    "## Ratings"
   ]
  },
  {
   "cell_type": "code",
   "execution_count": null,
   "metadata": {},
   "outputs": [
    {
     "data": {
      "text/plain": [
       "dtype('float64')"
      ]
     },
     "metadata": {},
     "output_type": "display_data"
    }
   ],
   "source": [
    "df['ratings'].dtype"
   ]
  },
  {
   "cell_type": "markdown",
   "metadata": {},
   "source": [
    "## Ram"
   ]
  },
  {
   "cell_type": "code",
   "execution_count": null,
   "metadata": {},
   "outputs": [],
   "source": [
    "def extract_ram(row):\n",
    "    ram = row.split()[2]\n",
    "    return ram\n",
    "\n",
    "df['ram'] = df['storage_ram'].apply(func=extract_ram)"
   ]
  },
  {
   "cell_type": "code",
   "execution_count": null,
   "metadata": {},
   "outputs": [
    {
     "name": "stdout",
     "output_type": "stream",
     "text": [
      "looped till 188 index\n"
     ]
    }
   ],
   "source": [
    "import warnings\n",
    "warnings.filterwarnings('ignore')\n",
    "count = 0\n",
    "for i in range(0,len(df['ram'])):\n",
    "    # df['ram'][i]= df['ram'].iloc[i].replace('MBRAM','')\n",
    "    df['ram'][i]= df['ram'].iloc[i].replace('GBRAM','')\n",
    "    count+=1\n",
    "print(f'looped till {count} index')"
   ]
  },
  {
   "cell_type": "code",
   "execution_count": null,
   "metadata": {},
   "outputs": [],
   "source": [
    "df['ram'] = df['ram'].astype('Int16')"
   ]
  },
  {
   "cell_type": "markdown",
   "metadata": {},
   "source": [
    "## storage"
   ]
  },
  {
   "cell_type": "code",
   "execution_count": null,
   "metadata": {},
   "outputs": [],
   "source": [
    "def extract_storage(row):\n",
    "    storage = row.split()[1]\n",
    "    return storage\n",
    "\n",
    "\n",
    "df['storage'] = df['storage_ram'].apply(func=extract_storage)"
   ]
  },
  {
   "cell_type": "code",
   "execution_count": null,
   "metadata": {},
   "outputs": [
    {
     "name": "stdout",
     "output_type": "stream",
     "text": [
      "looped till 188 index\n"
     ]
    }
   ],
   "source": [
    "import warnings\n",
    "warnings.filterwarnings('ignore')\n",
    "count = 0\n",
    "for i in range(0,len(df['storage'])):\n",
    "    df['storage'][i]= df['storage'].iloc[i].replace('Storage','')\n",
    "    count+=1\n",
    "print(f'looped till {count} index')"
   ]
  },
  {
   "cell_type": "code",
   "execution_count": null,
   "metadata": {},
   "outputs": [],
   "source": [
    "df['storage'] = df['storage'].astype('Int16')\n",
    "## Removing storage_ram\n",
    "df = df.drop(columns=['storage_ram','index'])"
   ]
  },
  {
   "cell_type": "markdown",
   "metadata": {},
   "source": [
    "## Android Version"
   ]
  },
  {
   "cell_type": "code",
   "execution_count": null,
   "metadata": {},
   "outputs": [],
   "source": [
    "def extract_processor(text):\n",
    "    pattern = r'.*Processor'\n",
    "    match = re.findall(pattern, text)\n",
    "    if match:\n",
    "        return match[0]\n",
    "    else:\n",
    "        return text\n"
   ]
  },
  {
   "cell_type": "code",
   "execution_count": null,
   "metadata": {},
   "outputs": [],
   "source": [
    "df['os_processor'] = df['os_processor'].apply(extract_processor)"
   ]
  },
  {
   "cell_type": "code",
   "execution_count": null,
   "metadata": {},
   "outputs": [],
   "source": [
    "def android_version(text_):\n",
    "    split = text_.split()\n",
    "    if 'OxygenProcessor' in split:\n",
    "        return 'OxygenProcessor'\n",
    "    elif 'ANdroid' in split:\n",
    "        return split[3]\n",
    "    elif 'OxygenOSProcessor' in split:\n",
    "        return 'OxygenOSProcessor'\n",
    "    else:\n",
    "        pattern=r'^\\d+[Processor]|\\d+[GProcessor]|\\d++[.Processor]'\n",
    "        found = re.findall(pattern,text_)\n",
    "        if found:\n",
    "            return found[0]\n",
    "        else:\n",
    "            return 'other androidVerion'"
   ]
  },
  {
   "cell_type": "code",
   "execution_count": null,
   "metadata": {},
   "outputs": [],
   "source": [
    "df['android_version'] = df['os_processor'].apply(android_version)"
   ]
  },
  {
   "cell_type": "code",
   "execution_count": null,
   "metadata": {},
   "outputs": [],
   "source": [
    "df.reset_index(inplace=True)\n",
    "for Index,i in enumerate(df['android_version']):\n",
    "    # print(i)\n",
    "    i = str(i).replace('P','')\n",
    "    i = str(i).replace('.','')\n",
    "    df['android_version'][Index] = i"
   ]
  },
  {
   "cell_type": "markdown",
   "metadata": {},
   "source": [
    "## Processor"
   ]
  },
  {
   "cell_type": "code",
   "execution_count": null,
   "metadata": {},
   "outputs": [],
   "source": [
    "def processor(text):\n",
    "    pattern=r'(?<=Type).*'\n",
    "    search = re.search(pattern,text)\n",
    "    if search != None:\n",
    "        return ' '.join(re.findall(pattern,text))\n",
    "    else:\n",
    "        return 'not montioned'"
   ]
  },
  {
   "cell_type": "code",
   "execution_count": null,
   "metadata": {},
   "outputs": [],
   "source": [
    "df['processor'] = df['os_processor'].apply(processor)\n",
    "df = df.drop('os_processor',axis=1)\n",
    "df = df.drop('index',axis=1)\n"
   ]
  },
  {
   "cell_type": "code",
   "execution_count": null,
   "metadata": {},
   "outputs": [],
   "source": [
    "def processor_extract(text):\n",
    "    splitted_sentence = text.split()\n",
    "    if 'Mediatek' and 'Helio' in splitted_sentence:\n",
    "        pattern = r'\\d+[Processor]|\\d+'\n",
    "        string = ' '.join(splitted_sentence)\n",
    "        match = re.search(pattern,string)\n",
    "        if match == None:\n",
    "            return 'Heilo'+str(splitted_sentence[2])\n",
    "        else:\n",
    "            find = re.findall(pattern,string)\n",
    "            return 'Heilo'+''.join(find)\n",
    "\n",
    "\n",
    "    elif 'Mediatek' and 'Dimensity' in splitted_sentence:\n",
    "        pattern = r'(\\d+)+[Processor]'\n",
    "        string = ' '.join(splitted_sentence)\n",
    "        match = re.search(pattern,string)\n",
    "        if match == None:\n",
    "            if 'Dimensity' == str(splitted_sentence[1]):\n",
    "                return 'Dimensity'+str(splitted_sentence[2])\n",
    "            else:\n",
    "                return 'Dimensity'+str(splitted_sentence[1])\n",
    "        \n",
    "        else:\n",
    "            find = re.findall(pattern,string)\n",
    "            return 'Dimensity'+ ''.join(find)\n",
    "\n",
    "    elif 'Snapdragon' and 'Gen' and '4' in splitted_sentence:\n",
    "        return 'Gen4'   \n",
    "\n",
    "    elif 'Snapdragon' and 'Gen' and '8' in splitted_sentence:         \n",
    "        return 'Gen8'\n",
    "    \n",
    "    elif 'Unisoc' in splitted_sentence:\n",
    "        \n",
    "        if 'Unisoc' and 'Tiger' in splitted_sentence:\n",
    "            pattern = r'[T]\\d[Processor]'\n",
    "            string = ' '.join(splitted_sentence)\n",
    "            match = re.findall(pattern,string)\n",
    "            return 'UnisocTiger' + ''.join(splitted_sentence[2])\n",
    "        \n",
    "        elif 'Unisoc' == splitted_sentence[0]:\n",
    "            pattern = r'[T]\\d.'\n",
    "            string = ' '.join(splitted_sentence)\n",
    "            match = re.findall(pattern,string)\n",
    "            return 'Unisoc' + ''.join(splitted_sentence[1])\n",
    "\n",
    "        \n",
    "        pattern = r'T(\\d+)Processor|\\d+'\n",
    "        string = ' '.join(splitted_sentence)\n",
    "        match = re.findall(pattern,string)\n",
    "        return 'Unisoc'+' '.join(match)\n",
    "    \n",
    "\n",
    "    elif 'Snapdragon' in splitted_sentence:\n",
    "        pattern = r'\\d+[Processor]'\n",
    "        if 'Gen' and '4' and '8' not in splitted_sentence:\n",
    "            string = ' '.join(splitted_sentence)\n",
    "            match = re.search(pattern,string)\n",
    "            if match == None:\n",
    "                if 'Snapdragon' == str(splitted_sentence[1]):\n",
    "                    return 'Snapdragon'+str(splitted_sentence[2])\n",
    "                else:\n",
    "                    return 'Snapdragon'+str(splitted_sentence[1])\n",
    "            else:\n",
    "                find = re.findall(pattern,string)\n",
    "                return 'Snapdragon'+''.join(find)\n",
    "    \n",
    "    elif 'MediaTek' == splitted_sentence[0]:\n",
    "        pattern = r'[P]\\d.'\n",
    "        string = ' '.join(splitted_sentence)\n",
    "        match = re.findall(pattern,string)\n",
    "        return 'MediaTek' + ' '.join(match)\n",
    "\n",
    "    else:\n",
    "        return 'not mentioned'      \n"
   ]
  },
  {
   "cell_type": "code",
   "execution_count": null,
   "metadata": {},
   "outputs": [],
   "source": [
    "df['processor']=df['processor'].apply(processor_extract)"
   ]
  },
  {
   "cell_type": "markdown",
   "metadata": {},
   "source": [
    "## camera"
   ]
  },
  {
   "cell_type": "code",
   "execution_count": null,
   "metadata": {},
   "outputs": [],
   "source": [
    "def camera_extract(row):\n",
    "    row_splitted = row.split()\n",
    "    pattern = r'\\d+MP'\n",
    "    words = ' '.join(row_splitted)\n",
    "    find_cam = re.findall(pattern,words)\n",
    "    return ' '.join(find_cam)\n"
   ]
  },
  {
   "cell_type": "code",
   "execution_count": null,
   "metadata": {},
   "outputs": [],
   "source": [
    "df['camera'] = df['camera'].apply(camera_extract)"
   ]
  },
  {
   "cell_type": "code",
   "execution_count": null,
   "metadata": {},
   "outputs": [],
   "source": [
    "def camera(txt):\n",
    "    lst = []\n",
    "    splitted = txt.split()\n",
    "    for i in splitted:\n",
    "        make_int = i.replace('MP','')\n",
    "        lst.append(int(make_int))\n",
    "    return max(lst)\n"
   ]
  },
  {
   "cell_type": "code",
   "execution_count": null,
   "metadata": {},
   "outputs": [],
   "source": [
    "df['camera'] = df['camera'].apply(func=camera)\n",
    "df['camera'] = df['camera'].astype('Int16')"
   ]
  },
  {
   "cell_type": "markdown",
   "metadata": {},
   "source": [
    "## display"
   ]
  },
  {
   "cell_type": "code",
   "execution_count": null,
   "metadata": {},
   "outputs": [],
   "source": [
    "def display_extract(row):\n",
    "    split_row = row.split()\n",
    "    if 'LCD' in split_row:\n",
    "        if 'IPS' in split_row and 'LCD' in split_row:\n",
    "            return 'IPS LCD'\n",
    "        return 'LCD'\n",
    "    \n",
    "    if 'OLED' in split_row:\n",
    "        return 'OLED'\n",
    "    \n",
    "    if 'TFT' in split_row:\n",
    "        return 'TFT'\n",
    "    \n",
    "    if 'LED' in split_row:\n",
    "        return 'LED'\n",
    "\n",
    "    # if 'Adreno' in split_row:\n",
    "    #     return 'Adreno'\n",
    "    if 'AMOLED' in split_row:\n",
    "        if 'HD+' in split_row and 'AMOLED' in split_row:\n",
    "            return 'HD+ AMOLED'\n",
    "        return 'AMOLED'\n",
    "    \n",
    "    return 'other'\n"
   ]
  },
  {
   "cell_type": "code",
   "execution_count": null,
   "metadata": {},
   "outputs": [],
   "source": [
    "df['display'] = df['display'].apply(display_extract)"
   ]
  },
  {
   "cell_type": "markdown",
   "metadata": {},
   "source": [
    "## network"
   ]
  },
  {
   "cell_type": "code",
   "execution_count": null,
   "metadata": {},
   "outputs": [],
   "source": [
    "df = df.drop(columns=['network'])"
   ]
  },
  {
   "cell_type": "markdown",
   "metadata": {},
   "source": [
    "## battery"
   ]
  },
  {
   "cell_type": "code",
   "execution_count": null,
   "metadata": {},
   "outputs": [],
   "source": [
    "def extract_battery(row):\n",
    "    return row.split()[1]\n",
    "\n",
    "df['battery'] = df['battery'].apply(extract_battery)"
   ]
  },
  {
   "cell_type": "code",
   "execution_count": null,
   "metadata": {},
   "outputs": [
    {
     "name": "stdout",
     "output_type": "stream",
     "text": [
      "looped till 188 index\n"
     ]
    }
   ],
   "source": [
    "df.reset_index(inplace=True)\n",
    "count = 0\n",
    "for i in range(0,len(df['battery'])):\n",
    "    # print(i)\n",
    "    df['battery'][i]= df['battery'].iloc[i].replace('Capacity','')\n",
    "    # print(df['battery'][i])\n",
    "    count+=1\n",
    "print(f'looped till {count} index')"
   ]
  },
  {
   "cell_type": "code",
   "execution_count": null,
   "metadata": {},
   "outputs": [],
   "source": [
    "df['battery'] = df['battery'].astype('Int16')"
   ]
  },
  {
   "cell_type": "code",
   "execution_count": null,
   "metadata": {},
   "outputs": [],
   "source": [
    "df = df.drop(labels='index',axis=1)"
   ]
  },
  {
   "cell_type": "code",
   "execution_count": null,
   "metadata": {},
   "outputs": [
    {
     "data": {
      "text/html": [
       "<div>\n",
       "<style scoped>\n",
       "    .dataframe tbody tr th:only-of-type {\n",
       "        vertical-align: middle;\n",
       "    }\n",
       "\n",
       "    .dataframe tbody tr th {\n",
       "        vertical-align: top;\n",
       "    }\n",
       "\n",
       "    .dataframe thead th {\n",
       "        text-align: right;\n",
       "    }\n",
       "</style>\n",
       "<table border=\"1\" class=\"dataframe\">\n",
       "  <thead>\n",
       "    <tr style=\"text-align: right;\">\n",
       "      <th></th>\n",
       "      <th>name</th>\n",
       "      <th>ratings</th>\n",
       "      <th>price</th>\n",
       "      <th>imgURL</th>\n",
       "      <th>camera</th>\n",
       "      <th>display</th>\n",
       "      <th>battery</th>\n",
       "      <th>ram</th>\n",
       "      <th>storage</th>\n",
       "      <th>android_version</th>\n",
       "      <th>processor</th>\n",
       "    </tr>\n",
       "  </thead>\n",
       "  <tbody>\n",
       "    <tr>\n",
       "      <th>0</th>\n",
       "      <td>OnePlus Nord CE 2 Lite 5G (Blue Tide, 128 GB)</td>\n",
       "      <td>4.4</td>\n",
       "      <td>17676</td>\n",
       "      <td>https://rukminim2.flixcart.com/image/312/312/x...</td>\n",
       "      <td>64</td>\n",
       "      <td>other</td>\n",
       "      <td>5000</td>\n",
       "      <td>6</td>\n",
       "      <td>128</td>\n",
       "      <td>10</td>\n",
       "      <td>not mentioned</td>\n",
       "    </tr>\n",
       "    <tr>\n",
       "      <th>1</th>\n",
       "      <td>OnePlus Nord CE 2 Lite 5G (Black Dusk, 128 GB)</td>\n",
       "      <td>4.4</td>\n",
       "      <td>17691</td>\n",
       "      <td>https://rukminim2.flixcart.com/image/312/312/x...</td>\n",
       "      <td>64</td>\n",
       "      <td>other</td>\n",
       "      <td>5000</td>\n",
       "      <td>6</td>\n",
       "      <td>128</td>\n",
       "      <td>13</td>\n",
       "      <td>not mentioned</td>\n",
       "    </tr>\n",
       "    <tr>\n",
       "      <th>2</th>\n",
       "      <td>OnePlus 11R 5G (Galactic Silver, 256 GB)</td>\n",
       "      <td>4.5</td>\n",
       "      <td>20846</td>\n",
       "      <td>https://rukminim2.flixcart.com/image/312/312/x...</td>\n",
       "      <td>50</td>\n",
       "      <td>other</td>\n",
       "      <td>5000</td>\n",
       "      <td>16</td>\n",
       "      <td>256</td>\n",
       "      <td>13</td>\n",
       "      <td>not mentioned</td>\n",
       "    </tr>\n",
       "    <tr>\n",
       "      <th>3</th>\n",
       "      <td>OnePlus 11R 5G (Galactic Silver, 128 GB)</td>\n",
       "      <td>4.5</td>\n",
       "      <td>25802</td>\n",
       "      <td>https://rukminim2.flixcart.com/image/312/312/x...</td>\n",
       "      <td>50</td>\n",
       "      <td>other</td>\n",
       "      <td>5000</td>\n",
       "      <td>8</td>\n",
       "      <td>128</td>\n",
       "      <td>13</td>\n",
       "      <td>not mentioned</td>\n",
       "    </tr>\n",
       "    <tr>\n",
       "      <th>4</th>\n",
       "      <td>OnePlus 11R 5G (Sonic Black, 256 GB)</td>\n",
       "      <td>4.5</td>\n",
       "      <td>21252</td>\n",
       "      <td>https://rukminim2.flixcart.com/image/312/312/x...</td>\n",
       "      <td>50</td>\n",
       "      <td>other</td>\n",
       "      <td>5000</td>\n",
       "      <td>16</td>\n",
       "      <td>256</td>\n",
       "      <td>13</td>\n",
       "      <td>not mentioned</td>\n",
       "    </tr>\n",
       "    <tr>\n",
       "      <th>...</th>\n",
       "      <td>...</td>\n",
       "      <td>...</td>\n",
       "      <td>...</td>\n",
       "      <td>...</td>\n",
       "      <td>...</td>\n",
       "      <td>...</td>\n",
       "      <td>...</td>\n",
       "      <td>...</td>\n",
       "      <td>...</td>\n",
       "      <td>...</td>\n",
       "      <td>...</td>\n",
       "    </tr>\n",
       "    <tr>\n",
       "      <th>183</th>\n",
       "      <td>OnePlus N20 SE (BLUE OASIS, 64 GB)</td>\n",
       "      <td>4.2</td>\n",
       "      <td>15674</td>\n",
       "      <td>https://rukminim2.flixcart.com/image/312/312/x...</td>\n",
       "      <td>50</td>\n",
       "      <td>other</td>\n",
       "      <td>5000</td>\n",
       "      <td>4</td>\n",
       "      <td>64</td>\n",
       "      <td>12</td>\n",
       "      <td>not mentioned</td>\n",
       "    </tr>\n",
       "    <tr>\n",
       "      <th>184</th>\n",
       "      <td>OnePlus 9 Pro 5G (Morning Mist, 128 GB)</td>\n",
       "      <td>3.8</td>\n",
       "      <td>17537</td>\n",
       "      <td>https://rukminim2.flixcart.com/image/312/312/x...</td>\n",
       "      <td>48</td>\n",
       "      <td>other</td>\n",
       "      <td>4500</td>\n",
       "      <td>8</td>\n",
       "      <td>128</td>\n",
       "      <td>11</td>\n",
       "      <td>not mentioned</td>\n",
       "    </tr>\n",
       "    <tr>\n",
       "      <th>185</th>\n",
       "      <td>OnePlus 6 (Mirror Black, 128 GB)</td>\n",
       "      <td>4.2</td>\n",
       "      <td>17990</td>\n",
       "      <td>https://rukminim2.flixcart.com/image/312/312/x...</td>\n",
       "      <td>20</td>\n",
       "      <td>other</td>\n",
       "      <td>3300</td>\n",
       "      <td>8</td>\n",
       "      <td>128</td>\n",
       "      <td>8</td>\n",
       "      <td>not mentioned</td>\n",
       "    </tr>\n",
       "    <tr>\n",
       "      <th>186</th>\n",
       "      <td>OnePlus 6T McLaren Edition (Speed Orange, 256 GB)</td>\n",
       "      <td>4.0</td>\n",
       "      <td>26990</td>\n",
       "      <td>https://rukminim2.flixcart.com/image/312/312/x...</td>\n",
       "      <td>20</td>\n",
       "      <td>other</td>\n",
       "      <td>3300</td>\n",
       "      <td>10</td>\n",
       "      <td>256</td>\n",
       "      <td>9</td>\n",
       "      <td>not mentioned</td>\n",
       "    </tr>\n",
       "    <tr>\n",
       "      <th>187</th>\n",
       "      <td>OnePlus Nord CE 2 5G (Gray Mirror, 128 GB)</td>\n",
       "      <td>4.2</td>\n",
       "      <td>24990</td>\n",
       "      <td>https://rukminim2.flixcart.com/image/312/312/x...</td>\n",
       "      <td>50</td>\n",
       "      <td>other</td>\n",
       "      <td>4500</td>\n",
       "      <td>8</td>\n",
       "      <td>128</td>\n",
       "      <td>11</td>\n",
       "      <td>not mentioned</td>\n",
       "    </tr>\n",
       "  </tbody>\n",
       "</table>\n",
       "<p>188 rows × 11 columns</p>\n",
       "</div>"
      ],
      "text/plain": [
       "                                                  name  ratings  price   \n",
       "0        OnePlus Nord CE 2 Lite 5G (Blue Tide, 128 GB)      4.4  17676  \\\n",
       "1       OnePlus Nord CE 2 Lite 5G (Black Dusk, 128 GB)      4.4  17691   \n",
       "2             OnePlus 11R 5G (Galactic Silver, 256 GB)      4.5  20846   \n",
       "3             OnePlus 11R 5G (Galactic Silver, 128 GB)      4.5  25802   \n",
       "4                 OnePlus 11R 5G (Sonic Black, 256 GB)      4.5  21252   \n",
       "..                                                 ...      ...    ...   \n",
       "183                 OnePlus N20 SE (BLUE OASIS, 64 GB)      4.2  15674   \n",
       "184            OnePlus 9 Pro 5G (Morning Mist, 128 GB)      3.8  17537   \n",
       "185                   OnePlus 6 (Mirror Black, 128 GB)      4.2  17990   \n",
       "186  OnePlus 6T McLaren Edition (Speed Orange, 256 GB)      4.0  26990   \n",
       "187         OnePlus Nord CE 2 5G (Gray Mirror, 128 GB)      4.2  24990   \n",
       "\n",
       "                                                imgURL  camera display   \n",
       "0    https://rukminim2.flixcart.com/image/312/312/x...      64   other  \\\n",
       "1    https://rukminim2.flixcart.com/image/312/312/x...      64   other   \n",
       "2    https://rukminim2.flixcart.com/image/312/312/x...      50   other   \n",
       "3    https://rukminim2.flixcart.com/image/312/312/x...      50   other   \n",
       "4    https://rukminim2.flixcart.com/image/312/312/x...      50   other   \n",
       "..                                                 ...     ...     ...   \n",
       "183  https://rukminim2.flixcart.com/image/312/312/x...      50   other   \n",
       "184  https://rukminim2.flixcart.com/image/312/312/x...      48   other   \n",
       "185  https://rukminim2.flixcart.com/image/312/312/x...      20   other   \n",
       "186  https://rukminim2.flixcart.com/image/312/312/x...      20   other   \n",
       "187  https://rukminim2.flixcart.com/image/312/312/x...      50   other   \n",
       "\n",
       "     battery  ram  storage android_version      processor  \n",
       "0       5000    6      128              10  not mentioned  \n",
       "1       5000    6      128              13  not mentioned  \n",
       "2       5000   16      256              13  not mentioned  \n",
       "3       5000    8      128              13  not mentioned  \n",
       "4       5000   16      256              13  not mentioned  \n",
       "..       ...  ...      ...             ...            ...  \n",
       "183     5000    4       64              12  not mentioned  \n",
       "184     4500    8      128              11  not mentioned  \n",
       "185     3300    8      128               8  not mentioned  \n",
       "186     3300   10      256               9  not mentioned  \n",
       "187     4500    8      128              11  not mentioned  \n",
       "\n",
       "[188 rows x 11 columns]"
      ]
     },
     "metadata": {},
     "output_type": "display_data"
    }
   ],
   "source": [
    "df"
   ]
  },
  {
   "cell_type": "code",
   "execution_count": null,
   "metadata": {},
   "outputs": [],
   "source": [
    "df.to_csv(r'data\\cleaned_dataset\\one_plus_cleaned_data.csv')"
   ]
  },
  {
   "cell_type": "code",
   "execution_count": null,
   "metadata": {},
   "outputs": [],
   "source": []
  }
 ],
 "metadata": {
  "kernelspec": {
   "display_name": "Python 3",
   "language": "python",
   "name": "python3"
  },
  "language_info": {
   "codemirror_mode": {
    "name": "ipython",
    "version": 3
   },
   "file_extension": ".py",
   "mimetype": "text/x-python",
   "name": "python",
   "nbconvert_exporter": "python",
   "pygments_lexer": "ipython3",
   "version": "3.11.3"
  },
  "orig_nbformat": 4
 },
 "nbformat": 4,
 "nbformat_minor": 2
}
