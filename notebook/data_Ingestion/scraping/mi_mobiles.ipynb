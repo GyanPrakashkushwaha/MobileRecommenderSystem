{
 "cells": [
  {
   "cell_type": "code",
   "execution_count": 47,
   "metadata": {},
   "outputs": [],
   "source": [
    "import requests\n",
    "from bs4 import BeautifulSoup as bs"
   ]
  },
  {
   "cell_type": "markdown",
   "metadata": {},
   "source": [
    "## Retrieving features"
   ]
  },
  {
   "cell_type": "code",
   "execution_count": 48,
   "metadata": {},
   "outputs": [],
   "source": [
    "def bs4_soup(pages):\n",
    "    URL = f'https://www.flipkart.com/search?q=mi+mobiles&otracker=search&otracker1=search&marketplace=FLIPKART&as-show=on&as=off&page={pages}'\n",
    "    request = requests.get(URL)\n",
    "    soup = bs(request.text,'html.parser')\n",
    "    soup = soup.find('div',class_ = '_1YokD2 _3Mn1Gg')\n",
    "\n",
    "    return soup"
   ]
  },
  {
   "cell_type": "code",
   "execution_count": 49,
   "metadata": {},
   "outputs": [],
   "source": [
    "def mob_specs(soup):\n",
    "\n",
    "    names = soup.find_all('div',class_ = '_4rR01T')\n",
    "    mob_names_list = [i.text for i in names]\n",
    "    mob_names = [i for i in mob_names_list]\n",
    "\n",
    "\n",
    "    ratings = soup.find_all('div',class_ = '_3LWZlK')\n",
    "    mob_ratings = [i.text for i in ratings]\n",
    "\n",
    "    price = soup.find_all('div',class_ = '_30jeq3 _1_WHN1')\n",
    "    mob_price = [i.text for i in price]\n",
    "\n",
    "    img = soup.find_all('div',class_ = 'CXW8mj')\n",
    "    mob_img_URL = [i.find('img')['src'] for i in img]\n",
    "\n",
    "\n",
    "    return mob_names,mob_ratings , mob_price , mob_img_URL\n",
    "    "
   ]
  },
  {
   "cell_type": "code",
   "execution_count": 50,
   "metadata": {},
   "outputs": [],
   "source": [
    "def features_from_mob_links(soup):\n",
    "    mobile_links = ['https://www.flipkart.com' + i['href'] for i in soup.find_all('a', class_='_1fQZEK')]\n",
    "    mobile_req = [requests.get(url=i) for i in mobile_links]\n",
    "    mobile_soup = [bs(i.text, 'html.parser').find('div', class_='_1YokD2 _2GoDe3') for i in mobile_req]\n",
    "    mobile_specs = [i.find_all('div', class_='_3k-BhJ') for i in mobile_soup]\n",
    "\n",
    "    storage_ram = [specs_.find('table', class_='_14cfVK').text for mob_specs in mobile_specs for specs_ in mob_specs if 'Memory' in str(specs_.text) and 'Storage' in str(specs_.text)]\n",
    "    os_processor = [specs_.find('table', class_='_14cfVK').text for mob_specs in mobile_specs for specs_ in mob_specs if 'Os' in str(specs_.text) and 'Processor' in str(specs_.text)]\n",
    "    camera = [specs_.find('table', class_='_14cfVK').text for mob_specs in mobile_specs for specs_ in mob_specs if 'Camera' in str(specs_.text) and 'FeaturesPrimary' in str(specs_.text)]\n",
    "    display = [specs_.find('table', class_='_14cfVK').text for mob_specs in mobile_specs for specs_ in mob_specs if 'Display' in str(specs_.text) and 'FeaturesDisplay' in str(specs_.text)]\n",
    "    network = [specs_.find('table', class_='_14cfVK').text for mob_specs in mobile_specs for specs_ in mob_specs if 'Connectivity' in str(specs_.text) and 'FeaturesNetwork' in str(specs_.text)]\n",
    "    battery = [specs_.find('table', class_='_14cfVK').text for mob_specs in mobile_specs for specs_ in mob_specs if 'Battery' in str(specs_.text) and 'FeaturesBattery' in str(specs_.text)]\n",
    "\n",
    "    return storage_ram, os_processor, camera, display, network, battery\n"
   ]
  },
  {
   "cell_type": "code",
   "execution_count": 55,
   "metadata": {},
   "outputs": [
    {
     "name": "stdout",
     "output_type": "stream",
     "text": [
      "8\n"
     ]
    }
   ],
   "source": [
    "mobile_names_list = []\n",
    "mobile_ratings_list = []\n",
    "mobile_price_list = []\n",
    "mobile_image_URL_list = []\n",
    "\n",
    "mobile_storage_ram_list = []\n",
    "mobile_camera_list = []\n",
    "mobile_os_processor_list = []\n",
    "mobile_display_list = []\n",
    "mobile_network_list = []\n",
    "mobile_battery_list = []\n",
    "\n",
    "page_start = 8\n",
    "for pages in range(page_start,24):\n",
    "\n",
    "    soup = bs4_soup(pages=pages)\n",
    "    \n",
    "    mob_names,mob_ratings , mob_price , mob_img_URL = mob_specs(soup)\n",
    "    storage_ram , os_processor , camera , display , network , battery = features_from_mob_links(soup=soup)\n",
    "\n",
    "    mobile_names_list.append(mob_names)\n",
    "    mobile_ratings_list.append(mob_ratings)\n",
    "    mobile_price_list.append(mob_price)\n",
    "    mobile_image_URL_list.append(mob_img_URL)\n",
    "\n",
    "    mobile_storage_ram_list.append(storage_ram)\n",
    "    mobile_camera_list.append(camera)\n",
    "    mobile_os_processor_list.append(os_processor)\n",
    "    mobile_display_list.append(display)\n",
    "    mobile_network_list.append(network)\n",
    "    mobile_battery_list.append(battery)\n",
    "\n",
    "    print(pages)\n"
   ]
  },
  {
   "cell_type": "code",
   "execution_count": 54,
   "metadata": {},
   "outputs": [
    {
     "data": {
      "text/plain": [
       "7"
      ]
     },
     "execution_count": 54,
     "metadata": {},
     "output_type": "execute_result"
    }
   ],
   "source": [
    "len(mobile_names_list)"
   ]
  },
  {
   "cell_type": "code",
   "execution_count": null,
   "metadata": {},
   "outputs": [],
   "source": [
    "mobile_image_URL_list"
   ]
  },
  {
   "cell_type": "code",
   "execution_count": null,
   "metadata": {},
   "outputs": [],
   "source": []
  }
 ],
 "metadata": {
  "kernelspec": {
   "display_name": "Python 3",
   "language": "python",
   "name": "python3"
  },
  "language_info": {
   "codemirror_mode": {
    "name": "ipython",
    "version": 3
   },
   "file_extension": ".py",
   "mimetype": "text/x-python",
   "name": "python",
   "nbconvert_exporter": "python",
   "pygments_lexer": "ipython3",
   "version": "3.11.3"
  },
  "orig_nbformat": 4
 },
 "nbformat": 4,
 "nbformat_minor": 2
}
