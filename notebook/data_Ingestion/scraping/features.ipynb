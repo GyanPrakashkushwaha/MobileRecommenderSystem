{
 "cells": [
  {
   "cell_type": "code",
   "execution_count": 1,
   "metadata": {},
   "outputs": [],
   "source": [
    "import requests\n",
    "from bs4 import BeautifulSoup as bs\n",
    "import logging"
   ]
  },
  {
   "cell_type": "code",
   "execution_count": 2,
   "metadata": {},
   "outputs": [],
   "source": [
    "pages = 1\n",
    "URL = f'https://www.flipkart.com/search?q=mi+mobiles&otracker=search&otracker1=search&marketplace=FLIPKART&as-show=on&as=off&page={pages}'\n",
    "request = requests.get(URL)\n",
    "soup = bs(request.text,'html.parser')\n",
    "soup = soup.find('div',class_ = '_1YokD2 _3Mn1Gg')"
   ]
  },
  {
   "cell_type": "markdown",
   "metadata": {},
   "source": [
    "## Mobile Names"
   ]
  },
  {
   "cell_type": "code",
   "execution_count": 5,
   "metadata": {},
   "outputs": [
    {
     "data": {
      "text/plain": [
       "[<div class=\"_4rR01T\">REDMI 10 Power (Sporty Orange, 128 GB)</div>,\n",
       " <div class=\"_4rR01T\">REDMI 10 Power (Power Black, 128 GB)</div>,\n",
       " <div class=\"_4rR01T\">Redmi 9A Sport (Coral Green, 32 GB)</div>,\n",
       " <div class=\"_4rR01T\">Redmi 9A Sport (Carbon Black, 32 GB)</div>,\n",
       " <div class=\"_4rR01T\">Redmi 9A Sport (Metallic Blue, 32 GB)</div>,\n",
       " <div class=\"_4rR01T\">Xiaomi 11Lite NE (Vinyl Black, 128 GB)</div>,\n",
       " <div class=\"_4rR01T\">Redmi 9A Sport (Coral Green, 32 GB)</div>,\n",
       " <div class=\"_4rR01T\">Redmi 9 (Carbon Black, 64 GB)</div>,\n",
       " <div class=\"_4rR01T\">Xiaomi 12 Pro 5G (Noir Black, 256 GB)</div>,\n",
       " <div class=\"_4rR01T\">Redmi 8A Dual (Sea Blue, 32 GB)</div>,\n",
       " <div class=\"_4rR01T\">Redmi 9A (Nature Green, 32 GB)</div>,\n",
       " <div class=\"_4rR01T\">Redmi 6 (Gold, 32 GB)</div>,\n",
       " <div class=\"_4rR01T\">Mi 11 Lite (Jazz Blue, 128 GB)</div>,\n",
       " <div class=\"_4rR01T\">Mi 11 Lite (Vinyl Black, 128 GB)</div>,\n",
       " <div class=\"_4rR01T\">Redmi 6 (Black, 32 GB)</div>,\n",
       " <div class=\"_4rR01T\">Xiaomi 12 Pro 5G (Noir Black, 256 GB)</div>,\n",
       " <div class=\"_4rR01T\">Redmi 7A (Matte Blue, 32 GB)</div>,\n",
       " <div class=\"_4rR01T\">Mi 11 Lite (Vinyl Black, 128 GB)</div>,\n",
       " <div class=\"_4rR01T\">Redmi 9A Sport (Carbon Black, 32 GB)</div>,\n",
       " <div class=\"_4rR01T\">Xiaomi 11i 5G (Purple Mist, 128 GB)</div>,\n",
       " <div class=\"_4rR01T\">Redmi 9 (Sky Blue, 64 GB)</div>,\n",
       " <div class=\"_4rR01T\">Redmi 9 (Sporty Orange, 64 GB)</div>,\n",
       " <div class=\"_4rR01T\">Redmi Y2 (Dark Grey, 64 GB)</div>,\n",
       " <div class=\"_4rR01T\">Xiaomi 11Lite NE (Diamond Dazzle, 128 GB)</div>]"
      ]
     },
     "execution_count": 5,
     "metadata": {},
     "output_type": "execute_result"
    }
   ],
   "source": [
    "names = soup.find_all('div',class_ = '_4rR01T')\n",
    "names"
   ]
  },
  {
   "cell_type": "code",
   "execution_count": 6,
   "metadata": {},
   "outputs": [
    {
     "name": "stdout",
     "output_type": "stream",
     "text": [
      "REDMI 10 Power (Sporty Orange, 128 GB)\n",
      "REDMI 10 Power (Power Black, 128 GB)\n",
      "Redmi 9A Sport (Coral Green, 32 GB)\n",
      "Redmi 9A Sport (Carbon Black, 32 GB)\n",
      "Redmi 9A Sport (Metallic Blue, 32 GB)\n",
      "Xiaomi 11Lite NE (Vinyl Black, 128 GB)\n",
      "Redmi 9A Sport (Coral Green, 32 GB)\n",
      "Redmi 9 (Carbon Black, 64 GB)\n",
      "Xiaomi 12 Pro 5G (Noir Black, 256 GB)\n",
      "Redmi 8A Dual (Sea Blue, 32 GB)\n",
      "Redmi 9A (Nature Green, 32 GB)\n",
      "Redmi 6 (Gold, 32 GB)\n",
      "Mi 11 Lite (Jazz Blue, 128 GB)\n",
      "Mi 11 Lite (Vinyl Black, 128 GB)\n",
      "Redmi 6 (Black, 32 GB)\n",
      "Xiaomi 12 Pro 5G (Noir Black, 256 GB)\n",
      "Redmi 7A (Matte Blue, 32 GB)\n",
      "Mi 11 Lite (Vinyl Black, 128 GB)\n",
      "Redmi 9A Sport (Carbon Black, 32 GB)\n",
      "Xiaomi 11i 5G (Purple Mist, 128 GB)\n",
      "Redmi 9 (Sky Blue, 64 GB)\n",
      "Redmi 9 (Sporty Orange, 64 GB)\n",
      "Redmi Y2 (Dark Grey, 64 GB)\n",
      "Xiaomi 11Lite NE (Diamond Dazzle, 128 GB)\n"
     ]
    }
   ],
   "source": [
    "for i in names:\n",
    "    print(i.text)"
   ]
  },
  {
   "cell_type": "markdown",
   "metadata": {},
   "source": [
    "## Ratings"
   ]
  },
  {
   "cell_type": "code",
   "execution_count": 8,
   "metadata": {},
   "outputs": [
    {
     "data": {
      "text/plain": [
       "[<div class=\"_3LWZlK\">4.2<img class=\"_1wB99o\" src=\"data:image/svg+xml;base64,PHN2ZyB4bWxucz0iaHR0cDovL3d3dy53My5vcmcvMjAwMC9zdmciIHdpZHRoPSIxMyIgaGVpZ2h0PSIxMiI+PHBhdGggZmlsbD0iI0ZGRiIgZD0iTTYuNSA5LjQzOWwtMy42NzQgMi4yMy45NC00LjI2LTMuMjEtMi44ODMgNC4yNTQtLjQwNEw2LjUuMTEybDEuNjkgNC4wMSA0LjI1NC40MDQtMy4yMSAyLjg4Mi45NCA0LjI2eiIvPjwvc3ZnPg==\"/></div>,\n",
       " <div class=\"_3LWZlK\">4.2<img class=\"_1wB99o\" src=\"data:image/svg+xml;base64,PHN2ZyB4bWxucz0iaHR0cDovL3d3dy53My5vcmcvMjAwMC9zdmciIHdpZHRoPSIxMyIgaGVpZ2h0PSIxMiI+PHBhdGggZmlsbD0iI0ZGRiIgZD0iTTYuNSA5LjQzOWwtMy42NzQgMi4yMy45NC00LjI2LTMuMjEtMi44ODMgNC4yNTQtLjQwNEw2LjUuMTEybDEuNjkgNC4wMSA0LjI1NC40MDQtMy4yMSAyLjg4Mi45NCA0LjI2eiIvPjwvc3ZnPg==\"/></div>,\n",
       " <div class=\"_3LWZlK\">4.2<img class=\"_1wB99o\" src=\"data:image/svg+xml;base64,PHN2ZyB4bWxucz0iaHR0cDovL3d3dy53My5vcmcvMjAwMC9zdmciIHdpZHRoPSIxMyIgaGVpZ2h0PSIxMiI+PHBhdGggZmlsbD0iI0ZGRiIgZD0iTTYuNSA5LjQzOWwtMy42NzQgMi4yMy45NC00LjI2LTMuMjEtMi44ODMgNC4yNTQtLjQwNEw2LjUuMTEybDEuNjkgNC4wMSA0LjI1NC40MDQtMy4yMSAyLjg4Mi45NCA0LjI2eiIvPjwvc3ZnPg==\"/></div>,\n",
       " <div class=\"_3LWZlK\">4.1<img class=\"_1wB99o\" src=\"data:image/svg+xml;base64,PHN2ZyB4bWxucz0iaHR0cDovL3d3dy53My5vcmcvMjAwMC9zdmciIHdpZHRoPSIxMyIgaGVpZ2h0PSIxMiI+PHBhdGggZmlsbD0iI0ZGRiIgZD0iTTYuNSA5LjQzOWwtMy42NzQgMi4yMy45NC00LjI2LTMuMjEtMi44ODMgNC4yNTQtLjQwNEw2LjUuMTEybDEuNjkgNC4wMSA0LjI1NC40MDQtMy4yMSAyLjg4Mi45NCA0LjI2eiIvPjwvc3ZnPg==\"/></div>,\n",
       " <div class=\"_3LWZlK\">4.1<img class=\"_1wB99o\" src=\"data:image/svg+xml;base64,PHN2ZyB4bWxucz0iaHR0cDovL3d3dy53My5vcmcvMjAwMC9zdmciIHdpZHRoPSIxMyIgaGVpZ2h0PSIxMiI+PHBhdGggZmlsbD0iI0ZGRiIgZD0iTTYuNSA5LjQzOWwtMy42NzQgMi4yMy45NC00LjI2LTMuMjEtMi44ODMgNC4yNTQtLjQwNEw2LjUuMTEybDEuNjkgNC4wMSA0LjI1NC40MDQtMy4yMSAyLjg4Mi45NCA0LjI2eiIvPjwvc3ZnPg==\"/></div>,\n",
       " <div class=\"_3LWZlK\">4.2<img class=\"_1wB99o\" src=\"data:image/svg+xml;base64,PHN2ZyB4bWxucz0iaHR0cDovL3d3dy53My5vcmcvMjAwMC9zdmciIHdpZHRoPSIxMyIgaGVpZ2h0PSIxMiI+PHBhdGggZmlsbD0iI0ZGRiIgZD0iTTYuNSA5LjQzOWwtMy42NzQgMi4yMy45NC00LjI2LTMuMjEtMi44ODMgNC4yNTQtLjQwNEw2LjUuMTEybDEuNjkgNC4wMSA0LjI1NC40MDQtMy4yMSAyLjg4Mi45NCA0LjI2eiIvPjwvc3ZnPg==\"/></div>,\n",
       " <div class=\"_3LWZlK\">4.1<img class=\"_1wB99o\" src=\"data:image/svg+xml;base64,PHN2ZyB4bWxucz0iaHR0cDovL3d3dy53My5vcmcvMjAwMC9zdmciIHdpZHRoPSIxMyIgaGVpZ2h0PSIxMiI+PHBhdGggZmlsbD0iI0ZGRiIgZD0iTTYuNSA5LjQzOWwtMy42NzQgMi4yMy45NC00LjI2LTMuMjEtMi44ODMgNC4yNTQtLjQwNEw2LjUuMTEybDEuNjkgNC4wMSA0LjI1NC40MDQtMy4yMSAyLjg4Mi45NCA0LjI2eiIvPjwvc3ZnPg==\"/></div>,\n",
       " <div class=\"_3LWZlK\">4.2<img class=\"_1wB99o\" src=\"data:image/svg+xml;base64,PHN2ZyB4bWxucz0iaHR0cDovL3d3dy53My5vcmcvMjAwMC9zdmciIHdpZHRoPSIxMyIgaGVpZ2h0PSIxMiI+PHBhdGggZmlsbD0iI0ZGRiIgZD0iTTYuNSA5LjQzOWwtMy42NzQgMi4yMy45NC00LjI2LTMuMjEtMi44ODMgNC4yNTQtLjQwNEw2LjUuMTEybDEuNjkgNC4wMSA0LjI1NC40MDQtMy4yMSAyLjg4Mi45NCA0LjI2eiIvPjwvc3ZnPg==\"/></div>,\n",
       " <div class=\"_3LWZlK\">4.1<img class=\"_1wB99o\" src=\"data:image/svg+xml;base64,PHN2ZyB4bWxucz0iaHR0cDovL3d3dy53My5vcmcvMjAwMC9zdmciIHdpZHRoPSIxMyIgaGVpZ2h0PSIxMiI+PHBhdGggZmlsbD0iI0ZGRiIgZD0iTTYuNSA5LjQzOWwtMy42NzQgMi4yMy45NC00LjI2LTMuMjEtMi44ODMgNC4yNTQtLjQwNEw2LjUuMTEybDEuNjkgNC4wMSA0LjI1NC40MDQtMy4yMSAyLjg4Mi45NCA0LjI2eiIvPjwvc3ZnPg==\"/></div>,\n",
       " <div class=\"_3LWZlK\">4.2<img class=\"_1wB99o\" src=\"data:image/svg+xml;base64,PHN2ZyB4bWxucz0iaHR0cDovL3d3dy53My5vcmcvMjAwMC9zdmciIHdpZHRoPSIxMyIgaGVpZ2h0PSIxMiI+PHBhdGggZmlsbD0iI0ZGRiIgZD0iTTYuNSA5LjQzOWwtMy42NzQgMi4yMy45NC00LjI2LTMuMjEtMi44ODMgNC4yNTQtLjQwNEw2LjUuMTEybDEuNjkgNC4wMSA0LjI1NC40MDQtMy4yMSAyLjg4Mi45NCA0LjI2eiIvPjwvc3ZnPg==\"/></div>,\n",
       " <div class=\"_3LWZlK\">4.3<img class=\"_1wB99o\" src=\"data:image/svg+xml;base64,PHN2ZyB4bWxucz0iaHR0cDovL3d3dy53My5vcmcvMjAwMC9zdmciIHdpZHRoPSIxMyIgaGVpZ2h0PSIxMiI+PHBhdGggZmlsbD0iI0ZGRiIgZD0iTTYuNSA5LjQzOWwtMy42NzQgMi4yMy45NC00LjI2LTMuMjEtMi44ODMgNC4yNTQtLjQwNEw2LjUuMTEybDEuNjkgNC4wMSA0LjI1NC40MDQtMy4yMSAyLjg4Mi45NCA0LjI2eiIvPjwvc3ZnPg==\"/></div>,\n",
       " <div class=\"_3LWZlK\">4.4<img class=\"_1wB99o\" src=\"data:image/svg+xml;base64,PHN2ZyB4bWxucz0iaHR0cDovL3d3dy53My5vcmcvMjAwMC9zdmciIHdpZHRoPSIxMyIgaGVpZ2h0PSIxMiI+PHBhdGggZmlsbD0iI0ZGRiIgZD0iTTYuNSA5LjQzOWwtMy42NzQgMi4yMy45NC00LjI2LTMuMjEtMi44ODMgNC4yNTQtLjQwNEw2LjUuMTEybDEuNjkgNC4wMSA0LjI1NC40MDQtMy4yMSAyLjg4Mi45NCA0LjI2eiIvPjwvc3ZnPg==\"/></div>,\n",
       " <div class=\"_3LWZlK\">4.2<img class=\"_1wB99o\" src=\"data:image/svg+xml;base64,PHN2ZyB4bWxucz0iaHR0cDovL3d3dy53My5vcmcvMjAwMC9zdmciIHdpZHRoPSIxMyIgaGVpZ2h0PSIxMiI+PHBhdGggZmlsbD0iI0ZGRiIgZD0iTTYuNSA5LjQzOWwtMy42NzQgMi4yMy45NC00LjI2LTMuMjEtMi44ODMgNC4yNTQtLjQwNEw2LjUuMTEybDEuNjkgNC4wMSA0LjI1NC40MDQtMy4yMSAyLjg4Mi45NCA0LjI2eiIvPjwvc3ZnPg==\"/></div>,\n",
       " <div class=\"_3LWZlK\">4.2<img class=\"_1wB99o\" src=\"data:image/svg+xml;base64,PHN2ZyB4bWxucz0iaHR0cDovL3d3dy53My5vcmcvMjAwMC9zdmciIHdpZHRoPSIxMyIgaGVpZ2h0PSIxMiI+PHBhdGggZmlsbD0iI0ZGRiIgZD0iTTYuNSA5LjQzOWwtMy42NzQgMi4yMy45NC00LjI2LTMuMjEtMi44ODMgNC4yNTQtLjQwNEw2LjUuMTEybDEuNjkgNC4wMSA0LjI1NC40MDQtMy4yMSAyLjg4Mi45NCA0LjI2eiIvPjwvc3ZnPg==\"/></div>,\n",
       " <div class=\"_3LWZlK\">4.4<img class=\"_1wB99o\" src=\"data:image/svg+xml;base64,PHN2ZyB4bWxucz0iaHR0cDovL3d3dy53My5vcmcvMjAwMC9zdmciIHdpZHRoPSIxMyIgaGVpZ2h0PSIxMiI+PHBhdGggZmlsbD0iI0ZGRiIgZD0iTTYuNSA5LjQzOWwtMy42NzQgMi4yMy45NC00LjI2LTMuMjEtMi44ODMgNC4yNTQtLjQwNEw2LjUuMTEybDEuNjkgNC4wMSA0LjI1NC40MDQtMy4yMSAyLjg4Mi45NCA0LjI2eiIvPjwvc3ZnPg==\"/></div>,\n",
       " <div class=\"_3LWZlK\">4.2<img class=\"_1wB99o\" src=\"data:image/svg+xml;base64,PHN2ZyB4bWxucz0iaHR0cDovL3d3dy53My5vcmcvMjAwMC9zdmciIHdpZHRoPSIxMyIgaGVpZ2h0PSIxMiI+PHBhdGggZmlsbD0iI0ZGRiIgZD0iTTYuNSA5LjQzOWwtMy42NzQgMi4yMy45NC00LjI2LTMuMjEtMi44ODMgNC4yNTQtLjQwNEw2LjUuMTEybDEuNjkgNC4wMSA0LjI1NC40MDQtMy4yMSAyLjg4Mi45NCA0LjI2eiIvPjwvc3ZnPg==\"/></div>,\n",
       " <div class=\"_3LWZlK\">4.3<img class=\"_1wB99o\" src=\"data:image/svg+xml;base64,PHN2ZyB4bWxucz0iaHR0cDovL3d3dy53My5vcmcvMjAwMC9zdmciIHdpZHRoPSIxMyIgaGVpZ2h0PSIxMiI+PHBhdGggZmlsbD0iI0ZGRiIgZD0iTTYuNSA5LjQzOWwtMy42NzQgMi4yMy45NC00LjI2LTMuMjEtMi44ODMgNC4yNTQtLjQwNEw2LjUuMTEybDEuNjkgNC4wMSA0LjI1NC40MDQtMy4yMSAyLjg4Mi45NCA0LjI2eiIvPjwvc3ZnPg==\"/></div>,\n",
       " <div class=\"_3LWZlK\">4.2<img class=\"_1wB99o\" src=\"data:image/svg+xml;base64,PHN2ZyB4bWxucz0iaHR0cDovL3d3dy53My5vcmcvMjAwMC9zdmciIHdpZHRoPSIxMyIgaGVpZ2h0PSIxMiI+PHBhdGggZmlsbD0iI0ZGRiIgZD0iTTYuNSA5LjQzOWwtMy42NzQgMi4yMy45NC00LjI2LTMuMjEtMi44ODMgNC4yNTQtLjQwNEw2LjUuMTEybDEuNjkgNC4wMSA0LjI1NC40MDQtMy4yMSAyLjg4Mi45NCA0LjI2eiIvPjwvc3ZnPg==\"/></div>,\n",
       " <div class=\"_3LWZlK\">4.2<img class=\"_1wB99o\" src=\"data:image/svg+xml;base64,PHN2ZyB4bWxucz0iaHR0cDovL3d3dy53My5vcmcvMjAwMC9zdmciIHdpZHRoPSIxMyIgaGVpZ2h0PSIxMiI+PHBhdGggZmlsbD0iI0ZGRiIgZD0iTTYuNSA5LjQzOWwtMy42NzQgMi4yMy45NC00LjI2LTMuMjEtMi44ODMgNC4yNTQtLjQwNEw2LjUuMTEybDEuNjkgNC4wMSA0LjI1NC40MDQtMy4yMSAyLjg4Mi45NCA0LjI2eiIvPjwvc3ZnPg==\"/></div>,\n",
       " <div class=\"_3LWZlK\">4.2<img class=\"_1wB99o\" src=\"data:image/svg+xml;base64,PHN2ZyB4bWxucz0iaHR0cDovL3d3dy53My5vcmcvMjAwMC9zdmciIHdpZHRoPSIxMyIgaGVpZ2h0PSIxMiI+PHBhdGggZmlsbD0iI0ZGRiIgZD0iTTYuNSA5LjQzOWwtMy42NzQgMi4yMy45NC00LjI2LTMuMjEtMi44ODMgNC4yNTQtLjQwNEw2LjUuMTEybDEuNjkgNC4wMSA0LjI1NC40MDQtMy4yMSAyLjg4Mi45NCA0LjI2eiIvPjwvc3ZnPg==\"/></div>,\n",
       " <div class=\"_3LWZlK\">4.2<img class=\"_1wB99o\" src=\"data:image/svg+xml;base64,PHN2ZyB4bWxucz0iaHR0cDovL3d3dy53My5vcmcvMjAwMC9zdmciIHdpZHRoPSIxMyIgaGVpZ2h0PSIxMiI+PHBhdGggZmlsbD0iI0ZGRiIgZD0iTTYuNSA5LjQzOWwtMy42NzQgMi4yMy45NC00LjI2LTMuMjEtMi44ODMgNC4yNTQtLjQwNEw2LjUuMTEybDEuNjkgNC4wMSA0LjI1NC40MDQtMy4yMSAyLjg4Mi45NCA0LjI2eiIvPjwvc3ZnPg==\"/></div>,\n",
       " <div class=\"_3LWZlK\">4.2<img class=\"_1wB99o\" src=\"data:image/svg+xml;base64,PHN2ZyB4bWxucz0iaHR0cDovL3d3dy53My5vcmcvMjAwMC9zdmciIHdpZHRoPSIxMyIgaGVpZ2h0PSIxMiI+PHBhdGggZmlsbD0iI0ZGRiIgZD0iTTYuNSA5LjQzOWwtMy42NzQgMi4yMy45NC00LjI2LTMuMjEtMi44ODMgNC4yNTQtLjQwNEw2LjUuMTEybDEuNjkgNC4wMSA0LjI1NC40MDQtMy4yMSAyLjg4Mi45NCA0LjI2eiIvPjwvc3ZnPg==\"/></div>,\n",
       " <div class=\"_3LWZlK\">4.4<img class=\"_1wB99o\" src=\"data:image/svg+xml;base64,PHN2ZyB4bWxucz0iaHR0cDovL3d3dy53My5vcmcvMjAwMC9zdmciIHdpZHRoPSIxMyIgaGVpZ2h0PSIxMiI+PHBhdGggZmlsbD0iI0ZGRiIgZD0iTTYuNSA5LjQzOWwtMy42NzQgMi4yMy45NC00LjI2LTMuMjEtMi44ODMgNC4yNTQtLjQwNEw2LjUuMTEybDEuNjkgNC4wMSA0LjI1NC40MDQtMy4yMSAyLjg4Mi45NCA0LjI2eiIvPjwvc3ZnPg==\"/></div>,\n",
       " <div class=\"_3LWZlK\">4.2<img class=\"_1wB99o\" src=\"data:image/svg+xml;base64,PHN2ZyB4bWxucz0iaHR0cDovL3d3dy53My5vcmcvMjAwMC9zdmciIHdpZHRoPSIxMyIgaGVpZ2h0PSIxMiI+PHBhdGggZmlsbD0iI0ZGRiIgZD0iTTYuNSA5LjQzOWwtMy42NzQgMi4yMy45NC00LjI2LTMuMjEtMi44ODMgNC4yNTQtLjQwNEw2LjUuMTEybDEuNjkgNC4wMSA0LjI1NC40MDQtMy4yMSAyLjg4Mi45NCA0LjI2eiIvPjwvc3ZnPg==\"/></div>]"
      ]
     },
     "execution_count": 8,
     "metadata": {},
     "output_type": "execute_result"
    }
   ],
   "source": [
    "ratings = soup.find_all('div',class_ = '_3LWZlK')\n",
    "ratings"
   ]
  },
  {
   "cell_type": "code",
   "execution_count": 9,
   "metadata": {},
   "outputs": [
    {
     "name": "stdout",
     "output_type": "stream",
     "text": [
      "4.2\n",
      "4.2\n",
      "4.2\n",
      "4.1\n",
      "4.1\n",
      "4.2\n",
      "4.1\n",
      "4.2\n",
      "4.1\n",
      "4.2\n",
      "4.3\n",
      "4.4\n",
      "4.2\n",
      "4.2\n",
      "4.4\n",
      "4.2\n",
      "4.3\n",
      "4.2\n",
      "4.2\n",
      "4.2\n",
      "4.2\n",
      "4.2\n",
      "4.4\n",
      "4.2\n"
     ]
    }
   ],
   "source": [
    "for i in ratings:\n",
    "    print(i.text)"
   ]
  },
  {
   "cell_type": "markdown",
   "metadata": {},
   "source": [
    "## Price"
   ]
  },
  {
   "cell_type": "code",
   "execution_count": 21,
   "metadata": {},
   "outputs": [
    {
     "data": {
      "text/plain": [
       "'₹12,990'"
      ]
     },
     "execution_count": 21,
     "metadata": {},
     "output_type": "execute_result"
    }
   ],
   "source": [
    "price = soup.find_all('div',class_ = '_30jeq3 _1_WHN1')\n",
    "price[0].text"
   ]
  },
  {
   "cell_type": "code",
   "execution_count": 25,
   "metadata": {},
   "outputs": [
    {
     "data": {
      "text/plain": [
       "24"
      ]
     },
     "execution_count": 25,
     "metadata": {},
     "output_type": "execute_result"
    }
   ],
   "source": [
    "len(price)"
   ]
  },
  {
   "cell_type": "code",
   "execution_count": 24,
   "metadata": {},
   "outputs": [
    {
     "name": "stdout",
     "output_type": "stream",
     "text": [
      "₹12,990\n",
      "₹12,840\n",
      "₹8,490\n",
      "₹7,490\n",
      "₹7,530\n",
      "₹21,650\n",
      "₹7,290\n",
      "₹10,480\n",
      "₹41,999\n",
      "₹8,290\n",
      "₹9,499\n",
      "₹8,999\n",
      "₹18,999\n",
      "₹18,999\n",
      "₹8,999\n",
      "₹44,999\n",
      "₹6,999\n",
      "₹21,999\n",
      "₹8,488\n",
      "₹26,999\n",
      "₹10,249\n",
      "₹10,280\n",
      "₹9,999\n",
      "₹21,990\n"
     ]
    }
   ],
   "source": [
    "for i in price:\n",
    "    print(i.text)"
   ]
  },
  {
   "cell_type": "markdown",
   "metadata": {},
   "source": [
    "## Image"
   ]
  },
  {
   "cell_type": "code",
   "execution_count": 38,
   "metadata": {},
   "outputs": [
    {
     "data": {
      "text/plain": [
       "'https://rukminim2.flixcart.com/image/312/312/xif0q/mobile/p/g/k/-original-imageyuud3bey9hh.jpeg?q=70'"
      ]
     },
     "execution_count": 38,
     "metadata": {},
     "output_type": "execute_result"
    }
   ],
   "source": [
    "img = soup.find_all('div',class_ = 'CXW8mj')\n",
    "img[0].find('img')['src']"
   ]
  },
  {
   "cell_type": "code",
   "execution_count": 39,
   "metadata": {},
   "outputs": [
    {
     "data": {
      "text/plain": [
       "[<div class=\"CXW8mj\" style=\"height:200px;width:200px\"><img alt=\"REDMI 10 Power (Sporty Orange, 128 GB)\" class=\"_396cs4\" loading=\"eager\" src=\"https://rukminim2.flixcart.com/image/312/312/xif0q/mobile/p/g/k/-original-imageyuud3bey9hh.jpeg?q=70\"/></div>,\n",
       " <div class=\"CXW8mj\" style=\"height:200px;width:200px\"><img alt=\"REDMI 10 Power (Power Black, 128 GB)\" class=\"_396cs4\" loading=\"eager\" src=\"https://rukminim2.flixcart.com/image/312/312/xif0q/mobile/e/y/b/-original-imageftfzx8gfkys.jpeg?q=70\"/></div>,\n",
       " <div class=\"CXW8mj\" style=\"height:200px;width:200px\"><img alt=\"Redmi 9A Sport (Coral Green, 32 GB)\" class=\"_396cs4\" loading=\"eager\" src=\"https://rukminim2.flixcart.com/image/312/312/xif0q/mobile/x/i/8/-original-imag7chxqqu7h5hs.jpeg?q=70\"/></div>,\n",
       " <div class=\"CXW8mj\" style=\"height:200px;width:200px\"><img alt=\"Redmi 9A Sport (Carbon Black, 32 GB)\" class=\"_396cs4\" loading=\"eager\" src=\"https://rukminim2.flixcart.com/image/312/312/xif0q/mobile/j/l/n/-original-imag7chjvhxdhhyh.jpeg?q=70\"/></div>,\n",
       " <div class=\"CXW8mj\" style=\"height:200px;width:200px\"><img alt=\"Redmi 9A Sport (Metallic Blue, 32 GB)\" class=\"_396cs4\" loading=\"eager\" src=\"https://rukminim2.flixcart.com/image/312/312/xif0q/mobile/j/z/h/-original-imag7gy6tzuz3hk8.jpeg?q=70\"/></div>,\n",
       " <div class=\"CXW8mj\" style=\"height:200px;width:200px\"><img alt=\"Xiaomi 11Lite NE (Vinyl Black, 128 GB)\" class=\"_396cs4\" loading=\"eager\" src=\"https://rukminim2.flixcart.com/image/312/312/xif0q/mobile/e/u/4/-original-imag7f6chqmz5hzd.jpeg?q=70\"/></div>,\n",
       " <div class=\"CXW8mj\" style=\"height:200px;width:200px\"><img alt=\"Redmi 9A Sport (Coral Green, 32 GB)\" class=\"_396cs4\" loading=\"eager\" src=\"https://rukminim2.flixcart.com/image/312/312/xif0q/mobile/x/i/8/-original-imag7chxqqu7h5hs.jpeg?q=70\"/></div>,\n",
       " <div class=\"CXW8mj\" style=\"height:200px;width:200px\"><img alt=\"Redmi 9 (Carbon Black, 64 GB)\" class=\"_396cs4\" loading=\"eager\" src=\"https://rukminim2.flixcart.com/image/312/312/kex5ci80/mobile/x/w/r/mi-redmi-9-m2006c3mii-original-imafvhqqcyp9z5f4.jpeg?q=70\"/></div>,\n",
       " <div class=\"CXW8mj\" style=\"height:200px;width:200px\"><img alt=\"Xiaomi 12 Pro 5G (Noir Black, 256 GB)\" class=\"_396cs4\" loading=\"eager\" src=\"https://rukminim2.flixcart.com/image/312/312/xif0q/mobile/7/y/u/-original-imagqmtfu8gt62yv.jpeg?q=70\"/></div>,\n",
       " <div class=\"CXW8mj\" style=\"height:200px;width:200px\"><img alt=\"Redmi 8A Dual (Sea Blue, 32 GB)\" class=\"_396cs4\" loading=\"eager\" src=\"https://rukminim2.flixcart.com/image/312/312/k6tniq80/mobile/y/z/q/mi-redmi-8a-dual-m2001c3k3i-original-imafp767fsgk9gdv.jpeg?q=70\"/></div>,\n",
       " <div class=\"CXW8mj\" style=\"height:200px;width:200px\"><img alt=\"Redmi 9A (Nature Green, 32 GB)\" class=\"_396cs4\" loading=\"eager\" src=\"https://rukminim2.flixcart.com/image/312/312/kesv0y80/mobile/k/h/9/mi-redmi-9a-b08696xb4b-original-imafve7pte7e4zmp.jpeg?q=70\"/></div>,\n",
       " <div class=\"CXW8mj\" style=\"height:200px;width:200px\"><img alt=\"Redmi 6 (Gold, 32 GB)\" class=\"_396cs4\" loading=\"eager\" src=\"https://rukminim2.flixcart.com/image/312/312/jlo1tow0/mobile/g/v/x/mi-redmi-6-na-original-imaf8qtkgh6qhs3p.jpeg?q=70\"/></div>,\n",
       " <div class=\"CXW8mj\" style=\"height:200px;width:200px\"><img alt=\"Mi 11 Lite (Jazz Blue, 128 GB)\" class=\"_396cs4\" loading=\"eager\" src=\"https://rukminim2.flixcart.com/image/312/312/kq6yefk0/mobile/i/w/m/11-lite-m2101k9ai-mi-original-imag496gkgqjrvvg.jpeg?q=70\"/></div>,\n",
       " <div class=\"CXW8mj\" style=\"height:200px;width:200px\"><img alt=\"Mi 11 Lite (Vinyl Black, 128 GB)\" class=\"_396cs4\" loading=\"eager\" src=\"https://rukminim2.flixcart.com/image/312/312/kq6yefk0/mobile/b/2/f/11-lite-m2101k9ai-mi-original-imag496egxryygvz.jpeg?q=70\"/></div>,\n",
       " <div class=\"CXW8mj\" style=\"height:200px;width:200px\"><img alt=\"Redmi 6 (Black, 32 GB)\" class=\"_396cs4\" loading=\"eager\" src=\"https://rukminim2.flixcart.com/image/312/312/jm2c87k0/mobile/a/u/t/mi-redmi-6-na-original-imaf92dn4sfharjg.jpeg?q=70\"/></div>,\n",
       " <div class=\"CXW8mj\" style=\"height:200px;width:200px\"><img alt=\"Xiaomi 12 Pro 5G (Noir Black, 256 GB)\" class=\"_396cs4\" loading=\"eager\" src=\"https://rukminim2.flixcart.com/image/312/312/xif0q/mobile/7/y/u/-original-imagqmtfu8gt62yv.jpeg?q=70\"/></div>,\n",
       " <div class=\"CXW8mj\" style=\"height:200px;width:200px\"><img alt=\"Redmi 7A (Matte Blue, 32 GB)\" class=\"_396cs4\" loading=\"eager\" src=\"https://rukminim2.flixcart.com/image/312/312/k65d18w0pkrrdj/mobile-refurbished/t/h/b/redmi-7a-16-a-mzb7799in-mi-2-original-imafg27hramfktfs.jpeg?q=70\"/></div>,\n",
       " <div class=\"CXW8mj\" style=\"height:200px;width:200px\"><img alt=\"Mi 11 Lite (Vinyl Black, 128 GB)\" class=\"_396cs4\" loading=\"eager\" src=\"https://rukminim2.flixcart.com/image/312/312/kq6yefk0/mobile/b/2/f/11-lite-m2101k9ai-mi-original-imag496egxryygvz.jpeg?q=70\"/></div>,\n",
       " <div class=\"CXW8mj\" style=\"height:200px;width:200px\"><img alt=\"Redmi 9A Sport (Carbon Black, 32 GB)\" class=\"_396cs4\" loading=\"eager\" src=\"https://rukminim2.flixcart.com/image/312/312/xif0q/mobile/j/l/n/-original-imag7chjvhxdhhyh.jpeg?q=70\"/></div>,\n",
       " <div class=\"CXW8mj\" style=\"height:200px;width:200px\"><img alt=\"Xiaomi 11i 5G (Purple Mist, 128 GB)\" class=\"_396cs4\" loading=\"eager\" src=\"https://rukminim2.flixcart.com/image/312/312/ky7lci80/mobile/e/j/x/-original-imagag2gatsxzcuv.jpeg?q=70\"/></div>,\n",
       " <div class=\"CXW8mj\" style=\"height:200px;width:200px\"><img alt=\"Redmi 9 (Sky Blue, 64 GB)\" class=\"_396cs4\" loading=\"eager\" src=\"https://rukminim2.flixcart.com/image/312/312/kehfi4w0/mobile/g/9/h/mi-redmi-9-lpddr4x-original-imafv5kypkgfqupf.jpeg?q=70\"/></div>,\n",
       " <div class=\"CXW8mj\" style=\"height:200px;width:200px\"><img alt=\"Redmi 9 (Sporty Orange, 64 GB)\" class=\"_396cs4\" loading=\"eager\" src=\"https://rukminim2.flixcart.com/image/312/312/kehfi4w0/mobile/y/a/d/mi-redmi-9-lpddr4x-original-imafv5kyeqsgxgzz.jpeg?q=70\"/></div>,\n",
       " <div class=\"CXW8mj\" style=\"height:200px;width:200px\"><img alt=\"Redmi Y2 (Dark Grey, 64 GB)\" class=\"_396cs4\" loading=\"eager\" src=\"https://rukminim2.flixcart.com/image/312/312/jkmwdjk0/mobile/c/m/c/mi-redmi-y2-y2-original-imaf7wnynyfjueps.jpeg?q=70\"/></div>,\n",
       " <div class=\"CXW8mj\" style=\"height:200px;width:200px\"><img alt=\"Xiaomi 11Lite NE (Diamond Dazzle, 128 GB)\" class=\"_396cs4\" loading=\"eager\" src=\"https://rukminim2.flixcart.com/image/312/312/xif0q/mobile/i/k/u/-original-imag7f6centfwcbz.jpeg?q=70\"/></div>]"
      ]
     },
     "execution_count": 39,
     "metadata": {},
     "output_type": "execute_result"
    }
   ],
   "source": [
    "img"
   ]
  },
  {
   "cell_type": "code",
   "execution_count": 45,
   "metadata": {},
   "outputs": [
    {
     "name": "stdout",
     "output_type": "stream",
     "text": [
      "https://rukminim2.flixcart.com/image/312/312/xif0q/mobile/p/g/k/-original-imageyuud3bey9hh.jpeg?q=70\n",
      "https://rukminim2.flixcart.com/image/312/312/xif0q/mobile/e/y/b/-original-imageftfzx8gfkys.jpeg?q=70\n",
      "https://rukminim2.flixcart.com/image/312/312/xif0q/mobile/x/i/8/-original-imag7chxqqu7h5hs.jpeg?q=70\n",
      "https://rukminim2.flixcart.com/image/312/312/xif0q/mobile/j/l/n/-original-imag7chjvhxdhhyh.jpeg?q=70\n",
      "https://rukminim2.flixcart.com/image/312/312/xif0q/mobile/j/z/h/-original-imag7gy6tzuz3hk8.jpeg?q=70\n",
      "https://rukminim2.flixcart.com/image/312/312/xif0q/mobile/e/u/4/-original-imag7f6chqmz5hzd.jpeg?q=70\n",
      "https://rukminim2.flixcart.com/image/312/312/xif0q/mobile/x/i/8/-original-imag7chxqqu7h5hs.jpeg?q=70\n",
      "https://rukminim2.flixcart.com/image/312/312/kex5ci80/mobile/x/w/r/mi-redmi-9-m2006c3mii-original-imafvhqqcyp9z5f4.jpeg?q=70\n",
      "https://rukminim2.flixcart.com/image/312/312/xif0q/mobile/7/y/u/-original-imagqmtfu8gt62yv.jpeg?q=70\n",
      "https://rukminim2.flixcart.com/image/312/312/k6tniq80/mobile/y/z/q/mi-redmi-8a-dual-m2001c3k3i-original-imafp767fsgk9gdv.jpeg?q=70\n",
      "https://rukminim2.flixcart.com/image/312/312/kesv0y80/mobile/k/h/9/mi-redmi-9a-b08696xb4b-original-imafve7pte7e4zmp.jpeg?q=70\n",
      "https://rukminim2.flixcart.com/image/312/312/jlo1tow0/mobile/g/v/x/mi-redmi-6-na-original-imaf8qtkgh6qhs3p.jpeg?q=70\n",
      "https://rukminim2.flixcart.com/image/312/312/kq6yefk0/mobile/i/w/m/11-lite-m2101k9ai-mi-original-imag496gkgqjrvvg.jpeg?q=70\n",
      "https://rukminim2.flixcart.com/image/312/312/kq6yefk0/mobile/b/2/f/11-lite-m2101k9ai-mi-original-imag496egxryygvz.jpeg?q=70\n",
      "https://rukminim2.flixcart.com/image/312/312/jm2c87k0/mobile/a/u/t/mi-redmi-6-na-original-imaf92dn4sfharjg.jpeg?q=70\n",
      "https://rukminim2.flixcart.com/image/312/312/xif0q/mobile/7/y/u/-original-imagqmtfu8gt62yv.jpeg?q=70\n",
      "https://rukminim2.flixcart.com/image/312/312/k65d18w0pkrrdj/mobile-refurbished/t/h/b/redmi-7a-16-a-mzb7799in-mi-2-original-imafg27hramfktfs.jpeg?q=70\n",
      "https://rukminim2.flixcart.com/image/312/312/kq6yefk0/mobile/b/2/f/11-lite-m2101k9ai-mi-original-imag496egxryygvz.jpeg?q=70\n",
      "https://rukminim2.flixcart.com/image/312/312/xif0q/mobile/j/l/n/-original-imag7chjvhxdhhyh.jpeg?q=70\n",
      "https://rukminim2.flixcart.com/image/312/312/ky7lci80/mobile/e/j/x/-original-imagag2gatsxzcuv.jpeg?q=70\n",
      "https://rukminim2.flixcart.com/image/312/312/kehfi4w0/mobile/g/9/h/mi-redmi-9-lpddr4x-original-imafv5kypkgfqupf.jpeg?q=70\n",
      "https://rukminim2.flixcart.com/image/312/312/kehfi4w0/mobile/y/a/d/mi-redmi-9-lpddr4x-original-imafv5kyeqsgxgzz.jpeg?q=70\n",
      "https://rukminim2.flixcart.com/image/312/312/jkmwdjk0/mobile/c/m/c/mi-redmi-y2-y2-original-imaf7wnynyfjueps.jpeg?q=70\n",
      "https://rukminim2.flixcart.com/image/312/312/xif0q/mobile/i/k/u/-original-imag7f6centfwcbz.jpeg?q=70\n"
     ]
    }
   ],
   "source": [
    "for img_url in (img):\n",
    "    print(img_url.find('img')['src'])\n",
    "    # print(img_url)"
   ]
  },
  {
   "cell_type": "markdown",
   "metadata": {},
   "source": [
    "## Ram"
   ]
  },
  {
   "cell_type": "code",
   "execution_count": null,
   "metadata": {},
   "outputs": [],
   "source": []
  },
  {
   "cell_type": "code",
   "execution_count": null,
   "metadata": {},
   "outputs": [],
   "source": []
  },
  {
   "cell_type": "code",
   "execution_count": null,
   "metadata": {},
   "outputs": [],
   "source": []
  },
  {
   "cell_type": "code",
   "execution_count": null,
   "metadata": {},
   "outputs": [],
   "source": []
  },
  {
   "cell_type": "code",
   "execution_count": null,
   "metadata": {},
   "outputs": [],
   "source": []
  },
  {
   "cell_type": "code",
   "execution_count": null,
   "metadata": {},
   "outputs": [],
   "source": []
  }
 ],
 "metadata": {
  "kernelspec": {
   "display_name": "Python 3",
   "language": "python",
   "name": "python3"
  },
  "language_info": {
   "codemirror_mode": {
    "name": "ipython",
    "version": 3
   },
   "file_extension": ".py",
   "mimetype": "text/x-python",
   "name": "python",
   "nbconvert_exporter": "python",
   "pygments_lexer": "ipython3",
   "version": "3.11.3"
  },
  "orig_nbformat": 4
 },
 "nbformat": 4,
 "nbformat_minor": 2
}
