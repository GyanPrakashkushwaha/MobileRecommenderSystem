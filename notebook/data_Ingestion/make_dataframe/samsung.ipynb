{
 "cells": [
  {
   "cell_type": "code",
   "execution_count": 1,
   "metadata": {},
   "outputs": [],
   "source": [
    "import pandas as pd\n",
    "import numpy as np\n",
    "import os\n",
    "from pathlib import Path\n",
    "import ast"
   ]
  },
  {
   "cell_type": "code",
   "execution_count": 2,
   "metadata": {},
   "outputs": [
    {
     "name": "stdout",
     "output_type": "stream",
     "text": [
      "d:\\vscode_machineLearning\\BEST_PROJECTS\\mobileRecommenderSystem\\notebook\\data_Ingestion\\make_dataframe\n",
      "None\n",
      "d:\\vscode_machineLearning\\BEST_PROJECTS\\mobileRecommenderSystem\n"
     ]
    }
   ],
   "source": [
    "print(os.getcwd())\n",
    "print(os.chdir(Path(r'd:\\vscode_machineLearning\\BEST_PROJECTS\\mobileRecommenderSystem')))\n",
    "print(os.getcwd())"
   ]
  },
  {
   "cell_type": "code",
   "execution_count": 6,
   "metadata": {},
   "outputs": [],
   "source": [
    "df = pd.read_csv(filepath_or_buffer=r'data\\raw_data\\samsung_mobile_data.csv')\n",
    "df.drop('Unnamed: 0',axis=1,inplace=True)"
   ]
  },
  {
   "cell_type": "code",
   "execution_count": null,
   "metadata": {},
   "outputs": [],
   "source": [
    "df.rename(columns=lambda x: x.replace('Mobile', '').lower(), inplace=True) # Renamed all the features\n",
    "df"
   ]
  },
  {
   "cell_type": "code",
   "execution_count": 10,
   "metadata": {},
   "outputs": [],
   "source": [
    "def make_col(col_name:str):\n",
    "    col_list_from_df = list(df[col_name])\n",
    "    col_list = [ast.literal_eval(i) for i in col_list_from_df]\n",
    "    col_df = [j for i in col_list for j in i]\n",
    "\n",
    "    return col_df"
   ]
  },
  {
   "cell_type": "code",
   "execution_count": 11,
   "metadata": {},
   "outputs": [],
   "source": [
    "names_df = make_col('name')\n",
    "ratings_df = make_col('ratings')\n",
    "price_df = make_col('price')\n",
    "imageurl_df = make_col('imageurl')\n",
    "storage_ram_df = make_col('storage&ram')\n",
    "camera_df = make_col('camera')\n",
    "os_processor_df = make_col('os&processor')\n",
    "display_df = make_col('display')\n",
    "network_df = make_col('network')\n",
    "battery_df = make_col('battery')\n"
   ]
  },
  {
   "cell_type": "code",
   "execution_count": 13,
   "metadata": {},
   "outputs": [
    {
     "data": {
      "text/plain": [
       "517"
      ]
     },
     "execution_count": 13,
     "metadata": {},
     "output_type": "execute_result"
    }
   ],
   "source": [
    "len(names_df)"
   ]
  },
  {
   "cell_type": "code",
   "execution_count": 14,
   "metadata": {},
   "outputs": [
    {
     "name": "stdout",
     "output_type": "stream",
     "text": [
      "Length of names_df: 517\n",
      "Length of ratings_df: 506\n",
      "Length of price_df: 517\n",
      "Length of imageurl_df: 517\n",
      "Length of storage_ram_df: 516\n",
      "Length of camera_df: 496\n",
      "Length of os_processor_df: 509\n",
      "Length of display_df: 517\n",
      "Length of network_df: 506\n",
      "Length of battery_df: 516\n"
     ]
    }
   ],
   "source": [
    "\n",
    "lengths_dict = {\n",
    "    'names_df':len(names_df),\n",
    "    'ratings_df': len(ratings_df),\n",
    "    'price_df': len(price_df),\n",
    "    'imageurl_df': len(imageurl_df),\n",
    "    'storage_ram_df': len(storage_ram_df),\n",
    "    'camera_df': len(camera_df),\n",
    "    'os_processor_df': len(os_processor_df),\n",
    "    'display_df': len(display_df),\n",
    "    'network_df': len(network_df),\n",
    "    'battery_df': len(battery_df),\n",
    "}\n",
    "\n",
    "for var_name, length in lengths_dict.items():\n",
    "    print(f\"Length of {var_name}: {length}\")\n"
   ]
  },
  {
   "cell_type": "code",
   "execution_count": 15,
   "metadata": {},
   "outputs": [],
   "source": [
    "features_dict = {\n",
    "    'model_names' : names_df[:495],\n",
    "    'ratings':ratings_df[:495],\n",
    "    'price' :price_df[:495],\n",
    "    'imgURL':imageurl_df[:495],\n",
    "    'storage_ram':storage_ram_df[:495],\n",
    "    'os_processor':os_processor_df[:495],\n",
    "    'network':network_df[:495],\n",
    "    'battery':battery_df[:495]\n",
    "}"
   ]
  },
  {
   "cell_type": "code",
   "execution_count": 16,
   "metadata": {},
   "outputs": [],
   "source": [
    "samsung_df = pd.DataFrame(data=features_dict)\n"
   ]
  },
  {
   "cell_type": "code",
   "execution_count": 19,
   "metadata": {},
   "outputs": [
    {
     "data": {
      "text/plain": [
       "model_names     0\n",
       "ratings         0\n",
       "price           0\n",
       "imgURL          0\n",
       "storage_ram     0\n",
       "os_processor    0\n",
       "network         0\n",
       "battery         0\n",
       "dtype: int64"
      ]
     },
     "execution_count": 19,
     "metadata": {},
     "output_type": "execute_result"
    }
   ],
   "source": [
    "samsung_df.isnull().sum()"
   ]
  },
  {
   "cell_type": "code",
   "execution_count": null,
   "metadata": {},
   "outputs": [],
   "source": [
    "samsung_df.to_csv(path_or_buf='data/data_to_merge/samsung_data.csv',index=False)"
   ]
  }
 ],
 "metadata": {
  "kernelspec": {
   "display_name": "Python 3",
   "language": "python",
   "name": "python3"
  },
  "language_info": {
   "codemirror_mode": {
    "name": "ipython",
    "version": 3
   },
   "file_extension": ".py",
   "mimetype": "text/x-python",
   "name": "python",
   "nbconvert_exporter": "python",
   "pygments_lexer": "ipython3",
   "version": "3.11.3"
  },
  "orig_nbformat": 4
 },
 "nbformat": 4,
 "nbformat_minor": 2
}
