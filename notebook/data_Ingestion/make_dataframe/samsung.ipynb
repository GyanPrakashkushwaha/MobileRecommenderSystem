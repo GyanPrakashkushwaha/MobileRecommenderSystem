{
 "cells": [
  {
   "cell_type": "code",
   "execution_count": 1,
   "metadata": {},
   "outputs": [],
   "source": [
    "import pandas as pd\n",
    "import numpy as np\n",
    "import os\n",
    "from pathlib import Path\n",
    "import ast"
   ]
  },
  {
   "cell_type": "code",
   "execution_count": 2,
   "metadata": {},
   "outputs": [
    {
     "name": "stdout",
     "output_type": "stream",
     "text": [
      "d:\\vscode_machineLearning\\BEST_PROJECTS\\mobileRecommenderSystem\\notebook\\data_Ingestion\\make_dataframe\n",
      "None\n",
      "d:\\vscode_machineLearning\\BEST_PROJECTS\\mobileRecommenderSystem\n"
     ]
    }
   ],
   "source": [
    "print(os.getcwd())\n",
    "print(os.chdir(Path(r'd:\\vscode_machineLearning\\BEST_PROJECTS\\mobileRecommenderSystem')))\n",
    "print(os.getcwd())"
   ]
  },
  {
   "cell_type": "code",
   "execution_count": 6,
   "metadata": {},
   "outputs": [],
   "source": [
    "df = pd.read_csv(filepath_or_buffer=r'data\\raw_data\\samsung_mobile_data.csv')\n",
    "df.drop('Unnamed: 0',axis=1,inplace=True)"
   ]
  },
  {
   "cell_type": "code",
   "execution_count": null,
   "metadata": {},
   "outputs": [],
   "source": [
    "df.rename(columns=lambda x: x.replace('Mobile', '').lower(), inplace=True) # Renamed all the features\n",
    "df"
   ]
  },
  {
   "cell_type": "code",
   "execution_count": 10,
   "metadata": {},
   "outputs": [],
   "source": [
    "def make_col(col_name:str):\n",
    "    col_list_from_df = list(df[col_name])\n",
    "    col_list = [ast.literal_eval(i) for i in col_list_from_df]\n",
    "    col_df = [j for i in col_list for j in i]\n",
    "\n",
    "    return col_df"
   ]
  },
  {
   "cell_type": "code",
   "execution_count": 11,
   "metadata": {},
   "outputs": [],
   "source": [
    "names_df = make_col('name')\n",
    "ratings_df = make_col('ratings')\n",
    "price_df = make_col('price')\n",
    "imageurl_df = make_col('imageurl')\n",
    "storage_ram_df = make_col('storage&ram')\n",
    "camera_df = make_col('camera')\n",
    "os_processor_df = make_col('os&processor')\n",
    "display_df = make_col('display')\n",
    "network_df = make_col('network')\n",
    "battery_df = make_col('battery')\n"
   ]
  },
  {
   "cell_type": "code",
   "execution_count": 13,
   "metadata": {},
   "outputs": [
    {
     "data": {
      "text/plain": [
       "517"
      ]
     },
     "execution_count": 13,
     "metadata": {},
     "output_type": "execute_result"
    }
   ],
   "source": [
    "len(names_df)"
   ]
  },
  {
   "cell_type": "code",
   "execution_count": 14,
   "metadata": {},
   "outputs": [
    {
     "name": "stdout",
     "output_type": "stream",
     "text": [
      "Length of names_df: 517\n",
      "Length of ratings_df: 506\n",
      "Length of price_df: 517\n",
      "Length of imageurl_df: 517\n",
      "Length of storage_ram_df: 516\n",
      "Length of camera_df: 496\n",
      "Length of os_processor_df: 509\n",
      "Length of display_df: 517\n",
      "Length of network_df: 506\n",
      "Length of battery_df: 516\n"
     ]
    }
   ],
   "source": [
    "\n",
    "lengths_dict = {\n",
    "    'names_df':len(names_df),\n",
    "    'ratings_df': len(ratings_df),\n",
    "    'price_df': len(price_df),\n",
    "    'imageurl_df': len(imageurl_df),\n",
    "    'storage_ram_df': len(storage_ram_df),\n",
    "    'camera_df': len(camera_df),\n",
    "    'os_processor_df': len(os_processor_df),\n",
    "    'display_df': len(display_df),\n",
    "    'network_df': len(network_df),\n",
    "    'battery_df': len(battery_df),\n",
    "}\n",
    "\n",
    "for var_name, length in lengths_dict.items():\n",
    "    print(f\"Length of {var_name}: {length}\")\n"
   ]
  },
  {
   "cell_type": "code",
   "execution_count": 15,
   "metadata": {},
   "outputs": [],
   "source": [
    "features_dict = {\n",
    "    'model_names' : names_df[:495],\n",
    "    'ratings':ratings_df[:495],\n",
    "    'price' :price_df[:495],\n",
    "    'imgURL':imageurl_df[:495],\n",
    "    'storage_ram':storage_ram_df[:495],\n",
    "    'os_processor':os_processor_df[:495],\n",
    "    'network':network_df[:495],\n",
    "    'battery':battery_df[:495]\n",
    "}"
   ]
  },
  {
   "cell_type": "code",
   "execution_count": 16,
   "metadata": {},
   "outputs": [],
   "source": [
    "samsung_df = pd.DataFrame(data=features_dict)\n"
   ]
  },
  {
   "cell_type": "code",
   "execution_count": 19,
   "metadata": {},
   "outputs": [
    {
     "data": {
      "text/plain": [
       "model_names     0\n",
       "ratings         0\n",
       "price           0\n",
       "imgURL          0\n",
       "storage_ram     0\n",
       "os_processor    0\n",
       "network         0\n",
       "battery         0\n",
       "dtype: int64"
      ]
     },
     "execution_count": 19,
     "metadata": {},
     "output_type": "execute_result"
    }
   ],
   "source": [
    "samsung_df.isnull().sum()"
   ]
  },
  {
   "cell_type": "code",
   "execution_count": 24,
   "metadata": {},
   "outputs": [
    {
     "data": {
      "text/html": [
       "<div>\n",
       "<style scoped>\n",
       "    .dataframe tbody tr th:only-of-type {\n",
       "        vertical-align: middle;\n",
       "    }\n",
       "\n",
       "    .dataframe tbody tr th {\n",
       "        vertical-align: top;\n",
       "    }\n",
       "\n",
       "    .dataframe thead th {\n",
       "        text-align: right;\n",
       "    }\n",
       "</style>\n",
       "<table border=\"1\" class=\"dataframe\">\n",
       "  <thead>\n",
       "    <tr style=\"text-align: right;\">\n",
       "      <th></th>\n",
       "      <th>model_names</th>\n",
       "      <th>ratings</th>\n",
       "      <th>price</th>\n",
       "      <th>imgURL</th>\n",
       "      <th>storage_ram</th>\n",
       "      <th>os_processor</th>\n",
       "      <th>network</th>\n",
       "      <th>battery</th>\n",
       "    </tr>\n",
       "  </thead>\n",
       "  <tbody>\n",
       "    <tr>\n",
       "      <th>0</th>\n",
       "      <td>SAMSUNG Galaxy F04 (Opal Green, 64 GB)</td>\n",
       "      <td>4.2</td>\n",
       "      <td>₹8,499</td>\n",
       "      <td>https://rukminim2.flixcart.com/image/312/312/x...</td>\n",
       "      <td>Internal Storage64 GBRAM4 GBTotal Memory64 GBE...</td>\n",
       "      <td>Operating SystemAndroid 12Processor TypeMediat...</td>\n",
       "      <td>Network Type4G, 3G, 2GSupported NetworksGSM, C...</td>\n",
       "      <td>Battery Capacity5000 mAhDual BatteryNo</td>\n",
       "    </tr>\n",
       "    <tr>\n",
       "      <th>1</th>\n",
       "      <td>SAMSUNG Galaxy F13 (Nightsky Green, 64 GB)</td>\n",
       "      <td>4.3</td>\n",
       "      <td>₹10,999</td>\n",
       "      <td>https://rukminim2.flixcart.com/image/312/312/x...</td>\n",
       "      <td>Internal Storage64 GBRAM4 GBExpandable Storage...</td>\n",
       "      <td>Operating SystemAndroid 12Processor TypeExynos...</td>\n",
       "      <td>Network Type4G, 3G, 2GSupported Networks4G LTE...</td>\n",
       "      <td>Battery Capacity6000 mAhDual BatteryNo</td>\n",
       "    </tr>\n",
       "    <tr>\n",
       "      <th>2</th>\n",
       "      <td>SAMSUNG Galaxy F13 (Waterfall Blue, 64 GB)</td>\n",
       "      <td>4.3</td>\n",
       "      <td>₹10,999</td>\n",
       "      <td>https://rukminim2.flixcart.com/image/312/312/x...</td>\n",
       "      <td>Internal Storage64 GBRAM4 GBExpandable Storage...</td>\n",
       "      <td>Operating SystemAndroid 12Processor TypeExynos...</td>\n",
       "      <td>Network Type4G, 3G, 2GSupported Networks4G LTE...</td>\n",
       "      <td>Battery Capacity6000 mAhDual BatteryNo</td>\n",
       "    </tr>\n",
       "    <tr>\n",
       "      <th>3</th>\n",
       "      <td>SAMSUNG Galaxy F13 (Sunrise Copper, 64 GB)</td>\n",
       "      <td>4.3</td>\n",
       "      <td>₹10,999</td>\n",
       "      <td>https://rukminim2.flixcart.com/image/312/312/x...</td>\n",
       "      <td>Internal Storage64 GBRAM4 GBExpandable Storage...</td>\n",
       "      <td>Operating SystemAndroid 12Processor TypeExynos...</td>\n",
       "      <td>Network Type4G, 3G, 2GSupported Networks4G LTE...</td>\n",
       "      <td>Battery Capacity6000 mAhDual BatteryNo</td>\n",
       "    </tr>\n",
       "    <tr>\n",
       "      <th>4</th>\n",
       "      <td>SAMSUNG Galaxy F13 (Waterfall Blue, 128 GB)</td>\n",
       "      <td>4.3</td>\n",
       "      <td>₹11,999</td>\n",
       "      <td>https://rukminim2.flixcart.com/image/312/312/x...</td>\n",
       "      <td>Internal Storage128 GBRAM4 GBExpandable Storag...</td>\n",
       "      <td>Operating SystemAndroid 12Processor TypeExynos...</td>\n",
       "      <td>Network Type4G, 3G, 2GSupported Networks4G LTE...</td>\n",
       "      <td>Battery Capacity6000 mAhDual BatteryNo</td>\n",
       "    </tr>\n",
       "    <tr>\n",
       "      <th>...</th>\n",
       "      <td>...</td>\n",
       "      <td>...</td>\n",
       "      <td>...</td>\n",
       "      <td>...</td>\n",
       "      <td>...</td>\n",
       "      <td>...</td>\n",
       "      <td>...</td>\n",
       "      <td>...</td>\n",
       "    </tr>\n",
       "    <tr>\n",
       "      <th>490</th>\n",
       "      <td>SAMSUNG SM-B310EZDDINS</td>\n",
       "      <td>4.3</td>\n",
       "      <td>₹2,149</td>\n",
       "      <td>https://rukminim2.flixcart.com/image/312/312/k...</td>\n",
       "      <td>Internal Storage64 GBRAM4 GBExpandable Storage...</td>\n",
       "      <td>Operating SystemAndroid 13Processor TypeQualco...</td>\n",
       "      <td>Network Type5G, 4G, 3G, 2GSupported Networks5G...</td>\n",
       "      <td>Battery Capacity5000 mAh</td>\n",
       "    </tr>\n",
       "    <tr>\n",
       "      <th>491</th>\n",
       "      <td>SAMSUNG Galaxy M11 (Violet, 64 GB)</td>\n",
       "      <td>4.6</td>\n",
       "      <td>₹12,999</td>\n",
       "      <td>https://rukminim2.flixcart.com/image/312/312/k...</td>\n",
       "      <td>Internal Storage32 GBRAM3 GBExpandable Storage...</td>\n",
       "      <td>Operating SystemAndroid Pie 10Processor TypeEx...</td>\n",
       "      <td>Network Type4G, 3G, 2GSupported Networks4G LTE...</td>\n",
       "      <td>Battery Capacity4000 mAh</td>\n",
       "    </tr>\n",
       "    <tr>\n",
       "      <th>492</th>\n",
       "      <td>SAMSUNG Galaxy M01 (Red, 32 GB)</td>\n",
       "      <td>4.1</td>\n",
       "      <td>₹8,999</td>\n",
       "      <td>https://rukminim2.flixcart.com/image/312/312/k...</td>\n",
       "      <td>Internal Storage128 GBRAM4 GBExpandable Storag...</td>\n",
       "      <td>Operating SystemAndroid Nougat 7Processor Type...</td>\n",
       "      <td>Network Type4G VOLTE, 4G, 3G, 2GSupported Netw...</td>\n",
       "      <td>Battery Capacity5000 mAh</td>\n",
       "    </tr>\n",
       "    <tr>\n",
       "      <th>493</th>\n",
       "      <td>SAMSUNG Galaxy A12 (Blue, 128 GB)</td>\n",
       "      <td>4.2</td>\n",
       "      <td>₹14,999</td>\n",
       "      <td>https://rukminim2.flixcart.com/image/312/312/k...</td>\n",
       "      <td>Internal Storage128 GBRAM6 GBExpandable Storag...</td>\n",
       "      <td>Operating SystemAndroid 11Processor TypeMediaT...</td>\n",
       "      <td>Network Type3G, 4G, 2GSupported NetworksGSM, W...</td>\n",
       "      <td>Battery Capacity4500 mAh</td>\n",
       "    </tr>\n",
       "    <tr>\n",
       "      <th>494</th>\n",
       "      <td>SAMSUNG Galaxy A52 (Awesome White, 128 GB)</td>\n",
       "      <td>4.2</td>\n",
       "      <td>₹30,499</td>\n",
       "      <td>https://rukminim2.flixcart.com/image/312/312/k...</td>\n",
       "      <td>Internal Storage64 GBRAM6 GBExpandable Storage...</td>\n",
       "      <td>Operating SystemAndroid 10Processor TypeQualco...</td>\n",
       "      <td>Network Type3G, 4G, 2GSupported NetworksGSM, W...</td>\n",
       "      <td>Battery Capacity4000 mAh</td>\n",
       "    </tr>\n",
       "  </tbody>\n",
       "</table>\n",
       "<p>495 rows × 8 columns</p>\n",
       "</div>"
      ],
      "text/plain": [
       "                                     model_names ratings    price   \n",
       "0         SAMSUNG Galaxy F04 (Opal Green, 64 GB)     4.2   ₹8,499  \\\n",
       "1     SAMSUNG Galaxy F13 (Nightsky Green, 64 GB)     4.3  ₹10,999   \n",
       "2     SAMSUNG Galaxy F13 (Waterfall Blue, 64 GB)     4.3  ₹10,999   \n",
       "3     SAMSUNG Galaxy F13 (Sunrise Copper, 64 GB)     4.3  ₹10,999   \n",
       "4    SAMSUNG Galaxy F13 (Waterfall Blue, 128 GB)     4.3  ₹11,999   \n",
       "..                                           ...     ...      ...   \n",
       "490                       SAMSUNG SM-B310EZDDINS     4.3   ₹2,149   \n",
       "491           SAMSUNG Galaxy M11 (Violet, 64 GB)     4.6  ₹12,999   \n",
       "492              SAMSUNG Galaxy M01 (Red, 32 GB)     4.1   ₹8,999   \n",
       "493            SAMSUNG Galaxy A12 (Blue, 128 GB)     4.2  ₹14,999   \n",
       "494   SAMSUNG Galaxy A52 (Awesome White, 128 GB)     4.2  ₹30,499   \n",
       "\n",
       "                                                imgURL   \n",
       "0    https://rukminim2.flixcart.com/image/312/312/x...  \\\n",
       "1    https://rukminim2.flixcart.com/image/312/312/x...   \n",
       "2    https://rukminim2.flixcart.com/image/312/312/x...   \n",
       "3    https://rukminim2.flixcart.com/image/312/312/x...   \n",
       "4    https://rukminim2.flixcart.com/image/312/312/x...   \n",
       "..                                                 ...   \n",
       "490  https://rukminim2.flixcart.com/image/312/312/k...   \n",
       "491  https://rukminim2.flixcart.com/image/312/312/k...   \n",
       "492  https://rukminim2.flixcart.com/image/312/312/k...   \n",
       "493  https://rukminim2.flixcart.com/image/312/312/k...   \n",
       "494  https://rukminim2.flixcart.com/image/312/312/k...   \n",
       "\n",
       "                                           storage_ram   \n",
       "0    Internal Storage64 GBRAM4 GBTotal Memory64 GBE...  \\\n",
       "1    Internal Storage64 GBRAM4 GBExpandable Storage...   \n",
       "2    Internal Storage64 GBRAM4 GBExpandable Storage...   \n",
       "3    Internal Storage64 GBRAM4 GBExpandable Storage...   \n",
       "4    Internal Storage128 GBRAM4 GBExpandable Storag...   \n",
       "..                                                 ...   \n",
       "490  Internal Storage64 GBRAM4 GBExpandable Storage...   \n",
       "491  Internal Storage32 GBRAM3 GBExpandable Storage...   \n",
       "492  Internal Storage128 GBRAM4 GBExpandable Storag...   \n",
       "493  Internal Storage128 GBRAM6 GBExpandable Storag...   \n",
       "494  Internal Storage64 GBRAM6 GBExpandable Storage...   \n",
       "\n",
       "                                          os_processor   \n",
       "0    Operating SystemAndroid 12Processor TypeMediat...  \\\n",
       "1    Operating SystemAndroid 12Processor TypeExynos...   \n",
       "2    Operating SystemAndroid 12Processor TypeExynos...   \n",
       "3    Operating SystemAndroid 12Processor TypeExynos...   \n",
       "4    Operating SystemAndroid 12Processor TypeExynos...   \n",
       "..                                                 ...   \n",
       "490  Operating SystemAndroid 13Processor TypeQualco...   \n",
       "491  Operating SystemAndroid Pie 10Processor TypeEx...   \n",
       "492  Operating SystemAndroid Nougat 7Processor Type...   \n",
       "493  Operating SystemAndroid 11Processor TypeMediaT...   \n",
       "494  Operating SystemAndroid 10Processor TypeQualco...   \n",
       "\n",
       "                                               network   \n",
       "0    Network Type4G, 3G, 2GSupported NetworksGSM, C...  \\\n",
       "1    Network Type4G, 3G, 2GSupported Networks4G LTE...   \n",
       "2    Network Type4G, 3G, 2GSupported Networks4G LTE...   \n",
       "3    Network Type4G, 3G, 2GSupported Networks4G LTE...   \n",
       "4    Network Type4G, 3G, 2GSupported Networks4G LTE...   \n",
       "..                                                 ...   \n",
       "490  Network Type5G, 4G, 3G, 2GSupported Networks5G...   \n",
       "491  Network Type4G, 3G, 2GSupported Networks4G LTE...   \n",
       "492  Network Type4G VOLTE, 4G, 3G, 2GSupported Netw...   \n",
       "493  Network Type3G, 4G, 2GSupported NetworksGSM, W...   \n",
       "494  Network Type3G, 4G, 2GSupported NetworksGSM, W...   \n",
       "\n",
       "                                    battery  \n",
       "0    Battery Capacity5000 mAhDual BatteryNo  \n",
       "1    Battery Capacity6000 mAhDual BatteryNo  \n",
       "2    Battery Capacity6000 mAhDual BatteryNo  \n",
       "3    Battery Capacity6000 mAhDual BatteryNo  \n",
       "4    Battery Capacity6000 mAhDual BatteryNo  \n",
       "..                                      ...  \n",
       "490                Battery Capacity5000 mAh  \n",
       "491                Battery Capacity4000 mAh  \n",
       "492                Battery Capacity5000 mAh  \n",
       "493                Battery Capacity4500 mAh  \n",
       "494                Battery Capacity4000 mAh  \n",
       "\n",
       "[495 rows x 8 columns]"
      ]
     },
     "execution_count": 24,
     "metadata": {},
     "output_type": "execute_result"
    }
   ],
   "source": [
    "samsung_df"
   ]
  },
  {
   "cell_type": "code",
   "execution_count": 20,
   "metadata": {},
   "outputs": [],
   "source": [
    "samsung_df.to_csv(path_or_buf='data/data_to_merge/samsung_data.csv',index=False)"
   ]
  }
 ],
 "metadata": {
  "kernelspec": {
   "display_name": "Python 3",
   "language": "python",
   "name": "python3"
  },
  "language_info": {
   "codemirror_mode": {
    "name": "ipython",
    "version": 3
   },
   "file_extension": ".py",
   "mimetype": "text/x-python",
   "name": "python",
   "nbconvert_exporter": "python",
   "pygments_lexer": "ipython3",
   "version": "3.11.3"
  },
  "orig_nbformat": 4
 },
 "nbformat": 4,
 "nbformat_minor": 2
}
