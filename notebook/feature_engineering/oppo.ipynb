{
 "cells": [
  {
   "cell_type": "code",
   "execution_count": 2,
   "metadata": {},
   "outputs": [],
   "source": [
    "import pandas as pd\n",
    "import os\n",
    "import numpy as np\n",
    "from ensure import ensure_annotations\n",
    "import re\n",
    "import warnings\n",
    "warnings.filterwarnings('ignore')"
   ]
  },
  {
   "cell_type": "code",
   "execution_count": 3,
   "metadata": {},
   "outputs": [
    {
     "name": "stdout",
     "output_type": "stream",
     "text": [
      "d:\\vscode_machineLearning\\BEST_PROJECTS\\mobileRecommenderSystem\\notebook\\feature_engineering\n",
      "d:\\vscode_machineLearning\\BEST_PROJECTS\\mobileRecommenderSystem\n"
     ]
    }
   ],
   "source": [
    "print(os.getcwd())\n",
    "os.chdir(r'd:\\vscode_machineLearning\\BEST_PROJECTS\\mobileRecommenderSystem')\n",
    "print(os.getcwd())"
   ]
  },
  {
   "cell_type": "code",
   "execution_count": 5,
   "metadata": {},
   "outputs": [],
   "source": [
    "df = pd.read_csv(r'data\\cleaned_dataset\\vivo_cleaned_data.csv',index_col=None)"
   ]
  },
  {
   "cell_type": "code",
   "execution_count": null,
   "metadata": {},
   "outputs": [],
   "source": [
    "df.drop_duplicates(inplace=True,ignore_index=True)"
   ]
  },
  {
   "cell_type": "code",
   "execution_count": null,
   "metadata": {},
   "outputs": [
    {
     "data": {
      "text/html": [
       "<div>\n",
       "<style scoped>\n",
       "    .dataframe tbody tr th:only-of-type {\n",
       "        vertical-align: middle;\n",
       "    }\n",
       "\n",
       "    .dataframe tbody tr th {\n",
       "        vertical-align: top;\n",
       "    }\n",
       "\n",
       "    .dataframe thead th {\n",
       "        text-align: right;\n",
       "    }\n",
       "</style>\n",
       "<table border=\"1\" class=\"dataframe\">\n",
       "  <thead>\n",
       "    <tr style=\"text-align: right;\">\n",
       "      <th></th>\n",
       "      <th>Unnamed: 0</th>\n",
       "      <th>name</th>\n",
       "      <th>ratings</th>\n",
       "      <th>price</th>\n",
       "      <th>imgURL</th>\n",
       "      <th>storage_ram</th>\n",
       "      <th>os_processor</th>\n",
       "      <th>camera</th>\n",
       "      <th>display</th>\n",
       "      <th>network</th>\n",
       "      <th>battery</th>\n",
       "    </tr>\n",
       "  </thead>\n",
       "  <tbody>\n",
       "  </tbody>\n",
       "</table>\n",
       "</div>"
      ],
      "text/plain": [
       "Empty DataFrame\n",
       "Columns: [Unnamed: 0, name, ratings, price, imgURL, storage_ram, os_processor, camera, display, network, battery]\n",
       "Index: []"
      ]
     },
     "execution_count": 64,
     "metadata": {},
     "output_type": "execute_result"
    }
   ],
   "source": [
    "df[df['ratings'].isnull() == True]"
   ]
  },
  {
   "cell_type": "code",
   "execution_count": null,
   "metadata": {},
   "outputs": [],
   "source": [
    "@ensure_annotations\n",
    "def random_values(feature_name=['price','name','display'],total=6):\n",
    "    for i in range(0,total):\n",
    "        index = np.random.randint(df.shape[0])\n",
    "        print(index,':',df[feature_name].iloc[index])\n",
    "            "
   ]
  },
  {
   "cell_type": "markdown",
   "metadata": {},
   "source": [
    "## Price"
   ]
  },
  {
   "cell_type": "code",
   "execution_count": null,
   "metadata": {},
   "outputs": [],
   "source": [
    "df.reset_index(inplace=True)\n",
    "for Index,i in enumerate(df['price']):\n",
    "    i = str(i).replace('₹','')\n",
    "    i = str(i).replace(',','')\n",
    "    df['price'][Index] = i"
   ]
  },
  {
   "cell_type": "code",
   "execution_count": null,
   "metadata": {},
   "outputs": [],
   "source": [
    "df['price'] = df['price'].astype('Int16')"
   ]
  },
  {
   "cell_type": "code",
   "execution_count": null,
   "metadata": {},
   "outputs": [],
   "source": [
    "df['price'] = df['price'].abs() # this is to remove the negative values from price feature"
   ]
  },
  {
   "cell_type": "markdown",
   "metadata": {},
   "source": [
    "## Ratings"
   ]
  },
  {
   "cell_type": "code",
   "execution_count": null,
   "metadata": {},
   "outputs": [
    {
     "data": {
      "text/plain": [
       "dtype('float64')"
      ]
     },
     "execution_count": 69,
     "metadata": {},
     "output_type": "execute_result"
    }
   ],
   "source": [
    "df['ratings'].dtype"
   ]
  },
  {
   "cell_type": "markdown",
   "metadata": {},
   "source": [
    "## Ram"
   ]
  },
  {
   "cell_type": "code",
   "execution_count": null,
   "metadata": {},
   "outputs": [
    {
     "data": {
      "text/html": [
       "<div>\n",
       "<style scoped>\n",
       "    .dataframe tbody tr th:only-of-type {\n",
       "        vertical-align: middle;\n",
       "    }\n",
       "\n",
       "    .dataframe tbody tr th {\n",
       "        vertical-align: top;\n",
       "    }\n",
       "\n",
       "    .dataframe thead th {\n",
       "        text-align: right;\n",
       "    }\n",
       "</style>\n",
       "<table border=\"1\" class=\"dataframe\">\n",
       "  <thead>\n",
       "    <tr style=\"text-align: right;\">\n",
       "      <th></th>\n",
       "      <th>index</th>\n",
       "      <th>Unnamed: 0</th>\n",
       "      <th>name</th>\n",
       "      <th>ratings</th>\n",
       "      <th>price</th>\n",
       "      <th>imgURL</th>\n",
       "      <th>storage_ram</th>\n",
       "      <th>os_processor</th>\n",
       "      <th>camera</th>\n",
       "      <th>display</th>\n",
       "      <th>network</th>\n",
       "      <th>battery</th>\n",
       "    </tr>\n",
       "  </thead>\n",
       "  <tbody>\n",
       "    <tr>\n",
       "      <th>163</th>\n",
       "      <td>163</td>\n",
       "      <td>163</td>\n",
       "      <td>GREENBERRI RAFALE</td>\n",
       "      <td>4.4</td>\n",
       "      <td>899</td>\n",
       "      <td>https://rukminim2.flixcart.com/image/312/312/x...</td>\n",
       "      <td>Internal Storage32 MBRAM32 MBMemory Card Slot ...</td>\n",
       "      <td>Operating SystemAndroid 12Processor TypeMediat...</td>\n",
       "      <td>Primary Camera2MP Rear Camera</td>\n",
       "      <td>Display Size4.57 cm (1.8 inch)Resolution320 X ...</td>\n",
       "      <td>Network Type2GSupported NetworksGSM</td>\n",
       "      <td>Battery Capacity1000 mAhDual BatteryNo</td>\n",
       "    </tr>\n",
       "    <tr>\n",
       "      <th>170</th>\n",
       "      <td>170</td>\n",
       "      <td>170</td>\n",
       "      <td>OPPO Neo 5 (White, 16 GB)</td>\n",
       "      <td>4.4</td>\n",
       "      <td>4999</td>\n",
       "      <td>https://rukminim2.flixcart.com/image/312/312/m...</td>\n",
       "      <td>Internal Storage16 GBRAM1 GB</td>\n",
       "      <td>Operating SystemAndroid 10Processor TypeQualco...</td>\n",
       "      <td>Primary Camera8MP Rear Camera</td>\n",
       "      <td>Display Size11.43 cm (4.5 inch)Resolution480 x...</td>\n",
       "      <td>Network Type3GSupported NetworksUMTS</td>\n",
       "      <td>Battery Capacity2000 mAh</td>\n",
       "    </tr>\n",
       "    <tr>\n",
       "      <th>226</th>\n",
       "      <td>226</td>\n",
       "      <td>226</td>\n",
       "      <td>OPPO Find X (Glacier Blue, 256 GB)</td>\n",
       "      <td>4.4</td>\n",
       "      <td>4546</td>\n",
       "      <td>https://rukminim2.flixcart.com/image/312/312/j...</td>\n",
       "      <td>Internal Storage256 GBRAM8 GBMemory Card Slot ...</td>\n",
       "      <td>Operating SystemAndroid Oreo 8.1.0Processor Ty...</td>\n",
       "      <td>Primary Camera AvailableYesPrimary Camera16MP ...</td>\n",
       "      <td>Display Size16.26 cm (6.4 inch)Resolution2340 ...</td>\n",
       "      <td>Network Type3G, 4G VOLTE, 4G, 2GSupported Netw...</td>\n",
       "      <td>Battery Capacity3730 mAhBattery TypeLi-polymer</td>\n",
       "    </tr>\n",
       "  </tbody>\n",
       "</table>\n",
       "</div>"
      ],
      "text/plain": [
       "     index  Unnamed: 0                                name  ratings  price   \n",
       "163    163         163                   GREENBERRI RAFALE      4.4    899  \\\n",
       "170    170         170           OPPO Neo 5 (White, 16 GB)      4.4   4999   \n",
       "226    226         226  OPPO Find X (Glacier Blue, 256 GB)      4.4   4546   \n",
       "\n",
       "                                                imgURL   \n",
       "163  https://rukminim2.flixcart.com/image/312/312/x...  \\\n",
       "170  https://rukminim2.flixcart.com/image/312/312/m...   \n",
       "226  https://rukminim2.flixcart.com/image/312/312/j...   \n",
       "\n",
       "                                           storage_ram   \n",
       "163  Internal Storage32 MBRAM32 MBMemory Card Slot ...  \\\n",
       "170                       Internal Storage16 GBRAM1 GB   \n",
       "226  Internal Storage256 GBRAM8 GBMemory Card Slot ...   \n",
       "\n",
       "                                          os_processor   \n",
       "163  Operating SystemAndroid 12Processor TypeMediat...  \\\n",
       "170  Operating SystemAndroid 10Processor TypeQualco...   \n",
       "226  Operating SystemAndroid Oreo 8.1.0Processor Ty...   \n",
       "\n",
       "                                                camera   \n",
       "163                      Primary Camera2MP Rear Camera  \\\n",
       "170                      Primary Camera8MP Rear Camera   \n",
       "226  Primary Camera AvailableYesPrimary Camera16MP ...   \n",
       "\n",
       "                                               display   \n",
       "163  Display Size4.57 cm (1.8 inch)Resolution320 X ...  \\\n",
       "170  Display Size11.43 cm (4.5 inch)Resolution480 x...   \n",
       "226  Display Size16.26 cm (6.4 inch)Resolution2340 ...   \n",
       "\n",
       "                                               network   \n",
       "163                Network Type2GSupported NetworksGSM  \\\n",
       "170               Network Type3GSupported NetworksUMTS   \n",
       "226  Network Type3G, 4G VOLTE, 4G, 2GSupported Netw...   \n",
       "\n",
       "                                            battery  \n",
       "163          Battery Capacity1000 mAhDual BatteryNo  \n",
       "170                        Battery Capacity2000 mAh  \n",
       "226  Battery Capacity3730 mAhBattery TypeLi-polymer  "
      ]
     },
     "execution_count": 70,
     "metadata": {},
     "output_type": "execute_result"
    }
   ],
   "source": [
    "df[df['price'] <= 6000]"
   ]
  },
  {
   "cell_type": "code",
   "execution_count": null,
   "metadata": {},
   "outputs": [],
   "source": [
    "df = df.drop(index=df[df['price'] <= 6000].index)"
   ]
  },
  {
   "cell_type": "code",
   "execution_count": null,
   "metadata": {},
   "outputs": [],
   "source": [
    "def extract_ram(row):\n",
    "    ram = row.split()[2]\n",
    "    return ram\n",
    "\n",
    "df['ram'] = df['storage_ram'].apply(func=extract_ram)"
   ]
  },
  {
   "cell_type": "code",
   "execution_count": null,
   "metadata": {},
   "outputs": [
    {
     "name": "stdout",
     "output_type": "stream",
     "text": [
      "looped till 250 index\n"
     ]
    }
   ],
   "source": [
    "import warnings\n",
    "warnings.filterwarnings('ignore')\n",
    "df.reset_index(inplace=True)\n",
    "count = 0\n",
    "for i in range(0,len(df['ram'])):\n",
    "    # df['ram'][i]= df['ram'].iloc[i].replace('MBRAM','')\n",
    "    df['ram'][i]= df['ram'].iloc[i].replace('GBRAM','')\n",
    "    count+=1\n",
    "print(f'looped till {count} index')"
   ]
  },
  {
   "cell_type": "code",
   "execution_count": null,
   "metadata": {},
   "outputs": [],
   "source": [
    "df['ram'] = df['ram'].astype('Int16')"
   ]
  },
  {
   "cell_type": "markdown",
   "metadata": {},
   "source": [
    "## storage"
   ]
  },
  {
   "cell_type": "code",
   "execution_count": null,
   "metadata": {},
   "outputs": [],
   "source": [
    "def extract_storage(row):\n",
    "    storage = row.split()[1]\n",
    "    return storage\n",
    "\n",
    "\n",
    "df['storage'] = df['storage_ram'].apply(func=extract_storage)"
   ]
  },
  {
   "cell_type": "code",
   "execution_count": null,
   "metadata": {},
   "outputs": [],
   "source": [
    "df = df.drop(columns=['level_0','index','Unnamed: 0'])"
   ]
  },
  {
   "cell_type": "code",
   "execution_count": null,
   "metadata": {},
   "outputs": [
    {
     "data": {
      "text/html": [
       "<div>\n",
       "<style scoped>\n",
       "    .dataframe tbody tr th:only-of-type {\n",
       "        vertical-align: middle;\n",
       "    }\n",
       "\n",
       "    .dataframe tbody tr th {\n",
       "        vertical-align: top;\n",
       "    }\n",
       "\n",
       "    .dataframe thead th {\n",
       "        text-align: right;\n",
       "    }\n",
       "</style>\n",
       "<table border=\"1\" class=\"dataframe\">\n",
       "  <thead>\n",
       "    <tr style=\"text-align: right;\">\n",
       "      <th></th>\n",
       "      <th>name</th>\n",
       "      <th>ratings</th>\n",
       "      <th>price</th>\n",
       "      <th>imgURL</th>\n",
       "      <th>storage_ram</th>\n",
       "      <th>os_processor</th>\n",
       "      <th>camera</th>\n",
       "      <th>display</th>\n",
       "      <th>network</th>\n",
       "      <th>battery</th>\n",
       "      <th>ram</th>\n",
       "      <th>storage</th>\n",
       "    </tr>\n",
       "  </thead>\n",
       "  <tbody>\n",
       "    <tr>\n",
       "      <th>0</th>\n",
       "      <td>OPPO A17k (Blue, 64 GB)</td>\n",
       "      <td>4.5</td>\n",
       "      <td>9499</td>\n",
       "      <td>https://rukminim2.flixcart.com/image/312/312/x...</td>\n",
       "      <td>Internal Storage64 GBRAM3 GBExpandable Storage...</td>\n",
       "      <td>Operating SystemAndroid 12Processor TypeMediat...</td>\n",
       "      <td>Primary Camera AvailableYesPrimary Camera8MP R...</td>\n",
       "      <td>Display Size16.66 cm (6.56 inch)Resolution1612...</td>\n",
       "      <td>Network Type4G VOLTE, 4G, 3G, 2GSupported Netw...</td>\n",
       "      <td>Battery Capacity5000 mAh</td>\n",
       "      <td>3</td>\n",
       "      <td>Storage64</td>\n",
       "    </tr>\n",
       "    <tr>\n",
       "      <th>1</th>\n",
       "      <td>OPPO A17 (Lake Blue, 64 GB)</td>\n",
       "      <td>4.4</td>\n",
       "      <td>12200</td>\n",
       "      <td>https://rukminim2.flixcart.com/image/312/312/x...</td>\n",
       "      <td>Internal Storage64 GBRAM4 GBMemory Card Slot T...</td>\n",
       "      <td>Operating SystemAndroid Q 12Processor TypeMedi...</td>\n",
       "      <td>Primary Camera AvailableYesPrimary Camera50MP ...</td>\n",
       "      <td>Display Size16.66 cm (6.56 inch)Resolution1612...</td>\n",
       "      <td>Network Type4G VOLTE, 4G, 3GSupported Networks...</td>\n",
       "      <td>Battery Capacity5000 mAh</td>\n",
       "      <td>4</td>\n",
       "      <td>Storage64</td>\n",
       "    </tr>\n",
       "    <tr>\n",
       "      <th>2</th>\n",
       "      <td>OPPO A17 (Midnight Black, 64 GB)</td>\n",
       "      <td>4.4</td>\n",
       "      <td>12499</td>\n",
       "      <td>https://rukminim2.flixcart.com/image/312/312/x...</td>\n",
       "      <td>Internal Storage64 GBRAM4 GBExpandable Storage...</td>\n",
       "      <td>Operating SystemAndroid 12Processor TypeMediat...</td>\n",
       "      <td>Primary Camera AvailableYesPrimary Camera50MP ...</td>\n",
       "      <td>Display Size16.66 cm (6.56 inch)Resolution1612...</td>\n",
       "      <td>Network Type4G VOLTE, 4G, 3G, 2GSupported Netw...</td>\n",
       "      <td>Battery Capacity5000 mAh</td>\n",
       "      <td>4</td>\n",
       "      <td>Storage64</td>\n",
       "    </tr>\n",
       "    <tr>\n",
       "      <th>3</th>\n",
       "      <td>OPPO A78 5G (Glowing Black, 128 GB)</td>\n",
       "      <td>4.3</td>\n",
       "      <td>18142</td>\n",
       "      <td>https://rukminim2.flixcart.com/image/312/312/x...</td>\n",
       "      <td>Internal Storage128 GBRAM8 GBMemory Card Slot ...</td>\n",
       "      <td>Operating SystemAndroidProcessor CoreOcta Core...</td>\n",
       "      <td>Primary Camera13MP Rear CameraDual Camera Lens...</td>\n",
       "      <td>Display Size16.66 cm (6.56 inch)Resolution720 ...</td>\n",
       "      <td>Network Type5GSupported Networks5G</td>\n",
       "      <td>Battery Capacity5000 mAh</td>\n",
       "      <td>8</td>\n",
       "      <td>Storage128</td>\n",
       "    </tr>\n",
       "    <tr>\n",
       "      <th>4</th>\n",
       "      <td>OPPO A17 (Lake Blue, 64 GB)</td>\n",
       "      <td>4.4</td>\n",
       "      <td>12499</td>\n",
       "      <td>https://rukminim2.flixcart.com/image/312/312/x...</td>\n",
       "      <td>Internal Storage64 GBRAM4 GBExpandable Storage...</td>\n",
       "      <td>Operating SystemAndroid 12Processor TypeMediat...</td>\n",
       "      <td>Primary Camera AvailableYesPrimary Camera50MP ...</td>\n",
       "      <td>Display Size16.66 cm (6.56 inch)Resolution1612...</td>\n",
       "      <td>Network Type4G VOLTE, 4G, 3G, 2GSupported Netw...</td>\n",
       "      <td>Battery Capacity5000 mAh</td>\n",
       "      <td>4</td>\n",
       "      <td>Storage64</td>\n",
       "    </tr>\n",
       "    <tr>\n",
       "      <th>...</th>\n",
       "      <td>...</td>\n",
       "      <td>...</td>\n",
       "      <td>...</td>\n",
       "      <td>...</td>\n",
       "      <td>...</td>\n",
       "      <td>...</td>\n",
       "      <td>...</td>\n",
       "      <td>...</td>\n",
       "      <td>...</td>\n",
       "      <td>...</td>\n",
       "      <td>...</td>\n",
       "      <td>...</td>\n",
       "    </tr>\n",
       "    <tr>\n",
       "      <th>245</th>\n",
       "      <td>OPPO A5s (Gold, 64 GB)</td>\n",
       "      <td>4.3</td>\n",
       "      <td>15990</td>\n",
       "      <td>https://rukminim2.flixcart.com/image/312/312/k...</td>\n",
       "      <td>Internal Storage64 GBRAM4 GBExpandable Storage...</td>\n",
       "      <td>Operating SystemAndroid Oreo 8.1Processor Type...</td>\n",
       "      <td>Primary Camera AvailableYesPrimary Camera13MP ...</td>\n",
       "      <td>Display Size15.75 cm (6.2 inch)Resolution1520 ...</td>\n",
       "      <td>Network Type3G, 4G VOLTE, 4G, 2GSupported Netw...</td>\n",
       "      <td>Battery Capacity4230 mAhTalk Time50 hrs</td>\n",
       "      <td>4</td>\n",
       "      <td>Storage64</td>\n",
       "    </tr>\n",
       "    <tr>\n",
       "      <th>246</th>\n",
       "      <td>OPPO Reno7 Pro 5G (Startrails Blue, 256 GB)</td>\n",
       "      <td>4.4</td>\n",
       "      <td>30537</td>\n",
       "      <td>https://rukminim2.flixcart.com/image/312/312/k...</td>\n",
       "      <td>Internal Storage256 GBRAM12 GBExpandable Stora...</td>\n",
       "      <td>Operating SystemAndroid 11Processor TypeMediaT...</td>\n",
       "      <td>Primary Camera AvailableYesPrimary Camera50MP ...</td>\n",
       "      <td>Display Size16.51 cm (6.5 inch)Resolution2400 ...</td>\n",
       "      <td>Network Type5G, 4G VOLTESupported Networks5G, ...</td>\n",
       "      <td>Battery Capacity4500 mAh</td>\n",
       "      <td>12</td>\n",
       "      <td>Storage256</td>\n",
       "    </tr>\n",
       "    <tr>\n",
       "      <th>247</th>\n",
       "      <td>OPPO A5s (Red, 32 GB)</td>\n",
       "      <td>4.3</td>\n",
       "      <td>13990</td>\n",
       "      <td>https://rukminim2.flixcart.com/image/312/312/k...</td>\n",
       "      <td>Internal Storage32 GBRAM3 GBExpandable Storage...</td>\n",
       "      <td>Operating SystemAndroid Oreo 8.1Processor Type...</td>\n",
       "      <td>Primary Camera AvailableYesPrimary Camera13MP ...</td>\n",
       "      <td>Display Size15.75 cm (6.2 inch)Resolution1520 ...</td>\n",
       "      <td>Network Type3G, 4G VOLTE, 4G, 2GSupported Netw...</td>\n",
       "      <td>Battery Capacity4230 mAhTalk Time50 hrs</td>\n",
       "      <td>3</td>\n",
       "      <td>Storage32</td>\n",
       "    </tr>\n",
       "    <tr>\n",
       "      <th>248</th>\n",
       "      <td>OPPO A15S (Fancy White, 64 GB)</td>\n",
       "      <td>4.4</td>\n",
       "      <td>11309</td>\n",
       "      <td>https://rukminim2.flixcart.com/image/312/312/k...</td>\n",
       "      <td>Internal Storage64 GBRAM4 GBMemory Card Slot T...</td>\n",
       "      <td>Operating SystemAndroid Q 10.0Processor CoreOc...</td>\n",
       "      <td>Primary Camera13MP Rear CameraDual Camera Lens...</td>\n",
       "      <td>Display Size16.56 cm (6.52 inch)Resolution720 ...</td>\n",
       "      <td>Network Type4G VOLTE, 3GSupported Networks4G V...</td>\n",
       "      <td>Battery Capacity4230 mAh</td>\n",
       "      <td>4</td>\n",
       "      <td>Storage64</td>\n",
       "    </tr>\n",
       "    <tr>\n",
       "      <th>249</th>\n",
       "      <td>OPPO A7 (Glaring Gold, 64 GB)</td>\n",
       "      <td>4.4</td>\n",
       "      <td>16990</td>\n",
       "      <td>https://rukminim2.flixcart.com/image/312/312/j...</td>\n",
       "      <td>Internal Storage64 GBRAM3 GBExpandable Storage...</td>\n",
       "      <td>Operating SystemAndroid Oreo 8.1Processor Type...</td>\n",
       "      <td>Primary Camera AvailableYesPrimary Camera13MP ...</td>\n",
       "      <td>Display Size15.75 cm (6.2 inch)Resolution1520 ...</td>\n",
       "      <td>Network Type3G, 4G VOLTE, 4G, 2GSupported Netw...</td>\n",
       "      <td>Battery Capacity4230 mAhTalk Time32 hrs</td>\n",
       "      <td>3</td>\n",
       "      <td>Storage64</td>\n",
       "    </tr>\n",
       "  </tbody>\n",
       "</table>\n",
       "<p>250 rows × 12 columns</p>\n",
       "</div>"
      ],
      "text/plain": [
       "                                            name  ratings  price   \n",
       "0                        OPPO A17k (Blue, 64 GB)      4.5   9499  \\\n",
       "1                    OPPO A17 (Lake Blue, 64 GB)      4.4  12200   \n",
       "2               OPPO A17 (Midnight Black, 64 GB)      4.4  12499   \n",
       "3            OPPO A78 5G (Glowing Black, 128 GB)      4.3  18142   \n",
       "4                    OPPO A17 (Lake Blue, 64 GB)      4.4  12499   \n",
       "..                                           ...      ...    ...   \n",
       "245                       OPPO A5s (Gold, 64 GB)      4.3  15990   \n",
       "246  OPPO Reno7 Pro 5G (Startrails Blue, 256 GB)      4.4  30537   \n",
       "247                        OPPO A5s (Red, 32 GB)      4.3  13990   \n",
       "248               OPPO A15S (Fancy White, 64 GB)      4.4  11309   \n",
       "249                OPPO A7 (Glaring Gold, 64 GB)      4.4  16990   \n",
       "\n",
       "                                                imgURL   \n",
       "0    https://rukminim2.flixcart.com/image/312/312/x...  \\\n",
       "1    https://rukminim2.flixcart.com/image/312/312/x...   \n",
       "2    https://rukminim2.flixcart.com/image/312/312/x...   \n",
       "3    https://rukminim2.flixcart.com/image/312/312/x...   \n",
       "4    https://rukminim2.flixcart.com/image/312/312/x...   \n",
       "..                                                 ...   \n",
       "245  https://rukminim2.flixcart.com/image/312/312/k...   \n",
       "246  https://rukminim2.flixcart.com/image/312/312/k...   \n",
       "247  https://rukminim2.flixcart.com/image/312/312/k...   \n",
       "248  https://rukminim2.flixcart.com/image/312/312/k...   \n",
       "249  https://rukminim2.flixcart.com/image/312/312/j...   \n",
       "\n",
       "                                           storage_ram   \n",
       "0    Internal Storage64 GBRAM3 GBExpandable Storage...  \\\n",
       "1    Internal Storage64 GBRAM4 GBMemory Card Slot T...   \n",
       "2    Internal Storage64 GBRAM4 GBExpandable Storage...   \n",
       "3    Internal Storage128 GBRAM8 GBMemory Card Slot ...   \n",
       "4    Internal Storage64 GBRAM4 GBExpandable Storage...   \n",
       "..                                                 ...   \n",
       "245  Internal Storage64 GBRAM4 GBExpandable Storage...   \n",
       "246  Internal Storage256 GBRAM12 GBExpandable Stora...   \n",
       "247  Internal Storage32 GBRAM3 GBExpandable Storage...   \n",
       "248  Internal Storage64 GBRAM4 GBMemory Card Slot T...   \n",
       "249  Internal Storage64 GBRAM3 GBExpandable Storage...   \n",
       "\n",
       "                                          os_processor   \n",
       "0    Operating SystemAndroid 12Processor TypeMediat...  \\\n",
       "1    Operating SystemAndroid Q 12Processor TypeMedi...   \n",
       "2    Operating SystemAndroid 12Processor TypeMediat...   \n",
       "3    Operating SystemAndroidProcessor CoreOcta Core...   \n",
       "4    Operating SystemAndroid 12Processor TypeMediat...   \n",
       "..                                                 ...   \n",
       "245  Operating SystemAndroid Oreo 8.1Processor Type...   \n",
       "246  Operating SystemAndroid 11Processor TypeMediaT...   \n",
       "247  Operating SystemAndroid Oreo 8.1Processor Type...   \n",
       "248  Operating SystemAndroid Q 10.0Processor CoreOc...   \n",
       "249  Operating SystemAndroid Oreo 8.1Processor Type...   \n",
       "\n",
       "                                                camera   \n",
       "0    Primary Camera AvailableYesPrimary Camera8MP R...  \\\n",
       "1    Primary Camera AvailableYesPrimary Camera50MP ...   \n",
       "2    Primary Camera AvailableYesPrimary Camera50MP ...   \n",
       "3    Primary Camera13MP Rear CameraDual Camera Lens...   \n",
       "4    Primary Camera AvailableYesPrimary Camera50MP ...   \n",
       "..                                                 ...   \n",
       "245  Primary Camera AvailableYesPrimary Camera13MP ...   \n",
       "246  Primary Camera AvailableYesPrimary Camera50MP ...   \n",
       "247  Primary Camera AvailableYesPrimary Camera13MP ...   \n",
       "248  Primary Camera13MP Rear CameraDual Camera Lens...   \n",
       "249  Primary Camera AvailableYesPrimary Camera13MP ...   \n",
       "\n",
       "                                               display   \n",
       "0    Display Size16.66 cm (6.56 inch)Resolution1612...  \\\n",
       "1    Display Size16.66 cm (6.56 inch)Resolution1612...   \n",
       "2    Display Size16.66 cm (6.56 inch)Resolution1612...   \n",
       "3    Display Size16.66 cm (6.56 inch)Resolution720 ...   \n",
       "4    Display Size16.66 cm (6.56 inch)Resolution1612...   \n",
       "..                                                 ...   \n",
       "245  Display Size15.75 cm (6.2 inch)Resolution1520 ...   \n",
       "246  Display Size16.51 cm (6.5 inch)Resolution2400 ...   \n",
       "247  Display Size15.75 cm (6.2 inch)Resolution1520 ...   \n",
       "248  Display Size16.56 cm (6.52 inch)Resolution720 ...   \n",
       "249  Display Size15.75 cm (6.2 inch)Resolution1520 ...   \n",
       "\n",
       "                                               network   \n",
       "0    Network Type4G VOLTE, 4G, 3G, 2GSupported Netw...  \\\n",
       "1    Network Type4G VOLTE, 4G, 3GSupported Networks...   \n",
       "2    Network Type4G VOLTE, 4G, 3G, 2GSupported Netw...   \n",
       "3                   Network Type5GSupported Networks5G   \n",
       "4    Network Type4G VOLTE, 4G, 3G, 2GSupported Netw...   \n",
       "..                                                 ...   \n",
       "245  Network Type3G, 4G VOLTE, 4G, 2GSupported Netw...   \n",
       "246  Network Type5G, 4G VOLTESupported Networks5G, ...   \n",
       "247  Network Type3G, 4G VOLTE, 4G, 2GSupported Netw...   \n",
       "248  Network Type4G VOLTE, 3GSupported Networks4G V...   \n",
       "249  Network Type3G, 4G VOLTE, 4G, 2GSupported Netw...   \n",
       "\n",
       "                                     battery  ram     storage  \n",
       "0                   Battery Capacity5000 mAh    3   Storage64  \n",
       "1                   Battery Capacity5000 mAh    4   Storage64  \n",
       "2                   Battery Capacity5000 mAh    4   Storage64  \n",
       "3                   Battery Capacity5000 mAh    8  Storage128  \n",
       "4                   Battery Capacity5000 mAh    4   Storage64  \n",
       "..                                       ...  ...         ...  \n",
       "245  Battery Capacity4230 mAhTalk Time50 hrs    4   Storage64  \n",
       "246                 Battery Capacity4500 mAh   12  Storage256  \n",
       "247  Battery Capacity4230 mAhTalk Time50 hrs    3   Storage32  \n",
       "248                 Battery Capacity4230 mAh    4   Storage64  \n",
       "249  Battery Capacity4230 mAhTalk Time32 hrs    3   Storage64  \n",
       "\n",
       "[250 rows x 12 columns]"
      ]
     },
     "execution_count": 79,
     "metadata": {},
     "output_type": "execute_result"
    }
   ],
   "source": [
    "df"
   ]
  },
  {
   "cell_type": "code",
   "execution_count": null,
   "metadata": {},
   "outputs": [
    {
     "name": "stdout",
     "output_type": "stream",
     "text": [
      "looped till 250 index\n"
     ]
    }
   ],
   "source": [
    "import warnings\n",
    "warnings.filterwarnings('ignore')\n",
    "df.reset_index(inplace=True)\n",
    "count = 0\n",
    "for i in range(0,len(df['storage'])):\n",
    "    df['storage'][i]= df['storage'].iloc[i].replace('Storage','')\n",
    "    count+=1\n",
    "print(f'looped till {count} index')"
   ]
  },
  {
   "cell_type": "code",
   "execution_count": null,
   "metadata": {},
   "outputs": [],
   "source": [
    "df['storage'] = df['storage'].astype('Int16')\n",
    "## Removing storage_ram\n",
    "df = df.drop(columns=['storage_ram','index'])"
   ]
  },
  {
   "cell_type": "markdown",
   "metadata": {},
   "source": [
    "## Android Version"
   ]
  },
  {
   "cell_type": "code",
   "execution_count": null,
   "metadata": {},
   "outputs": [],
   "source": [
    "def extract_processor(text):\n",
    "    pattern = r'.*Processor'\n",
    "    match = re.findall(pattern, text)\n",
    "    if match:\n",
    "        return match[0]\n",
    "    else:\n",
    "        return text\n"
   ]
  },
  {
   "cell_type": "code",
   "execution_count": null,
   "metadata": {},
   "outputs": [
    {
     "name": "stdout",
     "output_type": "stream",
     "text": [
      "<class 'pandas.core.frame.DataFrame'>\n",
      "RangeIndex: 250 entries, 0 to 249\n",
      "Data columns (total 11 columns):\n",
      " #   Column        Non-Null Count  Dtype  \n",
      "---  ------        --------------  -----  \n",
      " 0   name          250 non-null    object \n",
      " 1   ratings       250 non-null    float64\n",
      " 2   price         250 non-null    Int16  \n",
      " 3   imgURL        250 non-null    object \n",
      " 4   os_processor  249 non-null    object \n",
      " 5   camera        250 non-null    object \n",
      " 6   display       250 non-null    object \n",
      " 7   network       250 non-null    object \n",
      " 8   battery       250 non-null    object \n",
      " 9   ram           250 non-null    Int16  \n",
      " 10  storage       250 non-null    Int16  \n",
      "dtypes: Int16(3), float64(1), object(7)\n",
      "memory usage: 18.0+ KB\n"
     ]
    }
   ],
   "source": [
    "df.info()"
   ]
  },
  {
   "cell_type": "code",
   "execution_count": null,
   "metadata": {},
   "outputs": [
    {
     "data": {
      "text/html": [
       "<div>\n",
       "<style scoped>\n",
       "    .dataframe tbody tr th:only-of-type {\n",
       "        vertical-align: middle;\n",
       "    }\n",
       "\n",
       "    .dataframe tbody tr th {\n",
       "        vertical-align: top;\n",
       "    }\n",
       "\n",
       "    .dataframe thead th {\n",
       "        text-align: right;\n",
       "    }\n",
       "</style>\n",
       "<table border=\"1\" class=\"dataframe\">\n",
       "  <thead>\n",
       "    <tr style=\"text-align: right;\">\n",
       "      <th></th>\n",
       "      <th>name</th>\n",
       "      <th>ratings</th>\n",
       "      <th>price</th>\n",
       "      <th>imgURL</th>\n",
       "      <th>os_processor</th>\n",
       "      <th>camera</th>\n",
       "      <th>display</th>\n",
       "      <th>network</th>\n",
       "      <th>battery</th>\n",
       "      <th>ram</th>\n",
       "      <th>storage</th>\n",
       "    </tr>\n",
       "  </thead>\n",
       "  <tbody>\n",
       "    <tr>\n",
       "      <th>181</th>\n",
       "      <td>OPPO Reno (JET BLACK, 128 GB)</td>\n",
       "      <td>4.1</td>\n",
       "      <td>25546</td>\n",
       "      <td>https://rukminim2.flixcart.com/image/312/312/k...</td>\n",
       "      <td>NaN</td>\n",
       "      <td>Primary Camera48MP Rear CameraDual Camera Lens...</td>\n",
       "      <td>Display Size16.26 cm (6.4 inch)Resolution1440 ...</td>\n",
       "      <td>Network Type3G, 4GSupported NetworksGSM, 4G LTE</td>\n",
       "      <td>Battery Capacity3765 mAh</td>\n",
       "      <td>8</td>\n",
       "      <td>128</td>\n",
       "    </tr>\n",
       "  </tbody>\n",
       "</table>\n",
       "</div>"
      ],
      "text/plain": [
       "                              name  ratings  price   \n",
       "181  OPPO Reno (JET BLACK, 128 GB)      4.1  25546  \\\n",
       "\n",
       "                                                imgURL os_processor   \n",
       "181  https://rukminim2.flixcart.com/image/312/312/k...          NaN  \\\n",
       "\n",
       "                                                camera   \n",
       "181  Primary Camera48MP Rear CameraDual Camera Lens...  \\\n",
       "\n",
       "                                               display   \n",
       "181  Display Size16.26 cm (6.4 inch)Resolution1440 ...  \\\n",
       "\n",
       "                                             network   \n",
       "181  Network Type3G, 4GSupported NetworksGSM, 4G LTE  \\\n",
       "\n",
       "                      battery  ram  storage  \n",
       "181  Battery Capacity3765 mAh    8      128  "
      ]
     },
     "execution_count": 85,
     "metadata": {},
     "output_type": "execute_result"
    }
   ],
   "source": [
    "df[df['os_processor'].isnull() == True] # this shows me the exact NaN value"
   ]
  },
  {
   "cell_type": "code",
   "execution_count": null,
   "metadata": {},
   "outputs": [],
   "source": [
    "df['os_processor'][181] = 'Operating SystemAndroid Pie Android v9.0 (Pie)Processor CoreOcta CorePrimary Clock Speed0.1 MHz' # I have added this value by seeing the processor of the named mobile phone from flipkart."
   ]
  },
  {
   "cell_type": "code",
   "execution_count": null,
   "metadata": {},
   "outputs": [],
   "source": [
    "df['os_processor'] = df['os_processor'].apply(extract_processor)"
   ]
  },
  {
   "cell_type": "code",
   "execution_count": null,
   "metadata": {},
   "outputs": [],
   "source": [
    "def android_version(text_):\n",
    "    split = text_.split()\n",
    "    if 'OxygenProcessor' in split:\n",
    "        return 'OxygenProcessor'\n",
    "    elif 'ANdroid' in split:\n",
    "        return split[3]\n",
    "    elif 'OxygenOSProcessor' in split:\n",
    "        return 'OxygenOSProcessor'\n",
    "    else:\n",
    "        pattern=r'^\\d+[Processor]|\\d+[GProcessor]|\\d++[.Processor]'\n",
    "        found = re.findall(pattern,text_)\n",
    "        if found:\n",
    "            return found[0]\n",
    "        else:\n",
    "            return 'other androidVerion'"
   ]
  },
  {
   "cell_type": "code",
   "execution_count": null,
   "metadata": {},
   "outputs": [],
   "source": [
    "df['android_version'] = df['os_processor'].apply(android_version)"
   ]
  },
  {
   "cell_type": "code",
   "execution_count": null,
   "metadata": {},
   "outputs": [],
   "source": [
    "df.reset_index(inplace=True)\n",
    "for Index,i in enumerate(df['android_version']):\n",
    "    # print(i)\n",
    "    i = str(i).replace('P','')\n",
    "    i = str(i).replace('.','')\n",
    "    df['android_version'][Index] = i"
   ]
  },
  {
   "cell_type": "markdown",
   "metadata": {},
   "source": [
    "## Processor"
   ]
  },
  {
   "cell_type": "code",
   "execution_count": null,
   "metadata": {},
   "outputs": [],
   "source": [
    "def processor(text):\n",
    "    pattern=r'(?<=Type).*'\n",
    "    search = re.search(pattern,text)\n",
    "    if search != None:\n",
    "        return ' '.join(re.findall(pattern,text))\n",
    "    else:\n",
    "        return 'not montioned'"
   ]
  },
  {
   "cell_type": "code",
   "execution_count": null,
   "metadata": {},
   "outputs": [],
   "source": [
    "df['processor'] = df['os_processor'].apply(processor)\n",
    "df = df.drop('os_processor',axis=1)\n",
    "df = df.drop('index',axis=1)\n"
   ]
  },
  {
   "cell_type": "code",
   "execution_count": null,
   "metadata": {},
   "outputs": [],
   "source": [
    "def processor_extract(text):\n",
    "    splitted_sentence = text.split()\n",
    "    if 'Mediatek' and 'Helio' in splitted_sentence:\n",
    "        pattern = r'\\d+[Processor]|\\d+'\n",
    "        string = ' '.join(splitted_sentence)\n",
    "        match = re.search(pattern,string)\n",
    "        if match == None:\n",
    "            return 'Heilo'+str(splitted_sentence[2])\n",
    "        else:\n",
    "            find = re.findall(pattern,string)\n",
    "            return 'Heilo'+''.join(find)\n",
    "\n",
    "\n",
    "    elif 'Mediatek' and 'Dimensity' in splitted_sentence:\n",
    "        pattern = r'(\\d+)+[Processor]'\n",
    "        string = ' '.join(splitted_sentence)\n",
    "        match = re.search(pattern,string)\n",
    "        if match == None:\n",
    "            if 'Dimensity' == str(splitted_sentence[1]):\n",
    "                return 'Dimensity'+str(splitted_sentence[2])\n",
    "            else:\n",
    "                return 'Dimensity'+str(splitted_sentence[1])\n",
    "        \n",
    "        else:\n",
    "            find = re.findall(pattern,string)\n",
    "            return 'Dimensity'+ ''.join(find)\n",
    "\n",
    "    elif 'Snapdragon' and 'Gen' and '4' in splitted_sentence:\n",
    "        return 'Gen4'   \n",
    "\n",
    "    elif 'Snapdragon' and 'Gen' and '8' in splitted_sentence:         \n",
    "        return 'Gen8'\n",
    "    \n",
    "    elif 'Unisoc' in splitted_sentence:\n",
    "        \n",
    "        if 'Unisoc' and 'Tiger' in splitted_sentence:\n",
    "            pattern = r'[T]\\d[Processor]'\n",
    "            string = ' '.join(splitted_sentence)\n",
    "            match = re.findall(pattern,string)\n",
    "            return 'UnisocTiger' + ''.join(splitted_sentence[2])\n",
    "        \n",
    "        elif 'Unisoc' == splitted_sentence[0]:\n",
    "            pattern = r'[T]\\d.'\n",
    "            string = ' '.join(splitted_sentence)\n",
    "            match = re.findall(pattern,string)\n",
    "            return 'Unisoc' + ''.join(splitted_sentence[1])\n",
    "\n",
    "        \n",
    "        pattern = r'T(\\d+)Processor|\\d+'\n",
    "        string = ' '.join(splitted_sentence)\n",
    "        match = re.findall(pattern,string)\n",
    "        return 'Unisoc'+' '.join(match)\n",
    "    \n",
    "\n",
    "    elif 'Snapdragon' in splitted_sentence:\n",
    "        pattern = r'\\d+[Processor]'\n",
    "        if 'Gen' and '4' and '8' not in splitted_sentence:\n",
    "            string = ' '.join(splitted_sentence)\n",
    "            match = re.search(pattern,string)\n",
    "            if match == None:\n",
    "                if 'Snapdragon' == str(splitted_sentence[1]):\n",
    "                    return 'Snapdragon'+str(splitted_sentence[2])\n",
    "                else:\n",
    "                    return 'Snapdragon'+str(splitted_sentence[1])\n",
    "            else:\n",
    "                find = re.findall(pattern,string)\n",
    "                return 'Snapdragon'+''.join(find)\n",
    "    \n",
    "    elif 'MediaTek' == splitted_sentence[0]:\n",
    "        pattern = r'[P]\\d.'\n",
    "        string = ' '.join(splitted_sentence)\n",
    "        match = re.findall(pattern,string)\n",
    "        return 'MediaTek' + ' '.join(match)\n",
    "\n",
    "    else:\n",
    "        return 'not mentioned'      \n"
   ]
  },
  {
   "cell_type": "code",
   "execution_count": null,
   "metadata": {},
   "outputs": [],
   "source": [
    "df['processor']=df['processor'].apply(processor_extract)"
   ]
  },
  {
   "cell_type": "markdown",
   "metadata": {},
   "source": [
    "## camera"
   ]
  },
  {
   "cell_type": "code",
   "execution_count": null,
   "metadata": {},
   "outputs": [],
   "source": [
    "def camera_extract(row):\n",
    "    row_splitted = row.split()\n",
    "    pattern = r'\\d+MP'\n",
    "    words = ' '.join(row_splitted)\n",
    "    find_cam = re.findall(pattern,words)\n",
    "    return ' '.join(find_cam)\n"
   ]
  },
  {
   "cell_type": "code",
   "execution_count": null,
   "metadata": {},
   "outputs": [],
   "source": [
    "df['camera'] = df['camera'].apply(camera_extract)"
   ]
  },
  {
   "cell_type": "code",
   "execution_count": null,
   "metadata": {},
   "outputs": [],
   "source": [
    "def camera(txt):\n",
    "    lst = []\n",
    "    splitted = txt.split()\n",
    "    for i in splitted:\n",
    "        make_int = i.replace('MP','')\n",
    "        lst.append(int(make_int))\n",
    "    return max(lst)\n"
   ]
  },
  {
   "cell_type": "code",
   "execution_count": null,
   "metadata": {},
   "outputs": [],
   "source": [
    "df['camera'] = df['camera'].apply(func=camera)\n",
    "df['camera'] = df['camera'].astype('Int16')"
   ]
  },
  {
   "cell_type": "markdown",
   "metadata": {},
   "source": [
    "## display"
   ]
  },
  {
   "cell_type": "code",
   "execution_count": null,
   "metadata": {},
   "outputs": [],
   "source": [
    "def display_extract(row):\n",
    "    split_row = row.split()\n",
    "    if 'LCD' in split_row:\n",
    "        if 'IPS' in split_row and 'LCD' in split_row:\n",
    "            return 'IPS LCD'\n",
    "        return 'LCD'\n",
    "    \n",
    "    if 'OLED' in split_row:\n",
    "        return 'OLED'\n",
    "    \n",
    "    if 'TFT' in split_row:\n",
    "        return 'TFT'\n",
    "    \n",
    "    if 'LED' in split_row:\n",
    "        return 'LED'\n",
    "\n",
    "    # if 'Adreno' in split_row:\n",
    "    #     return 'Adreno'\n",
    "    if 'AMOLED' in split_row:\n",
    "        if 'HD+' in split_row and 'AMOLED' in split_row:\n",
    "            return 'HD+ AMOLED'\n",
    "        return 'AMOLED'\n",
    "    \n",
    "    return 'other'\n"
   ]
  },
  {
   "cell_type": "code",
   "execution_count": null,
   "metadata": {},
   "outputs": [],
   "source": [
    "df['display'] = df['display'].apply(display_extract)"
   ]
  },
  {
   "cell_type": "markdown",
   "metadata": {},
   "source": [
    "## network"
   ]
  },
  {
   "cell_type": "code",
   "execution_count": null,
   "metadata": {},
   "outputs": [],
   "source": [
    "df = df.drop(columns=['network'])"
   ]
  },
  {
   "cell_type": "markdown",
   "metadata": {},
   "source": [
    "## battery"
   ]
  },
  {
   "cell_type": "code",
   "execution_count": null,
   "metadata": {},
   "outputs": [],
   "source": [
    "def extract_battery(row):\n",
    "    return row.split()[1]\n",
    "\n",
    "df['battery'] = df['battery'].apply(extract_battery)"
   ]
  },
  {
   "cell_type": "code",
   "execution_count": null,
   "metadata": {},
   "outputs": [
    {
     "name": "stdout",
     "output_type": "stream",
     "text": [
      "looped till 250 index\n"
     ]
    }
   ],
   "source": [
    "df.reset_index(inplace=True)\n",
    "count = 0\n",
    "for i in range(0,len(df['battery'])):\n",
    "    # print(i)\n",
    "    df['battery'][i]= df['battery'].iloc[i].replace('Capacity','')\n",
    "    # print(df['battery'][i])\n",
    "    count+=1\n",
    "print(f'looped till {count} index')"
   ]
  },
  {
   "cell_type": "code",
   "execution_count": null,
   "metadata": {},
   "outputs": [],
   "source": [
    "df['battery'] = df['battery'].astype('Int16')"
   ]
  },
  {
   "cell_type": "code",
   "execution_count": null,
   "metadata": {},
   "outputs": [],
   "source": [
    "df = df.drop(labels='index',axis=1)"
   ]
  },
  {
   "cell_type": "code",
   "execution_count": null,
   "metadata": {},
   "outputs": [
    {
     "data": {
      "text/html": [
       "<div>\n",
       "<style scoped>\n",
       "    .dataframe tbody tr th:only-of-type {\n",
       "        vertical-align: middle;\n",
       "    }\n",
       "\n",
       "    .dataframe tbody tr th {\n",
       "        vertical-align: top;\n",
       "    }\n",
       "\n",
       "    .dataframe thead th {\n",
       "        text-align: right;\n",
       "    }\n",
       "</style>\n",
       "<table border=\"1\" class=\"dataframe\">\n",
       "  <thead>\n",
       "    <tr style=\"text-align: right;\">\n",
       "      <th></th>\n",
       "      <th>name</th>\n",
       "      <th>ratings</th>\n",
       "      <th>price</th>\n",
       "      <th>imgURL</th>\n",
       "      <th>camera</th>\n",
       "      <th>display</th>\n",
       "      <th>battery</th>\n",
       "      <th>ram</th>\n",
       "      <th>storage</th>\n",
       "      <th>android_version</th>\n",
       "      <th>processor</th>\n",
       "    </tr>\n",
       "  </thead>\n",
       "  <tbody>\n",
       "    <tr>\n",
       "      <th>0</th>\n",
       "      <td>OPPO A17k (Blue, 64 GB)</td>\n",
       "      <td>4.5</td>\n",
       "      <td>9499</td>\n",
       "      <td>https://rukminim2.flixcart.com/image/312/312/x...</td>\n",
       "      <td>8</td>\n",
       "      <td>other</td>\n",
       "      <td>5000</td>\n",
       "      <td>3</td>\n",
       "      <td>64</td>\n",
       "      <td>12</td>\n",
       "      <td>Heilo35P</td>\n",
       "    </tr>\n",
       "    <tr>\n",
       "      <th>1</th>\n",
       "      <td>OPPO A17 (Lake Blue, 64 GB)</td>\n",
       "      <td>4.4</td>\n",
       "      <td>12200</td>\n",
       "      <td>https://rukminim2.flixcart.com/image/312/312/x...</td>\n",
       "      <td>50</td>\n",
       "      <td>LCD</td>\n",
       "      <td>5000</td>\n",
       "      <td>4</td>\n",
       "      <td>64</td>\n",
       "      <td>12</td>\n",
       "      <td>Heilo35P</td>\n",
       "    </tr>\n",
       "    <tr>\n",
       "      <th>2</th>\n",
       "      <td>OPPO A17 (Midnight Black, 64 GB)</td>\n",
       "      <td>4.4</td>\n",
       "      <td>12499</td>\n",
       "      <td>https://rukminim2.flixcart.com/image/312/312/x...</td>\n",
       "      <td>50</td>\n",
       "      <td>LCD</td>\n",
       "      <td>5000</td>\n",
       "      <td>4</td>\n",
       "      <td>64</td>\n",
       "      <td>12</td>\n",
       "      <td>Heilo35P</td>\n",
       "    </tr>\n",
       "    <tr>\n",
       "      <th>3</th>\n",
       "      <td>OPPO A78 5G (Glowing Black, 128 GB)</td>\n",
       "      <td>4.3</td>\n",
       "      <td>18142</td>\n",
       "      <td>https://rukminim2.flixcart.com/image/312/312/x...</td>\n",
       "      <td>13</td>\n",
       "      <td>other</td>\n",
       "      <td>5000</td>\n",
       "      <td>8</td>\n",
       "      <td>128</td>\n",
       "      <td>other androidVerion</td>\n",
       "      <td>not mentioned</td>\n",
       "    </tr>\n",
       "    <tr>\n",
       "      <th>4</th>\n",
       "      <td>OPPO A17 (Lake Blue, 64 GB)</td>\n",
       "      <td>4.4</td>\n",
       "      <td>12499</td>\n",
       "      <td>https://rukminim2.flixcart.com/image/312/312/x...</td>\n",
       "      <td>50</td>\n",
       "      <td>LCD</td>\n",
       "      <td>5000</td>\n",
       "      <td>4</td>\n",
       "      <td>64</td>\n",
       "      <td>12</td>\n",
       "      <td>Heilo35P</td>\n",
       "    </tr>\n",
       "    <tr>\n",
       "      <th>...</th>\n",
       "      <td>...</td>\n",
       "      <td>...</td>\n",
       "      <td>...</td>\n",
       "      <td>...</td>\n",
       "      <td>...</td>\n",
       "      <td>...</td>\n",
       "      <td>...</td>\n",
       "      <td>...</td>\n",
       "      <td>...</td>\n",
       "      <td>...</td>\n",
       "      <td>...</td>\n",
       "    </tr>\n",
       "    <tr>\n",
       "      <th>245</th>\n",
       "      <td>OPPO A5s (Gold, 64 GB)</td>\n",
       "      <td>4.3</td>\n",
       "      <td>15990</td>\n",
       "      <td>https://rukminim2.flixcart.com/image/312/312/k...</td>\n",
       "      <td>13</td>\n",
       "      <td>other</td>\n",
       "      <td>4230</td>\n",
       "      <td>4</td>\n",
       "      <td>64</td>\n",
       "      <td>8</td>\n",
       "      <td>Heilo35P</td>\n",
       "    </tr>\n",
       "    <tr>\n",
       "      <th>246</th>\n",
       "      <td>OPPO Reno7 Pro 5G (Startrails Blue, 256 GB)</td>\n",
       "      <td>4.4</td>\n",
       "      <td>30537</td>\n",
       "      <td>https://rukminim2.flixcart.com/image/312/312/k...</td>\n",
       "      <td>50</td>\n",
       "      <td>HD+ AMOLED</td>\n",
       "      <td>4500</td>\n",
       "      <td>12</td>\n",
       "      <td>256</td>\n",
       "      <td>11</td>\n",
       "      <td>Dimensity1200-MaxProcessor</td>\n",
       "    </tr>\n",
       "    <tr>\n",
       "      <th>247</th>\n",
       "      <td>OPPO A5s (Red, 32 GB)</td>\n",
       "      <td>4.3</td>\n",
       "      <td>13990</td>\n",
       "      <td>https://rukminim2.flixcart.com/image/312/312/k...</td>\n",
       "      <td>13</td>\n",
       "      <td>other</td>\n",
       "      <td>4230</td>\n",
       "      <td>3</td>\n",
       "      <td>32</td>\n",
       "      <td>8</td>\n",
       "      <td>not mentioned</td>\n",
       "    </tr>\n",
       "    <tr>\n",
       "      <th>248</th>\n",
       "      <td>OPPO A15S (Fancy White, 64 GB)</td>\n",
       "      <td>4.4</td>\n",
       "      <td>11309</td>\n",
       "      <td>https://rukminim2.flixcart.com/image/312/312/k...</td>\n",
       "      <td>13</td>\n",
       "      <td>other</td>\n",
       "      <td>4230</td>\n",
       "      <td>4</td>\n",
       "      <td>64</td>\n",
       "      <td>10</td>\n",
       "      <td>not mentioned</td>\n",
       "    </tr>\n",
       "    <tr>\n",
       "      <th>249</th>\n",
       "      <td>OPPO A7 (Glaring Gold, 64 GB)</td>\n",
       "      <td>4.4</td>\n",
       "      <td>16990</td>\n",
       "      <td>https://rukminim2.flixcart.com/image/312/312/j...</td>\n",
       "      <td>16</td>\n",
       "      <td>other</td>\n",
       "      <td>4230</td>\n",
       "      <td>3</td>\n",
       "      <td>64</td>\n",
       "      <td>8</td>\n",
       "      <td>Snapdragon450P</td>\n",
       "    </tr>\n",
       "  </tbody>\n",
       "</table>\n",
       "<p>250 rows × 11 columns</p>\n",
       "</div>"
      ],
      "text/plain": [
       "                                            name  ratings  price   \n",
       "0                        OPPO A17k (Blue, 64 GB)      4.5   9499  \\\n",
       "1                    OPPO A17 (Lake Blue, 64 GB)      4.4  12200   \n",
       "2               OPPO A17 (Midnight Black, 64 GB)      4.4  12499   \n",
       "3            OPPO A78 5G (Glowing Black, 128 GB)      4.3  18142   \n",
       "4                    OPPO A17 (Lake Blue, 64 GB)      4.4  12499   \n",
       "..                                           ...      ...    ...   \n",
       "245                       OPPO A5s (Gold, 64 GB)      4.3  15990   \n",
       "246  OPPO Reno7 Pro 5G (Startrails Blue, 256 GB)      4.4  30537   \n",
       "247                        OPPO A5s (Red, 32 GB)      4.3  13990   \n",
       "248               OPPO A15S (Fancy White, 64 GB)      4.4  11309   \n",
       "249                OPPO A7 (Glaring Gold, 64 GB)      4.4  16990   \n",
       "\n",
       "                                                imgURL  camera     display   \n",
       "0    https://rukminim2.flixcart.com/image/312/312/x...       8       other  \\\n",
       "1    https://rukminim2.flixcart.com/image/312/312/x...      50         LCD   \n",
       "2    https://rukminim2.flixcart.com/image/312/312/x...      50         LCD   \n",
       "3    https://rukminim2.flixcart.com/image/312/312/x...      13       other   \n",
       "4    https://rukminim2.flixcart.com/image/312/312/x...      50         LCD   \n",
       "..                                                 ...     ...         ...   \n",
       "245  https://rukminim2.flixcart.com/image/312/312/k...      13       other   \n",
       "246  https://rukminim2.flixcart.com/image/312/312/k...      50  HD+ AMOLED   \n",
       "247  https://rukminim2.flixcart.com/image/312/312/k...      13       other   \n",
       "248  https://rukminim2.flixcart.com/image/312/312/k...      13       other   \n",
       "249  https://rukminim2.flixcart.com/image/312/312/j...      16       other   \n",
       "\n",
       "     battery  ram  storage      android_version                   processor  \n",
       "0       5000    3       64                   12                    Heilo35P  \n",
       "1       5000    4       64                   12                    Heilo35P  \n",
       "2       5000    4       64                   12                    Heilo35P  \n",
       "3       5000    8      128  other androidVerion               not mentioned  \n",
       "4       5000    4       64                   12                    Heilo35P  \n",
       "..       ...  ...      ...                  ...                         ...  \n",
       "245     4230    4       64                    8                    Heilo35P  \n",
       "246     4500   12      256                   11  Dimensity1200-MaxProcessor  \n",
       "247     4230    3       32                    8               not mentioned  \n",
       "248     4230    4       64                   10               not mentioned  \n",
       "249     4230    3       64                    8              Snapdragon450P  \n",
       "\n",
       "[250 rows x 11 columns]"
      ]
     },
     "execution_count": 111,
     "metadata": {},
     "output_type": "execute_result"
    }
   ],
   "source": [
    "df"
   ]
  },
  {
   "cell_type": "code",
   "execution_count": null,
   "metadata": {},
   "outputs": [
    {
     "ename": "NameError",
     "evalue": "name 'df' is not defined",
     "output_type": "error",
     "traceback": [
      "\u001b[1;31m---------------------------------------------------------------------------\u001b[0m",
      "\u001b[1;31mNameError\u001b[0m                                 Traceback (most recent call last)",
      "Cell \u001b[1;32mIn[1], line 1\u001b[0m\n\u001b[1;32m----> 1\u001b[0m df\u001b[39m.\u001b[39mto_csv(\u001b[39mr\u001b[39m\u001b[39m'\u001b[39m\u001b[39mdata\u001b[39m\u001b[39m\\\u001b[39m\u001b[39mcleaned_dataset\u001b[39m\u001b[39m\\\u001b[39m\u001b[39moppo_cleaned_data.csv\u001b[39m\u001b[39m'\u001b[39m,index\u001b[39m=\u001b[39m\u001b[39mFalse\u001b[39;00m)\n",
      "\u001b[1;31mNameError\u001b[0m: name 'df' is not defined"
     ]
    }
   ],
   "source": [
    "df.to_csv(r'data\\cleaned_dataset\\oppo_cleaned_data.csv',index=False)"
   ]
  },
  {
   "cell_type": "code",
   "execution_count": null,
   "metadata": {},
   "outputs": [],
   "source": []
  }
 ],
 "metadata": {
  "kernelspec": {
   "display_name": "Python 3",
   "language": "python",
   "name": "python3"
  },
  "language_info": {
   "codemirror_mode": {
    "name": "ipython",
    "version": 3
   },
   "file_extension": ".py",
   "mimetype": "text/x-python",
   "name": "python",
   "nbconvert_exporter": "python",
   "pygments_lexer": "ipython3",
   "version": "3.11.3"
  },
  "orig_nbformat": 4
 },
 "nbformat": 4,
 "nbformat_minor": 2
}
