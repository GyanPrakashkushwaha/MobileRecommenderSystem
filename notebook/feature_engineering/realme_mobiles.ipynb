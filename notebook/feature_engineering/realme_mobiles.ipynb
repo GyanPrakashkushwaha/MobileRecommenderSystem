{
 "cells": [
  {
   "cell_type": "code",
   "execution_count": 154,
   "metadata": {},
   "outputs": [],
   "source": [
    "import pandas as pd\n",
    "import os\n",
    "import numpy as np\n",
    "from ensure import ensure_annotations\n",
    "import re\n",
    "import warnings\n",
    "warnings.filterwarnings('ignore')"
   ]
  },
  {
   "cell_type": "code",
   "execution_count": 155,
   "metadata": {},
   "outputs": [
    {
     "name": "stdout",
     "output_type": "stream",
     "text": [
      "d:\\vscode_machineLearning\\BEST_PROJECTS\\mobileRecommenderSystem\n",
      "None\n",
      "d:\\vscode_machineLearning\\BEST_PROJECTS\\mobileRecommenderSystem\n"
     ]
    }
   ],
   "source": [
    "print(os.getcwd())\n",
    "print(os.chdir(r'd:\\vscode_machineLearning\\BEST_PROJECTS\\mobileRecommenderSystem'))\n",
    "print(os.getcwd())"
   ]
  },
  {
   "cell_type": "code",
   "execution_count": 156,
   "metadata": {},
   "outputs": [],
   "source": [
    "df = pd.read_csv(r'data\\raw_data\\realme_mobile_data.csv',index_col=None)"
   ]
  },
  {
   "cell_type": "code",
   "execution_count": 157,
   "metadata": {},
   "outputs": [
    {
     "data": {
      "text/plain": [
       "15"
      ]
     },
     "execution_count": 157,
     "metadata": {},
     "output_type": "execute_result"
    }
   ],
   "source": [
    "df.duplicated().sum()"
   ]
  },
  {
   "cell_type": "code",
   "execution_count": 158,
   "metadata": {},
   "outputs": [],
   "source": [
    "df.drop_duplicates(inplace=True,ignore_index=True)"
   ]
  },
  {
   "cell_type": "code",
   "execution_count": 159,
   "metadata": {},
   "outputs": [],
   "source": [
    "@ensure_annotations\n",
    "def random_values(feature_name:str,total=6):\n",
    "    for i in range(0,total):\n",
    "        index = np.random.randint(df.shape[0])\n",
    "        print(index,':',df[feature_name].iloc[index])\n",
    "            "
   ]
  },
  {
   "cell_type": "code",
   "execution_count": 160,
   "metadata": {},
   "outputs": [],
   "source": [
    "df.rename({'oS_Processor':'os_processor'},inplace=True,axis=1)"
   ]
  },
  {
   "cell_type": "markdown",
   "metadata": {},
   "source": [
    "## Battery"
   ]
  },
  {
   "cell_type": "code",
   "execution_count": 161,
   "metadata": {},
   "outputs": [
    {
     "name": "stdout",
     "output_type": "stream",
     "text": [
      "166 : Battery Capacity5000 mAH\n",
      "182 : Battery Capacity5000 mAh\n",
      "53 : Battery Capacity5000 mAh\n",
      "215 : Battery Capacity5000 mAh\n",
      "178 : Battery Capacity6000 mAh\n",
      "138 : Battery Capacity4000 mAh\n"
     ]
    }
   ],
   "source": [
    "random_values('battery')"
   ]
  },
  {
   "cell_type": "code",
   "execution_count": 162,
   "metadata": {},
   "outputs": [],
   "source": [
    "def extract_battery(row):\n",
    "    return row.split()[1]"
   ]
  },
  {
   "cell_type": "code",
   "execution_count": 163,
   "metadata": {},
   "outputs": [],
   "source": [
    "df['battery'] = df['battery'].apply(func=extract_battery)"
   ]
  },
  {
   "cell_type": "code",
   "execution_count": 164,
   "metadata": {},
   "outputs": [
    {
     "name": "stdout",
     "output_type": "stream",
     "text": [
      "172 : Capacity6000\n",
      "217 : Capacity5000\n",
      "100 : Capacity4200\n",
      "244 : Capacity5000\n",
      "61 : Capacity5000\n",
      "105 : Capacity5000\n"
     ]
    }
   ],
   "source": [
    "random_values('battery')"
   ]
  },
  {
   "cell_type": "code",
   "execution_count": 165,
   "metadata": {},
   "outputs": [
    {
     "name": "stdout",
     "output_type": "stream",
     "text": [
      "looped till 249 index\n"
     ]
    }
   ],
   "source": [
    "count = 0\n",
    "for i in range(0,len(df['battery'])):\n",
    "    # print(i)\n",
    "    df['battery'][i]= df['battery'].iloc[i].replace('Capacity','')\n",
    "    # print(df['battery'][i])\n",
    "    count+=1\n",
    "print(f'looped till {count} index')"
   ]
  },
  {
   "cell_type": "code",
   "execution_count": 166,
   "metadata": {},
   "outputs": [],
   "source": [
    "df['battery'] = df['battery'].astype('Int16')"
   ]
  },
  {
   "cell_type": "code",
   "execution_count": 167,
   "metadata": {},
   "outputs": [
    {
     "name": "stdout",
     "output_type": "stream",
     "text": [
      "88 : 4300\n",
      "62 : 5000\n",
      "188 : 3500\n",
      "91 : 5000\n",
      "194 : 3500\n",
      "109 : 5000\n"
     ]
    }
   ],
   "source": [
    "random_values('battery')"
   ]
  },
  {
   "cell_type": "markdown",
   "metadata": {},
   "source": [
    "## Storage and Ram"
   ]
  },
  {
   "cell_type": "code",
   "execution_count": 168,
   "metadata": {},
   "outputs": [
    {
     "name": "stdout",
     "output_type": "stream",
     "text": [
      "246 : Internal Storage64 GBRAM4 GBExpandable Storage1 TBSupported Memory Card TypeMicroSDMemory Card Slot TypeDedicated Slot\n",
      "190 : Internal Storage256 GBRAM12 GB\n",
      "170 : Internal Storage128 GBRAM4 GBExpandable Storage256 GBSupported Memory Card TypeTF CardMemory Card Slot TypeDedicated Slot\n",
      "171 : Internal Storage128 GBRAM8 GB\n",
      "221 : Internal Storage32 GBRAM3 GBExpandable Storage256 GBSupported Memory Card TypemicroSDMemory Card Slot TypeDedicated Slot\n",
      "128 : Internal Storage256 GBRAM12 GB\n"
     ]
    }
   ],
   "source": [
    "random_values('storage_ram')"
   ]
  },
  {
   "cell_type": "code",
   "execution_count": 169,
   "metadata": {},
   "outputs": [],
   "source": [
    "def extract_storage(row):\n",
    "    storage = row.split()[1]\n",
    "    return storage\n",
    "\n",
    "def extract_ram(row):\n",
    "    ram = row.split()[2]\n",
    "    return ram\n",
    "\n",
    "df['storage'] = df['storage_ram'].apply(func=extract_storage)\n",
    "df['ram'] = df['storage_ram'].apply(func=extract_ram)"
   ]
  },
  {
   "cell_type": "code",
   "execution_count": 170,
   "metadata": {},
   "outputs": [
    {
     "name": "stdout",
     "output_type": "stream",
     "text": [
      "looped till 249 index\n"
     ]
    }
   ],
   "source": [
    "import warnings\n",
    "warnings.filterwarnings('ignore')\n",
    "count = 0\n",
    "for i in range(0,len(df['storage'])):\n",
    "    df['storage'][i]= df['storage'].iloc[i].replace('Storage','')\n",
    "    count+=1\n",
    "print(f'looped till {count} index')"
   ]
  },
  {
   "cell_type": "code",
   "execution_count": 171,
   "metadata": {},
   "outputs": [
    {
     "name": "stdout",
     "output_type": "stream",
     "text": [
      "121 : 32\n",
      "124 : 64\n",
      "6 : 128\n",
      "72 : 128\n",
      "65 : 64\n",
      "70 : 128\n",
      "None\n"
     ]
    }
   ],
   "source": [
    "print(random_values('storage'))\n",
    "df['storage'] = df['storage'].astype('Int16')"
   ]
  },
  {
   "cell_type": "code",
   "execution_count": 172,
   "metadata": {},
   "outputs": [
    {
     "name": "stdout",
     "output_type": "stream",
     "text": [
      "looped till 249 index\n"
     ]
    }
   ],
   "source": [
    "import warnings\n",
    "warnings.filterwarnings('ignore')\n",
    "count = 0\n",
    "for i in range(0,len(df['ram'])):\n",
    "    # df['ram'][i]= df['ram'].iloc[i].replace('MBRAM','')\n",
    "    df['ram'][i]= df['ram'].iloc[i].replace('GBRAM','')\n",
    "    count+=1\n",
    "print(f'looped till {count} index')"
   ]
  },
  {
   "cell_type": "code",
   "execution_count": 173,
   "metadata": {},
   "outputs": [
    {
     "name": "stdout",
     "output_type": "stream",
     "text": [
      "243 : 12\n",
      "93 : 6\n",
      "16 : 6\n",
      "16 : 6\n",
      "17 : 4\n",
      "212 : 6\n"
     ]
    }
   ],
   "source": [
    "random_values('ram')"
   ]
  },
  {
   "cell_type": "code",
   "execution_count": 174,
   "metadata": {},
   "outputs": [],
   "source": [
    "df['ram'] = df['ram'].astype('Int16')\n",
    "df.reset_index(inplace=True)"
   ]
  },
  {
   "cell_type": "markdown",
   "metadata": {},
   "source": [
    "## Processors\n"
   ]
  },
  {
   "cell_type": "code",
   "execution_count": 175,
   "metadata": {},
   "outputs": [],
   "source": [
    "df.rename({'camera':'os_processor','os_processor':'camera'},axis=1,inplace=True)"
   ]
  },
  {
   "cell_type": "code",
   "execution_count": 176,
   "metadata": {},
   "outputs": [],
   "source": [
    "# df.drop(labels=['index'],axis=1,inplace=True)\n",
    "# df.drop(labels=['level_0'],axis=1,inplace=True)"
   ]
  },
  {
   "cell_type": "code",
   "execution_count": 177,
   "metadata": {},
   "outputs": [],
   "source": [
    "# df"
   ]
  },
  {
   "cell_type": "code",
   "execution_count": 178,
   "metadata": {},
   "outputs": [],
   "source": [
    "def extract_processor(text):\n",
    "    pattern = r'.*Processor'\n",
    "    match = re.findall(pattern, text)\n",
    "    if match:\n",
    "        return match[0]\n",
    "    else:\n",
    "        return text\n"
   ]
  },
  {
   "cell_type": "code",
   "execution_count": 179,
   "metadata": {},
   "outputs": [
    {
     "name": "stdout",
     "output_type": "stream",
     "text": [
      "177 : Operating SystemAndroid Android 13.0Processor CoreOcta CorePrimary Clock Speed1.8 GHz\n",
      "99 : Operating SystemAndroid Pie 9.0Processor TypeQualcomm 712Processor CoreOcta CorePrimary Clock Speed2.3 GHzOperating FrequencyGSM : 850/900/1800/1900MHz,\n",
      "WCDMA : 850/900/2100MHz,\n",
      "FDD-LTE : Bands 1/3/5/7/8/20/28,\n",
      "TD-LTE : Bands 38/40/41(2535-2655MHz）\n",
      "210 : Operating SystemAndroid 10Processor TypeMediaTek Helio G90TProcessor CoreOcta CorePrimary Clock Speed2.05 GHzSecondary Clock Speed2 GHzOperating FrequencyGSM Bands: 850/900/1800/1900, WCDMA Bands: 1/5/8 , 4G LTE Bands: FDD LTE - 1/3/5/8, TDD LTE - 38/40/41 (2535-2655 MHz)\n",
      "127 : Operating SystemAndroid 11Processor TypeUnisoc T618Processor CoreOcta CorePrimary Clock Speed2 GHzSecondary Clock Speed1.8 GHzOperating Frequency2G GSM: 850/900/1800/1900 MHz, 3G WCDMA: B1/B5/B8, 4G FDD-LTE: B1/B3/B5/B7/B8/B20/B28, 4G TD-LTE: B38/B40/B41 (2496-2690 MHz)\n",
      "11 : Operating SystemAndroid 13Processor TypeHelio G88Processor CoreOcta CorePrimary Clock Speed2 GHzSecondary Clock Speed1.8 GHzOperating Frequency2G GSM: 850/900/1800/1900 MHz, 3G WCDMA: B1/B5/B8, 4G FDD LTE: B1/B3/B5/B8, 4G TD LTE: B38/B40/B41 (2535 MHz - 2655 MHz)\n",
      "64 : Operating SystemAndroid 12Processor TypeUnisoc T612Processor CoreOcta CorePrimary Clock Speed1.82 GHzSecondary Clock Speed1.82 GHzOperating Frequency2G GSM: 850/900/1800/1900 MHz, 3G WCDMA: B1/B5/B8, 4G FDD-LTE: B1/B3/B5/B8, 4G TD-LTE: B38/B40/B41 (2535-2655MHz)\n"
     ]
    }
   ],
   "source": [
    "random_values('os_processor')"
   ]
  },
  {
   "cell_type": "code",
   "execution_count": 180,
   "metadata": {},
   "outputs": [],
   "source": [
    "df['processors'] = df['os_processor'].apply(func=extract_processor)"
   ]
  },
  {
   "cell_type": "code",
   "execution_count": 181,
   "metadata": {},
   "outputs": [
    {
     "name": "stdout",
     "output_type": "stream",
     "text": [
      "164 : Operating SystemAndroid Pie 9.0Processor TypeQualcomm Snapdragon 665 2 GHzProcessor\n",
      "90 : Operating SystemAndroid 12Processor TypeMediatek Dimensity 8100Processor\n",
      "45 : Operating SystemAndroid 12Processor TypeUnisoc SC9863A/ Unisoc SC9863A1Processor\n",
      "229 : Operating SystemAndroid 11Processor TypeUnisoc T612Processor\n",
      "181 : Operating SystemAndroid Android 13Processor\n",
      "8 : Operating SystemAndroid 11Processor TypeUnisoc T612Processor\n"
     ]
    }
   ],
   "source": [
    "random_values('processors')"
   ]
  },
  {
   "cell_type": "markdown",
   "metadata": {},
   "source": [
    "## Android Version"
   ]
  },
  {
   "cell_type": "code",
   "execution_count": 182,
   "metadata": {},
   "outputs": [],
   "source": [
    "def android_version(text_):\n",
    "    pattern=r'^\\d+[Processor]|\\d+[GProcessor]|\\d+[.Processor]'\n",
    "    found = re.findall(pattern,text_)\n",
    "    if found:\n",
    "        return found[0]\n",
    "    else:\n",
    "        return np.nan"
   ]
  },
  {
   "cell_type": "code",
   "execution_count": 183,
   "metadata": {},
   "outputs": [],
   "source": [
    "df['android_version'] = df['processors'].apply(android_version)"
   ]
  },
  {
   "cell_type": "code",
   "execution_count": 184,
   "metadata": {},
   "outputs": [],
   "source": [
    "for Index,i in enumerate(df['android_version']):\n",
    "    # print(i)\n",
    "    i = str(i).replace('P','')\n",
    "    i = str(i).replace('.','')\n",
    "    df['android_version'][Index] = i"
   ]
  },
  {
   "cell_type": "code",
   "execution_count": 185,
   "metadata": {},
   "outputs": [
    {
     "name": "stdout",
     "output_type": "stream",
     "text": [
      "47 : 13\n",
      "5 : 13\n",
      "235 : 11\n",
      "73 : 11\n",
      "197 : 8\n",
      "100 : 10\n"
     ]
    }
   ],
   "source": [
    "random_values('android_version')"
   ]
  },
  {
   "cell_type": "markdown",
   "metadata": {},
   "source": [
    "## Processors"
   ]
  },
  {
   "cell_type": "code",
   "execution_count": 186,
   "metadata": {},
   "outputs": [],
   "source": [
    "def processor(text):\n",
    "    pattern=r'(?<=Type).*'\n",
    "    search = re.search(pattern,text)\n",
    "    if search != None:\n",
    "        return ' '.join(re.findall(pattern,text))\n",
    "    else:\n",
    "        return 'not montioned'"
   ]
  },
  {
   "cell_type": "code",
   "execution_count": 187,
   "metadata": {},
   "outputs": [],
   "source": [
    "df['processors'] = df['processors'].apply(processor)"
   ]
  },
  {
   "cell_type": "code",
   "execution_count": 188,
   "metadata": {},
   "outputs": [
    {
     "name": "stdout",
     "output_type": "stream",
     "text": [
      "67 : Octa-coreProcessor\n",
      "192 : MediaTek P22 Octa Core 2.0 GHzProcessor\n",
      "215 : Qualcomm Snapdragon 665 2 GHzProcessor\n",
      "165 : Qualcomm Snapdragon 665 2 GHzProcessor\n",
      "104 : Dimensity 7050Processor\n",
      "39 : Mediatek Dimensity 1080 5GProcessor\n"
     ]
    }
   ],
   "source": [
    "random_values('processors')"
   ]
  },
  {
   "cell_type": "markdown",
   "metadata": {},
   "source": [
    "## Remove columns\n",
    "1) storage_ram\n",
    "2) os_processor\n"
   ]
  },
  {
   "cell_type": "code",
   "execution_count": 189,
   "metadata": {},
   "outputs": [],
   "source": [
    "df = df.drop(columns=['os_processor','storage_ram'])"
   ]
  },
  {
   "cell_type": "code",
   "execution_count": 190,
   "metadata": {},
   "outputs": [],
   "source": [
    "df.rename({'processors':'processor'},axis=1,inplace=True)"
   ]
  },
  {
   "cell_type": "markdown",
   "metadata": {},
   "source": [
    "## Price"
   ]
  },
  {
   "cell_type": "code",
   "execution_count": 191,
   "metadata": {},
   "outputs": [],
   "source": [
    "for Index,i in enumerate(df['price']):\n",
    "    i = str(i).replace('₹','')\n",
    "    i = str(i).replace(',','')\n",
    "    df['price'][Index] = i"
   ]
  },
  {
   "cell_type": "code",
   "execution_count": 192,
   "metadata": {},
   "outputs": [],
   "source": [
    "df['price'] = df['price'].astype('Int16')"
   ]
  },
  {
   "cell_type": "markdown",
   "metadata": {},
   "source": [
    "## Processor"
   ]
  },
  {
   "cell_type": "code",
   "execution_count": 193,
   "metadata": {},
   "outputs": [
    {
     "name": "stdout",
     "output_type": "stream",
     "text": [
      "86 : MediaTek Helio G95Processor\n",
      "169 : Qualcomm Snapdragon 665Processor\n",
      "53 : Unisoc T610Processor\n",
      "211 : Qualcomm Snapdragon 450 Octa Core 1.8 GHzProcessor\n",
      "76 : not montioned\n",
      "83 : Dimensity 920 5G ProcessorProcessor\n"
     ]
    }
   ],
   "source": [
    "random_values('processor')"
   ]
  },
  {
   "cell_type": "code",
   "execution_count": 194,
   "metadata": {},
   "outputs": [],
   "source": [
    "def processor_extract(text):\n",
    "    splitted_sentence = text.split()\n",
    "    if 'Mediatek' and 'Helio' in splitted_sentence:\n",
    "        pattern = r'\\d+[Processor]|\\d+'\n",
    "        string = ' '.join(splitted_sentence)\n",
    "        match = re.search(pattern,string)\n",
    "        if match == None:\n",
    "            return 'Heilo'+str(splitted_sentence[2])\n",
    "        else:\n",
    "            find = re.findall(pattern,string)\n",
    "            return 'Heilo'+''.join(find)\n",
    "\n",
    "\n",
    "    elif 'Mediatek' and 'Dimensity' in splitted_sentence:\n",
    "        pattern = r'(\\d+)+[Processor]'\n",
    "        string = ' '.join(splitted_sentence)\n",
    "        match = re.search(pattern,string)\n",
    "        if match == None:\n",
    "            if 'Dimensity' == str(splitted_sentence[1]):\n",
    "                return 'Dimensity'+str(splitted_sentence[2])\n",
    "            else:\n",
    "                return 'Dimensity'+str(splitted_sentence[1])\n",
    "        \n",
    "        else:\n",
    "            find = re.findall(pattern,string)\n",
    "            return 'Dimensity'+ ''.join(find)\n",
    "\n",
    "    elif 'Snapdragon' and 'Gen' and '4' in splitted_sentence:\n",
    "        return 'Gen4'   \n",
    "\n",
    "    elif 'Snapdragon' and 'Gen' and '8' in splitted_sentence:         \n",
    "        return 'Gen8'\n",
    "    \n",
    "    elif 'Unisoc' in splitted_sentence:\n",
    "        \n",
    "        if 'Unisoc' and 'Tiger' in splitted_sentence:\n",
    "            pattern = r'[T]\\d[Processor]'\n",
    "            string = ' '.join(splitted_sentence)\n",
    "            match = re.findall(pattern,string)\n",
    "            return 'UnisocTiger' + ''.join(splitted_sentence[2])\n",
    "        \n",
    "        elif 'Unisoc' == splitted_sentence[0]:\n",
    "            pattern = r'[T]\\d.'\n",
    "            string = ' '.join(splitted_sentence)\n",
    "            match = re.findall(pattern,string)\n",
    "            return 'Unisoc' + ''.join(splitted_sentence[1])\n",
    "\n",
    "        \n",
    "        pattern = r'T(\\d+)Processor|\\d+'\n",
    "        string = ' '.join(splitted_sentence)\n",
    "        match = re.findall(pattern,string)\n",
    "        return 'Unisoc'+' '.join(match)\n",
    "    \n",
    "\n",
    "    elif 'Snapdragon' in splitted_sentence:\n",
    "        pattern = r'\\d+[Processor]'\n",
    "        if 'Gen' and '4' and '8' not in splitted_sentence:\n",
    "            string = ' '.join(splitted_sentence)\n",
    "            match = re.search(pattern,string)\n",
    "            if match == None:\n",
    "                if 'Snapdragon' == str(splitted_sentence[1]):\n",
    "                    return 'Snapdragon'+str(splitted_sentence[2])\n",
    "                else:\n",
    "                    return 'Snapdragon'+str(splitted_sentence[1])\n",
    "            else:\n",
    "                find = re.findall(pattern,string)\n",
    "                return 'Snapdragon'+''.join(find)\n",
    "    \n",
    "    elif 'MediaTek' == splitted_sentence[0]:\n",
    "        pattern = r'[P]\\d.'\n",
    "        string = ' '.join(splitted_sentence)\n",
    "        match = re.findall(pattern,string)\n",
    "        return 'MediaTek' + ' '.join(match)\n",
    "\n",
    "    else:\n",
    "        return 'not mentioned'      \n"
   ]
  },
  {
   "cell_type": "code",
   "execution_count": 195,
   "metadata": {},
   "outputs": [],
   "source": [
    "df['processor']=df['processor'].apply(processor_extract)"
   ]
  },
  {
   "cell_type": "code",
   "execution_count": 209,
   "metadata": {},
   "outputs": [
    {
     "name": "stdout",
     "output_type": "stream",
     "text": [
      "187 : Snapdragon660\n",
      "69 : Snapdragon680\n",
      "245 : UnisocT610Processor\n",
      "134 : Dimensity920\n",
      "120 : Dimensity8100\n",
      "120 : Dimensity8100\n",
      "185 : Dimensity8100\n",
      "60 : UnisocT612Processor\n",
      "193 : MediaTekP22\n",
      "232 : Heilo96P\n"
     ]
    }
   ],
   "source": [
    "random_values('processor',10)"
   ]
  },
  {
   "cell_type": "markdown",
   "metadata": {},
   "source": [
    "## camera"
   ]
  },
  {
   "cell_type": "code",
   "execution_count": 197,
   "metadata": {},
   "outputs": [],
   "source": [
    "def camera_extract(row):\n",
    "    row_splitted = row.split()\n",
    "    pattern = r'\\d+MP'\n",
    "    words = ' '.join(row_splitted)\n",
    "    find_cam = re.findall(pattern,words)\n",
    "    return find_cam[0]\n",
    "\n",
    "df['primary_camera'] = df['camera'].apply(camera_extract)\n",
    "df = df.drop('camera',axis=1)"
   ]
  },
  {
   "cell_type": "code",
   "execution_count": 198,
   "metadata": {},
   "outputs": [
    {
     "name": "stdout",
     "output_type": "stream",
     "text": [
      "106 : 108MP\n",
      "94 : 13MP\n",
      "85 : 64MP\n",
      "95 : 64MP\n",
      "119 : 13MP\n",
      "135 : 100MP\n"
     ]
    }
   ],
   "source": [
    "random_values('primary_camera')"
   ]
  },
  {
   "cell_type": "code",
   "execution_count": 211,
   "metadata": {},
   "outputs": [],
   "source": [
    "def remove_MP(text):\n",
    "    return text.replace('MP','')"
   ]
  },
  {
   "cell_type": "code",
   "execution_count": 214,
   "metadata": {},
   "outputs": [],
   "source": [
    "df['primary_camera'] = df['primary_camera'].apply(remove_MP)\n",
    "df['primary_camera'] = df['primary_camera'].astype('Int16')"
   ]
  },
  {
   "cell_type": "code",
   "execution_count": 226,
   "metadata": {},
   "outputs": [
    {
     "name": "stdout",
     "output_type": "stream",
     "text": [
      "75 : 50\n",
      "51 : 50\n",
      "6 : 64\n",
      "62 : 64\n",
      "81 : 50\n",
      "118 : 50\n"
     ]
    }
   ],
   "source": [
    "random_values('primary_camera')"
   ]
  },
  {
   "cell_type": "markdown",
   "metadata": {},
   "source": [
    "## Display"
   ]
  },
  {
   "cell_type": "code",
   "execution_count": 199,
   "metadata": {},
   "outputs": [],
   "source": [
    "def display_extract(row):\n",
    "    split_row = row.split()\n",
    "    if 'LCD' in split_row:\n",
    "        if 'IPS' in split_row and 'LCD' in split_row:\n",
    "            return 'IPS LCD'\n",
    "        return 'LCD'\n",
    "    \n",
    "    if 'OLED' in split_row:\n",
    "        return 'OLED'\n",
    "    \n",
    "    if 'TFT' in split_row:\n",
    "        return 'TFT'\n",
    "    \n",
    "    if 'LED' in split_row:\n",
    "        return 'LED'\n",
    "\n",
    "    # if 'Adreno' in split_row:\n",
    "    #     return 'Adreno'\n",
    "    if 'AMOLED' in split_row:\n",
    "        if 'HD+' in split_row and 'AMOLED' in split_row:\n",
    "            return 'HD+ AMOLED'\n",
    "        return 'AMOLED'\n",
    "    \n",
    "    return 'other'\n",
    "\n",
    "df['display'] = df['display'].apply(display_extract)"
   ]
  },
  {
   "cell_type": "code",
   "execution_count": 200,
   "metadata": {},
   "outputs": [
    {
     "name": "stdout",
     "output_type": "stream",
     "text": [
      "110 : other\n",
      "154 : other\n",
      "70 : other\n",
      "21 : LCD\n",
      "178 : LCD\n",
      "164 : other\n"
     ]
    }
   ],
   "source": [
    "random_values('display')"
   ]
  },
  {
   "cell_type": "markdown",
   "metadata": {},
   "source": [
    "## network\n",
    "removing network"
   ]
  },
  {
   "cell_type": "code",
   "execution_count": 201,
   "metadata": {},
   "outputs": [
    {
     "name": "stdout",
     "output_type": "stream",
     "text": [
      "159 : Network Type5G, 4G VOLTE, 4G, 3G, 2GSupported Networks5G, 4G VoLTE, 4G LTE, UMTS, GSM, WCDMA, CDMAInternet Connectivity5G, 4G, 3G, Wi-Fi, EDGE, GPRS3G SpeedHSPA+GPRSYesBluetooth SupportYesBluetooth Versionv5.0Wi-FiYesWi-Fi Version802.11 b/g/n/a/ac/ax, 2.4GHz/5GHzNFCYesEDGEYes\n",
      "237 : Network Type5G, 4G VOLTESupported Networks5G, 4G VoLTE, 4G LTE, WCDMA, GSMInternet Connectivity5G, 4G, 3G, Wi-Fi, GPRS, EDGEGPRSYesBluetooth SupportYesBluetooth Versionv5.2Wi-FiYesWi-Fi VersionIEEE 802.11 a/b/g/n/ac/ax (WiFi 4, WiFi 5, WiFi 6)Wi-Fi HotspotYesNFCNoAudio Jack3.5mmMap SupportGoogle MapsGPS SupportYes\n",
      "72 : Network Type4G VOLTE, 4G, 3G, 2GSupported Networks4G VoLTE, 4G LTE, WCDMA, GSMInternet Connectivity4G, 3G, Wi-Fi, EDGE, GPRS3GYesGPRSYesPre-installed BrowserGoogle ChromeBluetooth SupportYesBluetooth Versionv5.0Wi-FiYesWi-Fi VersionIEEE 802.11 a/b/g/n/acWi-Fi HotspotYesNFCNoInfraredNoUSB ConnectivityYesEDGEYesAudio Jack3.5mmMap SupportGoogle MapsGPS SupportYes\n",
      "36 : Network Type5G, 4G, 3G, 2GSupported Networks5G, 4G LTE, WCDMA, GSMInternet Connectivity5G, 4G, 3G, EDGE, GPRS, Wi-FiGPRSYesBluetooth SupportYesBluetooth Versionv5.2Wi-Fi VersionIEEE 802.11 a/b/g/n/ac (WiFi 4 | WiFi 5) (2.4 GHz | 5 GHz)Wi-Fi HotspotYesNFCNoInfraredNoUSB ConnectivityYesAudio Jack3.5mmGPS SupportYes\n",
      "114 : Network Type5G, 4G VOLTE, 4G, 3G, 2GSupported Networks5G, 4G VoLTE, 4G LTE, WCDMA, GSMInternet Connectivity5G, 4G, 3G, GPRS, EDGE, Wi-FiGPRSYesPre-installed BrowserGoogle ChromeBluetooth SupportYesBluetooth Versionv5.3Wi-Fi Version802.11 a/b/g/n/ac/ax (2.4 GHz | 5.1 GHz | 5.8 GHz)Wi-Fi HotspotYesNFCYesInfraredNoUSB ConnectivityYesAudio JackType CMap SupportGoogle MapsGPS SupportYes\n",
      "248 : Network Type4G VOLTE, 4G, 3G, 2GSupported Networks4G VoLTE, 4G LTE, WCDMA, GSMInternet Connectivity4G, 3G, Wi-Fi, EDGE, GPRS3GYesGPRSYesPre-installed BrowserGoogle ChromeBluetooth SupportYesBluetooth Versionv4.2Wi-Fi VersionIEEE 802.11 b/g/n (WiFi 4)Wi-Fi HotspotYesUSB ConnectivityYesEDGEYesAudio Jack3.5mmMap SupportGoogle MapsGPS SupportYes\n"
     ]
    }
   ],
   "source": [
    "random_values('network')"
   ]
  },
  {
   "cell_type": "code",
   "execution_count": 233,
   "metadata": {},
   "outputs": [],
   "source": [
    "# df = df.drop(labels=['index'],axis=1)"
   ]
  },
  {
   "cell_type": "code",
   "execution_count": 232,
   "metadata": {},
   "outputs": [
    {
     "data": {
      "text/html": [
       "<div>\n",
       "<style scoped>\n",
       "    .dataframe tbody tr th:only-of-type {\n",
       "        vertical-align: middle;\n",
       "    }\n",
       "\n",
       "    .dataframe tbody tr th {\n",
       "        vertical-align: top;\n",
       "    }\n",
       "\n",
       "    .dataframe thead th {\n",
       "        text-align: right;\n",
       "    }\n",
       "</style>\n",
       "<table border=\"1\" class=\"dataframe\">\n",
       "  <thead>\n",
       "    <tr style=\"text-align: right;\">\n",
       "      <th></th>\n",
       "      <th>name</th>\n",
       "      <th>ratings</th>\n",
       "      <th>price</th>\n",
       "      <th>imgURL</th>\n",
       "      <th>display</th>\n",
       "      <th>battery</th>\n",
       "      <th>storage</th>\n",
       "      <th>ram</th>\n",
       "      <th>processor</th>\n",
       "      <th>android_version</th>\n",
       "      <th>primary_camera</th>\n",
       "    </tr>\n",
       "  </thead>\n",
       "  <tbody>\n",
       "    <tr>\n",
       "      <th>0</th>\n",
       "      <td>realme C33 2023 (Sandy Gold, 128 GB)</td>\n",
       "      <td>4.4</td>\n",
       "      <td>10499</td>\n",
       "      <td>https://rukminim2.flixcart.com/image/312/312/x...</td>\n",
       "      <td>LCD</td>\n",
       "      <td>5000</td>\n",
       "      <td>128</td>\n",
       "      <td>4</td>\n",
       "      <td>UnisocT612Processor</td>\n",
       "      <td>12</td>\n",
       "      <td>50</td>\n",
       "    </tr>\n",
       "    <tr>\n",
       "      <th>1</th>\n",
       "      <td>realme C33 2023 (Aqua Blue, 128 GB)</td>\n",
       "      <td>4.4</td>\n",
       "      <td>10499</td>\n",
       "      <td>https://rukminim2.flixcart.com/image/312/312/x...</td>\n",
       "      <td>LCD</td>\n",
       "      <td>5000</td>\n",
       "      <td>128</td>\n",
       "      <td>4</td>\n",
       "      <td>UnisocT612Processor</td>\n",
       "      <td>12</td>\n",
       "      <td>50</td>\n",
       "    </tr>\n",
       "    <tr>\n",
       "      <th>2</th>\n",
       "      <td>realme C33 2023 (Night Sea, 128 GB)</td>\n",
       "      <td>4.4</td>\n",
       "      <td>10499</td>\n",
       "      <td>https://rukminim2.flixcart.com/image/312/312/x...</td>\n",
       "      <td>LCD</td>\n",
       "      <td>5000</td>\n",
       "      <td>128</td>\n",
       "      <td>4</td>\n",
       "      <td>UnisocT612Processor</td>\n",
       "      <td>12</td>\n",
       "      <td>50</td>\n",
       "    </tr>\n",
       "    <tr>\n",
       "      <th>3</th>\n",
       "      <td>realme C30 (Denim Black, 32 GB)</td>\n",
       "      <td>4.2</td>\n",
       "      <td>5999</td>\n",
       "      <td>https://rukminim2.flixcart.com/image/312/312/l...</td>\n",
       "      <td>LCD</td>\n",
       "      <td>5000</td>\n",
       "      <td>32</td>\n",
       "      <td>2</td>\n",
       "      <td>UnisocT612Processor</td>\n",
       "      <td>11</td>\n",
       "      <td>8</td>\n",
       "    </tr>\n",
       "    <tr>\n",
       "      <th>4</th>\n",
       "      <td>realme C30 (Bamboo Green, 32 GB)</td>\n",
       "      <td>4.1</td>\n",
       "      <td>6499</td>\n",
       "      <td>https://rukminim2.flixcart.com/image/312/312/l...</td>\n",
       "      <td>LCD</td>\n",
       "      <td>5000</td>\n",
       "      <td>32</td>\n",
       "      <td>3</td>\n",
       "      <td>UnisocT612Processor</td>\n",
       "      <td>11</td>\n",
       "      <td>8</td>\n",
       "    </tr>\n",
       "    <tr>\n",
       "      <th>...</th>\n",
       "      <td>...</td>\n",
       "      <td>...</td>\n",
       "      <td>...</td>\n",
       "      <td>...</td>\n",
       "      <td>...</td>\n",
       "      <td>...</td>\n",
       "      <td>...</td>\n",
       "      <td>...</td>\n",
       "      <td>...</td>\n",
       "      <td>...</td>\n",
       "      <td>...</td>\n",
       "    </tr>\n",
       "    <tr>\n",
       "      <th>244</th>\n",
       "      <td>realme GT 2 (Paper Green, 128 GB)</td>\n",
       "      <td>4.6</td>\n",
       "      <td>-30537</td>\n",
       "      <td>https://rukminim2.flixcart.com/image/312/312/l...</td>\n",
       "      <td>HD+ AMOLED</td>\n",
       "      <td>5000</td>\n",
       "      <td>128</td>\n",
       "      <td>8</td>\n",
       "      <td>Snapdragon888P</td>\n",
       "      <td>12</td>\n",
       "      <td>50</td>\n",
       "    </tr>\n",
       "    <tr>\n",
       "      <th>245</th>\n",
       "      <td>realme C21Y (Cross Black, 32 GB)</td>\n",
       "      <td>4.4</td>\n",
       "      <td>7499</td>\n",
       "      <td>https://rukminim2.flixcart.com/image/312/312/k...</td>\n",
       "      <td>LCD</td>\n",
       "      <td>5000</td>\n",
       "      <td>32</td>\n",
       "      <td>3</td>\n",
       "      <td>UnisocT610Processor</td>\n",
       "      <td>11</td>\n",
       "      <td>13</td>\n",
       "    </tr>\n",
       "    <tr>\n",
       "      <th>246</th>\n",
       "      <td>realme C33 (Sandy Gold, 64 GB)</td>\n",
       "      <td>4.4</td>\n",
       "      <td>9999</td>\n",
       "      <td>https://rukminim2.flixcart.com/image/312/312/x...</td>\n",
       "      <td>LCD</td>\n",
       "      <td>5000</td>\n",
       "      <td>64</td>\n",
       "      <td>4</td>\n",
       "      <td>UnisocT612Processor</td>\n",
       "      <td>12</td>\n",
       "      <td>50</td>\n",
       "    </tr>\n",
       "    <tr>\n",
       "      <th>247</th>\n",
       "      <td>realme C33 (Sandy Gold, 32 GB)</td>\n",
       "      <td>4.4</td>\n",
       "      <td>8999</td>\n",
       "      <td>https://rukminim2.flixcart.com/image/312/312/x...</td>\n",
       "      <td>LCD</td>\n",
       "      <td>5000</td>\n",
       "      <td>32</td>\n",
       "      <td>3</td>\n",
       "      <td>UnisocT612Processor</td>\n",
       "      <td>12</td>\n",
       "      <td>50</td>\n",
       "    </tr>\n",
       "    <tr>\n",
       "      <th>248</th>\n",
       "      <td>realme C11 2021 (Cool Grey, 32 GB)</td>\n",
       "      <td>NaN</td>\n",
       "      <td>7499</td>\n",
       "      <td>https://rukminim2.flixcart.com/image/312/312/k...</td>\n",
       "      <td>LCD</td>\n",
       "      <td>5000</td>\n",
       "      <td>32</td>\n",
       "      <td>2</td>\n",
       "      <td>not mentioned</td>\n",
       "      <td>11</td>\n",
       "      <td>8</td>\n",
       "    </tr>\n",
       "  </tbody>\n",
       "</table>\n",
       "<p>249 rows × 11 columns</p>\n",
       "</div>"
      ],
      "text/plain": [
       "                                     name  ratings   price   \n",
       "0    realme C33 2023 (Sandy Gold, 128 GB)      4.4   10499  \\\n",
       "1     realme C33 2023 (Aqua Blue, 128 GB)      4.4   10499   \n",
       "2     realme C33 2023 (Night Sea, 128 GB)      4.4   10499   \n",
       "3         realme C30 (Denim Black, 32 GB)      4.2    5999   \n",
       "4        realme C30 (Bamboo Green, 32 GB)      4.1    6499   \n",
       "..                                    ...      ...     ...   \n",
       "244     realme GT 2 (Paper Green, 128 GB)      4.6  -30537   \n",
       "245      realme C21Y (Cross Black, 32 GB)      4.4    7499   \n",
       "246        realme C33 (Sandy Gold, 64 GB)      4.4    9999   \n",
       "247        realme C33 (Sandy Gold, 32 GB)      4.4    8999   \n",
       "248    realme C11 2021 (Cool Grey, 32 GB)      NaN    7499   \n",
       "\n",
       "                                                imgURL     display  battery   \n",
       "0    https://rukminim2.flixcart.com/image/312/312/x...         LCD     5000  \\\n",
       "1    https://rukminim2.flixcart.com/image/312/312/x...         LCD     5000   \n",
       "2    https://rukminim2.flixcart.com/image/312/312/x...         LCD     5000   \n",
       "3    https://rukminim2.flixcart.com/image/312/312/l...         LCD     5000   \n",
       "4    https://rukminim2.flixcart.com/image/312/312/l...         LCD     5000   \n",
       "..                                                 ...         ...      ...   \n",
       "244  https://rukminim2.flixcart.com/image/312/312/l...  HD+ AMOLED     5000   \n",
       "245  https://rukminim2.flixcart.com/image/312/312/k...         LCD     5000   \n",
       "246  https://rukminim2.flixcart.com/image/312/312/x...         LCD     5000   \n",
       "247  https://rukminim2.flixcart.com/image/312/312/x...         LCD     5000   \n",
       "248  https://rukminim2.flixcart.com/image/312/312/k...         LCD     5000   \n",
       "\n",
       "     storage  ram            processor android_version  primary_camera  \n",
       "0        128    4  UnisocT612Processor              12              50  \n",
       "1        128    4  UnisocT612Processor              12              50  \n",
       "2        128    4  UnisocT612Processor              12              50  \n",
       "3         32    2  UnisocT612Processor              11               8  \n",
       "4         32    3  UnisocT612Processor              11               8  \n",
       "..       ...  ...                  ...             ...             ...  \n",
       "244      128    8       Snapdragon888P              12              50  \n",
       "245       32    3  UnisocT610Processor              11              13  \n",
       "246       64    4  UnisocT612Processor              12              50  \n",
       "247       32    3  UnisocT612Processor              12              50  \n",
       "248       32    2        not mentioned              11               8  \n",
       "\n",
       "[249 rows x 11 columns]"
      ]
     },
     "execution_count": 232,
     "metadata": {},
     "output_type": "execute_result"
    }
   ],
   "source": [
    "df"
   ]
  },
  {
   "cell_type": "code",
   "execution_count": null,
   "metadata": {},
   "outputs": [],
   "source": []
  }
 ],
 "metadata": {
  "kernelspec": {
   "display_name": "Python 3",
   "language": "python",
   "name": "python3"
  },
  "language_info": {
   "codemirror_mode": {
    "name": "ipython",
    "version": 3
   },
   "file_extension": ".py",
   "mimetype": "text/x-python",
   "name": "python",
   "nbconvert_exporter": "python",
   "pygments_lexer": "ipython3",
   "version": "3.11.3"
  },
  "orig_nbformat": 4
 },
 "nbformat": 4,
 "nbformat_minor": 2
}
