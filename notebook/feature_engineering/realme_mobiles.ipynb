{
 "cells": [
  {
   "cell_type": "code",
   "execution_count": 1,
   "metadata": {},
   "outputs": [],
   "source": [
    "import pandas as pd\n",
    "import os\n",
    "import numpy as np\n",
    "from ensure import ensure_annotations\n",
    "import re\n",
    "import warnings\n",
    "warnings.filterwarnings('ignore')"
   ]
  },
  {
   "cell_type": "code",
   "execution_count": 2,
   "metadata": {},
   "outputs": [
    {
     "name": "stdout",
     "output_type": "stream",
     "text": [
      "d:\\vscode_machineLearning\\BEST_PROJECTS\\mobileRecommenderSystem\\notebook\\feature_engineering\n",
      "None\n",
      "d:\\vscode_machineLearning\\BEST_PROJECTS\\mobileRecommenderSystem\n"
     ]
    }
   ],
   "source": [
    "print(os.getcwd())\n",
    "print(os.chdir(r'd:\\vscode_machineLearning\\BEST_PROJECTS\\mobileRecommenderSystem'))\n",
    "print(os.getcwd())"
   ]
  },
  {
   "cell_type": "code",
   "execution_count": 3,
   "metadata": {},
   "outputs": [],
   "source": [
    "df = pd.read_csv(r'data\\raw_data\\realme_mobile_data.csv',index_col=None)"
   ]
  },
  {
   "cell_type": "code",
   "execution_count": 4,
   "metadata": {},
   "outputs": [
    {
     "data": {
      "text/plain": [
       "15"
      ]
     },
     "execution_count": 4,
     "metadata": {},
     "output_type": "execute_result"
    }
   ],
   "source": [
    "df.duplicated().sum()"
   ]
  },
  {
   "cell_type": "code",
   "execution_count": 5,
   "metadata": {},
   "outputs": [],
   "source": [
    "df.drop_duplicates(inplace=True,ignore_index=True)"
   ]
  },
  {
   "cell_type": "code",
   "execution_count": 6,
   "metadata": {},
   "outputs": [],
   "source": [
    "@ensure_annotations\n",
    "def random_values(feature_name:str,total=6):\n",
    "    for i in range(0,total):\n",
    "        index = np.random.randint(df.shape[0])\n",
    "        print(index,':',df[feature_name].iloc[index])\n",
    "            "
   ]
  },
  {
   "cell_type": "code",
   "execution_count": 7,
   "metadata": {},
   "outputs": [],
   "source": [
    "df.rename({'oS_Processor':'os_processor'},inplace=True,axis=1)"
   ]
  },
  {
   "cell_type": "markdown",
   "metadata": {},
   "source": [
    "## Battery"
   ]
  },
  {
   "cell_type": "code",
   "execution_count": 8,
   "metadata": {},
   "outputs": [
    {
     "name": "stdout",
     "output_type": "stream",
     "text": [
      "45 : Battery Capacity5000 mAh\n",
      "41 : Battery Capacity5000 mAh\n",
      "224 : Battery Capacity3765 mAh\n",
      "42 : Battery Capacity5000 mAh\n",
      "87 : Battery Capacity5000 mAh\n",
      "125 : Battery Capacity5000 mAhBattery TypeLithium-ion Polymer\n"
     ]
    }
   ],
   "source": [
    "random_values('battery')"
   ]
  },
  {
   "cell_type": "code",
   "execution_count": 9,
   "metadata": {},
   "outputs": [],
   "source": [
    "def extract_battery(row):\n",
    "    return row.split()[1]"
   ]
  },
  {
   "cell_type": "code",
   "execution_count": 10,
   "metadata": {},
   "outputs": [],
   "source": [
    "df['battery'] = df['battery'].apply(func=extract_battery)"
   ]
  },
  {
   "cell_type": "code",
   "execution_count": 11,
   "metadata": {},
   "outputs": [
    {
     "name": "stdout",
     "output_type": "stream",
     "text": [
      "153 : Capacity4230\n",
      "235 : Capacity5000\n",
      "21 : Capacity5000\n",
      "26 : Capacity5000\n",
      "101 : Capacity4200\n",
      "80 : Capacity6000\n"
     ]
    }
   ],
   "source": [
    "random_values('battery')"
   ]
  },
  {
   "cell_type": "code",
   "execution_count": 12,
   "metadata": {},
   "outputs": [
    {
     "name": "stdout",
     "output_type": "stream",
     "text": [
      "looped till 249 index\n"
     ]
    }
   ],
   "source": [
    "count = 0\n",
    "for i in range(0,len(df['battery'])):\n",
    "    # print(i)\n",
    "    df['battery'][i]= df['battery'].iloc[i].replace('Capacity','')\n",
    "    # print(df['battery'][i])\n",
    "    count+=1\n",
    "print(f'looped till {count} index')"
   ]
  },
  {
   "cell_type": "code",
   "execution_count": 13,
   "metadata": {},
   "outputs": [],
   "source": [
    "df['battery'] = df['battery'].astype('Int16')"
   ]
  },
  {
   "cell_type": "code",
   "execution_count": 14,
   "metadata": {},
   "outputs": [
    {
     "name": "stdout",
     "output_type": "stream",
     "text": [
      "26 : 5000\n",
      "132 : 5000\n",
      "39 : 5000\n",
      "218 : 5000\n",
      "169 : 5000\n",
      "93 : 5000\n"
     ]
    }
   ],
   "source": [
    "random_values('battery')"
   ]
  },
  {
   "cell_type": "markdown",
   "metadata": {},
   "source": [
    "## Storage and Ram"
   ]
  },
  {
   "cell_type": "code",
   "execution_count": 15,
   "metadata": {},
   "outputs": [
    {
     "name": "stdout",
     "output_type": "stream",
     "text": [
      "185 : Internal Storage256 GBRAM12 GBCall Log MemoryYes\n",
      "110 : Internal Storage128 GBRAM8 GBMemory Card Slot TypeDedicated Slot\n",
      "160 : Internal Storage32 GBRAM2 GBExpandable Storage1 TBSupported Memory Card TypeMicroSDMemory Card Slot TypeDedicated Slot\n",
      "68 : Internal Storage64 GBRAM4 GBExpandable Storage256 GBMemory Card Slot TypeDedicated Slot\n",
      "59 : Internal Storage64 GBRAM4 GBExpandable Storage1 TBSupported Memory Card TypeMicroSDMemory Card Slot TypeDedicated Slot\n",
      "146 : Internal Storage128 GBRAM4 GBMemory Card Slot TypeDedicated Slot\n"
     ]
    }
   ],
   "source": [
    "random_values('storage_ram')"
   ]
  },
  {
   "cell_type": "code",
   "execution_count": 16,
   "metadata": {},
   "outputs": [],
   "source": [
    "def extract_storage(row):\n",
    "    storage = row.split()[1]\n",
    "    return storage\n",
    "\n",
    "def extract_ram(row):\n",
    "    ram = row.split()[2]\n",
    "    return ram\n",
    "\n",
    "df['storage'] = df['storage_ram'].apply(func=extract_storage)\n",
    "df['ram'] = df['storage_ram'].apply(func=extract_ram)"
   ]
  },
  {
   "cell_type": "code",
   "execution_count": 17,
   "metadata": {},
   "outputs": [
    {
     "name": "stdout",
     "output_type": "stream",
     "text": [
      "looped till 249 index\n"
     ]
    }
   ],
   "source": [
    "import warnings\n",
    "warnings.filterwarnings('ignore')\n",
    "count = 0\n",
    "for i in range(0,len(df['storage'])):\n",
    "    df['storage'][i]= df['storage'].iloc[i].replace('Storage','')\n",
    "    count+=1\n",
    "print(f'looped till {count} index')"
   ]
  },
  {
   "cell_type": "code",
   "execution_count": 18,
   "metadata": {},
   "outputs": [
    {
     "name": "stdout",
     "output_type": "stream",
     "text": [
      "139 : 32\n",
      "180 : 128\n",
      "210 : 64\n",
      "81 : 128\n",
      "80 : 128\n",
      "159 : 256\n",
      "None\n"
     ]
    }
   ],
   "source": [
    "print(random_values('storage'))\n",
    "df['storage'] = df['storage'].astype('Int16')"
   ]
  },
  {
   "cell_type": "code",
   "execution_count": 19,
   "metadata": {},
   "outputs": [
    {
     "name": "stdout",
     "output_type": "stream",
     "text": [
      "looped till 249 index\n"
     ]
    }
   ],
   "source": [
    "import warnings\n",
    "warnings.filterwarnings('ignore')\n",
    "count = 0\n",
    "for i in range(0,len(df['ram'])):\n",
    "    # df['ram'][i]= df['ram'].iloc[i].replace('MBRAM','')\n",
    "    df['ram'][i]= df['ram'].iloc[i].replace('GBRAM','')\n",
    "    count+=1\n",
    "print(f'looped till {count} index')"
   ]
  },
  {
   "cell_type": "code",
   "execution_count": 20,
   "metadata": {},
   "outputs": [
    {
     "name": "stdout",
     "output_type": "stream",
     "text": [
      "215 : 4\n",
      "72 : 4\n",
      "134 : 6\n",
      "0 : 4\n",
      "40 : 8\n",
      "51 : 6\n"
     ]
    }
   ],
   "source": [
    "random_values('ram')"
   ]
  },
  {
   "cell_type": "code",
   "execution_count": 21,
   "metadata": {},
   "outputs": [],
   "source": [
    "df['ram'] = df['ram'].astype('Int16')\n",
    "df.reset_index(inplace=True)"
   ]
  },
  {
   "cell_type": "markdown",
   "metadata": {},
   "source": [
    "## Processors\n"
   ]
  },
  {
   "cell_type": "code",
   "execution_count": 22,
   "metadata": {},
   "outputs": [],
   "source": [
    "df.rename({'camera':'os_processor','os_processor':'camera'},axis=1,inplace=True)"
   ]
  },
  {
   "cell_type": "code",
   "execution_count": 23,
   "metadata": {},
   "outputs": [],
   "source": [
    "# df.drop(labels=['index'],axis=1,inplace=True)\n",
    "# df.drop(labels=['level_0'],axis=1,inplace=True)"
   ]
  },
  {
   "cell_type": "code",
   "execution_count": 24,
   "metadata": {},
   "outputs": [],
   "source": [
    "# df"
   ]
  },
  {
   "cell_type": "code",
   "execution_count": 25,
   "metadata": {},
   "outputs": [],
   "source": [
    "def extract_processor(text):\n",
    "    pattern = r'.*Processor'\n",
    "    match = re.findall(pattern, text)\n",
    "    if match:\n",
    "        return match[0]\n",
    "    else:\n",
    "        return text\n"
   ]
  },
  {
   "cell_type": "code",
   "execution_count": 26,
   "metadata": {},
   "outputs": [
    {
     "name": "stdout",
     "output_type": "stream",
     "text": [
      "144 : Operating SystemAndroid Oxygen Android 11Processor CoreOcta CorePrimary Clock Speed2.4 GHz\n",
      "191 : Operating SystemAndroid 12Processor TypeUnisoc SC9863A/ Unisoc SC9863A1Processor CoreOcta CorePrimary Clock Speed1.6 GHzOperating Frequency2G GSM: 850/900/1800/1900 MHz, 3G WCDMA: B1/B5/B8, 4G FDD LTE: B1/B3/B5/B8, 4G TD LTE: B38/B40/B41 (2535 - 2655 MHz)\n",
      "122 : Operating SystemAndroid 12Processor TypeMediatek Dimensity 8100Processor CoreOcta CorePrimary Clock Speed2.85 GHzSecondary Clock Speed2 GHzOperating FrequencySim 1: 2G GSM: 850/900/1800/1900 MHz, 3G WCDMA: B1/B2/B4/B5/B6/B8/B19, 4G LTE TDD: B34/B38/B39/B40/B41(2515 - 2675 MHz), 4G LTE FDD: B1/B2/B3/B4/B5/B7/B8/B18/B19/B26/B28A, 5G NR_NSA: n77/n78/n40/n41 (2496 - 2690 MHz)/B1/B3/B5/B8, 5G NR_SA: n78/n40/n41 (2496 - 2690 MHz)/B1/B3/B5/B8/B28A | Sim 2: 2G GSM: 850/900/1800/1900 MHz, 3G WCDMA: B1/B2/B4/B5/B6/B8/B19, 4G LTE TDD: B34/B38/B39/B40/B41(2515 - 2675 MHz), 4G LTE FDD: B1/B2/B3/B4/B5/B7/B8/B18/B19/B26/B28A, 5G NR_NSA: n77/n78/n40/n41 (2496 - 2690 MHz)/B1/B3/B5/B8, 5G NR_SA: n78/n40/n41 (2496 - 2690 MHz)/B1/B3/B5/B8/B28A\n",
      "41 : Operating SystemAndroid 11Processor TypeMediatek Helio G96Processor CoreOcta CorePrimary Clock Speed2.05 GHzSecondary Clock Speed2 GHzOperating Frequency2G GSM: 850/900/1800/1900 MHz, 3G WCDMA: B1/B5/B8, 4G FDD-LTE: B1/B3/B5/B8, 4G TD-LTE: B38/B40/B41 (2535-2655 MHz)\n",
      "32 : Operating SystemAndroid 12Processor TypeMediatek Dimensity 810 5GProcessor CoreOcta CorePrimary Clock Speed2.4 GHzSecondary Clock Speed2 GHzOperating Frequency2G GSM: 850/900/1800/1900 MHz, 3G WCDMA: B1/B2/B4/B5/B6/B8/B19, 4G FDD LTE: B1/B2/B3/B4/B5/B7/B8/B19/B20/B28A, 4G TD LTE: B34/B38/B39/B40/B41(2515-2675 MHz), 5G NR SA: n1/n5/n8/n28A/n41/n78, 5G NR NSA: n41/n77/n78\n",
      "133 : Operating SystemAndroid 12Processor TypeDimensity 920 5G ProcessorProcessor CoreOcta CorePrimary Clock Speed2.5 GHz\n"
     ]
    }
   ],
   "source": [
    "random_values('os_processor')"
   ]
  },
  {
   "cell_type": "code",
   "execution_count": 27,
   "metadata": {},
   "outputs": [],
   "source": [
    "df['processors'] = df['os_processor'].apply(func=extract_processor)"
   ]
  },
  {
   "cell_type": "code",
   "execution_count": 28,
   "metadata": {},
   "outputs": [
    {
     "name": "stdout",
     "output_type": "stream",
     "text": [
      "11 : Operating SystemAndroid 13Processor TypeHelio G88Processor\n",
      "237 : Operating SystemAndroid 12Processor TypeMediatek Dimensity 920Processor\n",
      "190 : Operating SystemAndroid Pie 9Processor TypeQualcomm Snapdragon 855 PlusProcessor\n",
      "241 : Operating SystemAndroid 11Processor TypeMediaTek Helio G95Processor\n",
      "114 : Operating SystemAndroid 12Processor TypeMediatek Dimensity 8100Processor\n",
      "155 : Operating SystemAndroid Pie 9Processor TypeMediaTek Helio P60 Octa Core 2.0 GHzProcessor\n"
     ]
    }
   ],
   "source": [
    "random_values('processors')"
   ]
  },
  {
   "cell_type": "markdown",
   "metadata": {},
   "source": [
    "## Android Version"
   ]
  },
  {
   "cell_type": "code",
   "execution_count": 29,
   "metadata": {},
   "outputs": [],
   "source": [
    "def android_version(text_):\n",
    "    pattern=r'^\\d+[Processor]|\\d+[GProcessor]|\\d+[.Processor]'\n",
    "    found = re.findall(pattern,text_)\n",
    "    if found:\n",
    "        return found[0]\n",
    "    else:\n",
    "        return np.nan"
   ]
  },
  {
   "cell_type": "code",
   "execution_count": 30,
   "metadata": {},
   "outputs": [],
   "source": [
    "df['android_version'] = df['processors'].apply(android_version)"
   ]
  },
  {
   "cell_type": "code",
   "execution_count": 31,
   "metadata": {},
   "outputs": [],
   "source": [
    "for Index,i in enumerate(df['android_version']):\n",
    "    # print(i)\n",
    "    i = str(i).replace('P','')\n",
    "    i = str(i).replace('.','')\n",
    "    df['android_version'][Index] = i"
   ]
  },
  {
   "cell_type": "code",
   "execution_count": 32,
   "metadata": {},
   "outputs": [
    {
     "name": "stdout",
     "output_type": "stream",
     "text": [
      "172 : 10\n",
      "80 : 11\n",
      "192 : 9\n",
      "195 : 12\n",
      "154 : 9\n",
      "68 : 11\n"
     ]
    }
   ],
   "source": [
    "random_values('android_version')"
   ]
  },
  {
   "cell_type": "markdown",
   "metadata": {},
   "source": [
    "## Processors"
   ]
  },
  {
   "cell_type": "code",
   "execution_count": 33,
   "metadata": {},
   "outputs": [],
   "source": [
    "def processor(text):\n",
    "    pattern=r'(?<=Type).*'\n",
    "    search = re.search(pattern,text)\n",
    "    if search != None:\n",
    "        return ' '.join(re.findall(pattern,text))\n",
    "    else:\n",
    "        return 'not montioned'"
   ]
  },
  {
   "cell_type": "code",
   "execution_count": 34,
   "metadata": {},
   "outputs": [],
   "source": [
    "df['processors'] = df['processors'].apply(processor)"
   ]
  },
  {
   "cell_type": "code",
   "execution_count": 35,
   "metadata": {},
   "outputs": [
    {
     "name": "stdout",
     "output_type": "stream",
     "text": [
      "121 : Mediatek Helio G35Processor\n",
      "209 : MediaTek Helio G90TProcessor\n",
      "238 : Mediatek Dimensity 920Processor\n",
      "151 : Qualcomm Snapdragon 870Processor\n",
      "217 : Qualcomm Snapdragon 8 Gen 1 Mobile PlatformProcessor\n",
      "182 : not montioned\n"
     ]
    }
   ],
   "source": [
    "random_values('processors')"
   ]
  },
  {
   "cell_type": "markdown",
   "metadata": {},
   "source": [
    "## Remove columns\n",
    "1) storage_ram\n",
    "2) os_processor\n"
   ]
  },
  {
   "cell_type": "code",
   "execution_count": 36,
   "metadata": {},
   "outputs": [],
   "source": [
    "df = df.drop(columns=['os_processor','storage_ram'])"
   ]
  },
  {
   "cell_type": "code",
   "execution_count": 37,
   "metadata": {},
   "outputs": [],
   "source": [
    "df.rename({'processors':'processor'},axis=1,inplace=True)"
   ]
  },
  {
   "cell_type": "markdown",
   "metadata": {},
   "source": [
    "## Price"
   ]
  },
  {
   "cell_type": "code",
   "execution_count": 38,
   "metadata": {},
   "outputs": [],
   "source": [
    "for Index,i in enumerate(df['price']):\n",
    "    i = str(i).replace('₹','')\n",
    "    i = str(i).replace(',','')\n",
    "    df['price'][Index] = i"
   ]
  },
  {
   "cell_type": "code",
   "execution_count": 39,
   "metadata": {},
   "outputs": [],
   "source": [
    "df['price'] = df['price'].astype('Int16')"
   ]
  },
  {
   "cell_type": "markdown",
   "metadata": {},
   "source": [
    "## Processor"
   ]
  },
  {
   "cell_type": "code",
   "execution_count": 40,
   "metadata": {},
   "outputs": [
    {
     "name": "stdout",
     "output_type": "stream",
     "text": [
      "0 : Unisoc T612Processor\n",
      "78 : Mediatek Dimensity 810Processor\n",
      "16 : Helio G88Processor\n",
      "15 : Helio G88Processor\n",
      "80 : MediaTek Helio G85Processor\n",
      "216 : Qualcomm Snapdragon 8 Gen 1 Mobile PlatformProcessor\n"
     ]
    }
   ],
   "source": [
    "random_values('processor')"
   ]
  },
  {
   "cell_type": "code",
   "execution_count": 41,
   "metadata": {},
   "outputs": [],
   "source": [
    "def processor_extract(text):\n",
    "    splitted_sentence = text.split()\n",
    "    if 'Mediatek' and 'Helio' in splitted_sentence:\n",
    "        pattern = r'\\d+[Processor]|\\d+'\n",
    "        string = ' '.join(splitted_sentence)\n",
    "        match = re.search(pattern,string)\n",
    "        if match == None:\n",
    "            return 'Heilo'+str(splitted_sentence[2])\n",
    "        else:\n",
    "            find = re.findall(pattern,string)\n",
    "            return 'Heilo'+''.join(find)\n",
    "\n",
    "\n",
    "    elif 'Mediatek' and 'Dimensity' in splitted_sentence:\n",
    "        pattern = r'(\\d+)+[Processor]'\n",
    "        string = ' '.join(splitted_sentence)\n",
    "        match = re.search(pattern,string)\n",
    "        if match == None:\n",
    "            if 'Dimensity' == str(splitted_sentence[1]):\n",
    "                return 'Dimensity'+str(splitted_sentence[2])\n",
    "            else:\n",
    "                return 'Dimensity'+str(splitted_sentence[1])\n",
    "        \n",
    "        else:\n",
    "            find = re.findall(pattern,string)\n",
    "            return 'Dimensity'+ ''.join(find)\n",
    "\n",
    "    elif 'Snapdragon' and 'Gen' and '4' in splitted_sentence:\n",
    "        return 'Gen4'   \n",
    "\n",
    "    elif 'Snapdragon' and 'Gen' and '8' in splitted_sentence:         \n",
    "        return 'Gen8'\n",
    "    \n",
    "    elif 'Unisoc' in splitted_sentence:\n",
    "        \n",
    "        if 'Unisoc' and 'Tiger' in splitted_sentence:\n",
    "            pattern = r'[T]\\d[Processor]'\n",
    "            string = ' '.join(splitted_sentence)\n",
    "            match = re.findall(pattern,string)\n",
    "            return 'UnisocTiger' + ''.join(splitted_sentence[2])\n",
    "        \n",
    "        elif 'Unisoc' == splitted_sentence[0]:\n",
    "            pattern = r'[T]\\d.'\n",
    "            string = ' '.join(splitted_sentence)\n",
    "            match = re.findall(pattern,string)\n",
    "            return 'Unisoc' + ''.join(splitted_sentence[1])\n",
    "\n",
    "        \n",
    "        pattern = r'T(\\d+)Processor|\\d+'\n",
    "        string = ' '.join(splitted_sentence)\n",
    "        match = re.findall(pattern,string)\n",
    "        return 'Unisoc'+' '.join(match)\n",
    "    \n",
    "\n",
    "    elif 'Snapdragon' in splitted_sentence:\n",
    "        pattern = r'\\d+[Processor]'\n",
    "        if 'Gen' and '4' and '8' not in splitted_sentence:\n",
    "            string = ' '.join(splitted_sentence)\n",
    "            match = re.search(pattern,string)\n",
    "            if match == None:\n",
    "                if 'Snapdragon' == str(splitted_sentence[1]):\n",
    "                    return 'Snapdragon'+str(splitted_sentence[2])\n",
    "                else:\n",
    "                    return 'Snapdragon'+str(splitted_sentence[1])\n",
    "            else:\n",
    "                find = re.findall(pattern,string)\n",
    "                return 'Snapdragon'+''.join(find)\n",
    "    \n",
    "    elif 'MediaTek' == splitted_sentence[0]:\n",
    "        pattern = r'[P]\\d.'\n",
    "        string = ' '.join(splitted_sentence)\n",
    "        match = re.findall(pattern,string)\n",
    "        return 'MediaTek' + ' '.join(match)\n",
    "\n",
    "    else:\n",
    "        return 'not mentioned'      \n"
   ]
  },
  {
   "cell_type": "code",
   "execution_count": 42,
   "metadata": {},
   "outputs": [],
   "source": [
    "df['processor']=df['processor'].apply(processor_extract)"
   ]
  },
  {
   "cell_type": "code",
   "execution_count": 43,
   "metadata": {},
   "outputs": [
    {
     "name": "stdout",
     "output_type": "stream",
     "text": [
      "179 : not mentioned\n",
      "45 : UnisocSC9863A/\n",
      "197 : Snapdragon450\n",
      "242 : Snapdragon888P\n",
      "39 : Dimensity1080\n",
      "162 : Snapdragon665\n",
      "175 : Snapdragon450\n",
      "157 : Gen8\n",
      "81 : Snapdragon680\n",
      "63 : not mentioned\n"
     ]
    }
   ],
   "source": [
    "random_values('processor',10)"
   ]
  },
  {
   "cell_type": "markdown",
   "metadata": {},
   "source": [
    "## camera"
   ]
  },
  {
   "cell_type": "code",
   "execution_count": 44,
   "metadata": {},
   "outputs": [],
   "source": [
    "def camera_extract(row):\n",
    "    row_splitted = row.split()\n",
    "    pattern = r'\\d+MP'\n",
    "    words = ' '.join(row_splitted)\n",
    "    find_cam = re.findall(pattern,words)\n",
    "    return ' '.join(find_cam)\n",
    "\n",
    "df['camera'] = df['camera'].apply(camera_extract)"
   ]
  },
  {
   "cell_type": "code",
   "execution_count": 47,
   "metadata": {},
   "outputs": [
    {
     "name": "stdout",
     "output_type": "stream",
     "text": [
      "47 : 108MP 8MP 2MP 16MP 16MP\n",
      "25 : 108MP 2MP 2MP 16MP 16MP\n",
      "127 : 50MP 2MP 2MP 8MP\n",
      "66 : 8MP 8MP 5MP 5MP\n",
      "105 : 8MP 8MP 5MP 5MP\n",
      "179 : 64MP\n"
     ]
    }
   ],
   "source": [
    "random_values(\"camera\")"
   ]
  },
  {
   "cell_type": "code",
   "execution_count": 48,
   "metadata": {},
   "outputs": [],
   "source": [
    "def remove_MP(text):\n",
    "    return text.replace('MP','')"
   ]
  },
  {
   "cell_type": "code",
   "execution_count": 50,
   "metadata": {},
   "outputs": [],
   "source": [
    "# df['primary_camera'] = df['primary_camera'].apply(remove_MP)\n",
    "# df['primary_camera'] = df['primary_camera'].astype('Int16')"
   ]
  },
  {
   "cell_type": "code",
   "execution_count": 53,
   "metadata": {},
   "outputs": [
    {
     "name": "stdout",
     "output_type": "stream",
     "text": [
      "20 : 108MP 2MP 2MP 16MP 16MP\n",
      "125 : 200MP 8MP 2MP 200MP 8MP 2MP 32MP 32MP\n",
      "76 : 50MP\n",
      "95 : 64MP 8MP 2MP 2MP 16MP 16MP\n",
      "224 : 48MP 5MP 16MP\n",
      "107 : 108MP 2MP 108MP 2MP 108MP 8MP 8MP\n"
     ]
    }
   ],
   "source": [
    "random_values('camera')"
   ]
  },
  {
   "cell_type": "markdown",
   "metadata": {},
   "source": [
    "## Display"
   ]
  },
  {
   "cell_type": "code",
   "execution_count": 54,
   "metadata": {},
   "outputs": [],
   "source": [
    "def display_extract(row):\n",
    "    split_row = row.split()\n",
    "    if 'LCD' in split_row:\n",
    "        if 'IPS' in split_row and 'LCD' in split_row:\n",
    "            return 'IPS LCD'\n",
    "        return 'LCD'\n",
    "    \n",
    "    if 'OLED' in split_row:\n",
    "        return 'OLED'\n",
    "    \n",
    "    if 'TFT' in split_row:\n",
    "        return 'TFT'\n",
    "    \n",
    "    if 'LED' in split_row:\n",
    "        return 'LED'\n",
    "\n",
    "    # if 'Adreno' in split_row:\n",
    "    #     return 'Adreno'\n",
    "    if 'AMOLED' in split_row:\n",
    "        if 'HD+' in split_row and 'AMOLED' in split_row:\n",
    "            return 'HD+ AMOLED'\n",
    "        return 'AMOLED'\n",
    "    \n",
    "    return 'other'\n",
    "\n",
    "df['display'] = df['display'].apply(display_extract)"
   ]
  },
  {
   "cell_type": "code",
   "execution_count": 55,
   "metadata": {},
   "outputs": [
    {
     "name": "stdout",
     "output_type": "stream",
     "text": [
      "124 : other\n",
      "229 : LCD\n",
      "101 : other\n",
      "233 : other\n",
      "39 : HD+ AMOLED\n",
      "169 : other\n"
     ]
    }
   ],
   "source": [
    "random_values('display')"
   ]
  },
  {
   "cell_type": "markdown",
   "metadata": {},
   "source": [
    "## network\n",
    "removing network"
   ]
  },
  {
   "cell_type": "code",
   "execution_count": 60,
   "metadata": {},
   "outputs": [
    {
     "name": "stdout",
     "output_type": "stream",
     "text": [
      "137 : Network Type5G, 4G VOLTE, 4G, 3G, 2GSupported Networks5G, 4G VoLTE, 4G LTE, WCDMA, GSMInternet Connectivity5G, 4G, 3G, EDGE, GPRS, Wi-Fi3GYesGPRSYesMicro USB PortNoMicro USB VersionNoBluetooth SupportYesBluetooth Versionv5.2Wi-FiYesWi-Fi Version802.11 a/b/g/n (2.4 GHz | 5.1 GHz | 5.8 GHz), Wi-Fi 6 (802.11 ax), Wi-Fi 5 (802.11 ac)Wi-Fi HotspotYesNFCNoInfraredNoUSB ConnectivityYesEDGEYesAudio JackType CMap SupportGoogle MapsGPS SupportYes\n",
      "204 : Network Type4G VOLTE, 4G, 3G, 2GSupported Networks4G VoLTE, 4G LTE, WCDMA, GSMInternet Connectivity4G, 3G, Wi-Fi, EDGE, GPRSGPRSYesBluetooth SupportYesBluetooth Versionv5.0Wi-FiYesWi-Fi Version802.11a/b/g/n/acWi-Fi HotspotYesNFCNoUSB ConnectivityYesAudio Jack3.5mmMap SupportGoogle MapsGPS SupportYes\n",
      "12 : Network Type2G, 3G, 4GSupported Networks4G LTE, GSM, WCDMAInternet Connectivity4G, 3G, EDGE, GPRS, Wi-Fi3GYesGPRSYesBluetooth SupportYesBluetooth Versionv5.2Wi-FiYesWi-Fi VersionWi-Fi 5 (a/b/g/n/ac) (2.4 GHz | 5 GHz)Wi-Fi HotspotYesNFCNoInfraredNoUSB ConnectivityYesEDGEYesAudio Jack3.5mmGPS SupportYes\n",
      "37 : Network Type5G, 4G, 3G, 2GSupported Networks5G, 4G LTE, WCDMA, GSMInternet Connectivity5G, 4G, 3G, EDGE, GPRS, Wi-FiGPRSYesBluetooth SupportYesBluetooth Versionv5.2Wi-Fi VersionIEEE 802.11 a/b/g/n/ac (WiFi 4 | WiFi 5) (2.4 GHz | 5 GHz)Wi-Fi HotspotYesNFCNoInfraredNoUSB ConnectivityYesAudio Jack3.5mmGPS SupportYes\n",
      "8 : Network Type4G VOLTE, 4G, 3G, 2GSupported Networks4G VoLTE, 4G LTE, WCDMA, GSMInternet Connectivity4G, 3G, EDGE, Wi-FiPre-installed BrowserGoogle ChromeBluetooth SupportYesBluetooth Versionv5.0Wi-Fi Version802.11 b/g/n (2.4 GHz)Wi-Fi HotspotYesNFCNoUSB ConnectivityYesAudio Jack3.5mmMap SupportGoogle MapsGPS SupportYes\n",
      "221 : Network Type3G, 4G VOLTE, 4G, 2GSupported NetworksGSM, WCDMA, 4G VoLTE, 4G LTEInternet Connectivity4G, 3G, EDGE, GPRS3G SpeedHSPA: UL - 11.5 Mbps, DL - 42 Mbps, HSPA+GPRSYesMicro USB PortYesBluetooth SupportYesBluetooth Version4.2USB ConnectivityYesEDGEYesAudio Jack3.5mmMap SupportGoogle MapsGPS SupportYes\n"
     ]
    }
   ],
   "source": [
    "random_values('network')\n",
    "df = df.drop('network',axis=1)"
   ]
  },
  {
   "cell_type": "code",
   "execution_count": 61,
   "metadata": {},
   "outputs": [],
   "source": [
    "# df = df.drop(labels=['index'],axis=1)"
   ]
  },
  {
   "cell_type": "code",
   "execution_count": 62,
   "metadata": {},
   "outputs": [
    {
     "data": {
      "text/html": [
       "<div>\n",
       "<style scoped>\n",
       "    .dataframe tbody tr th:only-of-type {\n",
       "        vertical-align: middle;\n",
       "    }\n",
       "\n",
       "    .dataframe tbody tr th {\n",
       "        vertical-align: top;\n",
       "    }\n",
       "\n",
       "    .dataframe thead th {\n",
       "        text-align: right;\n",
       "    }\n",
       "</style>\n",
       "<table border=\"1\" class=\"dataframe\">\n",
       "  <thead>\n",
       "    <tr style=\"text-align: right;\">\n",
       "      <th></th>\n",
       "      <th>index</th>\n",
       "      <th>name</th>\n",
       "      <th>ratings</th>\n",
       "      <th>price</th>\n",
       "      <th>imgURL</th>\n",
       "      <th>camera</th>\n",
       "      <th>display</th>\n",
       "      <th>battery</th>\n",
       "      <th>storage</th>\n",
       "      <th>ram</th>\n",
       "      <th>processor</th>\n",
       "      <th>android_version</th>\n",
       "    </tr>\n",
       "  </thead>\n",
       "  <tbody>\n",
       "    <tr>\n",
       "      <th>0</th>\n",
       "      <td>0</td>\n",
       "      <td>realme C33 2023 (Sandy Gold, 128 GB)</td>\n",
       "      <td>4.4</td>\n",
       "      <td>10499</td>\n",
       "      <td>https://rukminim2.flixcart.com/image/312/312/x...</td>\n",
       "      <td>50MP 3MP 50MP 5MP 3MP 50MP 5MP 5MP</td>\n",
       "      <td>LCD</td>\n",
       "      <td>5000</td>\n",
       "      <td>128</td>\n",
       "      <td>4</td>\n",
       "      <td>UnisocT612Processor</td>\n",
       "      <td>12</td>\n",
       "    </tr>\n",
       "    <tr>\n",
       "      <th>1</th>\n",
       "      <td>1</td>\n",
       "      <td>realme C33 2023 (Aqua Blue, 128 GB)</td>\n",
       "      <td>4.4</td>\n",
       "      <td>10499</td>\n",
       "      <td>https://rukminim2.flixcart.com/image/312/312/x...</td>\n",
       "      <td>50MP 3MP 50MP 5MP 3MP 50MP 5MP 5MP</td>\n",
       "      <td>LCD</td>\n",
       "      <td>5000</td>\n",
       "      <td>128</td>\n",
       "      <td>4</td>\n",
       "      <td>UnisocT612Processor</td>\n",
       "      <td>12</td>\n",
       "    </tr>\n",
       "    <tr>\n",
       "      <th>2</th>\n",
       "      <td>2</td>\n",
       "      <td>realme C33 2023 (Night Sea, 128 GB)</td>\n",
       "      <td>4.4</td>\n",
       "      <td>10499</td>\n",
       "      <td>https://rukminim2.flixcart.com/image/312/312/x...</td>\n",
       "      <td>50MP 3MP 50MP 5MP 3MP 50MP 5MP 5MP</td>\n",
       "      <td>LCD</td>\n",
       "      <td>5000</td>\n",
       "      <td>128</td>\n",
       "      <td>4</td>\n",
       "      <td>UnisocT612Processor</td>\n",
       "      <td>12</td>\n",
       "    </tr>\n",
       "    <tr>\n",
       "      <th>3</th>\n",
       "      <td>3</td>\n",
       "      <td>realme C30 (Denim Black, 32 GB)</td>\n",
       "      <td>4.2</td>\n",
       "      <td>5999</td>\n",
       "      <td>https://rukminim2.flixcart.com/image/312/312/l...</td>\n",
       "      <td>8MP 8MP 5MP 5MP</td>\n",
       "      <td>LCD</td>\n",
       "      <td>5000</td>\n",
       "      <td>32</td>\n",
       "      <td>2</td>\n",
       "      <td>UnisocT612Processor</td>\n",
       "      <td>11</td>\n",
       "    </tr>\n",
       "    <tr>\n",
       "      <th>4</th>\n",
       "      <td>4</td>\n",
       "      <td>realme C30 (Bamboo Green, 32 GB)</td>\n",
       "      <td>4.1</td>\n",
       "      <td>6499</td>\n",
       "      <td>https://rukminim2.flixcart.com/image/312/312/l...</td>\n",
       "      <td>8MP 8MP 5MP 5MP</td>\n",
       "      <td>LCD</td>\n",
       "      <td>5000</td>\n",
       "      <td>32</td>\n",
       "      <td>3</td>\n",
       "      <td>UnisocT612Processor</td>\n",
       "      <td>11</td>\n",
       "    </tr>\n",
       "    <tr>\n",
       "      <th>...</th>\n",
       "      <td>...</td>\n",
       "      <td>...</td>\n",
       "      <td>...</td>\n",
       "      <td>...</td>\n",
       "      <td>...</td>\n",
       "      <td>...</td>\n",
       "      <td>...</td>\n",
       "      <td>...</td>\n",
       "      <td>...</td>\n",
       "      <td>...</td>\n",
       "      <td>...</td>\n",
       "      <td>...</td>\n",
       "    </tr>\n",
       "    <tr>\n",
       "      <th>244</th>\n",
       "      <td>244</td>\n",
       "      <td>realme GT 2 (Paper Green, 128 GB)</td>\n",
       "      <td>4.6</td>\n",
       "      <td>-30537</td>\n",
       "      <td>https://rukminim2.flixcart.com/image/312/312/l...</td>\n",
       "      <td>50MP 8MP 2MP 50MP 8MP 2MP 50MP 16MP 16MP</td>\n",
       "      <td>HD+ AMOLED</td>\n",
       "      <td>5000</td>\n",
       "      <td>128</td>\n",
       "      <td>8</td>\n",
       "      <td>Snapdragon888P</td>\n",
       "      <td>12</td>\n",
       "    </tr>\n",
       "    <tr>\n",
       "      <th>245</th>\n",
       "      <td>245</td>\n",
       "      <td>realme C21Y (Cross Black, 32 GB)</td>\n",
       "      <td>4.4</td>\n",
       "      <td>7499</td>\n",
       "      <td>https://rukminim2.flixcart.com/image/312/312/k...</td>\n",
       "      <td>13MP 2MP 2MP 13MP 2MP 2MP 5MP 5MP</td>\n",
       "      <td>LCD</td>\n",
       "      <td>5000</td>\n",
       "      <td>32</td>\n",
       "      <td>3</td>\n",
       "      <td>UnisocT610Processor</td>\n",
       "      <td>11</td>\n",
       "    </tr>\n",
       "    <tr>\n",
       "      <th>246</th>\n",
       "      <td>246</td>\n",
       "      <td>realme C33 (Sandy Gold, 64 GB)</td>\n",
       "      <td>4.4</td>\n",
       "      <td>9999</td>\n",
       "      <td>https://rukminim2.flixcart.com/image/312/312/x...</td>\n",
       "      <td>50MP 3MP 50MP 5MP 3MP 50MP 5MP 5MP</td>\n",
       "      <td>LCD</td>\n",
       "      <td>5000</td>\n",
       "      <td>64</td>\n",
       "      <td>4</td>\n",
       "      <td>UnisocT612Processor</td>\n",
       "      <td>12</td>\n",
       "    </tr>\n",
       "    <tr>\n",
       "      <th>247</th>\n",
       "      <td>247</td>\n",
       "      <td>realme C33 (Sandy Gold, 32 GB)</td>\n",
       "      <td>4.4</td>\n",
       "      <td>8999</td>\n",
       "      <td>https://rukminim2.flixcart.com/image/312/312/x...</td>\n",
       "      <td>50MP 3MP 50MP 5MP 3MP 50MP 5MP 5MP</td>\n",
       "      <td>LCD</td>\n",
       "      <td>5000</td>\n",
       "      <td>32</td>\n",
       "      <td>3</td>\n",
       "      <td>UnisocT612Processor</td>\n",
       "      <td>12</td>\n",
       "    </tr>\n",
       "    <tr>\n",
       "      <th>248</th>\n",
       "      <td>248</td>\n",
       "      <td>realme C11 2021 (Cool Grey, 32 GB)</td>\n",
       "      <td>NaN</td>\n",
       "      <td>7499</td>\n",
       "      <td>https://rukminim2.flixcart.com/image/312/312/k...</td>\n",
       "      <td>8MP 8MP 5MP 5MP</td>\n",
       "      <td>LCD</td>\n",
       "      <td>5000</td>\n",
       "      <td>32</td>\n",
       "      <td>2</td>\n",
       "      <td>not mentioned</td>\n",
       "      <td>11</td>\n",
       "    </tr>\n",
       "  </tbody>\n",
       "</table>\n",
       "<p>249 rows × 12 columns</p>\n",
       "</div>"
      ],
      "text/plain": [
       "     index                                  name  ratings   price   \n",
       "0        0  realme C33 2023 (Sandy Gold, 128 GB)      4.4   10499  \\\n",
       "1        1   realme C33 2023 (Aqua Blue, 128 GB)      4.4   10499   \n",
       "2        2   realme C33 2023 (Night Sea, 128 GB)      4.4   10499   \n",
       "3        3       realme C30 (Denim Black, 32 GB)      4.2    5999   \n",
       "4        4      realme C30 (Bamboo Green, 32 GB)      4.1    6499   \n",
       "..     ...                                   ...      ...     ...   \n",
       "244    244     realme GT 2 (Paper Green, 128 GB)      4.6  -30537   \n",
       "245    245      realme C21Y (Cross Black, 32 GB)      4.4    7499   \n",
       "246    246        realme C33 (Sandy Gold, 64 GB)      4.4    9999   \n",
       "247    247        realme C33 (Sandy Gold, 32 GB)      4.4    8999   \n",
       "248    248    realme C11 2021 (Cool Grey, 32 GB)      NaN    7499   \n",
       "\n",
       "                                                imgURL   \n",
       "0    https://rukminim2.flixcart.com/image/312/312/x...  \\\n",
       "1    https://rukminim2.flixcart.com/image/312/312/x...   \n",
       "2    https://rukminim2.flixcart.com/image/312/312/x...   \n",
       "3    https://rukminim2.flixcart.com/image/312/312/l...   \n",
       "4    https://rukminim2.flixcart.com/image/312/312/l...   \n",
       "..                                                 ...   \n",
       "244  https://rukminim2.flixcart.com/image/312/312/l...   \n",
       "245  https://rukminim2.flixcart.com/image/312/312/k...   \n",
       "246  https://rukminim2.flixcart.com/image/312/312/x...   \n",
       "247  https://rukminim2.flixcart.com/image/312/312/x...   \n",
       "248  https://rukminim2.flixcart.com/image/312/312/k...   \n",
       "\n",
       "                                       camera     display  battery  storage   \n",
       "0          50MP 3MP 50MP 5MP 3MP 50MP 5MP 5MP         LCD     5000      128  \\\n",
       "1          50MP 3MP 50MP 5MP 3MP 50MP 5MP 5MP         LCD     5000      128   \n",
       "2          50MP 3MP 50MP 5MP 3MP 50MP 5MP 5MP         LCD     5000      128   \n",
       "3                             8MP 8MP 5MP 5MP         LCD     5000       32   \n",
       "4                             8MP 8MP 5MP 5MP         LCD     5000       32   \n",
       "..                                        ...         ...      ...      ...   \n",
       "244  50MP 8MP 2MP 50MP 8MP 2MP 50MP 16MP 16MP  HD+ AMOLED     5000      128   \n",
       "245         13MP 2MP 2MP 13MP 2MP 2MP 5MP 5MP         LCD     5000       32   \n",
       "246        50MP 3MP 50MP 5MP 3MP 50MP 5MP 5MP         LCD     5000       64   \n",
       "247        50MP 3MP 50MP 5MP 3MP 50MP 5MP 5MP         LCD     5000       32   \n",
       "248                           8MP 8MP 5MP 5MP         LCD     5000       32   \n",
       "\n",
       "     ram            processor android_version  \n",
       "0      4  UnisocT612Processor              12  \n",
       "1      4  UnisocT612Processor              12  \n",
       "2      4  UnisocT612Processor              12  \n",
       "3      2  UnisocT612Processor              11  \n",
       "4      3  UnisocT612Processor              11  \n",
       "..   ...                  ...             ...  \n",
       "244    8       Snapdragon888P              12  \n",
       "245    3  UnisocT610Processor              11  \n",
       "246    4  UnisocT612Processor              12  \n",
       "247    3  UnisocT612Processor              12  \n",
       "248    2        not mentioned              11  \n",
       "\n",
       "[249 rows x 12 columns]"
      ]
     },
     "execution_count": 62,
     "metadata": {},
     "output_type": "execute_result"
    }
   ],
   "source": [
    "df"
   ]
  },
  {
   "cell_type": "code",
   "execution_count": 59,
   "metadata": {},
   "outputs": [],
   "source": [
    "df.to_csv(path_or_buf='data\\cleaned_dataset/realme_cleaned_data.csv')"
   ]
  },
  {
   "cell_type": "code",
   "execution_count": null,
   "metadata": {},
   "outputs": [],
   "source": []
  }
 ],
 "metadata": {
  "kernelspec": {
   "display_name": "Python 3",
   "language": "python",
   "name": "python3"
  },
  "language_info": {
   "codemirror_mode": {
    "name": "ipython",
    "version": 3
   },
   "file_extension": ".py",
   "mimetype": "text/x-python",
   "name": "python",
   "nbconvert_exporter": "python",
   "pygments_lexer": "ipython3",
   "version": "3.11.3"
  },
  "orig_nbformat": 4
 },
 "nbformat": 4,
 "nbformat_minor": 2
}
