{
 "cells": [
  {
   "cell_type": "code",
   "execution_count": 46,
   "metadata": {},
   "outputs": [],
   "source": [
    "import pandas as pd\n",
    "import os\n",
    "import numpy as np\n",
    "from ensure import ensure_annotations\n",
    "import re\n",
    "import warnings\n",
    "warnings.filterwarnings('ignore')"
   ]
  },
  {
   "cell_type": "code",
   "execution_count": 47,
   "metadata": {},
   "outputs": [
    {
     "name": "stdout",
     "output_type": "stream",
     "text": [
      "d:\\vscode_machineLearning\\BEST_PROJECTS\\mobileRecommenderSystem\n",
      "None\n",
      "d:\\vscode_machineLearning\\BEST_PROJECTS\\mobileRecommenderSystem\n"
     ]
    }
   ],
   "source": [
    "print(os.getcwd())\n",
    "print(os.chdir(r'd:\\vscode_machineLearning\\BEST_PROJECTS\\mobileRecommenderSystem'))\n",
    "print(os.getcwd())"
   ]
  },
  {
   "cell_type": "code",
   "execution_count": 48,
   "metadata": {},
   "outputs": [],
   "source": [
    "df = pd.read_csv(r'data\\raw_data\\apple_mobile_new_data.csv',index_col=None)"
   ]
  },
  {
   "cell_type": "code",
   "execution_count": 49,
   "metadata": {},
   "outputs": [],
   "source": [
    "df.drop_duplicates(inplace=True,ignore_index=True)"
   ]
  },
  {
   "cell_type": "markdown",
   "metadata": {},
   "source": [
    "## Battery"
   ]
  },
  {
   "cell_type": "code",
   "execution_count": 50,
   "metadata": {},
   "outputs": [],
   "source": [
    "df = df.drop(labels=['battery'],axis=1)"
   ]
  },
  {
   "cell_type": "markdown",
   "metadata": {},
   "source": [
    "## Storage "
   ]
  },
  {
   "cell_type": "code",
   "execution_count": 51,
   "metadata": {},
   "outputs": [],
   "source": [
    "def extract_storage(row):\n",
    "    storage = row.split()[1]\n",
    "    return storage\n",
    "df['storage'] = df['storage_ram'].apply(func=extract_storage)"
   ]
  },
  {
   "cell_type": "code",
   "execution_count": 52,
   "metadata": {},
   "outputs": [
    {
     "name": "stdout",
     "output_type": "stream",
     "text": [
      "looped till 424 index\n"
     ]
    }
   ],
   "source": [
    "import warnings\n",
    "warnings.filterwarnings('ignore')\n",
    "count = 0\n",
    "for i in range(0,len(df['storage'])):\n",
    "    df['storage'][i]= df['storage'].iloc[i].replace('Storage','')\n",
    "    count+=1\n",
    "print(f'looped till {count} index')"
   ]
  },
  {
   "cell_type": "code",
   "execution_count": 53,
   "metadata": {},
   "outputs": [],
   "source": [
    "df['storage'] = df['storage'].replace('1','1024')"
   ]
  },
  {
   "cell_type": "code",
   "execution_count": 54,
   "metadata": {},
   "outputs": [],
   "source": [
    "df['storage'] = df['storage'].astype('Int16')"
   ]
  },
  {
   "cell_type": "markdown",
   "metadata": {},
   "source": [
    "## Processors\n"
   ]
  },
  {
   "cell_type": "code",
   "execution_count": 55,
   "metadata": {},
   "outputs": [],
   "source": [
    "def extract_processor(text):\n",
    "    pattern = r'.*Processor'\n",
    "    match = re.findall(pattern, text)\n",
    "    if match:\n",
    "        return match[0]\n",
    "    else:\n",
    "        return text\n"
   ]
  },
  {
   "cell_type": "code",
   "execution_count": 56,
   "metadata": {},
   "outputs": [],
   "source": [
    "df['processors'] = df['os_processor'].apply(func=extract_processor)"
   ]
  },
  {
   "cell_type": "markdown",
   "metadata": {},
   "source": [
    "## IOS Version"
   ]
  },
  {
   "cell_type": "code",
   "execution_count": 57,
   "metadata": {},
   "outputs": [],
   "source": [
    "def ios_version(text_):\n",
    "    pattern=r'^\\d+[Processor]|\\d+[.Processor]'\n",
    "    found = re.findall(pattern,text_)\n",
    "    if found:\n",
    "        return found[0]\n",
    "    else:\n",
    "        return text_"
   ]
  },
  {
   "cell_type": "code",
   "execution_count": 58,
   "metadata": {},
   "outputs": [],
   "source": [
    "df['ios_version'] = df['processors'].apply(ios_version)"
   ]
  },
  {
   "cell_type": "code",
   "execution_count": 59,
   "metadata": {},
   "outputs": [],
   "source": [
    "df.reset_index(inplace=True)\n",
    "for Index,i in enumerate(df['ios_version']):\n",
    "    # print(i)\n",
    "    i = str(i).replace('P','')\n",
    "    i = str(i).replace('.','')\n",
    "    df['ios_version'][Index] = i"
   ]
  },
  {
   "cell_type": "code",
   "execution_count": 60,
   "metadata": {},
   "outputs": [
    {
     "data": {
      "text/plain": [
       "['Operating SystemiOS 7Operating FrequencyGSM - 850, 900, 1800, 1900; UMTS - 2100',\n",
       " 'Operating SystemiOS 7Operating FrequencyGSM - 850, 900, 1800, 1900; UMTS - 2100']"
      ]
     },
     "execution_count": 60,
     "metadata": {},
     "output_type": "execute_result"
    }
   ],
   "source": [
    "non_numeric = [i for i in df['ios_version'] if len(i)> 2]\n",
    "non_numeric"
   ]
  },
  {
   "cell_type": "code",
   "execution_count": 61,
   "metadata": {},
   "outputs": [
    {
     "data": {
      "text/html": [
       "<div>\n",
       "<style scoped>\n",
       "    .dataframe tbody tr th:only-of-type {\n",
       "        vertical-align: middle;\n",
       "    }\n",
       "\n",
       "    .dataframe tbody tr th {\n",
       "        vertical-align: top;\n",
       "    }\n",
       "\n",
       "    .dataframe thead th {\n",
       "        text-align: right;\n",
       "    }\n",
       "</style>\n",
       "<table border=\"1\" class=\"dataframe\">\n",
       "  <thead>\n",
       "    <tr style=\"text-align: right;\">\n",
       "      <th></th>\n",
       "      <th>index</th>\n",
       "      <th>name</th>\n",
       "      <th>ratings</th>\n",
       "      <th>price</th>\n",
       "      <th>imgURL</th>\n",
       "      <th>storage_ram</th>\n",
       "      <th>os_processor</th>\n",
       "      <th>camera</th>\n",
       "      <th>display</th>\n",
       "      <th>network</th>\n",
       "      <th>storage</th>\n",
       "      <th>processors</th>\n",
       "      <th>ios_version</th>\n",
       "    </tr>\n",
       "  </thead>\n",
       "  <tbody>\n",
       "    <tr>\n",
       "      <th>317</th>\n",
       "      <td>317</td>\n",
       "      <td>APPLE IPhone 4 (Black, 8 GB)</td>\n",
       "      <td>4.5</td>\n",
       "      <td>₹22,900</td>\n",
       "      <td>https://rukminim2.flixcart.com/image/312/312/m...</td>\n",
       "      <td>Internal Storage8 GBPhone Book MemoryYesCall L...</td>\n",
       "      <td>Operating SystemiOS 7Operating FrequencyGSM - ...</td>\n",
       "      <td>Primary Camera AvailableYesPrimary Camera5MP R...</td>\n",
       "      <td>Display Size8.89 cm (3.5 inch)Resolution640 x ...</td>\n",
       "      <td>Network Type3GSupported NetworksGSMInternet Co...</td>\n",
       "      <td>8</td>\n",
       "      <td>Operating SystemiOS 7Operating FrequencyGSM - ...</td>\n",
       "      <td>Operating SystemiOS 7Operating FrequencyGSM - ...</td>\n",
       "    </tr>\n",
       "    <tr>\n",
       "      <th>324</th>\n",
       "      <td>324</td>\n",
       "      <td>APPLE IPhone 4 (White, 8 GB)</td>\n",
       "      <td>4.6</td>\n",
       "      <td>₹13,999</td>\n",
       "      <td>https://rukminim2.flixcart.com/image/312/312/m...</td>\n",
       "      <td>Internal Storage8 GBPhone Book MemoryYesCall L...</td>\n",
       "      <td>Operating SystemiOS 7Operating FrequencyGSM - ...</td>\n",
       "      <td>Primary Camera AvailableYesPrimary Camera5MP R...</td>\n",
       "      <td>Display Size8.89 cm (3.5 inch)Resolution640 x ...</td>\n",
       "      <td>Network Type3GSupported NetworksGSMInternet Co...</td>\n",
       "      <td>8</td>\n",
       "      <td>Operating SystemiOS 7Operating FrequencyGSM - ...</td>\n",
       "      <td>Operating SystemiOS 7Operating FrequencyGSM - ...</td>\n",
       "    </tr>\n",
       "  </tbody>\n",
       "</table>\n",
       "</div>"
      ],
      "text/plain": [
       "     index                          name  ratings    price   \n",
       "317    317  APPLE IPhone 4 (Black, 8 GB)      4.5  ₹22,900  \\\n",
       "324    324  APPLE IPhone 4 (White, 8 GB)      4.6  ₹13,999   \n",
       "\n",
       "                                                imgURL   \n",
       "317  https://rukminim2.flixcart.com/image/312/312/m...  \\\n",
       "324  https://rukminim2.flixcart.com/image/312/312/m...   \n",
       "\n",
       "                                           storage_ram   \n",
       "317  Internal Storage8 GBPhone Book MemoryYesCall L...  \\\n",
       "324  Internal Storage8 GBPhone Book MemoryYesCall L...   \n",
       "\n",
       "                                          os_processor   \n",
       "317  Operating SystemiOS 7Operating FrequencyGSM - ...  \\\n",
       "324  Operating SystemiOS 7Operating FrequencyGSM - ...   \n",
       "\n",
       "                                                camera   \n",
       "317  Primary Camera AvailableYesPrimary Camera5MP R...  \\\n",
       "324  Primary Camera AvailableYesPrimary Camera5MP R...   \n",
       "\n",
       "                                               display   \n",
       "317  Display Size8.89 cm (3.5 inch)Resolution640 x ...  \\\n",
       "324  Display Size8.89 cm (3.5 inch)Resolution640 x ...   \n",
       "\n",
       "                                               network  storage   \n",
       "317  Network Type3GSupported NetworksGSMInternet Co...        8  \\\n",
       "324  Network Type3GSupported NetworksGSMInternet Co...        8   \n",
       "\n",
       "                                            processors   \n",
       "317  Operating SystemiOS 7Operating FrequencyGSM - ...  \\\n",
       "324  Operating SystemiOS 7Operating FrequencyGSM - ...   \n",
       "\n",
       "                                           ios_version  \n",
       "317  Operating SystemiOS 7Operating FrequencyGSM - ...  \n",
       "324  Operating SystemiOS 7Operating FrequencyGSM - ...  "
      ]
     },
     "execution_count": 61,
     "metadata": {},
     "output_type": "execute_result"
    }
   ],
   "source": [
    "df[df['ios_version'] == 'Operating SystemiOS 7Operating FrequencyGSM - 850, 900, 1800, 1900; UMTS - 2100'] # Just Droping"
   ]
  },
  {
   "cell_type": "code",
   "execution_count": 62,
   "metadata": {},
   "outputs": [],
   "source": [
    "df = df.drop(df[df['ios_version'] == 'Operating SystemiOS 7Operating FrequencyGSM - 850, 900, 1800, 1900; UMTS - 2100'].index)"
   ]
  },
  {
   "cell_type": "code",
   "execution_count": 63,
   "metadata": {},
   "outputs": [],
   "source": [
    "df['ios_version'] = df['ios_version'].astype('Int16')"
   ]
  },
  {
   "cell_type": "code",
   "execution_count": null,
   "metadata": {},
   "outputs": [],
   "source": []
  }
 ],
 "metadata": {
  "kernelspec": {
   "display_name": "Python 3",
   "language": "python",
   "name": "python3"
  },
  "language_info": {
   "codemirror_mode": {
    "name": "ipython",
    "version": 3
   },
   "file_extension": ".py",
   "mimetype": "text/x-python",
   "name": "python",
   "nbconvert_exporter": "python",
   "pygments_lexer": "ipython3",
   "version": "3.11.3"
  },
  "orig_nbformat": 4
 },
 "nbformat": 4,
 "nbformat_minor": 2
}
