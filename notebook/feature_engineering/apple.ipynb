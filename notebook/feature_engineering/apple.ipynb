{
 "cells": [
  {
   "cell_type": "code",
   "execution_count": 110,
   "metadata": {},
   "outputs": [],
   "source": [
    "import pandas as pd\n",
    "import os\n",
    "import numpy as np\n",
    "from ensure import ensure_annotations\n",
    "import re\n",
    "import warnings\n",
    "warnings.filterwarnings('ignore')"
   ]
  },
  {
   "cell_type": "code",
   "execution_count": 111,
   "metadata": {},
   "outputs": [
    {
     "name": "stdout",
     "output_type": "stream",
     "text": [
      "d:\\vscode_machineLearning\\BEST_PROJECTS\\mobileRecommenderSystem\n",
      "None\n",
      "d:\\vscode_machineLearning\\BEST_PROJECTS\\mobileRecommenderSystem\n"
     ]
    }
   ],
   "source": [
    "print(os.getcwd())\n",
    "print(os.chdir(r'd:\\vscode_machineLearning\\BEST_PROJECTS\\mobileRecommenderSystem'))\n",
    "print(os.getcwd())"
   ]
  },
  {
   "cell_type": "code",
   "execution_count": 112,
   "metadata": {},
   "outputs": [],
   "source": [
    "df = pd.read_csv(r'data\\raw_data\\apple_mobile_new_data.csv',index_col=None)"
   ]
  },
  {
   "cell_type": "code",
   "execution_count": 113,
   "metadata": {},
   "outputs": [],
   "source": [
    "df.drop_duplicates(inplace=True,ignore_index=True)"
   ]
  },
  {
   "cell_type": "markdown",
   "metadata": {},
   "source": [
    "## Battery"
   ]
  },
  {
   "cell_type": "code",
   "execution_count": 114,
   "metadata": {},
   "outputs": [],
   "source": [
    "df = df.drop(labels=['battery'],axis=1)"
   ]
  },
  {
   "cell_type": "markdown",
   "metadata": {},
   "source": [
    "## Storage "
   ]
  },
  {
   "cell_type": "code",
   "execution_count": 115,
   "metadata": {},
   "outputs": [],
   "source": [
    "def extract_storage(row):\n",
    "    storage = row.split()[1]\n",
    "    return storage\n",
    "df['storage'] = df['storage_ram'].apply(func=extract_storage)"
   ]
  },
  {
   "cell_type": "code",
   "execution_count": 116,
   "metadata": {},
   "outputs": [
    {
     "name": "stdout",
     "output_type": "stream",
     "text": [
      "looped till 424 index\n"
     ]
    }
   ],
   "source": [
    "import warnings\n",
    "warnings.filterwarnings('ignore')\n",
    "count = 0\n",
    "for i in range(0,len(df['storage'])):\n",
    "    df['storage'][i]= df['storage'].iloc[i].replace('Storage','')\n",
    "    count+=1\n",
    "print(f'looped till {count} index')"
   ]
  },
  {
   "cell_type": "code",
   "execution_count": 117,
   "metadata": {},
   "outputs": [],
   "source": [
    "df['storage'] = df['storage'].replace('1','1024')"
   ]
  },
  {
   "cell_type": "code",
   "execution_count": 118,
   "metadata": {},
   "outputs": [],
   "source": [
    "df['storage'] = df['storage'].astype('Int16')"
   ]
  },
  {
   "cell_type": "markdown",
   "metadata": {},
   "source": [
    "## Operating System and Processors\n"
   ]
  },
  {
   "cell_type": "code",
   "execution_count": 119,
   "metadata": {},
   "outputs": [],
   "source": [
    "def extract_processor(text):\n",
    "    pattern = r'.*Processor'\n",
    "    match = re.findall(pattern, text)\n",
    "    if match:\n",
    "        return match[0]\n",
    "    else:\n",
    "        return text\n"
   ]
  },
  {
   "cell_type": "code",
   "execution_count": 120,
   "metadata": {},
   "outputs": [],
   "source": [
    "df['processors'] = df['os_processor'].apply(func=extract_processor)"
   ]
  },
  {
   "cell_type": "markdown",
   "metadata": {},
   "source": [
    "## IOS Version"
   ]
  },
  {
   "cell_type": "code",
   "execution_count": 121,
   "metadata": {},
   "outputs": [],
   "source": [
    "def ios_version(text_):\n",
    "    pattern=r'^\\d+[Processor]|\\d+[.Processor]'\n",
    "    found = re.findall(pattern,text_)\n",
    "    if found:\n",
    "        return found[0]\n",
    "    else:\n",
    "        return text_"
   ]
  },
  {
   "cell_type": "code",
   "execution_count": 122,
   "metadata": {},
   "outputs": [],
   "source": [
    "df['ios_version'] = df['processors'].apply(ios_version)"
   ]
  },
  {
   "cell_type": "code",
   "execution_count": 123,
   "metadata": {},
   "outputs": [],
   "source": [
    "df.reset_index(inplace=True)\n",
    "for Index,i in enumerate(df['ios_version']):\n",
    "    # print(i)\n",
    "    i = str(i).replace('P','')\n",
    "    i = str(i).replace('.','')\n",
    "    df['ios_version'][Index] = i"
   ]
  },
  {
   "cell_type": "code",
   "execution_count": 124,
   "metadata": {},
   "outputs": [
    {
     "data": {
      "text/plain": [
       "['Operating SystemiOS 7Operating FrequencyGSM - 850, 900, 1800, 1900; UMTS - 2100',\n",
       " 'Operating SystemiOS 7Operating FrequencyGSM - 850, 900, 1800, 1900; UMTS - 2100']"
      ]
     },
     "execution_count": 124,
     "metadata": {},
     "output_type": "execute_result"
    }
   ],
   "source": [
    "non_numeric = [i for i in df['ios_version'] if len(i)> 2]\n",
    "non_numeric"
   ]
  },
  {
   "cell_type": "code",
   "execution_count": 125,
   "metadata": {},
   "outputs": [
    {
     "data": {
      "text/html": [
       "<div>\n",
       "<style scoped>\n",
       "    .dataframe tbody tr th:only-of-type {\n",
       "        vertical-align: middle;\n",
       "    }\n",
       "\n",
       "    .dataframe tbody tr th {\n",
       "        vertical-align: top;\n",
       "    }\n",
       "\n",
       "    .dataframe thead th {\n",
       "        text-align: right;\n",
       "    }\n",
       "</style>\n",
       "<table border=\"1\" class=\"dataframe\">\n",
       "  <thead>\n",
       "    <tr style=\"text-align: right;\">\n",
       "      <th></th>\n",
       "      <th>index</th>\n",
       "      <th>name</th>\n",
       "      <th>ratings</th>\n",
       "      <th>price</th>\n",
       "      <th>imgURL</th>\n",
       "      <th>storage_ram</th>\n",
       "      <th>os_processor</th>\n",
       "      <th>camera</th>\n",
       "      <th>display</th>\n",
       "      <th>network</th>\n",
       "      <th>storage</th>\n",
       "      <th>processors</th>\n",
       "      <th>ios_version</th>\n",
       "    </tr>\n",
       "  </thead>\n",
       "  <tbody>\n",
       "    <tr>\n",
       "      <th>317</th>\n",
       "      <td>317</td>\n",
       "      <td>APPLE IPhone 4 (Black, 8 GB)</td>\n",
       "      <td>4.5</td>\n",
       "      <td>₹22,900</td>\n",
       "      <td>https://rukminim2.flixcart.com/image/312/312/m...</td>\n",
       "      <td>Internal Storage8 GBPhone Book MemoryYesCall L...</td>\n",
       "      <td>Operating SystemiOS 7Operating FrequencyGSM - ...</td>\n",
       "      <td>Primary Camera AvailableYesPrimary Camera5MP R...</td>\n",
       "      <td>Display Size8.89 cm (3.5 inch)Resolution640 x ...</td>\n",
       "      <td>Network Type3GSupported NetworksGSMInternet Co...</td>\n",
       "      <td>8</td>\n",
       "      <td>Operating SystemiOS 7Operating FrequencyGSM - ...</td>\n",
       "      <td>Operating SystemiOS 7Operating FrequencyGSM - ...</td>\n",
       "    </tr>\n",
       "    <tr>\n",
       "      <th>324</th>\n",
       "      <td>324</td>\n",
       "      <td>APPLE IPhone 4 (White, 8 GB)</td>\n",
       "      <td>4.6</td>\n",
       "      <td>₹13,999</td>\n",
       "      <td>https://rukminim2.flixcart.com/image/312/312/m...</td>\n",
       "      <td>Internal Storage8 GBPhone Book MemoryYesCall L...</td>\n",
       "      <td>Operating SystemiOS 7Operating FrequencyGSM - ...</td>\n",
       "      <td>Primary Camera AvailableYesPrimary Camera5MP R...</td>\n",
       "      <td>Display Size8.89 cm (3.5 inch)Resolution640 x ...</td>\n",
       "      <td>Network Type3GSupported NetworksGSMInternet Co...</td>\n",
       "      <td>8</td>\n",
       "      <td>Operating SystemiOS 7Operating FrequencyGSM - ...</td>\n",
       "      <td>Operating SystemiOS 7Operating FrequencyGSM - ...</td>\n",
       "    </tr>\n",
       "  </tbody>\n",
       "</table>\n",
       "</div>"
      ],
      "text/plain": [
       "     index                          name  ratings    price   \n",
       "317    317  APPLE IPhone 4 (Black, 8 GB)      4.5  ₹22,900  \\\n",
       "324    324  APPLE IPhone 4 (White, 8 GB)      4.6  ₹13,999   \n",
       "\n",
       "                                                imgURL   \n",
       "317  https://rukminim2.flixcart.com/image/312/312/m...  \\\n",
       "324  https://rukminim2.flixcart.com/image/312/312/m...   \n",
       "\n",
       "                                           storage_ram   \n",
       "317  Internal Storage8 GBPhone Book MemoryYesCall L...  \\\n",
       "324  Internal Storage8 GBPhone Book MemoryYesCall L...   \n",
       "\n",
       "                                          os_processor   \n",
       "317  Operating SystemiOS 7Operating FrequencyGSM - ...  \\\n",
       "324  Operating SystemiOS 7Operating FrequencyGSM - ...   \n",
       "\n",
       "                                                camera   \n",
       "317  Primary Camera AvailableYesPrimary Camera5MP R...  \\\n",
       "324  Primary Camera AvailableYesPrimary Camera5MP R...   \n",
       "\n",
       "                                               display   \n",
       "317  Display Size8.89 cm (3.5 inch)Resolution640 x ...  \\\n",
       "324  Display Size8.89 cm (3.5 inch)Resolution640 x ...   \n",
       "\n",
       "                                               network  storage   \n",
       "317  Network Type3GSupported NetworksGSMInternet Co...        8  \\\n",
       "324  Network Type3GSupported NetworksGSMInternet Co...        8   \n",
       "\n",
       "                                            processors   \n",
       "317  Operating SystemiOS 7Operating FrequencyGSM - ...  \\\n",
       "324  Operating SystemiOS 7Operating FrequencyGSM - ...   \n",
       "\n",
       "                                           ios_version  \n",
       "317  Operating SystemiOS 7Operating FrequencyGSM - ...  \n",
       "324  Operating SystemiOS 7Operating FrequencyGSM - ...  "
      ]
     },
     "execution_count": 125,
     "metadata": {},
     "output_type": "execute_result"
    }
   ],
   "source": [
    "df[df['ios_version'] == 'Operating SystemiOS 7Operating FrequencyGSM - 850, 900, 1800, 1900; UMTS - 2100'] # Just Droping"
   ]
  },
  {
   "cell_type": "code",
   "execution_count": 126,
   "metadata": {},
   "outputs": [],
   "source": [
    "df = df.drop(df[df['ios_version'] == 'Operating SystemiOS 7Operating FrequencyGSM - 850, 900, 1800, 1900; UMTS - 2100'].index)"
   ]
  },
  {
   "cell_type": "code",
   "execution_count": 127,
   "metadata": {},
   "outputs": [],
   "source": [
    "df['ios_version'] = df['ios_version'].astype('Int16')"
   ]
  },
  {
   "cell_type": "markdown",
   "metadata": {},
   "source": [
    "## Processors"
   ]
  },
  {
   "cell_type": "code",
   "execution_count": 128,
   "metadata": {},
   "outputs": [],
   "source": [
    "def processor(text):\n",
    "    pattern=r'(?<=Type).*'\n",
    "    search = re.search(pattern,text)\n",
    "    if search != None:\n",
    "        return ' '.join(re.findall(pattern,text))\n",
    "    else:\n",
    "        return 'not montioned'"
   ]
  },
  {
   "cell_type": "code",
   "execution_count": 129,
   "metadata": {},
   "outputs": [],
   "source": [
    "df['processor'] = df['processors'].apply(processor)\n",
    "df = df.drop('processors',axis=1)\n",
    "df = df.drop('index',axis=1)\n"
   ]
  },
  {
   "cell_type": "markdown",
   "metadata": {},
   "source": [
    "## Price"
   ]
  },
  {
   "cell_type": "code",
   "execution_count": 130,
   "metadata": {},
   "outputs": [],
   "source": [
    "df.reset_index(inplace=True)\n",
    "for Index,i in enumerate(df['price']):\n",
    "    i = str(i).replace('₹','')\n",
    "    i = str(i).replace(',','')\n",
    "    df['price'][Index] = i"
   ]
  },
  {
   "cell_type": "code",
   "execution_count": 131,
   "metadata": {},
   "outputs": [],
   "source": [
    "df['price'] = df['price'].astype('Int16')"
   ]
  },
  {
   "cell_type": "code",
   "execution_count": 132,
   "metadata": {},
   "outputs": [],
   "source": [
    "df['price'] = df['price'].abs() # this is to remove the negative values from price feature"
   ]
  },
  {
   "cell_type": "markdown",
   "metadata": {},
   "source": [
    "## Remove columns\n",
    "1) storage_ram\n",
    "2) os_processor\n"
   ]
  },
  {
   "cell_type": "code",
   "execution_count": 133,
   "metadata": {},
   "outputs": [],
   "source": [
    "df = df.drop(columns=['os_processor','storage_ram'])"
   ]
  },
  {
   "cell_type": "markdown",
   "metadata": {},
   "source": [
    "## Processor"
   ]
  },
  {
   "cell_type": "code",
   "execution_count": 134,
   "metadata": {},
   "outputs": [],
   "source": [
    "def processor_extract_dimensity(text):\n",
    "    splitted_sentence = text.split()\n",
    "\n",
    "    if 'Mediatek' and 'Dimensity' in splitted_sentence:\n",
    "        pattern = r'(\\d+)+[Processor]'\n",
    "        string = ' '.join(splitted_sentence)\n",
    "        match = re.search(pattern,string)\n",
    "        if match == None:\n",
    "            if 'Dimensity' == str(splitted_sentence[1]):\n",
    "                return 'Dimensity'+str(splitted_sentence[2])\n",
    "            else:\n",
    "                return 'Dimensity'+str(splitted_sentence[1])\n",
    "        else:\n",
    "            find = re.findall(pattern,string)\n",
    "            return 'Dimensity'+ ''.join(find)\n",
    "    else:\n",
    "        return text  \n"
   ]
  },
  {
   "cell_type": "code",
   "execution_count": 135,
   "metadata": {},
   "outputs": [],
   "source": [
    "df['processor'] = df['processor'].apply(processor_extract_dimensity)"
   ]
  },
  {
   "cell_type": "code",
   "execution_count": 136,
   "metadata": {},
   "outputs": [],
   "source": [
    "def processor_extract_ios(text):\n",
    "    splitted_sentence = text.split()\n",
    "    pattern = r'^A\\d*'\n",
    "    search = re.search(pattern,' '.join(splitted_sentence))\n",
    "    if search != None:\n",
    "        match =re.findall(pattern,' '.join(splitted_sentence))\n",
    "        return ' '.join(match)\n",
    "    else:\n",
    "        return 'otherProcessor'\n"
   ]
  },
  {
   "cell_type": "code",
   "execution_count": 137,
   "metadata": {},
   "outputs": [],
   "source": [
    "df['processor'] = df['processor'].apply(processor_extract_ios)"
   ]
  },
  {
   "cell_type": "markdown",
   "metadata": {},
   "source": [
    "## Network\n",
    "I don't need in my project I will just drop."
   ]
  },
  {
   "cell_type": "code",
   "execution_count": 138,
   "metadata": {},
   "outputs": [],
   "source": [
    "df = df.drop(labels=['network'],axis=1)"
   ]
  },
  {
   "cell_type": "markdown",
   "metadata": {},
   "source": [
    "## Camera"
   ]
  },
  {
   "cell_type": "code",
   "execution_count": 139,
   "metadata": {},
   "outputs": [],
   "source": [
    "\n",
    "def camera_extract(row):\n",
    "    if isinstance(row, str):  # Check if row is a string\n",
    "        row_splitted = row.split()\n",
    "        pattern = r'\\d+MP'\n",
    "        words = ' '.join(row_splitted)\n",
    "        find_cam = re.findall(pattern, words)\n",
    "        return ' '.join(find_cam)\n",
    "    else:\n",
    "        return np.nan\n"
   ]
  },
  {
   "cell_type": "code",
   "execution_count": 140,
   "metadata": {},
   "outputs": [],
   "source": [
    "df['camera'] = df['camera'].apply(camera_extract)\n",
    "# df = df.drop('index',axis=1)"
   ]
  },
  {
   "cell_type": "code",
   "execution_count": 141,
   "metadata": {},
   "outputs": [],
   "source": [
    "def camera(txt):\n",
    "    lst = []\n",
    "    splitted = txt.split()\n",
    "    for i in splitted:\n",
    "        make_int = i.replace('MP','')\n",
    "        lst.append(int(make_int))\n",
    "    return max(lst)\n"
   ]
  },
  {
   "cell_type": "code",
   "execution_count": 142,
   "metadata": {},
   "outputs": [],
   "source": [
    "df['camera'] = df['camera'].apply(camera)"
   ]
  },
  {
   "cell_type": "markdown",
   "metadata": {},
   "source": [
    "## display"
   ]
  },
  {
   "cell_type": "code",
   "execution_count": 143,
   "metadata": {},
   "outputs": [],
   "source": [
    "def display_extract(row):\n",
    "    split_row = row.split()\n",
    "    if 'LCD' in split_row:\n",
    "        if 'IPS' in split_row and 'LCD' in split_row:\n",
    "            return 'IPS LCD'\n",
    "        return 'LCD'\n",
    "    \n",
    "    if 'OLED' in split_row:\n",
    "        return 'OLED'\n",
    "    \n",
    "    if 'TFT' in split_row:\n",
    "        return 'TFT'\n",
    "    \n",
    "    if 'LED' in split_row:\n",
    "        return 'LED'\n",
    "\n",
    "    # if 'Adreno' in split_row:\n",
    "    #     return 'Adreno'\n",
    "    if 'AMOLED' in split_row:\n",
    "        if 'HD+' in split_row and 'AMOLED' in split_row:\n",
    "            return 'HD+ AMOLED'\n",
    "        return 'AMOLED'\n",
    "    \n",
    "    return 'other_types'\n"
   ]
  },
  {
   "cell_type": "code",
   "execution_count": 144,
   "metadata": {},
   "outputs": [],
   "source": [
    "df['display'] = df['display'].apply(display_extract)"
   ]
  },
  {
   "cell_type": "code",
   "execution_count": 145,
   "metadata": {},
   "outputs": [
    {
     "data": {
      "text/html": [
       "<div>\n",
       "<style scoped>\n",
       "    .dataframe tbody tr th:only-of-type {\n",
       "        vertical-align: middle;\n",
       "    }\n",
       "\n",
       "    .dataframe tbody tr th {\n",
       "        vertical-align: top;\n",
       "    }\n",
       "\n",
       "    .dataframe thead th {\n",
       "        text-align: right;\n",
       "    }\n",
       "</style>\n",
       "<table border=\"1\" class=\"dataframe\">\n",
       "  <thead>\n",
       "    <tr style=\"text-align: right;\">\n",
       "      <th></th>\n",
       "      <th>index</th>\n",
       "      <th>name</th>\n",
       "      <th>ratings</th>\n",
       "      <th>price</th>\n",
       "      <th>imgURL</th>\n",
       "      <th>camera</th>\n",
       "      <th>display</th>\n",
       "      <th>storage</th>\n",
       "      <th>ios_version</th>\n",
       "      <th>processor</th>\n",
       "    </tr>\n",
       "  </thead>\n",
       "  <tbody>\n",
       "    <tr>\n",
       "      <th>0</th>\n",
       "      <td>0</td>\n",
       "      <td>APPLE iPhone 13 (Blue, 128 GB)</td>\n",
       "      <td>4.7</td>\n",
       "      <td>3537</td>\n",
       "      <td>https://rukminim2.flixcart.com/image/312/312/k...</td>\n",
       "      <td>63</td>\n",
       "      <td>OLED</td>\n",
       "      <td>128</td>\n",
       "      <td>15</td>\n",
       "      <td>A15</td>\n",
       "    </tr>\n",
       "    <tr>\n",
       "      <th>1</th>\n",
       "      <td>1</td>\n",
       "      <td>APPLE iPhone 13 (Midnight, 128 GB)</td>\n",
       "      <td>4.7</td>\n",
       "      <td>3537</td>\n",
       "      <td>https://rukminim2.flixcart.com/image/312/312/k...</td>\n",
       "      <td>63</td>\n",
       "      <td>OLED</td>\n",
       "      <td>128</td>\n",
       "      <td>15</td>\n",
       "      <td>A15</td>\n",
       "    </tr>\n",
       "    <tr>\n",
       "      <th>2</th>\n",
       "      <td>2</td>\n",
       "      <td>APPLE iPhone 13 (Starlight, 128 GB)</td>\n",
       "      <td>4.7</td>\n",
       "      <td>3537</td>\n",
       "      <td>https://rukminim2.flixcart.com/image/312/312/k...</td>\n",
       "      <td>63</td>\n",
       "      <td>OLED</td>\n",
       "      <td>128</td>\n",
       "      <td>15</td>\n",
       "      <td>A15</td>\n",
       "    </tr>\n",
       "    <tr>\n",
       "      <th>3</th>\n",
       "      <td>3</td>\n",
       "      <td>APPLE iPhone 13 (Pink, 128 GB)</td>\n",
       "      <td>4.7</td>\n",
       "      <td>3537</td>\n",
       "      <td>https://rukminim2.flixcart.com/image/312/312/k...</td>\n",
       "      <td>63</td>\n",
       "      <td>OLED</td>\n",
       "      <td>128</td>\n",
       "      <td>15</td>\n",
       "      <td>A15</td>\n",
       "    </tr>\n",
       "    <tr>\n",
       "      <th>4</th>\n",
       "      <td>4</td>\n",
       "      <td>APPLE iPhone 14 (Midnight, 128 GB)</td>\n",
       "      <td>4.6</td>\n",
       "      <td>4463</td>\n",
       "      <td>https://rukminim2.flixcart.com/image/312/312/x...</td>\n",
       "      <td>63</td>\n",
       "      <td>other_types</td>\n",
       "      <td>128</td>\n",
       "      <td>16</td>\n",
       "      <td>A15</td>\n",
       "    </tr>\n",
       "    <tr>\n",
       "      <th>...</th>\n",
       "      <td>...</td>\n",
       "      <td>...</td>\n",
       "      <td>...</td>\n",
       "      <td>...</td>\n",
       "      <td>...</td>\n",
       "      <td>...</td>\n",
       "      <td>...</td>\n",
       "      <td>...</td>\n",
       "      <td>...</td>\n",
       "      <td>...</td>\n",
       "    </tr>\n",
       "    <tr>\n",
       "      <th>417</th>\n",
       "      <td>419</td>\n",
       "      <td>APPLE iPhone XR (Yellow, 128 GB)</td>\n",
       "      <td>4.6</td>\n",
       "      <td>23837</td>\n",
       "      <td>https://rukminim2.flixcart.com/image/312/312/k...</td>\n",
       "      <td>63</td>\n",
       "      <td>IPS LCD</td>\n",
       "      <td>128</td>\n",
       "      <td>14</td>\n",
       "      <td>otherProcessor</td>\n",
       "    </tr>\n",
       "    <tr>\n",
       "      <th>418</th>\n",
       "      <td>420</td>\n",
       "      <td>APPLE iPhone 11 Pro (Midnight Green, 256 GB)</td>\n",
       "      <td>4.6</td>\n",
       "      <td>9772</td>\n",
       "      <td>https://rukminim2.flixcart.com/image/312/312/k...</td>\n",
       "      <td>64</td>\n",
       "      <td>other_types</td>\n",
       "      <td>256</td>\n",
       "      <td>13</td>\n",
       "      <td>otherProcessor</td>\n",
       "    </tr>\n",
       "    <tr>\n",
       "      <th>419</th>\n",
       "      <td>421</td>\n",
       "      <td>APPLE iPhone X (Silver, 64 GB)</td>\n",
       "      <td>4.6</td>\n",
       "      <td>26364</td>\n",
       "      <td>https://rukminim2.flixcart.com/image/312/312/j...</td>\n",
       "      <td>63</td>\n",
       "      <td>OLED</td>\n",
       "      <td>64</td>\n",
       "      <td>11</td>\n",
       "      <td>otherProcessor</td>\n",
       "    </tr>\n",
       "    <tr>\n",
       "      <th>420</th>\n",
       "      <td>422</td>\n",
       "      <td>APPLE iPhone X (Space Gray, 256 GB)</td>\n",
       "      <td>4.6</td>\n",
       "      <td>24172</td>\n",
       "      <td>https://rukminim2.flixcart.com/image/312/312/j...</td>\n",
       "      <td>63</td>\n",
       "      <td>OLED</td>\n",
       "      <td>256</td>\n",
       "      <td>11</td>\n",
       "      <td>otherProcessor</td>\n",
       "    </tr>\n",
       "    <tr>\n",
       "      <th>421</th>\n",
       "      <td>423</td>\n",
       "      <td>APPLE iPhone X (Space Gray, 64 GB)</td>\n",
       "      <td>4.6</td>\n",
       "      <td>26364</td>\n",
       "      <td>https://rukminim2.flixcart.com/image/312/312/j...</td>\n",
       "      <td>63</td>\n",
       "      <td>OLED</td>\n",
       "      <td>64</td>\n",
       "      <td>11</td>\n",
       "      <td>otherProcessor</td>\n",
       "    </tr>\n",
       "  </tbody>\n",
       "</table>\n",
       "<p>422 rows × 10 columns</p>\n",
       "</div>"
      ],
      "text/plain": [
       "     index                                          name  ratings  price   \n",
       "0        0                APPLE iPhone 13 (Blue, 128 GB)      4.7   3537  \\\n",
       "1        1            APPLE iPhone 13 (Midnight, 128 GB)      4.7   3537   \n",
       "2        2           APPLE iPhone 13 (Starlight, 128 GB)      4.7   3537   \n",
       "3        3                APPLE iPhone 13 (Pink, 128 GB)      4.7   3537   \n",
       "4        4            APPLE iPhone 14 (Midnight, 128 GB)      4.6   4463   \n",
       "..     ...                                           ...      ...    ...   \n",
       "417    419              APPLE iPhone XR (Yellow, 128 GB)      4.6  23837   \n",
       "418    420  APPLE iPhone 11 Pro (Midnight Green, 256 GB)      4.6   9772   \n",
       "419    421                APPLE iPhone X (Silver, 64 GB)      4.6  26364   \n",
       "420    422           APPLE iPhone X (Space Gray, 256 GB)      4.6  24172   \n",
       "421    423            APPLE iPhone X (Space Gray, 64 GB)      4.6  26364   \n",
       "\n",
       "                                                imgURL  camera      display   \n",
       "0    https://rukminim2.flixcart.com/image/312/312/k...      63         OLED  \\\n",
       "1    https://rukminim2.flixcart.com/image/312/312/k...      63         OLED   \n",
       "2    https://rukminim2.flixcart.com/image/312/312/k...      63         OLED   \n",
       "3    https://rukminim2.flixcart.com/image/312/312/k...      63         OLED   \n",
       "4    https://rukminim2.flixcart.com/image/312/312/x...      63  other_types   \n",
       "..                                                 ...     ...          ...   \n",
       "417  https://rukminim2.flixcart.com/image/312/312/k...      63      IPS LCD   \n",
       "418  https://rukminim2.flixcart.com/image/312/312/k...      64  other_types   \n",
       "419  https://rukminim2.flixcart.com/image/312/312/j...      63         OLED   \n",
       "420  https://rukminim2.flixcart.com/image/312/312/j...      63         OLED   \n",
       "421  https://rukminim2.flixcart.com/image/312/312/j...      63         OLED   \n",
       "\n",
       "     storage  ios_version       processor  \n",
       "0        128           15             A15  \n",
       "1        128           15             A15  \n",
       "2        128           15             A15  \n",
       "3        128           15             A15  \n",
       "4        128           16             A15  \n",
       "..       ...          ...             ...  \n",
       "417      128           14  otherProcessor  \n",
       "418      256           13  otherProcessor  \n",
       "419       64           11  otherProcessor  \n",
       "420      256           11  otherProcessor  \n",
       "421       64           11  otherProcessor  \n",
       "\n",
       "[422 rows x 10 columns]"
      ]
     },
     "execution_count": 145,
     "metadata": {},
     "output_type": "execute_result"
    }
   ],
   "source": [
    "df"
   ]
  },
  {
   "cell_type": "code",
   "execution_count": 147,
   "metadata": {},
   "outputs": [],
   "source": [
    "df.drop('index',axis=1,inplace=True)"
   ]
  },
  {
   "cell_type": "code",
   "execution_count": 148,
   "metadata": {},
   "outputs": [
    {
     "name": "stdout",
     "output_type": "stream",
     "text": [
      "<class 'pandas.core.frame.DataFrame'>\n",
      "RangeIndex: 422 entries, 0 to 421\n",
      "Data columns (total 9 columns):\n",
      " #   Column       Non-Null Count  Dtype  \n",
      "---  ------       --------------  -----  \n",
      " 0   name         422 non-null    object \n",
      " 1   ratings      422 non-null    float64\n",
      " 2   price        422 non-null    Int16  \n",
      " 3   imgURL       422 non-null    object \n",
      " 4   camera       422 non-null    int64  \n",
      " 5   display      422 non-null    object \n",
      " 6   storage      422 non-null    Int16  \n",
      " 7   ios_version  422 non-null    Int16  \n",
      " 8   processor    422 non-null    object \n",
      "dtypes: Int16(3), float64(1), int64(1), object(4)\n",
      "memory usage: 23.6+ KB\n"
     ]
    }
   ],
   "source": [
    "df.info()"
   ]
  },
  {
   "cell_type": "code",
   "execution_count": 149,
   "metadata": {},
   "outputs": [],
   "source": [
    "for i in df.columns:\n",
    "    if df[i].dtype == 'int64':\n",
    "        df[i] = df[i].astype('int16')\n",
    "    elif df[i].dtype == 'float64':\n",
    "        df[i] = df[i].astype('float16')\n",
    "\n",
    "    else:\n",
    "        pass"
   ]
  },
  {
   "cell_type": "code",
   "execution_count": 150,
   "metadata": {},
   "outputs": [
    {
     "name": "stdout",
     "output_type": "stream",
     "text": [
      "<class 'pandas.core.frame.DataFrame'>\n",
      "RangeIndex: 422 entries, 0 to 421\n",
      "Data columns (total 9 columns):\n",
      " #   Column       Non-Null Count  Dtype  \n",
      "---  ------       --------------  -----  \n",
      " 0   name         422 non-null    object \n",
      " 1   ratings      422 non-null    float16\n",
      " 2   price        422 non-null    Int16  \n",
      " 3   imgURL       422 non-null    object \n",
      " 4   camera       422 non-null    int16  \n",
      " 5   display      422 non-null    object \n",
      " 6   storage      422 non-null    Int16  \n",
      " 7   ios_version  422 non-null    Int16  \n",
      " 8   processor    422 non-null    object \n",
      "dtypes: Int16(3), float16(1), int16(1), object(4)\n",
      "memory usage: 18.7+ KB\n"
     ]
    }
   ],
   "source": [
    "df.info()"
   ]
  },
  {
   "cell_type": "code",
   "execution_count": null,
   "metadata": {},
   "outputs": [],
   "source": [
    "df.to_csv(path_or_buf='data\\cleaned_dataset/apple_cleaned_data.csv',index=False)"
   ]
  }
 ],
 "metadata": {
  "kernelspec": {
   "display_name": "Python 3",
   "language": "python",
   "name": "python3"
  },
  "language_info": {
   "codemirror_mode": {
    "name": "ipython",
    "version": 3
   },
   "file_extension": ".py",
   "mimetype": "text/x-python",
   "name": "python",
   "nbconvert_exporter": "python",
   "pygments_lexer": "ipython3",
   "version": "3.11.3"
  },
  "orig_nbformat": 4
 },
 "nbformat": 4,
 "nbformat_minor": 2
}
