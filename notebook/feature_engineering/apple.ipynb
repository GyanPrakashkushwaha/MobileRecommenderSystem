{
 "cells": [
  {
   "cell_type": "code",
   "execution_count": 89,
   "metadata": {},
   "outputs": [],
   "source": [
    "import pandas as pd\n",
    "import os\n",
    "import numpy as np\n",
    "from ensure import ensure_annotations\n",
    "import re\n",
    "import warnings\n",
    "warnings.filterwarnings('ignore')"
   ]
  },
  {
   "cell_type": "code",
   "execution_count": 90,
   "metadata": {},
   "outputs": [
    {
     "name": "stdout",
     "output_type": "stream",
     "text": [
      "d:\\vscode_machineLearning\\BEST_PROJECTS\\mobileRecommenderSystem\n",
      "None\n",
      "d:\\vscode_machineLearning\\BEST_PROJECTS\\mobileRecommenderSystem\n"
     ]
    }
   ],
   "source": [
    "print(os.getcwd())\n",
    "print(os.chdir(r'd:\\vscode_machineLearning\\BEST_PROJECTS\\mobileRecommenderSystem'))\n",
    "print(os.getcwd())"
   ]
  },
  {
   "cell_type": "code",
   "execution_count": 91,
   "metadata": {},
   "outputs": [],
   "source": [
    "df = pd.read_csv(r'data\\raw_data\\apple_mobile_new_data.csv',index_col=None)"
   ]
  },
  {
   "cell_type": "code",
   "execution_count": 92,
   "metadata": {},
   "outputs": [],
   "source": [
    "df.drop_duplicates(inplace=True,ignore_index=True)"
   ]
  },
  {
   "cell_type": "markdown",
   "metadata": {},
   "source": [
    "## Battery"
   ]
  },
  {
   "cell_type": "code",
   "execution_count": 93,
   "metadata": {},
   "outputs": [],
   "source": [
    "df = df.drop(labels=['battery'],axis=1)"
   ]
  },
  {
   "cell_type": "markdown",
   "metadata": {},
   "source": [
    "## Storage "
   ]
  },
  {
   "cell_type": "code",
   "execution_count": 94,
   "metadata": {},
   "outputs": [],
   "source": [
    "def extract_storage(row):\n",
    "    storage = row.split()[1]\n",
    "    return storage\n",
    "df['storage'] = df['storage_ram'].apply(func=extract_storage)"
   ]
  },
  {
   "cell_type": "code",
   "execution_count": 95,
   "metadata": {},
   "outputs": [
    {
     "name": "stdout",
     "output_type": "stream",
     "text": [
      "looped till 424 index\n"
     ]
    }
   ],
   "source": [
    "import warnings\n",
    "warnings.filterwarnings('ignore')\n",
    "count = 0\n",
    "for i in range(0,len(df['storage'])):\n",
    "    df['storage'][i]= df['storage'].iloc[i].replace('Storage','')\n",
    "    count+=1\n",
    "print(f'looped till {count} index')"
   ]
  },
  {
   "cell_type": "code",
   "execution_count": 96,
   "metadata": {},
   "outputs": [],
   "source": [
    "df['storage'] = df['storage'].replace('1','1024')"
   ]
  },
  {
   "cell_type": "code",
   "execution_count": 97,
   "metadata": {},
   "outputs": [],
   "source": [
    "df['storage'] = df['storage'].astype('Int16')"
   ]
  },
  {
   "cell_type": "markdown",
   "metadata": {},
   "source": [
    "## Processors\n"
   ]
  },
  {
   "cell_type": "code",
   "execution_count": 98,
   "metadata": {},
   "outputs": [],
   "source": [
    "def extract_processor(text):\n",
    "    pattern = r'.*Processor'\n",
    "    match = re.findall(pattern, text)\n",
    "    if match:\n",
    "        return match[0]\n",
    "    else:\n",
    "        return text\n"
   ]
  },
  {
   "cell_type": "code",
   "execution_count": 99,
   "metadata": {},
   "outputs": [],
   "source": [
    "df['processors'] = df['os_processor'].apply(func=extract_processor)"
   ]
  },
  {
   "cell_type": "markdown",
   "metadata": {},
   "source": [
    "## IOS Version"
   ]
  },
  {
   "cell_type": "code",
   "execution_count": 100,
   "metadata": {},
   "outputs": [],
   "source": [
    "def ios_version(text_):\n",
    "    pattern=r'^\\d+[Processor]|\\d+[.Processor]'\n",
    "    found = re.findall(pattern,text_)\n",
    "    if found:\n",
    "        return found[0]\n",
    "    else:\n",
    "        return text_"
   ]
  },
  {
   "cell_type": "code",
   "execution_count": 101,
   "metadata": {},
   "outputs": [],
   "source": [
    "df['ios_version'] = df['processors'].apply(ios_version)"
   ]
  },
  {
   "cell_type": "code",
   "execution_count": 102,
   "metadata": {},
   "outputs": [],
   "source": [
    "df.reset_index(inplace=True)\n",
    "for Index,i in enumerate(df['ios_version']):\n",
    "    # print(i)\n",
    "    i = str(i).replace('P','')\n",
    "    i = str(i).replace('.','')\n",
    "    df['ios_version'][Index] = i"
   ]
  },
  {
   "cell_type": "code",
   "execution_count": 103,
   "metadata": {},
   "outputs": [
    {
     "data": {
      "text/plain": [
       "['Operating SystemiOS 7Operating FrequencyGSM - 850, 900, 1800, 1900; UMTS - 2100',\n",
       " 'Operating SystemiOS 7Operating FrequencyGSM - 850, 900, 1800, 1900; UMTS - 2100']"
      ]
     },
     "execution_count": 103,
     "metadata": {},
     "output_type": "execute_result"
    }
   ],
   "source": [
    "non_numeric = [i for i in df['ios_version'] if len(i)> 2]\n",
    "non_numeric"
   ]
  },
  {
   "cell_type": "code",
   "execution_count": 104,
   "metadata": {},
   "outputs": [
    {
     "data": {
      "text/html": [
       "<div>\n",
       "<style scoped>\n",
       "    .dataframe tbody tr th:only-of-type {\n",
       "        vertical-align: middle;\n",
       "    }\n",
       "\n",
       "    .dataframe tbody tr th {\n",
       "        vertical-align: top;\n",
       "    }\n",
       "\n",
       "    .dataframe thead th {\n",
       "        text-align: right;\n",
       "    }\n",
       "</style>\n",
       "<table border=\"1\" class=\"dataframe\">\n",
       "  <thead>\n",
       "    <tr style=\"text-align: right;\">\n",
       "      <th></th>\n",
       "      <th>index</th>\n",
       "      <th>name</th>\n",
       "      <th>ratings</th>\n",
       "      <th>price</th>\n",
       "      <th>imgURL</th>\n",
       "      <th>storage_ram</th>\n",
       "      <th>os_processor</th>\n",
       "      <th>camera</th>\n",
       "      <th>display</th>\n",
       "      <th>network</th>\n",
       "      <th>storage</th>\n",
       "      <th>processors</th>\n",
       "      <th>ios_version</th>\n",
       "    </tr>\n",
       "  </thead>\n",
       "  <tbody>\n",
       "    <tr>\n",
       "      <th>317</th>\n",
       "      <td>317</td>\n",
       "      <td>APPLE IPhone 4 (Black, 8 GB)</td>\n",
       "      <td>4.5</td>\n",
       "      <td>₹22,900</td>\n",
       "      <td>https://rukminim2.flixcart.com/image/312/312/m...</td>\n",
       "      <td>Internal Storage8 GBPhone Book MemoryYesCall L...</td>\n",
       "      <td>Operating SystemiOS 7Operating FrequencyGSM - ...</td>\n",
       "      <td>Primary Camera AvailableYesPrimary Camera5MP R...</td>\n",
       "      <td>Display Size8.89 cm (3.5 inch)Resolution640 x ...</td>\n",
       "      <td>Network Type3GSupported NetworksGSMInternet Co...</td>\n",
       "      <td>8</td>\n",
       "      <td>Operating SystemiOS 7Operating FrequencyGSM - ...</td>\n",
       "      <td>Operating SystemiOS 7Operating FrequencyGSM - ...</td>\n",
       "    </tr>\n",
       "    <tr>\n",
       "      <th>324</th>\n",
       "      <td>324</td>\n",
       "      <td>APPLE IPhone 4 (White, 8 GB)</td>\n",
       "      <td>4.6</td>\n",
       "      <td>₹13,999</td>\n",
       "      <td>https://rukminim2.flixcart.com/image/312/312/m...</td>\n",
       "      <td>Internal Storage8 GBPhone Book MemoryYesCall L...</td>\n",
       "      <td>Operating SystemiOS 7Operating FrequencyGSM - ...</td>\n",
       "      <td>Primary Camera AvailableYesPrimary Camera5MP R...</td>\n",
       "      <td>Display Size8.89 cm (3.5 inch)Resolution640 x ...</td>\n",
       "      <td>Network Type3GSupported NetworksGSMInternet Co...</td>\n",
       "      <td>8</td>\n",
       "      <td>Operating SystemiOS 7Operating FrequencyGSM - ...</td>\n",
       "      <td>Operating SystemiOS 7Operating FrequencyGSM - ...</td>\n",
       "    </tr>\n",
       "  </tbody>\n",
       "</table>\n",
       "</div>"
      ],
      "text/plain": [
       "     index                          name  ratings    price   \n",
       "317    317  APPLE IPhone 4 (Black, 8 GB)      4.5  ₹22,900  \\\n",
       "324    324  APPLE IPhone 4 (White, 8 GB)      4.6  ₹13,999   \n",
       "\n",
       "                                                imgURL   \n",
       "317  https://rukminim2.flixcart.com/image/312/312/m...  \\\n",
       "324  https://rukminim2.flixcart.com/image/312/312/m...   \n",
       "\n",
       "                                           storage_ram   \n",
       "317  Internal Storage8 GBPhone Book MemoryYesCall L...  \\\n",
       "324  Internal Storage8 GBPhone Book MemoryYesCall L...   \n",
       "\n",
       "                                          os_processor   \n",
       "317  Operating SystemiOS 7Operating FrequencyGSM - ...  \\\n",
       "324  Operating SystemiOS 7Operating FrequencyGSM - ...   \n",
       "\n",
       "                                                camera   \n",
       "317  Primary Camera AvailableYesPrimary Camera5MP R...  \\\n",
       "324  Primary Camera AvailableYesPrimary Camera5MP R...   \n",
       "\n",
       "                                               display   \n",
       "317  Display Size8.89 cm (3.5 inch)Resolution640 x ...  \\\n",
       "324  Display Size8.89 cm (3.5 inch)Resolution640 x ...   \n",
       "\n",
       "                                               network  storage   \n",
       "317  Network Type3GSupported NetworksGSMInternet Co...        8  \\\n",
       "324  Network Type3GSupported NetworksGSMInternet Co...        8   \n",
       "\n",
       "                                            processors   \n",
       "317  Operating SystemiOS 7Operating FrequencyGSM - ...  \\\n",
       "324  Operating SystemiOS 7Operating FrequencyGSM - ...   \n",
       "\n",
       "                                           ios_version  \n",
       "317  Operating SystemiOS 7Operating FrequencyGSM - ...  \n",
       "324  Operating SystemiOS 7Operating FrequencyGSM - ...  "
      ]
     },
     "execution_count": 104,
     "metadata": {},
     "output_type": "execute_result"
    }
   ],
   "source": [
    "df[df['ios_version'] == 'Operating SystemiOS 7Operating FrequencyGSM - 850, 900, 1800, 1900; UMTS - 2100'] # Just Droping"
   ]
  },
  {
   "cell_type": "code",
   "execution_count": 105,
   "metadata": {},
   "outputs": [],
   "source": [
    "df = df.drop(df[df['ios_version'] == 'Operating SystemiOS 7Operating FrequencyGSM - 850, 900, 1800, 1900; UMTS - 2100'].index)"
   ]
  },
  {
   "cell_type": "code",
   "execution_count": 106,
   "metadata": {},
   "outputs": [],
   "source": [
    "df['ios_version'] = df['ios_version'].astype('Int16')"
   ]
  },
  {
   "cell_type": "markdown",
   "metadata": {},
   "source": [
    "## Price"
   ]
  },
  {
   "cell_type": "code",
   "execution_count": 107,
   "metadata": {},
   "outputs": [],
   "source": [
    "df.reset_index(inplace=True)\n",
    "for Index,i in enumerate(df['price']):\n",
    "    i = str(i).replace('₹','')\n",
    "    i = str(i).replace(',','')\n",
    "    df['price'][Index] = i"
   ]
  },
  {
   "cell_type": "code",
   "execution_count": 108,
   "metadata": {},
   "outputs": [],
   "source": [
    "df['price'] = df['price'].astype('Int16')"
   ]
  },
  {
   "cell_type": "markdown",
   "metadata": {},
   "source": [
    "## Processors"
   ]
  },
  {
   "cell_type": "code",
   "execution_count": 109,
   "metadata": {},
   "outputs": [],
   "source": [
    "def processor(text):\n",
    "    pattern=r'(?<=Type).*'\n",
    "    search = re.search(pattern,text)\n",
    "    if search != None:\n",
    "        return ' '.join(re.findall(pattern,text))\n",
    "    else:\n",
    "        return 'not montioned'"
   ]
  },
  {
   "cell_type": "code",
   "execution_count": 110,
   "metadata": {},
   "outputs": [],
   "source": [
    "df['processor'] = df['processors'].apply(processor)\n",
    "df = df.drop('processors',axis=1)\n",
    "df = df.drop('index',axis=1)\n"
   ]
  },
  {
   "cell_type": "markdown",
   "metadata": {},
   "source": [
    "## Remove columns\n",
    "1) storage_ram\n",
    "2) os_processor\n"
   ]
  },
  {
   "cell_type": "code",
   "execution_count": 111,
   "metadata": {},
   "outputs": [],
   "source": [
    "df = df.drop(columns=['os_processor','storage_ram'])"
   ]
  },
  {
   "cell_type": "code",
   "execution_count": 112,
   "metadata": {},
   "outputs": [
    {
     "data": {
      "text/html": [
       "<div>\n",
       "<style scoped>\n",
       "    .dataframe tbody tr th:only-of-type {\n",
       "        vertical-align: middle;\n",
       "    }\n",
       "\n",
       "    .dataframe tbody tr th {\n",
       "        vertical-align: top;\n",
       "    }\n",
       "\n",
       "    .dataframe thead th {\n",
       "        text-align: right;\n",
       "    }\n",
       "</style>\n",
       "<table border=\"1\" class=\"dataframe\">\n",
       "  <thead>\n",
       "    <tr style=\"text-align: right;\">\n",
       "      <th></th>\n",
       "      <th>level_0</th>\n",
       "      <th>name</th>\n",
       "      <th>ratings</th>\n",
       "      <th>price</th>\n",
       "      <th>imgURL</th>\n",
       "      <th>camera</th>\n",
       "      <th>display</th>\n",
       "      <th>network</th>\n",
       "      <th>storage</th>\n",
       "      <th>ios_version</th>\n",
       "      <th>processor</th>\n",
       "    </tr>\n",
       "  </thead>\n",
       "  <tbody>\n",
       "    <tr>\n",
       "      <th>0</th>\n",
       "      <td>0</td>\n",
       "      <td>APPLE iPhone 13 (Blue, 128 GB)</td>\n",
       "      <td>4.7</td>\n",
       "      <td>-3537</td>\n",
       "      <td>https://rukminim2.flixcart.com/image/312/312/k...</td>\n",
       "      <td>Primary Camera AvailableYesPrimary Camera12MP ...</td>\n",
       "      <td>Display Size15.49 cm (6.1 inch)Resolution2532 ...</td>\n",
       "      <td>Network Type5G, 4G, 3G, 2GSupported Networks5G...</td>\n",
       "      <td>128</td>\n",
       "      <td>15</td>\n",
       "      <td>A15 Bionic ChipProcessor</td>\n",
       "    </tr>\n",
       "    <tr>\n",
       "      <th>1</th>\n",
       "      <td>1</td>\n",
       "      <td>APPLE iPhone 13 (Midnight, 128 GB)</td>\n",
       "      <td>4.7</td>\n",
       "      <td>-3537</td>\n",
       "      <td>https://rukminim2.flixcart.com/image/312/312/k...</td>\n",
       "      <td>Primary Camera AvailableYesPrimary Camera12MP ...</td>\n",
       "      <td>Display Size15.49 cm (6.1 inch)Resolution2532 ...</td>\n",
       "      <td>Network Type5G, 4G, 3G, 2GSupported Networks5G...</td>\n",
       "      <td>128</td>\n",
       "      <td>15</td>\n",
       "      <td>A15 Bionic ChipProcessor</td>\n",
       "    </tr>\n",
       "    <tr>\n",
       "      <th>2</th>\n",
       "      <td>2</td>\n",
       "      <td>APPLE iPhone 13 (Starlight, 128 GB)</td>\n",
       "      <td>4.7</td>\n",
       "      <td>-3537</td>\n",
       "      <td>https://rukminim2.flixcart.com/image/312/312/k...</td>\n",
       "      <td>Primary Camera AvailableYesPrimary Camera12MP ...</td>\n",
       "      <td>Display Size15.49 cm (6.1 inch)Resolution2532 ...</td>\n",
       "      <td>Network Type5G, 4G, 3G, 2GSupported Networks5G...</td>\n",
       "      <td>128</td>\n",
       "      <td>15</td>\n",
       "      <td>A15 Bionic ChipProcessor</td>\n",
       "    </tr>\n",
       "    <tr>\n",
       "      <th>3</th>\n",
       "      <td>3</td>\n",
       "      <td>APPLE iPhone 13 (Pink, 128 GB)</td>\n",
       "      <td>4.7</td>\n",
       "      <td>-3537</td>\n",
       "      <td>https://rukminim2.flixcart.com/image/312/312/k...</td>\n",
       "      <td>Primary Camera AvailableYesPrimary Camera12MP ...</td>\n",
       "      <td>Display Size15.49 cm (6.1 inch)Resolution2532 ...</td>\n",
       "      <td>Network Type5G, 4G, 3G, 2GSupported Networks5G...</td>\n",
       "      <td>128</td>\n",
       "      <td>15</td>\n",
       "      <td>A15 Bionic ChipProcessor</td>\n",
       "    </tr>\n",
       "    <tr>\n",
       "      <th>4</th>\n",
       "      <td>4</td>\n",
       "      <td>APPLE iPhone 14 (Midnight, 128 GB)</td>\n",
       "      <td>4.6</td>\n",
       "      <td>4463</td>\n",
       "      <td>https://rukminim2.flixcart.com/image/312/312/x...</td>\n",
       "      <td>Primary Camera AvailableYesPrimary Camera12MP ...</td>\n",
       "      <td>Display Size15.49 cm (6.1 inch)Resolution2532 ...</td>\n",
       "      <td>Network Type5G, 4G VOLTE, 4G, 3G, 2GSupported ...</td>\n",
       "      <td>128</td>\n",
       "      <td>16</td>\n",
       "      <td>A15 Bionic Chip, 6 Core ProcessorProcessor</td>\n",
       "    </tr>\n",
       "    <tr>\n",
       "      <th>...</th>\n",
       "      <td>...</td>\n",
       "      <td>...</td>\n",
       "      <td>...</td>\n",
       "      <td>...</td>\n",
       "      <td>...</td>\n",
       "      <td>...</td>\n",
       "      <td>...</td>\n",
       "      <td>...</td>\n",
       "      <td>...</td>\n",
       "      <td>...</td>\n",
       "      <td>...</td>\n",
       "    </tr>\n",
       "    <tr>\n",
       "      <th>417</th>\n",
       "      <td>419</td>\n",
       "      <td>APPLE iPhone XR (Yellow, 128 GB)</td>\n",
       "      <td>4.6</td>\n",
       "      <td>-23837</td>\n",
       "      <td>https://rukminim2.flixcart.com/image/312/312/k...</td>\n",
       "      <td>Primary Camera AvailableYesPrimary Camera12MP ...</td>\n",
       "      <td>Display Size15.49 cm (6.1 inch)Resolution1792 ...</td>\n",
       "      <td>Network Type3G, 4G, 2GSupported NetworksGSM, W...</td>\n",
       "      <td>128</td>\n",
       "      <td>14</td>\n",
       "      <td>not montioned</td>\n",
       "    </tr>\n",
       "    <tr>\n",
       "      <th>418</th>\n",
       "      <td>420</td>\n",
       "      <td>APPLE iPhone 11 Pro (Midnight Green, 256 GB)</td>\n",
       "      <td>4.6</td>\n",
       "      <td>-9772</td>\n",
       "      <td>https://rukminim2.flixcart.com/image/312/312/k...</td>\n",
       "      <td>Primary Camera AvailableYesPrimary Camera12MP ...</td>\n",
       "      <td>Display Size14.73 cm (5.8 inch)Resolution2436 ...</td>\n",
       "      <td>Network Type4G VOLTE, 4G, 3G, 2GSupported Netw...</td>\n",
       "      <td>256</td>\n",
       "      <td>13</td>\n",
       "      <td>not montioned</td>\n",
       "    </tr>\n",
       "    <tr>\n",
       "      <th>419</th>\n",
       "      <td>421</td>\n",
       "      <td>APPLE iPhone X (Silver, 64 GB)</td>\n",
       "      <td>4.6</td>\n",
       "      <td>26364</td>\n",
       "      <td>https://rukminim2.flixcart.com/image/312/312/j...</td>\n",
       "      <td>Primary Camera AvailableYesPrimary Camera12MP ...</td>\n",
       "      <td>Display Size14.73 cm (5.8 inch)Resolution2436 ...</td>\n",
       "      <td>Network Type3G, 4G, 2GSupported NetworksGSM, W...</td>\n",
       "      <td>64</td>\n",
       "      <td>11</td>\n",
       "      <td>not montioned</td>\n",
       "    </tr>\n",
       "    <tr>\n",
       "      <th>420</th>\n",
       "      <td>422</td>\n",
       "      <td>APPLE iPhone X (Space Gray, 256 GB)</td>\n",
       "      <td>4.6</td>\n",
       "      <td>-24172</td>\n",
       "      <td>https://rukminim2.flixcart.com/image/312/312/j...</td>\n",
       "      <td>Primary Camera AvailableYesPrimary Camera12MP ...</td>\n",
       "      <td>Display Size14.73 cm (5.8 inch)Resolution2436 ...</td>\n",
       "      <td>Network Type3G, 4G, 2GSupported NetworksGSM, W...</td>\n",
       "      <td>256</td>\n",
       "      <td>11</td>\n",
       "      <td>not montioned</td>\n",
       "    </tr>\n",
       "    <tr>\n",
       "      <th>421</th>\n",
       "      <td>423</td>\n",
       "      <td>APPLE iPhone X (Space Gray, 64 GB)</td>\n",
       "      <td>4.6</td>\n",
       "      <td>26364</td>\n",
       "      <td>https://rukminim2.flixcart.com/image/312/312/j...</td>\n",
       "      <td>Primary Camera AvailableYesPrimary Camera12MP ...</td>\n",
       "      <td>Display Size14.73 cm (5.8 inch)Resolution2436 ...</td>\n",
       "      <td>Network Type3G, 4G, 2GSupported NetworksGSM, W...</td>\n",
       "      <td>64</td>\n",
       "      <td>11</td>\n",
       "      <td>not montioned</td>\n",
       "    </tr>\n",
       "  </tbody>\n",
       "</table>\n",
       "<p>422 rows × 11 columns</p>\n",
       "</div>"
      ],
      "text/plain": [
       "     level_0                                          name  ratings   price   \n",
       "0          0                APPLE iPhone 13 (Blue, 128 GB)      4.7   -3537  \\\n",
       "1          1            APPLE iPhone 13 (Midnight, 128 GB)      4.7   -3537   \n",
       "2          2           APPLE iPhone 13 (Starlight, 128 GB)      4.7   -3537   \n",
       "3          3                APPLE iPhone 13 (Pink, 128 GB)      4.7   -3537   \n",
       "4          4            APPLE iPhone 14 (Midnight, 128 GB)      4.6    4463   \n",
       "..       ...                                           ...      ...     ...   \n",
       "417      419              APPLE iPhone XR (Yellow, 128 GB)      4.6  -23837   \n",
       "418      420  APPLE iPhone 11 Pro (Midnight Green, 256 GB)      4.6   -9772   \n",
       "419      421                APPLE iPhone X (Silver, 64 GB)      4.6   26364   \n",
       "420      422           APPLE iPhone X (Space Gray, 256 GB)      4.6  -24172   \n",
       "421      423            APPLE iPhone X (Space Gray, 64 GB)      4.6   26364   \n",
       "\n",
       "                                                imgURL   \n",
       "0    https://rukminim2.flixcart.com/image/312/312/k...  \\\n",
       "1    https://rukminim2.flixcart.com/image/312/312/k...   \n",
       "2    https://rukminim2.flixcart.com/image/312/312/k...   \n",
       "3    https://rukminim2.flixcart.com/image/312/312/k...   \n",
       "4    https://rukminim2.flixcart.com/image/312/312/x...   \n",
       "..                                                 ...   \n",
       "417  https://rukminim2.flixcart.com/image/312/312/k...   \n",
       "418  https://rukminim2.flixcart.com/image/312/312/k...   \n",
       "419  https://rukminim2.flixcart.com/image/312/312/j...   \n",
       "420  https://rukminim2.flixcart.com/image/312/312/j...   \n",
       "421  https://rukminim2.flixcart.com/image/312/312/j...   \n",
       "\n",
       "                                                camera   \n",
       "0    Primary Camera AvailableYesPrimary Camera12MP ...  \\\n",
       "1    Primary Camera AvailableYesPrimary Camera12MP ...   \n",
       "2    Primary Camera AvailableYesPrimary Camera12MP ...   \n",
       "3    Primary Camera AvailableYesPrimary Camera12MP ...   \n",
       "4    Primary Camera AvailableYesPrimary Camera12MP ...   \n",
       "..                                                 ...   \n",
       "417  Primary Camera AvailableYesPrimary Camera12MP ...   \n",
       "418  Primary Camera AvailableYesPrimary Camera12MP ...   \n",
       "419  Primary Camera AvailableYesPrimary Camera12MP ...   \n",
       "420  Primary Camera AvailableYesPrimary Camera12MP ...   \n",
       "421  Primary Camera AvailableYesPrimary Camera12MP ...   \n",
       "\n",
       "                                               display   \n",
       "0    Display Size15.49 cm (6.1 inch)Resolution2532 ...  \\\n",
       "1    Display Size15.49 cm (6.1 inch)Resolution2532 ...   \n",
       "2    Display Size15.49 cm (6.1 inch)Resolution2532 ...   \n",
       "3    Display Size15.49 cm (6.1 inch)Resolution2532 ...   \n",
       "4    Display Size15.49 cm (6.1 inch)Resolution2532 ...   \n",
       "..                                                 ...   \n",
       "417  Display Size15.49 cm (6.1 inch)Resolution1792 ...   \n",
       "418  Display Size14.73 cm (5.8 inch)Resolution2436 ...   \n",
       "419  Display Size14.73 cm (5.8 inch)Resolution2436 ...   \n",
       "420  Display Size14.73 cm (5.8 inch)Resolution2436 ...   \n",
       "421  Display Size14.73 cm (5.8 inch)Resolution2436 ...   \n",
       "\n",
       "                                               network  storage  ios_version   \n",
       "0    Network Type5G, 4G, 3G, 2GSupported Networks5G...      128           15  \\\n",
       "1    Network Type5G, 4G, 3G, 2GSupported Networks5G...      128           15   \n",
       "2    Network Type5G, 4G, 3G, 2GSupported Networks5G...      128           15   \n",
       "3    Network Type5G, 4G, 3G, 2GSupported Networks5G...      128           15   \n",
       "4    Network Type5G, 4G VOLTE, 4G, 3G, 2GSupported ...      128           16   \n",
       "..                                                 ...      ...          ...   \n",
       "417  Network Type3G, 4G, 2GSupported NetworksGSM, W...      128           14   \n",
       "418  Network Type4G VOLTE, 4G, 3G, 2GSupported Netw...      256           13   \n",
       "419  Network Type3G, 4G, 2GSupported NetworksGSM, W...       64           11   \n",
       "420  Network Type3G, 4G, 2GSupported NetworksGSM, W...      256           11   \n",
       "421  Network Type3G, 4G, 2GSupported NetworksGSM, W...       64           11   \n",
       "\n",
       "                                      processor  \n",
       "0                      A15 Bionic ChipProcessor  \n",
       "1                      A15 Bionic ChipProcessor  \n",
       "2                      A15 Bionic ChipProcessor  \n",
       "3                      A15 Bionic ChipProcessor  \n",
       "4    A15 Bionic Chip, 6 Core ProcessorProcessor  \n",
       "..                                          ...  \n",
       "417                               not montioned  \n",
       "418                               not montioned  \n",
       "419                               not montioned  \n",
       "420                               not montioned  \n",
       "421                               not montioned  \n",
       "\n",
       "[422 rows x 11 columns]"
      ]
     },
     "execution_count": 112,
     "metadata": {},
     "output_type": "execute_result"
    }
   ],
   "source": [
    "df"
   ]
  }
 ],
 "metadata": {
  "kernelspec": {
   "display_name": "Python 3",
   "language": "python",
   "name": "python3"
  },
  "language_info": {
   "codemirror_mode": {
    "name": "ipython",
    "version": 3
   },
   "file_extension": ".py",
   "mimetype": "text/x-python",
   "name": "python",
   "nbconvert_exporter": "python",
   "pygments_lexer": "ipython3",
   "version": "3.11.3"
  },
  "orig_nbformat": 4
 },
 "nbformat": 4,
 "nbformat_minor": 2
}
