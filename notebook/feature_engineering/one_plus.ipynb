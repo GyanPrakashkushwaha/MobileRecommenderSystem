{
 "cells": [
  {
   "cell_type": "code",
   "execution_count": 118,
   "metadata": {},
   "outputs": [],
   "source": [
    "import pandas as pd\n",
    "import os\n",
    "import numpy as np\n",
    "from ensure import ensure_annotations\n",
    "import re\n",
    "import warnings\n",
    "warnings.filterwarnings('ignore')"
   ]
  },
  {
   "cell_type": "code",
   "execution_count": 119,
   "metadata": {},
   "outputs": [
    {
     "name": "stdout",
     "output_type": "stream",
     "text": [
      "d:\\vscode_machineLearning\\BEST_PROJECTS\\mobileRecommenderSystem\n",
      "None\n",
      "d:\\vscode_machineLearning\\BEST_PROJECTS\\mobileRecommenderSystem\n"
     ]
    }
   ],
   "source": [
    "print(os.getcwd())\n",
    "print(os.chdir(r'd:\\vscode_machineLearning\\BEST_PROJECTS\\mobileRecommenderSystem'))\n",
    "print(os.getcwd())"
   ]
  },
  {
   "cell_type": "code",
   "execution_count": 120,
   "metadata": {},
   "outputs": [],
   "source": [
    "df = pd.read_csv(r'data\\raw_data\\one_plus_mobile_new_data.csv',index_col=None)"
   ]
  },
  {
   "cell_type": "code",
   "execution_count": 121,
   "metadata": {},
   "outputs": [],
   "source": [
    "df.drop_duplicates(inplace=True,ignore_index=True)"
   ]
  },
  {
   "cell_type": "markdown",
   "metadata": {},
   "source": [
    "## Price"
   ]
  },
  {
   "cell_type": "code",
   "execution_count": 122,
   "metadata": {},
   "outputs": [],
   "source": [
    "df.reset_index(inplace=True)\n",
    "for Index,i in enumerate(df['price']):\n",
    "    i = str(i).replace('₹','')\n",
    "    i = str(i).replace(',','')\n",
    "    df['price'][Index] = i"
   ]
  },
  {
   "cell_type": "code",
   "execution_count": 123,
   "metadata": {},
   "outputs": [],
   "source": [
    "df['price'] = df['price'].astype('Int16')"
   ]
  },
  {
   "cell_type": "code",
   "execution_count": 124,
   "metadata": {},
   "outputs": [],
   "source": [
    "df['price'] = df['price'].abs() # this is to remove the negative values from price feature"
   ]
  },
  {
   "cell_type": "markdown",
   "metadata": {},
   "source": [
    "## Ratings"
   ]
  },
  {
   "cell_type": "code",
   "execution_count": 125,
   "metadata": {},
   "outputs": [
    {
     "data": {
      "text/plain": [
       "dtype('float64')"
      ]
     },
     "execution_count": 125,
     "metadata": {},
     "output_type": "execute_result"
    }
   ],
   "source": [
    "df['ratings'].dtype"
   ]
  },
  {
   "cell_type": "markdown",
   "metadata": {},
   "source": [
    "## Ram"
   ]
  },
  {
   "cell_type": "code",
   "execution_count": 126,
   "metadata": {},
   "outputs": [],
   "source": [
    "def extract_ram(row):\n",
    "    ram = row.split()[2]\n",
    "    return ram\n",
    "\n",
    "df['ram'] = df['storage_ram'].apply(func=extract_ram)"
   ]
  },
  {
   "cell_type": "code",
   "execution_count": 127,
   "metadata": {},
   "outputs": [
    {
     "name": "stdout",
     "output_type": "stream",
     "text": [
      "looped till 188 index\n"
     ]
    }
   ],
   "source": [
    "import warnings\n",
    "warnings.filterwarnings('ignore')\n",
    "count = 0\n",
    "for i in range(0,len(df['ram'])):\n",
    "    # df['ram'][i]= df['ram'].iloc[i].replace('MBRAM','')\n",
    "    df['ram'][i]= df['ram'].iloc[i].replace('GBRAM','')\n",
    "    count+=1\n",
    "print(f'looped till {count} index')"
   ]
  },
  {
   "cell_type": "code",
   "execution_count": 128,
   "metadata": {},
   "outputs": [],
   "source": [
    "df['ram'] = df['ram'].astype('Int16')"
   ]
  },
  {
   "cell_type": "markdown",
   "metadata": {},
   "source": [
    "## storage"
   ]
  },
  {
   "cell_type": "code",
   "execution_count": 129,
   "metadata": {},
   "outputs": [],
   "source": [
    "def extract_storage(row):\n",
    "    storage = row.split()[1]\n",
    "    return storage\n",
    "\n",
    "\n",
    "df['storage'] = df['storage_ram'].apply(func=extract_storage)"
   ]
  },
  {
   "cell_type": "code",
   "execution_count": 130,
   "metadata": {},
   "outputs": [
    {
     "name": "stdout",
     "output_type": "stream",
     "text": [
      "looped till 188 index\n"
     ]
    }
   ],
   "source": [
    "import warnings\n",
    "warnings.filterwarnings('ignore')\n",
    "count = 0\n",
    "for i in range(0,len(df['storage'])):\n",
    "    df['storage'][i]= df['storage'].iloc[i].replace('Storage','')\n",
    "    count+=1\n",
    "print(f'looped till {count} index')"
   ]
  },
  {
   "cell_type": "code",
   "execution_count": 131,
   "metadata": {},
   "outputs": [],
   "source": [
    "df['storage'] = df['storage'].astype('Int16')\n",
    "## Removing storage_ram\n",
    "df = df.drop(columns=['storage_ram','index'])"
   ]
  },
  {
   "cell_type": "markdown",
   "metadata": {},
   "source": [
    "## Android Version"
   ]
  },
  {
   "cell_type": "code",
   "execution_count": 132,
   "metadata": {},
   "outputs": [],
   "source": [
    "def extract_processor(text):\n",
    "    pattern = r'.*Processor'\n",
    "    match = re.findall(pattern, text)\n",
    "    if match:\n",
    "        return match[0]\n",
    "    else:\n",
    "        return text\n"
   ]
  },
  {
   "cell_type": "code",
   "execution_count": 133,
   "metadata": {},
   "outputs": [],
   "source": [
    "df['os_processor'] = df['os_processor'].apply(extract_processor)"
   ]
  },
  {
   "cell_type": "code",
   "execution_count": 134,
   "metadata": {},
   "outputs": [],
   "source": [
    "def android_version(text_):\n",
    "    split = text_.split()\n",
    "    if 'OxygenProcessor' in split:\n",
    "        return 'OxygenProcessor'\n",
    "    elif 'ANdroid' in split:\n",
    "        return split[3]\n",
    "    elif 'OxygenOSProcessor' in split:\n",
    "        return 'OxygenOSProcessor'\n",
    "    else:\n",
    "        pattern=r'^\\d+[Processor]|\\d+[GProcessor]|\\d++[.Processor]'\n",
    "        found = re.findall(pattern,text_)\n",
    "        if found:\n",
    "            return found[0]\n",
    "        else:\n",
    "            return 'other androidVerion'"
   ]
  },
  {
   "cell_type": "code",
   "execution_count": 135,
   "metadata": {},
   "outputs": [],
   "source": [
    "df['android_version'] = df['os_processor'].apply(android_version)"
   ]
  },
  {
   "cell_type": "code",
   "execution_count": 136,
   "metadata": {},
   "outputs": [],
   "source": [
    "df.reset_index(inplace=True)\n",
    "for Index,i in enumerate(df['android_version']):\n",
    "    # print(i)\n",
    "    i = str(i).replace('P','')\n",
    "    i = str(i).replace('.','')\n",
    "    df['android_version'][Index] = i"
   ]
  },
  {
   "cell_type": "markdown",
   "metadata": {},
   "source": [
    "## Processor"
   ]
  },
  {
   "cell_type": "code",
   "execution_count": 137,
   "metadata": {},
   "outputs": [],
   "source": [
    "def processor(text):\n",
    "    pattern=r'(?<=Type).*'\n",
    "    search = re.search(pattern,text)\n",
    "    if search != None:\n",
    "        return ' '.join(re.findall(pattern,text))\n",
    "    else:\n",
    "        return 'not montioned'"
   ]
  },
  {
   "cell_type": "code",
   "execution_count": 138,
   "metadata": {},
   "outputs": [],
   "source": [
    "df['processor'] = df['os_processor'].apply(processor)\n",
    "df = df.drop('os_processor',axis=1)\n",
    "df = df.drop('index',axis=1)\n"
   ]
  },
  {
   "cell_type": "code",
   "execution_count": 139,
   "metadata": {},
   "outputs": [],
   "source": [
    "def processor_extract(text):\n",
    "    splitted_sentence = text.split()\n",
    "    if 'Mediatek' and 'Helio' in splitted_sentence:\n",
    "        pattern = r'\\d+[Processor]|\\d+'\n",
    "        string = ' '.join(splitted_sentence)\n",
    "        match = re.search(pattern,string)\n",
    "        if match == None:\n",
    "            return 'Heilo'+str(splitted_sentence[2])\n",
    "        else:\n",
    "            find = re.findall(pattern,string)\n",
    "            return 'Heilo'+''.join(find)\n",
    "\n",
    "\n",
    "    elif 'Mediatek' and 'Dimensity' in splitted_sentence:\n",
    "        pattern = r'(\\d+)+[Processor]'\n",
    "        string = ' '.join(splitted_sentence)\n",
    "        match = re.search(pattern,string)\n",
    "        if match == None:\n",
    "            if 'Dimensity' == str(splitted_sentence[1]):\n",
    "                return 'Dimensity'+str(splitted_sentence[2])\n",
    "            else:\n",
    "                return 'Dimensity'+str(splitted_sentence[1])\n",
    "        \n",
    "        else:\n",
    "            find = re.findall(pattern,string)\n",
    "            return 'Dimensity'+ ''.join(find)\n",
    "\n",
    "    elif 'Snapdragon' and 'Gen' and '4' in splitted_sentence:\n",
    "        return 'Gen4'   \n",
    "\n",
    "    elif 'Snapdragon' and 'Gen' and '8' in splitted_sentence:         \n",
    "        return 'Gen8'\n",
    "    \n",
    "    elif 'Unisoc' in splitted_sentence:\n",
    "        \n",
    "        if 'Unisoc' and 'Tiger' in splitted_sentence:\n",
    "            pattern = r'[T]\\d[Processor]'\n",
    "            string = ' '.join(splitted_sentence)\n",
    "            match = re.findall(pattern,string)\n",
    "            return 'UnisocTiger' + ''.join(splitted_sentence[2])\n",
    "        \n",
    "        elif 'Unisoc' == splitted_sentence[0]:\n",
    "            pattern = r'[T]\\d.'\n",
    "            string = ' '.join(splitted_sentence)\n",
    "            match = re.findall(pattern,string)\n",
    "            return 'Unisoc' + ''.join(splitted_sentence[1])\n",
    "\n",
    "        \n",
    "        pattern = r'T(\\d+)Processor|\\d+'\n",
    "        string = ' '.join(splitted_sentence)\n",
    "        match = re.findall(pattern,string)\n",
    "        return 'Unisoc'+' '.join(match)\n",
    "    \n",
    "\n",
    "    elif 'Snapdragon' in splitted_sentence:\n",
    "        pattern = r'\\d+[Processor]'\n",
    "        if 'Gen' and '4' and '8' not in splitted_sentence:\n",
    "            string = ' '.join(splitted_sentence)\n",
    "            match = re.search(pattern,string)\n",
    "            if match == None:\n",
    "                if 'Snapdragon' == str(splitted_sentence[1]):\n",
    "                    return 'Snapdragon'+str(splitted_sentence[2])\n",
    "                else:\n",
    "                    return 'Snapdragon'+str(splitted_sentence[1])\n",
    "            else:\n",
    "                find = re.findall(pattern,string)\n",
    "                return 'Snapdragon'+''.join(find)\n",
    "    \n",
    "    elif 'MediaTek' == splitted_sentence[0]:\n",
    "        pattern = r'[P]\\d.'\n",
    "        string = ' '.join(splitted_sentence)\n",
    "        match = re.findall(pattern,string)\n",
    "        return 'MediaTek' + ' '.join(match)\n",
    "\n",
    "    else:\n",
    "        return 'not mentioned'      \n"
   ]
  },
  {
   "cell_type": "code",
   "execution_count": 140,
   "metadata": {},
   "outputs": [],
   "source": [
    "df['processor']=df['processor'].apply(processor_extract)"
   ]
  },
  {
   "cell_type": "markdown",
   "metadata": {},
   "source": [
    "## camera"
   ]
  },
  {
   "cell_type": "code",
   "execution_count": 141,
   "metadata": {},
   "outputs": [],
   "source": [
    "def camera_extract(row):\n",
    "    row_splitted = row.split()\n",
    "    pattern = r'\\d+MP'\n",
    "    words = ' '.join(row_splitted)\n",
    "    find_cam = re.findall(pattern,words)\n",
    "    return ' '.join(find_cam)\n"
   ]
  },
  {
   "cell_type": "code",
   "execution_count": 142,
   "metadata": {},
   "outputs": [],
   "source": [
    "df['camera'] = df['camera'].apply(camera_extract)"
   ]
  },
  {
   "cell_type": "code",
   "execution_count": 143,
   "metadata": {},
   "outputs": [],
   "source": [
    "def camera(txt):\n",
    "    lst = []\n",
    "    splitted = txt.split()\n",
    "    for i in splitted:\n",
    "        make_int = i.replace('MP','')\n",
    "        lst.append(int(make_int))\n",
    "    return max(lst)\n"
   ]
  },
  {
   "cell_type": "code",
   "execution_count": 144,
   "metadata": {},
   "outputs": [],
   "source": [
    "df['camera'] = df['camera'].apply(func=camera)\n",
    "df['camera'] = df['camera'].astype('Int16')"
   ]
  },
  {
   "cell_type": "markdown",
   "metadata": {},
   "source": [
    "## display"
   ]
  },
  {
   "cell_type": "code",
   "execution_count": 145,
   "metadata": {},
   "outputs": [],
   "source": [
    "def display_extract(row):\n",
    "    split_row = row.split()\n",
    "    if 'LCD' in split_row:\n",
    "        if 'IPS' in split_row and 'LCD' in split_row:\n",
    "            return 'IPS LCD'\n",
    "        return 'LCD'\n",
    "    \n",
    "    if 'OLED' in split_row:\n",
    "        return 'OLED'\n",
    "    \n",
    "    if 'TFT' in split_row:\n",
    "        return 'TFT'\n",
    "    \n",
    "    if 'LED' in split_row:\n",
    "        return 'LED'\n",
    "\n",
    "    # if 'Adreno' in split_row:\n",
    "    #     return 'Adreno'\n",
    "    if 'AMOLED' in split_row:\n",
    "        if 'HD+' in split_row and 'AMOLED' in split_row:\n",
    "            return 'HD+ AMOLED'\n",
    "        return 'AMOLED'\n",
    "    \n",
    "    return 'other'\n"
   ]
  },
  {
   "cell_type": "code",
   "execution_count": 146,
   "metadata": {},
   "outputs": [],
   "source": [
    "df['display'] = df['display'].apply(display_extract)"
   ]
  },
  {
   "cell_type": "markdown",
   "metadata": {},
   "source": [
    "## network"
   ]
  },
  {
   "cell_type": "code",
   "execution_count": 147,
   "metadata": {},
   "outputs": [],
   "source": [
    "df = df.drop(columns=['network'])"
   ]
  },
  {
   "cell_type": "markdown",
   "metadata": {},
   "source": [
    "## battery"
   ]
  },
  {
   "cell_type": "code",
   "execution_count": 148,
   "metadata": {},
   "outputs": [],
   "source": [
    "def extract_battery(row):\n",
    "    return row.split()[1]\n",
    "\n",
    "df['battery'] = df['battery'].apply(extract_battery)"
   ]
  },
  {
   "cell_type": "code",
   "execution_count": 149,
   "metadata": {},
   "outputs": [
    {
     "name": "stdout",
     "output_type": "stream",
     "text": [
      "looped till 188 index\n"
     ]
    }
   ],
   "source": [
    "df.reset_index(inplace=True)\n",
    "count = 0\n",
    "for i in range(0,len(df['battery'])):\n",
    "    # print(i)\n",
    "    df['battery'][i]= df['battery'].iloc[i].replace('Capacity','')\n",
    "    # print(df['battery'][i])\n",
    "    count+=1\n",
    "print(f'looped till {count} index')"
   ]
  },
  {
   "cell_type": "code",
   "execution_count": 150,
   "metadata": {},
   "outputs": [],
   "source": [
    "df['battery'] = df['battery'].astype('Int16')"
   ]
  },
  {
   "cell_type": "code",
   "execution_count": 152,
   "metadata": {},
   "outputs": [],
   "source": [
    "df = df.drop(labels='index',axis=1)"
   ]
  },
  {
   "cell_type": "code",
   "execution_count": 154,
   "metadata": {},
   "outputs": [
    {
     "data": {
      "text/html": [
       "<div>\n",
       "<style scoped>\n",
       "    .dataframe tbody tr th:only-of-type {\n",
       "        vertical-align: middle;\n",
       "    }\n",
       "\n",
       "    .dataframe tbody tr th {\n",
       "        vertical-align: top;\n",
       "    }\n",
       "\n",
       "    .dataframe thead th {\n",
       "        text-align: right;\n",
       "    }\n",
       "</style>\n",
       "<table border=\"1\" class=\"dataframe\">\n",
       "  <thead>\n",
       "    <tr style=\"text-align: right;\">\n",
       "      <th></th>\n",
       "      <th>name</th>\n",
       "      <th>ratings</th>\n",
       "      <th>price</th>\n",
       "      <th>imgURL</th>\n",
       "      <th>camera</th>\n",
       "      <th>display</th>\n",
       "      <th>battery</th>\n",
       "      <th>ram</th>\n",
       "      <th>storage</th>\n",
       "      <th>android_version</th>\n",
       "      <th>processor</th>\n",
       "    </tr>\n",
       "  </thead>\n",
       "  <tbody>\n",
       "    <tr>\n",
       "      <th>0</th>\n",
       "      <td>OnePlus Nord CE 2 Lite 5G (Blue Tide, 128 GB)</td>\n",
       "      <td>4.4</td>\n",
       "      <td>17676</td>\n",
       "      <td>https://rukminim2.flixcart.com/image/312/312/x...</td>\n",
       "      <td>64</td>\n",
       "      <td>other</td>\n",
       "      <td>5000</td>\n",
       "      <td>6</td>\n",
       "      <td>128</td>\n",
       "      <td>10</td>\n",
       "      <td>not mentioned</td>\n",
       "    </tr>\n",
       "    <tr>\n",
       "      <th>1</th>\n",
       "      <td>OnePlus Nord CE 2 Lite 5G (Black Dusk, 128 GB)</td>\n",
       "      <td>4.4</td>\n",
       "      <td>17691</td>\n",
       "      <td>https://rukminim2.flixcart.com/image/312/312/x...</td>\n",
       "      <td>64</td>\n",
       "      <td>other</td>\n",
       "      <td>5000</td>\n",
       "      <td>6</td>\n",
       "      <td>128</td>\n",
       "      <td>13</td>\n",
       "      <td>not mentioned</td>\n",
       "    </tr>\n",
       "    <tr>\n",
       "      <th>2</th>\n",
       "      <td>OnePlus 11R 5G (Galactic Silver, 256 GB)</td>\n",
       "      <td>4.5</td>\n",
       "      <td>20846</td>\n",
       "      <td>https://rukminim2.flixcart.com/image/312/312/x...</td>\n",
       "      <td>50</td>\n",
       "      <td>other</td>\n",
       "      <td>5000</td>\n",
       "      <td>16</td>\n",
       "      <td>256</td>\n",
       "      <td>13</td>\n",
       "      <td>not mentioned</td>\n",
       "    </tr>\n",
       "    <tr>\n",
       "      <th>3</th>\n",
       "      <td>OnePlus 11R 5G (Galactic Silver, 128 GB)</td>\n",
       "      <td>4.5</td>\n",
       "      <td>25802</td>\n",
       "      <td>https://rukminim2.flixcart.com/image/312/312/x...</td>\n",
       "      <td>50</td>\n",
       "      <td>other</td>\n",
       "      <td>5000</td>\n",
       "      <td>8</td>\n",
       "      <td>128</td>\n",
       "      <td>13</td>\n",
       "      <td>not mentioned</td>\n",
       "    </tr>\n",
       "    <tr>\n",
       "      <th>4</th>\n",
       "      <td>OnePlus 11R 5G (Sonic Black, 256 GB)</td>\n",
       "      <td>4.5</td>\n",
       "      <td>21252</td>\n",
       "      <td>https://rukminim2.flixcart.com/image/312/312/x...</td>\n",
       "      <td>50</td>\n",
       "      <td>other</td>\n",
       "      <td>5000</td>\n",
       "      <td>16</td>\n",
       "      <td>256</td>\n",
       "      <td>13</td>\n",
       "      <td>not mentioned</td>\n",
       "    </tr>\n",
       "    <tr>\n",
       "      <th>...</th>\n",
       "      <td>...</td>\n",
       "      <td>...</td>\n",
       "      <td>...</td>\n",
       "      <td>...</td>\n",
       "      <td>...</td>\n",
       "      <td>...</td>\n",
       "      <td>...</td>\n",
       "      <td>...</td>\n",
       "      <td>...</td>\n",
       "      <td>...</td>\n",
       "      <td>...</td>\n",
       "    </tr>\n",
       "    <tr>\n",
       "      <th>183</th>\n",
       "      <td>OnePlus N20 SE (BLUE OASIS, 64 GB)</td>\n",
       "      <td>4.2</td>\n",
       "      <td>15674</td>\n",
       "      <td>https://rukminim2.flixcart.com/image/312/312/x...</td>\n",
       "      <td>50</td>\n",
       "      <td>other</td>\n",
       "      <td>5000</td>\n",
       "      <td>4</td>\n",
       "      <td>64</td>\n",
       "      <td>12</td>\n",
       "      <td>not mentioned</td>\n",
       "    </tr>\n",
       "    <tr>\n",
       "      <th>184</th>\n",
       "      <td>OnePlus 9 Pro 5G (Morning Mist, 128 GB)</td>\n",
       "      <td>3.8</td>\n",
       "      <td>17537</td>\n",
       "      <td>https://rukminim2.flixcart.com/image/312/312/x...</td>\n",
       "      <td>48</td>\n",
       "      <td>other</td>\n",
       "      <td>4500</td>\n",
       "      <td>8</td>\n",
       "      <td>128</td>\n",
       "      <td>11</td>\n",
       "      <td>not mentioned</td>\n",
       "    </tr>\n",
       "    <tr>\n",
       "      <th>185</th>\n",
       "      <td>OnePlus 6 (Mirror Black, 128 GB)</td>\n",
       "      <td>4.2</td>\n",
       "      <td>17990</td>\n",
       "      <td>https://rukminim2.flixcart.com/image/312/312/x...</td>\n",
       "      <td>20</td>\n",
       "      <td>other</td>\n",
       "      <td>3300</td>\n",
       "      <td>8</td>\n",
       "      <td>128</td>\n",
       "      <td>8</td>\n",
       "      <td>not mentioned</td>\n",
       "    </tr>\n",
       "    <tr>\n",
       "      <th>186</th>\n",
       "      <td>OnePlus 6T McLaren Edition (Speed Orange, 256 GB)</td>\n",
       "      <td>4.0</td>\n",
       "      <td>26990</td>\n",
       "      <td>https://rukminim2.flixcart.com/image/312/312/x...</td>\n",
       "      <td>20</td>\n",
       "      <td>other</td>\n",
       "      <td>3300</td>\n",
       "      <td>10</td>\n",
       "      <td>256</td>\n",
       "      <td>9</td>\n",
       "      <td>not mentioned</td>\n",
       "    </tr>\n",
       "    <tr>\n",
       "      <th>187</th>\n",
       "      <td>OnePlus Nord CE 2 5G (Gray Mirror, 128 GB)</td>\n",
       "      <td>4.2</td>\n",
       "      <td>24990</td>\n",
       "      <td>https://rukminim2.flixcart.com/image/312/312/x...</td>\n",
       "      <td>50</td>\n",
       "      <td>other</td>\n",
       "      <td>4500</td>\n",
       "      <td>8</td>\n",
       "      <td>128</td>\n",
       "      <td>11</td>\n",
       "      <td>not mentioned</td>\n",
       "    </tr>\n",
       "  </tbody>\n",
       "</table>\n",
       "<p>188 rows × 11 columns</p>\n",
       "</div>"
      ],
      "text/plain": [
       "                                                  name  ratings  price   \n",
       "0        OnePlus Nord CE 2 Lite 5G (Blue Tide, 128 GB)      4.4  17676  \\\n",
       "1       OnePlus Nord CE 2 Lite 5G (Black Dusk, 128 GB)      4.4  17691   \n",
       "2             OnePlus 11R 5G (Galactic Silver, 256 GB)      4.5  20846   \n",
       "3             OnePlus 11R 5G (Galactic Silver, 128 GB)      4.5  25802   \n",
       "4                 OnePlus 11R 5G (Sonic Black, 256 GB)      4.5  21252   \n",
       "..                                                 ...      ...    ...   \n",
       "183                 OnePlus N20 SE (BLUE OASIS, 64 GB)      4.2  15674   \n",
       "184            OnePlus 9 Pro 5G (Morning Mist, 128 GB)      3.8  17537   \n",
       "185                   OnePlus 6 (Mirror Black, 128 GB)      4.2  17990   \n",
       "186  OnePlus 6T McLaren Edition (Speed Orange, 256 GB)      4.0  26990   \n",
       "187         OnePlus Nord CE 2 5G (Gray Mirror, 128 GB)      4.2  24990   \n",
       "\n",
       "                                                imgURL  camera display   \n",
       "0    https://rukminim2.flixcart.com/image/312/312/x...      64   other  \\\n",
       "1    https://rukminim2.flixcart.com/image/312/312/x...      64   other   \n",
       "2    https://rukminim2.flixcart.com/image/312/312/x...      50   other   \n",
       "3    https://rukminim2.flixcart.com/image/312/312/x...      50   other   \n",
       "4    https://rukminim2.flixcart.com/image/312/312/x...      50   other   \n",
       "..                                                 ...     ...     ...   \n",
       "183  https://rukminim2.flixcart.com/image/312/312/x...      50   other   \n",
       "184  https://rukminim2.flixcart.com/image/312/312/x...      48   other   \n",
       "185  https://rukminim2.flixcart.com/image/312/312/x...      20   other   \n",
       "186  https://rukminim2.flixcart.com/image/312/312/x...      20   other   \n",
       "187  https://rukminim2.flixcart.com/image/312/312/x...      50   other   \n",
       "\n",
       "     battery  ram  storage android_version      processor  \n",
       "0       5000    6      128              10  not mentioned  \n",
       "1       5000    6      128              13  not mentioned  \n",
       "2       5000   16      256              13  not mentioned  \n",
       "3       5000    8      128              13  not mentioned  \n",
       "4       5000   16      256              13  not mentioned  \n",
       "..       ...  ...      ...             ...            ...  \n",
       "183     5000    4       64              12  not mentioned  \n",
       "184     4500    8      128              11  not mentioned  \n",
       "185     3300    8      128               8  not mentioned  \n",
       "186     3300   10      256               9  not mentioned  \n",
       "187     4500    8      128              11  not mentioned  \n",
       "\n",
       "[188 rows x 11 columns]"
      ]
     },
     "execution_count": 154,
     "metadata": {},
     "output_type": "execute_result"
    }
   ],
   "source": [
    "df"
   ]
  },
  {
   "cell_type": "code",
   "execution_count": 155,
   "metadata": {},
   "outputs": [],
   "source": [
    "df.to_csv(r'data\\cleaned_dataset\\one_plus_cleaned_data.csv')"
   ]
  },
  {
   "cell_type": "code",
   "execution_count": null,
   "metadata": {},
   "outputs": [],
   "source": []
  }
 ],
 "metadata": {
  "kernelspec": {
   "display_name": "Python 3",
   "language": "python",
   "name": "python3"
  },
  "language_info": {
   "codemirror_mode": {
    "name": "ipython",
    "version": 3
   },
   "file_extension": ".py",
   "mimetype": "text/x-python",
   "name": "python",
   "nbconvert_exporter": "python",
   "pygments_lexer": "ipython3",
   "version": "3.11.3"
  },
  "orig_nbformat": 4
 },
 "nbformat": 4,
 "nbformat_minor": 2
}
