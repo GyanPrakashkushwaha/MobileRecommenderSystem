{
 "cells": [
  {
   "cell_type": "code",
   "execution_count": 394,
   "metadata": {},
   "outputs": [],
   "source": [
    "import pandas as pd\n",
    "import numpy as np\n",
    "import os\n",
    "from typing import Callable # this is to define test_func functions dtype as function itself\n",
    "import re # for regural expression\n",
    "import warnings\n",
    "warnings.filterwarnings('ignore')"
   ]
  },
  {
   "cell_type": "code",
   "execution_count": 395,
   "metadata": {},
   "outputs": [
    {
     "name": "stdout",
     "output_type": "stream",
     "text": [
      "d:\\vscode_machineLearning\\BEST_PROJECTS\\mobileRecommenderSystem\n",
      "d:\\vscode_machineLearning\\BEST_PROJECTS\\mobileRecommenderSystem\n"
     ]
    }
   ],
   "source": [
    "print(os.getcwd())\n",
    "os.chdir(r'd:\\vscode_machineLearning\\BEST_PROJECTS\\mobileRecommenderSystem')\n",
    "print(os.getcwd())"
   ]
  },
  {
   "cell_type": "code",
   "execution_count": 396,
   "metadata": {},
   "outputs": [],
   "source": [
    "mi = pd.read_csv(filepath_or_buffer=r'data\\raw_data\\mi_mobile_new_data.csv',   index_col=False)\n",
    "samsung = pd.read_csv(filepath_or_buffer=r'data\\raw_data\\samsung_mobile_new_data.csv',   index_col=False)\n",
    "apple = pd.read_csv(filepath_or_buffer=r'data\\raw_data\\apple_mobile_new_data.csv',   index_col=False)\n",
    "onePlus = pd.read_csv(filepath_or_buffer=r'data\\raw_data\\one_plus_mobile_new_data.csv',   index_col=False)\n",
    "realme = pd.read_csv(filepath_or_buffer=r'data\\raw_data\\realme_mobile_data.csv',   index_col=False)\n",
    "vivo = pd.read_csv(filepath_or_buffer=r'data\\raw_data\\vivo_mobile_data.csv',   index_col=False)\n",
    "oppo = pd.read_csv(filepath_or_buffer=r'data\\raw_data\\oppo_mobile_data.csv',   index_col=False)\n",
    "motorola = pd.read_csv(filepath_or_buffer=r'data\\raw_data\\motorola_mobile_data.csv',   index_col=False)\n",
    "google = pd.read_csv(filepath_or_buffer=r'data\\raw_data\\google_mobile_data.csv',   index_col=False)\n",
    "techno = pd.read_csv(filepath_or_buffer=r'data\\raw_data\\techno_mobile_data.csv',   index_col=False)\n",
    "infinix = pd.read_csv(filepath_or_buffer=r'data\\raw_data\\infinix_mobile_data.csv',   index_col=False)"
   ]
  },
  {
   "cell_type": "code",
   "execution_count": 397,
   "metadata": {},
   "outputs": [],
   "source": [
    "def random_values(feature_name:str,df:pd.DataFrame,total=6):\n",
    "    for i in range(0,total):\n",
    "        index = np.random.randint(df.shape[0])\n",
    "        print(index,':',df[feature_name].iloc[index])        "
   ]
  },
  {
   "cell_type": "code",
   "execution_count": 398,
   "metadata": {},
   "outputs": [],
   "source": [
    "def test_func(func:Callable ,df:pd.DataFrame,col_name,total_values=8,index=None):\n",
    "    if index != None:\n",
    "        data = df[col_name].iloc[index]\n",
    "        output_of_func = func(data)\n",
    "        print(data)\n",
    "        print('-',output_of_func)\n",
    "        print()\n",
    "        \n",
    "    else:\n",
    "        for i in range(0,total_values):\n",
    "            int_rand = np.random.randint(df.shape[0])\n",
    "            data = df[col_name].iloc[int_rand]\n",
    "            output_of_func = func(data)\n",
    "            print(data,f'::index-{int_rand}')\n",
    "            print('-',output_of_func)\n",
    "            print()"
   ]
  },
  {
   "cell_type": "code",
   "execution_count": 399,
   "metadata": {},
   "outputs": [],
   "source": [
    "# mi"
   ]
  },
  {
   "cell_type": "code",
   "execution_count": 400,
   "metadata": {},
   "outputs": [
    {
     "data": {
      "text/plain": [
       "name             0\n",
       "ratings         27\n",
       "price            0\n",
       "imgURL           0\n",
       "storage_ram      0\n",
       "os_processor     0\n",
       "camera           1\n",
       "display          0\n",
       "network          0\n",
       "battery          0\n",
       "dtype: int64"
      ]
     },
     "execution_count": 400,
     "metadata": {},
     "output_type": "execute_result"
    }
   ],
   "source": [
    "mi.isnull().sum()"
   ]
  },
  {
   "cell_type": "code",
   "execution_count": 401,
   "metadata": {},
   "outputs": [],
   "source": [
    "mi.dropna(inplace=True)"
   ]
  },
  {
   "cell_type": "code",
   "execution_count": 402,
   "metadata": {},
   "outputs": [
    {
     "data": {
      "text/plain": [
       "name            0\n",
       "ratings         0\n",
       "price           0\n",
       "imgURL          0\n",
       "storage_ram     0\n",
       "os_processor    0\n",
       "camera          0\n",
       "display         0\n",
       "network         0\n",
       "battery         0\n",
       "dtype: int64"
      ]
     },
     "execution_count": 402,
     "metadata": {},
     "output_type": "execute_result"
    }
   ],
   "source": [
    "mi.isnull().sum()"
   ]
  },
  {
   "cell_type": "code",
   "execution_count": 403,
   "metadata": {},
   "outputs": [
    {
     "name": "stdout",
     "output_type": "stream",
     "text": [
      "80 : ₹29,990\n",
      "69 : ₹23,999\n",
      "56 : ₹7,490\n",
      "442 : ₹28,858\n",
      "264 : ₹13,199\n",
      "66 : ₹44,999\n"
     ]
    }
   ],
   "source": [
    "random_values('price',mi)"
   ]
  },
  {
   "cell_type": "markdown",
   "metadata": {},
   "source": [
    "# Price"
   ]
  },
  {
   "cell_type": "code",
   "execution_count": 404,
   "metadata": {},
   "outputs": [],
   "source": [
    "def clean_price_col(dataframe:pd.DataFrame):\n",
    "    dataframe.reset_index(inplace=True)\n",
    "    for Index,i in enumerate(dataframe['price']):\n",
    "        i = str(i).replace('₹','')\n",
    "        i = str(i).replace(',','')\n",
    "        dataframe['price'][Index] = i\n",
    "\n",
    "    dataframe['price'] = dataframe['price'].astype('Int16')\n",
    "    dataframe['price'] = dataframe['price'].abs()  \n",
    "\n",
    "    show = f'datatype -{dataframe[\"price\"].dtype}'   \n",
    "    return show"
   ]
  },
  {
   "cell_type": "code",
   "execution_count": 405,
   "metadata": {},
   "outputs": [],
   "source": [
    "dataframes_list = [mi, samsung, apple, onePlus, realme, vivo, oppo, motorola, google, techno, infinix]\n"
   ]
  },
  {
   "cell_type": "code",
   "execution_count": 406,
   "metadata": {},
   "outputs": [],
   "source": [
    "def apply(func:Callable,col_name,df:pd.DataFrame):\n",
    "    df[col_name] = df[col_name].apply(func)"
   ]
  },
  {
   "cell_type": "markdown",
   "metadata": {},
   "source": [
    "### Storage_ram"
   ]
  },
  {
   "cell_type": "code",
   "execution_count": 407,
   "metadata": {},
   "outputs": [
    {
     "name": "stdout",
     "output_type": "stream",
     "text": [
      "410 : Internal Storage128 GBRAM6 GBMemory Card Slot TypeHybrid Slot\n",
      "249 : Internal Storage128 GBRAM8 GBMemory Card Slot TypeHybrid Slot\n",
      "355 : Internal Storage6 GBRAM128 GBMemory Card Slot TypeDedicated Slot\n",
      "219 : Internal Storage128 GBRAM6 GB\n",
      "448 : Internal Storage64 GBRAM3 GBExpandable Storage512 GBMemory Card Slot TypeDedicated Slot\n",
      "267 : Internal Storage64 GBRAM4 GBMemory Card Slot TypeDedicated Slot\n"
     ]
    }
   ],
   "source": [
    "random_values('storage_ram',mi)"
   ]
  },
  {
   "cell_type": "code",
   "execution_count": 408,
   "metadata": {},
   "outputs": [],
   "source": [
    "def remove_internal(txt):\n",
    "    return txt.replace('Internal','')"
   ]
  },
  {
   "cell_type": "code",
   "execution_count": 409,
   "metadata": {},
   "outputs": [
    {
     "data": {
      "text/plain": [
       "'Internal Storage128 GBRAM6 GBExpandable Storage1 TBSupported Memory Card TypemicroSDMemory Card Slot TypeHybrid SlotCall Log MemoryYes'"
      ]
     },
     "execution_count": 409,
     "metadata": {},
     "output_type": "execute_result"
    }
   ],
   "source": [
    "mi['storage_ram'][1]"
   ]
  },
  {
   "cell_type": "code",
   "execution_count": 410,
   "metadata": {},
   "outputs": [
    {
     "name": "stdout",
     "output_type": "stream",
     "text": [
      "Internal Storage128 GBRAM6 GBExpandable Storage1 TBSupported Memory Card TypemicroSDMemory Card Slot TypeHybrid SlotCall Log MemoryYes\n",
      "-  Storage128 GBRAM6 GBExpandable Storage1 TBSupported Memory Card TypemicroSDMemory Card Slot TypeHybrid SlotCall Log MemoryYes\n",
      "\n"
     ]
    }
   ],
   "source": [
    "test_func(func=remove_internal,df=mi,col_name='storage_ram',index=1)"
   ]
  },
  {
   "cell_type": "code",
   "execution_count": 411,
   "metadata": {},
   "outputs": [
    {
     "name": "stdout",
     "output_type": "stream",
     "text": [
      "Internal Storage256 GBRAM8 GBCall Log MemoryYes ::index-222\n",
      "-  Storage256 GBRAM8 GBCall Log MemoryYes\n",
      "\n",
      "Internal Storage32 GBRAM3 GBExpandable Storage512 GBMemory Card Slot TypeDedicated Slot ::index-124\n",
      "-  Storage32 GBRAM3 GBExpandable Storage512 GBMemory Card Slot TypeDedicated Slot\n",
      "\n",
      "Internal Storage64 GBRAM4 GBMemory Card Slot TypeDedicated Slot ::index-28\n",
      "-  Storage64 GBRAM4 GBMemory Card Slot TypeDedicated Slot\n",
      "\n",
      "Internal Storage64 GBRAM4 GBExpandable Storage256 GBSupported Memory Card TypemicroSDMemory Card Slot TypeHybrid Slot ::index-127\n",
      "-  Storage64 GBRAM4 GBExpandable Storage256 GBSupported Memory Card TypemicroSDMemory Card Slot TypeHybrid Slot\n",
      "\n",
      "Internal Storage128 GBRAM6 GBExpandable Storage1 TBSupported Memory Card TypemicroSDMemory Card Slot TypeHybrid SlotCall Log MemoryYes ::index-422\n",
      "-  Storage128 GBRAM6 GBExpandable Storage1 TBSupported Memory Card TypemicroSDMemory Card Slot TypeHybrid SlotCall Log MemoryYes\n",
      "\n",
      "Internal Storage128 GBRAM6 GBExpandable Storage512 GBSupported Memory Card TypeMicroSDMemory Card Slot TypeDedicated Slot ::index-38\n",
      "-  Storage128 GBRAM6 GBExpandable Storage512 GBSupported Memory Card TypeMicroSDMemory Card Slot TypeDedicated Slot\n",
      "\n",
      "Internal Storage128 GBRAM8 GB ::index-504\n",
      "-  Storage128 GBRAM8 GB\n",
      "\n",
      "Internal Storage32 GBRAM3 GBExpandable Storage512 GBSupported Memory Card TypemicroSDMemory Card Slot TypeDedicated Slot ::index-426\n",
      "-  Storage32 GBRAM3 GBExpandable Storage512 GBSupported Memory Card TypemicroSDMemory Card Slot TypeDedicated Slot\n",
      "\n"
     ]
    }
   ],
   "source": [
    "test_func(func=remove_internal,df=mi,col_name='storage_ram')"
   ]
  },
  {
   "cell_type": "markdown",
   "metadata": {},
   "source": [
    "### Removed Internernal word from storage_ram"
   ]
  },
  {
   "cell_type": "code",
   "execution_count": 412,
   "metadata": {},
   "outputs": [],
   "source": [
    "mi['storage_ram'] = mi['storage_ram'].apply(remove_internal)"
   ]
  },
  {
   "cell_type": "code",
   "execution_count": 413,
   "metadata": {},
   "outputs": [
    {
     "name": "stdout",
     "output_type": "stream",
     "text": [
      "290 :  Storage64 GBRAM4 GBMemory Card Slot TypeHybrid Slot\n",
      "99 :  Storage64 GBRAM6 GBExpandable Storage128 GBSupported Memory Card TypemicroSDMemory Card Slot TypeHybrid Slot\n",
      "356 :  Storage64 GBRAM4 GBMemory Card Slot TypeDedicated Slot\n",
      "36 :  Storage32 GBRAM2 GBExpandable Storage256 GBSupported Memory Card TypemicroSDMemory Card Slot TypeDedicated Slot\n",
      "374 :  Storage128 GBRAM6 GBExpandable Storage512 GBSupported Memory Card TypeMicroSDMemory Card Slot TypeDedicated SlotCall Log MemoryYes\n",
      "314 :  Storage64 GBRAM4 GBMemory Card Slot TypeDedicated Slot\n"
     ]
    }
   ],
   "source": [
    "random_values('storage_ram',mi)"
   ]
  },
  {
   "cell_type": "code",
   "execution_count": 414,
   "metadata": {},
   "outputs": [
    {
     "data": {
      "text/plain": [
       "['Storage128',\n",
       " 'GBRAM6',\n",
       " 'GBExpandable',\n",
       " 'Storage1',\n",
       " 'TBSupported',\n",
       " 'Memory',\n",
       " 'Card',\n",
       " 'TypemicroSDMemory',\n",
       " 'Card',\n",
       " 'Slot',\n",
       " 'TypeHybrid',\n",
       " 'SlotCall',\n",
       " 'Log',\n",
       " 'MemoryYes']"
      ]
     },
     "execution_count": 414,
     "metadata": {},
     "output_type": "execute_result"
    }
   ],
   "source": [
    "lst = [i for i in mi['storage_ram'][3].split()]\n",
    "lst"
   ]
  },
  {
   "cell_type": "code",
   "execution_count": 415,
   "metadata": {},
   "outputs": [
    {
     "data": {
      "text/plain": [
       "['Storage128', 'GBRAM6', 'GBExpandable', 'Storage1', 'TBSupported']"
      ]
     },
     "execution_count": 415,
     "metadata": {},
     "output_type": "execute_result"
    }
   ],
   "source": [
    "lst[:5]\n"
   ]
  },
  {
   "cell_type": "code",
   "execution_count": 416,
   "metadata": {},
   "outputs": [
    {
     "data": {
      "text/plain": [
       "['Storage128', 'GBRAM6', 'GBExpandable']"
      ]
     },
     "execution_count": 416,
     "metadata": {},
     "output_type": "execute_result"
    }
   ],
   "source": [
    "lst[:3]\n"
   ]
  },
  {
   "cell_type": "code",
   "execution_count": 417,
   "metadata": {},
   "outputs": [
    {
     "name": "stdout",
     "output_type": "stream",
     "text": [
      "229 :  Storage32 GBRAM2 GB\n",
      "207 :  Storage128 GBRAM8 GBTotal Memory128 GBCall Log MemoryYes\n",
      "328 :  Storage64 GBRAM4 GBMemory Card Slot TypeDedicated Slot\n",
      "214 :  Storage256 GBRAM12 GBMemory Card Slot TypeDedicated Slot\n",
      "317 :  Storage128 GBRAM6 GBMemory Card Slot TypeHybrid Slot\n",
      "277 :  Storage64 GBRAM6 GBMemory Card Slot TypeHybrid Slot\n"
     ]
    }
   ],
   "source": [
    "random_values('storage_ram',mi)"
   ]
  },
  {
   "cell_type": "code",
   "execution_count": 418,
   "metadata": {},
   "outputs": [],
   "source": [
    "## Going to remove 'Storage32 GBRAM2 GBExpandable Storage128' words after this.....\n",
    "def cut_remove_words(txt):\n",
    "    split = txt.split()\n",
    "    if 'GBExpandable' in split:\n",
    "        string = split[:5]\n",
    "        extract_GB_TB = string[-1]\n",
    "        pattern = r'[TB]+|[GB]+'\n",
    "        found = re.findall(pattern,extract_GB_TB)\n",
    "\n",
    "        final_string = ' '.join(string[:4]) + found[0]\n",
    "\n",
    "        return final_string\n",
    "    else:\n",
    "        return ' '.join(split[:2])"
   ]
  },
  {
   "cell_type": "code",
   "execution_count": 419,
   "metadata": {},
   "outputs": [
    {
     "name": "stdout",
     "output_type": "stream",
     "text": [
      " Storage128 GBRAM6 GB ::index-129\n",
      "- Storage128 GBRAM6\n",
      "\n",
      " Storage256 GBRAM12 GBCall Log MemoryYes ::index-66\n",
      "- Storage256 GBRAM12\n",
      "\n",
      " Storage64 GBRAM6 GBExpandable Storage1 TBSupported Memory Card TypeMicroSDMemory Card Slot TypeDedicated SlotCall Log MemoryYes ::index-180\n",
      "- Storage64 GBRAM6 GBExpandable Storage1TB\n",
      "\n",
      " Storage16 GBRAM2 GBExpandable Storage128 GBMemory Card Slot TypeDedicated SlotPhone Book MemoryYesCall Log MemoryYesSMS MemoryYes ::index-7\n",
      "- Storage16 GBRAM2 GBExpandable Storage128GB\n",
      "\n",
      " Storage64 GBRAM4 GBExpandable Storage128 GBSupported Memory Card TypemicroSDMemory Card Slot TypeHybrid Slot ::index-159\n",
      "- Storage64 GBRAM4 GBExpandable Storage128GB\n",
      "\n",
      " Storage64 GBRAM6 GBMemory Card Slot TypeHybrid Slot ::index-416\n",
      "- Storage64 GBRAM6\n",
      "\n",
      " Storage32 GBRAM3 GBExpandable Storage256 GBSupported Memory Card TypemicroSDMemory Card Slot TypeHybrid Slot ::index-157\n",
      "- Storage32 GBRAM3 GBExpandable Storage256GB\n",
      "\n",
      " Storage64 GBRAM4 GBMemory Card Slot TypeHybrid Slot ::index-407\n",
      "- Storage64 GBRAM4\n",
      "\n"
     ]
    }
   ],
   "source": [
    "test_func(func=cut_remove_words,df=mi,col_name='storage_ram')"
   ]
  },
  {
   "cell_type": "code",
   "execution_count": 420,
   "metadata": {},
   "outputs": [],
   "source": [
    "mi['storage_ram'] = mi['storage_ram'].apply(func=cut_remove_words)"
   ]
  },
  {
   "cell_type": "code",
   "execution_count": 421,
   "metadata": {},
   "outputs": [
    {
     "name": "stdout",
     "output_type": "stream",
     "text": [
      "88 : Storage64 GBRAM4 GBExpandable Storage256GB\n",
      "414 : Storage64 GBRAM6\n",
      "333 : Storage64 GBRAM4\n",
      "68 : Storage64 GBRAM4 GBExpandable Storage128GB\n",
      "140 : Storage16 GBRAM2 GBExpandable Storage128GB\n",
      "129 : Storage128 GBRAM6\n"
     ]
    }
   ],
   "source": [
    "random_values('storage_ram',mi)"
   ]
  },
  {
   "cell_type": "code",
   "execution_count": 422,
   "metadata": {},
   "outputs": [
    {
     "name": "stdout",
     "output_type": "stream",
     "text": [
      "Storage128 GBRAM8 GBTotal Memory128GB ::index-425\n",
      "- Storage128 GBRAM8\n",
      "\n",
      "Storage256 GBRAM8 ::index-201\n",
      "- Storage256 GBRAM8\n",
      "\n",
      "Storage16 GBRAM2 GBExpandable Storage128GB ::index-420\n",
      "- Storage16 GBRAM2 GBExpandable Storage128GBGB\n",
      "\n",
      "Storage128 GBRAM6 GBTotal Memory128GB ::index-370\n",
      "- Storage128 GBRAM6\n",
      "\n",
      "Storage128 GBRAM6 GBExpandable Storage1TB ::index-1\n",
      "- Storage128 GBRAM6 GBExpandable Storage1TBTB\n",
      "\n",
      "Storage256 GBRAM8 ::index-224\n",
      "- Storage256 GBRAM8\n",
      "\n",
      "Storage32 GBRAM2 ::index-56\n",
      "- Storage32 GBRAM2\n",
      "\n",
      "Storage128 GBRAM4 ::index-263\n",
      "- Storage128 GBRAM4\n",
      "\n"
     ]
    }
   ],
   "source": [
    "test_func(func=cut_remove_words,df=mi,col_name='storage_ram')"
   ]
  },
  {
   "cell_type": "code",
   "execution_count": 423,
   "metadata": {},
   "outputs": [
    {
     "name": "stdout",
     "output_type": "stream",
     "text": [
      "Index(['name', 'ratings', 'price', 'imgURL', 'storage_ram', 'os_processor',\n",
      "       'camera', 'display', 'network', 'battery'],\n",
      "      dtype='object')\n",
      "Index(['name', 'ratings', 'price', 'imgURL', 'storage_ram', 'os_processor',\n",
      "       'camera', 'display', 'network', 'battery'],\n",
      "      dtype='object')\n",
      "Index(['name', 'ratings', 'price', 'imgURL', 'storage_ram', 'os_processor',\n",
      "       'camera', 'display', 'network', 'battery'],\n",
      "      dtype='object')\n",
      "Index(['name', 'ratings', 'price', 'imgURL', 'storage_ram', 'os_processor',\n",
      "       'camera', 'display', 'network', 'battery'],\n",
      "      dtype='object')\n",
      "Index(['name', 'ratings', 'price', 'imgURL', 'storage_ram', 'camera',\n",
      "       'oS_Processor', 'display', 'network', 'battery'],\n",
      "      dtype='object')\n",
      "Index(['index', 'name', 'ratings', 'price', 'imgURL', 'storage_ram', 'camera',\n",
      "       'oS_Processor', 'display', 'network', 'battery', 'ram'],\n",
      "      dtype='object')\n",
      "Index(['name', 'ratings', 'price', 'imgURL', 'storage_ram', 'camera',\n",
      "       'oS_Processor', 'display', 'network', 'battery'],\n",
      "      dtype='object')\n",
      "Index(['name', 'ratings', 'price', 'imgURL', 'storage_ram', 'camera',\n",
      "       'oS_Processor', 'display', 'network', 'battery'],\n",
      "      dtype='object')\n",
      "Index(['name', 'ratings', 'price', 'imgURL', 'storage_ram', 'camera',\n",
      "       'oS_Processor', 'display', 'network', 'battery'],\n",
      "      dtype='object')\n",
      "Index(['name', 'ratings', 'price', 'imgURL', 'storage_ram', 'camera',\n",
      "       'oS_Processor', 'display', 'network', 'battery'],\n",
      "      dtype='object')\n",
      "Index(['name', 'ratings', 'price', 'imgURL', 'storage_ram', 'camera',\n",
      "       'oS_Processor', 'display', 'network', 'battery'],\n",
      "      dtype='object')\n"
     ]
    }
   ],
   "source": [
    "for i in dataframes_list:\n",
    "    print(i.columns)"
   ]
  },
  {
   "cell_type": "code",
   "execution_count": 424,
   "metadata": {},
   "outputs": [
    {
     "name": "stdout",
     "output_type": "stream",
     "text": [
      "Storage128 GBRAM8 GBExpandable Storage512GB ::index-379\n",
      "- Storage128 GBRAM8 GBExpandable Storage512GBGB\n",
      "\n",
      "Storage32 GBRAM2 ::index-335\n",
      "- Storage32 GBRAM2\n",
      "\n",
      "Storage128 GBRAM8 ::index-9\n",
      "- Storage128 GBRAM8\n",
      "\n",
      "Storage128 GBRAM8 GBExpandable Storage512GB ::index-5\n",
      "- Storage128 GBRAM8 GBExpandable Storage512GBGB\n",
      "\n",
      "Storage64 GBRAM4 ::index-351\n",
      "- Storage64 GBRAM4\n",
      "\n",
      "Storage128 GBRAM6 ::index-456\n",
      "- Storage128 GBRAM6\n",
      "\n",
      "Storage128 GBRAM6 ::index-284\n",
      "- Storage128 GBRAM6\n",
      "\n",
      "Storage64 GBRAM4 GBExpandable Storage128GB ::index-470\n",
      "- Storage64 GBRAM4 GBExpandable Storage128GBGB\n",
      "\n"
     ]
    }
   ],
   "source": [
    "test_func(func=cut_remove_words,df=mi,col_name='storage_ram')"
   ]
  },
  {
   "cell_type": "code",
   "execution_count": 425,
   "metadata": {},
   "outputs": [],
   "source": [
    "apply(func=remove_internal,col_name='storage_ram',df=realme)"
   ]
  },
  {
   "cell_type": "code",
   "execution_count": 426,
   "metadata": {},
   "outputs": [
    {
     "name": "stdout",
     "output_type": "stream",
     "text": [
      " Storage128 GBRAM4 GBExpandable Storage256 GBMemory Card Slot TypeDedicated Slot ::index-46\n",
      "- Storage128 GBRAM4 GBExpandable Storage256GB\n",
      "\n",
      " Storage64 GBRAM4 GBExpandable Storage1 TBSupported Memory Card TypeMicroSDMemory Card Slot TypeDedicated Slot ::index-7\n",
      "- Storage64 GBRAM4 GBExpandable Storage1TB\n",
      "\n",
      " Storage64 GBRAM4 GBExpandable Storage256 GBSupported Memory Card TypemicroSDMemory Card Slot TypeDedicated Slot ::index-220\n",
      "- Storage64 GBRAM4 GBExpandable Storage256GB\n",
      "\n",
      " Storage256 GBRAM12 GB ::index-106\n",
      "- Storage256 GBRAM12\n",
      "\n",
      " Storage128 GBRAM4 GBExpandable Storage1 TBSupported Memory Card TypeMicroSDMemory Card Slot TypeDedicated Slot ::index-70\n",
      "- Storage128 GBRAM4 GBExpandable Storage1TB\n",
      "\n",
      " Storage128 GBRAM6 GBExpandable Storage1 TBMemory Card Slot TypeDedicated Slot ::index-36\n",
      "- Storage128 GBRAM6 GBExpandable Storage1TB\n",
      "\n",
      " Storage64 GBRAM4 GBSupported Memory Card TypeMicroSDMemory Card Slot TypeDedicated Slot ::index-79\n",
      "- Storage64 GBRAM4\n",
      "\n",
      " Storage128 GBRAM6 GB ::index-47\n",
      "- Storage128 GBRAM6\n",
      "\n"
     ]
    }
   ],
   "source": [
    "test_func(func=cut_remove_words,df=realme,col_name='storage_ram')"
   ]
  },
  {
   "cell_type": "code",
   "execution_count": 427,
   "metadata": {},
   "outputs": [
    {
     "ename": "SyntaxError",
     "evalue": "invalid syntax. Perhaps you forgot a comma? (1416537060.py, line 1)",
     "output_type": "error",
     "traceback": [
      "\u001b[1;36m  Cell \u001b[1;32mIn[427], line 1\u001b[1;36m\u001b[0m\n\u001b[1;33m    apply(func=remove_in ternal,col_name='storage_ram',df=apple)\u001b[0m\n\u001b[1;37m               ^\u001b[0m\n\u001b[1;31mSyntaxError\u001b[0m\u001b[1;31m:\u001b[0m invalid syntax. Perhaps you forgot a comma?\n"
     ]
    }
   ],
   "source": [
    "apply(func=remove_in ternal,col_name='storage_ram',df=apple)"
   ]
  },
  {
   "cell_type": "code",
   "execution_count": null,
   "metadata": {},
   "outputs": [
    {
     "name": "stdout",
     "output_type": "stream",
     "text": [
      " Storage512 GB ::index-89\n",
      "- Storage512 GB\n",
      "\n",
      " Storage256 GB ::index-204\n",
      "- Storage256 GB\n",
      "\n",
      " Storage64 GB ::index-192\n",
      "- Storage64 GB\n",
      "\n",
      " Storage128 GB ::index-96\n",
      "- Storage128 GB\n",
      "\n",
      " Storage128 GB ::index-174\n",
      "- Storage128 GB\n",
      "\n",
      " Storage512 GB ::index-188\n",
      "- Storage512 GB\n",
      "\n",
      " Storage256 GBRAM8 GBSupported Memory Card TypeMIcroSDMemory Card Slot TypeDedicated SlotCall Log MemoryYes ::index-285\n",
      "- Storage256 GBRAM8\n",
      "\n",
      " Storage256 GB ::index-212\n",
      "- Storage256 GB\n",
      "\n"
     ]
    }
   ],
   "source": [
    "test_func(func=cut_remove_words,df=apple,col_name='storage_ram')"
   ]
  },
  {
   "cell_type": "code",
   "execution_count": null,
   "metadata": {},
   "outputs": [],
   "source": []
  }
 ],
 "metadata": {
  "kernelspec": {
   "display_name": "Python 3",
   "language": "python",
   "name": "python3"
  },
  "language_info": {
   "codemirror_mode": {
    "name": "ipython",
    "version": 3
   },
   "file_extension": ".py",
   "mimetype": "text/x-python",
   "name": "python",
   "nbconvert_exporter": "python",
   "pygments_lexer": "ipython3",
   "version": "3.11.3"
  },
  "orig_nbformat": 4
 },
 "nbformat": 4,
 "nbformat_minor": 2
}
