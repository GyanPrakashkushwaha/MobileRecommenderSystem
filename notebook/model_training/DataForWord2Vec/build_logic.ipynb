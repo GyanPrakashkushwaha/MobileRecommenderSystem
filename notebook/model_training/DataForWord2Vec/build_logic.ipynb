{
 "cells": [
  {
   "cell_type": "code",
   "execution_count": 79,
   "metadata": {},
   "outputs": [],
   "source": [
    "import pandas as pd\n",
    "import numpy as np\n",
    "import os\n",
    "from typing import Callable # this is to define test_func functions dtype as function itself\n",
    "import re # for regural expression\n",
    "import warnings\n",
    "warnings.filterwarnings('ignore')"
   ]
  },
  {
   "cell_type": "code",
   "execution_count": 80,
   "metadata": {},
   "outputs": [
    {
     "name": "stdout",
     "output_type": "stream",
     "text": [
      "d:\\vscode_machineLearning\\BEST_PROJECTS\\mobileRecommenderSystem\n",
      "d:\\vscode_machineLearning\\BEST_PROJECTS\\mobileRecommenderSystem\n"
     ]
    }
   ],
   "source": [
    "print(os.getcwd())\n",
    "os.chdir(r'd:\\vscode_machineLearning\\BEST_PROJECTS\\mobileRecommenderSystem')\n",
    "print(os.getcwd())"
   ]
  },
  {
   "cell_type": "code",
   "execution_count": 81,
   "metadata": {},
   "outputs": [],
   "source": [
    "mi = pd.read_csv(filepath_or_buffer=r'data\\raw_data\\mi_mobile_new_data.csv',   index_col=False)\n",
    "samsung = pd.read_csv(filepath_or_buffer=r'data\\raw_data\\samsung_mobile_new_data.csv',   index_col=False)\n",
    "apple = pd.read_csv(filepath_or_buffer=r'data\\raw_data\\apple_mobile_new_data.csv',   index_col=False)\n",
    "onePlus = pd.read_csv(filepath_or_buffer=r'data\\raw_data\\one_plus_mobile_new_data.csv',   index_col=False)\n",
    "realme = pd.read_csv(filepath_or_buffer=r'data\\raw_data\\realme_mobile_data.csv',   index_col=False)\n",
    "vivo = pd.read_csv(filepath_or_buffer=r'data\\raw_data\\vivo_mobile_data.csv',   index_col=False)\n",
    "oppo = pd.read_csv(filepath_or_buffer=r'data\\raw_data\\oppo_mobile_data.csv',   index_col=False)\n",
    "motorola = pd.read_csv(filepath_or_buffer=r'data\\raw_data\\motorola_mobile_data.csv',   index_col=False)\n",
    "google = pd.read_csv(filepath_or_buffer=r'data\\raw_data\\google_mobile_data.csv',   index_col=False)\n",
    "techno = pd.read_csv(filepath_or_buffer=r'data\\raw_data\\techno_mobile_data.csv',   index_col=False)\n",
    "infinix = pd.read_csv(filepath_or_buffer=r'data\\raw_data\\infinix_mobile_data.csv',   index_col=False)"
   ]
  },
  {
   "cell_type": "code",
   "execution_count": 82,
   "metadata": {},
   "outputs": [],
   "source": [
    "infinix.rename({'camera':'os_processor','oS_Processor':'camera'},axis=1,inplace=True)\n",
    "techno.rename({'camera':'os_processor','oS_Processor':'camera'},axis=1,inplace=True)\n",
    "google.rename({'camera':'os_processor','oS_Processor':'camera'},axis=1,inplace=True)\n",
    "motorola.rename({'camera':'os_processor','oS_Processor':'camera'},axis=1,inplace=True)\n",
    "oppo.rename({'camera':'os_processor','oS_Processor':'camera'},axis=1,inplace=True)\n",
    "vivo.rename({'camera':'os_processor','oS_Processor':'camera'},axis=1,inplace=True)\n",
    "realme.rename({'camera':'os_processor','oS_Processor':'camera'},axis=1,inplace=True)\n"
   ]
  },
  {
   "cell_type": "code",
   "execution_count": 83,
   "metadata": {},
   "outputs": [],
   "source": [
    "def random_values(col_name:str,df:pd.DataFrame,total=6):\n",
    "    for i in range(0,total):\n",
    "        index = np.random.randint(df.shape[0])\n",
    "        print(index,':',df[col_name].iloc[index])        "
   ]
  },
  {
   "cell_type": "code",
   "execution_count": 84,
   "metadata": {},
   "outputs": [],
   "source": [
    "def test_func(func:Callable ,df:pd.DataFrame,col_name,total_values=8,index=None):\n",
    "    if index != None:\n",
    "        data = df[col_name].iloc[index]\n",
    "        output_of_func = func(data)\n",
    "        print(data)\n",
    "        print('-',output_of_func)\n",
    "        print()\n",
    "        \n",
    "    else:\n",
    "        for i in range(0,total_values):\n",
    "            int_rand = np.random.randint(df.shape[0])\n",
    "            data = df[col_name].iloc[int_rand]\n",
    "            output_of_func = func(data)\n",
    "            print(data,f'::index-{int_rand}')\n",
    "            print('-',output_of_func)\n",
    "            print()"
   ]
  },
  {
   "cell_type": "code",
   "execution_count": 85,
   "metadata": {},
   "outputs": [],
   "source": [
    "# mi"
   ]
  },
  {
   "cell_type": "code",
   "execution_count": 86,
   "metadata": {},
   "outputs": [
    {
     "data": {
      "text/plain": [
       "name             0\n",
       "ratings         27\n",
       "price            0\n",
       "imgURL           0\n",
       "storage_ram      0\n",
       "os_processor     0\n",
       "camera           1\n",
       "display          0\n",
       "network          0\n",
       "battery          0\n",
       "dtype: int64"
      ]
     },
     "execution_count": 86,
     "metadata": {},
     "output_type": "execute_result"
    }
   ],
   "source": [
    "mi.isnull().sum()"
   ]
  },
  {
   "cell_type": "code",
   "execution_count": 87,
   "metadata": {},
   "outputs": [],
   "source": [
    "mi.dropna(inplace=True)"
   ]
  },
  {
   "cell_type": "code",
   "execution_count": 88,
   "metadata": {},
   "outputs": [
    {
     "data": {
      "text/plain": [
       "name            0\n",
       "ratings         0\n",
       "price           0\n",
       "imgURL          0\n",
       "storage_ram     0\n",
       "os_processor    0\n",
       "camera          0\n",
       "display         0\n",
       "network         0\n",
       "battery         0\n",
       "dtype: int64"
      ]
     },
     "execution_count": 88,
     "metadata": {},
     "output_type": "execute_result"
    }
   ],
   "source": [
    "mi.isnull().sum()"
   ]
  },
  {
   "cell_type": "code",
   "execution_count": 89,
   "metadata": {},
   "outputs": [
    {
     "name": "stdout",
     "output_type": "stream",
     "text": [
      "232 : ₹8,805\n",
      "101 : ₹14,999\n",
      "361 : ₹11,740\n",
      "389 : ₹19,999\n",
      "80 : ₹29,990\n",
      "58 : ₹10,999\n"
     ]
    }
   ],
   "source": [
    "random_values('price',mi)"
   ]
  },
  {
   "cell_type": "markdown",
   "metadata": {},
   "source": [
    "# Price"
   ]
  },
  {
   "cell_type": "code",
   "execution_count": 90,
   "metadata": {},
   "outputs": [],
   "source": [
    "def clean_price_col(dataframe:pd.DataFrame):\n",
    "    dataframe.reset_index(inplace=True)\n",
    "    for Index,i in enumerate(dataframe['price']):\n",
    "        i = str(i).replace('₹','')\n",
    "        i = str(i).replace(',','')\n",
    "        dataframe['price'][Index] = i\n",
    "\n",
    "    dataframe['price'] = dataframe['price'].astype('Int16')\n",
    "    dataframe['price'] = dataframe['price'].abs()  \n",
    "\n",
    "    show = f'datatype -{dataframe[\"price\"].dtype}'   \n",
    "    return show"
   ]
  },
  {
   "cell_type": "code",
   "execution_count": 91,
   "metadata": {},
   "outputs": [],
   "source": [
    "dataframes_list = [mi, samsung, apple, onePlus, realme, vivo, oppo, motorola, google, techno, infinix]\n"
   ]
  },
  {
   "cell_type": "code",
   "execution_count": 92,
   "metadata": {},
   "outputs": [],
   "source": [
    "def apply(func:Callable,col_name,df:pd.DataFrame):\n",
    "    df[col_name] = df[col_name].apply(func)"
   ]
  },
  {
   "cell_type": "markdown",
   "metadata": {},
   "source": [
    "### Storage_ram"
   ]
  },
  {
   "cell_type": "code",
   "execution_count": 93,
   "metadata": {},
   "outputs": [
    {
     "name": "stdout",
     "output_type": "stream",
     "text": [
      "361 : Internal Storage6 GBRAM128 GBMemory Card Slot TypeDedicated Slot\n",
      "34 : Internal Storage128 GBRAM8 GB\n",
      "22 : Internal Storage128 GBRAM8 GBExpandable Storage1 TBSupported Memory Card TypemicroSDMemory Card Slot TypeHybrid SlotCall Log MemoryYes\n",
      "416 : Internal Storage64 GBRAM6 GBMemory Card Slot TypeHybrid Slot\n",
      "48 : Internal Storage128 GBRAM8 GBMemory Card Slot TypeHybrid Slot\n",
      "431 : Internal Storage256 GBRAM8 GBMemory Card Slot TypeHybrid Slot\n"
     ]
    }
   ],
   "source": [
    "random_values('storage_ram',mi)"
   ]
  },
  {
   "cell_type": "code",
   "execution_count": 94,
   "metadata": {},
   "outputs": [],
   "source": [
    "def remove_internal(txt):\n",
    "    return txt.replace('Internal','')"
   ]
  },
  {
   "cell_type": "code",
   "execution_count": 95,
   "metadata": {},
   "outputs": [
    {
     "data": {
      "text/plain": [
       "'Internal Storage128 GBRAM6 GBExpandable Storage1 TBSupported Memory Card TypemicroSDMemory Card Slot TypeHybrid SlotCall Log MemoryYes'"
      ]
     },
     "execution_count": 95,
     "metadata": {},
     "output_type": "execute_result"
    }
   ],
   "source": [
    "mi['storage_ram'][1]"
   ]
  },
  {
   "cell_type": "code",
   "execution_count": 96,
   "metadata": {},
   "outputs": [
    {
     "name": "stdout",
     "output_type": "stream",
     "text": [
      "Internal Storage128 GBRAM6 GBExpandable Storage1 TBSupported Memory Card TypemicroSDMemory Card Slot TypeHybrid SlotCall Log MemoryYes\n",
      "-  Storage128 GBRAM6 GBExpandable Storage1 TBSupported Memory Card TypemicroSDMemory Card Slot TypeHybrid SlotCall Log MemoryYes\n",
      "\n"
     ]
    }
   ],
   "source": [
    "test_func(func=remove_internal,df=mi,col_name='storage_ram',index=1)"
   ]
  },
  {
   "cell_type": "code",
   "execution_count": 97,
   "metadata": {},
   "outputs": [
    {
     "name": "stdout",
     "output_type": "stream",
     "text": [
      "Internal Storage64 GBRAM6 GBMemory Card Slot TypeHybrid Slot ::index-416\n",
      "-  Storage64 GBRAM6 GBMemory Card Slot TypeHybrid Slot\n",
      "\n",
      "Internal Storage64 GBRAM4 GBMemory Card Slot TypeDedicated Slot ::index-42\n",
      "-  Storage64 GBRAM4 GBMemory Card Slot TypeDedicated Slot\n",
      "\n",
      "Internal Storage256 GBRAM12 GBCall Log MemoryYes ::index-14\n",
      "-  Storage256 GBRAM12 GBCall Log MemoryYes\n",
      "\n",
      "Internal Storage64 GBRAM4 GBMemory Card Slot TypeDedicated Slot ::index-396\n",
      "-  Storage64 GBRAM4 GBMemory Card Slot TypeDedicated Slot\n",
      "\n",
      "Internal Storage32 GBRAM3 GBCall Log MemoryYes ::index-459\n",
      "-  Storage32 GBRAM3 GBCall Log MemoryYes\n",
      "\n",
      "Internal Storage64 GBRAM6 GBSupported Memory Card TypeMicro SDMemory Card Slot TypeDedicated Slot ::index-467\n",
      "-  Storage64 GBRAM6 GBSupported Memory Card TypeMicro SDMemory Card Slot TypeDedicated Slot\n",
      "\n",
      "Internal Storage32 GBRAM3 GBExpandable Storage128 GBSupported Memory Card TypeMicroSDMemory Card Slot TypeHybrid SlotCall Log MemoryYes ::index-427\n",
      "-  Storage32 GBRAM3 GBExpandable Storage128 GBSupported Memory Card TypeMicroSDMemory Card Slot TypeHybrid SlotCall Log MemoryYes\n",
      "\n",
      "Internal Storage64 GBRAM4 GBExpandable Storage512 GBSupported Memory Card TypemicroSDMemory Card Slot TypeDedicated SlotCall Log MemoryYes ::index-348\n",
      "-  Storage64 GBRAM4 GBExpandable Storage512 GBSupported Memory Card TypemicroSDMemory Card Slot TypeDedicated SlotCall Log MemoryYes\n",
      "\n"
     ]
    }
   ],
   "source": [
    "test_func(func=remove_internal,df=mi,col_name='storage_ram')"
   ]
  },
  {
   "cell_type": "markdown",
   "metadata": {},
   "source": [
    "### Removed Internernal word from storage_ram"
   ]
  },
  {
   "cell_type": "code",
   "execution_count": 98,
   "metadata": {},
   "outputs": [],
   "source": [
    "mi['storage_ram'] = mi['storage_ram'].apply(remove_internal)"
   ]
  },
  {
   "cell_type": "code",
   "execution_count": 99,
   "metadata": {},
   "outputs": [
    {
     "name": "stdout",
     "output_type": "stream",
     "text": [
      "198 :  Storage128 GBRAM6 GBTotal Memory128 GBCall Log MemoryYes\n",
      "371 :  Storage128 GBRAM4 GBExpandable Storage1 TBSupported Memory Card TypeMicroSDXCMemory Card Slot TypeDedicated SlotCall Log MemoryYes\n",
      "342 :  Storage128 GBRAM6 GBExpandable Storage512 GBSupported Memory Card TypeMicroSDMemory Card Slot TypeDedicated SlotCall Log MemoryYes\n",
      "464 :  Storage32 GBRAM3 GBCall Log MemoryYes\n",
      "394 :  Storage64 GBRAM6 GBExpandable Storage512 GBSupported Memory Card TypemicroSDMemory Card Slot TypeDedicated Slot\n",
      "255 :  Storage128 GBRAM6 GBMemory Card Slot TypeDedicated SlotCall Log MemoryYes\n"
     ]
    }
   ],
   "source": [
    "random_values('storage_ram',mi)"
   ]
  },
  {
   "cell_type": "code",
   "execution_count": 100,
   "metadata": {},
   "outputs": [
    {
     "data": {
      "text/plain": [
       "['Storage128',\n",
       " 'GBRAM6',\n",
       " 'GBExpandable',\n",
       " 'Storage1',\n",
       " 'TBSupported',\n",
       " 'Memory',\n",
       " 'Card',\n",
       " 'TypemicroSDMemory',\n",
       " 'Card',\n",
       " 'Slot',\n",
       " 'TypeHybrid',\n",
       " 'SlotCall',\n",
       " 'Log',\n",
       " 'MemoryYes']"
      ]
     },
     "execution_count": 100,
     "metadata": {},
     "output_type": "execute_result"
    }
   ],
   "source": [
    "lst = [i for i in mi['storage_ram'][3].split()]\n",
    "lst"
   ]
  },
  {
   "cell_type": "code",
   "execution_count": 101,
   "metadata": {},
   "outputs": [
    {
     "data": {
      "text/plain": [
       "['Storage128', 'GBRAM6', 'GBExpandable', 'Storage1', 'TBSupported']"
      ]
     },
     "execution_count": 101,
     "metadata": {},
     "output_type": "execute_result"
    }
   ],
   "source": [
    "lst[:5]\n"
   ]
  },
  {
   "cell_type": "code",
   "execution_count": 102,
   "metadata": {},
   "outputs": [
    {
     "data": {
      "text/plain": [
       "['Storage128', 'GBRAM6', 'GBExpandable']"
      ]
     },
     "execution_count": 102,
     "metadata": {},
     "output_type": "execute_result"
    }
   ],
   "source": [
    "lst[:3]\n"
   ]
  },
  {
   "cell_type": "code",
   "execution_count": 103,
   "metadata": {},
   "outputs": [
    {
     "name": "stdout",
     "output_type": "stream",
     "text": [
      "226 :  Storage64 GBRAM4 GBExpandable Storage512 GBMemory Card Slot TypeDedicated SlotCall Log MemoryYes\n",
      "21 :  Storage128 GBRAM6 GBExpandable Storage1 TBSupported Memory Card TypemicroSDMemory Card Slot TypeHybrid SlotCall Log MemoryYes\n",
      "79 :  Storage128 GBRAM8 GBMemory Card Slot TypeDedicated Slot\n",
      "235 :  Storage32 GBRAM2 GB\n",
      "147 :  Storage64 GBRAM3 GBExpandable Storage256 GBSupported Memory Card TypemicroSDMemory Card Slot TypeDedicated Slot\n",
      "515 :  Storage256 GBRAM8 GB\n"
     ]
    }
   ],
   "source": [
    "random_values('storage_ram',mi)"
   ]
  },
  {
   "cell_type": "code",
   "execution_count": 104,
   "metadata": {},
   "outputs": [],
   "source": [
    "## Going to remove 'Storage32 GBRAM2 GBExpandable Storage128' words after this.....\n",
    "def cut_remove_words(txt):\n",
    "    split = txt.split()\n",
    "    if 'GBExpandable' in split:\n",
    "        string = split[:5]\n",
    "        extract_GB_TB = string[-1]\n",
    "        pattern = r'[TB]+|[GB]+'\n",
    "        found = re.findall(pattern,extract_GB_TB)\n",
    "\n",
    "        final_string = ' '.join(string[:4]) + found[0]\n",
    "\n",
    "        return final_string\n",
    "    else:\n",
    "        return ' '.join(split[:2])"
   ]
  },
  {
   "cell_type": "code",
   "execution_count": 105,
   "metadata": {},
   "outputs": [
    {
     "name": "stdout",
     "output_type": "stream",
     "text": [
      " Storage128 GBRAM8 GBExpandable Storage1 TBSupported Memory Card TypemicroSDMemory Card Slot TypeHybrid SlotCall Log MemoryYes ::index-37\n",
      "- Storage128 GBRAM8 GBExpandable Storage1TB\n",
      "\n",
      " Storage128 GBRAM6 GB ::index-105\n",
      "- Storage128 GBRAM6\n",
      "\n",
      " Storage64 GBRAM4 GBExpandable Storage512 GBSupported Memory Card TypemicroSDMemory Card Slot TypeDedicated SlotCall Log MemoryYes ::index-259\n",
      "- Storage64 GBRAM4 GBExpandable Storage512GB\n",
      "\n",
      " Storage128 GBRAM6 GBMemory Card Slot TypeDedicated Slot ::index-304\n",
      "- Storage128 GBRAM6\n",
      "\n",
      " Storage64 GBRAM4 GBMemory Card Slot TypeDedicated Slot ::index-341\n",
      "- Storage64 GBRAM4\n",
      "\n",
      " Storage64 GBRAM4 GBMemory Card Slot TypeDedicated Slot ::index-386\n",
      "- Storage64 GBRAM4\n",
      "\n",
      " Storage16 GBRAM2 GBMemory Card Slot TypeDedicated SlotPhone Book MemoryYesCall Log MemoryYesSMS MemoryYes ::index-479\n",
      "- Storage16 GBRAM2\n",
      "\n",
      " Storage256 GBRAM8 GBCall Log MemoryYes ::index-186\n",
      "- Storage256 GBRAM8\n",
      "\n"
     ]
    }
   ],
   "source": [
    "test_func(func=cut_remove_words,df=mi,col_name='storage_ram')"
   ]
  },
  {
   "cell_type": "code",
   "execution_count": 106,
   "metadata": {},
   "outputs": [],
   "source": [
    "mi['storage_ram'] = mi['storage_ram'].apply(func=cut_remove_words)"
   ]
  },
  {
   "cell_type": "code",
   "execution_count": 107,
   "metadata": {},
   "outputs": [
    {
     "name": "stdout",
     "output_type": "stream",
     "text": [
      "431 : Storage256 GBRAM8\n",
      "353 : Storage128 GBRAM6 GBExpandable Storage512GB\n",
      "505 : Storage128 GBRAM6 GBExpandable Storage1TB\n",
      "337 : Storage64 GBRAM4 GBExpandable Storage512GB\n",
      "230 : Storage256 GBRAM12\n",
      "477 : Storage128 GBRAM6\n"
     ]
    }
   ],
   "source": [
    "random_values('storage_ram',mi)"
   ]
  },
  {
   "cell_type": "code",
   "execution_count": 108,
   "metadata": {},
   "outputs": [
    {
     "name": "stdout",
     "output_type": "stream",
     "text": [
      "Storage256 GBRAM8 ::index-201\n",
      "- Storage256 GBRAM8\n",
      "\n",
      "Storage256 GBRAM8 GBExpandable Storage1TB ::index-346\n",
      "- Storage256 GBRAM8 GBExpandable Storage1TBTB\n",
      "\n",
      "Storage64 GBRAM6 GBExpandable Storage128GB ::index-169\n",
      "- Storage64 GBRAM6 GBExpandable Storage128GBGB\n",
      "\n",
      "Storage256 GBRAM12 ::index-214\n",
      "- Storage256 GBRAM12\n",
      "\n",
      "Storage64 GBRAM6 ::index-268\n",
      "- Storage64 GBRAM6\n",
      "\n",
      "Storage128 GBRAM4 GBExpandable Storage1TB ::index-371\n",
      "- Storage128 GBRAM4 GBExpandable Storage1TBTB\n",
      "\n",
      "Storage128 GBRAM8 ::index-301\n",
      "- Storage128 GBRAM8\n",
      "\n",
      "Storage256 GBRAM8 ::index-409\n",
      "- Storage256 GBRAM8\n",
      "\n"
     ]
    }
   ],
   "source": [
    "test_func(func=cut_remove_words,df=mi,col_name='storage_ram')"
   ]
  },
  {
   "cell_type": "code",
   "execution_count": 109,
   "metadata": {},
   "outputs": [
    {
     "name": "stdout",
     "output_type": "stream",
     "text": [
      "Index(['name', 'ratings', 'price', 'imgURL', 'storage_ram', 'os_processor',\n",
      "       'camera', 'display', 'network', 'battery'],\n",
      "      dtype='object')\n",
      "Index(['name', 'ratings', 'price', 'imgURL', 'storage_ram', 'os_processor',\n",
      "       'camera', 'display', 'network', 'battery'],\n",
      "      dtype='object')\n",
      "Index(['name', 'ratings', 'price', 'imgURL', 'storage_ram', 'os_processor',\n",
      "       'camera', 'display', 'network', 'battery'],\n",
      "      dtype='object')\n",
      "Index(['name', 'ratings', 'price', 'imgURL', 'storage_ram', 'os_processor',\n",
      "       'camera', 'display', 'network', 'battery'],\n",
      "      dtype='object')\n",
      "Index(['name', 'ratings', 'price', 'imgURL', 'storage_ram', 'os_processor',\n",
      "       'camera', 'display', 'network', 'battery'],\n",
      "      dtype='object')\n",
      "Index(['name', 'ratings', 'price', 'imgURL', 'storage_ram', 'os_processor',\n",
      "       'camera', 'display', 'network', 'battery'],\n",
      "      dtype='object')\n",
      "Index(['name', 'ratings', 'price', 'imgURL', 'storage_ram', 'os_processor',\n",
      "       'camera', 'display', 'network', 'battery'],\n",
      "      dtype='object')\n",
      "Index(['name', 'ratings', 'price', 'imgURL', 'storage_ram', 'os_processor',\n",
      "       'camera', 'display', 'network', 'battery'],\n",
      "      dtype='object')\n",
      "Index(['name', 'ratings', 'price', 'imgURL', 'storage_ram', 'os_processor',\n",
      "       'camera', 'display', 'network', 'battery'],\n",
      "      dtype='object')\n",
      "Index(['name', 'ratings', 'price', 'imgURL', 'storage_ram', 'os_processor',\n",
      "       'camera', 'display', 'network', 'battery'],\n",
      "      dtype='object')\n",
      "Index(['name', 'ratings', 'price', 'imgURL', 'storage_ram', 'os_processor',\n",
      "       'camera', 'display', 'network', 'battery'],\n",
      "      dtype='object')\n"
     ]
    }
   ],
   "source": [
    "for i in dataframes_list:\n",
    "    print(i.columns)"
   ]
  },
  {
   "cell_type": "code",
   "execution_count": 110,
   "metadata": {},
   "outputs": [
    {
     "name": "stdout",
     "output_type": "stream",
     "text": [
      "Storage128 GBRAM6 ::index-286\n",
      "- Storage128 GBRAM6\n",
      "\n",
      "Storage256 GBRAM8 ::index-95\n",
      "- Storage256 GBRAM8\n",
      "\n",
      "Storage128 GBRAM8 ::index-488\n",
      "- Storage128 GBRAM8\n",
      "\n",
      "Storage16 GBRAM2 ::index-506\n",
      "- Storage16 GBRAM2\n",
      "\n",
      "Storage128 GBRAM4 GBExpandable Storage1TB ::index-371\n",
      "- Storage128 GBRAM4 GBExpandable Storage1TBTB\n",
      "\n",
      "Storage64 GBRAM4 GBExpandable Storage128GB ::index-125\n",
      "- Storage64 GBRAM4 GBExpandable Storage128GBGB\n",
      "\n",
      "Storage64 GBRAM2 ::index-315\n",
      "- Storage64 GBRAM2\n",
      "\n",
      "Storage256 GBRAM8 ::index-463\n",
      "- Storage256 GBRAM8\n",
      "\n"
     ]
    }
   ],
   "source": [
    "test_func(func=cut_remove_words,df=mi,col_name='storage_ram')"
   ]
  },
  {
   "cell_type": "code",
   "execution_count": 111,
   "metadata": {},
   "outputs": [],
   "source": [
    "apply(func=remove_internal,col_name='storage_ram',df=realme)"
   ]
  },
  {
   "cell_type": "code",
   "execution_count": 112,
   "metadata": {},
   "outputs": [
    {
     "name": "stdout",
     "output_type": "stream",
     "text": [
      " Storage128 GBRAM6 GBExpandable Storage256 GBSupported Memory Card TypemicroSDMemory Card Slot TypeDedicated Slot ::index-204\n",
      "- Storage128 GBRAM6 GBExpandable Storage256GB\n",
      "\n",
      " Storage128 GBRAM8 GBMemory Card Slot TypeDedicated Slot ::index-162\n",
      "- Storage128 GBRAM8\n",
      "\n",
      " Storage32 GBRAM3 GBExpandable Storage1 TBSupported Memory Card TypeMicroSDMemory Card Slot TypeDedicated Slot ::index-55\n",
      "- Storage32 GBRAM3 GBExpandable Storage1TB\n",
      "\n",
      " Storage32 GBRAM3 GBExpandable Storage1 TBSupported Memory Card TypeMicroSDMemory Card Slot TypeDedicated Slot ::index-55\n",
      "- Storage32 GBRAM3 GBExpandable Storage1TB\n",
      "\n",
      " Storage128 GBRAM8 GBMemory Card Slot TypeDedicated Slot ::index-115\n",
      "- Storage128 GBRAM8\n",
      "\n",
      " Storage128 GBRAM4 GBExpandable Storage1 TBSupported Memory Card TypeMicroSDMemory Card Slot TypeDedicated Slot ::index-1\n",
      "- Storage128 GBRAM4 GBExpandable Storage1TB\n",
      "\n",
      " Storage64 GBRAM4 GBExpandable Storage1 TBSupported Memory Card TypeMicroSDMemory Card Slot TypeDedicated Slot ::index-64\n",
      "- Storage64 GBRAM4 GBExpandable Storage1TB\n",
      "\n",
      " Storage128 GBRAM6 GB ::index-47\n",
      "- Storage128 GBRAM6\n",
      "\n"
     ]
    }
   ],
   "source": [
    "test_func(func=cut_remove_words,df=realme,col_name='storage_ram')"
   ]
  },
  {
   "cell_type": "code",
   "execution_count": 113,
   "metadata": {},
   "outputs": [],
   "source": [
    "apply(func=remove_internal,col_name='storage_ram',df=apple)"
   ]
  },
  {
   "cell_type": "code",
   "execution_count": 114,
   "metadata": {},
   "outputs": [
    {
     "name": "stdout",
     "output_type": "stream",
     "text": [
      " Storage128 GB ::index-142\n",
      "- Storage128 GB\n",
      "\n",
      " Storage256 GB ::index-181\n",
      "- Storage256 GB\n",
      "\n",
      " Storage512 GB ::index-72\n",
      "- Storage512 GB\n",
      "\n",
      " Storage128 GB ::index-36\n",
      "- Storage128 GB\n",
      "\n",
      " Storage512 GB ::index-69\n",
      "- Storage512 GB\n",
      "\n",
      " Storage512 GB ::index-64\n",
      "- Storage512 GB\n",
      "\n",
      " Storage128 GB ::index-17\n",
      "- Storage128 GB\n",
      "\n",
      " Storage16 GBPhone Book MemoryYesCall Log MemoryYesSMS MemoryYes ::index-254\n",
      "- Storage16 GBPhone\n",
      "\n"
     ]
    }
   ],
   "source": [
    "test_func(func=cut_remove_words,df=apple,col_name='storage_ram')"
   ]
  },
  {
   "cell_type": "markdown",
   "metadata": {},
   "source": [
    "## changing oS_Processor to os_processor😎"
   ]
  },
  {
   "cell_type": "code",
   "execution_count": 115,
   "metadata": {},
   "outputs": [],
   "source": [
    "# dataframes_list"
   ]
  },
  {
   "cell_type": "code",
   "execution_count": 116,
   "metadata": {},
   "outputs": [],
   "source": [
    "for i in dataframes_list:\n",
    "    for j in i.columns:\n",
    "        if 'oS_Processor' == j:\n",
    "            i.rename(columns={'oS_Processor':'os_processor'},inplace=True)\n",
    "        # print(j)"
   ]
  },
  {
   "cell_type": "code",
   "execution_count": null,
   "metadata": {},
   "outputs": [],
   "source": []
  },
  {
   "cell_type": "code",
   "execution_count": 120,
   "metadata": {},
   "outputs": [],
   "source": [
    "def remove_operating(txt):\n",
    "    return txt.replace('Operating','')"
   ]
  },
  {
   "cell_type": "markdown",
   "metadata": {},
   "source": [
    "## os_processor"
   ]
  },
  {
   "cell_type": "code",
   "execution_count": 123,
   "metadata": {},
   "outputs": [
    {
     "name": "stdout",
     "output_type": "stream",
     "text": [
      "367 : Operating SystemAndroid 12Processor CoreOcta CorePrimary Clock Speed2.2 GHz\n",
      "385 : Operating SystemAndroid Pie 9Processor TypeMediaTek Helio G90TProcessor CoreOcta CorePrimary Clock Speed2.05 GHzSecondary Clock Speed2 GHzOperating FrequencyGSM: B2, B3, B5, B8, WCDMA: B1, B2, B5, B8, LTE TDD: B40, B41, LTE FDD: B1, B3, B5, B8\n",
      "131 : Operating SystemAndroid Marshmallow 6.0.1Processor TypeQualcomm Snapdragon 625 64-bit Octa Core 2GHzProcessor CoreOcta CorePrimary Clock Speed2 GHzOperating FrequencyGSM - 850 / 900 / 1800 / 1900 MHz; WCDMA - 850 / 900 / 1900 / 2100 MHz; 4G LTE (TDD) - B40, LTE (FDD) - B3 / B5\n",
      "375 : Operating SystemAndroid Q 10Processor TypeQualcomm Snapdragon 662Processor CoreOcta CorePrimary Clock Speed2 GHz\n",
      "75 : Operating SystemAndroid Oreo 8.1Processor TypeQualcomm Snapdragon 425Processor CoreQuad CorePrimary Clock Speed1.4 GHzOperating FrequencyGSM: B2, B3, B5, B8, WCDMA: B1, B2, B5, B8, 4G LTE-TDD: B40, B41, 4G LTE-FDD: B1, B3, B5, B8\n",
      "402 : Operating SystemAndroid 11Processor TypeMediatek Dimensity 920Processor CoreOcta CorePrimary Clock Speed2.5 GHzSecondary Clock Speed2 GHzTertiary Clock Speed2.5 GHzOperating Frequency5G NR: N1, N3, N5, N8, N28, N40, N77, N78, 4G FDD: B1, B3, B5, B8, 4G TDD: B40, B41, 3G WCDMA: B1, B2, B5, B8, 2G GSM: B2, B3, B5, B8\n",
      "None\n",
      "85 : Operating SystemAndroid 13Processor TypeSEC S5E8535 (Exynos 1330)Processor CoreOcta CorePrimary Clock Speed2 GHzOperating FrequencyGSM 850, GSM 900, DCS 1800, PCS 1900\n",
      "116 : Operating SystemAndroid Q 11Processor CoreOcta CorePrimary Clock Speed1.6 GHz\n",
      "281 : Operating SystemAndroid Q 12Processor CoreOcta CorePrimary Clock Speed2 GHz\n",
      "399 : Operating SystemAndroid 10Processor TypeExynos 9611Processor CoreOcta CorePrimary Clock Speed2.3 GHzSecondary Clock Speed1.7 GHz\n",
      "29 : Operating SystemAndroid 12Processor CoreOcta CorePrimary Clock Speed2.4 GHz\n",
      "112 : Operating SystemAndroid 12Processor TypeOcta CoreProcessor CoreOcta CorePrimary Clock Speed2.99 GHz\n",
      "None\n",
      "346 : Operating SystemiOS 14Processor TypeA14 Bionic Chip with Next Generation Neural Engine\n",
      "138 : Operating SystemiOS 9Processor TypeApple A8 64-bit processor and M8 Motion Co-processorOperating FrequencyGSM - 850, 900, 1800, 1900; UMTS - 1700, 2100; LTE - 700, 2300, 2500, 2600\n",
      "234 : Operating SystemiOS 9Processor TypeApple A9 64-bit processor and Embedded M9 Motion Co-processorProcessor CoreDual CorePrimary Clock Speed1.84 GHzOperating FrequencyGSM - 850, 900, 1800, 1900; UMTS - 850, 900, 1700, 1900, 2100; 4G LTE (TD) - Band 38/39/40/41\n",
      "118 : Operating SystemiOS 12Processor TypeA11 Bionic Chip with 64-bit Architecture, Neural Engine, Embedded M11 Motion CoprocessorOperating Frequency4G FDD-LTE (Bands 1, 2, 3, 4, 5, 7, 8, 12, 13, 17, 18, 19, 20, 25, 26, 28, 29, 30, 66)\n",
      "241 : Operating SystemiOS 13Processor TypeA13 Bionic Chip\n",
      "289 : Operating SystemiOS 13Processor TypeA13 Bionic Chip with 3rd Gen Neural Engine\n",
      "None\n",
      "105 : Operating SystemAndroid 12Processor CoreOcta CorePrimary Clock Speed2.2 GHz\n",
      "2 : Operating SystemAndroid OxygenOS based on Android 13Processor CoreOcta CorePrimary Clock Speed3.2 GHz\n",
      "7 : Operating SystemAndroid 13Processor CoreOcta CorePrimary Clock Speed2.4 GHz\n",
      "107 : Operating SystemAndroid 11Processor CoreOcta CorePrimary Clock Speed2.4 GHz\n",
      "125 : Operating SystemAndroid Q 11Processor CoreDual CorePrimary Clock Speed2.4 GHz\n",
      "120 : Operating SystemAndroid Q 11Processor CoreDual CorePrimary Clock Speed2.4 GHz\n",
      "None\n",
      "162 : Operating SystemAndroid 12Processor TypeQualcomm Snapdragon 8 Gen 1 Mobile PlatformProcessor CoreOcta CorePrimary Clock Speed3 GHzSecondary Clock Speed2.5 GHzTertiary Clock Speed1.8 GHzOperating Frequency2G GSM: 850/900/1800/1900, 3G WCDMA: B1/B2/B4/B5/B6/B8/B19, 4G LTE TDD: B34/B38/B39/B40/B41/B42, 4G LTE FDD: B1/B2/B3/B4/B5/B7/B8/B12/B13/B17/B18/B19/B20/B25/B26/B28/B66(2110-2180M), 5G NR_NSA: n1/n3/n5/n7/n8/ n20/n28/n38/n40/n41/n66(2110-2180M)/n77/n78, 5G NR_SA: n1/n3/n5/n7/n8/n20/n28/n38/n40/n41/n66(2110-2180M) /n77/n78\n",
      "56 : Operating SystemAndroid 11Processor TypeQualcomm Snapdragon 778GProcessor CoreOcta CorePrimary Clock Speed2.4 GHzSecondary Clock Speed1.8 GHzOperating Frequency2G GSM: 850/900/1800/1900 MHz, 3G CDMA: BC0, 3G CDMA2000: BC0, 3G WCDMA: B1/B2/B4/B5/B6/B8/B19, 4G FDD-LTE: B1/B3/B4/B5/B7/B8/B19/B28, 4G TDD-LTE: B34/B38/B39/B40/B41(2515 - 2675 MHZ), 5G NR_NSA: n77/n78/n41, 5G NR_SA: n1/n28/n41/n78\n",
      "64 : Operating SystemAndroid 12Processor TypeUnisoc T612Processor CoreOcta CorePrimary Clock Speed1.82 GHzSecondary Clock Speed1.82 GHzOperating Frequency2G GSM: 850/900/1800/1900 MHz, 3G WCDMA: B1/B5/B8, 4G FDD-LTE: B1/B3/B5/B8, 4G TD-LTE: B38/B40/B41 (2535-2655MHz)\n",
      "255 : Operating SystemAndroid 11Processor TypeMediaTek Helio G95Processor CoreOcta CorePrimary Clock Speed2.05 GHzOperating Frequency2G GSM: 850/900/1800/1900, 3G WCDMA: B1/B5/B8, 4G FDD-LTE: B1/B3/B5/B8, 4G TD-LTE: B38/B40/B41 (2535 - 2655 MHz)\n",
      "156 : Operating SystemAndroid 12Processor TypeQualcomm Snapdragon 870Processor CoreOcta CorePrimary Clock Speed3.2 GHzSecondary Clock Speed2.4 GHzTertiary Clock Speed1.8 GHzOperating Frequency2G GSM: 850/900/1800/1900 MHz, 3G WCDMA: B1/B2/B4/B5/B6/B8/B19, 4G TD-LTE: B34/B38/B39/B40/B41 (2515-2675 MHz), 4G LTE FDD B1/2/3/4/5/7/8/18/19/26/28A, 5G NR SA: n1/n3/n5/n8/n28A/n41 (2515-2675 MHz)/n78, 5G NSA: n41 (2515-2675 MHz)/n77/n78\n",
      "9 : Operating SystemAndroid 11Processor TypeUnisoc T612Processor CoreOcta CorePrimary Clock Speed1.82 GHzSecondary Clock Speed1.82 GHzOperating Frequency2G GSM: 850/900/1800/1900, 3G WCDMA: B1/B5/B8, 4G FDD-LTE: B1/B3/B5/B8, 4G TD-LTE: B38/B40/B41 (2535 - 2655 MHz)\n",
      "None\n",
      "286 : Operating SystemAndroid 10Processor TypeQualcomm Snapdragon 730Processor CoreOcta CorePrimary Clock Speed2.2 GHzSecondary Clock Speed1.8 GHzOperating Frequency2G GSM Bands: B2/B3/B5/B8, 3G WCDMA Bands: B1/B5/B8, 4G TDD LTE Bands: B38/B40/B41, 4G FDD LTE Bands: B1/B3/B5/B8\n",
      "209 : Operating SystemAndroid 12Processor TypeMediatek Dimensity 9000Processor CoreOcta CorePrimary Clock Speed3.05 GHzSecondary Clock Speed2.85 GHzTertiary Clock Speed1.8 GHzOperating Frequency3G WCDMA: B1/B2/B5/B8, 4G FDD LTE: B1/B2/B3/B4/B5/B7/B8/B20/B28, 4G TD LTE: B38/B39/B40/B41, 5G NSA: n1/n3/n5/n7/n28/n40/n41/n77/n78, 5G SA: n1/n3/n5/n7/n8/n28/n38/n40/n41/n77/n78\n",
      "40 : Operating SystemAndroid 12Processor TypeMediatek Helio P35Processor CoreOcta CorePrimary Clock Speed2.3 GHzSecondary Clock Speed1.8 GHzOperating Frequency2G GSM: B3/B5/B8, 3G WCDMA: B1/B5/B8, 4G FDD LTE: B1/B3/B5/B8, 4G TDD LTE: B38/B40/B41 (120M)\n",
      "241 : Operating SystemAndroid 11Processor TypeQualcomm Snapdragon 870Processor CoreOcta CorePrimary Clock Speed3.2 GHz\n",
      "5 : Operating SystemAndroid 13Processor TypeDimensity 6020Processor CoreOcta CorePrimary Clock Speed2.2 GHzOperating Frequency3G WCDMA: B1/B5/B8, 4G FDD LTE: B1/B3/B5/B8, 4G TDD LTE: B38/B40/B41 (120M), 5G: n1/n3/n8/n28A/n77/n78\n",
      "56 : Operating SystemAndroid 12Processor TypeMediatek Dimensity 920Processor CoreOcta CorePrimary Clock Speed2.5 GHzOperating Frequency5G: N1/N3/N38/N40/N41/N77/N78, 4G TDD LTE: B38/B39/B40/B41, 4G FDD LTE: B1/B2/B3/B4/B5/B8/B18/B19/B26, 3G WCDMA: B1/B2/B4/B5/B8\n",
      "None\n",
      "39 : Operating SystemAndroid Q ColorOS 12.1. 1Processor TypeMTK Helio G35Processor CoreOcta CorePrimary Clock Speed2.3 GHzSecondary Clock Speed1.8 GHz\n",
      "99 : Operating SystemAndroid 13 (Tiramisu)Primary Clock Speed1.2 GHz\n",
      "200 : Operating SystemAndroid Pie Android v9.0 (Pie)Processor CoreOcta CorePrimary Clock Speed0.1 MHz\n",
      "39 : Operating SystemAndroid Q ColorOS 12.1. 1Processor TypeMTK Helio G35Processor CoreOcta CorePrimary Clock Speed2.3 GHzSecondary Clock Speed1.8 GHz\n",
      "182 : Operating SystemAndroid 10Processor TypeQualcomm Snapdragon 460Processor CoreOcta CorePrimary Clock Speed1.8 GHzSecondary Clock Speed1.6 GHzOperating FrequencyGSM: 850/900/1800/1900, WCDMA: B1/B5/B8, 4G FDD LTE: B1/B3/B5/B8, 4G TDD LTE: B38/B40/B41 (2535 - 2655 MHz)\n",
      "225 : Operating SystemAndroid Lollipop 5.1Processor TypeEOLProcessor CoreOcta CorePrimary Clock Speed1.5 GHzOperating FrequencyGSM: 850, 900, 1800, 1900; WCDMA: 850, 900, 2100; 4G LTE FDD - Bands (1, 3, 5), TDD LTE - Band 40\n",
      "None\n",
      "36 : Operating SystemAndroid 11Processor TypeMediatek Helio G85Processor CoreOcta CorePrimary Clock Speed2 GHzSecondary Clock Speed1.8 GHzOperating Frequency2G GSM: B2/B3/B5/B8, 3G WCDMA: B1/B2/B5/B8, 4G LTE:B1/B2/B3/B5/B7/B8/B18/B19/B20/B26/B28/B38/B40/B41\n",
      "41 : Operating SystemAndroid 11Processor TypeMediatek Helio G85Processor CoreOcta CorePrimary Clock Speed2 GHzSecondary Clock Speed1.8 GHzOperating Frequency2G GSM: B2/B3/B5/B8, 3G WCDMA: B1/B2/B5/B8, 4G LTE:B1/B2/B3/B5/B7/B8/B18/B19/B20/B26/B28/B38/B40/B41\n",
      "16 : Operating System0\n",
      "70 : Operating SystemAndroid Pie 9Processor TypeMediaTek Helio P35Processor CoreOcta CorePrimary Clock Speed2.3 GHz\n",
      "101 : Operating SystemAndroid 11Processor TypeQualcomm Snapdragon 732GProcessor CoreOcta CorePrimary Clock Speed2.3 GHzSecondary Clock Speed1.8 GHzOperating Frequency2G GSM: B2/B3/B5/B8, 3G WCDMA: B1/B2/B4/B5/B8/B19, 4G LTE: B1/B2/B3/B4/B5/B7/B8/B18/B19/B20/B26/B28/B38/B40/B41\n",
      "58 : Operating SystemAndroid 10Processor TypeMediaTek Helio G25Processor CoreOcta CorePrimary Clock Speed2 GHzOperating Frequency2G GSM: B2/B3/B5/B8, 3G WCDMA: B1/B2/B5/B8, 4G LTE: B1/B3/B5/B7/B8/B20/B38/B40/B41\n",
      "None\n",
      "7 : Operating SystemAndroid 13Processor TypeGoogle Tensor G2Operating Frequency2G GSM/EDGE: Quad Band (850/900/1800/1900 MHz), 3G UMTS/HSPA+/HSDPA: B1/B2/B4/B5/B6/B8/B19, 4G LTE: B1/B2/B3/B4/B5/B7/B8/B12/B13/B14/B17/B18/B19/B20/B25/B26/B28/B29/B30/B32/B38/B39/B40/B41/B42/B46/B48/B66/B71, 5G sub-62: n1/n2/n3/n5/n7/n8/n12/n14/n20/n25/n28/n30/n38/n40/n41/n48/n66/n71/n75/n76/n77/n78, eSIM\n",
      "0 : Operating SystemAndroid 13Processor TypeTensor G2Operating Frequency2G GSM: 850 MHz/900 MHz/1800 MHz/1900 MHz, 3G UMTS: B1/B2/B4/B5/B6/B8/B19, 4G LTE: B1/B2/B3/B4/B5/B7/B8/B12/B17/B18/B19/B20/B21/B25/B28/B32/B38/B39/B40/B41/B42/B66, 5G: n1/n2/n3/n5/n7/n8/n12/n20/n25/n28/n38/n40/n41/n66/n75/n76/n77/n78/n79, eSIM\n",
      "0 : Operating SystemAndroid 13Processor TypeTensor G2Operating Frequency2G GSM: 850 MHz/900 MHz/1800 MHz/1900 MHz, 3G UMTS: B1/B2/B4/B5/B6/B8/B19, 4G LTE: B1/B2/B3/B4/B5/B7/B8/B12/B17/B18/B19/B20/B21/B25/B28/B32/B38/B39/B40/B41/B42/B66, 5G: n1/n2/n3/n5/n7/n8/n12/n20/n25/n28/n38/n40/n41/n66/n75/n76/n77/n78/n79, eSIM\n",
      "1 : Operating SystemAndroid 13Processor TypeTensor G2Operating Frequency2G GSM: 850 MHz/900 MHz/1800 MHz/1900 MHz, 3G UMTS: B1/B2/B4/B5/B6/B8/B19, 4G LTE: B1/B2/B3/B4/B5/B7/B8/B12/B17/B18/B19/B20/B21/B25/B28/B32/B38/B39/B40/B41/B42/B66, 5G: n1/n2/n3/n5/n7/n8/n12/n20/n25/n28/n38/n40/n41/n66/n75/n76/n77/n78/n79, eSIM\n",
      "7 : Operating SystemAndroid 13Processor TypeGoogle Tensor G2Operating Frequency2G GSM/EDGE: Quad Band (850/900/1800/1900 MHz), 3G UMTS/HSPA+/HSDPA: B1/B2/B4/B5/B6/B8/B19, 4G LTE: B1/B2/B3/B4/B5/B7/B8/B12/B13/B14/B17/B18/B19/B20/B25/B26/B28/B29/B30/B32/B38/B39/B40/B41/B42/B46/B48/B66/B71, 5G sub-62: n1/n2/n3/n5/n7/n8/n12/n14/n20/n25/n28/n30/n38/n40/n41/n48/n66/n71/n75/n76/n77/n78, eSIM\n",
      "13 : Operating SystemAndroid Q 11Processor TypeMediatek P70 Helios Octa CoreProcessor CoreOcta CorePrimary Clock Speed2 GHzSecondary Clock Speed2 GHzTertiary Clock Speed2 GHzOperating Frequency2.0\n",
      "None\n",
      "38 : Operating SystemAndroid ?HiOS 12.0 based on Android 12Processor CoreOcta CorePrimary Clock Speed3.05 GHz\n",
      "10 : Operating SystemAndroid Android 12.0Processor CoreOcta CorePrimary Clock Speed2 GHz\n",
      "57 : Operating SystemAndroid 12.0Primary Clock Speed1.6 GHz\n",
      "98 : Operating SystemAndroid 12Processor CoreOcta CorePrimary Clock Speed2 GHz\n",
      "103 : Operating SystemAndroid Android 11Processor TypeMediaTek Helio G85Processor CoreOcta CorePrimary Clock Speed2 GHzSecondary Clock Speed1.8 GHz\n",
      "147 : Operating SystemAndroid 10Processor TypeHelio P22 MT6762Processor CoreOcta CorePrimary Clock Speed2 GHzOperating FrequencyGSM: B2/B3/B5/B8, WCDMA: B1/B5/B8, LTE: B1/B3/B5/B8/B38/B40/B41\n",
      "None\n",
      "72 : Operating SystemAndroid 12Processor TypeMediatek Dimensity 920Processor CoreOcta CorePrimary Clock Speed2.5 GHzOperating Frequency2G GSM: B2/B3/B5/B8, 3G WCDMA: B1/B5/B8, 4G LTE FDD: B1/B3/B5/B7/B8/B20/B28, 4G LTE TDD: B38/B40/B41, 5G: n38/n40/n41/n77/n78/n1/n3/n5/n7/n8/n20/n28\n",
      "27 : Operating SystemAndroid 11Processor TypeMediatek Helio A22Processor CoreQuad CorePrimary Clock Speed2 GHzOperating Frequency2G GSM: B2/B3/B5/B8, 3G WCDMA: B1/B5/B8, 4G LTE: B1/B3/B5/B8/B38/B40/B41\n",
      "16 : Operating SystemAndroid 12Processor TypeMediatek Dimensity 810 5GProcessor CoreOcta CorePrimary Clock Speed2.4 GHzOperating Frequency2G GSM: B2/B3/B5/B8, 3G WCDMA: B1/B5/B8, 4G LTE: B1/B3/B5/B7/B8/B20/B28/B38/B40/B41, 5G: n38/n40/n41/n77/n78/n1/n3/n5/n7/n8/n20/n28\n",
      "17 : Operating SystemAndroid 12Processor TypeMediatek Dimensity 810 5GProcessor CoreOcta CorePrimary Clock Speed2.4 GHzOperating Frequency2G GSM: B2/B3/B5/B8, 3G WCDMA: B1/B5/B8, 4G LTE: B1/B3/B5/B7/B8/B20/B28/B38/B40/B41, 5G: n38/n40/n41/n77/n78/n1/n3/n5/n7/n8/n20/n28\n",
      "83 : Operating SystemAndroid 12Processor TypeMediatek Dimensity 920Processor CoreOcta CorePrimary Clock Speed2.5 GHzOperating Frequency2G GSM: B2/B3/B5/B8, 3G WCDMA: B1/B5/B8, 4G LTE FDD: B1/B3/B5/B7/B8/B20/B28, 4G LTE TDD: B38/B40/B41, 5G: n38/n40/n41/n77/n78/n1/n3/n5/n7/n8/n20/n28\n",
      "174 : Operating SystemAndroid 11Processor TypeMediatek Dimensity 900Processor CoreOcta CorePrimary Clock Speed2.4 GHzOperating Frequency2G GSM: 850/900/1800/1900 MHz, 3G WCDMA: B1/B2/B4/B5/B8, 4G LTE FDD: B1/B2/B3/B4/B5/B7/B8/B17/B20/B28, 4G LTE TDD: B38/B40/B41/B66, 5G NR_SA: n1/n3/n5/n7/n8/n20/n28/n38/n40/n41/n77/n78/n79, 5G NR_NSA: n41/n77/n78/n79\n",
      "None\n"
     ]
    }
   ],
   "source": [
    "for i in dataframes_list:\n",
    "    remove_internal\n",
    "    print(random_values(col_name='os_processor',df=i))\n"
   ]
  },
  {
   "cell_type": "code",
   "execution_count": 124,
   "metadata": {},
   "outputs": [
    {
     "name": "stdout",
     "output_type": "stream",
     "text": [
      "Operating SystemAndroid 12Processor TypeDimensity 8100Processor CoreOcta CorePrimary Clock Speed2.85 GHzSecondary Clock Speed2 GHzOperating Frequency2G GSM: B2/B3/B5/B8, 3G WCDMA: B1/B2/B4/B5/B8, 4G LTE TDD: B38/B40/B41, 4G LTE FDD: B1/B2/B3/B4/B5/B7/B8/B20/B28A, 5G NSA+SA: N1/N3/N5/N7/N8/N20/N28A/N38/N40/N41/N77/N78 ::index-299\n",
      "-  SystemAndroid 12Processor TypeDimensity 8100Processor CoreOcta CorePrimary Clock Speed2.85 GHzSecondary Clock Speed2 GHz Frequency2G GSM: B2/B3/B5/B8, 3G WCDMA: B1/B2/B4/B5/B8, 4G LTE TDD: B38/B40/B41, 4G LTE FDD: B1/B2/B3/B4/B5/B7/B8/B20/B28A, 5G NSA+SA: N1/N3/N5/N7/N8/N20/N28A/N38/N40/N41/N77/N78\n",
      "\n",
      "Operating SystemAndroid Android 13Processor CoreOcta CorePrimary Clock Speed2.2 GHz ::index-333\n",
      "-  SystemAndroid Android 13Processor CoreOcta CorePrimary Clock Speed2.2 GHz\n",
      "\n",
      "Operating SystemAndroid Q 11Processor CoreDual CorePrimary Clock Speed2.2 GHz ::index-112\n",
      "-  SystemAndroid Q 11Processor CoreDual CorePrimary Clock Speed2.2 GHz\n",
      "\n",
      "Operating SystemAndroid Q 11Processor CoreOcta CorePrimary Clock Speed2.4 GHz ::index-302\n",
      "-  SystemAndroid Q 11Processor CoreOcta CorePrimary Clock Speed2.4 GHz\n",
      "\n",
      "Operating SystemAndroid Pie 9Processor TypeQualcomm Snapdragon 675Processor CoreOcta CorePrimary Clock Speed2 GHzSecondary Clock Speed1.7 GHzOperating FrequencyGSM - B2, B3, B5, B8, WCDMA - B1, B2, B5, B8, LTE TDD - B40, B41, LTE FDD - B1, B3, B5, B8, CA - 1C (Only DLCA), 3C, 40C, 41C ::index-167\n",
      "-  SystemAndroid Pie 9Processor TypeQualcomm Snapdragon 675Processor CoreOcta CorePrimary Clock Speed2 GHzSecondary Clock Speed1.7 GHz FrequencyGSM - B2, B3, B5, B8, WCDMA - B1, B2, B5, B8, LTE TDD - B40, B41, LTE FDD - B1, B3, B5, B8, CA - 1C (Only DLCA), 3C, 40C, 41C\n",
      "\n",
      "Operating SystemAndroid 11Processor TypeQualcomm Snapdragon 778GProcessor CoreOcta CorePrimary Clock Speed2.4 GHzSecondary Clock Speed1.8 GHz ::index-21\n",
      "-  SystemAndroid 11Processor TypeQualcomm Snapdragon 778GProcessor CoreOcta CorePrimary Clock Speed2.4 GHzSecondary Clock Speed1.8 GHz\n",
      "\n",
      "Operating SystemAndroid Pie 9.0Processor TypeQualcomm Snapdragon 660 AIEProcessor CoreOcta CorePrimary Clock Speed2.2 GHzSecondary Clock Speed1.8 GHzOperating FrequencyGSM: B2, B3, B5, B8, WCDMA: B1, B2, B5, B8, 4G LTE-TDD: B40, B41, 4G LTE-FDD: B1, B3, B5, B8, CA: 1C (Only DLCA), 3C, 40C, 41C ::index-110\n",
      "-  SystemAndroid Pie 9.0Processor TypeQualcomm Snapdragon 660 AIEProcessor CoreOcta CorePrimary Clock Speed2.2 GHzSecondary Clock Speed1.8 GHz FrequencyGSM: B2, B3, B5, B8, WCDMA: B1, B2, B5, B8, 4G LTE-TDD: B40, B41, 4G LTE-FDD: B1, B3, B5, B8, CA: 1C (Only DLCA), 3C, 40C, 41C\n",
      "\n",
      "Operating SystemAndroid 11Processor TypeMediatek Helio G95 Octa CoreProcessor CoreOcta CorePrimary Clock Speed2 GHzSecondary Clock Speed2 GHzTertiary Clock Speed2.05 GHzOperating Frequency2G GSM: B2/B3/B5/B8, 3G WCDMA: B1/B5/B8, 4G LTE TDD: B40/B41, 4G LTE FDD: B1/B3/B5/B8 ::index-254\n",
      "-  SystemAndroid 11Processor TypeMediatek Helio G95 Octa CoreProcessor CoreOcta CorePrimary Clock Speed2 GHzSecondary Clock Speed2 GHzTertiary Clock Speed2.05 GHz Frequency2G GSM: B2/B3/B5/B8, 3G WCDMA: B1/B5/B8, 4G LTE TDD: B40/B41, 4G LTE FDD: B1/B3/B5/B8\n",
      "\n",
      "None\n",
      "Operating SystemAndroid 10Processor TypeMediaTek Helio G35 (MT6765G)Processor CoreOcta CorePrimary Clock Speed2 GHz ::index-510\n",
      "-  SystemAndroid 10Processor TypeMediaTek Helio G35 (MT6765G)Processor CoreOcta CorePrimary Clock Speed2 GHz\n",
      "\n",
      "Operating SystemAndroid 13Processor TypeDimensity 7050Processor CoreOcta CorePrimary Clock Speed2.6 GHzSecondary Clock Speed2 GHzOperating Frequency2G GSM: 850 MHz/900 MHz/1800 MHz/1900 MHz, 3G WCDMA: B1/B2/B4/B5/B6/B8/B19, 4G LTE FDD: B1/B2/B3/B4/B5/B7/B8/B12/B13/B17/B18/B19/B20/B26/B28A/B28B/B66, 4G LTE TDD: B38/B39/B40/B41, 5G NR: n1/n3/n5/n7/n8/n20/n28A/n28B/n66/n38/n40/n41/n77/n78 ::index-556\n",
      "-  SystemAndroid 13Processor TypeDimensity 7050Processor CoreOcta CorePrimary Clock Speed2.6 GHzSecondary Clock Speed2 GHz Frequency2G GSM: 850 MHz/900 MHz/1800 MHz/1900 MHz, 3G WCDMA: B1/B2/B4/B5/B6/B8/B19, 4G LTE FDD: B1/B2/B3/B4/B5/B7/B8/B12/B13/B17/B18/B19/B20/B26/B28A/B28B/B66, 4G LTE TDD: B38/B39/B40/B41, 5G NR: n1/n3/n5/n7/n8/n20/n28A/n28B/n66/n38/n40/n41/n77/n78\n",
      "\n",
      "Operating SystemAndroid 12Processor CoreOcta CorePrimary Clock Speed2.4 GHz ::index-44\n",
      "-  SystemAndroid 12Processor CoreOcta CorePrimary Clock Speed2.4 GHz\n",
      "\n",
      "Operating SystemAndroid Pie 10Processor TypeMediaTek MT6739Processor CoreQuad CorePrimary Clock Speed1.5 GHz ::index-387\n",
      "-  SystemAndroid Pie 10Processor TypeMediaTek MT6739Processor CoreQuad CorePrimary Clock Speed1.5 GHz\n",
      "\n",
      "Operating SystemAndroid Q V10Processor CoreOcta CorePrimary Clock Speed2.3 GHz ::index-418\n",
      "-  SystemAndroid Q V10Processor CoreOcta CorePrimary Clock Speed2.3 GHz\n",
      "\n",
      "Operating SystemAndroid 12Processor TypeQualcomm Snapdragon 695 (SM6375)Processor CoreOcta CorePrimary Clock Speed2.2 GHzOperating FrequencyGSM 850, GSM 900, DCS 1800, PCS 1900 ::index-102\n",
      "-  SystemAndroid 12Processor TypeQualcomm Snapdragon 695 (SM6375)Processor CoreOcta CorePrimary Clock Speed2.2 GHz FrequencyGSM 850, GSM 900, DCS 1800, PCS 1900\n",
      "\n",
      "Operating SystemAndroid 11Processor CoreOcta CorePrimary Clock Speed1.6 GHzSecondary Clock Speed1.2 GHzOperating Frequency2G GSM, 3G WCDMA, 4G LTE FDD, 4G LTE TDD ::index-174\n",
      "-  SystemAndroid 11Processor CoreOcta CorePrimary Clock Speed1.6 GHzSecondary Clock Speed1.2 GHz Frequency2G GSM, 3G WCDMA, 4G LTE FDD, 4G LTE TDD\n",
      "\n",
      "Operating SystemAndroid 13Processor TypeExynos 1330, Octa CoreProcessor CoreOcta CorePrimary Clock Speed2.4 GHzSecondary Clock Speed2 GHzOperating Frequency2G GSM: GSM850/GSM900/DCS1800/PCS1900, 3G UMTS(WCDMA): B1(2100)/B2(1900)/B4(AWS)/B5(850)/B8(900), 4G LTE FDD: B1(2100)/B2(1900)/B3(1800)/B4(AWS)/B5(850)/B7(2600)/B8(900)/B12(700)/B17(700)/B20(800)/B26(850)/B28(700)/B66(AWS-3), 5G: N1(2100)/N3(1800)/N5(850)/N7(2600)/N8(900)/N20(800)/N28(700)/N66(AWS-3) ::index-10\n",
      "-  SystemAndroid 13Processor TypeExynos 1330, Octa CoreProcessor CoreOcta CorePrimary Clock Speed2.4 GHzSecondary Clock Speed2 GHz Frequency2G GSM: GSM850/GSM900/DCS1800/PCS1900, 3G UMTS(WCDMA): B1(2100)/B2(1900)/B4(AWS)/B5(850)/B8(900), 4G LTE FDD: B1(2100)/B2(1900)/B3(1800)/B4(AWS)/B5(850)/B7(2600)/B8(900)/B12(700)/B17(700)/B20(800)/B26(850)/B28(700)/B66(AWS-3), 5G: N1(2100)/N3(1800)/N5(850)/N7(2600)/N8(900)/N20(800)/N28(700)/N66(AWS-3)\n",
      "\n",
      "None\n",
      "Operating SystemiOS 14Processor TypeA14 Bionic Chip with Next Generation Neural Engine ::index-33\n",
      "-  SystemiOS 14Processor TypeA14 Bionic Chip with Next Generation Neural Engine\n",
      "\n",
      "Operating SystemiOS 14Processor TypeA14 Bionic Chip with Next Generation Neural Engine ::index-185\n",
      "-  SystemiOS 14Processor TypeA14 Bionic Chip with Next Generation Neural Engine\n",
      "\n",
      "Operating SystemiOS 16Processor TypeA16 Bionic Chip, 6 Core ProcessorProcessor CoreHexa CoreOperating Frequency5G NR (Bands n1, n2, n3, n5, n7, n8, n12, n20, n25, n26, n28, n30, n38, n40, n41, n48, n53, n66, n70, n77, n78, n79) ), 4G FDD-LTE (B1, B2, B3, B4, B5, B7, B8, B12, B13, B17, B18, B19, B20, B25, B26, B28, B30, B32, B66), 4G TD-LTE (B34, B38, B39, B40, B41, B42, B46, B48, B53), 3G UMTS/HSPA+/DC-HSDPA (850, 900, 1700/2100, 1900, 2100 MHz),2G GSM/EDGE (850, 900, 1800, 1900 MHz) ::index-66\n",
      "-  SystemiOS 16Processor TypeA16 Bionic Chip, 6 Core ProcessorProcessor CoreHexa Core Frequency5G NR (Bands n1, n2, n3, n5, n7, n8, n12, n20, n25, n26, n28, n30, n38, n40, n41, n48, n53, n66, n70, n77, n78, n79) ), 4G FDD-LTE (B1, B2, B3, B4, B5, B7, B8, B12, B13, B17, B18, B19, B20, B25, B26, B28, B30, B32, B66), 4G TD-LTE (B34, B38, B39, B40, B41, B42, B46, B48, B53), 3G UMTS/HSPA+/DC-HSDPA (850, 900, 1700/2100, 1900, 2100 MHz),2G GSM/EDGE (850, 900, 1800, 1900 MHz)\n",
      "\n",
      "Operating SystemiOS 7Processor TypeA6 ChipOperating FrequencyGSM - 850, 900, 1800, 1900; UMTS - 2100 ::index-398\n",
      "-  SystemiOS 7Processor TypeA6 Chip FrequencyGSM - 850, 900, 1800, 1900; UMTS - 2100\n",
      "\n",
      "Operating SystemiOS 12Processor TypeA12 Bionic Chip ::index-413\n",
      "-  SystemiOS 12Processor TypeA12 Bionic Chip\n",
      "\n",
      "Operating SystemiOS 14Processor TypeA14 Bionic Chip with Next Generation Neural Engine ::index-306\n",
      "-  SystemiOS 14Processor TypeA14 Bionic Chip with Next Generation Neural Engine\n",
      "\n",
      "Operating SystemiOS 12Processor TypeA11 Bionic Chip with 64-bit Architecture, Neural Engine, Embedded M11 Motion CoprocessorOperating FrequencyGSM/EDGE (850, 900, 1800, 1900 MHz), UMTS / HSPA+ / DC-HSDPA - (850, 900, 1700 / 2100, 1900, 2100 MHz), 4G TD-LTE (Bands 34, 38, 39, 40, 41) ::index-344\n",
      "-  SystemiOS 12Processor TypeA11 Bionic Chip with 64-bit Architecture, Neural Engine, Embedded M11 Motion Coprocessor FrequencyGSM/EDGE (850, 900, 1800, 1900 MHz), UMTS / HSPA+ / DC-HSDPA - (850, 900, 1700 / 2100, 1900, 2100 MHz), 4G TD-LTE (Bands 34, 38, 39, 40, 41)\n",
      "\n",
      "Operating SystemiOS 12Processor TypeA12 Bionic Chip ::index-252\n",
      "-  SystemiOS 12Processor TypeA12 Bionic Chip\n",
      "\n",
      "None\n",
      "Operating SystemAndroid 11Processor CoreOcta CorePrimary Clock Speed2.4 GHz ::index-140\n",
      "-  SystemAndroid 11Processor CoreOcta CorePrimary Clock Speed2.4 GHz\n",
      "\n",
      "Operating SystemAndroid Q 11Processor CoreDual CorePrimary Clock Speed2.4 GHz ::index-136\n",
      "-  SystemAndroid Q 11Processor CoreDual CorePrimary Clock Speed2.4 GHz\n",
      "\n",
      "Operating SystemAndroid Oxygen OxygenOS based on Android 13Processor CoreOcta CorePrimary Clock Speed3.2 GHz ::index-29\n",
      "-  SystemAndroid Oxygen OxygenOS based on Android 13Processor CoreOcta CorePrimary Clock Speed3.2 GHz\n",
      "\n",
      "Operating SystemAndroid Q 11Processor CoreDual CorePrimary Clock Speed2.4 GHz ::index-84\n",
      "-  SystemAndroid Q 11Processor CoreDual CorePrimary Clock Speed2.4 GHz\n",
      "\n",
      "Operating SystemAndroid Oxygen OxygenOS based on Android 13Processor CoreOcta CorePrimary Clock Speed3.2 MHz ::index-4\n",
      "-  SystemAndroid Oxygen OxygenOS based on Android 13Processor CoreOcta CorePrimary Clock Speed3.2 MHz\n",
      "\n",
      "Operating SystemAndroid 12Processor CoreOcta CorePrimary Clock Speed2.2 GHz ::index-16\n",
      "-  SystemAndroid 12Processor CoreOcta CorePrimary Clock Speed2.2 GHz\n",
      "\n",
      "Operating SystemAndroid 13Processor CoreDeca CorePrimary Clock Speed2.4 GHz ::index-10\n",
      "-  SystemAndroid 13Processor CoreDeca CorePrimary Clock Speed2.4 GHz\n",
      "\n",
      "Operating SystemAndroid 11Processor CoreDual CorePrimary Clock Speed2.4 GHz ::index-171\n",
      "-  SystemAndroid 11Processor CoreDual CorePrimary Clock Speed2.4 GHz\n",
      "\n",
      "None\n",
      "Operating SystemAndroid 11 ::index-151\n",
      "-  SystemAndroid 11\n",
      "\n",
      "Operating SystemAndroid 12Processor TypeMediatek Helio G99 Octa CoreProcessor CoreOcta CorePrimary Clock Speed2.2 GHzSecondary Clock Speed2 GHzOperating Frequency2G GSM: 850/900/1800/1900 MHz, 3G WCDMA: 850/900/2100 MHz, 4G FDD-LTE: B1/B3/B5/B8, 4G TD-LTE: B38/B40/B41 (2535 - 2655 MHz) ::index-22\n",
      "-  SystemAndroid 12Processor TypeMediatek Helio G99 Octa CoreProcessor CoreOcta CorePrimary Clock Speed2.2 GHzSecondary Clock Speed2 GHz Frequency2G GSM: 850/900/1800/1900 MHz, 3G WCDMA: 850/900/2100 MHz, 4G FDD-LTE: B1/B3/B5/B8, 4G TD-LTE: B38/B40/B41 (2535 - 2655 MHz)\n",
      "\n",
      "Operating SystemAndroid 12Processor TypeUnisoc SC9863A/ Unisoc SC9863A1Processor CoreOcta CorePrimary Clock Speed1.6 GHzOperating Frequency2G GSM: 850/900/1800/1900 MHz, 3G WCDMA: B1/B5/B8, 4G FDD LTE: B1/B3/B5/B8, 4G TD LTE: B38/B40/B41 (2535 - 2655 MHz) ::index-49\n",
      "-  SystemAndroid 12Processor TypeUnisoc SC9863A/ Unisoc SC9863A1Processor CoreOcta CorePrimary Clock Speed1.6 GHz Frequency2G GSM: 850/900/1800/1900 MHz, 3G WCDMA: B1/B5/B8, 4G FDD LTE: B1/B3/B5/B8, 4G TD LTE: B38/B40/B41 (2535 - 2655 MHz)\n",
      "\n",
      "Operating SystemAndroid 13Processor TypeDimensity 7050Processor CoreOcta CorePrimary Clock Speed2.6 GHzSecondary Clock Speed2 GHzOperating Frequency2G GSM: 850 MHz/900 MHz/1800 MHz, 3G WCDMA: B1/B5/B8, 4G LTE FDD: B1/B3/B5/B8/B28A, 4G LTE TDD: B40/B41, 5G NR: n1/n3/n5/n8/n28A/n40/n41/n77/n78 ::index-188\n",
      "-  SystemAndroid 13Processor TypeDimensity 7050Processor CoreOcta CorePrimary Clock Speed2.6 GHzSecondary Clock Speed2 GHz Frequency2G GSM: 850 MHz/900 MHz/1800 MHz, 3G WCDMA: B1/B5/B8, 4G LTE FDD: B1/B3/B5/B8/B28A, 4G LTE TDD: B40/B41, 5G NR: n1/n3/n5/n8/n28A/n40/n41/n77/n78\n",
      "\n",
      "Operating SystemAndroid Pie 9Processor TypeQualcomm Snapdragon 710 Octa Core 2.2 GHz AIEProcessor CoreOcta CorePrimary Clock Speed2.2 GHzSecondary Clock Speed1.7 GHz ::index-239\n",
      "-  SystemAndroid Pie 9Processor TypeQualcomm Snapdragon 710 Octa Core 2.2 GHz AIEProcessor CoreOcta CorePrimary Clock Speed2.2 GHzSecondary Clock Speed1.7 GHz\n",
      "\n",
      "Operating SystemAndroid 12Processor TypeUnisoc SC9863A/ Unisoc SC9863A1Processor CoreOcta CorePrimary Clock Speed1.6 GHzOperating Frequency2G GSM: 850/900/1800/1900 MHz, 3G WCDMA: B1/B5/B8, 4G FDD LTE: B1/B3/B5/B8, 4G TD LTE: B38/B40/B41 (2535 - 2655 MHz) ::index-49\n",
      "-  SystemAndroid 12Processor TypeUnisoc SC9863A/ Unisoc SC9863A1Processor CoreOcta CorePrimary Clock Speed1.6 GHz Frequency2G GSM: 850/900/1800/1900 MHz, 3G WCDMA: B1/B5/B8, 4G FDD LTE: B1/B3/B5/B8, 4G TD LTE: B38/B40/B41 (2535 - 2655 MHz)\n",
      "\n",
      "Operating SystemAndroid 13Processor TypeHelio G88Processor CoreOcta CorePrimary Clock Speed2 GHzSecondary Clock Speed1.8 GHzOperating Frequency2G GSM: 850/900/1800/1900 MHz, 3G WCDMA: B1/B5/B8, 4G FDD LTE: B1/B3/B5/B8, 4G TD LTE: B38/B40/B41 (2535 MHz - 2655 MHz) ::index-6\n",
      "-  SystemAndroid 13Processor TypeHelio G88Processor CoreOcta CorePrimary Clock Speed2 GHzSecondary Clock Speed1.8 GHz Frequency2G GSM: 850/900/1800/1900 MHz, 3G WCDMA: B1/B5/B8, 4G FDD LTE: B1/B3/B5/B8, 4G TD LTE: B38/B40/B41 (2535 MHz - 2655 MHz)\n",
      "\n",
      "Operating SystemAndroid 13Processor TypeMediatek Dimensity 1080 5GProcessor CoreOcta CorePrimary Clock Speed2.6 GHzSecondary Clock Speed2 GHzOperating Frequency2G GSM: 850/900/1800/1900 MHz, 3G WCDMA: B1/B2/B5/B6/B8/B19, 4G FDD-LTE: B1/B3/B5/B7/B8/B19/B28A, 4G TDD-LTE: B34/B38/B39/B40/B41 (2515 - 2675 MHz), 5G SA: n40/n41/n78/n1/n3/n5/n8/n28A, 5G NSA: n41/n77/n78 ::index-44\n",
      "-  SystemAndroid 13Processor TypeMediatek Dimensity 1080 5GProcessor CoreOcta CorePrimary Clock Speed2.6 GHzSecondary Clock Speed2 GHz Frequency2G GSM: 850/900/1800/1900 MHz, 3G WCDMA: B1/B2/B5/B6/B8/B19, 4G FDD-LTE: B1/B3/B5/B7/B8/B19/B28A, 4G TDD-LTE: B34/B38/B39/B40/B41 (2515 - 2675 MHz), 5G SA: n40/n41/n78/n1/n3/n5/n8/n28A, 5G NSA: n41/n77/n78\n",
      "\n",
      "None\n",
      "Operating SystemAndroid Oreo 8.1Processor TypeMT6762 Octa Core (Helio P22)Processor CoreOcta CorePrimary Clock Speed2 GHz ::index-144\n",
      "-  SystemAndroid Oreo 8.1Processor TypeMT6762 Octa Core (Helio P22)Processor CoreOcta CorePrimary Clock Speed2 GHz\n",
      "\n",
      "Operating SystemAndroid 12Processor TypeMediatek Helio P35Processor CoreOcta CorePrimary Clock Speed2.3 GHzOperating Frequency4G FDD LTE: B1/B3/B5/B8, 4G TDD LTE: B38/B40/B41, 3G: B1/B5/B8, 2G GSM: B3/B5/B8 ::index-114\n",
      "-  SystemAndroid 12Processor TypeMediatek Helio P35Processor CoreOcta CorePrimary Clock Speed2.3 GHz Frequency4G FDD LTE: B1/B3/B5/B8, 4G TDD LTE: B38/B40/B41, 3G: B1/B5/B8, 2G GSM: B3/B5/B8\n",
      "\n",
      "Operating SystemAndroid 10Processor TypeQualcomm Snapdragon 460Processor CoreOcta CorePrimary Clock Speed1.8 GHz ::index-307\n",
      "-  SystemAndroid 10Processor TypeQualcomm Snapdragon 460Processor CoreOcta CorePrimary Clock Speed1.8 GHz\n",
      "\n",
      "Operating SystemAndroid 11Processor TypeMediaTek Dimensity 1200Processor CoreOcta CorePrimary Clock Speed3 GHzSecondary Clock Speed2.6 GHzTertiary Clock Speed2 GHzOperating Frequency5G: n3/n5/n77/n78 ::index-238\n",
      "-  SystemAndroid 11Processor TypeMediaTek Dimensity 1200Processor CoreOcta CorePrimary Clock Speed3 GHzSecondary Clock Speed2.6 GHzTertiary Clock Speed2 GHz Frequency5G: n3/n5/n77/n78\n",
      "\n",
      "Operating SystemAndroid 12Processor TypeMediatek Dimensity 9000Processor CoreOcta CorePrimary Clock Speed3.05 GHzSecondary Clock Speed2.85 GHzTertiary Clock Speed1.8 GHzOperating Frequency3G WCDMA: B1/B2/B5/B8, 4G FDD LTE: B1/B2/B3/B4/B5/B7/B8/B20/B28, 4G TD LTE: B38/B39/B40/B41, 5G NSA: n1/n3/n5/n7/n28/n40/n41/n77/n78, 5G SA: n1/n3/n5/n7/n8/n28/n38/n40/n41/n77/n78 ::index-294\n",
      "-  SystemAndroid 12Processor TypeMediatek Dimensity 9000Processor CoreOcta CorePrimary Clock Speed3.05 GHzSecondary Clock Speed2.85 GHzTertiary Clock Speed1.8 GHz Frequency3G WCDMA: B1/B2/B5/B8, 4G FDD LTE: B1/B2/B3/B4/B5/B7/B8/B20/B28, 4G TD LTE: B38/B39/B40/B41, 5G NSA: n1/n3/n5/n7/n28/n40/n41/n77/n78, 5G SA: n1/n3/n5/n7/n8/n28/n38/n40/n41/n77/n78\n",
      "\n",
      "Operating SystemAndroid 13Processor TypeSnapdragon 695Processor CoreOcta CorePrimary Clock Speed2.2 GHzOperating Frequency3G WCDMA: B1/B5/B8, 4G FDD LTE: B1/B3/B5/B8, 4G TDD LTE: B38/B40/B41 (2535 MHz - 2655 MHz), 5G: n1/3/8/28A/n77 (3300 MHz - 3800 MHz)/n78 ::index-11\n",
      "-  SystemAndroid 13Processor TypeSnapdragon 695Processor CoreOcta CorePrimary Clock Speed2.2 GHz Frequency3G WCDMA: B1/B5/B8, 4G FDD LTE: B1/B3/B5/B8, 4G TDD LTE: B38/B40/B41 (2535 MHz - 2655 MHz), 5G: n1/3/8/28A/n77 (3300 MHz - 3800 MHz)/n78\n",
      "\n",
      "Operating SystemAndroid 10Processor TypeQualcomm Snapdragon 665Processor CoreOcta CorePrimary Clock Speed2 GHzOperating FrequencyGSM: B2, B3, B5, B8, WCDMA: B1, B5, B8, 4G LTE (FDD): B1, B3, B5, B8, LTE (TDD): B38, B40, B41 ::index-276\n",
      "-  SystemAndroid 10Processor TypeQualcomm Snapdragon 665Processor CoreOcta CorePrimary Clock Speed2 GHz FrequencyGSM: B2, B3, B5, B8, WCDMA: B1, B5, B8, 4G LTE (FDD): B1, B3, B5, B8, LTE (TDD): B38, B40, B41\n",
      "\n",
      "Operating SystemAndroid 12Processor TypeMediatek Dimensity 1300Processor CoreOcta CorePrimary Clock Speed3 GHzOperating Frequency3G WCDMA: B1/B2/B4/B5/B8, 4G FDD LTE: B1/B2/B3/B4/B5/B8/B18/B19/B26, 4G TDD LTE: B38/B39/B40/B41, 5G NSA: n1/n3/n5/n8/n40/n41/n77 (3300 - 3800 MHz)/n78, 5G SA: n1/n3/n5/n8/n40/n41/n77(3300 - 3800 MHz)/n78 ::index-136\n",
      "-  SystemAndroid 12Processor TypeMediatek Dimensity 1300Processor CoreOcta CorePrimary Clock Speed3 GHz Frequency3G WCDMA: B1/B2/B4/B5/B8, 4G FDD LTE: B1/B2/B3/B4/B5/B8/B18/B19/B26, 4G TDD LTE: B38/B39/B40/B41, 5G NSA: n1/n3/n5/n8/n40/n41/n77 (3300 - 3800 MHz)/n78, 5G SA: n1/n3/n5/n8/n40/n41/n77(3300 - 3800 MHz)/n78\n",
      "\n",
      "None\n",
      "Operating SystemAndroid 10Processor TypeQualcomm Snapdragon 720G Octa CoreProcessor CoreOcta CorePrimary Clock Speed2.3 GHzSecondary Clock Speed1.8 GHzOperating FrequencyGSM: 850/900/1800/1900, WCDMA: B1/B5/B8, 4G LTE FDD: B1/B3/B5/B8, 4G LTE TDD: B38/B40/B41 ::index-194\n",
      "-  SystemAndroid 10Processor TypeQualcomm Snapdragon 720G Octa CoreProcessor CoreOcta CorePrimary Clock Speed2.3 GHzSecondary Clock Speed1.8 GHz FrequencyGSM: 850/900/1800/1900, WCDMA: B1/B5/B8, 4G LTE FDD: B1/B3/B5/B8, 4G LTE TDD: B38/B40/B41\n",
      "\n",
      "Operating SystemAndroid 11Processor TypeMediatek Helio G35 (MT6765)Processor CoreOcta CorePrimary Clock Speed2.3 GHzSecondary Clock Speed1.8 GHzOperating Frequency2G GSM: 850 MHz/900 MHz/1800 MHz/1900 MHz, 3G UMTS(WCDMA):B1/B5/B8, 4G TD-LTE: B38/B40/B41(120MHz), 4G LTE FDD: B1/B3/B5/B7/B8/B20/B28 ::index-143\n",
      "-  SystemAndroid 11Processor TypeMediatek Helio G35 (MT6765)Processor CoreOcta CorePrimary Clock Speed2.3 GHzSecondary Clock Speed1.8 GHz Frequency2G GSM: 850 MHz/900 MHz/1800 MHz/1900 MHz, 3G UMTS(WCDMA):B1/B5/B8, 4G TD-LTE: B38/B40/B41(120MHz), 4G LTE FDD: B1/B3/B5/B7/B8/B20/B28\n",
      "\n",
      "Operating SystemAndroid Marshmallow 6Processor TypeMediatek MT6750T Octa Core 1.5GHzProcessor CoreOcta CorePrimary Clock Speed1.5 GHzOperating FrequencyGSM - 850 / 900 / 1800 / 1900 MHz; WCDMA - 850 / 900 / 2100 MHz; 4G LTE - Bands (1 / 3 / 5 / 7 / 8 / 38 / 39 / 40 / 41) ::index-215\n",
      "-  SystemAndroid Marshmallow 6Processor TypeMediatek MT6750T Octa Core 1.5GHzProcessor CoreOcta CorePrimary Clock Speed1.5 GHz FrequencyGSM - 850 / 900 / 1800 / 1900 MHz; WCDMA - 850 / 900 / 2100 MHz; 4G LTE - Bands (1 / 3 / 5 / 7 / 8 / 38 / 39 / 40 / 41)\n",
      "\n",
      "Operating SystemAndroid Q Android 12Processor TypeMediatek Helio G35Processor CoreOcta CorePrimary Clock Speed2.3 MHzSecondary Clock Speed2.3 GHzTertiary Clock Speed1.8 GHzOperating Frequency2G GSM: 850/900/1800/1900, 3G UMTS (WCDMA): B1/B5/B8, 4G TD LTE: B38/B40/B41, 4G LTE FDD: B1/B3/B5/B8 ::index-205\n",
      "-  SystemAndroid Q Android 12Processor TypeMediatek Helio G35Processor CoreOcta CorePrimary Clock Speed2.3 MHzSecondary Clock Speed2.3 GHzTertiary Clock Speed1.8 GHz Frequency2G GSM: 850/900/1800/1900, 3G UMTS (WCDMA): B1/B5/B8, 4G TD LTE: B38/B40/B41, 4G LTE FDD: B1/B3/B5/B8\n",
      "\n",
      "Operating SystemAndroid 10Processor TypeQualcomm Snapdragon 460Processor CoreOcta CorePrimary Clock Speed1.8 GHzSecondary Clock Speed1.6 GHzOperating FrequencyGSM: 850/900/1800/1900, WCDMA: B1/B5/B8, 4G FDD LTE: B1/B3/B5/B8, 4G TDD LTE: B38/B40/B41 (2535 - 2655 MHz) ::index-181\n",
      "-  SystemAndroid 10Processor TypeQualcomm Snapdragon 460Processor CoreOcta CorePrimary Clock Speed1.8 GHzSecondary Clock Speed1.6 GHz FrequencyGSM: 850/900/1800/1900, WCDMA: B1/B5/B8, 4G FDD LTE: B1/B3/B5/B8, 4G TDD LTE: B38/B40/B41 (2535 - 2655 MHz)\n",
      "\n",
      "Operating SystemAndroid ColorOS 13.1 on top of Android 13Processor TypeQualcomm Snapdragon™ 695 (SDM 695)Processor CoreOcta CorePrimary Clock Speed2.2 GHzSecondary Clock Speed2.2 GHzTertiary Clock Speed1.8 GHzOperating FrequencyGSM: 900/1800MHz WCDMA: Bands 1/8 LTE FDD: Bands 1/3/5/8/ LTE TDD: Bands 40/41 5G NR: n1/n3/n5/n8/n28A/n40/n41/n77/n78 ::index-53\n",
      "-  SystemAndroid ColorOS 13.1 on top of Android 13Processor TypeQualcomm Snapdragon™ 695 (SDM 695)Processor CoreOcta CorePrimary Clock Speed2.2 GHzSecondary Clock Speed2.2 GHzTertiary Clock Speed1.8 GHz FrequencyGSM: 900/1800MHz WCDMA: Bands 1/8 LTE FDD: Bands 1/3/5/8/ LTE TDD: Bands 40/41 5G NR: n1/n3/n5/n8/n28A/n40/n41/n77/n78\n",
      "\n",
      "Operating SystemAndroid Lollipop 5.1Processor TypeEOLProcessor CoreOcta CorePrimary Clock Speed1.5 GHzOperating FrequencyGSM: 850, 900, 1800, 1900; WCDMA: 850, 900, 2100; 4G LTE FDD - Bands (1, 3, 5), TDD LTE - Band 40 ::index-225\n",
      "-  SystemAndroid Lollipop 5.1Processor TypeEOLProcessor CoreOcta CorePrimary Clock Speed1.5 GHz FrequencyGSM: 850, 900, 1800, 1900; WCDMA: 850, 900, 2100; 4G LTE FDD - Bands (1, 3, 5), TDD LTE - Band 40\n",
      "\n",
      "Operating SystemAndroid Nougat 7.1Processor TypeMediatek MT6750 Octa Core 1.5 GHzProcessor CoreOcta CorePrimary Clock Speed1.5 GHzOperating FrequencyGSM: Band 2/3/5/8, WCDMA: Band 1/5/8, 4G FDD-LTE: Version 1 (Bands 1/3/5/8/38/40/41) ::index-236\n",
      "-  SystemAndroid Nougat 7.1Processor TypeMediatek MT6750 Octa Core 1.5 GHzProcessor CoreOcta CorePrimary Clock Speed1.5 GHz FrequencyGSM: Band 2/3/5/8, WCDMA: Band 1/5/8, 4G FDD-LTE: Version 1 (Bands 1/3/5/8/38/40/41)\n",
      "\n",
      "None\n",
      "Operating SystemAndroid 12Processor TypeMediatek Helio G37Processor CoreOcta CorePrimary Clock Speed2.3 GHzSecondary Clock Speed1.8 GHzOperating Frequency4G LTE: B1/B3/B5/B7/B8/B20/B38/B40/B41, 3G UMTS: B1/B2/B5/B8, 2G GSM: B2/B3/B5/B8 ::index-51\n",
      "-  SystemAndroid 12Processor TypeMediatek Helio G37Processor CoreOcta CorePrimary Clock Speed2.3 GHzSecondary Clock Speed1.8 GHz Frequency4G LTE: B1/B3/B5/B7/B8/B20/B38/B40/B41, 3G UMTS: B1/B2/B5/B8, 2G GSM: B2/B3/B5/B8\n",
      "\n",
      "Operating SystemAndroid 12Processor TypeMediatek Helio G99Processor CoreOcta CorePrimary Clock Speed2.2 GHzOperating Frequency4G LTE: B1/B2/B3/B5/B7/B8/B18/B19/B20/B26/B28/B38/B40/B41, 3G UMTS: B1/B2/B5/B6/B8/B19, 2G GSM: B2/B3/B5/B8 ::index-35\n",
      "-  SystemAndroid 12Processor TypeMediatek Helio G99Processor CoreOcta CorePrimary Clock Speed2.2 GHz Frequency4G LTE: B1/B2/B3/B5/B7/B8/B18/B19/B20/B26/B28/B38/B40/B41, 3G UMTS: B1/B2/B5/B6/B8/B19, 2G GSM: B2/B3/B5/B8\n",
      "\n",
      "Operating SystemAndroid 11Processor TypeQualcomm Snapdragon 870 5G (SM8250-AC)Processor CoreOcta CorePrimary Clock Speed3.2 GHzSecondary Clock Speed2.42 GHzTertiary Clock Speed1.8 GHzOperating Frequency2G GSM: Bands - 2/3/5/8, 3G UMTS: Bands - 1/2/4/5/8, 4G LTE: Bands - 1/2/3/4/5/7/8/12/18/19/20/26/28/38/39/40/41/42/43/66, 5G NR: Bands - 1/3/5/7/8/28/38/41/66/77/78 ::index-97\n",
      "-  SystemAndroid 11Processor TypeQualcomm Snapdragon 870 5G (SM8250-AC)Processor CoreOcta CorePrimary Clock Speed3.2 GHzSecondary Clock Speed2.42 GHzTertiary Clock Speed1.8 GHz Frequency2G GSM: Bands - 2/3/5/8, 3G UMTS: Bands - 1/2/4/5/8, 4G LTE: Bands - 1/2/3/4/5/7/8/12/18/19/20/26/28/38/39/40/41/42/43/66, 5G NR: Bands - 1/3/5/7/8/28/38/41/66/77/78\n",
      "\n",
      "Operating SystemAndroid 11Processor TypeQualcomm Snapdragon 732GProcessor CoreOcta CorePrimary Clock Speed2.3 GHzSecondary Clock Speed1.8 GHzOperating Frequency2G GSM: B2/B3/B5/B8, 3G WCDMA: B1/B2/B4/B5/B8/B19, 4G LTE: B1/B2/B3/B4/B5/B7/B8/B18/B19/B20/B26/B28/B38/B40/B41 ::index-107\n",
      "-  SystemAndroid 11Processor TypeQualcomm Snapdragon 732GProcessor CoreOcta CorePrimary Clock Speed2.3 GHzSecondary Clock Speed1.8 GHz Frequency2G GSM: B2/B3/B5/B8, 3G WCDMA: B1/B2/B4/B5/B8/B19, 4G LTE: B1/B2/B3/B4/B5/B7/B8/B18/B19/B20/B26/B28/B38/B40/B41\n",
      "\n",
      "Operating SystemAndroid 12Processor TypeQualcomm Snapdragon 778G PlusProcessor CoreOcta CorePrimary Clock Speed2.5 GHzSecondary Clock Speed2.2 GHzTertiary Clock Speed1.9 GHzOperating Frequency2G GSM: B2/B3/B5/B8, 3G UMTS: B1/B2/B4/B5/B8, 4G LTE: B1/B2/B3/B4/B5/B7/B8/B12/B13/B17/B20/B26/B28/B32/B38, 5G (sub6): n1/n2/n3/n5/n7/n8/n20/n28/n38/n40/n41/n66/n78 ::index-31\n",
      "-  SystemAndroid 12Processor TypeQualcomm Snapdragon 778G PlusProcessor CoreOcta CorePrimary Clock Speed2.5 GHzSecondary Clock Speed2.2 GHzTertiary Clock Speed1.9 GHz Frequency2G GSM: B2/B3/B5/B8, 3G UMTS: B1/B2/B4/B5/B8, 4G LTE: B1/B2/B3/B4/B5/B7/B8/B12/B13/B17/B20/B26/B28/B32/B38, 5G (sub6): n1/n2/n3/n5/n7/n8/n20/n28/n38/n40/n41/n66/n78\n",
      "\n",
      "Operating Frequency2G GSM: 900/1800 MHz ::index-28\n",
      "-  Frequency2G GSM: 900/1800 MHz\n",
      "\n",
      "Operating SystemAndroid 12Processor TypeQualcomm Snapdragon 680Processor CoreOcta CorePrimary Clock Speed2.4 GHzSecondary Clock Speed1.9 GHzOperating Frequency4G LTE: B1/B2/B3/B5/B7/B8/B18/B19/B20/B26/B28/B38/B40/B41, 3G UMTS: B1/B2/B5/B6/B8/B19, 2G GSM: B2/B3/B5/B8 ::index-95\n",
      "-  SystemAndroid 12Processor TypeQualcomm Snapdragon 680Processor CoreOcta CorePrimary Clock Speed2.4 GHzSecondary Clock Speed1.9 GHz Frequency4G LTE: B1/B2/B3/B5/B7/B8/B18/B19/B20/B26/B28/B38/B40/B41, 3G UMTS: B1/B2/B5/B6/B8/B19, 2G GSM: B2/B3/B5/B8\n",
      "\n",
      "Operating SystemAndroid 11Processor TypeQualcomm Snapdragon 778GProcessor CoreOcta CorePrimary Clock Speed2.4 GHzSecondary Clock Speed2.2 GHzTertiary Clock Speed1.9 GHzOperating Frequency2G GSM: Band 2/3/5/8, 3G: Band 1/2/4/5/8, 4G LTE: Band 1/2/3/4/5/7/8/12/18/19/20/26/28/38/39/40/41/42/43/66, 5G NR: 1/3/5/7/8/28/38/41/66/77/78 ::index-90\n",
      "-  SystemAndroid 11Processor TypeQualcomm Snapdragon 778GProcessor CoreOcta CorePrimary Clock Speed2.4 GHzSecondary Clock Speed2.2 GHzTertiary Clock Speed1.9 GHz Frequency2G GSM: Band 2/3/5/8, 3G: Band 1/2/4/5/8, 4G LTE: Band 1/2/3/4/5/7/8/12/18/19/20/26/28/38/39/40/41/42/43/66, 5G NR: 1/3/5/7/8/28/38/41/66/77/78\n",
      "\n",
      "None\n",
      "Operating SystemAndroid 13Processor TypeGoogle Tensor G2Operating Frequency2G GSM/EDGE: Quad Band (850/900/1800/1900 MHz), 3G UMTS/HSPA+/HSDPA: B1/B2/B4/B5/B6/B8/B19, 4G LTE: B1/B2/B3/B4/B5/B7/B8/B12/B13/B14/B17/B18/B19/B20/B25/B26/B28/B29/B30/B32/B38/B39/B40/B41/B42/B46/B48/B66/B71, 5G sub-62: n1/n2/n3/n5/n7/n8/n12/n14/n20/n25/n28/n30/n38/n40/n41/n48/n66/n71/n75/n76/n77/n78, eSIM ::index-6\n",
      "-  SystemAndroid 13Processor TypeGoogle Tensor G2 Frequency2G GSM/EDGE: Quad Band (850/900/1800/1900 MHz), 3G UMTS/HSPA+/HSDPA: B1/B2/B4/B5/B6/B8/B19, 4G LTE: B1/B2/B3/B4/B5/B7/B8/B12/B13/B14/B17/B18/B19/B20/B25/B26/B28/B29/B30/B32/B38/B39/B40/B41/B42/B46/B48/B66/B71, 5G sub-62: n1/n2/n3/n5/n7/n8/n12/n14/n20/n25/n28/n30/n38/n40/n41/n48/n66/n71/n75/n76/n77/n78, eSIM\n",
      "\n",
      "Operating SystemAndroid 13Processor TypeGoogle Tensor G2Operating Frequency2G GSM/EDGE: Quad Band (850/900/1800/1900 MHz), 3G UMTS/HSPA+/HSDPA: B1/B2/B4/B5/B6/B8/B19, 4G LTE: B1/B2/B3/B4/B5/B7/B8/B12/B13/B14/B17/B18/B19/B20/B25/B26/B28/B29/B30/B32/B38/B39/B40/B41/B46/B48/B66/B71, 5G sub-62: n1/n2/n3/n5/n7/n8/n12/n14/n20/n25/n28/n30/n38/n40/n41/n48/n66/n71/n75/n76/n77/n78 ::index-9\n",
      "-  SystemAndroid 13Processor TypeGoogle Tensor G2 Frequency2G GSM/EDGE: Quad Band (850/900/1800/1900 MHz), 3G UMTS/HSPA+/HSDPA: B1/B2/B4/B5/B6/B8/B19, 4G LTE: B1/B2/B3/B4/B5/B7/B8/B12/B13/B14/B17/B18/B19/B20/B25/B26/B28/B29/B30/B32/B38/B39/B40/B41/B46/B48/B66/B71, 5G sub-62: n1/n2/n3/n5/n7/n8/n12/n14/n20/n25/n28/n30/n38/n40/n41/n48/n66/n71/n75/n76/n77/n78\n",
      "\n",
      "Operating SystemAndroid Q 4.1Primary Clock Speed512 MHz ::index-16\n",
      "-  SystemAndroid Q 4.1Primary Clock Speed512 MHz\n",
      "\n",
      "Operating SystemAndroid Q 4.1Primary Clock Speed512 MHz ::index-16\n",
      "-  SystemAndroid Q 4.1Primary Clock Speed512 MHz\n",
      "\n",
      "Operating SystemAndroid Pie 9Processor TypeQualcomm SDM670 Snapdragon 670 (10 nm)Processor CoreQuad CorePrimary Clock Speed2 MHzSecondary Clock Speed1.7 GHzOperating FrequencyGSM / CDMA / HSPA / EVDO / LTE ::index-11\n",
      "-  SystemAndroid Pie 9Processor TypeQualcomm SDM670 Snapdragon 670 (10 nm)Processor CoreQuad CorePrimary Clock Speed2 MHzSecondary Clock Speed1.7 GHz FrequencyGSM / CDMA / HSPA / EVDO / LTE\n",
      "\n",
      "Operating SystemAndroid Q 11Processor TypeMediatek P70 Helios Octa CoreProcessor CoreOcta CorePrimary Clock Speed2 GHzSecondary Clock Speed2 GHzTertiary Clock Speed2 GHzOperating Frequency2.0 ::index-14\n",
      "-  SystemAndroid Q 11Processor TypeMediatek P70 Helios Octa CoreProcessor CoreOcta CorePrimary Clock Speed2 GHzSecondary Clock Speed2 GHzTertiary Clock Speed2 GHz Frequency2.0\n",
      "\n",
      "Operating SystemAndroid Q 11Processor TypeMediatek P70 Helios Octa CoreProcessor CoreOcta CorePrimary Clock Speed2 GHzSecondary Clock Speed2 GHzTertiary Clock Speed2 GHzOperating Frequency2.0 ::index-15\n",
      "-  SystemAndroid Q 11Processor TypeMediatek P70 Helios Octa CoreProcessor CoreOcta CorePrimary Clock Speed2 GHzSecondary Clock Speed2 GHzTertiary Clock Speed2 GHz Frequency2.0\n",
      "\n",
      "Operating SystemAndroid Q 11Processor TypeMediatek P70 Helios Octa CoreProcessor CoreOcta CorePrimary Clock Speed2 GHzSecondary Clock Speed2 GHzTertiary Clock Speed2 GHzOperating Frequency2.0 ::index-15\n",
      "-  SystemAndroid Q 11Processor TypeMediatek P70 Helios Octa CoreProcessor CoreOcta CorePrimary Clock Speed2 GHzSecondary Clock Speed2 GHzTertiary Clock Speed2 GHz Frequency2.0\n",
      "\n",
      "None\n",
      "Operating SystemAndroid 10 (Go Edition)Processor TypeMediaTek Helio A20 Quad CoreProcessor CoreQuad CorePrimary Clock Speed1.8 GHzOperating FrequencyGSM: B2, B3, B5, B8, WCDMA: B1, B5, B8, 4G LTE: B1, B3, B5, B7, B8, B20, B38, B40, B41 ::index-141\n",
      "-  SystemAndroid 10 (Go Edition)Processor TypeMediaTek Helio A20 Quad CoreProcessor CoreQuad CorePrimary Clock Speed1.8 GHz FrequencyGSM: B2, B3, B5, B8, WCDMA: B1, B5, B8, 4G LTE: B1, B3, B5, B7, B8, B20, B38, B40, B41\n",
      "\n",
      "Operating SystemAndroid 10Processor TypeHelio P22 MT6762Processor CoreOcta CorePrimary Clock Speed2 GHzOperating FrequencyGSM: B2/B3/B5/B8, WCDMA: B1/B5/B8, LTE: B1/B3/B5/B8/B38/B40/B41 ::index-146\n",
      "-  SystemAndroid 10Processor TypeHelio P22 MT6762Processor CoreOcta CorePrimary Clock Speed2 GHz FrequencyGSM: B2/B3/B5/B8, WCDMA: B1/B5/B8, LTE: B1/B3/B5/B8/B38/B40/B41\n",
      "\n",
      "Operating SystemAndroid Q Android 11 (Go Edition)Processor TypeHelio A20Primary Clock Speed1.8 GHz ::index-116\n",
      "-  SystemAndroid Q Android 11 (Go Edition)Processor TypeHelio A20Primary Clock Speed1.8 GHz\n",
      "\n",
      "Operating SystemAndroid 13Primary Clock Speed2.2 GHz ::index-42\n",
      "-  SystemAndroid 13Primary Clock Speed2.2 GHz\n",
      "\n",
      "Operating SystemAndroid 11 (Go edition)Processor TypeMediaTek Helio A25Processor CoreOcta CorePrimary Clock Speed1.8 GHzSecondary Clock Speed1.5 GHz ::index-47\n",
      "-  SystemAndroid 11 (Go edition)Processor TypeMediaTek Helio A25Processor CoreOcta CorePrimary Clock Speed1.8 GHzSecondary Clock Speed1.5 GHz\n",
      "\n",
      "Operating SystemAndroid 13Primary Clock Speed2.2 GHz ::index-43\n",
      "-  SystemAndroid 13Primary Clock Speed2.2 GHz\n",
      "\n",
      "Operating SystemAndroid Android13Processor CoreOcta CorePrimary Clock Speed2 GHz ::index-65\n",
      "-  SystemAndroid Android13Processor CoreOcta CorePrimary Clock Speed2 GHz\n",
      "\n",
      "Operating SystemAndroid 11 (Go edition)Processor TypeMediaTek Helio A25Processor CoreOcta CorePrimary Clock Speed1.8 GHzSecondary Clock Speed1.5 GHz ::index-47\n",
      "-  SystemAndroid 11 (Go edition)Processor TypeMediaTek Helio A25Processor CoreOcta CorePrimary Clock Speed1.8 GHzSecondary Clock Speed1.5 GHz\n",
      "\n",
      "None\n",
      "Operating SystemAndroid 11Processor TypeMediatek Helio G88Processor CoreOcta CorePrimary Clock Speed2 GHzOperating Frequency2G GSM: B2/B3/B5/B8, 3G WCDMA: B1/B5/B8, 4G LTE: B1/B3/B5/B8/B38/B40/B41 ::index-74\n",
      "-  SystemAndroid 11Processor TypeMediatek Helio G88Processor CoreOcta CorePrimary Clock Speed2 GHz Frequency2G GSM: B2/B3/B5/B8, 3G WCDMA: B1/B5/B8, 4G LTE: B1/B3/B5/B8/B38/B40/B41\n",
      "\n",
      "Operating SystemAndroid 12Processor TypeDimensity 810Processor CoreOcta CorePrimary Clock Speed2.4 GHzOperating Frequency2G GSM: B2/B3/B5/B8, 3G WCDMA: B1/B5/B8, 4G LTE: B1/B3/B5/B7/B8/B20/B28/B38/B40/B41, 5G: n1/n3/n5/n7/n8/n20/n28/38/n40/n41/n77/n78 ::index-21\n",
      "-  SystemAndroid 12Processor TypeDimensity 810Processor CoreOcta CorePrimary Clock Speed2.4 GHz Frequency2G GSM: B2/B3/B5/B8, 3G WCDMA: B1/B5/B8, 4G LTE: B1/B3/B5/B7/B8/B20/B28/B38/B40/B41, 5G: n1/n3/n5/n7/n8/n20/n28/38/n40/n41/n77/n78\n",
      "\n",
      "Operating SystemAndroid 11Processor TypeMediaTek Helio G85Processor CoreOcta CorePrimary Clock Speed2 GHzOperating Frequency2G GSM: B2/B3/B5/B8, 3G WCDMA: B1/B5/B8, 4G LTE: B1/B3/B5/B8/B38/B40/B41 ::index-152\n",
      "-  SystemAndroid 11Processor TypeMediaTek Helio G85Processor CoreOcta CorePrimary Clock Speed2 GHz Frequency2G GSM: B2/B3/B5/B8, 3G WCDMA: B1/B5/B8, 4G LTE: B1/B3/B5/B8/B38/B40/B41\n",
      "\n",
      "Operating SystemAndroid 12Processor TypeMediaTek G37Processor CoreOcta CorePrimary Clock Speed2.3 GHzOperating Frequency2G GSM: B2/B3/B5/B8, 3G WCDMA: B1/B5/B8, 4G LTE: B1/B3/B5/B8/B38/B40/B41 ::index-12\n",
      "-  SystemAndroid 12Processor TypeMediaTek G37Processor CoreOcta CorePrimary Clock Speed2.3 GHz Frequency2G GSM: B2/B3/B5/B8, 3G WCDMA: B1/B5/B8, 4G LTE: B1/B3/B5/B8/B38/B40/B41\n",
      "\n",
      "Operating SystemAndroid 11Processor TypeMediatek Helio A22Processor CoreQuad CorePrimary Clock Speed2 GHzOperating Frequency2G GSM: B2/B3/B5/B8, 3G WCDMA: B1/B5/B8, 4G LTE: B1/B3/B5/B8/B38/B40/B41 ::index-27\n",
      "-  SystemAndroid 11Processor TypeMediatek Helio A22Processor CoreQuad CorePrimary Clock Speed2 GHz Frequency2G GSM: B2/B3/B5/B8, 3G WCDMA: B1/B5/B8, 4G LTE: B1/B3/B5/B8/B38/B40/B41\n",
      "\n",
      "Operating SystemAndroid Oreo 8.1Processor TypeMediatek Helio P23 Octa-coreProcessor CoreOcta CorePrimary Clock Speed2 GHzOperating FrequencyGSM: B2/3/5/8, WCDMA: B1/5/8, 4G LTE: B1/3/5/8/B38/B40/B41 ::index-189\n",
      "-  SystemAndroid Oreo 8.1Processor TypeMediatek Helio P23 Octa-coreProcessor CoreOcta CorePrimary Clock Speed2 GHz FrequencyGSM: B2/3/5/8, WCDMA: B1/5/8, 4G LTE: B1/3/5/8/B38/B40/B41\n",
      "\n",
      "Operating SystemAndroid 10 (Go Edition)Processor TypeMediaTek Helio A22Processor CoreQuad CorePrimary Clock Speed2 GHzOperating FrequencyGSM: B2/B3/B5/B8, WCDMA: B1/B5/B8, 4G LTE: B1/B3/B5/B8/B38/B40/B41 ::index-180\n",
      "-  SystemAndroid 10 (Go Edition)Processor TypeMediaTek Helio A22Processor CoreQuad CorePrimary Clock Speed2 GHz FrequencyGSM: B2/B3/B5/B8, WCDMA: B1/B5/B8, 4G LTE: B1/B3/B5/B8/B38/B40/B41\n",
      "\n",
      "Operating SystemAndroid 10Processor TypeMediaTek Helio G25Processor CoreOcta CorePrimary Clock Speed2 GHzOperating Frequency2G GSM: B2/B3/B5/B8, 3G WCDMA: B1/B5/B8, 4G LTE: B1/B3/B5/B8/B38/B40/B41 ::index-168\n",
      "-  SystemAndroid 10Processor TypeMediaTek Helio G25Processor CoreOcta CorePrimary Clock Speed2 GHz Frequency2G GSM: B2/B3/B5/B8, 3G WCDMA: B1/B5/B8, 4G LTE: B1/B3/B5/B8/B38/B40/B41\n",
      "\n",
      "None\n"
     ]
    }
   ],
   "source": [
    "for i in dataframes_list:\n",
    "    print(test_func(func=remove_operating,col_name='os_processor',df=i))\n"
   ]
  }
 ],
 "metadata": {
  "kernelspec": {
   "display_name": "Python 3",
   "language": "python",
   "name": "python3"
  },
  "language_info": {
   "codemirror_mode": {
    "name": "ipython",
    "version": 3
   },
   "file_extension": ".py",
   "mimetype": "text/x-python",
   "name": "python",
   "nbconvert_exporter": "python",
   "pygments_lexer": "ipython3",
   "version": "3.11.3"
  },
  "orig_nbformat": 4
 },
 "nbformat": 4,
 "nbformat_minor": 2
}
