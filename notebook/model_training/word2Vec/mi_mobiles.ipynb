{
 "cells": [
  {
   "cell_type": "code",
   "execution_count": 20,
   "metadata": {},
   "outputs": [],
   "source": [
    "import pandas as pd\n",
    "import os\n",
    "import numpy as np\n",
    "from ensure import ensure_annotations\n",
    "import re\n",
    "import warnings\n",
    "warnings.filterwarnings('ignore')"
   ]
  },
  {
   "cell_type": "code",
   "execution_count": 21,
   "metadata": {},
   "outputs": [
    {
     "name": "stdout",
     "output_type": "stream",
     "text": [
      "d:\\vscode_machineLearning\\BEST_PROJECTS\\mobileRecommenderSystem\n",
      "None\n",
      "d:\\vscode_machineLearning\\BEST_PROJECTS\\mobileRecommenderSystem\n"
     ]
    }
   ],
   "source": [
    "print(os.getcwd())\n",
    "print(os.chdir(r'd:\\vscode_machineLearning\\BEST_PROJECTS\\mobileRecommenderSystem'))\n",
    "print(os.getcwd())"
   ]
  },
  {
   "cell_type": "code",
   "execution_count": 22,
   "metadata": {},
   "outputs": [],
   "source": [
    "df = pd.read_csv('data\\data_to_merge\\mi_data.csv',index_col=None)"
   ]
  },
  {
   "cell_type": "code",
   "execution_count": 23,
   "metadata": {},
   "outputs": [],
   "source": [
    "df.drop_duplicates(inplace=True,ignore_index=True)"
   ]
  },
  {
   "cell_type": "code",
   "execution_count": 24,
   "metadata": {},
   "outputs": [
    {
     "data": {
      "text/plain": [
       "Index(['model_names', 'ratings', 'price', 'imgURL', 'storage_ram',\n",
       "       'os_processor', 'network', 'battery'],\n",
       "      dtype='object')"
      ]
     },
     "execution_count": 24,
     "metadata": {},
     "output_type": "execute_result"
    }
   ],
   "source": [
    "df.columns"
   ]
  },
  {
   "cell_type": "code",
   "execution_count": 25,
   "metadata": {},
   "outputs": [
    {
     "data": {
      "text/html": [
       "<div>\n",
       "<style scoped>\n",
       "    .dataframe tbody tr th:only-of-type {\n",
       "        vertical-align: middle;\n",
       "    }\n",
       "\n",
       "    .dataframe tbody tr th {\n",
       "        vertical-align: top;\n",
       "    }\n",
       "\n",
       "    .dataframe thead th {\n",
       "        text-align: right;\n",
       "    }\n",
       "</style>\n",
       "<table border=\"1\" class=\"dataframe\">\n",
       "  <thead>\n",
       "    <tr style=\"text-align: right;\">\n",
       "      <th></th>\n",
       "      <th>model_names</th>\n",
       "      <th>ratings</th>\n",
       "      <th>price</th>\n",
       "      <th>imgURL</th>\n",
       "      <th>storage_ram</th>\n",
       "      <th>os_processor</th>\n",
       "      <th>network</th>\n",
       "      <th>battery</th>\n",
       "    </tr>\n",
       "  </thead>\n",
       "  <tbody>\n",
       "    <tr>\n",
       "      <th>0</th>\n",
       "      <td>REDMI 10 Power (Sporty Orange, 128 GB)</td>\n",
       "      <td>4.2</td>\n",
       "      <td>₹13,500</td>\n",
       "      <td>https://rukminim2.flixcart.com/image/312/312/x...</td>\n",
       "      <td>Internal Storage128 GBRAM8 GBMemory Card Slot ...</td>\n",
       "      <td>Operating SystemAndroid 13Processor CoreOcta C...</td>\n",
       "      <td>Network Type4G VOLTESupported Networks4G LTE</td>\n",
       "      <td>Battery Capacity6000 mAh</td>\n",
       "    </tr>\n",
       "    <tr>\n",
       "      <th>1</th>\n",
       "      <td>REDMI 10 Power (Power Black, 128 GB)</td>\n",
       "      <td>4.2</td>\n",
       "      <td>₹12,840</td>\n",
       "      <td>https://rukminim2.flixcart.com/image/312/312/x...</td>\n",
       "      <td>Internal Storage128 GBRAM8 GBMemory Card Slot ...</td>\n",
       "      <td>Operating SystemAndroid 13Processor CoreOcta C...</td>\n",
       "      <td>Network Type4G VOLTESupported Networks4G VoLTE</td>\n",
       "      <td>Battery Capacity6000 mAh</td>\n",
       "    </tr>\n",
       "    <tr>\n",
       "      <th>2</th>\n",
       "      <td>Redmi 9A Sport (Metallic Blue, 32 GB)</td>\n",
       "      <td>4.1</td>\n",
       "      <td>₹7,520</td>\n",
       "      <td>https://rukminim2.flixcart.com/image/312/312/x...</td>\n",
       "      <td>Internal Storage32 GBRAM2 GBMemory Card Slot T...</td>\n",
       "      <td>Operating SystemAndroid Q 10Processor CoreOcta...</td>\n",
       "      <td>Network Type4G VOLTE, 4GSupported Networks4G LTE</td>\n",
       "      <td>Battery Capacity5000 mAh</td>\n",
       "    </tr>\n",
       "    <tr>\n",
       "      <th>3</th>\n",
       "      <td>Redmi 9A Sport (Coral Green, 32 GB)</td>\n",
       "      <td>4.2</td>\n",
       "      <td>₹8,450</td>\n",
       "      <td>https://rukminim2.flixcart.com/image/312/312/x...</td>\n",
       "      <td>Internal Storage32 GBRAM3 GBMemory Card Slot T...</td>\n",
       "      <td>Operating SystemAndroid Q 10Processor CoreOcta...</td>\n",
       "      <td>Network Type4G VOLTE, 4GSupported Networks4G V...</td>\n",
       "      <td>Battery Capacity5000 mAh</td>\n",
       "    </tr>\n",
       "    <tr>\n",
       "      <th>4</th>\n",
       "      <td>Xiaomi 11Lite NE (Vinyl Black, 128 GB)</td>\n",
       "      <td>4.2</td>\n",
       "      <td>₹21,644</td>\n",
       "      <td>https://rukminim2.flixcart.com/image/312/312/x...</td>\n",
       "      <td>Internal Storage128 GBRAM6 GBExpandable Storag...</td>\n",
       "      <td>Operating SystemAndroid 11Processor TypeQualco...</td>\n",
       "      <td>Network Type5G, 4G VOLTESupported Networks5G, ...</td>\n",
       "      <td>Battery Capacity4250 mAhBattery TypeLi-Po</td>\n",
       "    </tr>\n",
       "    <tr>\n",
       "      <th>...</th>\n",
       "      <td>...</td>\n",
       "      <td>...</td>\n",
       "      <td>...</td>\n",
       "      <td>...</td>\n",
       "      <td>...</td>\n",
       "      <td>...</td>\n",
       "      <td>...</td>\n",
       "      <td>...</td>\n",
       "    </tr>\n",
       "    <tr>\n",
       "      <th>496</th>\n",
       "      <td>Xiaomi 11i 5G (Camo Green, 128 GB)</td>\n",
       "      <td>4.5</td>\n",
       "      <td>₹26,999</td>\n",
       "      <td>https://rukminim2.flixcart.com/image/312/312/k...</td>\n",
       "      <td>Internal Storage32 GBRAM3 GBExpandable Storage...</td>\n",
       "      <td>Operating SystemAndroid Lollipop 5.1Processor ...</td>\n",
       "      <td>Network Type3G, 4GSupported NetworksGSM, 4G LT...</td>\n",
       "      <td>Battery Capacity4050 mAhBattery TypeLi-Polymer</td>\n",
       "    </tr>\n",
       "    <tr>\n",
       "      <th>497</th>\n",
       "      <td>Redmi Note 3 (Gold, 32 GB)</td>\n",
       "      <td>4.1</td>\n",
       "      <td>₹8,999</td>\n",
       "      <td>https://rukminim2.flixcart.com/image/312/312/m...</td>\n",
       "      <td>Internal Storage32 GBRAM3 GBMemory Card Slot T...</td>\n",
       "      <td>Operating SystemAndroid Pie 9Processor CoreOct...</td>\n",
       "      <td>Network Type4G VOLTESupported Networks4G LTEBl...</td>\n",
       "      <td>Battery Capacity4000 mAhBattery Typelithium-ion</td>\n",
       "    </tr>\n",
       "    <tr>\n",
       "      <th>498</th>\n",
       "      <td>Redmi Note 8 (Moonlight White, 32 GB)</td>\n",
       "      <td>4.3</td>\n",
       "      <td>₹11,990</td>\n",
       "      <td>https://rukminim2.flixcart.com/image/312/312/k...</td>\n",
       "      <td>Internal Storage128 GBRAM6 GB</td>\n",
       "      <td>Operating SystemAndroid Nougat 11Processor Cor...</td>\n",
       "      <td>Network Type4G VOLTE, 5GSupported Networks4G V...</td>\n",
       "      <td>Battery Capacity4520 mAh</td>\n",
       "    </tr>\n",
       "    <tr>\n",
       "      <th>499</th>\n",
       "      <td>MI 11X 5G (CELESTIAL SILVER, 128 GB)</td>\n",
       "      <td>4.3</td>\n",
       "      <td>₹24,999</td>\n",
       "      <td>https://rukminim2.flixcart.com/image/312/312/k...</td>\n",
       "      <td>Internal Storage64 GBRAM4 GBExpandable Storage...</td>\n",
       "      <td>Operating SystemAndroid Nougat 7.1.2Processor ...</td>\n",
       "      <td>Network Type3G, 4G VOLTE, 4GSupported Networks...</td>\n",
       "      <td>Battery Capacity4000 mAh</td>\n",
       "    </tr>\n",
       "    <tr>\n",
       "      <th>500</th>\n",
       "      <td>Redmi Note 5 Pro (Red, 64 GB)</td>\n",
       "      <td>4.1</td>\n",
       "      <td>₹12,500</td>\n",
       "      <td>https://rukminim2.flixcart.com/image/312/312/j...</td>\n",
       "      <td>Internal Storage64 GBRAM4 GBExpandable Storage...</td>\n",
       "      <td>Operating SystemAndroid Nougat 7.1.2Processor ...</td>\n",
       "      <td>Network Type3G, 4G, 2GSupported NetworksGSM, W...</td>\n",
       "      <td>Battery Capacity3080 mAh</td>\n",
       "    </tr>\n",
       "  </tbody>\n",
       "</table>\n",
       "<p>501 rows × 8 columns</p>\n",
       "</div>"
      ],
      "text/plain": [
       "                                model_names  ratings    price   \n",
       "0    REDMI 10 Power (Sporty Orange, 128 GB)      4.2  ₹13,500  \\\n",
       "1      REDMI 10 Power (Power Black, 128 GB)      4.2  ₹12,840   \n",
       "2     Redmi 9A Sport (Metallic Blue, 32 GB)      4.1   ₹7,520   \n",
       "3       Redmi 9A Sport (Coral Green, 32 GB)      4.2   ₹8,450   \n",
       "4    Xiaomi 11Lite NE (Vinyl Black, 128 GB)      4.2  ₹21,644   \n",
       "..                                      ...      ...      ...   \n",
       "496      Xiaomi 11i 5G (Camo Green, 128 GB)      4.5  ₹26,999   \n",
       "497              Redmi Note 3 (Gold, 32 GB)      4.1   ₹8,999   \n",
       "498   Redmi Note 8 (Moonlight White, 32 GB)      4.3  ₹11,990   \n",
       "499    MI 11X 5G (CELESTIAL SILVER, 128 GB)      4.3  ₹24,999   \n",
       "500           Redmi Note 5 Pro (Red, 64 GB)      4.1  ₹12,500   \n",
       "\n",
       "                                                imgURL   \n",
       "0    https://rukminim2.flixcart.com/image/312/312/x...  \\\n",
       "1    https://rukminim2.flixcart.com/image/312/312/x...   \n",
       "2    https://rukminim2.flixcart.com/image/312/312/x...   \n",
       "3    https://rukminim2.flixcart.com/image/312/312/x...   \n",
       "4    https://rukminim2.flixcart.com/image/312/312/x...   \n",
       "..                                                 ...   \n",
       "496  https://rukminim2.flixcart.com/image/312/312/k...   \n",
       "497  https://rukminim2.flixcart.com/image/312/312/m...   \n",
       "498  https://rukminim2.flixcart.com/image/312/312/k...   \n",
       "499  https://rukminim2.flixcart.com/image/312/312/k...   \n",
       "500  https://rukminim2.flixcart.com/image/312/312/j...   \n",
       "\n",
       "                                           storage_ram   \n",
       "0    Internal Storage128 GBRAM8 GBMemory Card Slot ...  \\\n",
       "1    Internal Storage128 GBRAM8 GBMemory Card Slot ...   \n",
       "2    Internal Storage32 GBRAM2 GBMemory Card Slot T...   \n",
       "3    Internal Storage32 GBRAM3 GBMemory Card Slot T...   \n",
       "4    Internal Storage128 GBRAM6 GBExpandable Storag...   \n",
       "..                                                 ...   \n",
       "496  Internal Storage32 GBRAM3 GBExpandable Storage...   \n",
       "497  Internal Storage32 GBRAM3 GBMemory Card Slot T...   \n",
       "498                      Internal Storage128 GBRAM6 GB   \n",
       "499  Internal Storage64 GBRAM4 GBExpandable Storage...   \n",
       "500  Internal Storage64 GBRAM4 GBExpandable Storage...   \n",
       "\n",
       "                                          os_processor   \n",
       "0    Operating SystemAndroid 13Processor CoreOcta C...  \\\n",
       "1    Operating SystemAndroid 13Processor CoreOcta C...   \n",
       "2    Operating SystemAndroid Q 10Processor CoreOcta...   \n",
       "3    Operating SystemAndroid Q 10Processor CoreOcta...   \n",
       "4    Operating SystemAndroid 11Processor TypeQualco...   \n",
       "..                                                 ...   \n",
       "496  Operating SystemAndroid Lollipop 5.1Processor ...   \n",
       "497  Operating SystemAndroid Pie 9Processor CoreOct...   \n",
       "498  Operating SystemAndroid Nougat 11Processor Cor...   \n",
       "499  Operating SystemAndroid Nougat 7.1.2Processor ...   \n",
       "500  Operating SystemAndroid Nougat 7.1.2Processor ...   \n",
       "\n",
       "                                               network   \n",
       "0         Network Type4G VOLTESupported Networks4G LTE  \\\n",
       "1       Network Type4G VOLTESupported Networks4G VoLTE   \n",
       "2     Network Type4G VOLTE, 4GSupported Networks4G LTE   \n",
       "3    Network Type4G VOLTE, 4GSupported Networks4G V...   \n",
       "4    Network Type5G, 4G VOLTESupported Networks5G, ...   \n",
       "..                                                 ...   \n",
       "496  Network Type3G, 4GSupported NetworksGSM, 4G LT...   \n",
       "497  Network Type4G VOLTESupported Networks4G LTEBl...   \n",
       "498  Network Type4G VOLTE, 5GSupported Networks4G V...   \n",
       "499  Network Type3G, 4G VOLTE, 4GSupported Networks...   \n",
       "500  Network Type3G, 4G, 2GSupported NetworksGSM, W...   \n",
       "\n",
       "                                             battery  \n",
       "0                           Battery Capacity6000 mAh  \n",
       "1                           Battery Capacity6000 mAh  \n",
       "2                           Battery Capacity5000 mAh  \n",
       "3                           Battery Capacity5000 mAh  \n",
       "4          Battery Capacity4250 mAhBattery TypeLi-Po  \n",
       "..                                               ...  \n",
       "496   Battery Capacity4050 mAhBattery TypeLi-Polymer  \n",
       "497  Battery Capacity4000 mAhBattery Typelithium-ion  \n",
       "498                         Battery Capacity4520 mAh  \n",
       "499                         Battery Capacity4000 mAh  \n",
       "500                         Battery Capacity3080 mAh  \n",
       "\n",
       "[501 rows x 8 columns]"
      ]
     },
     "execution_count": 25,
     "metadata": {},
     "output_type": "execute_result"
    }
   ],
   "source": [
    "df"
   ]
  },
  {
   "cell_type": "code",
   "execution_count": 26,
   "metadata": {},
   "outputs": [
    {
     "name": "stdout",
     "output_type": "stream",
     "text": [
      "<class 'pandas.core.frame.DataFrame'>\n",
      "RangeIndex: 501 entries, 0 to 500\n",
      "Data columns (total 8 columns):\n",
      " #   Column        Non-Null Count  Dtype  \n",
      "---  ------        --------------  -----  \n",
      " 0   model_names   501 non-null    object \n",
      " 1   ratings       501 non-null    float64\n",
      " 2   price         501 non-null    object \n",
      " 3   imgURL        501 non-null    object \n",
      " 4   storage_ram   501 non-null    object \n",
      " 5   os_processor  501 non-null    object \n",
      " 6   network       501 non-null    object \n",
      " 7   battery       501 non-null    object \n",
      "dtypes: float64(1), object(7)\n",
      "memory usage: 31.4+ KB\n"
     ]
    }
   ],
   "source": [
    "df.info()"
   ]
  },
  {
   "cell_type": "code",
   "execution_count": 27,
   "metadata": {},
   "outputs": [
    {
     "data": {
      "text/plain": [
       "model_names     0\n",
       "ratings         0\n",
       "price           0\n",
       "imgURL          0\n",
       "storage_ram     0\n",
       "os_processor    0\n",
       "network         0\n",
       "battery         0\n",
       "dtype: int64"
      ]
     },
     "execution_count": 27,
     "metadata": {},
     "output_type": "execute_result"
    }
   ],
   "source": [
    "df.isnull().sum()"
   ]
  },
  {
   "cell_type": "code",
   "execution_count": 28,
   "metadata": {},
   "outputs": [
    {
     "data": {
      "text/plain": [
       "0"
      ]
     },
     "execution_count": 28,
     "metadata": {},
     "output_type": "execute_result"
    }
   ],
   "source": [
    "df.duplicated().sum()"
   ]
  },
  {
   "cell_type": "code",
   "execution_count": 29,
   "metadata": {},
   "outputs": [
    {
     "data": {
      "text/html": [
       "<div>\n",
       "<style scoped>\n",
       "    .dataframe tbody tr th:only-of-type {\n",
       "        vertical-align: middle;\n",
       "    }\n",
       "\n",
       "    .dataframe tbody tr th {\n",
       "        vertical-align: top;\n",
       "    }\n",
       "\n",
       "    .dataframe thead th {\n",
       "        text-align: right;\n",
       "    }\n",
       "</style>\n",
       "<table border=\"1\" class=\"dataframe\">\n",
       "  <thead>\n",
       "    <tr style=\"text-align: right;\">\n",
       "      <th></th>\n",
       "      <th>model_names</th>\n",
       "      <th>ratings</th>\n",
       "      <th>price</th>\n",
       "      <th>imgURL</th>\n",
       "      <th>storage_ram</th>\n",
       "      <th>os_processor</th>\n",
       "      <th>network</th>\n",
       "      <th>battery</th>\n",
       "    </tr>\n",
       "  </thead>\n",
       "  <tbody>\n",
       "    <tr>\n",
       "      <th>0</th>\n",
       "      <td>REDMI 10 Power (Sporty Orange, 128 GB)</td>\n",
       "      <td>4.2</td>\n",
       "      <td>₹13,500</td>\n",
       "      <td>https://rukminim2.flixcart.com/image/312/312/x...</td>\n",
       "      <td>Internal Storage128 GBRAM8 GBMemory Card Slot ...</td>\n",
       "      <td>Operating SystemAndroid 13Processor CoreOcta C...</td>\n",
       "      <td>Network Type4G VOLTESupported Networks4G LTE</td>\n",
       "      <td>Battery Capacity6000 mAh</td>\n",
       "    </tr>\n",
       "    <tr>\n",
       "      <th>1</th>\n",
       "      <td>REDMI 10 Power (Power Black, 128 GB)</td>\n",
       "      <td>4.2</td>\n",
       "      <td>₹12,840</td>\n",
       "      <td>https://rukminim2.flixcart.com/image/312/312/x...</td>\n",
       "      <td>Internal Storage128 GBRAM8 GBMemory Card Slot ...</td>\n",
       "      <td>Operating SystemAndroid 13Processor CoreOcta C...</td>\n",
       "      <td>Network Type4G VOLTESupported Networks4G VoLTE</td>\n",
       "      <td>Battery Capacity6000 mAh</td>\n",
       "    </tr>\n",
       "    <tr>\n",
       "      <th>2</th>\n",
       "      <td>Redmi 9A Sport (Metallic Blue, 32 GB)</td>\n",
       "      <td>4.1</td>\n",
       "      <td>₹7,520</td>\n",
       "      <td>https://rukminim2.flixcart.com/image/312/312/x...</td>\n",
       "      <td>Internal Storage32 GBRAM2 GBMemory Card Slot T...</td>\n",
       "      <td>Operating SystemAndroid Q 10Processor CoreOcta...</td>\n",
       "      <td>Network Type4G VOLTE, 4GSupported Networks4G LTE</td>\n",
       "      <td>Battery Capacity5000 mAh</td>\n",
       "    </tr>\n",
       "    <tr>\n",
       "      <th>3</th>\n",
       "      <td>Redmi 9A Sport (Coral Green, 32 GB)</td>\n",
       "      <td>4.2</td>\n",
       "      <td>₹8,450</td>\n",
       "      <td>https://rukminim2.flixcart.com/image/312/312/x...</td>\n",
       "      <td>Internal Storage32 GBRAM3 GBMemory Card Slot T...</td>\n",
       "      <td>Operating SystemAndroid Q 10Processor CoreOcta...</td>\n",
       "      <td>Network Type4G VOLTE, 4GSupported Networks4G V...</td>\n",
       "      <td>Battery Capacity5000 mAh</td>\n",
       "    </tr>\n",
       "    <tr>\n",
       "      <th>4</th>\n",
       "      <td>Xiaomi 11Lite NE (Vinyl Black, 128 GB)</td>\n",
       "      <td>4.2</td>\n",
       "      <td>₹21,644</td>\n",
       "      <td>https://rukminim2.flixcart.com/image/312/312/x...</td>\n",
       "      <td>Internal Storage128 GBRAM6 GBExpandable Storag...</td>\n",
       "      <td>Operating SystemAndroid 11Processor TypeQualco...</td>\n",
       "      <td>Network Type5G, 4G VOLTESupported Networks5G, ...</td>\n",
       "      <td>Battery Capacity4250 mAhBattery TypeLi-Po</td>\n",
       "    </tr>\n",
       "    <tr>\n",
       "      <th>...</th>\n",
       "      <td>...</td>\n",
       "      <td>...</td>\n",
       "      <td>...</td>\n",
       "      <td>...</td>\n",
       "      <td>...</td>\n",
       "      <td>...</td>\n",
       "      <td>...</td>\n",
       "      <td>...</td>\n",
       "    </tr>\n",
       "    <tr>\n",
       "      <th>496</th>\n",
       "      <td>Xiaomi 11i 5G (Camo Green, 128 GB)</td>\n",
       "      <td>4.5</td>\n",
       "      <td>₹26,999</td>\n",
       "      <td>https://rukminim2.flixcart.com/image/312/312/k...</td>\n",
       "      <td>Internal Storage32 GBRAM3 GBExpandable Storage...</td>\n",
       "      <td>Operating SystemAndroid Lollipop 5.1Processor ...</td>\n",
       "      <td>Network Type3G, 4GSupported NetworksGSM, 4G LT...</td>\n",
       "      <td>Battery Capacity4050 mAhBattery TypeLi-Polymer</td>\n",
       "    </tr>\n",
       "    <tr>\n",
       "      <th>497</th>\n",
       "      <td>Redmi Note 3 (Gold, 32 GB)</td>\n",
       "      <td>4.1</td>\n",
       "      <td>₹8,999</td>\n",
       "      <td>https://rukminim2.flixcart.com/image/312/312/m...</td>\n",
       "      <td>Internal Storage32 GBRAM3 GBMemory Card Slot T...</td>\n",
       "      <td>Operating SystemAndroid Pie 9Processor CoreOct...</td>\n",
       "      <td>Network Type4G VOLTESupported Networks4G LTEBl...</td>\n",
       "      <td>Battery Capacity4000 mAhBattery Typelithium-ion</td>\n",
       "    </tr>\n",
       "    <tr>\n",
       "      <th>498</th>\n",
       "      <td>Redmi Note 8 (Moonlight White, 32 GB)</td>\n",
       "      <td>4.3</td>\n",
       "      <td>₹11,990</td>\n",
       "      <td>https://rukminim2.flixcart.com/image/312/312/k...</td>\n",
       "      <td>Internal Storage128 GBRAM6 GB</td>\n",
       "      <td>Operating SystemAndroid Nougat 11Processor Cor...</td>\n",
       "      <td>Network Type4G VOLTE, 5GSupported Networks4G V...</td>\n",
       "      <td>Battery Capacity4520 mAh</td>\n",
       "    </tr>\n",
       "    <tr>\n",
       "      <th>499</th>\n",
       "      <td>MI 11X 5G (CELESTIAL SILVER, 128 GB)</td>\n",
       "      <td>4.3</td>\n",
       "      <td>₹24,999</td>\n",
       "      <td>https://rukminim2.flixcart.com/image/312/312/k...</td>\n",
       "      <td>Internal Storage64 GBRAM4 GBExpandable Storage...</td>\n",
       "      <td>Operating SystemAndroid Nougat 7.1.2Processor ...</td>\n",
       "      <td>Network Type3G, 4G VOLTE, 4GSupported Networks...</td>\n",
       "      <td>Battery Capacity4000 mAh</td>\n",
       "    </tr>\n",
       "    <tr>\n",
       "      <th>500</th>\n",
       "      <td>Redmi Note 5 Pro (Red, 64 GB)</td>\n",
       "      <td>4.1</td>\n",
       "      <td>₹12,500</td>\n",
       "      <td>https://rukminim2.flixcart.com/image/312/312/j...</td>\n",
       "      <td>Internal Storage64 GBRAM4 GBExpandable Storage...</td>\n",
       "      <td>Operating SystemAndroid Nougat 7.1.2Processor ...</td>\n",
       "      <td>Network Type3G, 4G, 2GSupported NetworksGSM, W...</td>\n",
       "      <td>Battery Capacity3080 mAh</td>\n",
       "    </tr>\n",
       "  </tbody>\n",
       "</table>\n",
       "<p>501 rows × 8 columns</p>\n",
       "</div>"
      ],
      "text/plain": [
       "                                model_names  ratings    price   \n",
       "0    REDMI 10 Power (Sporty Orange, 128 GB)      4.2  ₹13,500  \\\n",
       "1      REDMI 10 Power (Power Black, 128 GB)      4.2  ₹12,840   \n",
       "2     Redmi 9A Sport (Metallic Blue, 32 GB)      4.1   ₹7,520   \n",
       "3       Redmi 9A Sport (Coral Green, 32 GB)      4.2   ₹8,450   \n",
       "4    Xiaomi 11Lite NE (Vinyl Black, 128 GB)      4.2  ₹21,644   \n",
       "..                                      ...      ...      ...   \n",
       "496      Xiaomi 11i 5G (Camo Green, 128 GB)      4.5  ₹26,999   \n",
       "497              Redmi Note 3 (Gold, 32 GB)      4.1   ₹8,999   \n",
       "498   Redmi Note 8 (Moonlight White, 32 GB)      4.3  ₹11,990   \n",
       "499    MI 11X 5G (CELESTIAL SILVER, 128 GB)      4.3  ₹24,999   \n",
       "500           Redmi Note 5 Pro (Red, 64 GB)      4.1  ₹12,500   \n",
       "\n",
       "                                                imgURL   \n",
       "0    https://rukminim2.flixcart.com/image/312/312/x...  \\\n",
       "1    https://rukminim2.flixcart.com/image/312/312/x...   \n",
       "2    https://rukminim2.flixcart.com/image/312/312/x...   \n",
       "3    https://rukminim2.flixcart.com/image/312/312/x...   \n",
       "4    https://rukminim2.flixcart.com/image/312/312/x...   \n",
       "..                                                 ...   \n",
       "496  https://rukminim2.flixcart.com/image/312/312/k...   \n",
       "497  https://rukminim2.flixcart.com/image/312/312/m...   \n",
       "498  https://rukminim2.flixcart.com/image/312/312/k...   \n",
       "499  https://rukminim2.flixcart.com/image/312/312/k...   \n",
       "500  https://rukminim2.flixcart.com/image/312/312/j...   \n",
       "\n",
       "                                           storage_ram   \n",
       "0    Internal Storage128 GBRAM8 GBMemory Card Slot ...  \\\n",
       "1    Internal Storage128 GBRAM8 GBMemory Card Slot ...   \n",
       "2    Internal Storage32 GBRAM2 GBMemory Card Slot T...   \n",
       "3    Internal Storage32 GBRAM3 GBMemory Card Slot T...   \n",
       "4    Internal Storage128 GBRAM6 GBExpandable Storag...   \n",
       "..                                                 ...   \n",
       "496  Internal Storage32 GBRAM3 GBExpandable Storage...   \n",
       "497  Internal Storage32 GBRAM3 GBMemory Card Slot T...   \n",
       "498                      Internal Storage128 GBRAM6 GB   \n",
       "499  Internal Storage64 GBRAM4 GBExpandable Storage...   \n",
       "500  Internal Storage64 GBRAM4 GBExpandable Storage...   \n",
       "\n",
       "                                          os_processor   \n",
       "0    Operating SystemAndroid 13Processor CoreOcta C...  \\\n",
       "1    Operating SystemAndroid 13Processor CoreOcta C...   \n",
       "2    Operating SystemAndroid Q 10Processor CoreOcta...   \n",
       "3    Operating SystemAndroid Q 10Processor CoreOcta...   \n",
       "4    Operating SystemAndroid 11Processor TypeQualco...   \n",
       "..                                                 ...   \n",
       "496  Operating SystemAndroid Lollipop 5.1Processor ...   \n",
       "497  Operating SystemAndroid Pie 9Processor CoreOct...   \n",
       "498  Operating SystemAndroid Nougat 11Processor Cor...   \n",
       "499  Operating SystemAndroid Nougat 7.1.2Processor ...   \n",
       "500  Operating SystemAndroid Nougat 7.1.2Processor ...   \n",
       "\n",
       "                                               network   \n",
       "0         Network Type4G VOLTESupported Networks4G LTE  \\\n",
       "1       Network Type4G VOLTESupported Networks4G VoLTE   \n",
       "2     Network Type4G VOLTE, 4GSupported Networks4G LTE   \n",
       "3    Network Type4G VOLTE, 4GSupported Networks4G V...   \n",
       "4    Network Type5G, 4G VOLTESupported Networks5G, ...   \n",
       "..                                                 ...   \n",
       "496  Network Type3G, 4GSupported NetworksGSM, 4G LT...   \n",
       "497  Network Type4G VOLTESupported Networks4G LTEBl...   \n",
       "498  Network Type4G VOLTE, 5GSupported Networks4G V...   \n",
       "499  Network Type3G, 4G VOLTE, 4GSupported Networks...   \n",
       "500  Network Type3G, 4G, 2GSupported NetworksGSM, W...   \n",
       "\n",
       "                                             battery  \n",
       "0                           Battery Capacity6000 mAh  \n",
       "1                           Battery Capacity6000 mAh  \n",
       "2                           Battery Capacity5000 mAh  \n",
       "3                           Battery Capacity5000 mAh  \n",
       "4          Battery Capacity4250 mAhBattery TypeLi-Po  \n",
       "..                                               ...  \n",
       "496   Battery Capacity4050 mAhBattery TypeLi-Polymer  \n",
       "497  Battery Capacity4000 mAhBattery Typelithium-ion  \n",
       "498                         Battery Capacity4520 mAh  \n",
       "499                         Battery Capacity4000 mAh  \n",
       "500                         Battery Capacity3080 mAh  \n",
       "\n",
       "[501 rows x 8 columns]"
      ]
     },
     "execution_count": 29,
     "metadata": {},
     "output_type": "execute_result"
    }
   ],
   "source": [
    "df"
   ]
  },
  {
   "cell_type": "code",
   "execution_count": 30,
   "metadata": {},
   "outputs": [],
   "source": [
    "@ensure_annotations\n",
    "def random_values(feature_name:str,total=6):\n",
    "    for i in range(0,total):\n",
    "        index = np.random.randint(df.shape[0])\n",
    "        print(index,':',df[feature_name].iloc[index])\n",
    "            "
   ]
  },
  {
   "cell_type": "code",
   "execution_count": 31,
   "metadata": {},
   "outputs": [
    {
     "name": "stdout",
     "output_type": "stream",
     "text": [
      "28 : Redmi 9 (Sporty Orange, 64 GB)\n",
      "466 : Redmi 5 (Lake Blue, 64 GB)\n",
      "21 : Redmi Note 6 Pro (Rose Gold, 64 GB)\n",
      "301 : REDMI 10A SPORT (SEA BLUE, 128 GB)\n",
      "130 : Redmi K20 (Glacier Blue, 64 GB)\n",
      "329 : REDMI 12C (Lavender Purple, 6 GB)\n"
     ]
    }
   ],
   "source": [
    "random_values('model_names')"
   ]
  },
  {
   "cell_type": "code",
   "execution_count": 32,
   "metadata": {},
   "outputs": [
    {
     "name": "stdout",
     "output_type": "stream",
     "text": [
      "145 : ₹5,999\n",
      "343 : ₹13,990\n",
      "222 : ₹9,499\n",
      "179 : ₹13,999\n",
      "51 : ₹23,999\n",
      "71 : ₹6,499\n"
     ]
    }
   ],
   "source": [
    "random_values('price')"
   ]
  },
  {
   "cell_type": "code",
   "execution_count": 33,
   "metadata": {},
   "outputs": [
    {
     "name": "stdout",
     "output_type": "stream",
     "text": [
      "240 : https://rukminim2.flixcart.com/image/312/312/xif0q/mobile/k/1/a/-original-imag7f5he4efhmtd.jpeg?q=70\n",
      "270 : https://rukminim2.flixcart.com/image/312/312/xif0q/mobile/9/q/j/-original-imagk4nzwhudqhcz.jpeg?q=70\n",
      "428 : https://rukminim2.flixcart.com/image/312/312/mobile/9/8/z/mi-redmi-note-4-na-original-imaeqdxjuadhagfc.jpeg?q=70\n",
      "377 : https://rukminim2.flixcart.com/image/312/312/k2tc1ow0pkrrdj/mobile-refurbished/f/p/s/redmi-note-7s-32-b-mzb7746in-mi-3-original-imafe48pmu5q6ygz.jpeg?q=70\n",
      "362 : https://rukminim2.flixcart.com/image/312/312/xif0q/mobile/d/k/8/12c-12c-redmi-original-imagzh5sz7kkhbhh.jpeg?q=70\n",
      "442 : https://rukminim2.flixcart.com/image/312/312/kjlrb0w0-0/mobile/z/s/l/10i-m10ix04-mi-original-imafz4rur4pb57cz.jpeg?q=70\n"
     ]
    }
   ],
   "source": [
    "random_values('imgURL')"
   ]
  },
  {
   "cell_type": "code",
   "execution_count": 34,
   "metadata": {},
   "outputs": [
    {
     "name": "stdout",
     "output_type": "stream",
     "text": [
      "179 : Internal Storage64 GBRAM6 GBExpandable Storage1 TBSupported Memory Card TypeMicroSDMemory Card Slot TypeDedicated SlotCall Log MemoryYes\n",
      "10 : Internal Storage32 GBRAM3 GBExpandable Storage512 GBSupported Memory Card TypeMicroSDMemory Card Slot TypeDedicated SlotCall Log MemoryYes\n",
      "28 : Internal Storage64 GBRAM4 GBMemory Card Slot TypeDedicated Slot\n",
      "464 : Internal Storage256 GBRAM12 GBMemory Card Slot TypeDedicated Slot\n",
      "196 : Internal Storage128 GBRAM6 GBExpandable Storage1 TBSupported Memory Card TypeMicroSDMemory Card Slot TypeDedicated SlotCall Log MemoryYes\n",
      "324 : Internal Storage64 GBRAM4 GBMemory Card Slot TypeDedicated Slot\n"
     ]
    }
   ],
   "source": [
    "random_values('storage_ram')"
   ]
  },
  {
   "cell_type": "markdown",
   "metadata": {},
   "source": [
    "## Price"
   ]
  },
  {
   "cell_type": "code",
   "execution_count": 35,
   "metadata": {},
   "outputs": [],
   "source": [
    "for Index,i in enumerate(df['price']):\n",
    "    i = str(i).replace('₹','')\n",
    "    i = str(i).replace(',','')\n",
    "    df['price'][Index] = i"
   ]
  },
  {
   "cell_type": "markdown",
   "metadata": {},
   "source": [
    "## Making Corpus"
   ]
  },
  {
   "cell_type": "code",
   "execution_count": 41,
   "metadata": {},
   "outputs": [],
   "source": [
    "df['corpus'] = df['storage_ram'] +' ' + df['os_processor']  +' '+ df['network'] +' ' + df['battery']  +' '+ df['price']"
   ]
  },
  {
   "cell_type": "code",
   "execution_count": 43,
   "metadata": {},
   "outputs": [
    {
     "name": "stdout",
     "output_type": "stream",
     "text": [
      "409 : Internal Storage128 GBRAM6 GBExpandable Storage512 GBSupported Memory Card TypeMicroSDMemory Card Slot TypeDedicated Slot Operating SystemAndroid Pie 10Processor TypeQualcomm® Snapdragon™ 720GProcessor CoreOcta CorePrimary Clock Speed2.3 GHzSecondary Clock Speed1.8 GHz Network Type4G VOLTE, 3GSupported Networks4G LTE, GSMInternet ConnectivityGSM , WCDMA , LTE FDD , LTE TDD , DLCA , ULCABluetooth SupportYesBluetooth Version5Wi-FiYesWi-Fi Version802.11a/b/g/n/acWi-Fi HotspotYesUSB TetheringYesUSB ConnectivityYesAudio Jack3.5mmGPS SupportYes Battery Capacity5020 mAhBattery Typelithium-ionTalk Time29 15990\n",
      "476 : Internal Storage128 GBRAM6 GBExpandable Storage256 GBSupported Memory Card TypemicroSDMemory Card Slot TypeHybrid Slot Operating SystemAndroid Pie 9.0Processor TypeQualcomm Snapdragon 675Processor CoreOcta CorePrimary Clock Speed2 GHzSecondary Clock Speed1.7 GHzOperating FrequencyGSM - B2, B3, B5, B8, WCDMA - B1, B2, B5, B8, LTE TDD - B40, B41, LTE FDD - B1, B3, B5, B8, CA - 1C (Only DLCA), 3C, 40C, 41C Network Type3G, 4G VOLTE, 2GSupported NetworksGSM, WCDMA, 4G VoLTE, 4G LTEInternet Connectivity4G, 3G, Wi-FiBluetooth SupportYesBluetooth Versionv5.0Wi-FiYesWi-Fi Version802.11 a/b/g/n/acUSB ConnectivityYesAudio Jack3.5mmMap SupportGoogle MapsGPS SupportYes Battery Capacity4000 mAh 28999\n",
      "131 : Internal Storage128 GBRAM6 GBExpandable Storage256 GBMemory Card Slot TypeHybrid Slot Operating SystemAndroid Pie 9Processor TypeQualcomm Snapdragon 665Processor CoreOcta CorePrimary Clock Speed2 GHzSecondary Clock Speed2 GHzOperating FrequencyGSM : B2/B3/B5/B8, WCDMA : B1/B2/B5/B8, TDD-LTE: B40/B41 (2535 -2655MHz), FDD-LTE: B1/B3/B5/B8 Network Type4G VOLTE, 4G, 2G, 3GSupported Networks4G VoLTE, 4G LTE, WCDMA, GSMInternet Connectivity4G, 3G, Wi-FiBluetooth SupportYesBluetooth Versionv5.0Wi-FiYesWi-Fi Version802.11a/b/g/n/acWi-Fi HotspotYesUSB TetheringYesUSB ConnectivityYesGPS SupportYes Battery Capacity4030 mAhBattery TypeLithium-ion 17499\n",
      "433 : Internal Storage256 GBRAM8 GB Operating SystemAndroid 10Processor TypeQualcomm Snapdragon 865Processor CoreOcta CorePrimary Clock Speed2.84 GHzSecondary Clock Speed2.42 GHzTertiary Clock Speed1.8 GHz Network Type5G, 4G VOLTE, 4G, 3G, 2GSupported Networks5G, 4G VoLTE, 4G LTE, WCDMA, GSMInternet Connectivity5G, 4G, 3G, Wi-Fi, EDGE, GPRSBluetooth SupportYesBluetooth Versionv5.1Wi-FiYesWi-Fi Version802.11 a/b/g/n/acWi-Fi HotspotYesNFCYesUSB TetheringYesInfraredYesUSB ConnectivityYesAudio JackUSB Type CMap SupportGoogle MapGPS SupportYes Battery Capacity4780 mAhBattery TypeLithium-ion 59999\n",
      "409 : Internal Storage128 GBRAM6 GBExpandable Storage512 GBSupported Memory Card TypeMicroSDMemory Card Slot TypeDedicated Slot Operating SystemAndroid Pie 10Processor TypeQualcomm® Snapdragon™ 720GProcessor CoreOcta CorePrimary Clock Speed2.3 GHzSecondary Clock Speed1.8 GHz Network Type4G VOLTE, 3GSupported Networks4G LTE, GSMInternet ConnectivityGSM , WCDMA , LTE FDD , LTE TDD , DLCA , ULCABluetooth SupportYesBluetooth Version5Wi-FiYesWi-Fi Version802.11a/b/g/n/acWi-Fi HotspotYesUSB TetheringYesUSB ConnectivityYesAudio Jack3.5mmGPS SupportYes Battery Capacity5020 mAhBattery Typelithium-ionTalk Time29 15990\n",
      "138 : Internal Storage64 GBRAM4 GBExpandable Storage128 GBSupported Memory Card TypemicroSDMemory Card Slot TypeHybrid SlotCall Log MemoryYes Operating SystemAndroid Marshmallow 6.0.1Processor TypeQualcomm Snapdragon 625 64-bit Octa Core 2GHzProcessor CoreOcta CorePrimary Clock Speed2 GHzOperating FrequencyGSM - 850 / 900 / 1800 / 1900 MHz; WCDMA - 850 / 900 / 1900 / 2100 MHz; 4G LTE (TDD) - B40, LTE (FDD) - B3 / B5 Network Type3G, 4G VOLTESupported Networks4G LTEInternet Connectivity4G, 3G, Wi-Fi3GYesPre-installed BrowserAndroidMicro USB PortYesBluetooth SupportYesBluetooth Version4.1Wi-FiYesWi-Fi Version802.11 b/g/nUSB ConnectivityYesAudio Jack3.5 mmMap SupportGoogle MapsGPS SupportYes Battery Capacity4100 mAh 12749\n"
     ]
    }
   ],
   "source": [
    "random_values('corpus')"
   ]
  },
  {
   "cell_type": "code",
   "execution_count": 44,
   "metadata": {},
   "outputs": [
    {
     "data": {
      "text/plain": [
       "Index(['model_names', 'ratings', 'price', 'imgURL', 'storage_ram',\n",
       "       'os_processor', 'network', 'battery', 'corpus'],\n",
       "      dtype='object')"
      ]
     },
     "execution_count": 44,
     "metadata": {},
     "output_type": "execute_result"
    }
   ],
   "source": [
    "df.columns"
   ]
  },
  {
   "cell_type": "code",
   "execution_count": 45,
   "metadata": {},
   "outputs": [],
   "source": [
    "df = df.drop(labels=['price', 'storage_ram',\n",
    "       'os_processor', 'network', 'battery',],axis=1)"
   ]
  },
  {
   "cell_type": "code",
   "execution_count": 46,
   "metadata": {},
   "outputs": [
    {
     "data": {
      "text/html": [
       "<div>\n",
       "<style scoped>\n",
       "    .dataframe tbody tr th:only-of-type {\n",
       "        vertical-align: middle;\n",
       "    }\n",
       "\n",
       "    .dataframe tbody tr th {\n",
       "        vertical-align: top;\n",
       "    }\n",
       "\n",
       "    .dataframe thead th {\n",
       "        text-align: right;\n",
       "    }\n",
       "</style>\n",
       "<table border=\"1\" class=\"dataframe\">\n",
       "  <thead>\n",
       "    <tr style=\"text-align: right;\">\n",
       "      <th></th>\n",
       "      <th>model_names</th>\n",
       "      <th>ratings</th>\n",
       "      <th>imgURL</th>\n",
       "      <th>corpus</th>\n",
       "    </tr>\n",
       "  </thead>\n",
       "  <tbody>\n",
       "    <tr>\n",
       "      <th>0</th>\n",
       "      <td>REDMI 10 Power (Sporty Orange, 128 GB)</td>\n",
       "      <td>4.2</td>\n",
       "      <td>https://rukminim2.flixcart.com/image/312/312/x...</td>\n",
       "      <td>Internal Storage128 GBRAM8 GBMemory Card Slot ...</td>\n",
       "    </tr>\n",
       "    <tr>\n",
       "      <th>1</th>\n",
       "      <td>REDMI 10 Power (Power Black, 128 GB)</td>\n",
       "      <td>4.2</td>\n",
       "      <td>https://rukminim2.flixcart.com/image/312/312/x...</td>\n",
       "      <td>Internal Storage128 GBRAM8 GBMemory Card Slot ...</td>\n",
       "    </tr>\n",
       "    <tr>\n",
       "      <th>2</th>\n",
       "      <td>Redmi 9A Sport (Metallic Blue, 32 GB)</td>\n",
       "      <td>4.1</td>\n",
       "      <td>https://rukminim2.flixcart.com/image/312/312/x...</td>\n",
       "      <td>Internal Storage32 GBRAM2 GBMemory Card Slot T...</td>\n",
       "    </tr>\n",
       "    <tr>\n",
       "      <th>3</th>\n",
       "      <td>Redmi 9A Sport (Coral Green, 32 GB)</td>\n",
       "      <td>4.2</td>\n",
       "      <td>https://rukminim2.flixcart.com/image/312/312/x...</td>\n",
       "      <td>Internal Storage32 GBRAM3 GBMemory Card Slot T...</td>\n",
       "    </tr>\n",
       "    <tr>\n",
       "      <th>4</th>\n",
       "      <td>Xiaomi 11Lite NE (Vinyl Black, 128 GB)</td>\n",
       "      <td>4.2</td>\n",
       "      <td>https://rukminim2.flixcart.com/image/312/312/x...</td>\n",
       "      <td>Internal Storage128 GBRAM6 GBExpandable Storag...</td>\n",
       "    </tr>\n",
       "    <tr>\n",
       "      <th>...</th>\n",
       "      <td>...</td>\n",
       "      <td>...</td>\n",
       "      <td>...</td>\n",
       "      <td>...</td>\n",
       "    </tr>\n",
       "    <tr>\n",
       "      <th>496</th>\n",
       "      <td>Xiaomi 11i 5G (Camo Green, 128 GB)</td>\n",
       "      <td>4.5</td>\n",
       "      <td>https://rukminim2.flixcart.com/image/312/312/k...</td>\n",
       "      <td>Internal Storage32 GBRAM3 GBExpandable Storage...</td>\n",
       "    </tr>\n",
       "    <tr>\n",
       "      <th>497</th>\n",
       "      <td>Redmi Note 3 (Gold, 32 GB)</td>\n",
       "      <td>4.1</td>\n",
       "      <td>https://rukminim2.flixcart.com/image/312/312/m...</td>\n",
       "      <td>Internal Storage32 GBRAM3 GBMemory Card Slot T...</td>\n",
       "    </tr>\n",
       "    <tr>\n",
       "      <th>498</th>\n",
       "      <td>Redmi Note 8 (Moonlight White, 32 GB)</td>\n",
       "      <td>4.3</td>\n",
       "      <td>https://rukminim2.flixcart.com/image/312/312/k...</td>\n",
       "      <td>Internal Storage128 GBRAM6 GB Operating System...</td>\n",
       "    </tr>\n",
       "    <tr>\n",
       "      <th>499</th>\n",
       "      <td>MI 11X 5G (CELESTIAL SILVER, 128 GB)</td>\n",
       "      <td>4.3</td>\n",
       "      <td>https://rukminim2.flixcart.com/image/312/312/k...</td>\n",
       "      <td>Internal Storage64 GBRAM4 GBExpandable Storage...</td>\n",
       "    </tr>\n",
       "    <tr>\n",
       "      <th>500</th>\n",
       "      <td>Redmi Note 5 Pro (Red, 64 GB)</td>\n",
       "      <td>4.1</td>\n",
       "      <td>https://rukminim2.flixcart.com/image/312/312/j...</td>\n",
       "      <td>Internal Storage64 GBRAM4 GBExpandable Storage...</td>\n",
       "    </tr>\n",
       "  </tbody>\n",
       "</table>\n",
       "<p>501 rows × 4 columns</p>\n",
       "</div>"
      ],
      "text/plain": [
       "                                model_names  ratings   \n",
       "0    REDMI 10 Power (Sporty Orange, 128 GB)      4.2  \\\n",
       "1      REDMI 10 Power (Power Black, 128 GB)      4.2   \n",
       "2     Redmi 9A Sport (Metallic Blue, 32 GB)      4.1   \n",
       "3       Redmi 9A Sport (Coral Green, 32 GB)      4.2   \n",
       "4    Xiaomi 11Lite NE (Vinyl Black, 128 GB)      4.2   \n",
       "..                                      ...      ...   \n",
       "496      Xiaomi 11i 5G (Camo Green, 128 GB)      4.5   \n",
       "497              Redmi Note 3 (Gold, 32 GB)      4.1   \n",
       "498   Redmi Note 8 (Moonlight White, 32 GB)      4.3   \n",
       "499    MI 11X 5G (CELESTIAL SILVER, 128 GB)      4.3   \n",
       "500           Redmi Note 5 Pro (Red, 64 GB)      4.1   \n",
       "\n",
       "                                                imgURL   \n",
       "0    https://rukminim2.flixcart.com/image/312/312/x...  \\\n",
       "1    https://rukminim2.flixcart.com/image/312/312/x...   \n",
       "2    https://rukminim2.flixcart.com/image/312/312/x...   \n",
       "3    https://rukminim2.flixcart.com/image/312/312/x...   \n",
       "4    https://rukminim2.flixcart.com/image/312/312/x...   \n",
       "..                                                 ...   \n",
       "496  https://rukminim2.flixcart.com/image/312/312/k...   \n",
       "497  https://rukminim2.flixcart.com/image/312/312/m...   \n",
       "498  https://rukminim2.flixcart.com/image/312/312/k...   \n",
       "499  https://rukminim2.flixcart.com/image/312/312/k...   \n",
       "500  https://rukminim2.flixcart.com/image/312/312/j...   \n",
       "\n",
       "                                                corpus  \n",
       "0    Internal Storage128 GBRAM8 GBMemory Card Slot ...  \n",
       "1    Internal Storage128 GBRAM8 GBMemory Card Slot ...  \n",
       "2    Internal Storage32 GBRAM2 GBMemory Card Slot T...  \n",
       "3    Internal Storage32 GBRAM3 GBMemory Card Slot T...  \n",
       "4    Internal Storage128 GBRAM6 GBExpandable Storag...  \n",
       "..                                                 ...  \n",
       "496  Internal Storage32 GBRAM3 GBExpandable Storage...  \n",
       "497  Internal Storage32 GBRAM3 GBMemory Card Slot T...  \n",
       "498  Internal Storage128 GBRAM6 GB Operating System...  \n",
       "499  Internal Storage64 GBRAM4 GBExpandable Storage...  \n",
       "500  Internal Storage64 GBRAM4 GBExpandable Storage...  \n",
       "\n",
       "[501 rows x 4 columns]"
      ]
     },
     "execution_count": 46,
     "metadata": {},
     "output_type": "execute_result"
    }
   ],
   "source": [
    "df"
   ]
  },
  {
   "cell_type": "code",
   "execution_count": null,
   "metadata": {},
   "outputs": [],
   "source": []
  }
 ],
 "metadata": {
  "kernelspec": {
   "display_name": "Python 3",
   "language": "python",
   "name": "python3"
  },
  "language_info": {
   "codemirror_mode": {
    "name": "ipython",
    "version": 3
   },
   "file_extension": ".py",
   "mimetype": "text/x-python",
   "name": "python",
   "nbconvert_exporter": "python",
   "pygments_lexer": "ipython3",
   "version": "3.11.3"
  },
  "orig_nbformat": 4
 },
 "nbformat": 4,
 "nbformat_minor": 2
}
