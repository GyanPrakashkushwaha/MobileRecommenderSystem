{
 "cells": [
  {
   "cell_type": "code",
   "execution_count": 2,
   "metadata": {},
   "outputs": [],
   "source": [
    "import pandas as pd\n",
    "import os\n",
    "import numpy as np\n",
    "from ensure import ensure_annotations\n",
    "import re\n"
   ]
  },
  {
   "cell_type": "code",
   "execution_count": 3,
   "metadata": {},
   "outputs": [
    {
     "name": "stdout",
     "output_type": "stream",
     "text": [
      "d:\\vscode_machineLearning\\BEST_PROJECTS\\mobileRecommenderSystem\\kaggle\\notebook\n",
      "None\n",
      "d:\\vscode_machineLearning\\BEST_PROJECTS\\mobileRecommenderSystem\n"
     ]
    }
   ],
   "source": [
    "print(os.getcwd())\n",
    "print(os.chdir(r'd:\\vscode_machineLearning\\BEST_PROJECTS\\mobileRecommenderSystem'))\n",
    "print(os.getcwd())"
   ]
  },
  {
   "cell_type": "code",
   "execution_count": 4,
   "metadata": {},
   "outputs": [],
   "source": [
    "df = pd.read_csv('data\\data_to_merge\\mi_data.csv',index_col=None)"
   ]
  },
  {
   "cell_type": "code",
   "execution_count": 5,
   "metadata": {},
   "outputs": [],
   "source": [
    "df.drop_duplicates(inplace=True,ignore_index=True)"
   ]
  },
  {
   "cell_type": "code",
   "execution_count": 6,
   "metadata": {},
   "outputs": [
    {
     "data": {
      "text/plain": [
       "Index(['model_names', 'ratings', 'price', 'imgURL', 'storage_ram',\n",
       "       'os_processor', 'network', 'battery'],\n",
       "      dtype='object')"
      ]
     },
     "execution_count": 6,
     "metadata": {},
     "output_type": "execute_result"
    }
   ],
   "source": [
    "df.columns"
   ]
  },
  {
   "cell_type": "code",
   "execution_count": 7,
   "metadata": {},
   "outputs": [
    {
     "data": {
      "text/html": [
       "<div>\n",
       "<style scoped>\n",
       "    .dataframe tbody tr th:only-of-type {\n",
       "        vertical-align: middle;\n",
       "    }\n",
       "\n",
       "    .dataframe tbody tr th {\n",
       "        vertical-align: top;\n",
       "    }\n",
       "\n",
       "    .dataframe thead th {\n",
       "        text-align: right;\n",
       "    }\n",
       "</style>\n",
       "<table border=\"1\" class=\"dataframe\">\n",
       "  <thead>\n",
       "    <tr style=\"text-align: right;\">\n",
       "      <th></th>\n",
       "      <th>model_names</th>\n",
       "      <th>ratings</th>\n",
       "      <th>price</th>\n",
       "      <th>imgURL</th>\n",
       "      <th>storage_ram</th>\n",
       "      <th>os_processor</th>\n",
       "      <th>network</th>\n",
       "      <th>battery</th>\n",
       "    </tr>\n",
       "  </thead>\n",
       "  <tbody>\n",
       "    <tr>\n",
       "      <th>0</th>\n",
       "      <td>REDMI 10 Power (Sporty Orange, 128 GB)</td>\n",
       "      <td>4.2</td>\n",
       "      <td>₹13,500</td>\n",
       "      <td>https://rukminim2.flixcart.com/image/312/312/x...</td>\n",
       "      <td>Internal Storage128 GBRAM8 GBMemory Card Slot ...</td>\n",
       "      <td>Operating SystemAndroid 13Processor CoreOcta C...</td>\n",
       "      <td>Network Type4G VOLTESupported Networks4G LTE</td>\n",
       "      <td>Battery Capacity6000 mAh</td>\n",
       "    </tr>\n",
       "    <tr>\n",
       "      <th>1</th>\n",
       "      <td>REDMI 10 Power (Power Black, 128 GB)</td>\n",
       "      <td>4.2</td>\n",
       "      <td>₹12,840</td>\n",
       "      <td>https://rukminim2.flixcart.com/image/312/312/x...</td>\n",
       "      <td>Internal Storage128 GBRAM8 GBMemory Card Slot ...</td>\n",
       "      <td>Operating SystemAndroid 13Processor CoreOcta C...</td>\n",
       "      <td>Network Type4G VOLTESupported Networks4G VoLTE</td>\n",
       "      <td>Battery Capacity6000 mAh</td>\n",
       "    </tr>\n",
       "    <tr>\n",
       "      <th>2</th>\n",
       "      <td>Redmi 9A Sport (Metallic Blue, 32 GB)</td>\n",
       "      <td>4.1</td>\n",
       "      <td>₹7,520</td>\n",
       "      <td>https://rukminim2.flixcart.com/image/312/312/x...</td>\n",
       "      <td>Internal Storage32 GBRAM2 GBMemory Card Slot T...</td>\n",
       "      <td>Operating SystemAndroid Q 10Processor CoreOcta...</td>\n",
       "      <td>Network Type4G VOLTE, 4GSupported Networks4G LTE</td>\n",
       "      <td>Battery Capacity5000 mAh</td>\n",
       "    </tr>\n",
       "    <tr>\n",
       "      <th>3</th>\n",
       "      <td>Redmi 9A Sport (Coral Green, 32 GB)</td>\n",
       "      <td>4.2</td>\n",
       "      <td>₹8,450</td>\n",
       "      <td>https://rukminim2.flixcart.com/image/312/312/x...</td>\n",
       "      <td>Internal Storage32 GBRAM3 GBMemory Card Slot T...</td>\n",
       "      <td>Operating SystemAndroid Q 10Processor CoreOcta...</td>\n",
       "      <td>Network Type4G VOLTE, 4GSupported Networks4G V...</td>\n",
       "      <td>Battery Capacity5000 mAh</td>\n",
       "    </tr>\n",
       "    <tr>\n",
       "      <th>4</th>\n",
       "      <td>Xiaomi 11Lite NE (Vinyl Black, 128 GB)</td>\n",
       "      <td>4.2</td>\n",
       "      <td>₹21,644</td>\n",
       "      <td>https://rukminim2.flixcart.com/image/312/312/x...</td>\n",
       "      <td>Internal Storage128 GBRAM6 GBExpandable Storag...</td>\n",
       "      <td>Operating SystemAndroid 11Processor TypeQualco...</td>\n",
       "      <td>Network Type5G, 4G VOLTESupported Networks5G, ...</td>\n",
       "      <td>Battery Capacity4250 mAhBattery TypeLi-Po</td>\n",
       "    </tr>\n",
       "    <tr>\n",
       "      <th>...</th>\n",
       "      <td>...</td>\n",
       "      <td>...</td>\n",
       "      <td>...</td>\n",
       "      <td>...</td>\n",
       "      <td>...</td>\n",
       "      <td>...</td>\n",
       "      <td>...</td>\n",
       "      <td>...</td>\n",
       "    </tr>\n",
       "    <tr>\n",
       "      <th>496</th>\n",
       "      <td>Xiaomi 11i 5G (Camo Green, 128 GB)</td>\n",
       "      <td>4.5</td>\n",
       "      <td>₹26,999</td>\n",
       "      <td>https://rukminim2.flixcart.com/image/312/312/k...</td>\n",
       "      <td>Internal Storage32 GBRAM3 GBExpandable Storage...</td>\n",
       "      <td>Operating SystemAndroid Lollipop 5.1Processor ...</td>\n",
       "      <td>Network Type3G, 4GSupported NetworksGSM, 4G LT...</td>\n",
       "      <td>Battery Capacity4050 mAhBattery TypeLi-Polymer</td>\n",
       "    </tr>\n",
       "    <tr>\n",
       "      <th>497</th>\n",
       "      <td>Redmi Note 3 (Gold, 32 GB)</td>\n",
       "      <td>4.1</td>\n",
       "      <td>₹8,999</td>\n",
       "      <td>https://rukminim2.flixcart.com/image/312/312/m...</td>\n",
       "      <td>Internal Storage32 GBRAM3 GBMemory Card Slot T...</td>\n",
       "      <td>Operating SystemAndroid Pie 9Processor CoreOct...</td>\n",
       "      <td>Network Type4G VOLTESupported Networks4G LTEBl...</td>\n",
       "      <td>Battery Capacity4000 mAhBattery Typelithium-ion</td>\n",
       "    </tr>\n",
       "    <tr>\n",
       "      <th>498</th>\n",
       "      <td>Redmi Note 8 (Moonlight White, 32 GB)</td>\n",
       "      <td>4.3</td>\n",
       "      <td>₹11,990</td>\n",
       "      <td>https://rukminim2.flixcart.com/image/312/312/k...</td>\n",
       "      <td>Internal Storage128 GBRAM6 GB</td>\n",
       "      <td>Operating SystemAndroid Nougat 11Processor Cor...</td>\n",
       "      <td>Network Type4G VOLTE, 5GSupported Networks4G V...</td>\n",
       "      <td>Battery Capacity4520 mAh</td>\n",
       "    </tr>\n",
       "    <tr>\n",
       "      <th>499</th>\n",
       "      <td>MI 11X 5G (CELESTIAL SILVER, 128 GB)</td>\n",
       "      <td>4.3</td>\n",
       "      <td>₹24,999</td>\n",
       "      <td>https://rukminim2.flixcart.com/image/312/312/k...</td>\n",
       "      <td>Internal Storage64 GBRAM4 GBExpandable Storage...</td>\n",
       "      <td>Operating SystemAndroid Nougat 7.1.2Processor ...</td>\n",
       "      <td>Network Type3G, 4G VOLTE, 4GSupported Networks...</td>\n",
       "      <td>Battery Capacity4000 mAh</td>\n",
       "    </tr>\n",
       "    <tr>\n",
       "      <th>500</th>\n",
       "      <td>Redmi Note 5 Pro (Red, 64 GB)</td>\n",
       "      <td>4.1</td>\n",
       "      <td>₹12,500</td>\n",
       "      <td>https://rukminim2.flixcart.com/image/312/312/j...</td>\n",
       "      <td>Internal Storage64 GBRAM4 GBExpandable Storage...</td>\n",
       "      <td>Operating SystemAndroid Nougat 7.1.2Processor ...</td>\n",
       "      <td>Network Type3G, 4G, 2GSupported NetworksGSM, W...</td>\n",
       "      <td>Battery Capacity3080 mAh</td>\n",
       "    </tr>\n",
       "  </tbody>\n",
       "</table>\n",
       "<p>501 rows × 8 columns</p>\n",
       "</div>"
      ],
      "text/plain": [
       "                                model_names  ratings    price   \n",
       "0    REDMI 10 Power (Sporty Orange, 128 GB)      4.2  ₹13,500  \\\n",
       "1      REDMI 10 Power (Power Black, 128 GB)      4.2  ₹12,840   \n",
       "2     Redmi 9A Sport (Metallic Blue, 32 GB)      4.1   ₹7,520   \n",
       "3       Redmi 9A Sport (Coral Green, 32 GB)      4.2   ₹8,450   \n",
       "4    Xiaomi 11Lite NE (Vinyl Black, 128 GB)      4.2  ₹21,644   \n",
       "..                                      ...      ...      ...   \n",
       "496      Xiaomi 11i 5G (Camo Green, 128 GB)      4.5  ₹26,999   \n",
       "497              Redmi Note 3 (Gold, 32 GB)      4.1   ₹8,999   \n",
       "498   Redmi Note 8 (Moonlight White, 32 GB)      4.3  ₹11,990   \n",
       "499    MI 11X 5G (CELESTIAL SILVER, 128 GB)      4.3  ₹24,999   \n",
       "500           Redmi Note 5 Pro (Red, 64 GB)      4.1  ₹12,500   \n",
       "\n",
       "                                                imgURL   \n",
       "0    https://rukminim2.flixcart.com/image/312/312/x...  \\\n",
       "1    https://rukminim2.flixcart.com/image/312/312/x...   \n",
       "2    https://rukminim2.flixcart.com/image/312/312/x...   \n",
       "3    https://rukminim2.flixcart.com/image/312/312/x...   \n",
       "4    https://rukminim2.flixcart.com/image/312/312/x...   \n",
       "..                                                 ...   \n",
       "496  https://rukminim2.flixcart.com/image/312/312/k...   \n",
       "497  https://rukminim2.flixcart.com/image/312/312/m...   \n",
       "498  https://rukminim2.flixcart.com/image/312/312/k...   \n",
       "499  https://rukminim2.flixcart.com/image/312/312/k...   \n",
       "500  https://rukminim2.flixcart.com/image/312/312/j...   \n",
       "\n",
       "                                           storage_ram   \n",
       "0    Internal Storage128 GBRAM8 GBMemory Card Slot ...  \\\n",
       "1    Internal Storage128 GBRAM8 GBMemory Card Slot ...   \n",
       "2    Internal Storage32 GBRAM2 GBMemory Card Slot T...   \n",
       "3    Internal Storage32 GBRAM3 GBMemory Card Slot T...   \n",
       "4    Internal Storage128 GBRAM6 GBExpandable Storag...   \n",
       "..                                                 ...   \n",
       "496  Internal Storage32 GBRAM3 GBExpandable Storage...   \n",
       "497  Internal Storage32 GBRAM3 GBMemory Card Slot T...   \n",
       "498                      Internal Storage128 GBRAM6 GB   \n",
       "499  Internal Storage64 GBRAM4 GBExpandable Storage...   \n",
       "500  Internal Storage64 GBRAM4 GBExpandable Storage...   \n",
       "\n",
       "                                          os_processor   \n",
       "0    Operating SystemAndroid 13Processor CoreOcta C...  \\\n",
       "1    Operating SystemAndroid 13Processor CoreOcta C...   \n",
       "2    Operating SystemAndroid Q 10Processor CoreOcta...   \n",
       "3    Operating SystemAndroid Q 10Processor CoreOcta...   \n",
       "4    Operating SystemAndroid 11Processor TypeQualco...   \n",
       "..                                                 ...   \n",
       "496  Operating SystemAndroid Lollipop 5.1Processor ...   \n",
       "497  Operating SystemAndroid Pie 9Processor CoreOct...   \n",
       "498  Operating SystemAndroid Nougat 11Processor Cor...   \n",
       "499  Operating SystemAndroid Nougat 7.1.2Processor ...   \n",
       "500  Operating SystemAndroid Nougat 7.1.2Processor ...   \n",
       "\n",
       "                                               network   \n",
       "0         Network Type4G VOLTESupported Networks4G LTE  \\\n",
       "1       Network Type4G VOLTESupported Networks4G VoLTE   \n",
       "2     Network Type4G VOLTE, 4GSupported Networks4G LTE   \n",
       "3    Network Type4G VOLTE, 4GSupported Networks4G V...   \n",
       "4    Network Type5G, 4G VOLTESupported Networks5G, ...   \n",
       "..                                                 ...   \n",
       "496  Network Type3G, 4GSupported NetworksGSM, 4G LT...   \n",
       "497  Network Type4G VOLTESupported Networks4G LTEBl...   \n",
       "498  Network Type4G VOLTE, 5GSupported Networks4G V...   \n",
       "499  Network Type3G, 4G VOLTE, 4GSupported Networks...   \n",
       "500  Network Type3G, 4G, 2GSupported NetworksGSM, W...   \n",
       "\n",
       "                                             battery  \n",
       "0                           Battery Capacity6000 mAh  \n",
       "1                           Battery Capacity6000 mAh  \n",
       "2                           Battery Capacity5000 mAh  \n",
       "3                           Battery Capacity5000 mAh  \n",
       "4          Battery Capacity4250 mAhBattery TypeLi-Po  \n",
       "..                                               ...  \n",
       "496   Battery Capacity4050 mAhBattery TypeLi-Polymer  \n",
       "497  Battery Capacity4000 mAhBattery Typelithium-ion  \n",
       "498                         Battery Capacity4520 mAh  \n",
       "499                         Battery Capacity4000 mAh  \n",
       "500                         Battery Capacity3080 mAh  \n",
       "\n",
       "[501 rows x 8 columns]"
      ]
     },
     "execution_count": 7,
     "metadata": {},
     "output_type": "execute_result"
    }
   ],
   "source": [
    "df"
   ]
  },
  {
   "cell_type": "code",
   "execution_count": 8,
   "metadata": {},
   "outputs": [
    {
     "name": "stdout",
     "output_type": "stream",
     "text": [
      "<class 'pandas.core.frame.DataFrame'>\n",
      "RangeIndex: 501 entries, 0 to 500\n",
      "Data columns (total 8 columns):\n",
      " #   Column        Non-Null Count  Dtype  \n",
      "---  ------        --------------  -----  \n",
      " 0   model_names   501 non-null    object \n",
      " 1   ratings       501 non-null    float64\n",
      " 2   price         501 non-null    object \n",
      " 3   imgURL        501 non-null    object \n",
      " 4   storage_ram   501 non-null    object \n",
      " 5   os_processor  501 non-null    object \n",
      " 6   network       501 non-null    object \n",
      " 7   battery       501 non-null    object \n",
      "dtypes: float64(1), object(7)\n",
      "memory usage: 31.4+ KB\n"
     ]
    }
   ],
   "source": [
    "df.info()"
   ]
  },
  {
   "cell_type": "code",
   "execution_count": 9,
   "metadata": {},
   "outputs": [
    {
     "data": {
      "text/plain": [
       "model_names     0\n",
       "ratings         0\n",
       "price           0\n",
       "imgURL          0\n",
       "storage_ram     0\n",
       "os_processor    0\n",
       "network         0\n",
       "battery         0\n",
       "dtype: int64"
      ]
     },
     "execution_count": 9,
     "metadata": {},
     "output_type": "execute_result"
    }
   ],
   "source": [
    "df.isnull().sum()"
   ]
  },
  {
   "cell_type": "code",
   "execution_count": 10,
   "metadata": {},
   "outputs": [
    {
     "data": {
      "text/plain": [
       "0"
      ]
     },
     "execution_count": 10,
     "metadata": {},
     "output_type": "execute_result"
    }
   ],
   "source": [
    "df.duplicated().sum()"
   ]
  },
  {
   "cell_type": "code",
   "execution_count": 11,
   "metadata": {},
   "outputs": [
    {
     "data": {
      "text/plain": [
       "model_names                       ratings  price    imgURL                                                                                                                         storage_ram                                                                                                                                 os_processor                                                                                                                                                                                                                                                                                 network                                                                                                                                                                                                                                                                                                                                                    battery                                       \n",
       "10A (Black, 64 GB)                4.2      ₹9,999   https://rukminim2.flixcart.com/image/312/312/xif0q/mobile/1/r/i/10a-220233m21-mi-original-imagzxq5eafbzz8w.jpeg?q=70           Internal Storage64 GBRAM4 GBMemory Card Slot TypeDedicated Slot                                                                             Operating SystemAndroid Q 12Processor TypeMediatek Helio G25Processor CoreOcta CorePrimary Clock Speed2.3 GHzSecondary Clock Speed1.8 GHzTertiary Clock Speed1.8 GHzOperating Frequency2G GSM: 850/900/1800, 3G WCDMA: B1/B5/B8, 4G FDD-LTE: B1/B3/B5/B7/B8/B20/B28, 4G TD-LTE: B38/B40/B41  Network Type4G VOLTE, 2G, 4G, 3GSupported Networks4G VoLTE3GYesBluetooth SupportYesWi-FiYesWi-Fi HotspotYesUSB TetheringYesUSB ConnectivityYes                                                                                                                                                                                                             Battery Capacity5000 mAh                          1\n",
       "Redmi 8A (Midnight Black, 32 GB)  4.1      ₹8,999   https://rukminim2.flixcart.com/image/312/312/k12go7k0/mobile/8/e/b/mi-redmi-8a-mzb8298in-original-imafkmhqztfbabww.jpeg?q=70   Internal Storage32 GBRAM3 GBExpandable Storage512 GBSupported Memory Card TypemicroSDMemory Card Slot TypeDedicated Slot                    Operating SystemAndroid Pie 9.0Processor TypeQualcomm Snapdragon 439Processor CoreOcta CorePrimary Clock Speed1.95 GHzSecondary Clock Speed1.45 GHzOperating FrequencyGSM: B2, B3, B5, B8, WCDMA: B1, B2, B5, B8, LTE TDD: B40, B41, LTE FDD: B1, B3, B5, B8                                 Network Type4G VOLTE, 3G, 2GSupported Networks4G VoLTE, 4G LTE, WCDMA, GSMInternet Connectivity4G, 3G, Wi-FiBluetooth SupportYesBluetooth Versionv4.2Wi-FiYesWi-Fi Version802.11 b/g/nWi-Fi HotspotYesUSB ConnectivityYesAudio Jack3.5mmMap SupportGoogle MapsGPS SupportYes                                                                               Battery Capacity5000 mAhBattery TypeLi-polymer    1\n",
       "Redmi 9A (Nature Green, 32 GB)    4.3      ₹7,490   https://rukminim2.flixcart.com/image/312/312/kesv0y80/mobile/k/h/9/mi-redmi-9a-b08696xb4b-original-imafve7pte7e4zmp.jpeg?q=70  Internal Storage32 GBRAM2 GBMemory Card Slot TypeHybrid Slot                                                                                Operating SystemAndroid Q 10Processor CoreOcta CorePrimary Clock Speed2 GHz                                                                                                                                                                                                                  Network Type4G VOLTE, 3GSupported Networks4G VoLTE, GSM                                                                                                                                                                                                                                                                                                    Battery Capacity5000 mAhDual BatteryYes           1\n",
       "Redmi 9 (Sporty Orange, 64 GB)    4.2      ₹10,280  https://rukminim2.flixcart.com/image/312/312/kehfi4w0/mobile/y/a/d/mi-redmi-9-lpddr4x-original-imafv5kyeqsgxgzz.jpeg?q=70      Internal Storage64 GBRAM4 GBMemory Card Slot TypeDedicated Slot                                                                             Operating SystemAndroid Q 10Processor TypeMediaTek Helio G35Primary Clock Speed2.3 GHz                                                                                                                                                                                                       Network Type4G VOLTE, 3GSupported Networks4G VoLTE, GSM3GYesMicro USB PortYesBluetooth SupportYesBluetooth Version5Wi-FiYesWi-Fi VersionWi-Fi 802.11 a/b/g/n/acWi-Fi HotspotYesNFCYesUSB TetheringYesUSB ConnectivityYesAudio Jack3.5GPS SupportYes                                                                                                        Battery Capacity5000 mAhBattery TypeLi-Po         1\n",
       "Redmi 9 (Sky Blue, 64 GB)         4.2      ₹10,249  https://rukminim2.flixcart.com/image/312/312/kehfi4w0/mobile/g/9/h/mi-redmi-9-lpddr4x-original-imafv5kypkgfqupf.jpeg?q=70      Internal Storage64 GBRAM4 GBMemory Card Slot TypeDedicated Slot                                                                             Operating SystemAndroid Q 10Processor TypeMediaTek Helio G35Primary Clock Speed2.3 GHz                                                                                                                                                                                                       Network Type4G VOLTE, 3GSupported Networks4G VoLTE, GSM3GYesMicro USB PortYesBluetooth SupportYesBluetooth Version5Wi-FiYesWi-Fi VersionWi-Fi 802.11 a/b/g/n/acWi-Fi HotspotYesNFCYesUSB TetheringYesUSB ConnectivityYesAudio Jack3.5GPS SupportYes                                                                                                        Battery Capacity5000 mAhBattery TypeLi-Po         1\n",
       "                                                                                                                                                                                                                                                                                                                                                                                                                                                                                                                                                                                                                                                                                                                                                                                                                                                                                                                                                                                                                                        ..\n",
       "REDMI A2 (Aqua Blue, 32 GB)       3.9      ₹6,953   https://rukminim2.flixcart.com/image/312/312/xif0q/mobile/t/y/x/a2-mobzc1pin-redmi-original-imagpuzrt9tjdcdz.jpeg?q=70         Internal Storage32 GBRAM2 GBSupported Memory Card TypemicroSDMemory Card Slot TypeDedicated Slot                                            Operating SystemAndroid Android 12Processor TypeMediatek Helio G36Processor CoreOcta CorePrimary Clock Speed2.2 GHz                                                                                                                                                                          Network Type4G, 3GSupported Networks4G LTE3GYesBluetooth SupportYesWi-FiYesAudio Jack3.5mm                                                                                                                                                                                                                                                                 Battery Capacity5000 mAh                          1\n",
       "                                           ₹6,549   https://rukminim2.flixcart.com/image/312/312/xif0q/mobile/t/y/x/a2-mobzc1pin-redmi-original-imagpuzrt9tjdcdz.jpeg?q=70         Internal Storage32 GBRAM2 GBMemory Card Slot TypeDedicated Slot                                                                             Operating SystemAndroid Android 13Processor CoreOcta CorePrimary Clock Speed2.2 GHz                                                                                                                                                                                                          Network Type4G VOLTESupported Networks4G VoLTE                                                                                                                                                                                                                                                                                                             Battery Capacity5000 mAh                          1\n",
       "REDMI A1+ (Light Green, 32 GB)    4.2      ₹6,299   https://rukminim2.flixcart.com/image/312/312/xif0q/mobile/a/9/b/-original-imagjyhyrgdtnjjy.jpeg?q=70                           Internal Storage32 GBRAM2 GBExpandable Storage512 GBSupported Memory Card TypemicroSDMemory Card Slot TypeDedicated SlotCall Log MemoryYes  Operating SystemAndroid 12 GoProcessor TypeMediatek Helio A22Processor CoreQuad CorePrimary Clock Speed2 GHzSecondary Clock Speed2 GHzTertiary Clock Speed2.05 GHzOperating Frequency2G GSM: B2/B3/B5/B8, 3G WCDMA: B1/B5/B8, 4G LTE TDD: B40/B41, 4G LTE FDD: B1/B3/B5/B8                   Network Type4G VOLTE, 4G, 3G, 2GSupported Networks4G VoLTE, 4G LTE, WCDMA, GSMInternet Connectivity4G, 3G, Wi-Fi, EDGE, GPRSGPRSYesMicro USB PortYesBluetooth SupportYesBluetooth Versionv5.0Wi-FiYesWi-Fi Version802.11/b/g/nWi-Fi HotspotYesMini HDMI PortNoNFCNoUSB TetheringYesUSB ConnectivityYesAudio Jack3.5mmMap SupportGoogle MapsGPS SupportYes  Battery Capacity5000 mAh                          1\n",
       "                                  4.1      ₹6,599   https://rukminim2.flixcart.com/image/312/312/xif0q/mobile/a/9/b/-original-imagjyhyrgdtnjjy.jpeg?q=70                           Internal Storage32 GBRAM3 GBExpandable Storage512 GBSupported Memory Card TypemicroSDMemory Card Slot TypeDedicated SlotCall Log MemoryYes  Operating SystemAndroid 12 GoProcessor TypeMediatek Helio A22Processor CoreQuad CorePrimary Clock Speed2 GHzSecondary Clock Speed2 GHzTertiary Clock Speed2.05 GHzOperating Frequency2G GSM: B2/B3/B5/B8, 3G WCDMA: B1/B5/B8, 4G LTE TDD: B40/B41, 4G LTE FDD: B1/B3/B5/B8                   Network Type4G VOLTE, 4G, 3G, 2GSupported Networks4G VoLTE, 4G LTE, WCDMA, GSMInternet Connectivity4G, 3G, Wi-Fi, EDGE, GPRSGPRSYesMicro USB PortYesBluetooth SupportYesBluetooth Versionv5.0Wi-FiYesWi-Fi Version802.11/b/g/nWi-Fi HotspotYesMini HDMI PortNoNFCNoUSB TetheringYesUSB ConnectivityYesAudio Jack3.5mmMap SupportGoogle MapsGPS SupportYes  Battery Capacity5000 mAh                          1\n",
       "�9A (Midnight Black, 32 GB)       4.3      ₹9,499   https://rukminim2.flixcart.com/image/312/312/kesv0y80/mobile/b/h/z/mi-redmi-9a-b08696xb4b-original-imafve7pnhwakaha.jpeg?q=70  Internal Storage32 GBRAM3 GBMemory Card Slot TypeHybrid Slot                                                                                Operating SystemAndroid 10Processor CoreOcta CorePrimary Clock Speed2 GHz                                                                                                                                                                                                                    Network Type4G VOLTE, 3GSupported Networks4G VoLTE, 4G LTE                                                                                                                                                                                                                                                                                                 Battery Capacity5000 mAh                          1\n",
       "Name: count, Length: 501, dtype: int64"
      ]
     },
     "execution_count": 11,
     "metadata": {},
     "output_type": "execute_result"
    }
   ],
   "source": [
    "df"
   ]
  },
  {
   "cell_type": "code",
   "execution_count": 12,
   "metadata": {},
   "outputs": [],
   "source": [
    "@ensure_annotations\n",
    "def random_values(feature_name:str,total=6):\n",
    "    for i in range(0,total):\n",
    "        index = np.random.randint(df.shape[0])\n",
    "        print(index,':',df[feature_name].iloc[index])\n",
    "            "
   ]
  },
  {
   "cell_type": "code",
   "execution_count": 14,
   "metadata": {},
   "outputs": [
    {
     "name": "stdout",
     "output_type": "stream",
     "text": [
      "429 : Redmi K20 (Pearl White, 64 GB)\n",
      "234 : REDMI A1 (Light Green, 32 GB)\n",
      "37 : Xiaomi 12 Pro 5G (Couture Blue, 256 GB)\n",
      "358 : REDMI 12c (Lavender Purple, 64 GB)\n",
      "201 : REDMI 10 (Shadow Black, 64 GB)\n",
      "210 : REDMI 10 Prime 2022 (Phantom Black, 64 GB)\n"
     ]
    }
   ],
   "source": [
    "random_values('model_names')"
   ]
  },
  {
   "cell_type": "code",
   "execution_count": 15,
   "metadata": {},
   "outputs": [
    {
     "name": "stdout",
     "output_type": "stream",
     "text": [
      "374 : ₹6,490\n",
      "181 : ₹13,999\n",
      "255 : ₹10,548\n",
      "168 : ₹15,999\n",
      "273 : ₹16,999\n",
      "116 : ₹17,990\n"
     ]
    }
   ],
   "source": [
    "random_values('price')"
   ]
  },
  {
   "cell_type": "code",
   "execution_count": 16,
   "metadata": {},
   "outputs": [
    {
     "name": "stdout",
     "output_type": "stream",
     "text": [
      "476 : https://rukminim2.flixcart.com/image/312/312/jxz0brk0/mobile/q/z/8/redmi-k20-pro-na-original-imafgb4ys5unqagx.jpeg?q=70\n",
      "335 : https://rukminim2.flixcart.com/image/312/312/l0igvww0/mobile/9/c/x/-original-imagcaawbw9ev8zf.jpeg?q=70\n",
      "44 : https://rukminim2.flixcart.com/image/312/312/xif0q/mobile/g/c/5/-original-imaggcz8kjjfgfvf.jpeg?q=70\n",
      "432 : https://rukminim2.flixcart.com/image/312/312/kesv0y80/mobile/b/h/z/mi-redmi-9a-b08696xb4b-original-imafve7pnhwakaha.jpeg?q=70\n",
      "31 : https://rukminim2.flixcart.com/image/312/312/xif0q/mobile/i/k/u/-original-imag7f6centfwcbz.jpeg?q=70\n",
      "202 : https://rukminim2.flixcart.com/image/312/312/xif0q/mobile/0/g/w/note-12-5g-mzb0eiain-redmi-original-imagpgr9ngapjhxq.jpeg?q=70\n"
     ]
    }
   ],
   "source": [
    "random_values('imgURL')"
   ]
  },
  {
   "cell_type": "code",
   "execution_count": 19,
   "metadata": {},
   "outputs": [
    {
     "name": "stdout",
     "output_type": "stream",
     "text": [
      "99 : Internal Storage64 GBRAM4 GBExpandable Storage256 GBSupported Memory Card TypemicroSDMemory Card Slot TypeHybrid Slot\n",
      "210 : Internal Storage64 GBRAM4 GBMemory Card Slot TypeDedicated Slot\n",
      "436 : Internal Storage32 GBRAM3 GBCall Log MemoryYes\n",
      "290 : Internal Storage128 GBRAM6 GBMemory Card Slot TypeHybrid Slot\n",
      "179 : Internal Storage64 GBRAM6 GBExpandable Storage1 TBSupported Memory Card TypeMicroSDMemory Card Slot TypeDedicated SlotCall Log MemoryYes\n",
      "455 : Internal Storage64 GBRAM4 GBExpandable Storage128 GBSupported Memory Card TypemicroSDMemory Card Slot TypeHybrid Slot\n"
     ]
    }
   ],
   "source": [
    "random_values('storage_ram')"
   ]
  },
  {
   "cell_type": "code",
   "execution_count": 20,
   "metadata": {},
   "outputs": [
    {
     "data": {
      "text/html": [
       "<div>\n",
       "<style scoped>\n",
       "    .dataframe tbody tr th:only-of-type {\n",
       "        vertical-align: middle;\n",
       "    }\n",
       "\n",
       "    .dataframe tbody tr th {\n",
       "        vertical-align: top;\n",
       "    }\n",
       "\n",
       "    .dataframe thead th {\n",
       "        text-align: right;\n",
       "    }\n",
       "</style>\n",
       "<table border=\"1\" class=\"dataframe\">\n",
       "  <thead>\n",
       "    <tr style=\"text-align: right;\">\n",
       "      <th></th>\n",
       "      <th>model_names</th>\n",
       "      <th>ratings</th>\n",
       "      <th>price</th>\n",
       "      <th>imgURL</th>\n",
       "      <th>storage_ram</th>\n",
       "      <th>os_processor</th>\n",
       "      <th>network</th>\n",
       "      <th>battery</th>\n",
       "    </tr>\n",
       "  </thead>\n",
       "  <tbody>\n",
       "    <tr>\n",
       "      <th>0</th>\n",
       "      <td>REDMI 10 Power (Sporty Orange, 128 GB)</td>\n",
       "      <td>4.2</td>\n",
       "      <td>₹13,500</td>\n",
       "      <td>https://rukminim2.flixcart.com/image/312/312/x...</td>\n",
       "      <td>Internal Storage128 GBRAM8 GBMemory Card Slot ...</td>\n",
       "      <td>Operating SystemAndroid 13Processor CoreOcta C...</td>\n",
       "      <td>Network Type4G VOLTESupported Networks4G LTE</td>\n",
       "      <td>Battery Capacity6000 mAh</td>\n",
       "    </tr>\n",
       "    <tr>\n",
       "      <th>1</th>\n",
       "      <td>REDMI 10 Power (Power Black, 128 GB)</td>\n",
       "      <td>4.2</td>\n",
       "      <td>₹12,840</td>\n",
       "      <td>https://rukminim2.flixcart.com/image/312/312/x...</td>\n",
       "      <td>Internal Storage128 GBRAM8 GBMemory Card Slot ...</td>\n",
       "      <td>Operating SystemAndroid 13Processor CoreOcta C...</td>\n",
       "      <td>Network Type4G VOLTESupported Networks4G VoLTE</td>\n",
       "      <td>Battery Capacity6000 mAh</td>\n",
       "    </tr>\n",
       "    <tr>\n",
       "      <th>2</th>\n",
       "      <td>Redmi 9A Sport (Metallic Blue, 32 GB)</td>\n",
       "      <td>4.1</td>\n",
       "      <td>₹7,520</td>\n",
       "      <td>https://rukminim2.flixcart.com/image/312/312/x...</td>\n",
       "      <td>Internal Storage32 GBRAM2 GBMemory Card Slot T...</td>\n",
       "      <td>Operating SystemAndroid Q 10Processor CoreOcta...</td>\n",
       "      <td>Network Type4G VOLTE, 4GSupported Networks4G LTE</td>\n",
       "      <td>Battery Capacity5000 mAh</td>\n",
       "    </tr>\n",
       "    <tr>\n",
       "      <th>3</th>\n",
       "      <td>Redmi 9A Sport (Coral Green, 32 GB)</td>\n",
       "      <td>4.2</td>\n",
       "      <td>₹8,450</td>\n",
       "      <td>https://rukminim2.flixcart.com/image/312/312/x...</td>\n",
       "      <td>Internal Storage32 GBRAM3 GBMemory Card Slot T...</td>\n",
       "      <td>Operating SystemAndroid Q 10Processor CoreOcta...</td>\n",
       "      <td>Network Type4G VOLTE, 4GSupported Networks4G V...</td>\n",
       "      <td>Battery Capacity5000 mAh</td>\n",
       "    </tr>\n",
       "    <tr>\n",
       "      <th>4</th>\n",
       "      <td>Xiaomi 11Lite NE (Vinyl Black, 128 GB)</td>\n",
       "      <td>4.2</td>\n",
       "      <td>₹21,644</td>\n",
       "      <td>https://rukminim2.flixcart.com/image/312/312/x...</td>\n",
       "      <td>Internal Storage128 GBRAM6 GBExpandable Storag...</td>\n",
       "      <td>Operating SystemAndroid 11Processor TypeQualco...</td>\n",
       "      <td>Network Type5G, 4G VOLTESupported Networks5G, ...</td>\n",
       "      <td>Battery Capacity4250 mAhBattery TypeLi-Po</td>\n",
       "    </tr>\n",
       "    <tr>\n",
       "      <th>...</th>\n",
       "      <td>...</td>\n",
       "      <td>...</td>\n",
       "      <td>...</td>\n",
       "      <td>...</td>\n",
       "      <td>...</td>\n",
       "      <td>...</td>\n",
       "      <td>...</td>\n",
       "      <td>...</td>\n",
       "    </tr>\n",
       "    <tr>\n",
       "      <th>496</th>\n",
       "      <td>Xiaomi 11i 5G (Camo Green, 128 GB)</td>\n",
       "      <td>4.5</td>\n",
       "      <td>₹26,999</td>\n",
       "      <td>https://rukminim2.flixcart.com/image/312/312/k...</td>\n",
       "      <td>Internal Storage32 GBRAM3 GBExpandable Storage...</td>\n",
       "      <td>Operating SystemAndroid Lollipop 5.1Processor ...</td>\n",
       "      <td>Network Type3G, 4GSupported NetworksGSM, 4G LT...</td>\n",
       "      <td>Battery Capacity4050 mAhBattery TypeLi-Polymer</td>\n",
       "    </tr>\n",
       "    <tr>\n",
       "      <th>497</th>\n",
       "      <td>Redmi Note 3 (Gold, 32 GB)</td>\n",
       "      <td>4.1</td>\n",
       "      <td>₹8,999</td>\n",
       "      <td>https://rukminim2.flixcart.com/image/312/312/m...</td>\n",
       "      <td>Internal Storage32 GBRAM3 GBMemory Card Slot T...</td>\n",
       "      <td>Operating SystemAndroid Pie 9Processor CoreOct...</td>\n",
       "      <td>Network Type4G VOLTESupported Networks4G LTEBl...</td>\n",
       "      <td>Battery Capacity4000 mAhBattery Typelithium-ion</td>\n",
       "    </tr>\n",
       "    <tr>\n",
       "      <th>498</th>\n",
       "      <td>Redmi Note 8 (Moonlight White, 32 GB)</td>\n",
       "      <td>4.3</td>\n",
       "      <td>₹11,990</td>\n",
       "      <td>https://rukminim2.flixcart.com/image/312/312/k...</td>\n",
       "      <td>Internal Storage128 GBRAM6 GB</td>\n",
       "      <td>Operating SystemAndroid Nougat 11Processor Cor...</td>\n",
       "      <td>Network Type4G VOLTE, 5GSupported Networks4G V...</td>\n",
       "      <td>Battery Capacity4520 mAh</td>\n",
       "    </tr>\n",
       "    <tr>\n",
       "      <th>499</th>\n",
       "      <td>MI 11X 5G (CELESTIAL SILVER, 128 GB)</td>\n",
       "      <td>4.3</td>\n",
       "      <td>₹24,999</td>\n",
       "      <td>https://rukminim2.flixcart.com/image/312/312/k...</td>\n",
       "      <td>Internal Storage64 GBRAM4 GBExpandable Storage...</td>\n",
       "      <td>Operating SystemAndroid Nougat 7.1.2Processor ...</td>\n",
       "      <td>Network Type3G, 4G VOLTE, 4GSupported Networks...</td>\n",
       "      <td>Battery Capacity4000 mAh</td>\n",
       "    </tr>\n",
       "    <tr>\n",
       "      <th>500</th>\n",
       "      <td>Redmi Note 5 Pro (Red, 64 GB)</td>\n",
       "      <td>4.1</td>\n",
       "      <td>₹12,500</td>\n",
       "      <td>https://rukminim2.flixcart.com/image/312/312/j...</td>\n",
       "      <td>Internal Storage64 GBRAM4 GBExpandable Storage...</td>\n",
       "      <td>Operating SystemAndroid Nougat 7.1.2Processor ...</td>\n",
       "      <td>Network Type3G, 4G, 2GSupported NetworksGSM, W...</td>\n",
       "      <td>Battery Capacity3080 mAh</td>\n",
       "    </tr>\n",
       "  </tbody>\n",
       "</table>\n",
       "<p>501 rows × 8 columns</p>\n",
       "</div>"
      ],
      "text/plain": [
       "                                model_names  ratings    price   \n",
       "0    REDMI 10 Power (Sporty Orange, 128 GB)      4.2  ₹13,500  \\\n",
       "1      REDMI 10 Power (Power Black, 128 GB)      4.2  ₹12,840   \n",
       "2     Redmi 9A Sport (Metallic Blue, 32 GB)      4.1   ₹7,520   \n",
       "3       Redmi 9A Sport (Coral Green, 32 GB)      4.2   ₹8,450   \n",
       "4    Xiaomi 11Lite NE (Vinyl Black, 128 GB)      4.2  ₹21,644   \n",
       "..                                      ...      ...      ...   \n",
       "496      Xiaomi 11i 5G (Camo Green, 128 GB)      4.5  ₹26,999   \n",
       "497              Redmi Note 3 (Gold, 32 GB)      4.1   ₹8,999   \n",
       "498   Redmi Note 8 (Moonlight White, 32 GB)      4.3  ₹11,990   \n",
       "499    MI 11X 5G (CELESTIAL SILVER, 128 GB)      4.3  ₹24,999   \n",
       "500           Redmi Note 5 Pro (Red, 64 GB)      4.1  ₹12,500   \n",
       "\n",
       "                                                imgURL   \n",
       "0    https://rukminim2.flixcart.com/image/312/312/x...  \\\n",
       "1    https://rukminim2.flixcart.com/image/312/312/x...   \n",
       "2    https://rukminim2.flixcart.com/image/312/312/x...   \n",
       "3    https://rukminim2.flixcart.com/image/312/312/x...   \n",
       "4    https://rukminim2.flixcart.com/image/312/312/x...   \n",
       "..                                                 ...   \n",
       "496  https://rukminim2.flixcart.com/image/312/312/k...   \n",
       "497  https://rukminim2.flixcart.com/image/312/312/m...   \n",
       "498  https://rukminim2.flixcart.com/image/312/312/k...   \n",
       "499  https://rukminim2.flixcart.com/image/312/312/k...   \n",
       "500  https://rukminim2.flixcart.com/image/312/312/j...   \n",
       "\n",
       "                                           storage_ram   \n",
       "0    Internal Storage128 GBRAM8 GBMemory Card Slot ...  \\\n",
       "1    Internal Storage128 GBRAM8 GBMemory Card Slot ...   \n",
       "2    Internal Storage32 GBRAM2 GBMemory Card Slot T...   \n",
       "3    Internal Storage32 GBRAM3 GBMemory Card Slot T...   \n",
       "4    Internal Storage128 GBRAM6 GBExpandable Storag...   \n",
       "..                                                 ...   \n",
       "496  Internal Storage32 GBRAM3 GBExpandable Storage...   \n",
       "497  Internal Storage32 GBRAM3 GBMemory Card Slot T...   \n",
       "498                      Internal Storage128 GBRAM6 GB   \n",
       "499  Internal Storage64 GBRAM4 GBExpandable Storage...   \n",
       "500  Internal Storage64 GBRAM4 GBExpandable Storage...   \n",
       "\n",
       "                                          os_processor   \n",
       "0    Operating SystemAndroid 13Processor CoreOcta C...  \\\n",
       "1    Operating SystemAndroid 13Processor CoreOcta C...   \n",
       "2    Operating SystemAndroid Q 10Processor CoreOcta...   \n",
       "3    Operating SystemAndroid Q 10Processor CoreOcta...   \n",
       "4    Operating SystemAndroid 11Processor TypeQualco...   \n",
       "..                                                 ...   \n",
       "496  Operating SystemAndroid Lollipop 5.1Processor ...   \n",
       "497  Operating SystemAndroid Pie 9Processor CoreOct...   \n",
       "498  Operating SystemAndroid Nougat 11Processor Cor...   \n",
       "499  Operating SystemAndroid Nougat 7.1.2Processor ...   \n",
       "500  Operating SystemAndroid Nougat 7.1.2Processor ...   \n",
       "\n",
       "                                               network   \n",
       "0         Network Type4G VOLTESupported Networks4G LTE  \\\n",
       "1       Network Type4G VOLTESupported Networks4G VoLTE   \n",
       "2     Network Type4G VOLTE, 4GSupported Networks4G LTE   \n",
       "3    Network Type4G VOLTE, 4GSupported Networks4G V...   \n",
       "4    Network Type5G, 4G VOLTESupported Networks5G, ...   \n",
       "..                                                 ...   \n",
       "496  Network Type3G, 4GSupported NetworksGSM, 4G LT...   \n",
       "497  Network Type4G VOLTESupported Networks4G LTEBl...   \n",
       "498  Network Type4G VOLTE, 5GSupported Networks4G V...   \n",
       "499  Network Type3G, 4G VOLTE, 4GSupported Networks...   \n",
       "500  Network Type3G, 4G, 2GSupported NetworksGSM, W...   \n",
       "\n",
       "                                             battery  \n",
       "0                           Battery Capacity6000 mAh  \n",
       "1                           Battery Capacity6000 mAh  \n",
       "2                           Battery Capacity5000 mAh  \n",
       "3                           Battery Capacity5000 mAh  \n",
       "4          Battery Capacity4250 mAhBattery TypeLi-Po  \n",
       "..                                               ...  \n",
       "496   Battery Capacity4050 mAhBattery TypeLi-Polymer  \n",
       "497  Battery Capacity4000 mAhBattery Typelithium-ion  \n",
       "498                         Battery Capacity4520 mAh  \n",
       "499                         Battery Capacity4000 mAh  \n",
       "500                         Battery Capacity3080 mAh  \n",
       "\n",
       "[501 rows x 8 columns]"
      ]
     },
     "execution_count": 20,
     "metadata": {},
     "output_type": "execute_result"
    }
   ],
   "source": [
    "df"
   ]
  }
 ],
 "metadata": {
  "kernelspec": {
   "display_name": "Python 3",
   "language": "python",
   "name": "python3"
  },
  "language_info": {
   "codemirror_mode": {
    "name": "ipython",
    "version": 3
   },
   "file_extension": ".py",
   "mimetype": "text/x-python",
   "name": "python",
   "nbconvert_exporter": "python",
   "pygments_lexer": "ipython3",
   "version": "3.11.3"
  },
  "orig_nbformat": 4
 },
 "nbformat": 4,
 "nbformat_minor": 2
}
